{
 "cells": [
  {
   "cell_type": "code",
   "execution_count": 7,
   "metadata": {},
   "outputs": [],
   "source": [
    "library(tidyverse)\n",
    "library(magrittr)"
   ]
  },
  {
   "cell_type": "markdown",
   "metadata": {},
   "source": [
    "# Pre-processing"
   ]
  },
  {
   "cell_type": "markdown",
   "metadata": {},
   "source": [
    "This example uses the [population data](http://www.abs.gov.au/AUSSTATS/subscriber.nsf/log?openagent&32180ds0002_2017-18.xls&3218.0&Data%20Cubes&8BA68C878E440190CA2583C9000DF24E&0&2017-18&27.03.2019&Latest), which is in Excel format with gaps in the rows and columns, not to mention several rows of headers, some of which are merged."
   ]
  },
  {
   "cell_type": "markdown",
   "metadata": {},
   "source": [
    "![Population](/Misc/pre_process_abs_data.png)"
   ]
  },
  {
   "cell_type": "markdown",
   "metadata": {},
   "source": [
    "The population data used in this example takes out the blanks, removes the extra header rows and makes some changes to the names of the headers. The data itself starts from cell `A10`."
   ]
  },
  {
   "cell_type": "code",
   "execution_count": 67,
   "metadata": {},
   "outputs": [
    {
     "data": {
      "text/html": [
       "'C:/Users/Mactuary/OneDrive - UTS/36103/AT2/Data/Population/pop_2017-18_nsw.csv'"
      ],
      "text/latex": [
       "'C:/Users/Mactuary/OneDrive - UTS/36103/AT2/Data/Population/pop\\_2017-18\\_nsw.csv'"
      ],
      "text/markdown": [
       "'C:/Users/Mactuary/OneDrive - UTS/36103/AT2/Data/Population/pop_2017-18_nsw.csv'"
      ],
      "text/plain": [
       "[1] \"C:/Users/Mactuary/OneDrive - UTS/36103/AT2/Data/Population/pop_2017-18_nsw.csv\""
      ]
     },
     "metadata": {},
     "output_type": "display_data"
    },
    {
     "data": {
      "text/html": [
       "'C:/Users/Mactuary/OneDrive - UTS/36103/AT2/Output/final_stop_coords_df.csv'"
      ],
      "text/latex": [
       "'C:/Users/Mactuary/OneDrive - UTS/36103/AT2/Output/final\\_stop\\_coords\\_df.csv'"
      ],
      "text/markdown": [
       "'C:/Users/Mactuary/OneDrive - UTS/36103/AT2/Output/final_stop_coords_df.csv'"
      ],
      "text/plain": [
       "[1] \"C:/Users/Mactuary/OneDrive - UTS/36103/AT2/Output/final_stop_coords_df.csv\""
      ]
     },
     "metadata": {},
     "output_type": "display_data"
    }
   ],
   "source": [
    "pop_path <- paste(getwd(), \"Data\", \"Population\", \"pop_2017-18_nsw.csv\", sep = \"/\")\n",
    "pop_path\n",
    "stop_coords_path <- paste(getwd(), \"Output\", \"final_stop_coords_df.csv\", sep = \"/\")\n",
    "stop_coords_path"
   ]
  },
  {
   "cell_type": "code",
   "execution_count": 68,
   "metadata": {},
   "outputs": [
    {
     "name": "stderr",
     "output_type": "stream",
     "text": [
      "Parsed with column specification:\n",
      "cols(\n",
      "  `LGA code` = \u001b[32mcol_double()\u001b[39m,\n",
      "  `Local Government Area` = \u001b[31mcol_character()\u001b[39m,\n",
      "  `2017` = \u001b[32mcol_double()\u001b[39m,\n",
      "  `2018` = \u001b[32mcol_double()\u001b[39m,\n",
      "  `2017-2018_change` = \u001b[32mcol_double()\u001b[39m,\n",
      "  `2017-2018_change_per` = \u001b[32mcol_double()\u001b[39m,\n",
      "  `Natural increase` = \u001b[32mcol_double()\u001b[39m,\n",
      "  `Net internal migration` = \u001b[32mcol_double()\u001b[39m,\n",
      "  `Net overseas migration` = \u001b[32mcol_double()\u001b[39m,\n",
      "  Area = \u001b[32mcol_double()\u001b[39m,\n",
      "  Density = \u001b[32mcol_double()\u001b[39m\n",
      ")\n"
     ]
    },
    {
     "name": "stdout",
     "output_type": "stream",
     "text": [
      "Observations: 129\n",
      "Variables: 11\n",
      "$ `LGA code`               \u001b[3m\u001b[90m<dbl>\u001b[39m\u001b[23m 10050, 10130, 10250, 10300, 10470, 10500, ...\n",
      "$ `Local Government Area`  \u001b[3m\u001b[90m<chr>\u001b[39m\u001b[23m \"Albury (C)\", \"Armidale Regional (A)\", \"Ba...\n",
      "$ `2017`                   \u001b[3m\u001b[90m<dbl>\u001b[39m\u001b[23m 52989, 30617, 43480, 2343, 42806, 170266, ...\n",
      "$ `2018`                   \u001b[3m\u001b[90m<dbl>\u001b[39m\u001b[23m 53767, 30707, 44208, 2340, 43206, 174378, ...\n",
      "$ `2017-2018_change`       \u001b[3m\u001b[90m<dbl>\u001b[39m\u001b[23m 778, 90, 728, -3, 400, 4112, 231, 12, 40, ...\n",
      "$ `2017-2018_change_per`   \u001b[3m\u001b[90m<dbl>\u001b[39m\u001b[23m 1.5, 0.3, 1.7, -0.1, 0.9, 2.4, 0.7, 0.1, 0...\n",
      "$ `Natural increase`       \u001b[3m\u001b[90m<dbl>\u001b[39m\u001b[23m 288, 117, -44, 13, 198, 1358, -69, -18, 5,...\n",
      "$ `Net internal migration` \u001b[3m\u001b[90m<dbl>\u001b[39m\u001b[23m 218, -374, 584, -22, 42, -1842, 222, -10, ...\n",
      "$ `Net overseas migration` \u001b[3m\u001b[90m<dbl>\u001b[39m\u001b[23m 272, 347, 188, 6, 160, 4596, 78, 40, 36, 4...\n",
      "$ Area                     \u001b[3m\u001b[90m<dbl>\u001b[39m\u001b[23m 305.9, 8620.7, 484.9, 21690.7, 3817.9, 49....\n",
      "$ Density                  \u001b[3m\u001b[90m<dbl>\u001b[39m\u001b[23m 175.7, 3.6, 91.2, 0.1, 11.3, 3495.2, 5.5, ...\n"
     ]
    }
   ],
   "source": [
    "pop_df <- read_csv(pop_path)\n",
    "glimpse(pop_df)"
   ]
  },
  {
   "cell_type": "code",
   "execution_count": 16,
   "metadata": {},
   "outputs": [
    {
     "name": "stderr",
     "output_type": "stream",
     "text": [
      "Warning message:\n",
      "\"Missing column names filled in: 'X1' [1]\"Parsed with column specification:\n",
      "cols(\n",
      "  X1 = \u001b[32mcol_double()\u001b[39m,\n",
      "  stop_id = \u001b[31mcol_character()\u001b[39m,\n",
      "  stop_lon = \u001b[32mcol_double()\u001b[39m,\n",
      "  stop_lat = \u001b[32mcol_double()\u001b[39m,\n",
      "  lga_number = \u001b[32mcol_double()\u001b[39m,\n",
      "  total_lga = \u001b[32mcol_double()\u001b[39m,\n",
      "  LG_PLY_PID = \u001b[32mcol_double()\u001b[39m,\n",
      "  DT_CREATE = \u001b[34mcol_date(format = \"\")\u001b[39m,\n",
      "  DT_RETIRE = \u001b[33mcol_logical()\u001b[39m,\n",
      "  LGA_PID = \u001b[31mcol_character()\u001b[39m,\n",
      "  NSW_LGA_sh = \u001b[34mcol_date(format = \"\")\u001b[39m,\n",
      "  NSW_LGA__1 = \u001b[33mcol_logical()\u001b[39m,\n",
      "  NSW_LGA__2 = \u001b[31mcol_character()\u001b[39m,\n",
      "  NSW_LGA__3 = \u001b[31mcol_character()\u001b[39m,\n",
      "  NSW_LGA__4 = \u001b[33mcol_logical()\u001b[39m,\n",
      "  NSW_LGA__5 = \u001b[32mcol_double()\u001b[39m,\n",
      "  route_type = \u001b[32mcol_double()\u001b[39m,\n",
      "  num_service = \u001b[32mcol_double()\u001b[39m\n",
      ")\n"
     ]
    },
    {
     "name": "stdout",
     "output_type": "stream",
     "text": [
      "Observations: 70,869\n",
      "Variables: 18\n",
      "$ X1          \u001b[3m\u001b[90m<dbl>\u001b[39m\u001b[23m 1, 2, 3, 4, 5, 6, 7, 8, 9, 10, 11, 12, 13, 14, 15, 16, ...\n",
      "$ stop_id     \u001b[3m\u001b[90m<chr>\u001b[39m\u001b[23m \"228055\", \"228055\", \"228054\", \"228054\", \"287146\", \"2280...\n",
      "$ stop_lon    \u001b[3m\u001b[90m<dbl>\u001b[39m\u001b[23m 151.6856, 151.6856, 151.6846, 151.6846, 148.0150, 151.6...\n",
      "$ stop_lat    \u001b[3m\u001b[90m<dbl>\u001b[39m\u001b[23m -33.00361, -33.00361, -33.00619, -33.00619, -33.39237, ...\n",
      "$ lga_number  \u001b[3m\u001b[90m<dbl>\u001b[39m\u001b[23m 35, 35, 35, 35, 28, 35, 35, 35, 35, 28, 35, 35, 35, 35,...\n",
      "$ total_lga   \u001b[3m\u001b[90m<dbl>\u001b[39m\u001b[23m 1, 1, 1, 1, 1, 1, 1, 1, 1, 1, 1, 1, 1, 1, 1, 1, 1, 1, 1...\n",
      "$ LG_PLY_PID  \u001b[3m\u001b[90m<dbl>\u001b[39m\u001b[23m 2958, 2958, 2958, 2958, 2975, 2958, 2958, 2958, 2958, 2...\n",
      "$ DT_CREATE   \u001b[3m\u001b[90m<date>\u001b[39m\u001b[23m 2017-09-12, 2017-09-12, 2017-09-12, 2017-09-12, 2017-0...\n",
      "$ DT_RETIRE   \u001b[3m\u001b[90m<lgl>\u001b[39m\u001b[23m NA, NA, NA, NA, NA, NA, NA, NA, NA, NA, NA, NA, NA, NA,...\n",
      "$ LGA_PID     \u001b[3m\u001b[90m<chr>\u001b[39m\u001b[23m \"NSW206\", \"NSW206\", \"NSW206\", \"NSW206\", \"NSW265\", \"NSW2...\n",
      "$ NSW_LGA_sh  \u001b[3m\u001b[90m<date>\u001b[39m\u001b[23m 2011-11-29, 2011-11-29, 2011-11-29, 2011-11-29, 2011-1...\n",
      "$ NSW_LGA__1  \u001b[3m\u001b[90m<lgl>\u001b[39m\u001b[23m NA, NA, NA, NA, NA, NA, NA, NA, NA, NA, NA, NA, NA, NA,...\n",
      "$ NSW_LGA__2  \u001b[3m\u001b[90m<chr>\u001b[39m\u001b[23m \"LAKE MACQUARIE CITY COUNCIL\", \"LAKE MACQUARIE CITY COU...\n",
      "$ NSW_LGA__3  \u001b[3m\u001b[90m<chr>\u001b[39m\u001b[23m \"LAKE MACQUARIE\", \"LAKE MACQUARIE\", \"LAKE MACQUARIE\", \"...\n",
      "$ NSW_LGA__4  \u001b[3m\u001b[90m<lgl>\u001b[39m\u001b[23m NA, NA, NA, NA, NA, NA, NA, NA, NA, NA, NA, NA, NA, NA,...\n",
      "$ NSW_LGA__5  \u001b[3m\u001b[90m<dbl>\u001b[39m\u001b[23m 1, 1, 1, 1, 1, 1, 1, 1, 1, 1, 1, 1, 1, 1, 1, 1, 1, 1, 1...\n",
      "$ route_type  \u001b[3m\u001b[90m<dbl>\u001b[39m\u001b[23m 700, 712, 700, 712, 700, 700, 712, 700, 712, 700, 700, ...\n",
      "$ num_service \u001b[3m\u001b[90m<dbl>\u001b[39m\u001b[23m 3, 4, 3, 5, 3, 92, 9, 3, 7, 3, 3, 6, 3, 6, 37, 7, 3, 3,...\n"
     ]
    }
   ],
   "source": [
    "stop_coords_df <- read_csv(stop_coords_path)\n",
    "glimpse(stop_coords_df)"
   ]
  },
  {
   "cell_type": "markdown",
   "metadata": {},
   "source": [
    "# Removing the Parentheses"
   ]
  },
  {
   "cell_type": "markdown",
   "metadata": {},
   "source": [
    "The `Local Government Area` column contains the LGA name and the type, e.g. `\"Albury (C)\"`. Other data sets don't have the type. In order to join by the `Local Government Area`, it's necessary to remove the type information."
   ]
  },
  {
   "cell_type": "code",
   "execution_count": 70,
   "metadata": {},
   "outputs": [
    {
     "data": {
      "text/html": [
       "<table>\n",
       "<thead><tr><th scope=col>Local Government Area</th></tr></thead>\n",
       "<tbody>\n",
       "\t<tr><td>Albury (C)           </td></tr>\n",
       "\t<tr><td>Armidale Regional (A)</td></tr>\n",
       "\t<tr><td>Ballina (A)          </td></tr>\n",
       "\t<tr><td>Balranald (A)        </td></tr>\n",
       "\t<tr><td>Bathurst Regional (A)</td></tr>\n",
       "\t<tr><td>Bayside (A)          </td></tr>\n",
       "</tbody>\n",
       "</table>\n"
      ],
      "text/latex": [
       "\\begin{tabular}{r|l}\n",
       " Local Government Area\\\\\n",
       "\\hline\n",
       "\t Albury (C)           \\\\\n",
       "\t Armidale Regional (A)\\\\\n",
       "\t Ballina (A)          \\\\\n",
       "\t Balranald (A)        \\\\\n",
       "\t Bathurst Regional (A)\\\\\n",
       "\t Bayside (A)          \\\\\n",
       "\\end{tabular}\n"
      ],
      "text/markdown": [
       "\n",
       "| Local Government Area |\n",
       "|---|\n",
       "| Albury (C)            |\n",
       "| Armidale Regional (A) |\n",
       "| Ballina (A)           |\n",
       "| Balranald (A)         |\n",
       "| Bathurst Regional (A) |\n",
       "| Bayside (A)           |\n",
       "\n"
      ],
      "text/plain": [
       "  Local Government Area\n",
       "1 Albury (C)           \n",
       "2 Armidale Regional (A)\n",
       "3 Ballina (A)          \n",
       "4 Balranald (A)        \n",
       "5 Bathurst Regional (A)\n",
       "6 Bayside (A)          "
      ]
     },
     "metadata": {},
     "output_type": "display_data"
    }
   ],
   "source": [
    "pop_df %>%\n",
    "    select(`Local Government Area`) %>%\n",
    "    head"
   ]
  },
  {
   "cell_type": "markdown",
   "metadata": {},
   "source": [
    "Using `gsub` and regex to remove any instances of parentheses and their contents.\n",
    "The lga names are also converted to lower case for matching."
   ]
  },
  {
   "cell_type": "code",
   "execution_count": 71,
   "metadata": {},
   "outputs": [
    {
     "name": "stdout",
     "output_type": "stream",
     "text": [
      "Observations: 129\n",
      "Variables: 12\n",
      "$ `LGA code`               \u001b[3m\u001b[90m<dbl>\u001b[39m\u001b[23m 10050, 10130, 10250, 10300, 10470, 10500, ...\n",
      "$ `Local Government Area`  \u001b[3m\u001b[90m<chr>\u001b[39m\u001b[23m \"Albury (C)\", \"Armidale Regional (A)\", \"Ba...\n",
      "$ `2017`                   \u001b[3m\u001b[90m<dbl>\u001b[39m\u001b[23m 52989, 30617, 43480, 2343, 42806, 170266, ...\n",
      "$ `2018`                   \u001b[3m\u001b[90m<dbl>\u001b[39m\u001b[23m 53767, 30707, 44208, 2340, 43206, 174378, ...\n",
      "$ `2017-2018_change`       \u001b[3m\u001b[90m<dbl>\u001b[39m\u001b[23m 778, 90, 728, -3, 400, 4112, 231, 12, 40, ...\n",
      "$ `2017-2018_change_per`   \u001b[3m\u001b[90m<dbl>\u001b[39m\u001b[23m 1.5, 0.3, 1.7, -0.1, 0.9, 2.4, 0.7, 0.1, 0...\n",
      "$ `Natural increase`       \u001b[3m\u001b[90m<dbl>\u001b[39m\u001b[23m 288, 117, -44, 13, 198, 1358, -69, -18, 5,...\n",
      "$ `Net internal migration` \u001b[3m\u001b[90m<dbl>\u001b[39m\u001b[23m 218, -374, 584, -22, 42, -1842, 222, -10, ...\n",
      "$ `Net overseas migration` \u001b[3m\u001b[90m<dbl>\u001b[39m\u001b[23m 272, 347, 188, 6, 160, 4596, 78, 40, 36, 4...\n",
      "$ Area                     \u001b[3m\u001b[90m<dbl>\u001b[39m\u001b[23m 305.9, 8620.7, 484.9, 21690.7, 3817.9, 49....\n",
      "$ Density                  \u001b[3m\u001b[90m<dbl>\u001b[39m\u001b[23m 175.7, 3.6, 91.2, 0.1, 11.3, 3495.2, 5.5, ...\n",
      "$ lga                      \u001b[3m\u001b[90m<chr>\u001b[39m\u001b[23m \"albury\", \"armidale regional\", \"ballina\", ...\n"
     ]
    },
    {
     "data": {
      "text/html": [
       "<table>\n",
       "<thead><tr><th scope=col>Local Government Area</th><th scope=col>lga</th></tr></thead>\n",
       "<tbody>\n",
       "\t<tr><td>Albury (C)           </td><td>albury               </td></tr>\n",
       "\t<tr><td>Armidale Regional (A)</td><td>armidale regional    </td></tr>\n",
       "\t<tr><td>Ballina (A)          </td><td>ballina              </td></tr>\n",
       "\t<tr><td>Balranald (A)        </td><td>balranald            </td></tr>\n",
       "\t<tr><td>Bathurst Regional (A)</td><td>bathurst regional    </td></tr>\n",
       "\t<tr><td>Bayside (A)          </td><td>bayside              </td></tr>\n",
       "</tbody>\n",
       "</table>\n"
      ],
      "text/latex": [
       "\\begin{tabular}{r|ll}\n",
       " Local Government Area & lga\\\\\n",
       "\\hline\n",
       "\t Albury (C)            & albury               \\\\\n",
       "\t Armidale Regional (A) & armidale regional    \\\\\n",
       "\t Ballina (A)           & ballina              \\\\\n",
       "\t Balranald (A)         & balranald            \\\\\n",
       "\t Bathurst Regional (A) & bathurst regional    \\\\\n",
       "\t Bayside (A)           & bayside              \\\\\n",
       "\\end{tabular}\n"
      ],
      "text/markdown": [
       "\n",
       "| Local Government Area | lga |\n",
       "|---|---|\n",
       "| Albury (C)            | albury                |\n",
       "| Armidale Regional (A) | armidale regional     |\n",
       "| Ballina (A)           | ballina               |\n",
       "| Balranald (A)         | balranald             |\n",
       "| Bathurst Regional (A) | bathurst regional     |\n",
       "| Bayside (A)           | bayside               |\n",
       "\n"
      ],
      "text/plain": [
       "  Local Government Area lga              \n",
       "1 Albury (C)            albury           \n",
       "2 Armidale Regional (A) armidale regional\n",
       "3 Ballina (A)           ballina          \n",
       "4 Balranald (A)         balranald        \n",
       "5 Bathurst Regional (A) bathurst regional\n",
       "6 Bayside (A)           bayside          "
      ]
     },
     "metadata": {},
     "output_type": "display_data"
    }
   ],
   "source": [
    "pop_lga <- pop_df %>% \n",
    "    mutate(lga = gsub(\"\\\\s*\\\\([^\\\\)]+\\\\)\",\"\", `Local Government Area`)) %>%\n",
    "    mutate(lga = tolower(lga))\n",
    "glimpse(pop_lga)\n",
    "\n",
    "pop_lga %>%\n",
    "    select(`Local Government Area`, lga) %>%\n",
    "    head"
   ]
  },
  {
   "cell_type": "markdown",
   "metadata": {},
   "source": [
    "# Grouping the `stop_coords_df`"
   ]
  },
  {
   "cell_type": "markdown",
   "metadata": {},
   "source": [
    "Changing the `NSW_LGA__3` values to lower case for matching."
   ]
  },
  {
   "cell_type": "code",
   "execution_count": 56,
   "metadata": {},
   "outputs": [
    {
     "name": "stdout",
     "output_type": "stream",
     "text": [
      "Observations: 70,869\n",
      "Variables: 18\n",
      "$ X1          \u001b[3m\u001b[90m<dbl>\u001b[39m\u001b[23m 1, 2, 3, 4, 5, 6, 7, 8, 9, 10, 11, 12, 13, 14, 15, 16, ...\n",
      "$ stop_id     \u001b[3m\u001b[90m<chr>\u001b[39m\u001b[23m \"228055\", \"228055\", \"228054\", \"228054\", \"287146\", \"2280...\n",
      "$ stop_lon    \u001b[3m\u001b[90m<dbl>\u001b[39m\u001b[23m 151.6856, 151.6856, 151.6846, 151.6846, 148.0150, 151.6...\n",
      "$ stop_lat    \u001b[3m\u001b[90m<dbl>\u001b[39m\u001b[23m -33.00361, -33.00361, -33.00619, -33.00619, -33.39237, ...\n",
      "$ lga_number  \u001b[3m\u001b[90m<dbl>\u001b[39m\u001b[23m 35, 35, 35, 35, 28, 35, 35, 35, 35, 28, 35, 35, 35, 35,...\n",
      "$ total_lga   \u001b[3m\u001b[90m<dbl>\u001b[39m\u001b[23m 1, 1, 1, 1, 1, 1, 1, 1, 1, 1, 1, 1, 1, 1, 1, 1, 1, 1, 1...\n",
      "$ LG_PLY_PID  \u001b[3m\u001b[90m<dbl>\u001b[39m\u001b[23m 2958, 2958, 2958, 2958, 2975, 2958, 2958, 2958, 2958, 2...\n",
      "$ DT_CREATE   \u001b[3m\u001b[90m<date>\u001b[39m\u001b[23m 2017-09-12, 2017-09-12, 2017-09-12, 2017-09-12, 2017-0...\n",
      "$ DT_RETIRE   \u001b[3m\u001b[90m<lgl>\u001b[39m\u001b[23m NA, NA, NA, NA, NA, NA, NA, NA, NA, NA, NA, NA, NA, NA,...\n",
      "$ LGA_PID     \u001b[3m\u001b[90m<chr>\u001b[39m\u001b[23m \"NSW206\", \"NSW206\", \"NSW206\", \"NSW206\", \"NSW265\", \"NSW2...\n",
      "$ NSW_LGA_sh  \u001b[3m\u001b[90m<date>\u001b[39m\u001b[23m 2011-11-29, 2011-11-29, 2011-11-29, 2011-11-29, 2011-1...\n",
      "$ NSW_LGA__1  \u001b[3m\u001b[90m<lgl>\u001b[39m\u001b[23m NA, NA, NA, NA, NA, NA, NA, NA, NA, NA, NA, NA, NA, NA,...\n",
      "$ NSW_LGA__2  \u001b[3m\u001b[90m<chr>\u001b[39m\u001b[23m \"LAKE MACQUARIE CITY COUNCIL\", \"LAKE MACQUARIE CITY COU...\n",
      "$ NSW_LGA__3  \u001b[3m\u001b[90m<chr>\u001b[39m\u001b[23m \"lake macquarie\", \"lake macquarie\", \"lake macquarie\", \"...\n",
      "$ NSW_LGA__4  \u001b[3m\u001b[90m<lgl>\u001b[39m\u001b[23m NA, NA, NA, NA, NA, NA, NA, NA, NA, NA, NA, NA, NA, NA,...\n",
      "$ NSW_LGA__5  \u001b[3m\u001b[90m<dbl>\u001b[39m\u001b[23m 1, 1, 1, 1, 1, 1, 1, 1, 1, 1, 1, 1, 1, 1, 1, 1, 1, 1, 1...\n",
      "$ route_type  \u001b[3m\u001b[90m<dbl>\u001b[39m\u001b[23m 700, 712, 700, 712, 700, 700, 712, 700, 712, 700, 700, ...\n",
      "$ num_service \u001b[3m\u001b[90m<dbl>\u001b[39m\u001b[23m 3, 4, 3, 5, 3, 92, 9, 3, 7, 3, 3, 6, 3, 6, 37, 7, 3, 3,...\n"
     ]
    }
   ],
   "source": [
    "stop_coords_df %<>%\n",
    "    mutate(NSW_LGA__3 = tolower(NSW_LGA__3))\n",
    "glimpse(stop_coords_df)"
   ]
  },
  {
   "cell_type": "markdown",
   "metadata": {},
   "source": [
    "Grouping by `NSW_LGA__3` and `route_type` to aggregate (sum) over the `stop_id` while maintaining the information on the LGA and mode of transportation."
   ]
  },
  {
   "cell_type": "code",
   "execution_count": 58,
   "metadata": {},
   "outputs": [
    {
     "data": {
      "text/html": [
       "<table>\n",
       "<thead><tr><th scope=col>NSW_LGA__3</th><th scope=col>route_type</th><th scope=col>num_service</th></tr></thead>\n",
       "<tbody>\n",
       "\t<tr><td>albury           </td><td>106              </td><td> 131             </td></tr>\n",
       "\t<tr><td>albury           </td><td>204              </td><td>  14             </td></tr>\n",
       "\t<tr><td>albury           </td><td>700              </td><td>1624             </td></tr>\n",
       "\t<tr><td>armidale regional</td><td>106              </td><td>  62             </td></tr>\n",
       "\t<tr><td>armidale regional</td><td>204              </td><td>  10             </td></tr>\n",
       "\t<tr><td>armidale regional</td><td>700              </td><td> 113             </td></tr>\n",
       "</tbody>\n",
       "</table>\n"
      ],
      "text/latex": [
       "\\begin{tabular}{r|lll}\n",
       " NSW\\_LGA\\_\\_3 & route\\_type & num\\_service\\\\\n",
       "\\hline\n",
       "\t albury            & 106               &  131             \\\\\n",
       "\t albury            & 204               &   14             \\\\\n",
       "\t albury            & 700               & 1624             \\\\\n",
       "\t armidale regional & 106               &   62             \\\\\n",
       "\t armidale regional & 204               &   10             \\\\\n",
       "\t armidale regional & 700               &  113             \\\\\n",
       "\\end{tabular}\n"
      ],
      "text/markdown": [
       "\n",
       "| NSW_LGA__3 | route_type | num_service |\n",
       "|---|---|---|\n",
       "| albury            | 106               |  131              |\n",
       "| albury            | 204               |   14              |\n",
       "| albury            | 700               | 1624              |\n",
       "| armidale regional | 106               |   62              |\n",
       "| armidale regional | 204               |   10              |\n",
       "| armidale regional | 700               |  113              |\n",
       "\n"
      ],
      "text/plain": [
       "  NSW_LGA__3        route_type num_service\n",
       "1 albury            106         131       \n",
       "2 albury            204          14       \n",
       "3 albury            700        1624       \n",
       "4 armidale regional 106          62       \n",
       "5 armidale regional 204          10       \n",
       "6 armidale regional 700         113       "
      ]
     },
     "metadata": {},
     "output_type": "display_data"
    }
   ],
   "source": [
    "stop_coords_grouped <- stop_coords_df %>% \n",
    "    group_by(NSW_LGA__3, route_type) %>%\n",
    "    summarize(num_service = sum(num_service)) %>%\n",
    "    drop_na(NSW_LGA__3, route_type)\n",
    "head(stop_coords_grouped)"
   ]
  },
  {
   "cell_type": "markdown",
   "metadata": {},
   "source": [
    "# Merging the Data"
   ]
  },
  {
   "cell_type": "markdown",
   "metadata": {},
   "source": [
    "The join keys are `NSW_LGA__3` and `lga` for the `stop_coords_df` and `seifa_df` tables respectively."
   ]
  },
  {
   "cell_type": "code",
   "execution_count": 60,
   "metadata": {},
   "outputs": [
    {
     "data": {
      "text/html": [
       "<table>\n",
       "<thead><tr><th scope=col>X1</th><th scope=col>stop_id</th><th scope=col>stop_lon</th><th scope=col>stop_lat</th><th scope=col>lga_number</th><th scope=col>total_lga</th><th scope=col>LG_PLY_PID</th><th scope=col>DT_CREATE</th><th scope=col>DT_RETIRE</th><th scope=col>LGA_PID</th><th scope=col>NSW_LGA_sh</th><th scope=col>NSW_LGA__1</th><th scope=col>NSW_LGA__2</th><th scope=col>NSW_LGA__3</th><th scope=col>NSW_LGA__4</th><th scope=col>NSW_LGA__5</th><th scope=col>route_type</th><th scope=col>num_service</th></tr></thead>\n",
       "<tbody>\n",
       "\t<tr><td>1                          </td><td>228055                     </td><td>151.6856                   </td><td>-33.00361                  </td><td>35                         </td><td>1                          </td><td>2958                       </td><td>2017-09-12                 </td><td>NA                         </td><td>NSW206                     </td><td>2011-11-29                 </td><td>NA                         </td><td>LAKE MACQUARIE CITY COUNCIL</td><td>lake macquarie             </td><td>NA                         </td><td>1                          </td><td>700                        </td><td> 3                         </td></tr>\n",
       "\t<tr><td>2                          </td><td>228055                     </td><td>151.6856                   </td><td>-33.00361                  </td><td>35                         </td><td>1                          </td><td>2958                       </td><td>2017-09-12                 </td><td>NA                         </td><td>NSW206                     </td><td>2011-11-29                 </td><td>NA                         </td><td>LAKE MACQUARIE CITY COUNCIL</td><td>lake macquarie             </td><td>NA                         </td><td>1                          </td><td>712                        </td><td> 4                         </td></tr>\n",
       "\t<tr><td>3                          </td><td>228054                     </td><td>151.6846                   </td><td>-33.00619                  </td><td>35                         </td><td>1                          </td><td>2958                       </td><td>2017-09-12                 </td><td>NA                         </td><td>NSW206                     </td><td>2011-11-29                 </td><td>NA                         </td><td>LAKE MACQUARIE CITY COUNCIL</td><td>lake macquarie             </td><td>NA                         </td><td>1                          </td><td>700                        </td><td> 3                         </td></tr>\n",
       "\t<tr><td>4                          </td><td>228054                     </td><td>151.6846                   </td><td>-33.00619                  </td><td>35                         </td><td>1                          </td><td>2958                       </td><td>2017-09-12                 </td><td>NA                         </td><td>NSW206                     </td><td>2011-11-29                 </td><td>NA                         </td><td>LAKE MACQUARIE CITY COUNCIL</td><td>lake macquarie             </td><td>NA                         </td><td>1                          </td><td>712                        </td><td> 5                         </td></tr>\n",
       "\t<tr><td>5                          </td><td>287146                     </td><td>148.0150                   </td><td>-33.39237                  </td><td>28                         </td><td>1                          </td><td>2975                       </td><td>2017-09-12                 </td><td>NA                         </td><td>NSW265                     </td><td>2011-11-29                 </td><td>NA                         </td><td>FORBES SHIRE COUNCIL       </td><td>forbes                     </td><td>NA                         </td><td>1                          </td><td>700                        </td><td> 3                         </td></tr>\n",
       "\t<tr><td>6                          </td><td>228056                     </td><td>151.6855                   </td><td>-32.99985                  </td><td>35                         </td><td>1                          </td><td>2958                       </td><td>2017-09-12                 </td><td>NA                         </td><td>NSW206                     </td><td>2011-11-29                 </td><td>NA                         </td><td>LAKE MACQUARIE CITY COUNCIL</td><td>lake macquarie             </td><td>NA                         </td><td>1                          </td><td>700                        </td><td>92                         </td></tr>\n",
       "</tbody>\n",
       "</table>\n"
      ],
      "text/latex": [
       "\\begin{tabular}{r|llllllllllllllllll}\n",
       " X1 & stop\\_id & stop\\_lon & stop\\_lat & lga\\_number & total\\_lga & LG\\_PLY\\_PID & DT\\_CREATE & DT\\_RETIRE & LGA\\_PID & NSW\\_LGA\\_sh & NSW\\_LGA\\_\\_1 & NSW\\_LGA\\_\\_2 & NSW\\_LGA\\_\\_3 & NSW\\_LGA\\_\\_4 & NSW\\_LGA\\_\\_5 & route\\_type & num\\_service\\\\\n",
       "\\hline\n",
       "\t 1                           & 228055                      & 151.6856                    & -33.00361                   & 35                          & 1                           & 2958                        & 2017-09-12                  & NA                          & NSW206                      & 2011-11-29                  & NA                          & LAKE MACQUARIE CITY COUNCIL & lake macquarie              & NA                          & 1                           & 700                         &  3                         \\\\\n",
       "\t 2                           & 228055                      & 151.6856                    & -33.00361                   & 35                          & 1                           & 2958                        & 2017-09-12                  & NA                          & NSW206                      & 2011-11-29                  & NA                          & LAKE MACQUARIE CITY COUNCIL & lake macquarie              & NA                          & 1                           & 712                         &  4                         \\\\\n",
       "\t 3                           & 228054                      & 151.6846                    & -33.00619                   & 35                          & 1                           & 2958                        & 2017-09-12                  & NA                          & NSW206                      & 2011-11-29                  & NA                          & LAKE MACQUARIE CITY COUNCIL & lake macquarie              & NA                          & 1                           & 700                         &  3                         \\\\\n",
       "\t 4                           & 228054                      & 151.6846                    & -33.00619                   & 35                          & 1                           & 2958                        & 2017-09-12                  & NA                          & NSW206                      & 2011-11-29                  & NA                          & LAKE MACQUARIE CITY COUNCIL & lake macquarie              & NA                          & 1                           & 712                         &  5                         \\\\\n",
       "\t 5                           & 287146                      & 148.0150                    & -33.39237                   & 28                          & 1                           & 2975                        & 2017-09-12                  & NA                          & NSW265                      & 2011-11-29                  & NA                          & FORBES SHIRE COUNCIL        & forbes                      & NA                          & 1                           & 700                         &  3                         \\\\\n",
       "\t 6                           & 228056                      & 151.6855                    & -32.99985                   & 35                          & 1                           & 2958                        & 2017-09-12                  & NA                          & NSW206                      & 2011-11-29                  & NA                          & LAKE MACQUARIE CITY COUNCIL & lake macquarie              & NA                          & 1                           & 700                         & 92                         \\\\\n",
       "\\end{tabular}\n"
      ],
      "text/markdown": [
       "\n",
       "| X1 | stop_id | stop_lon | stop_lat | lga_number | total_lga | LG_PLY_PID | DT_CREATE | DT_RETIRE | LGA_PID | NSW_LGA_sh | NSW_LGA__1 | NSW_LGA__2 | NSW_LGA__3 | NSW_LGA__4 | NSW_LGA__5 | route_type | num_service |\n",
       "|---|---|---|---|---|---|---|---|---|---|---|---|---|---|---|---|---|---|\n",
       "| 1                           | 228055                      | 151.6856                    | -33.00361                   | 35                          | 1                           | 2958                        | 2017-09-12                  | NA                          | NSW206                      | 2011-11-29                  | NA                          | LAKE MACQUARIE CITY COUNCIL | lake macquarie              | NA                          | 1                           | 700                         |  3                          |\n",
       "| 2                           | 228055                      | 151.6856                    | -33.00361                   | 35                          | 1                           | 2958                        | 2017-09-12                  | NA                          | NSW206                      | 2011-11-29                  | NA                          | LAKE MACQUARIE CITY COUNCIL | lake macquarie              | NA                          | 1                           | 712                         |  4                          |\n",
       "| 3                           | 228054                      | 151.6846                    | -33.00619                   | 35                          | 1                           | 2958                        | 2017-09-12                  | NA                          | NSW206                      | 2011-11-29                  | NA                          | LAKE MACQUARIE CITY COUNCIL | lake macquarie              | NA                          | 1                           | 700                         |  3                          |\n",
       "| 4                           | 228054                      | 151.6846                    | -33.00619                   | 35                          | 1                           | 2958                        | 2017-09-12                  | NA                          | NSW206                      | 2011-11-29                  | NA                          | LAKE MACQUARIE CITY COUNCIL | lake macquarie              | NA                          | 1                           | 712                         |  5                          |\n",
       "| 5                           | 287146                      | 148.0150                    | -33.39237                   | 28                          | 1                           | 2975                        | 2017-09-12                  | NA                          | NSW265                      | 2011-11-29                  | NA                          | FORBES SHIRE COUNCIL        | forbes                      | NA                          | 1                           | 700                         |  3                          |\n",
       "| 6                           | 228056                      | 151.6855                    | -32.99985                   | 35                          | 1                           | 2958                        | 2017-09-12                  | NA                          | NSW206                      | 2011-11-29                  | NA                          | LAKE MACQUARIE CITY COUNCIL | lake macquarie              | NA                          | 1                           | 700                         | 92                          |\n",
       "\n"
      ],
      "text/plain": [
       "  X1 stop_id stop_lon stop_lat  lga_number total_lga LG_PLY_PID DT_CREATE \n",
       "1 1  228055  151.6856 -33.00361 35         1         2958       2017-09-12\n",
       "2 2  228055  151.6856 -33.00361 35         1         2958       2017-09-12\n",
       "3 3  228054  151.6846 -33.00619 35         1         2958       2017-09-12\n",
       "4 4  228054  151.6846 -33.00619 35         1         2958       2017-09-12\n",
       "5 5  287146  148.0150 -33.39237 28         1         2975       2017-09-12\n",
       "6 6  228056  151.6855 -32.99985 35         1         2958       2017-09-12\n",
       "  DT_RETIRE LGA_PID NSW_LGA_sh NSW_LGA__1 NSW_LGA__2                 \n",
       "1 NA        NSW206  2011-11-29 NA         LAKE MACQUARIE CITY COUNCIL\n",
       "2 NA        NSW206  2011-11-29 NA         LAKE MACQUARIE CITY COUNCIL\n",
       "3 NA        NSW206  2011-11-29 NA         LAKE MACQUARIE CITY COUNCIL\n",
       "4 NA        NSW206  2011-11-29 NA         LAKE MACQUARIE CITY COUNCIL\n",
       "5 NA        NSW265  2011-11-29 NA         FORBES SHIRE COUNCIL       \n",
       "6 NA        NSW206  2011-11-29 NA         LAKE MACQUARIE CITY COUNCIL\n",
       "  NSW_LGA__3     NSW_LGA__4 NSW_LGA__5 route_type num_service\n",
       "1 lake macquarie NA         1          700         3         \n",
       "2 lake macquarie NA         1          712         4         \n",
       "3 lake macquarie NA         1          700         3         \n",
       "4 lake macquarie NA         1          712         5         \n",
       "5 forbes         NA         1          700         3         \n",
       "6 lake macquarie NA         1          700        92         "
      ]
     },
     "metadata": {},
     "output_type": "display_data"
    }
   ],
   "source": [
    "head(stop_coords_df)"
   ]
  },
  {
   "cell_type": "code",
   "execution_count": 72,
   "metadata": {},
   "outputs": [
    {
     "data": {
      "text/html": [
       "<table>\n",
       "<thead><tr><th scope=col>NSW_LGA__3</th><th scope=col>route_type</th><th scope=col>num_service</th><th scope=col>LGA code</th><th scope=col>Local Government Area</th><th scope=col>2017</th><th scope=col>2018</th><th scope=col>2017-2018_change</th><th scope=col>2017-2018_change_per</th><th scope=col>Natural increase</th><th scope=col>Net internal migration</th><th scope=col>Net overseas migration</th><th scope=col>Area</th><th scope=col>Density</th></tr></thead>\n",
       "<tbody>\n",
       "\t<tr><td>albury               </td><td>106                  </td><td>  131                </td><td>10050                </td><td>Albury (C)           </td><td> 52989               </td><td> 53767               </td><td> 778                 </td><td> 1.5                 </td><td> 288                 </td><td>  218                </td><td> 272                 </td><td>  305.9              </td><td> 175.7               </td></tr>\n",
       "\t<tr><td>albury               </td><td>204                  </td><td>   14                </td><td>10050                </td><td>Albury (C)           </td><td> 52989               </td><td> 53767               </td><td> 778                 </td><td> 1.5                 </td><td> 288                 </td><td>  218                </td><td> 272                 </td><td>  305.9              </td><td> 175.7               </td></tr>\n",
       "\t<tr><td>albury               </td><td>700                  </td><td> 1624                </td><td>10050                </td><td>Albury (C)           </td><td> 52989               </td><td> 53767               </td><td> 778                 </td><td> 1.5                 </td><td> 288                 </td><td>  218                </td><td> 272                 </td><td>  305.9              </td><td> 175.7               </td></tr>\n",
       "\t<tr><td>armidale regional    </td><td>106                  </td><td>   62                </td><td>10130                </td><td>Armidale Regional (A)</td><td> 30617               </td><td> 30707               </td><td>  90                 </td><td> 0.3                 </td><td> 117                 </td><td> -374                </td><td> 347                 </td><td> 8620.7              </td><td>   3.6               </td></tr>\n",
       "\t<tr><td>armidale regional    </td><td>204                  </td><td>   10                </td><td>10130                </td><td>Armidale Regional (A)</td><td> 30617               </td><td> 30707               </td><td>  90                 </td><td> 0.3                 </td><td> 117                 </td><td> -374                </td><td> 347                 </td><td> 8620.7              </td><td>   3.6               </td></tr>\n",
       "\t<tr><td>armidale regional    </td><td>700                  </td><td>  113                </td><td>10130                </td><td>Armidale Regional (A)</td><td> 30617               </td><td> 30707               </td><td>  90                 </td><td> 0.3                 </td><td> 117                 </td><td> -374                </td><td> 347                 </td><td> 8620.7              </td><td>   3.6               </td></tr>\n",
       "\t<tr><td>ballina              </td><td>204                  </td><td>   18                </td><td>10250                </td><td>Ballina (A)          </td><td> 43480               </td><td> 44208               </td><td> 728                 </td><td> 1.7                 </td><td> -44                 </td><td>  584                </td><td> 188                 </td><td>  484.9              </td><td>  91.2               </td></tr>\n",
       "\t<tr><td>ballina              </td><td>700                  </td><td> 1335                </td><td>10250                </td><td>Ballina (A)          </td><td> 43480               </td><td> 44208               </td><td> 728                 </td><td> 1.7                 </td><td> -44                 </td><td>  584                </td><td> 188                 </td><td>  484.9              </td><td>  91.2               </td></tr>\n",
       "\t<tr><td>balranald            </td><td>204                  </td><td>    4                </td><td>10300                </td><td>Balranald (A)        </td><td>  2343               </td><td>  2340               </td><td>  -3                 </td><td>-0.1                 </td><td>  13                 </td><td>  -22                </td><td>   6                 </td><td>21690.7              </td><td>   0.1               </td></tr>\n",
       "\t<tr><td>bathurst regional    </td><td>  2                  </td><td>   49                </td><td>10470                </td><td>Bathurst Regional (A)</td><td> 42806               </td><td> 43206               </td><td> 400                 </td><td> 0.9                 </td><td> 198                 </td><td>   42                </td><td> 160                 </td><td> 3817.9              </td><td>  11.3               </td></tr>\n",
       "\t<tr><td>bathurst regional    </td><td>106                  </td><td>   68                </td><td>10470                </td><td>Bathurst Regional (A)</td><td> 42806               </td><td> 43206               </td><td> 400                 </td><td> 0.9                 </td><td> 198                 </td><td>   42                </td><td> 160                 </td><td> 3817.9              </td><td>  11.3               </td></tr>\n",
       "\t<tr><td>bathurst regional    </td><td>204                  </td><td>  372                </td><td>10470                </td><td>Bathurst Regional (A)</td><td> 42806               </td><td> 43206               </td><td> 400                 </td><td> 0.9                 </td><td> 198                 </td><td>   42                </td><td> 160                 </td><td> 3817.9              </td><td>  11.3               </td></tr>\n",
       "\t<tr><td>bathurst regional    </td><td>700                  </td><td> 2393                </td><td>10470                </td><td>Bathurst Regional (A)</td><td> 42806               </td><td> 43206               </td><td> 400                 </td><td> 0.9                 </td><td> 198                 </td><td>   42                </td><td> 160                 </td><td> 3817.9              </td><td>  11.3               </td></tr>\n",
       "\t<tr><td>bayside              </td><td>  2                  </td><td>44368                </td><td>10500                </td><td>Bayside (A)          </td><td>170266               </td><td>174378               </td><td>4112                 </td><td> 2.4                 </td><td>1358                 </td><td>-1842                </td><td>4596                 </td><td>   49.9              </td><td>3495.2               </td></tr>\n",
       "\t<tr><td>bayside              </td><td>700                  </td><td>97514                </td><td>10500                </td><td>Bayside (A)          </td><td>170266               </td><td>174378               </td><td>4112                 </td><td> 2.4                 </td><td>1358                 </td><td>-1842                </td><td>4596                 </td><td>   49.9              </td><td>3495.2               </td></tr>\n",
       "\t<tr><td>bayside              </td><td>712                  </td><td> 1581                </td><td>10500                </td><td>Bayside (A)          </td><td>170266               </td><td>174378               </td><td>4112                 </td><td> 2.4                 </td><td>1358                 </td><td>-1842                </td><td>4596                 </td><td>   49.9              </td><td>3495.2               </td></tr>\n",
       "\t<tr><td>bayside              </td><td>714                  </td><td>  234                </td><td>10500                </td><td>Bayside (A)          </td><td>170266               </td><td>174378               </td><td>4112                 </td><td> 2.4                 </td><td>1358                 </td><td>-1842                </td><td>4596                 </td><td>   49.9              </td><td>3495.2               </td></tr>\n",
       "\t<tr><td>bega valley          </td><td>204                  </td><td>   12                </td><td>10550                </td><td>Bega Valley (A)      </td><td> 34117               </td><td> 34348               </td><td> 231                 </td><td> 0.7                 </td><td> -69                 </td><td>  222                </td><td>  78                 </td><td> 6278.9              </td><td>   5.5               </td></tr>\n",
       "\t<tr><td>bega valley          </td><td>700                  </td><td>  759                </td><td>10550                </td><td>Bega Valley (A)      </td><td> 34117               </td><td> 34348               </td><td> 231                 </td><td> 0.7                 </td><td> -69                 </td><td>  222                </td><td>  78                 </td><td> 6278.9              </td><td>   5.5               </td></tr>\n",
       "\t<tr><td>bellingen            </td><td>106                  </td><td>  177                </td><td>10600                </td><td>Bellingen (A)        </td><td> 12951               </td><td> 12963               </td><td>  12                 </td><td> 0.1                 </td><td> -18                 </td><td>  -10                </td><td>  40                 </td><td> 1600.4              </td><td>   8.1               </td></tr>\n",
       "</tbody>\n",
       "</table>\n"
      ],
      "text/latex": [
       "\\begin{tabular}{r|llllllllllllll}\n",
       " NSW\\_LGA\\_\\_3 & route\\_type & num\\_service & LGA code & Local Government Area & 2017 & 2018 & 2017-2018\\_change & 2017-2018\\_change\\_per & Natural increase & Net internal migration & Net overseas migration & Area & Density\\\\\n",
       "\\hline\n",
       "\t albury                & 106                   &   131                 & 10050                 & Albury (C)            &  52989                &  53767                &  778                  &  1.5                  &  288                  &   218                 &  272                  &   305.9               &  175.7               \\\\\n",
       "\t albury                & 204                   &    14                 & 10050                 & Albury (C)            &  52989                &  53767                &  778                  &  1.5                  &  288                  &   218                 &  272                  &   305.9               &  175.7               \\\\\n",
       "\t albury                & 700                   &  1624                 & 10050                 & Albury (C)            &  52989                &  53767                &  778                  &  1.5                  &  288                  &   218                 &  272                  &   305.9               &  175.7               \\\\\n",
       "\t armidale regional     & 106                   &    62                 & 10130                 & Armidale Regional (A) &  30617                &  30707                &   90                  &  0.3                  &  117                  &  -374                 &  347                  &  8620.7               &    3.6               \\\\\n",
       "\t armidale regional     & 204                   &    10                 & 10130                 & Armidale Regional (A) &  30617                &  30707                &   90                  &  0.3                  &  117                  &  -374                 &  347                  &  8620.7               &    3.6               \\\\\n",
       "\t armidale regional     & 700                   &   113                 & 10130                 & Armidale Regional (A) &  30617                &  30707                &   90                  &  0.3                  &  117                  &  -374                 &  347                  &  8620.7               &    3.6               \\\\\n",
       "\t ballina               & 204                   &    18                 & 10250                 & Ballina (A)           &  43480                &  44208                &  728                  &  1.7                  &  -44                  &   584                 &  188                  &   484.9               &   91.2               \\\\\n",
       "\t ballina               & 700                   &  1335                 & 10250                 & Ballina (A)           &  43480                &  44208                &  728                  &  1.7                  &  -44                  &   584                 &  188                  &   484.9               &   91.2               \\\\\n",
       "\t balranald             & 204                   &     4                 & 10300                 & Balranald (A)         &   2343                &   2340                &   -3                  & -0.1                  &   13                  &   -22                 &    6                  & 21690.7               &    0.1               \\\\\n",
       "\t bathurst regional     &   2                   &    49                 & 10470                 & Bathurst Regional (A) &  42806                &  43206                &  400                  &  0.9                  &  198                  &    42                 &  160                  &  3817.9               &   11.3               \\\\\n",
       "\t bathurst regional     & 106                   &    68                 & 10470                 & Bathurst Regional (A) &  42806                &  43206                &  400                  &  0.9                  &  198                  &    42                 &  160                  &  3817.9               &   11.3               \\\\\n",
       "\t bathurst regional     & 204                   &   372                 & 10470                 & Bathurst Regional (A) &  42806                &  43206                &  400                  &  0.9                  &  198                  &    42                 &  160                  &  3817.9               &   11.3               \\\\\n",
       "\t bathurst regional     & 700                   &  2393                 & 10470                 & Bathurst Regional (A) &  42806                &  43206                &  400                  &  0.9                  &  198                  &    42                 &  160                  &  3817.9               &   11.3               \\\\\n",
       "\t bayside               &   2                   & 44368                 & 10500                 & Bayside (A)           & 170266                & 174378                & 4112                  &  2.4                  & 1358                  & -1842                 & 4596                  &    49.9               & 3495.2               \\\\\n",
       "\t bayside               & 700                   & 97514                 & 10500                 & Bayside (A)           & 170266                & 174378                & 4112                  &  2.4                  & 1358                  & -1842                 & 4596                  &    49.9               & 3495.2               \\\\\n",
       "\t bayside               & 712                   &  1581                 & 10500                 & Bayside (A)           & 170266                & 174378                & 4112                  &  2.4                  & 1358                  & -1842                 & 4596                  &    49.9               & 3495.2               \\\\\n",
       "\t bayside               & 714                   &   234                 & 10500                 & Bayside (A)           & 170266                & 174378                & 4112                  &  2.4                  & 1358                  & -1842                 & 4596                  &    49.9               & 3495.2               \\\\\n",
       "\t bega valley           & 204                   &    12                 & 10550                 & Bega Valley (A)       &  34117                &  34348                &  231                  &  0.7                  &  -69                  &   222                 &   78                  &  6278.9               &    5.5               \\\\\n",
       "\t bega valley           & 700                   &   759                 & 10550                 & Bega Valley (A)       &  34117                &  34348                &  231                  &  0.7                  &  -69                  &   222                 &   78                  &  6278.9               &    5.5               \\\\\n",
       "\t bellingen             & 106                   &   177                 & 10600                 & Bellingen (A)         &  12951                &  12963                &   12                  &  0.1                  &  -18                  &   -10                 &   40                  &  1600.4               &    8.1               \\\\\n",
       "\\end{tabular}\n"
      ],
      "text/markdown": [
       "\n",
       "| NSW_LGA__3 | route_type | num_service | LGA code | Local Government Area | 2017 | 2018 | 2017-2018_change | 2017-2018_change_per | Natural increase | Net internal migration | Net overseas migration | Area | Density |\n",
       "|---|---|---|---|---|---|---|---|---|---|---|---|---|---|\n",
       "| albury                | 106                   |   131                 | 10050                 | Albury (C)            |  52989                |  53767                |  778                  |  1.5                  |  288                  |   218                 |  272                  |   305.9               |  175.7                |\n",
       "| albury                | 204                   |    14                 | 10050                 | Albury (C)            |  52989                |  53767                |  778                  |  1.5                  |  288                  |   218                 |  272                  |   305.9               |  175.7                |\n",
       "| albury                | 700                   |  1624                 | 10050                 | Albury (C)            |  52989                |  53767                |  778                  |  1.5                  |  288                  |   218                 |  272                  |   305.9               |  175.7                |\n",
       "| armidale regional     | 106                   |    62                 | 10130                 | Armidale Regional (A) |  30617                |  30707                |   90                  |  0.3                  |  117                  |  -374                 |  347                  |  8620.7               |    3.6                |\n",
       "| armidale regional     | 204                   |    10                 | 10130                 | Armidale Regional (A) |  30617                |  30707                |   90                  |  0.3                  |  117                  |  -374                 |  347                  |  8620.7               |    3.6                |\n",
       "| armidale regional     | 700                   |   113                 | 10130                 | Armidale Regional (A) |  30617                |  30707                |   90                  |  0.3                  |  117                  |  -374                 |  347                  |  8620.7               |    3.6                |\n",
       "| ballina               | 204                   |    18                 | 10250                 | Ballina (A)           |  43480                |  44208                |  728                  |  1.7                  |  -44                  |   584                 |  188                  |   484.9               |   91.2                |\n",
       "| ballina               | 700                   |  1335                 | 10250                 | Ballina (A)           |  43480                |  44208                |  728                  |  1.7                  |  -44                  |   584                 |  188                  |   484.9               |   91.2                |\n",
       "| balranald             | 204                   |     4                 | 10300                 | Balranald (A)         |   2343                |   2340                |   -3                  | -0.1                  |   13                  |   -22                 |    6                  | 21690.7               |    0.1                |\n",
       "| bathurst regional     |   2                   |    49                 | 10470                 | Bathurst Regional (A) |  42806                |  43206                |  400                  |  0.9                  |  198                  |    42                 |  160                  |  3817.9               |   11.3                |\n",
       "| bathurst regional     | 106                   |    68                 | 10470                 | Bathurst Regional (A) |  42806                |  43206                |  400                  |  0.9                  |  198                  |    42                 |  160                  |  3817.9               |   11.3                |\n",
       "| bathurst regional     | 204                   |   372                 | 10470                 | Bathurst Regional (A) |  42806                |  43206                |  400                  |  0.9                  |  198                  |    42                 |  160                  |  3817.9               |   11.3                |\n",
       "| bathurst regional     | 700                   |  2393                 | 10470                 | Bathurst Regional (A) |  42806                |  43206                |  400                  |  0.9                  |  198                  |    42                 |  160                  |  3817.9               |   11.3                |\n",
       "| bayside               |   2                   | 44368                 | 10500                 | Bayside (A)           | 170266                | 174378                | 4112                  |  2.4                  | 1358                  | -1842                 | 4596                  |    49.9               | 3495.2                |\n",
       "| bayside               | 700                   | 97514                 | 10500                 | Bayside (A)           | 170266                | 174378                | 4112                  |  2.4                  | 1358                  | -1842                 | 4596                  |    49.9               | 3495.2                |\n",
       "| bayside               | 712                   |  1581                 | 10500                 | Bayside (A)           | 170266                | 174378                | 4112                  |  2.4                  | 1358                  | -1842                 | 4596                  |    49.9               | 3495.2                |\n",
       "| bayside               | 714                   |   234                 | 10500                 | Bayside (A)           | 170266                | 174378                | 4112                  |  2.4                  | 1358                  | -1842                 | 4596                  |    49.9               | 3495.2                |\n",
       "| bega valley           | 204                   |    12                 | 10550                 | Bega Valley (A)       |  34117                |  34348                |  231                  |  0.7                  |  -69                  |   222                 |   78                  |  6278.9               |    5.5                |\n",
       "| bega valley           | 700                   |   759                 | 10550                 | Bega Valley (A)       |  34117                |  34348                |  231                  |  0.7                  |  -69                  |   222                 |   78                  |  6278.9               |    5.5                |\n",
       "| bellingen             | 106                   |   177                 | 10600                 | Bellingen (A)         |  12951                |  12963                |   12                  |  0.1                  |  -18                  |   -10                 |   40                  |  1600.4               |    8.1                |\n",
       "\n"
      ],
      "text/plain": [
       "   NSW_LGA__3        route_type num_service LGA code Local Government Area\n",
       "1  albury            106          131       10050    Albury (C)           \n",
       "2  albury            204           14       10050    Albury (C)           \n",
       "3  albury            700         1624       10050    Albury (C)           \n",
       "4  armidale regional 106           62       10130    Armidale Regional (A)\n",
       "5  armidale regional 204           10       10130    Armidale Regional (A)\n",
       "6  armidale regional 700          113       10130    Armidale Regional (A)\n",
       "7  ballina           204           18       10250    Ballina (A)          \n",
       "8  ballina           700         1335       10250    Ballina (A)          \n",
       "9  balranald         204            4       10300    Balranald (A)        \n",
       "10 bathurst regional   2           49       10470    Bathurst Regional (A)\n",
       "11 bathurst regional 106           68       10470    Bathurst Regional (A)\n",
       "12 bathurst regional 204          372       10470    Bathurst Regional (A)\n",
       "13 bathurst regional 700         2393       10470    Bathurst Regional (A)\n",
       "14 bayside             2        44368       10500    Bayside (A)          \n",
       "15 bayside           700        97514       10500    Bayside (A)          \n",
       "16 bayside           712         1581       10500    Bayside (A)          \n",
       "17 bayside           714          234       10500    Bayside (A)          \n",
       "18 bega valley       204           12       10550    Bega Valley (A)      \n",
       "19 bega valley       700          759       10550    Bega Valley (A)      \n",
       "20 bellingen         106          177       10600    Bellingen (A)        \n",
       "   2017   2018   2017-2018_change 2017-2018_change_per Natural increase\n",
       "1   52989  53767  778              1.5                  288            \n",
       "2   52989  53767  778              1.5                  288            \n",
       "3   52989  53767  778              1.5                  288            \n",
       "4   30617  30707   90              0.3                  117            \n",
       "5   30617  30707   90              0.3                  117            \n",
       "6   30617  30707   90              0.3                  117            \n",
       "7   43480  44208  728              1.7                  -44            \n",
       "8   43480  44208  728              1.7                  -44            \n",
       "9    2343   2340   -3             -0.1                   13            \n",
       "10  42806  43206  400              0.9                  198            \n",
       "11  42806  43206  400              0.9                  198            \n",
       "12  42806  43206  400              0.9                  198            \n",
       "13  42806  43206  400              0.9                  198            \n",
       "14 170266 174378 4112              2.4                 1358            \n",
       "15 170266 174378 4112              2.4                 1358            \n",
       "16 170266 174378 4112              2.4                 1358            \n",
       "17 170266 174378 4112              2.4                 1358            \n",
       "18  34117  34348  231              0.7                  -69            \n",
       "19  34117  34348  231              0.7                  -69            \n",
       "20  12951  12963   12              0.1                  -18            \n",
       "   Net internal migration Net overseas migration Area    Density\n",
       "1    218                   272                     305.9  175.7 \n",
       "2    218                   272                     305.9  175.7 \n",
       "3    218                   272                     305.9  175.7 \n",
       "4   -374                   347                    8620.7    3.6 \n",
       "5   -374                   347                    8620.7    3.6 \n",
       "6   -374                   347                    8620.7    3.6 \n",
       "7    584                   188                     484.9   91.2 \n",
       "8    584                   188                     484.9   91.2 \n",
       "9    -22                     6                   21690.7    0.1 \n",
       "10    42                   160                    3817.9   11.3 \n",
       "11    42                   160                    3817.9   11.3 \n",
       "12    42                   160                    3817.9   11.3 \n",
       "13    42                   160                    3817.9   11.3 \n",
       "14 -1842                  4596                      49.9 3495.2 \n",
       "15 -1842                  4596                      49.9 3495.2 \n",
       "16 -1842                  4596                      49.9 3495.2 \n",
       "17 -1842                  4596                      49.9 3495.2 \n",
       "18   222                    78                    6278.9    5.5 \n",
       "19   222                    78                    6278.9    5.5 \n",
       "20   -10                    40                    1600.4    8.1 "
      ]
     },
     "metadata": {},
     "output_type": "display_data"
    }
   ],
   "source": [
    "stop_pop_joined <- stop_coords_grouped %>%\n",
    "    left_join(pop_lga, by = c(\"NSW_LGA__3\" = \"lga\"))\n",
    "\n",
    "head(stop_seifa_joined, 20)"
   ]
  }
 ],
 "metadata": {
  "kernelspec": {
   "display_name": "R",
   "language": "R",
   "name": "ir"
  },
  "language_info": {
   "codemirror_mode": "r",
   "file_extension": ".r",
   "mimetype": "text/x-r-source",
   "name": "R",
   "pygments_lexer": "r",
   "version": "3.5.3"
  }
 },
 "nbformat": 4,
 "nbformat_minor": 2
}
