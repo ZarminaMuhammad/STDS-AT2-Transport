{
 "cells": [
  {
   "cell_type": "markdown",
   "metadata": {},
   "source": [
    "# Introduction"
   ]
  },
  {
   "cell_type": "markdown",
   "metadata": {},
   "source": [
    "This notebook shows the time series analysis of crime rate and new building development per LGA."
   ]
  },
  {
   "cell_type": "code",
   "execution_count": 82,
   "metadata": {},
   "outputs": [],
   "source": [
    "library(magrittr)\n",
    "library(Hmisc)\n",
    "library(tidyverse)\n",
    "library(Hmisc)\n",
    "library(corrr)\n",
    "library(ggfortify)\n",
    "library(MASS)"
   ]
  },
  {
   "cell_type": "code",
   "execution_count": 42,
   "metadata": {},
   "outputs": [],
   "source": [
    "data_path <- \"D:/OneDrive - UTS/36103/AT2B/EDA\"\n",
    "output_path <- \"D:/OneDrive - UTS/36103/AT2B/data2\""
   ]
  },
  {
   "cell_type": "markdown",
   "metadata": {},
   "source": [
    "# Loading `lga_name_mapping` Data"
   ]
  },
  {
   "cell_type": "code",
   "execution_count": 4,
   "metadata": {},
   "outputs": [
    {
     "name": "stderr",
     "output_type": "stream",
     "text": [
      "Parsed with column specification:\n",
      "cols(\n",
      "  lga_code = \u001b[32mcol_double()\u001b[39m,\n",
      "  lga_clean = \u001b[31mcol_character()\u001b[39m,\n",
      "  lga_paren = \u001b[31mcol_character()\u001b[39m\n",
      ")\n"
     ]
    },
    {
     "data": {
      "text/html": [
       "<table>\n",
       "<thead><tr><th scope=col>lga_code</th><th scope=col>lga_clean</th><th scope=col>lga_paren</th></tr></thead>\n",
       "<tbody>\n",
       "\t<tr><td>10050                </td><td>Albury               </td><td>Albury (C)           </td></tr>\n",
       "\t<tr><td>10130                </td><td>Armidale Regional    </td><td>Armidale Regional (A)</td></tr>\n",
       "\t<tr><td>10250                </td><td>Ballina              </td><td>Ballina (A)          </td></tr>\n",
       "\t<tr><td>10300                </td><td>Balranald            </td><td>Balranald (A)        </td></tr>\n",
       "\t<tr><td>10470                </td><td>Bathurst Regional    </td><td>Bathurst Regional (A)</td></tr>\n",
       "\t<tr><td>10500                </td><td>Bayside              </td><td>Bayside (A)          </td></tr>\n",
       "</tbody>\n",
       "</table>\n"
      ],
      "text/latex": [
       "\\begin{tabular}{r|lll}\n",
       " lga\\_code & lga\\_clean & lga\\_paren\\\\\n",
       "\\hline\n",
       "\t 10050                 & Albury                & Albury (C)           \\\\\n",
       "\t 10130                 & Armidale Regional     & Armidale Regional (A)\\\\\n",
       "\t 10250                 & Ballina               & Ballina (A)          \\\\\n",
       "\t 10300                 & Balranald             & Balranald (A)        \\\\\n",
       "\t 10470                 & Bathurst Regional     & Bathurst Regional (A)\\\\\n",
       "\t 10500                 & Bayside               & Bayside (A)          \\\\\n",
       "\\end{tabular}\n"
      ],
      "text/markdown": [
       "\n",
       "| lga_code | lga_clean | lga_paren |\n",
       "|---|---|---|\n",
       "| 10050                 | Albury                | Albury (C)            |\n",
       "| 10130                 | Armidale Regional     | Armidale Regional (A) |\n",
       "| 10250                 | Ballina               | Ballina (A)           |\n",
       "| 10300                 | Balranald             | Balranald (A)         |\n",
       "| 10470                 | Bathurst Regional     | Bathurst Regional (A) |\n",
       "| 10500                 | Bayside               | Bayside (A)           |\n",
       "\n"
      ],
      "text/plain": [
       "  lga_code lga_clean         lga_paren            \n",
       "1 10050    Albury            Albury (C)           \n",
       "2 10130    Armidale Regional Armidale Regional (A)\n",
       "3 10250    Ballina           Ballina (A)          \n",
       "4 10300    Balranald         Balranald (A)        \n",
       "5 10470    Bathurst Regional Bathurst Regional (A)\n",
       "6 10500    Bayside           Bayside (A)          "
      ]
     },
     "metadata": {},
     "output_type": "display_data"
    },
    {
     "name": "stdout",
     "output_type": "stream",
     "text": [
      "Observations: 131\n",
      "Variables: 3\n",
      "$ lga_code  \u001b[3m\u001b[90m<dbl>\u001b[39m\u001b[23m 10050, 10130, 10250, 10300, 10470, 10500, 10550, 10600, 1...\n",
      "$ lga_clean \u001b[3m\u001b[90m<chr>\u001b[39m\u001b[23m \"Albury\", \"Armidale Regional\", \"Ballina\", \"Balranald\", \"B...\n",
      "$ lga_paren \u001b[3m\u001b[90m<chr>\u001b[39m\u001b[23m \"Albury (C)\", \"Armidale Regional (A)\", \"Ballina (A)\", \"Ba...\n"
     ]
    }
   ],
   "source": [
    "data_df <- readr::read_csv(paste(data_path, \"lga_name_mapping.csv\", sep = \"/\"))\n",
    "lga_name_mapping_df <- data_df\n",
    "head(lga_name_mapping_df)\n",
    "glimpse(lga_name_mapping_df)"
   ]
  },
  {
   "cell_type": "markdown",
   "metadata": {},
   "source": [
    "# Loading `crime` Data"
   ]
  },
  {
   "cell_type": "code",
   "execution_count": 5,
   "metadata": {},
   "outputs": [
    {
     "name": "stderr",
     "output_type": "stream",
     "text": [
      "Parsed with column specification:\n",
      "cols(\n",
      "  .default = col_double(),\n",
      "  LGA = \u001b[31mcol_character()\u001b[39m,\n",
      "  `Offence category` = \u001b[31mcol_character()\u001b[39m,\n",
      "  Subcategory = \u001b[31mcol_character()\u001b[39m\n",
      ")\n",
      "See spec(...) for full column specifications.\n"
     ]
    },
    {
     "data": {
      "text/html": [
       "<table>\n",
       "<thead><tr><th scope=col>LGA</th><th scope=col>Offence category</th><th scope=col>Subcategory</th><th scope=col>Jan 1995</th><th scope=col>Feb 1995</th><th scope=col>Mar 1995</th><th scope=col>Apr 1995</th><th scope=col>May 1995</th><th scope=col>Jun 1995</th><th scope=col>Jul 1995</th><th scope=col>...</th><th scope=col>Mar 2018</th><th scope=col>Apr 2018</th><th scope=col>May 2018</th><th scope=col>Jun 2018</th><th scope=col>Jul 2018</th><th scope=col>Aug 2018</th><th scope=col>Sep 2018</th><th scope=col>Oct 2018</th><th scope=col>Nov 2018</th><th scope=col>Dec 2018</th></tr></thead>\n",
       "<tbody>\n",
       "\t<tr><td>Albury                               </td><td>Homicide                             </td><td>Murder *                             </td><td> 0                                   </td><td> 0                                   </td><td> 0                                   </td><td> 0                                   </td><td> 0                                   </td><td> 0                                   </td><td> 0                                   </td><td>...                                  </td><td> 0                                   </td><td> 1                                   </td><td> 0                                   </td><td> 0                                   </td><td> 0                                   </td><td> 0                                   </td><td> 0                                   </td><td> 0                                   </td><td> 0                                   </td><td> 0                                   </td></tr>\n",
       "\t<tr><td>Albury                               </td><td>Homicide                             </td><td>Attempted murder                     </td><td> 0                                   </td><td> 0                                   </td><td> 0                                   </td><td> 0                                   </td><td> 0                                   </td><td> 0                                   </td><td> 0                                   </td><td>...                                  </td><td> 0                                   </td><td> 0                                   </td><td> 0                                   </td><td> 0                                   </td><td> 0                                   </td><td> 0                                   </td><td> 0                                   </td><td> 0                                   </td><td> 0                                   </td><td> 0                                   </td></tr>\n",
       "\t<tr><td>Albury                               </td><td>Homicide                             </td><td>Murder accessory, conspiracy         </td><td> 0                                   </td><td> 0                                   </td><td> 0                                   </td><td> 0                                   </td><td> 0                                   </td><td> 0                                   </td><td> 0                                   </td><td>...                                  </td><td> 0                                   </td><td> 0                                   </td><td> 0                                   </td><td> 0                                   </td><td> 0                                   </td><td> 0                                   </td><td> 0                                   </td><td> 0                                   </td><td> 0                                   </td><td> 0                                   </td></tr>\n",
       "\t<tr><td>Albury                               </td><td>Homicide                             </td><td>Manslaughter *                       </td><td> 0                                   </td><td> 0                                   </td><td> 0                                   </td><td> 0                                   </td><td> 0                                   </td><td> 0                                   </td><td> 0                                   </td><td>...                                  </td><td> 0                                   </td><td> 0                                   </td><td> 0                                   </td><td> 0                                   </td><td> 0                                   </td><td> 0                                   </td><td> 0                                   </td><td> 0                                   </td><td> 0                                   </td><td> 0                                   </td></tr>\n",
       "\t<tr><td>Albury                               </td><td>Assault                              </td><td>Domestic violence related assault    </td><td> 7                                   </td><td> 7                                   </td><td> 7                                   </td><td> 2                                   </td><td> 7                                   </td><td> 6                                   </td><td> 4                                   </td><td>...                                  </td><td>22                                   </td><td>32                                   </td><td>30                                   </td><td>24                                   </td><td>16                                   </td><td>17                                   </td><td>16                                   </td><td>27                                   </td><td>18                                   </td><td>29                                   </td></tr>\n",
       "\t<tr><td>Albury                               </td><td>Assault                              </td><td>Non-domestic violence related assault</td><td>29                                   </td><td>20                                   </td><td>21                                   </td><td>16                                   </td><td>24                                   </td><td>20                                   </td><td>14                                   </td><td>...                                  </td><td>29                                   </td><td>21                                   </td><td>36                                   </td><td>31                                   </td><td>21                                   </td><td>23                                   </td><td>29                                   </td><td>29                                   </td><td>28                                   </td><td>37                                   </td></tr>\n",
       "</tbody>\n",
       "</table>\n"
      ],
      "text/latex": [
       "\\begin{tabular}{r|lllllllllllllllllllllllllllllllllllllllllllllllllllllllllllllllllllllllllllllllllllllllllllllllllllllllllllllllllllllllllllllllllllllllllllllllllllllllllllllllllllllllllllllllllllllllllllllllllllllllllllllllllllllllllllllllllllllllllllllllllllllllllllllllllllllllllllllllllllllllllllllllllll}\n",
       " LGA & Offence category & Subcategory & Jan 1995 & Feb 1995 & Mar 1995 & Apr 1995 & May 1995 & Jun 1995 & Jul 1995 & ... & Mar 2018 & Apr 2018 & May 2018 & Jun 2018 & Jul 2018 & Aug 2018 & Sep 2018 & Oct 2018 & Nov 2018 & Dec 2018\\\\\n",
       "\\hline\n",
       "\t Albury                                & Homicide                              & Murder *                              &  0                                    &  0                                    &  0                                    &  0                                    &  0                                    &  0                                    &  0                                    & ...                                   &  0                                    &  1                                    &  0                                    &  0                                    &  0                                    &  0                                    &  0                                    &  0                                    &  0                                    &  0                                   \\\\\n",
       "\t Albury                                & Homicide                              & Attempted murder                      &  0                                    &  0                                    &  0                                    &  0                                    &  0                                    &  0                                    &  0                                    & ...                                   &  0                                    &  0                                    &  0                                    &  0                                    &  0                                    &  0                                    &  0                                    &  0                                    &  0                                    &  0                                   \\\\\n",
       "\t Albury                                & Homicide                              & Murder accessory, conspiracy          &  0                                    &  0                                    &  0                                    &  0                                    &  0                                    &  0                                    &  0                                    & ...                                   &  0                                    &  0                                    &  0                                    &  0                                    &  0                                    &  0                                    &  0                                    &  0                                    &  0                                    &  0                                   \\\\\n",
       "\t Albury                                & Homicide                              & Manslaughter *                        &  0                                    &  0                                    &  0                                    &  0                                    &  0                                    &  0                                    &  0                                    & ...                                   &  0                                    &  0                                    &  0                                    &  0                                    &  0                                    &  0                                    &  0                                    &  0                                    &  0                                    &  0                                   \\\\\n",
       "\t Albury                                & Assault                               & Domestic violence related assault     &  7                                    &  7                                    &  7                                    &  2                                    &  7                                    &  6                                    &  4                                    & ...                                   & 22                                    & 32                                    & 30                                    & 24                                    & 16                                    & 17                                    & 16                                    & 27                                    & 18                                    & 29                                   \\\\\n",
       "\t Albury                                & Assault                               & Non-domestic violence related assault & 29                                    & 20                                    & 21                                    & 16                                    & 24                                    & 20                                    & 14                                    & ...                                   & 29                                    & 21                                    & 36                                    & 31                                    & 21                                    & 23                                    & 29                                    & 29                                    & 28                                    & 37                                   \\\\\n",
       "\\end{tabular}\n"
      ],
      "text/markdown": [
       "\n",
       "| LGA | Offence category | Subcategory | Jan 1995 | Feb 1995 | Mar 1995 | Apr 1995 | May 1995 | Jun 1995 | Jul 1995 | ... | Mar 2018 | Apr 2018 | May 2018 | Jun 2018 | Jul 2018 | Aug 2018 | Sep 2018 | Oct 2018 | Nov 2018 | Dec 2018 |\n",
       "|---|---|---|---|---|---|---|---|---|---|---|---|---|---|---|---|---|---|---|---|---|\n",
       "| Albury                                | Homicide                              | Murder *                              |  0                                    |  0                                    |  0                                    |  0                                    |  0                                    |  0                                    |  0                                    | ...                                   |  0                                    |  1                                    |  0                                    |  0                                    |  0                                    |  0                                    |  0                                    |  0                                    |  0                                    |  0                                    |\n",
       "| Albury                                | Homicide                              | Attempted murder                      |  0                                    |  0                                    |  0                                    |  0                                    |  0                                    |  0                                    |  0                                    | ...                                   |  0                                    |  0                                    |  0                                    |  0                                    |  0                                    |  0                                    |  0                                    |  0                                    |  0                                    |  0                                    |\n",
       "| Albury                                | Homicide                              | Murder accessory, conspiracy          |  0                                    |  0                                    |  0                                    |  0                                    |  0                                    |  0                                    |  0                                    | ...                                   |  0                                    |  0                                    |  0                                    |  0                                    |  0                                    |  0                                    |  0                                    |  0                                    |  0                                    |  0                                    |\n",
       "| Albury                                | Homicide                              | Manslaughter *                        |  0                                    |  0                                    |  0                                    |  0                                    |  0                                    |  0                                    |  0                                    | ...                                   |  0                                    |  0                                    |  0                                    |  0                                    |  0                                    |  0                                    |  0                                    |  0                                    |  0                                    |  0                                    |\n",
       "| Albury                                | Assault                               | Domestic violence related assault     |  7                                    |  7                                    |  7                                    |  2                                    |  7                                    |  6                                    |  4                                    | ...                                   | 22                                    | 32                                    | 30                                    | 24                                    | 16                                    | 17                                    | 16                                    | 27                                    | 18                                    | 29                                    |\n",
       "| Albury                                | Assault                               | Non-domestic violence related assault | 29                                    | 20                                    | 21                                    | 16                                    | 24                                    | 20                                    | 14                                    | ...                                   | 29                                    | 21                                    | 36                                    | 31                                    | 21                                    | 23                                    | 29                                    | 29                                    | 28                                    | 37                                    |\n",
       "\n"
      ],
      "text/plain": [
       "  LGA    Offence category Subcategory                           Jan 1995\n",
       "1 Albury Homicide         Murder *                               0      \n",
       "2 Albury Homicide         Attempted murder                       0      \n",
       "3 Albury Homicide         Murder accessory, conspiracy           0      \n",
       "4 Albury Homicide         Manslaughter *                         0      \n",
       "5 Albury Assault          Domestic violence related assault      7      \n",
       "6 Albury Assault          Non-domestic violence related assault 29      \n",
       "  Feb 1995 Mar 1995 Apr 1995 May 1995 Jun 1995 Jul 1995 ... Mar 2018 Apr 2018\n",
       "1  0        0        0        0        0        0       ...  0        1      \n",
       "2  0        0        0        0        0        0       ...  0        0      \n",
       "3  0        0        0        0        0        0       ...  0        0      \n",
       "4  0        0        0        0        0        0       ...  0        0      \n",
       "5  7        7        2        7        6        4       ... 22       32      \n",
       "6 20       21       16       24       20       14       ... 29       21      \n",
       "  May 2018 Jun 2018 Jul 2018 Aug 2018 Sep 2018 Oct 2018 Nov 2018 Dec 2018\n",
       "1  0        0        0        0        0        0        0        0      \n",
       "2  0        0        0        0        0        0        0        0      \n",
       "3  0        0        0        0        0        0        0        0      \n",
       "4  0        0        0        0        0        0        0        0      \n",
       "5 30       24       16       17       16       27       18       29      \n",
       "6 36       31       21       23       29       29       28       37      "
      ]
     },
     "metadata": {},
     "output_type": "display_data"
    }
   ],
   "source": [
    "data_df <- readr::read_csv(paste(data_path, \"crime_1995_2018_by_month.csv\", sep = \"/\"))\n",
    "crime_df <- data_df\n",
    "head(crime_df)"
   ]
  },
  {
   "cell_type": "code",
   "execution_count": 6,
   "metadata": {},
   "outputs": [
    {
     "data": {
      "text/html": [
       "<table>\n",
       "<thead><tr><th scope=col>LGA</th><th scope=col>Offence category</th><th scope=col>Subcategory</th><th scope=col>date</th><th scope=col>crime_count</th></tr></thead>\n",
       "<tbody>\n",
       "\t<tr><td>Albury                               </td><td>Homicide                             </td><td>Murder *                             </td><td>Jan 1995                             </td><td> 0                                   </td></tr>\n",
       "\t<tr><td>Albury                               </td><td>Homicide                             </td><td>Attempted murder                     </td><td>Jan 1995                             </td><td> 0                                   </td></tr>\n",
       "\t<tr><td>Albury                               </td><td>Homicide                             </td><td>Murder accessory, conspiracy         </td><td>Jan 1995                             </td><td> 0                                   </td></tr>\n",
       "\t<tr><td>Albury                               </td><td>Homicide                             </td><td>Manslaughter *                       </td><td>Jan 1995                             </td><td> 0                                   </td></tr>\n",
       "\t<tr><td>Albury                               </td><td>Assault                              </td><td>Domestic violence related assault    </td><td>Jan 1995                             </td><td> 7                                   </td></tr>\n",
       "\t<tr><td>Albury                               </td><td>Assault                              </td><td>Non-domestic violence related assault</td><td>Jan 1995                             </td><td>29                                   </td></tr>\n",
       "</tbody>\n",
       "</table>\n"
      ],
      "text/latex": [
       "\\begin{tabular}{r|lllll}\n",
       " LGA & Offence category & Subcategory & date & crime\\_count\\\\\n",
       "\\hline\n",
       "\t Albury                                & Homicide                              & Murder *                              & Jan 1995                              &  0                                   \\\\\n",
       "\t Albury                                & Homicide                              & Attempted murder                      & Jan 1995                              &  0                                   \\\\\n",
       "\t Albury                                & Homicide                              & Murder accessory, conspiracy          & Jan 1995                              &  0                                   \\\\\n",
       "\t Albury                                & Homicide                              & Manslaughter *                        & Jan 1995                              &  0                                   \\\\\n",
       "\t Albury                                & Assault                               & Domestic violence related assault     & Jan 1995                              &  7                                   \\\\\n",
       "\t Albury                                & Assault                               & Non-domestic violence related assault & Jan 1995                              & 29                                   \\\\\n",
       "\\end{tabular}\n"
      ],
      "text/markdown": [
       "\n",
       "| LGA | Offence category | Subcategory | date | crime_count |\n",
       "|---|---|---|---|---|\n",
       "| Albury                                | Homicide                              | Murder *                              | Jan 1995                              |  0                                    |\n",
       "| Albury                                | Homicide                              | Attempted murder                      | Jan 1995                              |  0                                    |\n",
       "| Albury                                | Homicide                              | Murder accessory, conspiracy          | Jan 1995                              |  0                                    |\n",
       "| Albury                                | Homicide                              | Manslaughter *                        | Jan 1995                              |  0                                    |\n",
       "| Albury                                | Assault                               | Domestic violence related assault     | Jan 1995                              |  7                                    |\n",
       "| Albury                                | Assault                               | Non-domestic violence related assault | Jan 1995                              | 29                                    |\n",
       "\n"
      ],
      "text/plain": [
       "  LGA    Offence category Subcategory                           date    \n",
       "1 Albury Homicide         Murder *                              Jan 1995\n",
       "2 Albury Homicide         Attempted murder                      Jan 1995\n",
       "3 Albury Homicide         Murder accessory, conspiracy          Jan 1995\n",
       "4 Albury Homicide         Manslaughter *                        Jan 1995\n",
       "5 Albury Assault          Domestic violence related assault     Jan 1995\n",
       "6 Albury Assault          Non-domestic violence related assault Jan 1995\n",
       "  crime_count\n",
       "1  0         \n",
       "2  0         \n",
       "3  0         \n",
       "4  0         \n",
       "5  7         \n",
       "6 29         "
      ]
     },
     "metadata": {},
     "output_type": "display_data"
    },
    {
     "name": "stdout",
     "output_type": "stream",
     "text": [
      "Observations: 2,339,136\n",
      "Variables: 5\n",
      "$ LGA                \u001b[3m\u001b[90m<chr>\u001b[39m\u001b[23m \"Albury\", \"Albury\", \"Albury\", \"Albury\", \"Albury\"...\n",
      "$ `Offence category` \u001b[3m\u001b[90m<chr>\u001b[39m\u001b[23m \"Homicide\", \"Homicide\", \"Homicide\", \"Homicide\", ...\n",
      "$ Subcategory        \u001b[3m\u001b[90m<chr>\u001b[39m\u001b[23m \"Murder *\", \"Attempted murder\", \"Murder accessor...\n",
      "$ date               \u001b[3m\u001b[90m<chr>\u001b[39m\u001b[23m \"Jan 1995\", \"Jan 1995\", \"Jan 1995\", \"Jan 1995\", ...\n",
      "$ crime_count        \u001b[3m\u001b[90m<dbl>\u001b[39m\u001b[23m 0, 0, 0, 0, 7, 29, 12, 4, 2, 0, 0, 0, 1, 0, 0, 1...\n"
     ]
    }
   ],
   "source": [
    "crime_df %<>% \n",
    "    gather(key = \"date\", value = \"crime_count\", \"Jan 1995\":\"Dec 2018\")\n",
    "\n",
    "head(crime_df)\n",
    "glimpse(crime_df)"
   ]
  },
  {
   "cell_type": "code",
   "execution_count": 7,
   "metadata": {},
   "outputs": [
    {
     "data": {
      "text/html": [
       "<table>\n",
       "<thead><tr><th scope=col>LGA</th><th scope=col>Offence category</th><th scope=col>Subcategory</th><th scope=col>month</th><th scope=col>year</th><th scope=col>crime_count</th></tr></thead>\n",
       "<tbody>\n",
       "\t<tr><td>Albury                               </td><td>Homicide                             </td><td>Murder *                             </td><td>Jan                                  </td><td>1995                                 </td><td> 0                                   </td></tr>\n",
       "\t<tr><td>Albury                               </td><td>Homicide                             </td><td>Attempted murder                     </td><td>Jan                                  </td><td>1995                                 </td><td> 0                                   </td></tr>\n",
       "\t<tr><td>Albury                               </td><td>Homicide                             </td><td>Murder accessory, conspiracy         </td><td>Jan                                  </td><td>1995                                 </td><td> 0                                   </td></tr>\n",
       "\t<tr><td>Albury                               </td><td>Homicide                             </td><td>Manslaughter *                       </td><td>Jan                                  </td><td>1995                                 </td><td> 0                                   </td></tr>\n",
       "\t<tr><td>Albury                               </td><td>Assault                              </td><td>Domestic violence related assault    </td><td>Jan                                  </td><td>1995                                 </td><td> 7                                   </td></tr>\n",
       "\t<tr><td>Albury                               </td><td>Assault                              </td><td>Non-domestic violence related assault</td><td>Jan                                  </td><td>1995                                 </td><td>29                                   </td></tr>\n",
       "</tbody>\n",
       "</table>\n"
      ],
      "text/latex": [
       "\\begin{tabular}{r|llllll}\n",
       " LGA & Offence category & Subcategory & month & year & crime\\_count\\\\\n",
       "\\hline\n",
       "\t Albury                                & Homicide                              & Murder *                              & Jan                                   & 1995                                  &  0                                   \\\\\n",
       "\t Albury                                & Homicide                              & Attempted murder                      & Jan                                   & 1995                                  &  0                                   \\\\\n",
       "\t Albury                                & Homicide                              & Murder accessory, conspiracy          & Jan                                   & 1995                                  &  0                                   \\\\\n",
       "\t Albury                                & Homicide                              & Manslaughter *                        & Jan                                   & 1995                                  &  0                                   \\\\\n",
       "\t Albury                                & Assault                               & Domestic violence related assault     & Jan                                   & 1995                                  &  7                                   \\\\\n",
       "\t Albury                                & Assault                               & Non-domestic violence related assault & Jan                                   & 1995                                  & 29                                   \\\\\n",
       "\\end{tabular}\n"
      ],
      "text/markdown": [
       "\n",
       "| LGA | Offence category | Subcategory | month | year | crime_count |\n",
       "|---|---|---|---|---|---|\n",
       "| Albury                                | Homicide                              | Murder *                              | Jan                                   | 1995                                  |  0                                    |\n",
       "| Albury                                | Homicide                              | Attempted murder                      | Jan                                   | 1995                                  |  0                                    |\n",
       "| Albury                                | Homicide                              | Murder accessory, conspiracy          | Jan                                   | 1995                                  |  0                                    |\n",
       "| Albury                                | Homicide                              | Manslaughter *                        | Jan                                   | 1995                                  |  0                                    |\n",
       "| Albury                                | Assault                               | Domestic violence related assault     | Jan                                   | 1995                                  |  7                                    |\n",
       "| Albury                                | Assault                               | Non-domestic violence related assault | Jan                                   | 1995                                  | 29                                    |\n",
       "\n"
      ],
      "text/plain": [
       "  LGA    Offence category Subcategory                           month year\n",
       "1 Albury Homicide         Murder *                              Jan   1995\n",
       "2 Albury Homicide         Attempted murder                      Jan   1995\n",
       "3 Albury Homicide         Murder accessory, conspiracy          Jan   1995\n",
       "4 Albury Homicide         Manslaughter *                        Jan   1995\n",
       "5 Albury Assault          Domestic violence related assault     Jan   1995\n",
       "6 Albury Assault          Non-domestic violence related assault Jan   1995\n",
       "  crime_count\n",
       "1  0         \n",
       "2  0         \n",
       "3  0         \n",
       "4  0         \n",
       "5  7         \n",
       "6 29         "
      ]
     },
     "metadata": {},
     "output_type": "display_data"
    },
    {
     "name": "stdout",
     "output_type": "stream",
     "text": [
      "Observations: 2,339,136\n",
      "Variables: 6\n",
      "$ LGA                \u001b[3m\u001b[90m<chr>\u001b[39m\u001b[23m \"Albury\", \"Albury\", \"Albury\", \"Albury\", \"Albury\"...\n",
      "$ `Offence category` \u001b[3m\u001b[90m<chr>\u001b[39m\u001b[23m \"Homicide\", \"Homicide\", \"Homicide\", \"Homicide\", ...\n",
      "$ Subcategory        \u001b[3m\u001b[90m<chr>\u001b[39m\u001b[23m \"Murder *\", \"Attempted murder\", \"Murder accessor...\n",
      "$ month              \u001b[3m\u001b[90m<chr>\u001b[39m\u001b[23m \"Jan\", \"Jan\", \"Jan\", \"Jan\", \"Jan\", \"Jan\", \"Jan\",...\n",
      "$ year               \u001b[3m\u001b[90m<chr>\u001b[39m\u001b[23m \"1995\", \"1995\", \"1995\", \"1995\", \"1995\", \"1995\", ...\n",
      "$ crime_count        \u001b[3m\u001b[90m<dbl>\u001b[39m\u001b[23m 0, 0, 0, 0, 7, 29, 12, 4, 2, 0, 0, 0, 1, 0, 0, 1...\n"
     ]
    }
   ],
   "source": [
    "crime_df %<>%\n",
    "    separate(date, c(\"month\", \"year\"))\n",
    "\n",
    "head(crime_df)\n",
    "glimpse(crime_df)"
   ]
  },
  {
   "cell_type": "code",
   "execution_count": 8,
   "metadata": {},
   "outputs": [
    {
     "data": {
      "text/html": [
       "<table>\n",
       "<thead><tr><th scope=col>lga</th><th scope=col>Offence category</th><th scope=col>Subcategory</th><th scope=col>month</th><th scope=col>year</th><th scope=col>crime_count</th></tr></thead>\n",
       "<tbody>\n",
       "\t<tr><td>Albury                               </td><td>Homicide                             </td><td>Murder *                             </td><td>Jan                                  </td><td>1995                                 </td><td> 0                                   </td></tr>\n",
       "\t<tr><td>Albury                               </td><td>Homicide                             </td><td>Attempted murder                     </td><td>Jan                                  </td><td>1995                                 </td><td> 0                                   </td></tr>\n",
       "\t<tr><td>Albury                               </td><td>Homicide                             </td><td>Murder accessory, conspiracy         </td><td>Jan                                  </td><td>1995                                 </td><td> 0                                   </td></tr>\n",
       "\t<tr><td>Albury                               </td><td>Homicide                             </td><td>Manslaughter *                       </td><td>Jan                                  </td><td>1995                                 </td><td> 0                                   </td></tr>\n",
       "\t<tr><td>Albury                               </td><td>Assault                              </td><td>Domestic violence related assault    </td><td>Jan                                  </td><td>1995                                 </td><td> 7                                   </td></tr>\n",
       "\t<tr><td>Albury                               </td><td>Assault                              </td><td>Non-domestic violence related assault</td><td>Jan                                  </td><td>1995                                 </td><td>29                                   </td></tr>\n",
       "</tbody>\n",
       "</table>\n"
      ],
      "text/latex": [
       "\\begin{tabular}{r|llllll}\n",
       " lga & Offence category & Subcategory & month & year & crime\\_count\\\\\n",
       "\\hline\n",
       "\t Albury                                & Homicide                              & Murder *                              & Jan                                   & 1995                                  &  0                                   \\\\\n",
       "\t Albury                                & Homicide                              & Attempted murder                      & Jan                                   & 1995                                  &  0                                   \\\\\n",
       "\t Albury                                & Homicide                              & Murder accessory, conspiracy          & Jan                                   & 1995                                  &  0                                   \\\\\n",
       "\t Albury                                & Homicide                              & Manslaughter *                        & Jan                                   & 1995                                  &  0                                   \\\\\n",
       "\t Albury                                & Assault                               & Domestic violence related assault     & Jan                                   & 1995                                  &  7                                   \\\\\n",
       "\t Albury                                & Assault                               & Non-domestic violence related assault & Jan                                   & 1995                                  & 29                                   \\\\\n",
       "\\end{tabular}\n"
      ],
      "text/markdown": [
       "\n",
       "| lga | Offence category | Subcategory | month | year | crime_count |\n",
       "|---|---|---|---|---|---|\n",
       "| Albury                                | Homicide                              | Murder *                              | Jan                                   | 1995                                  |  0                                    |\n",
       "| Albury                                | Homicide                              | Attempted murder                      | Jan                                   | 1995                                  |  0                                    |\n",
       "| Albury                                | Homicide                              | Murder accessory, conspiracy          | Jan                                   | 1995                                  |  0                                    |\n",
       "| Albury                                | Homicide                              | Manslaughter *                        | Jan                                   | 1995                                  |  0                                    |\n",
       "| Albury                                | Assault                               | Domestic violence related assault     | Jan                                   | 1995                                  |  7                                    |\n",
       "| Albury                                | Assault                               | Non-domestic violence related assault | Jan                                   | 1995                                  | 29                                    |\n",
       "\n"
      ],
      "text/plain": [
       "  lga    Offence category Subcategory                           month year\n",
       "1 Albury Homicide         Murder *                              Jan   1995\n",
       "2 Albury Homicide         Attempted murder                      Jan   1995\n",
       "3 Albury Homicide         Murder accessory, conspiracy          Jan   1995\n",
       "4 Albury Homicide         Manslaughter *                        Jan   1995\n",
       "5 Albury Assault          Domestic violence related assault     Jan   1995\n",
       "6 Albury Assault          Non-domestic violence related assault Jan   1995\n",
       "  crime_count\n",
       "1  0         \n",
       "2  0         \n",
       "3  0         \n",
       "4  0         \n",
       "5  7         \n",
       "6 29         "
      ]
     },
     "metadata": {},
     "output_type": "display_data"
    },
    {
     "name": "stdout",
     "output_type": "stream",
     "text": [
      "Observations: 2,339,136\n",
      "Variables: 6\n",
      "$ lga                \u001b[3m\u001b[90m<chr>\u001b[39m\u001b[23m \"Albury\", \"Albury\", \"Albury\", \"Albury\", \"Albury\"...\n",
      "$ `Offence category` \u001b[3m\u001b[90m<chr>\u001b[39m\u001b[23m \"Homicide\", \"Homicide\", \"Homicide\", \"Homicide\", ...\n",
      "$ Subcategory        \u001b[3m\u001b[90m<chr>\u001b[39m\u001b[23m \"Murder *\", \"Attempted murder\", \"Murder accessor...\n",
      "$ month              \u001b[3m\u001b[90m<chr>\u001b[39m\u001b[23m \"Jan\", \"Jan\", \"Jan\", \"Jan\", \"Jan\", \"Jan\", \"Jan\",...\n",
      "$ year               \u001b[3m\u001b[90m<chr>\u001b[39m\u001b[23m \"1995\", \"1995\", \"1995\", \"1995\", \"1995\", \"1995\", ...\n",
      "$ crime_count        \u001b[3m\u001b[90m<dbl>\u001b[39m\u001b[23m 0, 0, 0, 0, 7, 29, 12, 4, 2, 0, 0, 0, 1, 0, 0, 1...\n"
     ]
    }
   ],
   "source": [
    "crime_df %<>%\n",
    "    rename(lga = LGA)\n",
    "\n",
    "head(crime_df)\n",
    "glimpse(crime_df)"
   ]
  },
  {
   "cell_type": "code",
   "execution_count": 9,
   "metadata": {},
   "outputs": [
    {
     "data": {
      "text/html": [
       "<table>\n",
       "<thead><tr><th scope=col>lga</th><th scope=col>crime_type</th><th scope=col>Subcategory</th><th scope=col>month</th><th scope=col>year</th><th scope=col>crime_count</th><th scope=col>date</th></tr></thead>\n",
       "<tbody>\n",
       "\t<tr><td>Albury                               </td><td>Homicide                             </td><td>Murder *                             </td><td>Jan                                  </td><td>1995                                 </td><td> 0                                   </td><td>1995-01-01                           </td></tr>\n",
       "\t<tr><td>Albury                               </td><td>Homicide                             </td><td>Attempted murder                     </td><td>Jan                                  </td><td>1995                                 </td><td> 0                                   </td><td>1995-01-01                           </td></tr>\n",
       "\t<tr><td>Albury                               </td><td>Homicide                             </td><td>Murder accessory, conspiracy         </td><td>Jan                                  </td><td>1995                                 </td><td> 0                                   </td><td>1995-01-01                           </td></tr>\n",
       "\t<tr><td>Albury                               </td><td>Homicide                             </td><td>Manslaughter *                       </td><td>Jan                                  </td><td>1995                                 </td><td> 0                                   </td><td>1995-01-01                           </td></tr>\n",
       "\t<tr><td>Albury                               </td><td>Assault                              </td><td>Domestic violence related assault    </td><td>Jan                                  </td><td>1995                                 </td><td> 7                                   </td><td>1995-01-01                           </td></tr>\n",
       "\t<tr><td>Albury                               </td><td>Assault                              </td><td>Non-domestic violence related assault</td><td>Jan                                  </td><td>1995                                 </td><td>29                                   </td><td>1995-01-01                           </td></tr>\n",
       "</tbody>\n",
       "</table>\n"
      ],
      "text/latex": [
       "\\begin{tabular}{r|lllllll}\n",
       " lga & crime\\_type & Subcategory & month & year & crime\\_count & date\\\\\n",
       "\\hline\n",
       "\t Albury                                & Homicide                              & Murder *                              & Jan                                   & 1995                                  &  0                                    & 1995-01-01                           \\\\\n",
       "\t Albury                                & Homicide                              & Attempted murder                      & Jan                                   & 1995                                  &  0                                    & 1995-01-01                           \\\\\n",
       "\t Albury                                & Homicide                              & Murder accessory, conspiracy          & Jan                                   & 1995                                  &  0                                    & 1995-01-01                           \\\\\n",
       "\t Albury                                & Homicide                              & Manslaughter *                        & Jan                                   & 1995                                  &  0                                    & 1995-01-01                           \\\\\n",
       "\t Albury                                & Assault                               & Domestic violence related assault     & Jan                                   & 1995                                  &  7                                    & 1995-01-01                           \\\\\n",
       "\t Albury                                & Assault                               & Non-domestic violence related assault & Jan                                   & 1995                                  & 29                                    & 1995-01-01                           \\\\\n",
       "\\end{tabular}\n"
      ],
      "text/markdown": [
       "\n",
       "| lga | crime_type | Subcategory | month | year | crime_count | date |\n",
       "|---|---|---|---|---|---|---|\n",
       "| Albury                                | Homicide                              | Murder *                              | Jan                                   | 1995                                  |  0                                    | 1995-01-01                            |\n",
       "| Albury                                | Homicide                              | Attempted murder                      | Jan                                   | 1995                                  |  0                                    | 1995-01-01                            |\n",
       "| Albury                                | Homicide                              | Murder accessory, conspiracy          | Jan                                   | 1995                                  |  0                                    | 1995-01-01                            |\n",
       "| Albury                                | Homicide                              | Manslaughter *                        | Jan                                   | 1995                                  |  0                                    | 1995-01-01                            |\n",
       "| Albury                                | Assault                               | Domestic violence related assault     | Jan                                   | 1995                                  |  7                                    | 1995-01-01                            |\n",
       "| Albury                                | Assault                               | Non-domestic violence related assault | Jan                                   | 1995                                  | 29                                    | 1995-01-01                            |\n",
       "\n"
      ],
      "text/plain": [
       "  lga    crime_type Subcategory                           month year\n",
       "1 Albury Homicide   Murder *                              Jan   1995\n",
       "2 Albury Homicide   Attempted murder                      Jan   1995\n",
       "3 Albury Homicide   Murder accessory, conspiracy          Jan   1995\n",
       "4 Albury Homicide   Manslaughter *                        Jan   1995\n",
       "5 Albury Assault    Domestic violence related assault     Jan   1995\n",
       "6 Albury Assault    Non-domestic violence related assault Jan   1995\n",
       "  crime_count date      \n",
       "1  0          1995-01-01\n",
       "2  0          1995-01-01\n",
       "3  0          1995-01-01\n",
       "4  0          1995-01-01\n",
       "5  7          1995-01-01\n",
       "6 29          1995-01-01"
      ]
     },
     "metadata": {},
     "output_type": "display_data"
    },
    {
     "name": "stdout",
     "output_type": "stream",
     "text": [
      "Observations: 2,339,136\n",
      "Variables: 7\n",
      "$ lga         \u001b[3m\u001b[90m<chr>\u001b[39m\u001b[23m \"Albury\", \"Albury\", \"Albury\", \"Albury\", \"Albury\", \"Albu...\n",
      "$ crime_type  \u001b[3m\u001b[90m<chr>\u001b[39m\u001b[23m \"Homicide\", \"Homicide\", \"Homicide\", \"Homicide\", \"Assaul...\n",
      "$ Subcategory \u001b[3m\u001b[90m<chr>\u001b[39m\u001b[23m \"Murder *\", \"Attempted murder\", \"Murder accessory, cons...\n",
      "$ month       \u001b[3m\u001b[90m<chr>\u001b[39m\u001b[23m \"Jan\", \"Jan\", \"Jan\", \"Jan\", \"Jan\", \"Jan\", \"Jan\", \"Jan\",...\n",
      "$ year        \u001b[3m\u001b[90m<chr>\u001b[39m\u001b[23m \"1995\", \"1995\", \"1995\", \"1995\", \"1995\", \"1995\", \"1995\",...\n",
      "$ crime_count \u001b[3m\u001b[90m<dbl>\u001b[39m\u001b[23m 0, 0, 0, 0, 7, 29, 12, 4, 2, 0, 0, 0, 1, 0, 0, 1, 35, 3...\n",
      "$ date        \u001b[3m\u001b[90m<date>\u001b[39m\u001b[23m 1995-01-01, 1995-01-01, 1995-01-01, 1995-01-01, 1995-0...\n"
     ]
    }
   ],
   "source": [
    "crime_df %<>%\n",
    "    mutate(date = paste(year, month, \"01\", sep = \"-\")) %>%\n",
    "    mutate(date = as.Date(date, format = \"%Y-%b-%d\")) %>%\n",
    "    arrange(date) %>%\n",
    "    rename(crime_type = `Offence category`)\n",
    "\n",
    "head(crime_df)\n",
    "glimpse(crime_df)"
   ]
  },
  {
   "cell_type": "markdown",
   "metadata": {},
   "source": [
    "## Aggregating the crime count to an LGA level"
   ]
  },
  {
   "cell_type": "code",
   "execution_count": 10,
   "metadata": {},
   "outputs": [
    {
     "data": {
      "text/html": [
       "<table>\n",
       "<thead><tr><th scope=col>lga</th><th scope=col>date</th><th scope=col>total_crime_count</th><th scope=col>year</th></tr></thead>\n",
       "<tbody>\n",
       "\t<tr><td>Albury    </td><td>1995-01-01</td><td>486       </td><td>1995      </td></tr>\n",
       "\t<tr><td>Albury    </td><td>1995-02-01</td><td>367       </td><td>1995      </td></tr>\n",
       "\t<tr><td>Albury    </td><td>1995-03-01</td><td>336       </td><td>1995      </td></tr>\n",
       "\t<tr><td>Albury    </td><td>1995-04-01</td><td>385       </td><td>1995      </td></tr>\n",
       "\t<tr><td>Albury    </td><td>1995-05-01</td><td>378       </td><td>1995      </td></tr>\n",
       "\t<tr><td>Albury    </td><td>1995-06-01</td><td>423       </td><td>1995      </td></tr>\n",
       "</tbody>\n",
       "</table>\n"
      ],
      "text/latex": [
       "\\begin{tabular}{r|llll}\n",
       " lga & date & total\\_crime\\_count & year\\\\\n",
       "\\hline\n",
       "\t Albury     & 1995-01-01 & 486        & 1995      \\\\\n",
       "\t Albury     & 1995-02-01 & 367        & 1995      \\\\\n",
       "\t Albury     & 1995-03-01 & 336        & 1995      \\\\\n",
       "\t Albury     & 1995-04-01 & 385        & 1995      \\\\\n",
       "\t Albury     & 1995-05-01 & 378        & 1995      \\\\\n",
       "\t Albury     & 1995-06-01 & 423        & 1995      \\\\\n",
       "\\end{tabular}\n"
      ],
      "text/markdown": [
       "\n",
       "| lga | date | total_crime_count | year |\n",
       "|---|---|---|---|\n",
       "| Albury     | 1995-01-01 | 486        | 1995       |\n",
       "| Albury     | 1995-02-01 | 367        | 1995       |\n",
       "| Albury     | 1995-03-01 | 336        | 1995       |\n",
       "| Albury     | 1995-04-01 | 385        | 1995       |\n",
       "| Albury     | 1995-05-01 | 378        | 1995       |\n",
       "| Albury     | 1995-06-01 | 423        | 1995       |\n",
       "\n"
      ],
      "text/plain": [
       "  lga    date       total_crime_count year\n",
       "1 Albury 1995-01-01 486               1995\n",
       "2 Albury 1995-02-01 367               1995\n",
       "3 Albury 1995-03-01 336               1995\n",
       "4 Albury 1995-04-01 385               1995\n",
       "5 Albury 1995-05-01 378               1995\n",
       "6 Albury 1995-06-01 423               1995"
      ]
     },
     "metadata": {},
     "output_type": "display_data"
    },
    {
     "name": "stdout",
     "output_type": "stream",
     "text": [
      "Observations: 37,728\n",
      "Variables: 4\n",
      "$ lga               \u001b[3m\u001b[90m<chr>\u001b[39m\u001b[23m \"Albury\", \"Albury\", \"Albury\", \"Albury\", \"Albury\",...\n",
      "$ date              \u001b[3m\u001b[90m<date>\u001b[39m\u001b[23m 1995-01-01, 1995-02-01, 1995-03-01, 1995-04-01, ...\n",
      "$ total_crime_count \u001b[3m\u001b[90m<dbl>\u001b[39m\u001b[23m 486, 367, 336, 385, 378, 423, 404, 362, 349, 371,...\n",
      "$ year              \u001b[3m\u001b[90m<int>\u001b[39m\u001b[23m 1995, 1995, 1995, 1995, 1995, 1995, 1995, 1995, 1...\n"
     ]
    }
   ],
   "source": [
    "crime_agg_df <- crime_df %>%\n",
    "    group_by(lga, date) %>%\n",
    "    summarise(total_crime_count = sum(crime_count)) %>%\n",
    "    ungroup %>%\n",
    "    mutate(year = as.integer(format(date, \"%Y\")))\n",
    "\n",
    "head(crime_agg_df)\n",
    "glimpse(crime_agg_df)"
   ]
  },
  {
   "cell_type": "markdown",
   "metadata": {},
   "source": [
    "## Aggregating the crime count to yearly"
   ]
  },
  {
   "cell_type": "code",
   "execution_count": 11,
   "metadata": {},
   "outputs": [
    {
     "data": {
      "text/html": [
       "<table>\n",
       "<thead><tr><th scope=col>lga</th><th scope=col>year</th><th scope=col>total_crime_count</th></tr></thead>\n",
       "<tbody>\n",
       "\t<tr><td>Albury</td><td>1995  </td><td>4610  </td></tr>\n",
       "\t<tr><td>Albury</td><td>1996  </td><td>5135  </td></tr>\n",
       "\t<tr><td>Albury</td><td>1997  </td><td>5251  </td></tr>\n",
       "\t<tr><td>Albury</td><td>1998  </td><td>5190  </td></tr>\n",
       "\t<tr><td>Albury</td><td>1999  </td><td>5251  </td></tr>\n",
       "\t<tr><td>Albury</td><td>2000  </td><td>6174  </td></tr>\n",
       "</tbody>\n",
       "</table>\n"
      ],
      "text/latex": [
       "\\begin{tabular}{r|lll}\n",
       " lga & year & total\\_crime\\_count\\\\\n",
       "\\hline\n",
       "\t Albury & 1995   & 4610  \\\\\n",
       "\t Albury & 1996   & 5135  \\\\\n",
       "\t Albury & 1997   & 5251  \\\\\n",
       "\t Albury & 1998   & 5190  \\\\\n",
       "\t Albury & 1999   & 5251  \\\\\n",
       "\t Albury & 2000   & 6174  \\\\\n",
       "\\end{tabular}\n"
      ],
      "text/markdown": [
       "\n",
       "| lga | year | total_crime_count |\n",
       "|---|---|---|\n",
       "| Albury | 1995   | 4610   |\n",
       "| Albury | 1996   | 5135   |\n",
       "| Albury | 1997   | 5251   |\n",
       "| Albury | 1998   | 5190   |\n",
       "| Albury | 1999   | 5251   |\n",
       "| Albury | 2000   | 6174   |\n",
       "\n"
      ],
      "text/plain": [
       "  lga    year total_crime_count\n",
       "1 Albury 1995 4610             \n",
       "2 Albury 1996 5135             \n",
       "3 Albury 1997 5251             \n",
       "4 Albury 1998 5190             \n",
       "5 Albury 1999 5251             \n",
       "6 Albury 2000 6174             "
      ]
     },
     "metadata": {},
     "output_type": "display_data"
    },
    {
     "name": "stdout",
     "output_type": "stream",
     "text": [
      "Observations: 3,144\n",
      "Variables: 3\n",
      "$ lga               \u001b[3m\u001b[90m<chr>\u001b[39m\u001b[23m \"Albury\", \"Albury\", \"Albury\", \"Albury\", \"Albury\",...\n",
      "$ year              \u001b[3m\u001b[90m<int>\u001b[39m\u001b[23m 1995, 1996, 1997, 1998, 1999, 2000, 2001, 2002, 2...\n",
      "$ total_crime_count \u001b[3m\u001b[90m<dbl>\u001b[39m\u001b[23m 4610, 5135, 5251, 5190, 5251, 6174, 6801, 7032, 7...\n"
     ]
    }
   ],
   "source": [
    "crime_agg_year_lga_df <- crime_agg_df %>%\n",
    "    group_by(lga, year) %>%\n",
    "    summarise(total_crime_count = sum(total_crime_count)) %>%\n",
    "    ungroup\n",
    "\n",
    "head(crime_agg_year_lga_df)\n",
    "glimpse(crime_agg_year_lga_df)"
   ]
  },
  {
   "cell_type": "markdown",
   "metadata": {},
   "source": [
    "# Loading the `erp` data"
   ]
  },
  {
   "cell_type": "code",
   "execution_count": 12,
   "metadata": {},
   "outputs": [
    {
     "name": "stderr",
     "output_type": "stream",
     "text": [
      "Parsed with column specification:\n",
      "cols(\n",
      "  Sex = \u001b[31mcol_character()\u001b[39m,\n",
      "  Age = \u001b[31mcol_character()\u001b[39m,\n",
      "  LGA_2017 = \u001b[32mcol_double()\u001b[39m,\n",
      "  Region = \u001b[31mcol_character()\u001b[39m,\n",
      "  Time = \u001b[32mcol_double()\u001b[39m,\n",
      "  Value = \u001b[32mcol_double()\u001b[39m\n",
      ")\n"
     ]
    },
    {
     "data": {
      "text/html": [
       "<table>\n",
       "<thead><tr><th scope=col>Sex</th><th scope=col>Age</th><th scope=col>LGA_2017</th><th scope=col>Region</th><th scope=col>Time</th><th scope=col>Value</th></tr></thead>\n",
       "<tbody>\n",
       "\t<tr><td>Males     </td><td>0 - 4     </td><td>10050     </td><td>Albury (C)</td><td>2001      </td><td>1590      </td></tr>\n",
       "\t<tr><td>Males     </td><td>0 - 4     </td><td>10050     </td><td>Albury (C)</td><td>2002      </td><td>1547      </td></tr>\n",
       "\t<tr><td>Males     </td><td>0 - 4     </td><td>10050     </td><td>Albury (C)</td><td>2003      </td><td>1526      </td></tr>\n",
       "\t<tr><td>Males     </td><td>0 - 4     </td><td>10050     </td><td>Albury (C)</td><td>2004      </td><td>1525      </td></tr>\n",
       "\t<tr><td>Males     </td><td>0 - 4     </td><td>10050     </td><td>Albury (C)</td><td>2005      </td><td>1547      </td></tr>\n",
       "\t<tr><td>Males     </td><td>0 - 4     </td><td>10050     </td><td>Albury (C)</td><td>2006      </td><td>1572      </td></tr>\n",
       "</tbody>\n",
       "</table>\n"
      ],
      "text/latex": [
       "\\begin{tabular}{r|llllll}\n",
       " Sex & Age & LGA\\_2017 & Region & Time & Value\\\\\n",
       "\\hline\n",
       "\t Males      & 0 - 4      & 10050      & Albury (C) & 2001       & 1590      \\\\\n",
       "\t Males      & 0 - 4      & 10050      & Albury (C) & 2002       & 1547      \\\\\n",
       "\t Males      & 0 - 4      & 10050      & Albury (C) & 2003       & 1526      \\\\\n",
       "\t Males      & 0 - 4      & 10050      & Albury (C) & 2004       & 1525      \\\\\n",
       "\t Males      & 0 - 4      & 10050      & Albury (C) & 2005       & 1547      \\\\\n",
       "\t Males      & 0 - 4      & 10050      & Albury (C) & 2006       & 1572      \\\\\n",
       "\\end{tabular}\n"
      ],
      "text/markdown": [
       "\n",
       "| Sex | Age | LGA_2017 | Region | Time | Value |\n",
       "|---|---|---|---|---|---|\n",
       "| Males      | 0 - 4      | 10050      | Albury (C) | 2001       | 1590       |\n",
       "| Males      | 0 - 4      | 10050      | Albury (C) | 2002       | 1547       |\n",
       "| Males      | 0 - 4      | 10050      | Albury (C) | 2003       | 1526       |\n",
       "| Males      | 0 - 4      | 10050      | Albury (C) | 2004       | 1525       |\n",
       "| Males      | 0 - 4      | 10050      | Albury (C) | 2005       | 1547       |\n",
       "| Males      | 0 - 4      | 10050      | Albury (C) | 2006       | 1572       |\n",
       "\n"
      ],
      "text/plain": [
       "  Sex   Age   LGA_2017 Region     Time Value\n",
       "1 Males 0 - 4 10050    Albury (C) 2001 1590 \n",
       "2 Males 0 - 4 10050    Albury (C) 2002 1547 \n",
       "3 Males 0 - 4 10050    Albury (C) 2003 1526 \n",
       "4 Males 0 - 4 10050    Albury (C) 2004 1525 \n",
       "5 Males 0 - 4 10050    Albury (C) 2005 1547 \n",
       "6 Males 0 - 4 10050    Albury (C) 2006 1572 "
      ]
     },
     "metadata": {},
     "output_type": "display_data"
    },
    {
     "name": "stdout",
     "output_type": "stream",
     "text": [
      "Observations: 80,172\n",
      "Variables: 6\n",
      "$ Sex      \u001b[3m\u001b[90m<chr>\u001b[39m\u001b[23m \"Males\", \"Males\", \"Males\", \"Males\", \"Males\", \"Males\", \"Mal...\n",
      "$ Age      \u001b[3m\u001b[90m<chr>\u001b[39m\u001b[23m \"0 - 4\", \"0 - 4\", \"0 - 4\", \"0 - 4\", \"0 - 4\", \"0 - 4\", \"0 -...\n",
      "$ LGA_2017 \u001b[3m\u001b[90m<dbl>\u001b[39m\u001b[23m 10050, 10050, 10050, 10050, 10050, 10050, 10050, 10050, 10...\n",
      "$ Region   \u001b[3m\u001b[90m<chr>\u001b[39m\u001b[23m \"Albury (C)\", \"Albury (C)\", \"Albury (C)\", \"Albury (C)\", \"A...\n",
      "$ Time     \u001b[3m\u001b[90m<dbl>\u001b[39m\u001b[23m 2001, 2002, 2003, 2004, 2005, 2006, 2007, 2008, 2009, 2010...\n",
      "$ Value    \u001b[3m\u001b[90m<dbl>\u001b[39m\u001b[23m 1590, 1547, 1526, 1525, 1547, 1572, 1621, 1651, 1694, 1694...\n"
     ]
    }
   ],
   "source": [
    "data_df <- readr::read_csv(paste(data_path, \"erp.csv\", sep = \"/\"))\n",
    "erp_df <- data_df\n",
    "head(erp_df)\n",
    "glimpse(erp_df)"
   ]
  },
  {
   "cell_type": "code",
   "execution_count": 13,
   "metadata": {},
   "outputs": [
    {
     "data": {
      "text/html": [
       "<table>\n",
       "<thead><tr><th scope=col>lga</th><th scope=col>sex</th><th scope=col>age_group</th><th scope=col>year</th><th scope=col>erp</th></tr></thead>\n",
       "<tbody>\n",
       "\t<tr><td>Albury</td><td>Males </td><td>0 - 4 </td><td>2001  </td><td>1590  </td></tr>\n",
       "\t<tr><td>Albury</td><td>Males </td><td>0 - 4 </td><td>2002  </td><td>1547  </td></tr>\n",
       "\t<tr><td>Albury</td><td>Males </td><td>0 - 4 </td><td>2003  </td><td>1526  </td></tr>\n",
       "\t<tr><td>Albury</td><td>Males </td><td>0 - 4 </td><td>2004  </td><td>1525  </td></tr>\n",
       "\t<tr><td>Albury</td><td>Males </td><td>0 - 4 </td><td>2005  </td><td>1547  </td></tr>\n",
       "\t<tr><td>Albury</td><td>Males </td><td>0 - 4 </td><td>2006  </td><td>1572  </td></tr>\n",
       "</tbody>\n",
       "</table>\n"
      ],
      "text/latex": [
       "\\begin{tabular}{r|lllll}\n",
       " lga & sex & age\\_group & year & erp\\\\\n",
       "\\hline\n",
       "\t Albury & Males  & 0 - 4  & 2001   & 1590  \\\\\n",
       "\t Albury & Males  & 0 - 4  & 2002   & 1547  \\\\\n",
       "\t Albury & Males  & 0 - 4  & 2003   & 1526  \\\\\n",
       "\t Albury & Males  & 0 - 4  & 2004   & 1525  \\\\\n",
       "\t Albury & Males  & 0 - 4  & 2005   & 1547  \\\\\n",
       "\t Albury & Males  & 0 - 4  & 2006   & 1572  \\\\\n",
       "\\end{tabular}\n"
      ],
      "text/markdown": [
       "\n",
       "| lga | sex | age_group | year | erp |\n",
       "|---|---|---|---|---|\n",
       "| Albury | Males  | 0 - 4  | 2001   | 1590   |\n",
       "| Albury | Males  | 0 - 4  | 2002   | 1547   |\n",
       "| Albury | Males  | 0 - 4  | 2003   | 1526   |\n",
       "| Albury | Males  | 0 - 4  | 2004   | 1525   |\n",
       "| Albury | Males  | 0 - 4  | 2005   | 1547   |\n",
       "| Albury | Males  | 0 - 4  | 2006   | 1572   |\n",
       "\n"
      ],
      "text/plain": [
       "  lga    sex   age_group year erp \n",
       "1 Albury Males 0 - 4     2001 1590\n",
       "2 Albury Males 0 - 4     2002 1547\n",
       "3 Albury Males 0 - 4     2003 1526\n",
       "4 Albury Males 0 - 4     2004 1525\n",
       "5 Albury Males 0 - 4     2005 1547\n",
       "6 Albury Males 0 - 4     2006 1572"
      ]
     },
     "metadata": {},
     "output_type": "display_data"
    },
    {
     "name": "stdout",
     "output_type": "stream",
     "text": [
      "Observations: 80,172\n",
      "Variables: 5\n",
      "$ lga       \u001b[3m\u001b[90m<chr>\u001b[39m\u001b[23m \"Albury\", \"Albury\", \"Albury\", \"Albury\", \"Albury\", \"Albury...\n",
      "$ sex       \u001b[3m\u001b[90m<chr>\u001b[39m\u001b[23m \"Males\", \"Males\", \"Males\", \"Males\", \"Males\", \"Males\", \"Ma...\n",
      "$ age_group \u001b[3m\u001b[90m<chr>\u001b[39m\u001b[23m \"0 - 4\", \"0 - 4\", \"0 - 4\", \"0 - 4\", \"0 - 4\", \"0 - 4\", \"0 ...\n",
      "$ year      \u001b[3m\u001b[90m<dbl>\u001b[39m\u001b[23m 2001, 2002, 2003, 2004, 2005, 2006, 2007, 2008, 2009, 201...\n",
      "$ erp       \u001b[3m\u001b[90m<dbl>\u001b[39m\u001b[23m 1590, 1547, 1526, 1525, 1547, 1572, 1621, 1651, 1694, 169...\n"
     ]
    }
   ],
   "source": [
    "erp_df %<>%\n",
    "    left_join(lga_name_mapping_df, by = c(\"LGA_2017\" = \"lga_code\")) %>%\n",
    "    select(lga_clean, Sex, Age, Time, Value) %>%\n",
    "    rename(lga = lga_clean, sex = Sex, age_group = Age, year = Time, erp = Value)\n",
    "\n",
    "head(erp_df)\n",
    "glimpse(erp_df)"
   ]
  },
  {
   "cell_type": "code",
   "execution_count": 14,
   "metadata": {},
   "outputs": [
    {
     "data": {
      "text/html": [
       "<table>\n",
       "<thead><tr><th scope=col>lga</th><th scope=col>sex</th><th scope=col>age_group</th><th scope=col>year</th><th scope=col>erp</th></tr></thead>\n",
       "<tbody>\n",
       "\t<tr><td>Albury</td><td>Males </td><td>0 - 4 </td><td>2001  </td><td>1590  </td></tr>\n",
       "\t<tr><td>Albury</td><td>Males </td><td>0 - 4 </td><td>2002  </td><td>1547  </td></tr>\n",
       "\t<tr><td>Albury</td><td>Males </td><td>0 - 4 </td><td>2003  </td><td>1526  </td></tr>\n",
       "\t<tr><td>Albury</td><td>Males </td><td>0 - 4 </td><td>2004  </td><td>1525  </td></tr>\n",
       "\t<tr><td>Albury</td><td>Males </td><td>0 - 4 </td><td>2005  </td><td>1547  </td></tr>\n",
       "\t<tr><td>Albury</td><td>Males </td><td>0 - 4 </td><td>2006  </td><td>1572  </td></tr>\n",
       "</tbody>\n",
       "</table>\n"
      ],
      "text/latex": [
       "\\begin{tabular}{r|lllll}\n",
       " lga & sex & age\\_group & year & erp\\\\\n",
       "\\hline\n",
       "\t Albury & Males  & 0 - 4  & 2001   & 1590  \\\\\n",
       "\t Albury & Males  & 0 - 4  & 2002   & 1547  \\\\\n",
       "\t Albury & Males  & 0 - 4  & 2003   & 1526  \\\\\n",
       "\t Albury & Males  & 0 - 4  & 2004   & 1525  \\\\\n",
       "\t Albury & Males  & 0 - 4  & 2005   & 1547  \\\\\n",
       "\t Albury & Males  & 0 - 4  & 2006   & 1572  \\\\\n",
       "\\end{tabular}\n"
      ],
      "text/markdown": [
       "\n",
       "| lga | sex | age_group | year | erp |\n",
       "|---|---|---|---|---|\n",
       "| Albury | Males  | 0 - 4  | 2001   | 1590   |\n",
       "| Albury | Males  | 0 - 4  | 2002   | 1547   |\n",
       "| Albury | Males  | 0 - 4  | 2003   | 1526   |\n",
       "| Albury | Males  | 0 - 4  | 2004   | 1525   |\n",
       "| Albury | Males  | 0 - 4  | 2005   | 1547   |\n",
       "| Albury | Males  | 0 - 4  | 2006   | 1572   |\n",
       "\n"
      ],
      "text/plain": [
       "  lga    sex   age_group year erp \n",
       "1 Albury Males 0 - 4     2001 1590\n",
       "2 Albury Males 0 - 4     2002 1547\n",
       "3 Albury Males 0 - 4     2003 1526\n",
       "4 Albury Males 0 - 4     2004 1525\n",
       "5 Albury Males 0 - 4     2005 1547\n",
       "6 Albury Males 0 - 4     2006 1572"
      ]
     },
     "metadata": {},
     "output_type": "display_data"
    },
    {
     "name": "stdout",
     "output_type": "stream",
     "text": [
      "Observations: 80,172\n",
      "Variables: 5\n",
      "$ lga       \u001b[3m\u001b[90m<chr>\u001b[39m\u001b[23m \"Albury\", \"Albury\", \"Albury\", \"Albury\", \"Albury\", \"Albury...\n",
      "$ sex       \u001b[3m\u001b[90m<fct>\u001b[39m\u001b[23m Males, Males, Males, Males, Males, Males, Males, Males, M...\n",
      "$ age_group \u001b[3m\u001b[90m<fct>\u001b[39m\u001b[23m 0 - 4, 0 - 4, 0 - 4, 0 - 4, 0 - 4, 0 - 4, 0 - 4, 0 - 4, 0...\n",
      "$ year      \u001b[3m\u001b[90m<dbl>\u001b[39m\u001b[23m 2001, 2002, 2003, 2004, 2005, 2006, 2007, 2008, 2009, 201...\n",
      "$ erp       \u001b[3m\u001b[90m<int>\u001b[39m\u001b[23m 1590, 1547, 1526, 1525, 1547, 1572, 1621, 1651, 1694, 169...\n"
     ]
    }
   ],
   "source": [
    "erp_df %<>%\n",
    "    mutate(sex = as.factor(sex),\n",
    "           age_group = as.factor(age_group),\n",
    "           erp = as.integer(erp))\n",
    "\n",
    "head(erp_df)\n",
    "glimpse(erp_df)"
   ]
  },
  {
   "cell_type": "markdown",
   "metadata": {},
   "source": [
    "## Adding per lga per year"
   ]
  },
  {
   "cell_type": "code",
   "execution_count": 15,
   "metadata": {},
   "outputs": [
    {
     "data": {
      "text/html": [
       "<table>\n",
       "<thead><tr><th scope=col>lga</th><th scope=col>sex</th><th scope=col>age_group</th><th scope=col>year</th><th scope=col>erp</th><th scope=col>erp_lga_year</th></tr></thead>\n",
       "<tbody>\n",
       "\t<tr><td>Albury</td><td>Males </td><td>0 - 4 </td><td>2001  </td><td>1590  </td><td>45265 </td></tr>\n",
       "\t<tr><td>Albury</td><td>Males </td><td>0 - 4 </td><td>2002  </td><td>1547  </td><td>45816 </td></tr>\n",
       "\t<tr><td>Albury</td><td>Males </td><td>0 - 4 </td><td>2003  </td><td>1526  </td><td>46180 </td></tr>\n",
       "\t<tr><td>Albury</td><td>Males </td><td>0 - 4 </td><td>2004  </td><td>1525  </td><td>46505 </td></tr>\n",
       "\t<tr><td>Albury</td><td>Males </td><td>0 - 4 </td><td>2005  </td><td>1547  </td><td>47004 </td></tr>\n",
       "\t<tr><td>Albury</td><td>Males </td><td>0 - 4 </td><td>2006  </td><td>1572  </td><td>47566 </td></tr>\n",
       "</tbody>\n",
       "</table>\n"
      ],
      "text/latex": [
       "\\begin{tabular}{r|llllll}\n",
       " lga & sex & age\\_group & year & erp & erp\\_lga\\_year\\\\\n",
       "\\hline\n",
       "\t Albury & Males  & 0 - 4  & 2001   & 1590   & 45265 \\\\\n",
       "\t Albury & Males  & 0 - 4  & 2002   & 1547   & 45816 \\\\\n",
       "\t Albury & Males  & 0 - 4  & 2003   & 1526   & 46180 \\\\\n",
       "\t Albury & Males  & 0 - 4  & 2004   & 1525   & 46505 \\\\\n",
       "\t Albury & Males  & 0 - 4  & 2005   & 1547   & 47004 \\\\\n",
       "\t Albury & Males  & 0 - 4  & 2006   & 1572   & 47566 \\\\\n",
       "\\end{tabular}\n"
      ],
      "text/markdown": [
       "\n",
       "| lga | sex | age_group | year | erp | erp_lga_year |\n",
       "|---|---|---|---|---|---|\n",
       "| Albury | Males  | 0 - 4  | 2001   | 1590   | 45265  |\n",
       "| Albury | Males  | 0 - 4  | 2002   | 1547   | 45816  |\n",
       "| Albury | Males  | 0 - 4  | 2003   | 1526   | 46180  |\n",
       "| Albury | Males  | 0 - 4  | 2004   | 1525   | 46505  |\n",
       "| Albury | Males  | 0 - 4  | 2005   | 1547   | 47004  |\n",
       "| Albury | Males  | 0 - 4  | 2006   | 1572   | 47566  |\n",
       "\n"
      ],
      "text/plain": [
       "  lga    sex   age_group year erp  erp_lga_year\n",
       "1 Albury Males 0 - 4     2001 1590 45265       \n",
       "2 Albury Males 0 - 4     2002 1547 45816       \n",
       "3 Albury Males 0 - 4     2003 1526 46180       \n",
       "4 Albury Males 0 - 4     2004 1525 46505       \n",
       "5 Albury Males 0 - 4     2005 1547 47004       \n",
       "6 Albury Males 0 - 4     2006 1572 47566       "
      ]
     },
     "metadata": {},
     "output_type": "display_data"
    },
    {
     "name": "stdout",
     "output_type": "stream",
     "text": [
      "Observations: 80,172\n",
      "Variables: 6\n",
      "Groups: lga, year [2,227]\n",
      "$ lga          \u001b[3m\u001b[90m<chr>\u001b[39m\u001b[23m \"Albury\", \"Albury\", \"Albury\", \"Albury\", \"Albury\", \"Alb...\n",
      "$ sex          \u001b[3m\u001b[90m<fct>\u001b[39m\u001b[23m Males, Males, Males, Males, Males, Males, Males, Males...\n",
      "$ age_group    \u001b[3m\u001b[90m<fct>\u001b[39m\u001b[23m 0 - 4, 0 - 4, 0 - 4, 0 - 4, 0 - 4, 0 - 4, 0 - 4, 0 - 4...\n",
      "$ year         \u001b[3m\u001b[90m<dbl>\u001b[39m\u001b[23m 2001, 2002, 2003, 2004, 2005, 2006, 2007, 2008, 2009, ...\n",
      "$ erp          \u001b[3m\u001b[90m<int>\u001b[39m\u001b[23m 1590, 1547, 1526, 1525, 1547, 1572, 1621, 1651, 1694, ...\n",
      "$ erp_lga_year \u001b[3m\u001b[90m<int>\u001b[39m\u001b[23m 45265, 45816, 46180, 46505, 47004, 47566, 48140, 48518...\n"
     ]
    }
   ],
   "source": [
    "erp_df %<>%\n",
    "    group_by(lga, year) %>%\n",
    "    mutate(erp_lga_year = sum(erp))\n",
    "\n",
    "head(erp_df)\n",
    "glimpse(erp_df)"
   ]
  },
  {
   "cell_type": "markdown",
   "metadata": {},
   "source": [
    "## Aggregating to per lga per year"
   ]
  },
  {
   "cell_type": "code",
   "execution_count": 16,
   "metadata": {},
   "outputs": [
    {
     "data": {
      "text/html": [
       "<table>\n",
       "<thead><tr><th scope=col>lga</th><th scope=col>sex</th><th scope=col>age_group</th><th scope=col>year</th><th scope=col>erp</th><th scope=col>erp_lga_year</th></tr></thead>\n",
       "<tbody>\n",
       "\t<tr><td>Albury</td><td>Males </td><td>0 - 4 </td><td>2001  </td><td>1590  </td><td>45265 </td></tr>\n",
       "\t<tr><td>Albury</td><td>Males </td><td>0 - 4 </td><td>2002  </td><td>1547  </td><td>45816 </td></tr>\n",
       "\t<tr><td>Albury</td><td>Males </td><td>0 - 4 </td><td>2003  </td><td>1526  </td><td>46180 </td></tr>\n",
       "\t<tr><td>Albury</td><td>Males </td><td>0 - 4 </td><td>2004  </td><td>1525  </td><td>46505 </td></tr>\n",
       "\t<tr><td>Albury</td><td>Males </td><td>0 - 4 </td><td>2005  </td><td>1547  </td><td>47004 </td></tr>\n",
       "\t<tr><td>Albury</td><td>Males </td><td>0 - 4 </td><td>2006  </td><td>1572  </td><td>47566 </td></tr>\n",
       "</tbody>\n",
       "</table>\n"
      ],
      "text/latex": [
       "\\begin{tabular}{r|llllll}\n",
       " lga & sex & age\\_group & year & erp & erp\\_lga\\_year\\\\\n",
       "\\hline\n",
       "\t Albury & Males  & 0 - 4  & 2001   & 1590   & 45265 \\\\\n",
       "\t Albury & Males  & 0 - 4  & 2002   & 1547   & 45816 \\\\\n",
       "\t Albury & Males  & 0 - 4  & 2003   & 1526   & 46180 \\\\\n",
       "\t Albury & Males  & 0 - 4  & 2004   & 1525   & 46505 \\\\\n",
       "\t Albury & Males  & 0 - 4  & 2005   & 1547   & 47004 \\\\\n",
       "\t Albury & Males  & 0 - 4  & 2006   & 1572   & 47566 \\\\\n",
       "\\end{tabular}\n"
      ],
      "text/markdown": [
       "\n",
       "| lga | sex | age_group | year | erp | erp_lga_year |\n",
       "|---|---|---|---|---|---|\n",
       "| Albury | Males  | 0 - 4  | 2001   | 1590   | 45265  |\n",
       "| Albury | Males  | 0 - 4  | 2002   | 1547   | 45816  |\n",
       "| Albury | Males  | 0 - 4  | 2003   | 1526   | 46180  |\n",
       "| Albury | Males  | 0 - 4  | 2004   | 1525   | 46505  |\n",
       "| Albury | Males  | 0 - 4  | 2005   | 1547   | 47004  |\n",
       "| Albury | Males  | 0 - 4  | 2006   | 1572   | 47566  |\n",
       "\n"
      ],
      "text/plain": [
       "  lga    sex   age_group year erp  erp_lga_year\n",
       "1 Albury Males 0 - 4     2001 1590 45265       \n",
       "2 Albury Males 0 - 4     2002 1547 45816       \n",
       "3 Albury Males 0 - 4     2003 1526 46180       \n",
       "4 Albury Males 0 - 4     2004 1525 46505       \n",
       "5 Albury Males 0 - 4     2005 1547 47004       \n",
       "6 Albury Males 0 - 4     2006 1572 47566       "
      ]
     },
     "metadata": {},
     "output_type": "display_data"
    },
    {
     "name": "stdout",
     "output_type": "stream",
     "text": [
      "Observations: 80,172\n",
      "Variables: 6\n",
      "Groups: lga, year [2,227]\n",
      "$ lga          \u001b[3m\u001b[90m<chr>\u001b[39m\u001b[23m \"Albury\", \"Albury\", \"Albury\", \"Albury\", \"Albury\", \"Alb...\n",
      "$ sex          \u001b[3m\u001b[90m<fct>\u001b[39m\u001b[23m Males, Males, Males, Males, Males, Males, Males, Males...\n",
      "$ age_group    \u001b[3m\u001b[90m<fct>\u001b[39m\u001b[23m 0 - 4, 0 - 4, 0 - 4, 0 - 4, 0 - 4, 0 - 4, 0 - 4, 0 - 4...\n",
      "$ year         \u001b[3m\u001b[90m<dbl>\u001b[39m\u001b[23m 2001, 2002, 2003, 2004, 2005, 2006, 2007, 2008, 2009, ...\n",
      "$ erp          \u001b[3m\u001b[90m<int>\u001b[39m\u001b[23m 1590, 1547, 1526, 1525, 1547, 1572, 1621, 1651, 1694, ...\n",
      "$ erp_lga_year \u001b[3m\u001b[90m<int>\u001b[39m\u001b[23m 45265, 45816, 46180, 46505, 47004, 47566, 48140, 48518...\n"
     ]
    }
   ],
   "source": [
    "erp_agg_df <- erp_df %>%\n",
    "    group_by(lga, year) %>%\n",
    "    summarise(erp_lga_year = sum(erp))\n",
    "\n",
    "head(erp_df)\n",
    "glimpse(erp_df)"
   ]
  },
  {
   "cell_type": "markdown",
   "metadata": {},
   "source": [
    "# Joining `crime` with `erp`"
   ]
  },
  {
   "cell_type": "code",
   "execution_count": 17,
   "metadata": {},
   "outputs": [
    {
     "data": {
      "text/html": [
       "<table>\n",
       "<thead><tr><th scope=col>lga</th><th scope=col>year</th><th scope=col>total_crime_count</th></tr></thead>\n",
       "<tbody>\n",
       "\t<tr><td>Albury</td><td>1995  </td><td>4610  </td></tr>\n",
       "\t<tr><td>Albury</td><td>1996  </td><td>5135  </td></tr>\n",
       "\t<tr><td>Albury</td><td>1997  </td><td>5251  </td></tr>\n",
       "\t<tr><td>Albury</td><td>1998  </td><td>5190  </td></tr>\n",
       "\t<tr><td>Albury</td><td>1999  </td><td>5251  </td></tr>\n",
       "\t<tr><td>Albury</td><td>2000  </td><td>6174  </td></tr>\n",
       "</tbody>\n",
       "</table>\n"
      ],
      "text/latex": [
       "\\begin{tabular}{r|lll}\n",
       " lga & year & total\\_crime\\_count\\\\\n",
       "\\hline\n",
       "\t Albury & 1995   & 4610  \\\\\n",
       "\t Albury & 1996   & 5135  \\\\\n",
       "\t Albury & 1997   & 5251  \\\\\n",
       "\t Albury & 1998   & 5190  \\\\\n",
       "\t Albury & 1999   & 5251  \\\\\n",
       "\t Albury & 2000   & 6174  \\\\\n",
       "\\end{tabular}\n"
      ],
      "text/markdown": [
       "\n",
       "| lga | year | total_crime_count |\n",
       "|---|---|---|\n",
       "| Albury | 1995   | 4610   |\n",
       "| Albury | 1996   | 5135   |\n",
       "| Albury | 1997   | 5251   |\n",
       "| Albury | 1998   | 5190   |\n",
       "| Albury | 1999   | 5251   |\n",
       "| Albury | 2000   | 6174   |\n",
       "\n"
      ],
      "text/plain": [
       "  lga    year total_crime_count\n",
       "1 Albury 1995 4610             \n",
       "2 Albury 1996 5135             \n",
       "3 Albury 1997 5251             \n",
       "4 Albury 1998 5190             \n",
       "5 Albury 1999 5251             \n",
       "6 Albury 2000 6174             "
      ]
     },
     "metadata": {},
     "output_type": "display_data"
    }
   ],
   "source": [
    "head(crime_agg_year_lga_df)"
   ]
  },
  {
   "cell_type": "code",
   "execution_count": 18,
   "metadata": {},
   "outputs": [
    {
     "data": {
      "text/html": [
       "<table>\n",
       "<thead><tr><th scope=col>lga</th><th scope=col>year</th><th scope=col>total_crime_count</th><th scope=col>erp_lga_year</th></tr></thead>\n",
       "<tbody>\n",
       "\t<tr><td>Albury</td><td>2001  </td><td>6801  </td><td>45265 </td></tr>\n",
       "\t<tr><td>Albury</td><td>2002  </td><td>7032  </td><td>45816 </td></tr>\n",
       "\t<tr><td>Albury</td><td>2003  </td><td>7160  </td><td>46180 </td></tr>\n",
       "\t<tr><td>Albury</td><td>2004  </td><td>6544  </td><td>46505 </td></tr>\n",
       "\t<tr><td>Albury</td><td>2005  </td><td>6863  </td><td>47004 </td></tr>\n",
       "\t<tr><td>Albury</td><td>2006  </td><td>7020  </td><td>47566 </td></tr>\n",
       "</tbody>\n",
       "</table>\n"
      ],
      "text/latex": [
       "\\begin{tabular}{r|llll}\n",
       " lga & year & total\\_crime\\_count & erp\\_lga\\_year\\\\\n",
       "\\hline\n",
       "\t Albury & 2001   & 6801   & 45265 \\\\\n",
       "\t Albury & 2002   & 7032   & 45816 \\\\\n",
       "\t Albury & 2003   & 7160   & 46180 \\\\\n",
       "\t Albury & 2004   & 6544   & 46505 \\\\\n",
       "\t Albury & 2005   & 6863   & 47004 \\\\\n",
       "\t Albury & 2006   & 7020   & 47566 \\\\\n",
       "\\end{tabular}\n"
      ],
      "text/markdown": [
       "\n",
       "| lga | year | total_crime_count | erp_lga_year |\n",
       "|---|---|---|---|\n",
       "| Albury | 2001   | 6801   | 45265  |\n",
       "| Albury | 2002   | 7032   | 45816  |\n",
       "| Albury | 2003   | 7160   | 46180  |\n",
       "| Albury | 2004   | 6544   | 46505  |\n",
       "| Albury | 2005   | 6863   | 47004  |\n",
       "| Albury | 2006   | 7020   | 47566  |\n",
       "\n"
      ],
      "text/plain": [
       "  lga    year total_crime_count erp_lga_year\n",
       "1 Albury 2001 6801              45265       \n",
       "2 Albury 2002 7032              45816       \n",
       "3 Albury 2003 7160              46180       \n",
       "4 Albury 2004 6544              46505       \n",
       "5 Albury 2005 6863              47004       \n",
       "6 Albury 2006 7020              47566       "
      ]
     },
     "metadata": {},
     "output_type": "display_data"
    },
    {
     "name": "stdout",
     "output_type": "stream",
     "text": [
      "Observations: 2,142\n",
      "Variables: 4\n",
      "$ lga               \u001b[3m\u001b[90m<chr>\u001b[39m\u001b[23m \"Albury\", \"Albury\", \"Albury\", \"Albury\", \"Albury\",...\n",
      "$ year              \u001b[3m\u001b[90m<dbl>\u001b[39m\u001b[23m 2001, 2002, 2003, 2004, 2005, 2006, 2007, 2008, 2...\n",
      "$ total_crime_count \u001b[3m\u001b[90m<dbl>\u001b[39m\u001b[23m 6801, 7032, 7160, 6544, 6863, 7020, 7165, 7181, 6...\n",
      "$ erp_lga_year      \u001b[3m\u001b[90m<int>\u001b[39m\u001b[23m 45265, 45816, 46180, 46505, 47004, 47566, 48140, ...\n"
     ]
    }
   ],
   "source": [
    "joined_df <- crime_agg_year_lga_df %>%\n",
    "    left_join(erp_agg_df, by = c(\"lga\", \"year\")) %>%\n",
    "    drop_na\n",
    "\n",
    "head(joined_df)\n",
    "glimpse(joined_df)"
   ]
  },
  {
   "cell_type": "markdown",
   "metadata": {},
   "source": [
    "## Add Crime Rate per lga per year"
   ]
  },
  {
   "cell_type": "code",
   "execution_count": 19,
   "metadata": {},
   "outputs": [
    {
     "data": {
      "text/html": [
       "<table>\n",
       "<thead><tr><th scope=col>lga</th><th scope=col>year</th><th scope=col>total_crime_count</th><th scope=col>erp_lga_year</th><th scope=col>crime_rate_year_lga</th></tr></thead>\n",
       "<tbody>\n",
       "\t<tr><td>Albury   </td><td>2001     </td><td>6801     </td><td>45265    </td><td>0.1502485</td></tr>\n",
       "\t<tr><td>Albury   </td><td>2002     </td><td>7032     </td><td>45816    </td><td>0.1534835</td></tr>\n",
       "\t<tr><td>Albury   </td><td>2003     </td><td>7160     </td><td>46180    </td><td>0.1550455</td></tr>\n",
       "\t<tr><td>Albury   </td><td>2004     </td><td>6544     </td><td>46505    </td><td>0.1407161</td></tr>\n",
       "\t<tr><td>Albury   </td><td>2005     </td><td>6863     </td><td>47004    </td><td>0.1460089</td></tr>\n",
       "\t<tr><td>Albury   </td><td>2006     </td><td>7020     </td><td>47566    </td><td>0.1475844</td></tr>\n",
       "</tbody>\n",
       "</table>\n"
      ],
      "text/latex": [
       "\\begin{tabular}{r|lllll}\n",
       " lga & year & total\\_crime\\_count & erp\\_lga\\_year & crime\\_rate\\_year\\_lga\\\\\n",
       "\\hline\n",
       "\t Albury    & 2001      & 6801      & 45265     & 0.1502485\\\\\n",
       "\t Albury    & 2002      & 7032      & 45816     & 0.1534835\\\\\n",
       "\t Albury    & 2003      & 7160      & 46180     & 0.1550455\\\\\n",
       "\t Albury    & 2004      & 6544      & 46505     & 0.1407161\\\\\n",
       "\t Albury    & 2005      & 6863      & 47004     & 0.1460089\\\\\n",
       "\t Albury    & 2006      & 7020      & 47566     & 0.1475844\\\\\n",
       "\\end{tabular}\n"
      ],
      "text/markdown": [
       "\n",
       "| lga | year | total_crime_count | erp_lga_year | crime_rate_year_lga |\n",
       "|---|---|---|---|---|\n",
       "| Albury    | 2001      | 6801      | 45265     | 0.1502485 |\n",
       "| Albury    | 2002      | 7032      | 45816     | 0.1534835 |\n",
       "| Albury    | 2003      | 7160      | 46180     | 0.1550455 |\n",
       "| Albury    | 2004      | 6544      | 46505     | 0.1407161 |\n",
       "| Albury    | 2005      | 6863      | 47004     | 0.1460089 |\n",
       "| Albury    | 2006      | 7020      | 47566     | 0.1475844 |\n",
       "\n"
      ],
      "text/plain": [
       "  lga    year total_crime_count erp_lga_year crime_rate_year_lga\n",
       "1 Albury 2001 6801              45265        0.1502485          \n",
       "2 Albury 2002 7032              45816        0.1534835          \n",
       "3 Albury 2003 7160              46180        0.1550455          \n",
       "4 Albury 2004 6544              46505        0.1407161          \n",
       "5 Albury 2005 6863              47004        0.1460089          \n",
       "6 Albury 2006 7020              47566        0.1475844          "
      ]
     },
     "metadata": {},
     "output_type": "display_data"
    },
    {
     "name": "stdout",
     "output_type": "stream",
     "text": [
      "Observations: 2,142\n",
      "Variables: 5\n",
      "$ lga                 \u001b[3m\u001b[90m<chr>\u001b[39m\u001b[23m \"Albury\", \"Albury\", \"Albury\", \"Albury\", \"Albury...\n",
      "$ year                \u001b[3m\u001b[90m<dbl>\u001b[39m\u001b[23m 2001, 2002, 2003, 2004, 2005, 2006, 2007, 2008,...\n",
      "$ total_crime_count   \u001b[3m\u001b[90m<dbl>\u001b[39m\u001b[23m 6801, 7032, 7160, 6544, 6863, 7020, 7165, 7181,...\n",
      "$ erp_lga_year        \u001b[3m\u001b[90m<int>\u001b[39m\u001b[23m 45265, 45816, 46180, 46505, 47004, 47566, 48140...\n",
      "$ crime_rate_year_lga \u001b[3m\u001b[90m<dbl>\u001b[39m\u001b[23m 0.1502485, 0.1534835, 0.1550455, 0.1407161, 0.1...\n"
     ]
    }
   ],
   "source": [
    "joined_df %<>%\n",
    "    mutate(crime_rate_year_lga = total_crime_count / erp_lga_year)\n",
    "\n",
    "head(joined_df)\n",
    "glimpse(joined_df)"
   ]
  },
  {
   "cell_type": "markdown",
   "metadata": {},
   "source": [
    "# Loading the `building` data"
   ]
  },
  {
   "cell_type": "code",
   "execution_count": 20,
   "metadata": {},
   "outputs": [
    {
     "name": "stderr",
     "output_type": "stream",
     "text": [
      "Parsed with column specification:\n",
      "cols(\n",
      "  MEASURE = \u001b[32mcol_double()\u001b[39m,\n",
      "  Measure = \u001b[31mcol_character()\u001b[39m,\n",
      "  SECTOR = \u001b[32mcol_double()\u001b[39m,\n",
      "  `Sector of ownership` = \u001b[31mcol_character()\u001b[39m,\n",
      "  `Type of work` = \u001b[31mcol_character()\u001b[39m,\n",
      "  TYPE_BLDG = \u001b[32mcol_double()\u001b[39m,\n",
      "  `Type of building` = \u001b[31mcol_character()\u001b[39m,\n",
      "  LGA_2017 = \u001b[32mcol_double()\u001b[39m,\n",
      "  Region = \u001b[31mcol_character()\u001b[39m,\n",
      "  Time = \u001b[31mcol_character()\u001b[39m,\n",
      "  Value = \u001b[32mcol_double()\u001b[39m\n",
      ")\n"
     ]
    },
    {
     "data": {
      "text/html": [
       "<table>\n",
       "<thead><tr><th scope=col>MEASURE</th><th scope=col>Measure</th><th scope=col>SECTOR</th><th scope=col>Sector of ownership</th><th scope=col>Type of work</th><th scope=col>TYPE_BLDG</th><th scope=col>Type of building</th><th scope=col>LGA_2017</th><th scope=col>Region</th><th scope=col>Time</th><th scope=col>Value</th></tr></thead>\n",
       "<tbody>\n",
       "\t<tr><td>1                             </td><td>Total number of dwelling units</td><td>1                             </td><td>Private Sector                </td><td>New                           </td><td>110                           </td><td>Houses                        </td><td>10050                         </td><td>Albury (C)                    </td><td>Jul-2017                      </td><td>24                            </td></tr>\n",
       "\t<tr><td>1                             </td><td>Total number of dwelling units</td><td>1                             </td><td>Private Sector                </td><td>New                           </td><td>110                           </td><td>Houses                        </td><td>10050                         </td><td>Albury (C)                    </td><td>Aug-2017                      </td><td>25                            </td></tr>\n",
       "\t<tr><td>1                             </td><td>Total number of dwelling units</td><td>1                             </td><td>Private Sector                </td><td>New                           </td><td>110                           </td><td>Houses                        </td><td>10050                         </td><td>Albury (C)                    </td><td>Sep-2017                      </td><td>14                            </td></tr>\n",
       "\t<tr><td>1                             </td><td>Total number of dwelling units</td><td>1                             </td><td>Private Sector                </td><td>New                           </td><td>110                           </td><td>Houses                        </td><td>10050                         </td><td>Albury (C)                    </td><td>Oct-2017                      </td><td>11                            </td></tr>\n",
       "\t<tr><td>1                             </td><td>Total number of dwelling units</td><td>1                             </td><td>Private Sector                </td><td>New                           </td><td>110                           </td><td>Houses                        </td><td>10050                         </td><td>Albury (C)                    </td><td>Nov-2017                      </td><td>32                            </td></tr>\n",
       "\t<tr><td>1                             </td><td>Total number of dwelling units</td><td>1                             </td><td>Private Sector                </td><td>New                           </td><td>110                           </td><td>Houses                        </td><td>10050                         </td><td>Albury (C)                    </td><td>Dec-2017                      </td><td>14                            </td></tr>\n",
       "</tbody>\n",
       "</table>\n"
      ],
      "text/latex": [
       "\\begin{tabular}{r|lllllllllll}\n",
       " MEASURE & Measure & SECTOR & Sector of ownership & Type of work & TYPE\\_BLDG & Type of building & LGA\\_2017 & Region & Time & Value\\\\\n",
       "\\hline\n",
       "\t 1                              & Total number of dwelling units & 1                              & Private Sector                 & New                            & 110                            & Houses                         & 10050                          & Albury (C)                     & Jul-2017                       & 24                            \\\\\n",
       "\t 1                              & Total number of dwelling units & 1                              & Private Sector                 & New                            & 110                            & Houses                         & 10050                          & Albury (C)                     & Aug-2017                       & 25                            \\\\\n",
       "\t 1                              & Total number of dwelling units & 1                              & Private Sector                 & New                            & 110                            & Houses                         & 10050                          & Albury (C)                     & Sep-2017                       & 14                            \\\\\n",
       "\t 1                              & Total number of dwelling units & 1                              & Private Sector                 & New                            & 110                            & Houses                         & 10050                          & Albury (C)                     & Oct-2017                       & 11                            \\\\\n",
       "\t 1                              & Total number of dwelling units & 1                              & Private Sector                 & New                            & 110                            & Houses                         & 10050                          & Albury (C)                     & Nov-2017                       & 32                            \\\\\n",
       "\t 1                              & Total number of dwelling units & 1                              & Private Sector                 & New                            & 110                            & Houses                         & 10050                          & Albury (C)                     & Dec-2017                       & 14                            \\\\\n",
       "\\end{tabular}\n"
      ],
      "text/markdown": [
       "\n",
       "| MEASURE | Measure | SECTOR | Sector of ownership | Type of work | TYPE_BLDG | Type of building | LGA_2017 | Region | Time | Value |\n",
       "|---|---|---|---|---|---|---|---|---|---|---|\n",
       "| 1                              | Total number of dwelling units | 1                              | Private Sector                 | New                            | 110                            | Houses                         | 10050                          | Albury (C)                     | Jul-2017                       | 24                             |\n",
       "| 1                              | Total number of dwelling units | 1                              | Private Sector                 | New                            | 110                            | Houses                         | 10050                          | Albury (C)                     | Aug-2017                       | 25                             |\n",
       "| 1                              | Total number of dwelling units | 1                              | Private Sector                 | New                            | 110                            | Houses                         | 10050                          | Albury (C)                     | Sep-2017                       | 14                             |\n",
       "| 1                              | Total number of dwelling units | 1                              | Private Sector                 | New                            | 110                            | Houses                         | 10050                          | Albury (C)                     | Oct-2017                       | 11                             |\n",
       "| 1                              | Total number of dwelling units | 1                              | Private Sector                 | New                            | 110                            | Houses                         | 10050                          | Albury (C)                     | Nov-2017                       | 32                             |\n",
       "| 1                              | Total number of dwelling units | 1                              | Private Sector                 | New                            | 110                            | Houses                         | 10050                          | Albury (C)                     | Dec-2017                       | 14                             |\n",
       "\n"
      ],
      "text/plain": [
       "  MEASURE Measure                        SECTOR Sector of ownership\n",
       "1 1       Total number of dwelling units 1      Private Sector     \n",
       "2 1       Total number of dwelling units 1      Private Sector     \n",
       "3 1       Total number of dwelling units 1      Private Sector     \n",
       "4 1       Total number of dwelling units 1      Private Sector     \n",
       "5 1       Total number of dwelling units 1      Private Sector     \n",
       "6 1       Total number of dwelling units 1      Private Sector     \n",
       "  Type of work TYPE_BLDG Type of building LGA_2017 Region     Time     Value\n",
       "1 New          110       Houses           10050    Albury (C) Jul-2017 24   \n",
       "2 New          110       Houses           10050    Albury (C) Aug-2017 25   \n",
       "3 New          110       Houses           10050    Albury (C) Sep-2017 14   \n",
       "4 New          110       Houses           10050    Albury (C) Oct-2017 11   \n",
       "5 New          110       Houses           10050    Albury (C) Nov-2017 32   \n",
       "6 New          110       Houses           10050    Albury (C) Dec-2017 14   "
      ]
     },
     "metadata": {},
     "output_type": "display_data"
    },
    {
     "name": "stdout",
     "output_type": "stream",
     "text": [
      "Observations: 413,820\n",
      "Variables: 11\n",
      "$ MEASURE               \u001b[3m\u001b[90m<dbl>\u001b[39m\u001b[23m 1, 1, 1, 1, 1, 1, 1, 1, 1, 1, 1, 1, 1, 1, 1, ...\n",
      "$ Measure               \u001b[3m\u001b[90m<chr>\u001b[39m\u001b[23m \"Total number of dwelling units\", \"Total numb...\n",
      "$ SECTOR                \u001b[3m\u001b[90m<dbl>\u001b[39m\u001b[23m 1, 1, 1, 1, 1, 1, 1, 1, 1, 1, 1, 1, 1, 1, 1, ...\n",
      "$ `Sector of ownership` \u001b[3m\u001b[90m<chr>\u001b[39m\u001b[23m \"Private Sector\", \"Private Sector\", \"Private ...\n",
      "$ `Type of work`        \u001b[3m\u001b[90m<chr>\u001b[39m\u001b[23m \"New\", \"New\", \"New\", \"New\", \"New\", \"New\", \"Ne...\n",
      "$ TYPE_BLDG             \u001b[3m\u001b[90m<dbl>\u001b[39m\u001b[23m 110, 110, 110, 110, 110, 110, 121, 121, 121, ...\n",
      "$ `Type of building`    \u001b[3m\u001b[90m<chr>\u001b[39m\u001b[23m \"Houses\", \"Houses\", \"Houses\", \"Houses\", \"Hous...\n",
      "$ LGA_2017              \u001b[3m\u001b[90m<dbl>\u001b[39m\u001b[23m 10050, 10050, 10050, 10050, 10050, 10050, 100...\n",
      "$ Region                \u001b[3m\u001b[90m<chr>\u001b[39m\u001b[23m \"Albury (C)\", \"Albury (C)\", \"Albury (C)\", \"Al...\n",
      "$ Time                  \u001b[3m\u001b[90m<chr>\u001b[39m\u001b[23m \"Jul-2017\", \"Aug-2017\", \"Sep-2017\", \"Oct-2017...\n",
      "$ Value                 \u001b[3m\u001b[90m<dbl>\u001b[39m\u001b[23m 24, 25, 14, 11, 32, 14, 0, 0, 6, 0, 2, 0, 0, ...\n"
     ]
    }
   ],
   "source": [
    "data_df <- readr::read_csv(paste(data_path, \"building_by_month.csv\", sep = \"/\"))\n",
    "building_df <- data_df\n",
    "head(building_df)\n",
    "glimpse(building_df)"
   ]
  },
  {
   "cell_type": "code",
   "execution_count": 21,
   "metadata": {},
   "outputs": [
    {
     "data": {
      "text/html": [
       "<table>\n",
       "<thead><tr><th scope=col>building_ownership_type</th><th scope=col>building_type</th><th scope=col>month</th><th scope=col>year</th><th scope=col>building_count</th><th scope=col>lga</th></tr></thead>\n",
       "<tbody>\n",
       "\t<tr><td>Private Sector                                                        </td><td>Houses                                                                </td><td>Aug                                                                   </td><td>2016                                                                  </td><td>19                                                                    </td><td>Albury                                                                </td></tr>\n",
       "\t<tr><td>Private Sector                                                        </td><td>Semi-detached, row or terrace houses, townhouses - One storey         </td><td>Aug                                                                   </td><td>2016                                                                  </td><td> 0                                                                    </td><td>Albury                                                                </td></tr>\n",
       "\t<tr><td>Private Sector                                                        </td><td>Semi-detached, row or terrace houses, townhouses - Two or more storeys</td><td>Aug                                                                   </td><td>2016                                                                  </td><td> 0                                                                    </td><td>Albury                                                                </td></tr>\n",
       "\t<tr><td>Private Sector                                                        </td><td>Semi-detached, row or terrace houses, townhouses - Total              </td><td>Aug                                                                   </td><td>2016                                                                  </td><td> 0                                                                    </td><td>Albury                                                                </td></tr>\n",
       "\t<tr><td>Private Sector                                                        </td><td>Flats units or apartments - In a one or two storey block              </td><td>Aug                                                                   </td><td>2016                                                                  </td><td> 0                                                                    </td><td>Albury                                                                </td></tr>\n",
       "\t<tr><td>Private Sector                                                        </td><td>Flats units or apartments - In a three storey block                   </td><td>Aug                                                                   </td><td>2016                                                                  </td><td> 0                                                                    </td><td>Albury                                                                </td></tr>\n",
       "</tbody>\n",
       "</table>\n"
      ],
      "text/latex": [
       "\\begin{tabular}{r|llllll}\n",
       " building\\_ownership\\_type & building\\_type & month & year & building\\_count & lga\\\\\n",
       "\\hline\n",
       "\t Private Sector                                                         & Houses                                                                 & Aug                                                                    & 2016                                                                   & 19                                                                     & Albury                                                                \\\\\n",
       "\t Private Sector                                                         & Semi-detached, row or terrace houses, townhouses - One storey          & Aug                                                                    & 2016                                                                   &  0                                                                     & Albury                                                                \\\\\n",
       "\t Private Sector                                                         & Semi-detached, row or terrace houses, townhouses - Two or more storeys & Aug                                                                    & 2016                                                                   &  0                                                                     & Albury                                                                \\\\\n",
       "\t Private Sector                                                         & Semi-detached, row or terrace houses, townhouses - Total               & Aug                                                                    & 2016                                                                   &  0                                                                     & Albury                                                                \\\\\n",
       "\t Private Sector                                                         & Flats units or apartments - In a one or two storey block               & Aug                                                                    & 2016                                                                   &  0                                                                     & Albury                                                                \\\\\n",
       "\t Private Sector                                                         & Flats units or apartments - In a three storey block                    & Aug                                                                    & 2016                                                                   &  0                                                                     & Albury                                                                \\\\\n",
       "\\end{tabular}\n"
      ],
      "text/markdown": [
       "\n",
       "| building_ownership_type | building_type | month | year | building_count | lga |\n",
       "|---|---|---|---|---|---|\n",
       "| Private Sector                                                         | Houses                                                                 | Aug                                                                    | 2016                                                                   | 19                                                                     | Albury                                                                 |\n",
       "| Private Sector                                                         | Semi-detached, row or terrace houses, townhouses - One storey          | Aug                                                                    | 2016                                                                   |  0                                                                     | Albury                                                                 |\n",
       "| Private Sector                                                         | Semi-detached, row or terrace houses, townhouses - Two or more storeys | Aug                                                                    | 2016                                                                   |  0                                                                     | Albury                                                                 |\n",
       "| Private Sector                                                         | Semi-detached, row or terrace houses, townhouses - Total               | Aug                                                                    | 2016                                                                   |  0                                                                     | Albury                                                                 |\n",
       "| Private Sector                                                         | Flats units or apartments - In a one or two storey block               | Aug                                                                    | 2016                                                                   |  0                                                                     | Albury                                                                 |\n",
       "| Private Sector                                                         | Flats units or apartments - In a three storey block                    | Aug                                                                    | 2016                                                                   |  0                                                                     | Albury                                                                 |\n",
       "\n"
      ],
      "text/plain": [
       "  building_ownership_type\n",
       "1 Private Sector         \n",
       "2 Private Sector         \n",
       "3 Private Sector         \n",
       "4 Private Sector         \n",
       "5 Private Sector         \n",
       "6 Private Sector         \n",
       "  building_type                                                          month\n",
       "1 Houses                                                                 Aug  \n",
       "2 Semi-detached, row or terrace houses, townhouses - One storey          Aug  \n",
       "3 Semi-detached, row or terrace houses, townhouses - Two or more storeys Aug  \n",
       "4 Semi-detached, row or terrace houses, townhouses - Total               Aug  \n",
       "5 Flats units or apartments - In a one or two storey block               Aug  \n",
       "6 Flats units or apartments - In a three storey block                    Aug  \n",
       "  year building_count lga   \n",
       "1 2016 19             Albury\n",
       "2 2016  0             Albury\n",
       "3 2016  0             Albury\n",
       "4 2016  0             Albury\n",
       "5 2016  0             Albury\n",
       "6 2016  0             Albury"
      ]
     },
     "metadata": {},
     "output_type": "display_data"
    },
    {
     "name": "stdout",
     "output_type": "stream",
     "text": [
      "Observations: 91,960\n",
      "Variables: 6\n",
      "$ building_ownership_type \u001b[3m\u001b[90m<fct>\u001b[39m\u001b[23m Private Sector, Private Sector, Private Sec...\n",
      "$ building_type           \u001b[3m\u001b[90m<fct>\u001b[39m\u001b[23m \"Houses\", \"Semi-detached, row or terrace ho...\n",
      "$ month                   \u001b[3m\u001b[90m<chr>\u001b[39m\u001b[23m \"Aug\", \"Aug\", \"Aug\", \"Aug\", \"Aug\", \"Aug\", \"...\n",
      "$ year                    \u001b[3m\u001b[90m<int>\u001b[39m\u001b[23m 2016, 2016, 2016, 2016, 2016, 2016, 2016, 2...\n",
      "$ building_count          \u001b[3m\u001b[90m<int>\u001b[39m\u001b[23m 19, 0, 0, 0, 0, 0, 0, 0, 0, 19, 0, 0, 0, 0,...\n",
      "$ lga                     \u001b[3m\u001b[90m<chr>\u001b[39m\u001b[23m \"Albury\", \"Albury\", \"Albury\", \"Albury\", \"Al...\n"
     ]
    }
   ],
   "source": [
    "building_df %<>%\n",
    "    select(Measure, \n",
    "           `Sector of ownership`, \n",
    "           `Type of building`, \n",
    "           LGA_2017, \n",
    "           Time, \n",
    "           Value) %>%\n",
    "    filter(`Sector of ownership` != \"Total Sectors\") %>%\n",
    "    filter(Measure == \"Total number of dwelling units\") %>%\n",
    "    rename(building_ownership_type = `Sector of ownership`, \n",
    "           building_type = `Type of building`, \n",
    "           lga_code = LGA_2017, \n",
    "           building_count = Value) %>%\n",
    "    separate(Time, c(\"month\", \"year\"), sep = \"-\") %>%\n",
    "    mutate(building_ownership_type = as.factor(building_ownership_type),\n",
    "           building_type = as.factor(building_type),\n",
    "           year = as.integer(year),\n",
    "           building_count = as.integer(building_count)) %>% \n",
    "    arrange(year, month) %>% \n",
    "    left_join(lga_name_mapping_df, by = \"lga_code\") %>% \n",
    "    select(-Measure, -lga_code, -lga_paren) %>% \n",
    "    rename(lga = lga_clean)\n",
    "\n",
    "head(building_df)\n",
    "glimpse(building_df)"
   ]
  },
  {
   "cell_type": "markdown",
   "metadata": {},
   "source": [
    "## Add building total per lga per year"
   ]
  },
  {
   "cell_type": "code",
   "execution_count": 22,
   "metadata": {},
   "outputs": [
    {
     "data": {
      "text/html": [
       "<table>\n",
       "<thead><tr><th scope=col>lga</th><th scope=col>year</th><th scope=col>building_count_year_lga</th></tr></thead>\n",
       "<tbody>\n",
       "\t<tr><td>Albury           </td><td>2016             </td><td>356              </td></tr>\n",
       "\t<tr><td>Albury           </td><td>2017             </td><td>982              </td></tr>\n",
       "\t<tr><td>Albury           </td><td>2018             </td><td>698              </td></tr>\n",
       "\t<tr><td>Albury           </td><td>2019             </td><td>188              </td></tr>\n",
       "\t<tr><td>Armidale Regional</td><td>2016             </td><td> 62              </td></tr>\n",
       "\t<tr><td>Armidale Regional</td><td>2017             </td><td> 88              </td></tr>\n",
       "</tbody>\n",
       "</table>\n"
      ],
      "text/latex": [
       "\\begin{tabular}{r|lll}\n",
       " lga & year & building\\_count\\_year\\_lga\\\\\n",
       "\\hline\n",
       "\t Albury            & 2016              & 356              \\\\\n",
       "\t Albury            & 2017              & 982              \\\\\n",
       "\t Albury            & 2018              & 698              \\\\\n",
       "\t Albury            & 2019              & 188              \\\\\n",
       "\t Armidale Regional & 2016              &  62              \\\\\n",
       "\t Armidale Regional & 2017              &  88              \\\\\n",
       "\\end{tabular}\n"
      ],
      "text/markdown": [
       "\n",
       "| lga | year | building_count_year_lga |\n",
       "|---|---|---|\n",
       "| Albury            | 2016              | 356               |\n",
       "| Albury            | 2017              | 982               |\n",
       "| Albury            | 2018              | 698               |\n",
       "| Albury            | 2019              | 188               |\n",
       "| Armidale Regional | 2016              |  62               |\n",
       "| Armidale Regional | 2017              |  88               |\n",
       "\n"
      ],
      "text/plain": [
       "  lga               year building_count_year_lga\n",
       "1 Albury            2016 356                    \n",
       "2 Albury            2017 982                    \n",
       "3 Albury            2018 698                    \n",
       "4 Albury            2019 188                    \n",
       "5 Armidale Regional 2016  62                    \n",
       "6 Armidale Regional 2017  88                    "
      ]
     },
     "metadata": {},
     "output_type": "display_data"
    },
    {
     "name": "stdout",
     "output_type": "stream",
     "text": [
      "Observations: 265\n",
      "Variables: 3\n",
      "$ lga                     \u001b[3m\u001b[90m<chr>\u001b[39m\u001b[23m \"Albury\", \"Albury\", \"Albury\", \"Albury\", \"Ar...\n",
      "$ year                    \u001b[3m\u001b[90m<int>\u001b[39m\u001b[23m 2016, 2017, 2018, 2019, 2016, 2017, 2016, 2...\n",
      "$ building_count_year_lga \u001b[3m\u001b[90m<int>\u001b[39m\u001b[23m 356, 982, 698, 188, 62, 88, 546, 572, 0, 2,...\n"
     ]
    }
   ],
   "source": [
    "building_agg_df <- building_df %>%\n",
    "    group_by(lga, year) %>%\n",
    "    summarise(building_count_year_lga = sum(building_count)) %>%\n",
    "    ungroup %>% \n",
    "    drop_na\n",
    "\n",
    "head(building_agg_df)\n",
    "glimpse(building_agg_df)"
   ]
  },
  {
   "cell_type": "markdown",
   "metadata": {},
   "source": [
    "# Joining the `building` data"
   ]
  },
  {
   "cell_type": "code",
   "execution_count": 23,
   "metadata": {},
   "outputs": [
    {
     "data": {
      "text/html": [
       "<table>\n",
       "<thead><tr><th scope=col>lga</th><th scope=col>year</th><th scope=col>total_crime_count</th><th scope=col>erp_lga_year</th><th scope=col>crime_rate_year_lga</th></tr></thead>\n",
       "<tbody>\n",
       "\t<tr><td>Albury   </td><td>2001     </td><td>6801     </td><td>45265    </td><td>0.1502485</td></tr>\n",
       "\t<tr><td>Albury   </td><td>2002     </td><td>7032     </td><td>45816    </td><td>0.1534835</td></tr>\n",
       "\t<tr><td>Albury   </td><td>2003     </td><td>7160     </td><td>46180    </td><td>0.1550455</td></tr>\n",
       "\t<tr><td>Albury   </td><td>2004     </td><td>6544     </td><td>46505    </td><td>0.1407161</td></tr>\n",
       "\t<tr><td>Albury   </td><td>2005     </td><td>6863     </td><td>47004    </td><td>0.1460089</td></tr>\n",
       "\t<tr><td>Albury   </td><td>2006     </td><td>7020     </td><td>47566    </td><td>0.1475844</td></tr>\n",
       "</tbody>\n",
       "</table>\n"
      ],
      "text/latex": [
       "\\begin{tabular}{r|lllll}\n",
       " lga & year & total\\_crime\\_count & erp\\_lga\\_year & crime\\_rate\\_year\\_lga\\\\\n",
       "\\hline\n",
       "\t Albury    & 2001      & 6801      & 45265     & 0.1502485\\\\\n",
       "\t Albury    & 2002      & 7032      & 45816     & 0.1534835\\\\\n",
       "\t Albury    & 2003      & 7160      & 46180     & 0.1550455\\\\\n",
       "\t Albury    & 2004      & 6544      & 46505     & 0.1407161\\\\\n",
       "\t Albury    & 2005      & 6863      & 47004     & 0.1460089\\\\\n",
       "\t Albury    & 2006      & 7020      & 47566     & 0.1475844\\\\\n",
       "\\end{tabular}\n"
      ],
      "text/markdown": [
       "\n",
       "| lga | year | total_crime_count | erp_lga_year | crime_rate_year_lga |\n",
       "|---|---|---|---|---|\n",
       "| Albury    | 2001      | 6801      | 45265     | 0.1502485 |\n",
       "| Albury    | 2002      | 7032      | 45816     | 0.1534835 |\n",
       "| Albury    | 2003      | 7160      | 46180     | 0.1550455 |\n",
       "| Albury    | 2004      | 6544      | 46505     | 0.1407161 |\n",
       "| Albury    | 2005      | 6863      | 47004     | 0.1460089 |\n",
       "| Albury    | 2006      | 7020      | 47566     | 0.1475844 |\n",
       "\n"
      ],
      "text/plain": [
       "  lga    year total_crime_count erp_lga_year crime_rate_year_lga\n",
       "1 Albury 2001 6801              45265        0.1502485          \n",
       "2 Albury 2002 7032              45816        0.1534835          \n",
       "3 Albury 2003 7160              46180        0.1550455          \n",
       "4 Albury 2004 6544              46505        0.1407161          \n",
       "5 Albury 2005 6863              47004        0.1460089          \n",
       "6 Albury 2006 7020              47566        0.1475844          "
      ]
     },
     "metadata": {},
     "output_type": "display_data"
    },
    {
     "data": {
      "text/html": [
       "<table>\n",
       "<thead><tr><th scope=col>lga</th><th scope=col>year</th><th scope=col>building_count_year_lga</th></tr></thead>\n",
       "<tbody>\n",
       "\t<tr><td>Albury           </td><td>2016             </td><td>356              </td></tr>\n",
       "\t<tr><td>Albury           </td><td>2017             </td><td>982              </td></tr>\n",
       "\t<tr><td>Albury           </td><td>2018             </td><td>698              </td></tr>\n",
       "\t<tr><td>Albury           </td><td>2019             </td><td>188              </td></tr>\n",
       "\t<tr><td>Armidale Regional</td><td>2016             </td><td> 62              </td></tr>\n",
       "\t<tr><td>Armidale Regional</td><td>2017             </td><td> 88              </td></tr>\n",
       "</tbody>\n",
       "</table>\n"
      ],
      "text/latex": [
       "\\begin{tabular}{r|lll}\n",
       " lga & year & building\\_count\\_year\\_lga\\\\\n",
       "\\hline\n",
       "\t Albury            & 2016              & 356              \\\\\n",
       "\t Albury            & 2017              & 982              \\\\\n",
       "\t Albury            & 2018              & 698              \\\\\n",
       "\t Albury            & 2019              & 188              \\\\\n",
       "\t Armidale Regional & 2016              &  62              \\\\\n",
       "\t Armidale Regional & 2017              &  88              \\\\\n",
       "\\end{tabular}\n"
      ],
      "text/markdown": [
       "\n",
       "| lga | year | building_count_year_lga |\n",
       "|---|---|---|\n",
       "| Albury            | 2016              | 356               |\n",
       "| Albury            | 2017              | 982               |\n",
       "| Albury            | 2018              | 698               |\n",
       "| Albury            | 2019              | 188               |\n",
       "| Armidale Regional | 2016              |  62               |\n",
       "| Armidale Regional | 2017              |  88               |\n",
       "\n"
      ],
      "text/plain": [
       "  lga               year building_count_year_lga\n",
       "1 Albury            2016 356                    \n",
       "2 Albury            2017 982                    \n",
       "3 Albury            2018 698                    \n",
       "4 Albury            2019 188                    \n",
       "5 Armidale Regional 2016  62                    \n",
       "6 Armidale Regional 2017  88                    "
      ]
     },
     "metadata": {},
     "output_type": "display_data"
    }
   ],
   "source": [
    "head(joined_df)\n",
    "head(building_agg_df)"
   ]
  },
  {
   "cell_type": "code",
   "execution_count": 24,
   "metadata": {},
   "outputs": [
    {
     "data": {
      "text/html": [
       "<table>\n",
       "<thead><tr><th scope=col>lga</th><th scope=col>year</th><th scope=col>total_crime_count</th><th scope=col>erp_lga_year</th><th scope=col>crime_rate_year_lga</th><th scope=col>building_count_year_lga</th></tr></thead>\n",
       "<tbody>\n",
       "\t<tr><td>Albury   </td><td>2001     </td><td>6801     </td><td>45265    </td><td>0.1502485</td><td>NA       </td></tr>\n",
       "\t<tr><td>Albury   </td><td>2002     </td><td>7032     </td><td>45816    </td><td>0.1534835</td><td>NA       </td></tr>\n",
       "\t<tr><td>Albury   </td><td>2003     </td><td>7160     </td><td>46180    </td><td>0.1550455</td><td>NA       </td></tr>\n",
       "\t<tr><td>Albury   </td><td>2004     </td><td>6544     </td><td>46505    </td><td>0.1407161</td><td>NA       </td></tr>\n",
       "\t<tr><td>Albury   </td><td>2005     </td><td>6863     </td><td>47004    </td><td>0.1460089</td><td>NA       </td></tr>\n",
       "\t<tr><td>Albury   </td><td>2006     </td><td>7020     </td><td>47566    </td><td>0.1475844</td><td>NA       </td></tr>\n",
       "</tbody>\n",
       "</table>\n"
      ],
      "text/latex": [
       "\\begin{tabular}{r|llllll}\n",
       " lga & year & total\\_crime\\_count & erp\\_lga\\_year & crime\\_rate\\_year\\_lga & building\\_count\\_year\\_lga\\\\\n",
       "\\hline\n",
       "\t Albury    & 2001      & 6801      & 45265     & 0.1502485 & NA       \\\\\n",
       "\t Albury    & 2002      & 7032      & 45816     & 0.1534835 & NA       \\\\\n",
       "\t Albury    & 2003      & 7160      & 46180     & 0.1550455 & NA       \\\\\n",
       "\t Albury    & 2004      & 6544      & 46505     & 0.1407161 & NA       \\\\\n",
       "\t Albury    & 2005      & 6863      & 47004     & 0.1460089 & NA       \\\\\n",
       "\t Albury    & 2006      & 7020      & 47566     & 0.1475844 & NA       \\\\\n",
       "\\end{tabular}\n"
      ],
      "text/markdown": [
       "\n",
       "| lga | year | total_crime_count | erp_lga_year | crime_rate_year_lga | building_count_year_lga |\n",
       "|---|---|---|---|---|---|\n",
       "| Albury    | 2001      | 6801      | 45265     | 0.1502485 | NA        |\n",
       "| Albury    | 2002      | 7032      | 45816     | 0.1534835 | NA        |\n",
       "| Albury    | 2003      | 7160      | 46180     | 0.1550455 | NA        |\n",
       "| Albury    | 2004      | 6544      | 46505     | 0.1407161 | NA        |\n",
       "| Albury    | 2005      | 6863      | 47004     | 0.1460089 | NA        |\n",
       "| Albury    | 2006      | 7020      | 47566     | 0.1475844 | NA        |\n",
       "\n"
      ],
      "text/plain": [
       "  lga    year total_crime_count erp_lga_year crime_rate_year_lga\n",
       "1 Albury 2001 6801              45265        0.1502485          \n",
       "2 Albury 2002 7032              45816        0.1534835          \n",
       "3 Albury 2003 7160              46180        0.1550455          \n",
       "4 Albury 2004 6544              46505        0.1407161          \n",
       "5 Albury 2005 6863              47004        0.1460089          \n",
       "6 Albury 2006 7020              47566        0.1475844          \n",
       "  building_count_year_lga\n",
       "1 NA                     \n",
       "2 NA                     \n",
       "3 NA                     \n",
       "4 NA                     \n",
       "5 NA                     \n",
       "6 NA                     "
      ]
     },
     "metadata": {},
     "output_type": "display_data"
    },
    {
     "name": "stdout",
     "output_type": "stream",
     "text": [
      "Observations: 2,142\n",
      "Variables: 6\n",
      "$ lga                     \u001b[3m\u001b[90m<chr>\u001b[39m\u001b[23m \"Albury\", \"Albury\", \"Albury\", \"Albury\", \"Al...\n",
      "$ year                    \u001b[3m\u001b[90m<dbl>\u001b[39m\u001b[23m 2001, 2002, 2003, 2004, 2005, 2006, 2007, 2...\n",
      "$ total_crime_count       \u001b[3m\u001b[90m<dbl>\u001b[39m\u001b[23m 6801, 7032, 7160, 6544, 6863, 7020, 7165, 7...\n",
      "$ erp_lga_year            \u001b[3m\u001b[90m<int>\u001b[39m\u001b[23m 45265, 45816, 46180, 46505, 47004, 47566, 4...\n",
      "$ crime_rate_year_lga     \u001b[3m\u001b[90m<dbl>\u001b[39m\u001b[23m 0.1502485, 0.1534835, 0.1550455, 0.1407161,...\n",
      "$ building_count_year_lga \u001b[3m\u001b[90m<int>\u001b[39m\u001b[23m NA, NA, NA, NA, NA, NA, NA, NA, NA, NA, NA,...\n"
     ]
    }
   ],
   "source": [
    "joined_df_2 <- joined_df %>%\n",
    "    left_join(building_agg_df, by = c(\"lga\", \"year\"))\n",
    "\n",
    "head(joined_df_2)\n",
    "glimpse(joined_df_2)"
   ]
  },
  {
   "cell_type": "markdown",
   "metadata": {},
   "source": [
    "# Loading the Dwelling data"
   ]
  },
  {
   "cell_type": "code",
   "execution_count": 25,
   "metadata": {},
   "outputs": [
    {
     "name": "stderr",
     "output_type": "stream",
     "text": [
      "Parsed with column specification:\n",
      "cols(\n",
      "  `Dwelling Type` = \u001b[31mcol_character()\u001b[39m,\n",
      "  `Dwelling Structure` = \u001b[31mcol_character()\u001b[39m,\n",
      "  LGA_2016 = \u001b[32mcol_double()\u001b[39m,\n",
      "  Region = \u001b[31mcol_character()\u001b[39m,\n",
      "  `Census year` = \u001b[32mcol_double()\u001b[39m,\n",
      "  Value = \u001b[32mcol_double()\u001b[39m\n",
      ")\n"
     ]
    },
    {
     "data": {
      "text/html": [
       "<table>\n",
       "<thead><tr><th scope=col>Dwelling Type</th><th scope=col>Dwelling Structure</th><th scope=col>LGA_2016</th><th scope=col>Region</th><th scope=col>Census year</th><th scope=col>Value</th></tr></thead>\n",
       "<tbody>\n",
       "\t<tr><td>Total         </td><td>Total         </td><td>10050         </td><td>Albury (C)    </td><td>2006          </td><td>20191         </td></tr>\n",
       "\t<tr><td>Total         </td><td>Total         </td><td>10050         </td><td>Albury (C)    </td><td>2011          </td><td>21519         </td></tr>\n",
       "\t<tr><td>Total         </td><td>Total         </td><td>10050         </td><td>Albury (C)    </td><td>2016          </td><td>23369         </td></tr>\n",
       "\t<tr><td>Total         </td><td>Separate house</td><td>10050         </td><td>Albury (C)    </td><td>2006          </td><td>14989         </td></tr>\n",
       "\t<tr><td>Total         </td><td>Separate house</td><td>10050         </td><td>Albury (C)    </td><td>2011          </td><td>16252         </td></tr>\n",
       "\t<tr><td>Total         </td><td>Separate house</td><td>10050         </td><td>Albury (C)    </td><td>2016          </td><td>18127         </td></tr>\n",
       "</tbody>\n",
       "</table>\n"
      ],
      "text/latex": [
       "\\begin{tabular}{r|llllll}\n",
       " Dwelling Type & Dwelling Structure & LGA\\_2016 & Region & Census year & Value\\\\\n",
       "\\hline\n",
       "\t Total          & Total          & 10050          & Albury (C)     & 2006           & 20191         \\\\\n",
       "\t Total          & Total          & 10050          & Albury (C)     & 2011           & 21519         \\\\\n",
       "\t Total          & Total          & 10050          & Albury (C)     & 2016           & 23369         \\\\\n",
       "\t Total          & Separate house & 10050          & Albury (C)     & 2006           & 14989         \\\\\n",
       "\t Total          & Separate house & 10050          & Albury (C)     & 2011           & 16252         \\\\\n",
       "\t Total          & Separate house & 10050          & Albury (C)     & 2016           & 18127         \\\\\n",
       "\\end{tabular}\n"
      ],
      "text/markdown": [
       "\n",
       "| Dwelling Type | Dwelling Structure | LGA_2016 | Region | Census year | Value |\n",
       "|---|---|---|---|---|---|\n",
       "| Total          | Total          | 10050          | Albury (C)     | 2006           | 20191          |\n",
       "| Total          | Total          | 10050          | Albury (C)     | 2011           | 21519          |\n",
       "| Total          | Total          | 10050          | Albury (C)     | 2016           | 23369          |\n",
       "| Total          | Separate house | 10050          | Albury (C)     | 2006           | 14989          |\n",
       "| Total          | Separate house | 10050          | Albury (C)     | 2011           | 16252          |\n",
       "| Total          | Separate house | 10050          | Albury (C)     | 2016           | 18127          |\n",
       "\n"
      ],
      "text/plain": [
       "  Dwelling Type Dwelling Structure LGA_2016 Region     Census year Value\n",
       "1 Total         Total              10050    Albury (C) 2006        20191\n",
       "2 Total         Total              10050    Albury (C) 2011        21519\n",
       "3 Total         Total              10050    Albury (C) 2016        23369\n",
       "4 Total         Separate house     10050    Albury (C) 2006        14989\n",
       "5 Total         Separate house     10050    Albury (C) 2011        16252\n",
       "6 Total         Separate house     10050    Albury (C) 2016        18127"
      ]
     },
     "metadata": {},
     "output_type": "display_data"
    },
    {
     "name": "stdout",
     "output_type": "stream",
     "text": [
      "Observations: 18,864\n",
      "Variables: 6\n",
      "$ `Dwelling Type`      \u001b[3m\u001b[90m<chr>\u001b[39m\u001b[23m \"Total\", \"Total\", \"Total\", \"Total\", \"Total\", \"...\n",
      "$ `Dwelling Structure` \u001b[3m\u001b[90m<chr>\u001b[39m\u001b[23m \"Total\", \"Total\", \"Total\", \"Separate house\", \"...\n",
      "$ LGA_2016             \u001b[3m\u001b[90m<dbl>\u001b[39m\u001b[23m 10050, 10050, 10050, 10050, 10050, 10050, 1005...\n",
      "$ Region               \u001b[3m\u001b[90m<chr>\u001b[39m\u001b[23m \"Albury (C)\", \"Albury (C)\", \"Albury (C)\", \"Alb...\n",
      "$ `Census year`        \u001b[3m\u001b[90m<dbl>\u001b[39m\u001b[23m 2006, 2011, 2016, 2006, 2011, 2016, 2006, 2011...\n",
      "$ Value                \u001b[3m\u001b[90m<dbl>\u001b[39m\u001b[23m 20191, 21519, 23369, 14989, 16252, 18127, 1234...\n"
     ]
    }
   ],
   "source": [
    "data_df <- readr::read_csv(paste(data_path, \"dwelling.csv\", sep = \"/\"))\n",
    "dwelling_df <- data_df\n",
    "\n",
    "head(dwelling_df)\n",
    "glimpse(dwelling_df)"
   ]
  },
  {
   "cell_type": "markdown",
   "metadata": {},
   "source": [
    "Get the total dwellings only."
   ]
  },
  {
   "cell_type": "code",
   "execution_count": 26,
   "metadata": {},
   "outputs": [
    {
     "data": {
      "text/html": [
       "<table>\n",
       "<thead><tr><th scope=col>lga</th><th scope=col>year</th><th scope=col>dwelling_count</th></tr></thead>\n",
       "<tbody>\n",
       "\t<tr><td>Albury           </td><td>2006             </td><td>20191            </td></tr>\n",
       "\t<tr><td>Albury           </td><td>2011             </td><td>21519            </td></tr>\n",
       "\t<tr><td>Albury           </td><td>2016             </td><td>23369            </td></tr>\n",
       "\t<tr><td>Armidale Regional</td><td>2006             </td><td>11650            </td></tr>\n",
       "\t<tr><td>Armidale Regional</td><td>2011             </td><td>12114            </td></tr>\n",
       "\t<tr><td>Armidale Regional</td><td>2016             </td><td>12671            </td></tr>\n",
       "</tbody>\n",
       "</table>\n"
      ],
      "text/latex": [
       "\\begin{tabular}{r|lll}\n",
       " lga & year & dwelling\\_count\\\\\n",
       "\\hline\n",
       "\t Albury            & 2006              & 20191            \\\\\n",
       "\t Albury            & 2011              & 21519            \\\\\n",
       "\t Albury            & 2016              & 23369            \\\\\n",
       "\t Armidale Regional & 2006              & 11650            \\\\\n",
       "\t Armidale Regional & 2011              & 12114            \\\\\n",
       "\t Armidale Regional & 2016              & 12671            \\\\\n",
       "\\end{tabular}\n"
      ],
      "text/markdown": [
       "\n",
       "| lga | year | dwelling_count |\n",
       "|---|---|---|\n",
       "| Albury            | 2006              | 20191             |\n",
       "| Albury            | 2011              | 21519             |\n",
       "| Albury            | 2016              | 23369             |\n",
       "| Armidale Regional | 2006              | 11650             |\n",
       "| Armidale Regional | 2011              | 12114             |\n",
       "| Armidale Regional | 2016              | 12671             |\n",
       "\n"
      ],
      "text/plain": [
       "  lga               year dwelling_count\n",
       "1 Albury            2006 20191         \n",
       "2 Albury            2011 21519         \n",
       "3 Albury            2016 23369         \n",
       "4 Armidale Regional 2006 11650         \n",
       "5 Armidale Regional 2011 12114         \n",
       "6 Armidale Regional 2016 12671         "
      ]
     },
     "metadata": {},
     "output_type": "display_data"
    },
    {
     "name": "stdout",
     "output_type": "stream",
     "text": [
      "Observations: 387\n",
      "Variables: 3\n",
      "$ lga            \u001b[3m\u001b[90m<chr>\u001b[39m\u001b[23m \"Albury\", \"Albury\", \"Albury\", \"Armidale Regional\", \"...\n",
      "$ year           \u001b[3m\u001b[90m<dbl>\u001b[39m\u001b[23m 2006, 2011, 2016, 2006, 2011, 2016, 2006, 2011, 2016...\n",
      "$ dwelling_count \u001b[3m\u001b[90m<dbl>\u001b[39m\u001b[23m 20191, 21519, 23369, 11650, 12114, 12671, 17088, 180...\n"
     ]
    }
   ],
   "source": [
    "dwelling_df %<>%\n",
    "    filter(`Dwelling Type` == \"Total\", `Dwelling Structure` == \"Total\") %>%\n",
    "    rename(lga_code = LGA_2016, year = `Census year`, dwelling_count = Value) %>%\n",
    "    left_join(lga_name_mapping_df, by = \"lga_code\") %>% \n",
    "    select(lga_clean, year, dwelling_count) %>% \n",
    "    rename(lga = lga_clean) %>%\n",
    "    drop_na\n",
    "\n",
    "head(dwelling_df)\n",
    "glimpse(dwelling_df)"
   ]
  },
  {
   "cell_type": "markdown",
   "metadata": {},
   "source": [
    "## Adding the years in between"
   ]
  },
  {
   "cell_type": "code",
   "execution_count": 27,
   "metadata": {},
   "outputs": [
    {
     "data": {
      "text/html": [
       "2016"
      ],
      "text/latex": [
       "2016"
      ],
      "text/markdown": [
       "2016"
      ],
      "text/plain": [
       "[1] 2016"
      ]
     },
     "metadata": {},
     "output_type": "display_data"
    },
    {
     "data": {
      "text/html": [
       "2006"
      ],
      "text/latex": [
       "2006"
      ],
      "text/markdown": [
       "2006"
      ],
      "text/plain": [
       "[1] 2006"
      ]
     },
     "metadata": {},
     "output_type": "display_data"
    }
   ],
   "source": [
    "year_max <- max(dwelling_df$year)\n",
    "year_min <- min(dwelling_df$year)\n",
    "\n",
    "year_max\n",
    "year_min"
   ]
  },
  {
   "cell_type": "code",
   "execution_count": 28,
   "metadata": {},
   "outputs": [
    {
     "data": {
      "text/html": [
       "<table>\n",
       "<thead><tr><th scope=col>year</th></tr></thead>\n",
       "<tbody>\n",
       "\t<tr><td>2006</td></tr>\n",
       "\t<tr><td>2007</td></tr>\n",
       "\t<tr><td>2008</td></tr>\n",
       "\t<tr><td>2009</td></tr>\n",
       "\t<tr><td>2010</td></tr>\n",
       "\t<tr><td>2011</td></tr>\n",
       "\t<tr><td>2012</td></tr>\n",
       "\t<tr><td>2013</td></tr>\n",
       "\t<tr><td>2014</td></tr>\n",
       "\t<tr><td>2015</td></tr>\n",
       "\t<tr><td>2016</td></tr>\n",
       "</tbody>\n",
       "</table>\n"
      ],
      "text/latex": [
       "\\begin{tabular}{r|l}\n",
       " year\\\\\n",
       "\\hline\n",
       "\t 2006\\\\\n",
       "\t 2007\\\\\n",
       "\t 2008\\\\\n",
       "\t 2009\\\\\n",
       "\t 2010\\\\\n",
       "\t 2011\\\\\n",
       "\t 2012\\\\\n",
       "\t 2013\\\\\n",
       "\t 2014\\\\\n",
       "\t 2015\\\\\n",
       "\t 2016\\\\\n",
       "\\end{tabular}\n"
      ],
      "text/markdown": [
       "\n",
       "| year |\n",
       "|---|\n",
       "| 2006 |\n",
       "| 2007 |\n",
       "| 2008 |\n",
       "| 2009 |\n",
       "| 2010 |\n",
       "| 2011 |\n",
       "| 2012 |\n",
       "| 2013 |\n",
       "| 2014 |\n",
       "| 2015 |\n",
       "| 2016 |\n",
       "\n"
      ],
      "text/plain": [
       "   year\n",
       "1  2006\n",
       "2  2007\n",
       "3  2008\n",
       "4  2009\n",
       "5  2010\n",
       "6  2011\n",
       "7  2012\n",
       "8  2013\n",
       "9  2014\n",
       "10 2015\n",
       "11 2016"
      ]
     },
     "metadata": {},
     "output_type": "display_data"
    }
   ],
   "source": [
    "year_df <- data.frame(year = seq(year_min, year_max))\n",
    "year_df"
   ]
  },
  {
   "cell_type": "markdown",
   "metadata": {},
   "source": [
    "## Interpolate"
   ]
  },
  {
   "cell_type": "markdown",
   "metadata": {},
   "source": [
    "Use linear interpolation for the years that are missing between 2006, 2011, and 2016."
   ]
  },
  {
   "cell_type": "code",
   "execution_count": 29,
   "metadata": {},
   "outputs": [],
   "source": [
    "dwelling_interpolated_df <- dwelling_df"
   ]
  },
  {
   "cell_type": "markdown",
   "metadata": {},
   "source": [
    "The `interpolate_between_census` function accepts a data.frame that has the columns:\n",
    "* year\n",
    "* lga\n",
    "* {value_col}, the value column will be named appropriately, e.g. `dwelling_count`, contains the data to be interpolated for each year\n",
    "\n",
    "The data is assumed to have years 2006, 2011, and 2016."
   ]
  },
  {
   "cell_type": "code",
   "execution_count": 54,
   "metadata": {},
   "outputs": [],
   "source": [
    "interpolate_between_census <- function(data, value_col){\n",
    "    # int_df is used to store the interpolated values\n",
    "    int_df <- data\n",
    "    \n",
    "    for(lga in unique(data$lga)){\n",
    "        data <- dwelling_df %>%\n",
    "            filter(lga == !!lga)\n",
    "\n",
    "        for(year in seq(year_min + 1, year_max - 1)){\n",
    "            if(year > 2006 & year < 2011){\n",
    "                x0 = 2006\n",
    "                x1 = 2011\n",
    "                y0 <- data %>% \n",
    "                    filter(year == !!x0, lga == !!lga) %>%\n",
    "                    select(!!value_col) %>%\n",
    "                    pull(1)\n",
    "                y1 <- data %>% \n",
    "                    filter(year == !!x1, lga == !!lga) %>%\n",
    "                    select(!!value_col) %>%\n",
    "                    pull(1)\n",
    "\n",
    "                x = year\n",
    "                y = round(y0 + (x - x0)*(y1 - y0)/(x1 - x0), digits = 0)\n",
    "\n",
    "                int_df <- rbind(int_df, c(lga, year, y))             \n",
    "\n",
    "            }else if(year > 2011 & year < 2016){\n",
    "                x0 = 2011\n",
    "                x1 = 2016\n",
    "                y0 <- data %>% \n",
    "                    filter(year == !!x0, lga == !!lga) %>%\n",
    "                    select(!!value_col) %>%\n",
    "                    pull(1)\n",
    "                y1 <- data %>% \n",
    "                    filter(year == !!x1, lga == !!lga) %>%\n",
    "                    select(!!value_col) %>%\n",
    "                    pull(1)\n",
    "\n",
    "                x = year\n",
    "                y = round(y0 + (x - x0)*(y1 - y0)/(x1 - x0), digits = 0)\n",
    "\n",
    "                int_df <- rbind(int_df, c(lga, year, y)) \n",
    "            }\n",
    "        }\n",
    "    }\n",
    "    return(int_df)\n",
    "}"
   ]
  },
  {
   "cell_type": "code",
   "execution_count": 63,
   "metadata": {},
   "outputs": [
    {
     "data": {
      "text/html": [
       "<table>\n",
       "<thead><tr><th scope=col>lga</th><th scope=col>year</th><th scope=col>dwelling_count</th></tr></thead>\n",
       "<tbody>\n",
       "\t<tr><td>Albury           </td><td>2006             </td><td>20191            </td></tr>\n",
       "\t<tr><td>Albury           </td><td>2011             </td><td>21519            </td></tr>\n",
       "\t<tr><td>Albury           </td><td>2016             </td><td>23369            </td></tr>\n",
       "\t<tr><td>Armidale Regional</td><td>2006             </td><td>11650            </td></tr>\n",
       "\t<tr><td>Armidale Regional</td><td>2011             </td><td>12114            </td></tr>\n",
       "\t<tr><td>Armidale Regional</td><td>2016             </td><td>12671            </td></tr>\n",
       "</tbody>\n",
       "</table>\n"
      ],
      "text/latex": [
       "\\begin{tabular}{r|lll}\n",
       " lga & year & dwelling\\_count\\\\\n",
       "\\hline\n",
       "\t Albury            & 2006              & 20191            \\\\\n",
       "\t Albury            & 2011              & 21519            \\\\\n",
       "\t Albury            & 2016              & 23369            \\\\\n",
       "\t Armidale Regional & 2006              & 11650            \\\\\n",
       "\t Armidale Regional & 2011              & 12114            \\\\\n",
       "\t Armidale Regional & 2016              & 12671            \\\\\n",
       "\\end{tabular}\n"
      ],
      "text/markdown": [
       "\n",
       "| lga | year | dwelling_count |\n",
       "|---|---|---|\n",
       "| Albury            | 2006              | 20191             |\n",
       "| Albury            | 2011              | 21519             |\n",
       "| Albury            | 2016              | 23369             |\n",
       "| Armidale Regional | 2006              | 11650             |\n",
       "| Armidale Regional | 2011              | 12114             |\n",
       "| Armidale Regional | 2016              | 12671             |\n",
       "\n"
      ],
      "text/plain": [
       "  lga               year dwelling_count\n",
       "1 Albury            2006 20191         \n",
       "2 Albury            2011 21519         \n",
       "3 Albury            2016 23369         \n",
       "4 Armidale Regional 2006 11650         \n",
       "5 Armidale Regional 2011 12114         \n",
       "6 Armidale Regional 2016 12671         "
      ]
     },
     "metadata": {},
     "output_type": "display_data"
    },
    {
     "name": "stdout",
     "output_type": "stream",
     "text": [
      "Observations: 1,419\n",
      "Variables: 3\n",
      "$ lga            \u001b[3m\u001b[90m<chr>\u001b[39m\u001b[23m \"Albury\", \"Albury\", \"Albury\", \"Armidale Regional\", \"...\n",
      "$ year           \u001b[3m\u001b[90m<chr>\u001b[39m\u001b[23m \"2006\", \"2011\", \"2016\", \"2006\", \"2011\", \"2016\", \"200...\n",
      "$ dwelling_count \u001b[3m\u001b[90m<chr>\u001b[39m\u001b[23m \"20191\", \"21519\", \"23369\", \"11650\", \"12114\", \"12671\"...\n"
     ]
    }
   ],
   "source": [
    "value_col = \"dwelling_count\"\n",
    "dwelling_interpolated_df <- interpolate_between_census(dwelling_df, value_col)\n",
    "\n",
    "head(dwelling_interpolated_df)\n",
    "glimpse(dwelling_interpolated_df)"
   ]
  },
  {
   "cell_type": "code",
   "execution_count": 64,
   "metadata": {},
   "outputs": [
    {
     "data": {
      "text/html": [
       "<table>\n",
       "<thead><tr><th scope=col>lga</th><th scope=col>year</th><th scope=col>dwelling_count</th></tr></thead>\n",
       "<tbody>\n",
       "\t<tr><td>Albury</td><td>2006  </td><td>20191 </td></tr>\n",
       "\t<tr><td>Albury</td><td>2007  </td><td>20457 </td></tr>\n",
       "\t<tr><td>Albury</td><td>2008  </td><td>20722 </td></tr>\n",
       "\t<tr><td>Albury</td><td>2009  </td><td>20988 </td></tr>\n",
       "\t<tr><td>Albury</td><td>2010  </td><td>21253 </td></tr>\n",
       "\t<tr><td>Albury</td><td>2011  </td><td>21519 </td></tr>\n",
       "</tbody>\n",
       "</table>\n"
      ],
      "text/latex": [
       "\\begin{tabular}{r|lll}\n",
       " lga & year & dwelling\\_count\\\\\n",
       "\\hline\n",
       "\t Albury & 2006   & 20191 \\\\\n",
       "\t Albury & 2007   & 20457 \\\\\n",
       "\t Albury & 2008   & 20722 \\\\\n",
       "\t Albury & 2009   & 20988 \\\\\n",
       "\t Albury & 2010   & 21253 \\\\\n",
       "\t Albury & 2011   & 21519 \\\\\n",
       "\\end{tabular}\n"
      ],
      "text/markdown": [
       "\n",
       "| lga | year | dwelling_count |\n",
       "|---|---|---|\n",
       "| Albury | 2006   | 20191  |\n",
       "| Albury | 2007   | 20457  |\n",
       "| Albury | 2008   | 20722  |\n",
       "| Albury | 2009   | 20988  |\n",
       "| Albury | 2010   | 21253  |\n",
       "| Albury | 2011   | 21519  |\n",
       "\n"
      ],
      "text/plain": [
       "  lga    year dwelling_count\n",
       "1 Albury 2006 20191         \n",
       "2 Albury 2007 20457         \n",
       "3 Albury 2008 20722         \n",
       "4 Albury 2009 20988         \n",
       "5 Albury 2010 21253         \n",
       "6 Albury 2011 21519         "
      ]
     },
     "metadata": {},
     "output_type": "display_data"
    },
    {
     "name": "stdout",
     "output_type": "stream",
     "text": [
      "Observations: 1,419\n",
      "Variables: 3\n",
      "$ lga            \u001b[3m\u001b[90m<chr>\u001b[39m\u001b[23m \"Albury\", \"Albury\", \"Albury\", \"Albury\", \"Albury\", \"A...\n",
      "$ year           \u001b[3m\u001b[90m<chr>\u001b[39m\u001b[23m \"2006\", \"2007\", \"2008\", \"2009\", \"2010\", \"2011\", \"201...\n",
      "$ dwelling_count \u001b[3m\u001b[90m<chr>\u001b[39m\u001b[23m \"20191\", \"20457\", \"20722\", \"20988\", \"21253\", \"21519\"...\n"
     ]
    }
   ],
   "source": [
    "dwelling_interpolated_df %<>%\n",
    "    arrange(lga, year)\n",
    "\n",
    "head(dwelling_interpolated_df)\n",
    "glimpse(dwelling_interpolated_df)"
   ]
  },
  {
   "cell_type": "code",
   "execution_count": 65,
   "metadata": {},
   "outputs": [
    {
     "data": {
      "text/html": [
       "<table>\n",
       "<thead><tr><th scope=col>lga</th><th scope=col>year</th><th scope=col>dwelling_count</th></tr></thead>\n",
       "<tbody>\n",
       "\t<tr><td>Albury</td><td>2006  </td><td>20191 </td></tr>\n",
       "\t<tr><td>Albury</td><td>2007  </td><td>20457 </td></tr>\n",
       "\t<tr><td>Albury</td><td>2008  </td><td>20722 </td></tr>\n",
       "\t<tr><td>Albury</td><td>2009  </td><td>20988 </td></tr>\n",
       "\t<tr><td>Albury</td><td>2010  </td><td>21253 </td></tr>\n",
       "\t<tr><td>Albury</td><td>2011  </td><td>21519 </td></tr>\n",
       "</tbody>\n",
       "</table>\n"
      ],
      "text/latex": [
       "\\begin{tabular}{r|lll}\n",
       " lga & year & dwelling\\_count\\\\\n",
       "\\hline\n",
       "\t Albury & 2006   & 20191 \\\\\n",
       "\t Albury & 2007   & 20457 \\\\\n",
       "\t Albury & 2008   & 20722 \\\\\n",
       "\t Albury & 2009   & 20988 \\\\\n",
       "\t Albury & 2010   & 21253 \\\\\n",
       "\t Albury & 2011   & 21519 \\\\\n",
       "\\end{tabular}\n"
      ],
      "text/markdown": [
       "\n",
       "| lga | year | dwelling_count |\n",
       "|---|---|---|\n",
       "| Albury | 2006   | 20191  |\n",
       "| Albury | 2007   | 20457  |\n",
       "| Albury | 2008   | 20722  |\n",
       "| Albury | 2009   | 20988  |\n",
       "| Albury | 2010   | 21253  |\n",
       "| Albury | 2011   | 21519  |\n",
       "\n"
      ],
      "text/plain": [
       "  lga    year dwelling_count\n",
       "1 Albury 2006 20191         \n",
       "2 Albury 2007 20457         \n",
       "3 Albury 2008 20722         \n",
       "4 Albury 2009 20988         \n",
       "5 Albury 2010 21253         \n",
       "6 Albury 2011 21519         "
      ]
     },
     "metadata": {},
     "output_type": "display_data"
    },
    {
     "name": "stdout",
     "output_type": "stream",
     "text": [
      "Observations: 1,419\n",
      "Variables: 3\n",
      "$ lga            \u001b[3m\u001b[90m<chr>\u001b[39m\u001b[23m \"Albury\", \"Albury\", \"Albury\", \"Albury\", \"Albury\", \"A...\n",
      "$ year           \u001b[3m\u001b[90m<int>\u001b[39m\u001b[23m 2006, 2007, 2008, 2009, 2010, 2011, 2012, 2013, 2014...\n",
      "$ dwelling_count \u001b[3m\u001b[90m<int>\u001b[39m\u001b[23m 20191, 20457, 20722, 20988, 21253, 21519, 21889, 222...\n"
     ]
    }
   ],
   "source": [
    "dwelling_interpolated_df %<>%\n",
    "    mutate(year = as.integer(year), dwelling_count = as.integer(dwelling_count))\n",
    "\n",
    "head(dwelling_interpolated_df)\n",
    "glimpse(dwelling_interpolated_df)"
   ]
  },
  {
   "cell_type": "markdown",
   "metadata": {},
   "source": [
    "# Joining the dwelling data"
   ]
  },
  {
   "cell_type": "code",
   "execution_count": 33,
   "metadata": {},
   "outputs": [
    {
     "data": {
      "text/html": [
       "<table>\n",
       "<thead><tr><th scope=col>lga</th><th scope=col>year</th><th scope=col>total_crime_count</th><th scope=col>erp_lga_year</th><th scope=col>crime_rate_year_lga</th><th scope=col>building_count_year_lga</th></tr></thead>\n",
       "<tbody>\n",
       "\t<tr><td>Albury   </td><td>2001     </td><td>6801     </td><td>45265    </td><td>0.1502485</td><td>NA       </td></tr>\n",
       "\t<tr><td>Albury   </td><td>2002     </td><td>7032     </td><td>45816    </td><td>0.1534835</td><td>NA       </td></tr>\n",
       "\t<tr><td>Albury   </td><td>2003     </td><td>7160     </td><td>46180    </td><td>0.1550455</td><td>NA       </td></tr>\n",
       "\t<tr><td>Albury   </td><td>2004     </td><td>6544     </td><td>46505    </td><td>0.1407161</td><td>NA       </td></tr>\n",
       "\t<tr><td>Albury   </td><td>2005     </td><td>6863     </td><td>47004    </td><td>0.1460089</td><td>NA       </td></tr>\n",
       "\t<tr><td>Albury   </td><td>2006     </td><td>7020     </td><td>47566    </td><td>0.1475844</td><td>NA       </td></tr>\n",
       "</tbody>\n",
       "</table>\n"
      ],
      "text/latex": [
       "\\begin{tabular}{r|llllll}\n",
       " lga & year & total\\_crime\\_count & erp\\_lga\\_year & crime\\_rate\\_year\\_lga & building\\_count\\_year\\_lga\\\\\n",
       "\\hline\n",
       "\t Albury    & 2001      & 6801      & 45265     & 0.1502485 & NA       \\\\\n",
       "\t Albury    & 2002      & 7032      & 45816     & 0.1534835 & NA       \\\\\n",
       "\t Albury    & 2003      & 7160      & 46180     & 0.1550455 & NA       \\\\\n",
       "\t Albury    & 2004      & 6544      & 46505     & 0.1407161 & NA       \\\\\n",
       "\t Albury    & 2005      & 6863      & 47004     & 0.1460089 & NA       \\\\\n",
       "\t Albury    & 2006      & 7020      & 47566     & 0.1475844 & NA       \\\\\n",
       "\\end{tabular}\n"
      ],
      "text/markdown": [
       "\n",
       "| lga | year | total_crime_count | erp_lga_year | crime_rate_year_lga | building_count_year_lga |\n",
       "|---|---|---|---|---|---|\n",
       "| Albury    | 2001      | 6801      | 45265     | 0.1502485 | NA        |\n",
       "| Albury    | 2002      | 7032      | 45816     | 0.1534835 | NA        |\n",
       "| Albury    | 2003      | 7160      | 46180     | 0.1550455 | NA        |\n",
       "| Albury    | 2004      | 6544      | 46505     | 0.1407161 | NA        |\n",
       "| Albury    | 2005      | 6863      | 47004     | 0.1460089 | NA        |\n",
       "| Albury    | 2006      | 7020      | 47566     | 0.1475844 | NA        |\n",
       "\n"
      ],
      "text/plain": [
       "  lga    year total_crime_count erp_lga_year crime_rate_year_lga\n",
       "1 Albury 2001 6801              45265        0.1502485          \n",
       "2 Albury 2002 7032              45816        0.1534835          \n",
       "3 Albury 2003 7160              46180        0.1550455          \n",
       "4 Albury 2004 6544              46505        0.1407161          \n",
       "5 Albury 2005 6863              47004        0.1460089          \n",
       "6 Albury 2006 7020              47566        0.1475844          \n",
       "  building_count_year_lga\n",
       "1 NA                     \n",
       "2 NA                     \n",
       "3 NA                     \n",
       "4 NA                     \n",
       "5 NA                     \n",
       "6 NA                     "
      ]
     },
     "metadata": {},
     "output_type": "display_data"
    },
    {
     "name": "stdout",
     "output_type": "stream",
     "text": [
      "Observations: 2,142\n",
      "Variables: 6\n",
      "$ lga                     \u001b[3m\u001b[90m<chr>\u001b[39m\u001b[23m \"Albury\", \"Albury\", \"Albury\", \"Albury\", \"Al...\n",
      "$ year                    \u001b[3m\u001b[90m<dbl>\u001b[39m\u001b[23m 2001, 2002, 2003, 2004, 2005, 2006, 2007, 2...\n",
      "$ total_crime_count       \u001b[3m\u001b[90m<dbl>\u001b[39m\u001b[23m 6801, 7032, 7160, 6544, 6863, 7020, 7165, 7...\n",
      "$ erp_lga_year            \u001b[3m\u001b[90m<int>\u001b[39m\u001b[23m 45265, 45816, 46180, 46505, 47004, 47566, 4...\n",
      "$ crime_rate_year_lga     \u001b[3m\u001b[90m<dbl>\u001b[39m\u001b[23m 0.1502485, 0.1534835, 0.1550455, 0.1407161,...\n",
      "$ building_count_year_lga \u001b[3m\u001b[90m<int>\u001b[39m\u001b[23m NA, NA, NA, NA, NA, NA, NA, NA, NA, NA, NA,...\n"
     ]
    }
   ],
   "source": [
    "head(joined_df_2)\n",
    "glimpse(joined_df_2)"
   ]
  },
  {
   "cell_type": "code",
   "execution_count": 34,
   "metadata": {},
   "outputs": [
    {
     "data": {
      "text/html": [
       "<table>\n",
       "<thead><tr><th scope=col>lga</th><th scope=col>year</th><th scope=col>total_crime_count</th><th scope=col>erp_lga_year</th><th scope=col>crime_rate_year_lga</th><th scope=col>building_count_year_lga</th><th scope=col>dwelling_count</th></tr></thead>\n",
       "<tbody>\n",
       "\t<tr><td>Albury   </td><td>2001     </td><td>6801     </td><td>45265    </td><td>0.1502485</td><td>NA       </td><td>   NA    </td></tr>\n",
       "\t<tr><td>Albury   </td><td>2002     </td><td>7032     </td><td>45816    </td><td>0.1534835</td><td>NA       </td><td>   NA    </td></tr>\n",
       "\t<tr><td>Albury   </td><td>2003     </td><td>7160     </td><td>46180    </td><td>0.1550455</td><td>NA       </td><td>   NA    </td></tr>\n",
       "\t<tr><td>Albury   </td><td>2004     </td><td>6544     </td><td>46505    </td><td>0.1407161</td><td>NA       </td><td>   NA    </td></tr>\n",
       "\t<tr><td>Albury   </td><td>2005     </td><td>6863     </td><td>47004    </td><td>0.1460089</td><td>NA       </td><td>   NA    </td></tr>\n",
       "\t<tr><td>Albury   </td><td>2006     </td><td>7020     </td><td>47566    </td><td>0.1475844</td><td>NA       </td><td>20191    </td></tr>\n",
       "</tbody>\n",
       "</table>\n"
      ],
      "text/latex": [
       "\\begin{tabular}{r|lllllll}\n",
       " lga & year & total\\_crime\\_count & erp\\_lga\\_year & crime\\_rate\\_year\\_lga & building\\_count\\_year\\_lga & dwelling\\_count\\\\\n",
       "\\hline\n",
       "\t Albury    & 2001      & 6801      & 45265     & 0.1502485 & NA        &    NA    \\\\\n",
       "\t Albury    & 2002      & 7032      & 45816     & 0.1534835 & NA        &    NA    \\\\\n",
       "\t Albury    & 2003      & 7160      & 46180     & 0.1550455 & NA        &    NA    \\\\\n",
       "\t Albury    & 2004      & 6544      & 46505     & 0.1407161 & NA        &    NA    \\\\\n",
       "\t Albury    & 2005      & 6863      & 47004     & 0.1460089 & NA        &    NA    \\\\\n",
       "\t Albury    & 2006      & 7020      & 47566     & 0.1475844 & NA        & 20191    \\\\\n",
       "\\end{tabular}\n"
      ],
      "text/markdown": [
       "\n",
       "| lga | year | total_crime_count | erp_lga_year | crime_rate_year_lga | building_count_year_lga | dwelling_count |\n",
       "|---|---|---|---|---|---|---|\n",
       "| Albury    | 2001      | 6801      | 45265     | 0.1502485 | NA        |    NA     |\n",
       "| Albury    | 2002      | 7032      | 45816     | 0.1534835 | NA        |    NA     |\n",
       "| Albury    | 2003      | 7160      | 46180     | 0.1550455 | NA        |    NA     |\n",
       "| Albury    | 2004      | 6544      | 46505     | 0.1407161 | NA        |    NA     |\n",
       "| Albury    | 2005      | 6863      | 47004     | 0.1460089 | NA        |    NA     |\n",
       "| Albury    | 2006      | 7020      | 47566     | 0.1475844 | NA        | 20191     |\n",
       "\n"
      ],
      "text/plain": [
       "  lga    year total_crime_count erp_lga_year crime_rate_year_lga\n",
       "1 Albury 2001 6801              45265        0.1502485          \n",
       "2 Albury 2002 7032              45816        0.1534835          \n",
       "3 Albury 2003 7160              46180        0.1550455          \n",
       "4 Albury 2004 6544              46505        0.1407161          \n",
       "5 Albury 2005 6863              47004        0.1460089          \n",
       "6 Albury 2006 7020              47566        0.1475844          \n",
       "  building_count_year_lga dwelling_count\n",
       "1 NA                         NA         \n",
       "2 NA                         NA         \n",
       "3 NA                         NA         \n",
       "4 NA                         NA         \n",
       "5 NA                         NA         \n",
       "6 NA                      20191         "
      ]
     },
     "metadata": {},
     "output_type": "display_data"
    },
    {
     "name": "stdout",
     "output_type": "stream",
     "text": [
      "Observations: 2,142\n",
      "Variables: 7\n",
      "$ lga                     \u001b[3m\u001b[90m<chr>\u001b[39m\u001b[23m \"Albury\", \"Albury\", \"Albury\", \"Albury\", \"Al...\n",
      "$ year                    \u001b[3m\u001b[90m<dbl>\u001b[39m\u001b[23m 2001, 2002, 2003, 2004, 2005, 2006, 2007, 2...\n",
      "$ total_crime_count       \u001b[3m\u001b[90m<dbl>\u001b[39m\u001b[23m 6801, 7032, 7160, 6544, 6863, 7020, 7165, 7...\n",
      "$ erp_lga_year            \u001b[3m\u001b[90m<int>\u001b[39m\u001b[23m 45265, 45816, 46180, 46505, 47004, 47566, 4...\n",
      "$ crime_rate_year_lga     \u001b[3m\u001b[90m<dbl>\u001b[39m\u001b[23m 0.1502485, 0.1534835, 0.1550455, 0.1407161,...\n",
      "$ building_count_year_lga \u001b[3m\u001b[90m<int>\u001b[39m\u001b[23m NA, NA, NA, NA, NA, NA, NA, NA, NA, NA, NA,...\n",
      "$ dwelling_count          \u001b[3m\u001b[90m<int>\u001b[39m\u001b[23m NA, NA, NA, NA, NA, 20191, 20457, 20722, 20...\n"
     ]
    }
   ],
   "source": [
    "joined_df_3 <- joined_df_2 %>%\n",
    "    left_join(dwelling_interpolated_df, by = c(\"lga\", \"year\"))\n",
    "\n",
    "head(joined_df_3)\n",
    "glimpse(joined_df_3)"
   ]
  },
  {
   "cell_type": "markdown",
   "metadata": {},
   "source": [
    "# Saving the data to disk"
   ]
  },
  {
   "cell_type": "code",
   "execution_count": 78,
   "metadata": {},
   "outputs": [
    {
     "data": {
      "text/html": [
       "'D:/OneDrive - UTS/36103/AT2B/data2/joined_building_dwelling_erp_2001-2018.csv'"
      ],
      "text/latex": [
       "'D:/OneDrive - UTS/36103/AT2B/data2/joined\\_building\\_dwelling\\_erp\\_2001-2018.csv'"
      ],
      "text/markdown": [
       "'D:/OneDrive - UTS/36103/AT2B/data2/joined_building_dwelling_erp_2001-2018.csv'"
      ],
      "text/plain": [
       "[1] \"D:/OneDrive - UTS/36103/AT2B/data2/joined_building_dwelling_erp_2001-2018.csv\""
      ]
     },
     "metadata": {},
     "output_type": "display_data"
    }
   ],
   "source": [
    "filename <- paste(output_path, \"joined_building_dwelling_erp_2001-2018.csv\", sep = \"/\")\n",
    "filename"
   ]
  },
  {
   "cell_type": "code",
   "execution_count": 79,
   "metadata": {},
   "outputs": [],
   "source": [
    "write.csv(joined_df_3, filename, row.names = FALSE)"
   ]
  },
  {
   "cell_type": "markdown",
   "metadata": {},
   "source": [
    "# Plotting The Time Series"
   ]
  },
  {
   "cell_type": "markdown",
   "metadata": {},
   "source": [
    "## Ku-ring-gai"
   ]
  },
  {
   "cell_type": "code",
   "execution_count": 35,
   "metadata": {},
   "outputs": [],
   "source": [
    "lga = \"Ku-ring-gai\""
   ]
  },
  {
   "cell_type": "code",
   "execution_count": 36,
   "metadata": {},
   "outputs": [
    {
     "data": {
      "text/html": [
       "<table>\n",
       "<thead><tr><th scope=col>lga</th><th scope=col>year</th><th scope=col>total_crime_count</th><th scope=col>erp_lga_year</th><th scope=col>crime_rate_year_lga</th><th scope=col>building_count_year_lga</th><th scope=col>dwelling_count</th></tr></thead>\n",
       "<tbody>\n",
       "\t<tr><td>Ku-ring-gai</td><td>2001       </td><td>5328       </td><td>106965     </td><td>0.04981069 </td><td>NA         </td><td>   NA      </td></tr>\n",
       "\t<tr><td>Ku-ring-gai</td><td>2002       </td><td>4987       </td><td>106778     </td><td>0.04670438 </td><td>NA         </td><td>   NA      </td></tr>\n",
       "\t<tr><td>Ku-ring-gai</td><td>2003       </td><td>5019       </td><td>106559     </td><td>0.04710067 </td><td>NA         </td><td>   NA      </td></tr>\n",
       "\t<tr><td>Ku-ring-gai</td><td>2004       </td><td>4005       </td><td>105839     </td><td>0.03784049 </td><td>NA         </td><td>   NA      </td></tr>\n",
       "\t<tr><td>Ku-ring-gai</td><td>2005       </td><td>3579       </td><td>104883     </td><td>0.03412374 </td><td>NA         </td><td>   NA      </td></tr>\n",
       "\t<tr><td>Ku-ring-gai</td><td>2006       </td><td>3516       </td><td>104459     </td><td>0.03365914 </td><td>NA         </td><td>36179      </td></tr>\n",
       "</tbody>\n",
       "</table>\n"
      ],
      "text/latex": [
       "\\begin{tabular}{r|lllllll}\n",
       " lga & year & total\\_crime\\_count & erp\\_lga\\_year & crime\\_rate\\_year\\_lga & building\\_count\\_year\\_lga & dwelling\\_count\\\\\n",
       "\\hline\n",
       "\t Ku-ring-gai & 2001        & 5328        & 106965      & 0.04981069  & NA          &    NA      \\\\\n",
       "\t Ku-ring-gai & 2002        & 4987        & 106778      & 0.04670438  & NA          &    NA      \\\\\n",
       "\t Ku-ring-gai & 2003        & 5019        & 106559      & 0.04710067  & NA          &    NA      \\\\\n",
       "\t Ku-ring-gai & 2004        & 4005        & 105839      & 0.03784049  & NA          &    NA      \\\\\n",
       "\t Ku-ring-gai & 2005        & 3579        & 104883      & 0.03412374  & NA          &    NA      \\\\\n",
       "\t Ku-ring-gai & 2006        & 3516        & 104459      & 0.03365914  & NA          & 36179      \\\\\n",
       "\\end{tabular}\n"
      ],
      "text/markdown": [
       "\n",
       "| lga | year | total_crime_count | erp_lga_year | crime_rate_year_lga | building_count_year_lga | dwelling_count |\n",
       "|---|---|---|---|---|---|---|\n",
       "| Ku-ring-gai | 2001        | 5328        | 106965      | 0.04981069  | NA          |    NA       |\n",
       "| Ku-ring-gai | 2002        | 4987        | 106778      | 0.04670438  | NA          |    NA       |\n",
       "| Ku-ring-gai | 2003        | 5019        | 106559      | 0.04710067  | NA          |    NA       |\n",
       "| Ku-ring-gai | 2004        | 4005        | 105839      | 0.03784049  | NA          |    NA       |\n",
       "| Ku-ring-gai | 2005        | 3579        | 104883      | 0.03412374  | NA          |    NA       |\n",
       "| Ku-ring-gai | 2006        | 3516        | 104459      | 0.03365914  | NA          | 36179       |\n",
       "\n"
      ],
      "text/plain": [
       "  lga         year total_crime_count erp_lga_year crime_rate_year_lga\n",
       "1 Ku-ring-gai 2001 5328              106965       0.04981069         \n",
       "2 Ku-ring-gai 2002 4987              106778       0.04670438         \n",
       "3 Ku-ring-gai 2003 5019              106559       0.04710067         \n",
       "4 Ku-ring-gai 2004 4005              105839       0.03784049         \n",
       "5 Ku-ring-gai 2005 3579              104883       0.03412374         \n",
       "6 Ku-ring-gai 2006 3516              104459       0.03365914         \n",
       "  building_count_year_lga dwelling_count\n",
       "1 NA                         NA         \n",
       "2 NA                         NA         \n",
       "3 NA                         NA         \n",
       "4 NA                         NA         \n",
       "5 NA                         NA         \n",
       "6 NA                      36179         "
      ]
     },
     "metadata": {},
     "output_type": "display_data"
    }
   ],
   "source": [
    "head(joined_df_3 %>% filter(lga == !!lga))"
   ]
  },
  {
   "cell_type": "code",
   "execution_count": 37,
   "metadata": {},
   "outputs": [],
   "source": [
    "plot_time_series = function(data, x_var, y_var, x_lab, y_lab){\n",
    "\n",
    "    title = paste(\"Time Series:\", y_lab)\n",
    "\n",
    "    ggplot(data, aes(x = !!sym(x_var), y = !!sym(y_var))) +\n",
    "        geom_line(, color = \"steelblue\", alpha = 0.5) + \n",
    "        theme(axis.text.x = element_text(angle = 90, vjust = 0.5)) +\n",
    "        xlab(x_lab) +\n",
    "        ylab(y_lab) +\n",
    "        ggtitle(title)\n",
    "}"
   ]
  },
  {
   "cell_type": "code",
   "execution_count": 38,
   "metadata": {},
   "outputs": [
    {
     "data": {
      "image/png": "[encoded data removed]",
      "text/plain": [
       "plot without title"
      ]
     },
     "metadata": {},
     "output_type": "display_data"
    }
   ],
   "source": [
    "lga = \"Albury\"\n",
    "x_var = \"year\"\n",
    "y_var = \"crime_rate_year_lga\"\n",
    "x_lab = \"Year\"\n",
    "y_lab = \"Crime Rate Per Capita\"\n",
    "\n",
    "p <- plot_time_series(joined_df_2 %>% filter(lga == !!lga), x_var, y_var, x_lab, y_lab)\n",
    "p"
   ]
  },
  {
   "cell_type": "code",
   "execution_count": 274,
   "metadata": {},
   "outputs": [
    {
     "data": {
      "image/png": "[encoded data removed]",
      "text/plain": [
       "plot without title"
      ]
     },
     "metadata": {},
     "output_type": "display_data"
    }
   ],
   "source": [
    "lga = \"Albury\"\n",
    "\n",
    "x_var = \"year\"\n",
    "y_var = \"erp_lga_year\"\n",
    "\n",
    "x_lab = \"Year\"\n",
    "y_lab = \"ERP\"\n",
    "\n",
    "p <- plot_time_series(joined_df_2 %>% filter(lga == !!lga), x_var, y_var, x_lab, y_lab)\n",
    "p"
   ]
  },
  {
   "cell_type": "code",
   "execution_count": 364,
   "metadata": {},
   "outputs": [
    {
     "name": "stderr",
     "output_type": "stream",
     "text": [
      "Warning message:\n",
      "\"Removed 15 rows containing missing values (geom_path).\""
     ]
    },
    {
     "data": {
      "image/png": "[encoded data removed]",
      "text/plain": [
       "plot without title"
      ]
     },
     "metadata": {},
     "output_type": "display_data"
    }
   ],
   "source": [
    "lga = \"Ku-ring-gai\"\n",
    "title = paste(\"Time Series\")\n",
    "\n",
    "data <- joined_df_3 %>% \n",
    "    gather(key = \"value_type\", value = \"value\", -c(lga, year))\n",
    "\n",
    "data %<>% \n",
    "    filter(lga == !!lga)\n",
    "\n",
    "ggplot(data, aes(x = year, y = value)) +\n",
    "    geom_line(, color = \"steelblue\", alpha = 0.5) + \n",
    "    theme(axis.text.x = element_text(angle = 90, vjust = 0.5)) +\n",
    "    facet_wrap(~ value_type, nrow = 5, scales = \"free_y\") +\n",
    "    ggtitle(title)\n",
    "\n"
   ]
  },
  {
   "cell_type": "markdown",
   "metadata": {},
   "source": [
    "# Correlation"
   ]
  },
  {
   "cell_type": "code",
   "execution_count": 41,
   "metadata": {},
   "outputs": [
    {
     "name": "stderr",
     "output_type": "stream",
     "text": [
      "\n",
      "Correlation method: 'pearson'\n",
      "Missing treated using: 'pairwise.complete.obs'\n",
      "\n"
     ]
    },
    {
     "data": {
      "text/html": [
       "<table>\n",
       "<thead><tr><th scope=col>rowname</th><th scope=col>total_crime_count</th><th scope=col>erp_lga_year</th><th scope=col>crime_rate_year_lga</th><th scope=col>building_count_year_lga</th><th scope=col>dwelling_count</th></tr></thead>\n",
       "<tbody>\n",
       "\t<tr><td>total_crime_count      </td><td>                       </td><td>                       </td><td>                       </td><td>                       </td><td>                       </td></tr>\n",
       "\t<tr><td>erp_lga_year           </td><td> .84                   </td><td>                       </td><td>                       </td><td>                       </td><td>                       </td></tr>\n",
       "\t<tr><td>crime_rate_year_lga    </td><td> .16                   </td><td>-.10                   </td><td>                       </td><td>                       </td><td>                       </td></tr>\n",
       "\t<tr><td>building_count_year_lga</td><td> .75                   </td><td> .76                   </td><td>-.01                   </td><td>                       </td><td>                       </td></tr>\n",
       "\t<tr><td>dwelling_count         </td><td> .88                   </td><td> .98                   </td><td>-.10                   </td><td> .70                   </td><td>                       </td></tr>\n",
       "</tbody>\n",
       "</table>\n"
      ],
      "text/latex": [
       "\\begin{tabular}{r|llllll}\n",
       " rowname & total\\_crime\\_count & erp\\_lga\\_year & crime\\_rate\\_year\\_lga & building\\_count\\_year\\_lga & dwelling\\_count\\\\\n",
       "\\hline\n",
       "\t total\\_crime\\_count       &                             &                             &                             &                             &                            \\\\\n",
       "\t erp\\_lga\\_year            &  .84                        &                             &                             &                             &                            \\\\\n",
       "\t crime\\_rate\\_year\\_lga     &  .16                          & -.10                          &                               &                               &                              \\\\\n",
       "\t building\\_count\\_year\\_lga &  .75                          &  .76                          & -.01                          &                               &                              \\\\\n",
       "\t dwelling\\_count          &  .88                      &  .98                      & -.10                      &  .70                      &                          \\\\\n",
       "\\end{tabular}\n"
      ],
      "text/markdown": [
       "\n",
       "| rowname | total_crime_count | erp_lga_year | crime_rate_year_lga | building_count_year_lga | dwelling_count |\n",
       "|---|---|---|---|---|---|\n",
       "| total_crime_count       |                         |                         |                         |                         |                         |\n",
       "| erp_lga_year            |  .84                    |                         |                         |                         |                         |\n",
       "| crime_rate_year_lga     |  .16                    | -.10                    |                         |                         |                         |\n",
       "| building_count_year_lga |  .75                    |  .76                    | -.01                    |                         |                         |\n",
       "| dwelling_count          |  .88                    |  .98                    | -.10                    |  .70                    |                         |\n",
       "\n"
      ],
      "text/plain": [
       "  rowname                 total_crime_count erp_lga_year crime_rate_year_lga\n",
       "1 total_crime_count                                                         \n",
       "2 erp_lga_year             .84                                              \n",
       "3 crime_rate_year_lga      .16              -.10                            \n",
       "4 building_count_year_lga  .75               .76         -.01               \n",
       "5 dwelling_count           .88               .98         -.10               \n",
       "  building_count_year_lga dwelling_count\n",
       "1                                       \n",
       "2                                       \n",
       "3                                       \n",
       "4                                       \n",
       "5  .70                                  "
      ]
     },
     "metadata": {},
     "output_type": "display_data"
    }
   ],
   "source": [
    "joined_df_3 %>% \n",
    "    select(-lga, -year) %>%\n",
    "    corrr::correlate() %>%\n",
    "    corrr::shave() %>%\n",
    "    corrr::fashion()"
   ]
  },
  {
   "cell_type": "markdown",
   "metadata": {},
   "source": [
    "# Modelling"
   ]
  },
  {
   "cell_type": "markdown",
   "metadata": {},
   "source": [
    "## Poisson Regression"
   ]
  },
  {
   "cell_type": "code",
   "execution_count": 70,
   "metadata": {},
   "outputs": [
    {
     "data": {
      "text/html": [
       "<table>\n",
       "<thead><tr><th scope=col>year</th><th scope=col>total_crime_count</th><th scope=col>erp_lga_year</th><th scope=col>crime_rate_year_lga</th><th scope=col>building_count_year_lga</th><th scope=col>dwelling_count</th></tr></thead>\n",
       "<tbody>\n",
       "\t<tr><td>2001     </td><td>6801     </td><td>45265    </td><td>0.1502485</td><td>NA       </td><td>   NA    </td></tr>\n",
       "\t<tr><td>2002     </td><td>7032     </td><td>45816    </td><td>0.1534835</td><td>NA       </td><td>   NA    </td></tr>\n",
       "\t<tr><td>2003     </td><td>7160     </td><td>46180    </td><td>0.1550455</td><td>NA       </td><td>   NA    </td></tr>\n",
       "\t<tr><td>2004     </td><td>6544     </td><td>46505    </td><td>0.1407161</td><td>NA       </td><td>   NA    </td></tr>\n",
       "\t<tr><td>2005     </td><td>6863     </td><td>47004    </td><td>0.1460089</td><td>NA       </td><td>   NA    </td></tr>\n",
       "\t<tr><td>2006     </td><td>7020     </td><td>47566    </td><td>0.1475844</td><td>NA       </td><td>20191    </td></tr>\n",
       "</tbody>\n",
       "</table>\n"
      ],
      "text/latex": [
       "\\begin{tabular}{r|llllll}\n",
       " year & total\\_crime\\_count & erp\\_lga\\_year & crime\\_rate\\_year\\_lga & building\\_count\\_year\\_lga & dwelling\\_count\\\\\n",
       "\\hline\n",
       "\t 2001      & 6801      & 45265     & 0.1502485 & NA        &    NA    \\\\\n",
       "\t 2002      & 7032      & 45816     & 0.1534835 & NA        &    NA    \\\\\n",
       "\t 2003      & 7160      & 46180     & 0.1550455 & NA        &    NA    \\\\\n",
       "\t 2004      & 6544      & 46505     & 0.1407161 & NA        &    NA    \\\\\n",
       "\t 2005      & 6863      & 47004     & 0.1460089 & NA        &    NA    \\\\\n",
       "\t 2006      & 7020      & 47566     & 0.1475844 & NA        & 20191    \\\\\n",
       "\\end{tabular}\n"
      ],
      "text/markdown": [
       "\n",
       "| year | total_crime_count | erp_lga_year | crime_rate_year_lga | building_count_year_lga | dwelling_count |\n",
       "|---|---|---|---|---|---|\n",
       "| 2001      | 6801      | 45265     | 0.1502485 | NA        |    NA     |\n",
       "| 2002      | 7032      | 45816     | 0.1534835 | NA        |    NA     |\n",
       "| 2003      | 7160      | 46180     | 0.1550455 | NA        |    NA     |\n",
       "| 2004      | 6544      | 46505     | 0.1407161 | NA        |    NA     |\n",
       "| 2005      | 6863      | 47004     | 0.1460089 | NA        |    NA     |\n",
       "| 2006      | 7020      | 47566     | 0.1475844 | NA        | 20191     |\n",
       "\n"
      ],
      "text/plain": [
       "  year total_crime_count erp_lga_year crime_rate_year_lga\n",
       "1 2001 6801              45265        0.1502485          \n",
       "2 2002 7032              45816        0.1534835          \n",
       "3 2003 7160              46180        0.1550455          \n",
       "4 2004 6544              46505        0.1407161          \n",
       "5 2005 6863              47004        0.1460089          \n",
       "6 2006 7020              47566        0.1475844          \n",
       "  building_count_year_lga dwelling_count\n",
       "1 NA                         NA         \n",
       "2 NA                         NA         \n",
       "3 NA                         NA         \n",
       "4 NA                         NA         \n",
       "5 NA                         NA         \n",
       "6 NA                      20191         "
      ]
     },
     "metadata": {},
     "output_type": "display_data"
    },
    {
     "name": "stdout",
     "output_type": "stream",
     "text": [
      "Observations: 2,142\n",
      "Variables: 6\n",
      "$ year                    \u001b[3m\u001b[90m<dbl>\u001b[39m\u001b[23m 2001, 2002, 2003, 2004, 2005, 2006, 2007, 2...\n",
      "$ total_crime_count       \u001b[3m\u001b[90m<dbl>\u001b[39m\u001b[23m 6801, 7032, 7160, 6544, 6863, 7020, 7165, 7...\n",
      "$ erp_lga_year            \u001b[3m\u001b[90m<int>\u001b[39m\u001b[23m 45265, 45816, 46180, 46505, 47004, 47566, 4...\n",
      "$ crime_rate_year_lga     \u001b[3m\u001b[90m<dbl>\u001b[39m\u001b[23m 0.1502485, 0.1534835, 0.1550455, 0.1407161,...\n",
      "$ building_count_year_lga \u001b[3m\u001b[90m<int>\u001b[39m\u001b[23m NA, NA, NA, NA, NA, NA, NA, NA, NA, NA, NA,...\n",
      "$ dwelling_count          \u001b[3m\u001b[90m<int>\u001b[39m\u001b[23m NA, NA, NA, NA, NA, 20191, 20457, 20722, 20...\n"
     ]
    }
   ],
   "source": [
    "reg_data <- joined_df_3 %>%\n",
    "    select(-lga)\n",
    "\n",
    "head(reg_data)\n",
    "glimpse(reg_data)"
   ]
  },
  {
   "cell_type": "code",
   "execution_count": 86,
   "metadata": {},
   "outputs": [
    {
     "data": {
      "text/plain": [
       "\n",
       "Call:\n",
       "glm(formula = total_crime_count ~ dwelling_count, family = poisson(link = \"log\"), \n",
       "    data = reg_data, offset = log(erp_lga_year))\n",
       "\n",
       "Deviance Residuals: \n",
       "     Min        1Q    Median        3Q       Max  \n",
       "-105.450   -12.381     0.904    13.634   254.261  \n",
       "\n",
       "Coefficients:\n",
       "                 Estimate Std. Error z value Pr(>|z|)    \n",
       "(Intercept)    -2.447e+00  7.084e-04   -3454   <2e-16 ***\n",
       "dwelling_count  1.365e-06  1.019e-08     134   <2e-16 ***\n",
       "---\n",
       "Signif. codes:  0 '***' 0.001 '**' 0.01 '*' 0.05 '.' 0.1 ' ' 1\n",
       "\n",
       "(Dispersion parameter for poisson family taken to be 1)\n",
       "\n",
       "    Null deviance: 1389388  on 1374  degrees of freedom\n",
       "Residual deviance: 1371541  on 1373  degrees of freedom\n",
       "  (767 observations deleted due to missingness)\n",
       "AIC: 1384687\n",
       "\n",
       "Number of Fisher Scoring iterations: 4\n"
      ]
     },
     "metadata": {},
     "output_type": "display_data"
    },
    {
     "data": {
      "image/png": "[encoded data removed]",
      "text/plain": [
       "plot without title"
      ]
     },
     "metadata": {},
     "output_type": "display_data"
    }
   ],
   "source": [
    "model <- glm(total_crime_count ~ dwelling_count,  \n",
    "             offset = log(erp_lga_year), \n",
    "             family = poisson(link = \"log\"), \n",
    "             data = reg_data)\n",
    "\n",
    "summary(model)\n",
    "autoplot(model, which = 1:6, ncol = 3, label.size = 3)\n",
    "\n",
    "glm_poisson1 <- model"
   ]
  },
  {
   "cell_type": "code",
   "execution_count": 87,
   "metadata": {},
   "outputs": [
    {
     "data": {
      "text/plain": [
       "\n",
       "Call:\n",
       "glm(formula = total_crime_count ~ dwelling_count + year, family = poisson(link = \"log\"), \n",
       "    data = reg_data, offset = log(erp_lga_year))\n",
       "\n",
       "Deviance Residuals: \n",
       "    Min       1Q   Median       3Q      Max  \n",
       "-96.744  -12.415    0.867   13.271  245.416  \n",
       "\n",
       "Coefficients:\n",
       "                 Estimate Std. Error z value Pr(>|z|)    \n",
       "(Intercept)     2.389e+01  2.369e-01   100.8   <2e-16 ***\n",
       "dwelling_count  1.441e-06  1.021e-08   141.0   <2e-16 ***\n",
       "year           -1.310e-02  1.178e-04  -111.2   <2e-16 ***\n",
       "---\n",
       "Signif. codes:  0 '***' 0.001 '**' 0.01 '*' 0.05 '.' 0.1 ' ' 1\n",
       "\n",
       "(Dispersion parameter for poisson family taken to be 1)\n",
       "\n",
       "    Null deviance: 1389388  on 1374  degrees of freedom\n",
       "Residual deviance: 1359185  on 1372  degrees of freedom\n",
       "  (767 observations deleted due to missingness)\n",
       "AIC: 1372333\n",
       "\n",
       "Number of Fisher Scoring iterations: 4\n"
      ]
     },
     "metadata": {},
     "output_type": "display_data"
    },
    {
     "data": {
      "image/png": "[encoded data removed]",
      "text/plain": [
       "plot without title"
      ]
     },
     "metadata": {},
     "output_type": "display_data"
    }
   ],
   "source": [
    "model <- glm(total_crime_count ~ dwelling_count + year,  \n",
    "             offset = log(erp_lga_year), \n",
    "             family = poisson(link = \"log\"), \n",
    "             data = reg_data)\n",
    "\n",
    "summary(model)\n",
    "autoplot(model, which = 1:6, ncol = 3, label.size = 3)\n",
    "\n",
    "glm_poisson2 <- model"
   ]
  },
  {
   "cell_type": "code",
   "execution_count": 95,
   "metadata": {},
   "outputs": [
    {
     "data": {
      "text/plain": [
       "\n",
       "Call:\n",
       "glm(formula = total_crime_count ~ dwelling_count + year + building_count_year_lga, \n",
       "    family = poisson(link = \"log\"), data = reg_data, offset = log(erp_lga_year))\n",
       "\n",
       "Deviance Residuals: \n",
       "     Min        1Q    Median        3Q       Max  \n",
       "-110.672   -12.503     1.788    17.171   202.257  \n",
       "\n",
       "Coefficients: (1 not defined because of singularities)\n",
       "                          Estimate Std. Error  z value Pr(>|z|)    \n",
       "(Intercept)             -2.594e+00  2.416e-03 -1073.63   <2e-16 ***\n",
       "dwelling_count           2.074e-06  3.705e-08    55.98   <2e-16 ***\n",
       "year                            NA         NA       NA       NA    \n",
       "building_count_year_lga  1.973e-05  4.352e-07    45.34   <2e-16 ***\n",
       "---\n",
       "Signif. codes:  0 '***' 0.001 '**' 0.01 '*' 0.05 '.' 0.1 ' ' 1\n",
       "\n",
       "(Dispersion parameter for poisson family taken to be 1)\n",
       "\n",
       "    Null deviance: 152405  on 124  degrees of freedom\n",
       "Residual deviance: 141765  on 122  degrees of freedom\n",
       "  (2017 observations deleted due to missingness)\n",
       "AIC: 142962\n",
       "\n",
       "Number of Fisher Scoring iterations: 5\n"
      ]
     },
     "metadata": {},
     "output_type": "display_data"
    },
    {
     "data": {
      "image/png": "[encoded data removed]",
      "text/plain": [
       "plot without title"
      ]
     },
     "metadata": {},
     "output_type": "display_data"
    }
   ],
   "source": [
    "model <- glm(total_crime_count ~ dwelling_count + year + building_count_year_lga,  \n",
    "                    offset = log(erp_lga_year), \n",
    "                    family = poisson(link = \"log\"), \n",
    "                    data = reg_data)\n",
    "\n",
    "summary(model)\n",
    "autoplot(model, which = 1:6, ncol = 3, label.size = 3)\n",
    "\n",
    "glm_poisson3 <- model"
   ]
  },
  {
   "cell_type": "markdown",
   "metadata": {},
   "source": [
    "## Quasi-Poisson Regression"
   ]
  },
  {
   "cell_type": "code",
   "execution_count": 96,
   "metadata": {},
   "outputs": [
    {
     "data": {
      "text/plain": [
       "\n",
       "Call:\n",
       "glm(formula = total_crime_count ~ dwelling_count, family = \"quasipoisson\", \n",
       "    data = reg_data, offset = log(erp_lga_year))\n",
       "\n",
       "Deviance Residuals: \n",
       "     Min        1Q    Median        3Q       Max  \n",
       "-105.450   -12.381     0.904    13.634   254.261  \n",
       "\n",
       "Coefficients:\n",
       "                 Estimate Std. Error t value Pr(>|t|)    \n",
       "(Intercept)    -2.447e+00  2.501e-02 -97.866  < 2e-16 ***\n",
       "dwelling_count  1.365e-06  3.595e-07   3.798 0.000152 ***\n",
       "---\n",
       "Signif. codes:  0 '***' 0.001 '**' 0.01 '*' 0.05 '.' 0.1 ' ' 1\n",
       "\n",
       "(Dispersion parameter for quasipoisson family taken to be 1245.933)\n",
       "\n",
       "    Null deviance: 1389388  on 1374  degrees of freedom\n",
       "Residual deviance: 1371541  on 1373  degrees of freedom\n",
       "  (767 observations deleted due to missingness)\n",
       "AIC: NA\n",
       "\n",
       "Number of Fisher Scoring iterations: 4\n"
      ]
     },
     "metadata": {},
     "output_type": "display_data"
    },
    {
     "data": {
      "image/png": "[encoded data removed]",
      "text/plain": [
       "plot without title"
      ]
     },
     "metadata": {},
     "output_type": "display_data"
    }
   ],
   "source": [
    "model <- glm(total_crime_count ~ dwelling_count,  \n",
    "             offset = log(erp_lga_year), \n",
    "             family = \"quasipoisson\", \n",
    "             data = reg_data)\n",
    "\n",
    "summary(model)\n",
    "autoplot(model, which = 1:6, ncol = 3, label.size = 3)\n",
    "\n",
    "glm_poisson4 <- model"
   ]
  },
  {
   "cell_type": "code",
   "execution_count": 97,
   "metadata": {},
   "outputs": [
    {
     "data": {
      "text/plain": [
       "\n",
       "Call:\n",
       "glm(formula = total_crime_count ~ dwelling_count + year, family = \"quasipoisson\", \n",
       "    data = reg_data, offset = log(erp_lga_year))\n",
       "\n",
       "Deviance Residuals: \n",
       "    Min       1Q   Median       3Q      Max  \n",
       "-96.744  -12.415    0.867   13.271  245.416  \n",
       "\n",
       "Coefficients:\n",
       "                 Estimate Std. Error t value Pr(>|t|)    \n",
       "(Intercept)     2.389e+01  8.324e+00   2.870  0.00417 ** \n",
       "dwelling_count  1.441e-06  3.589e-07   4.014  6.3e-05 ***\n",
       "year           -1.310e-02  4.140e-03  -3.164  0.00159 ** \n",
       "---\n",
       "Signif. codes:  0 '***' 0.001 '**' 0.01 '*' 0.05 '.' 0.1 ' ' 1\n",
       "\n",
       "(Dispersion parameter for quasipoisson family taken to be 1234.541)\n",
       "\n",
       "    Null deviance: 1389388  on 1374  degrees of freedom\n",
       "Residual deviance: 1359185  on 1372  degrees of freedom\n",
       "  (767 observations deleted due to missingness)\n",
       "AIC: NA\n",
       "\n",
       "Number of Fisher Scoring iterations: 4\n"
      ]
     },
     "metadata": {},
     "output_type": "display_data"
    },
    {
     "data": {
      "image/png": "[encoded data removed]",
      "text/plain": [
       "plot without title"
      ]
     },
     "metadata": {},
     "output_type": "display_data"
    }
   ],
   "source": [
    "model <- glm(total_crime_count ~ dwelling_count + year,  \n",
    "             offset = log(erp_lga_year), \n",
    "             family = \"quasipoisson\", \n",
    "             data = reg_data)\n",
    "\n",
    "summary(model)\n",
    "autoplot(model, which = 1:6, ncol = 3, label.size = 3)\n",
    "\n",
    "glm_poisson5 <- model"
   ]
  },
  {
   "cell_type": "code",
   "execution_count": 100,
   "metadata": {},
   "outputs": [
    {
     "data": {
      "text/plain": [
       "\n",
       "Call:\n",
       "glm(formula = total_crime_count ~ dwelling_count + year + building_count_year_lga, \n",
       "    family = poisson(link = \"log\"), data = reg_data, offset = log(erp_lga_year))\n",
       "\n",
       "Deviance Residuals: \n",
       "     Min        1Q    Median        3Q       Max  \n",
       "-110.672   -12.503     1.788    17.171   202.257  \n",
       "\n",
       "Coefficients: (1 not defined because of singularities)\n",
       "                          Estimate Std. Error  z value Pr(>|z|)    \n",
       "(Intercept)             -2.594e+00  2.416e-03 -1073.63   <2e-16 ***\n",
       "dwelling_count           2.074e-06  3.705e-08    55.98   <2e-16 ***\n",
       "year                            NA         NA       NA       NA    \n",
       "building_count_year_lga  1.973e-05  4.352e-07    45.34   <2e-16 ***\n",
       "---\n",
       "Signif. codes:  0 '***' 0.001 '**' 0.01 '*' 0.05 '.' 0.1 ' ' 1\n",
       "\n",
       "(Dispersion parameter for poisson family taken to be 1)\n",
       "\n",
       "    Null deviance: 152405  on 124  degrees of freedom\n",
       "Residual deviance: 141765  on 122  degrees of freedom\n",
       "  (2017 observations deleted due to missingness)\n",
       "AIC: 142962\n",
       "\n",
       "Number of Fisher Scoring iterations: 5\n"
      ]
     },
     "metadata": {},
     "output_type": "display_data"
    },
    {
     "data": {
      "image/png": "[encoded data removed]",
      "text/plain": [
       "plot without title"
      ]
     },
     "metadata": {},
     "output_type": "display_data"
    }
   ],
   "source": [
    "model <- glm(total_crime_count ~ dwelling_count + year + building_count_year_lga,  \n",
    "                    offset = log(erp_lga_year), \n",
    "                    family = poisson(link = \"log\"), \n",
    "                    data = reg_data)\n",
    "\n",
    "summary(model)\n",
    "autoplot(model, which = 1:6, ncol = 3, label.size = 3)\n",
    "\n",
    "glm_poisson6 <- model"
   ]
  },
  {
   "cell_type": "markdown",
   "metadata": {},
   "source": [
    "## Negative Binomial Regression"
   ]
  },
  {
   "cell_type": "code",
   "execution_count": 104,
   "metadata": {},
   "outputs": [
    {
     "data": {
      "text/plain": [
       "\n",
       "Call:\n",
       "glm.nb(formula = total_crime_count ~ dwelling_count, data = reg_data, \n",
       "    init.theta = 2.372813426, link = log)\n",
       "\n",
       "Deviance Residuals: \n",
       "    Min       1Q   Median       3Q      Max  \n",
       "-2.9015  -0.9200  -0.1291   0.4853   2.0120  \n",
       "\n",
       "Coefficients:\n",
       "                Estimate Std. Error z value Pr(>|z|)    \n",
       "(Intercept)    7.020e+00  2.262e-02  310.37   <2e-16 ***\n",
       "dwelling_count 4.133e-05  6.385e-07   64.74   <2e-16 ***\n",
       "---\n",
       "Signif. codes:  0 '***' 0.001 '**' 0.01 '*' 0.05 '.' 0.1 ' ' 1\n",
       "\n",
       "(Dispersion parameter for Negative Binomial(2.3728) family taken to be 1)\n",
       "\n",
       "    Null deviance: 5530.7  on 1374  degrees of freedom\n",
       "Residual deviance: 1469.9  on 1373  degrees of freedom\n",
       "  (767 observations deleted due to missingness)\n",
       "AIC: 24143\n",
       "\n",
       "Number of Fisher Scoring iterations: 1\n",
       "\n",
       "\n",
       "              Theta:  2.3728 \n",
       "          Std. Err.:  0.0851 \n",
       "\n",
       " 2 x log-likelihood:  -24137.1650 "
      ]
     },
     "metadata": {},
     "output_type": "display_data"
    },
    {
     "data": {
      "image/png": "[encoded data removed]",
      "text/plain": [
       "plot without title"
      ]
     },
     "metadata": {},
     "output_type": "display_data"
    }
   ],
   "source": [
    "model <- glm.nb(total_crime_count ~ dwelling_count,  \n",
    "                data = reg_data)\n",
    "\n",
    "summary(model)\n",
    "autoplot(model, which = 1:6, ncol = 3, label.size = 3)\n",
    "\n",
    "glm_poisson7 <- model"
   ]
  },
  {
   "cell_type": "code",
   "execution_count": 105,
   "metadata": {},
   "outputs": [
    {
     "data": {
      "text/plain": [
       "\n",
       "Call:\n",
       "glm.nb(formula = total_crime_count ~ dwelling_count + year, data = reg_data, \n",
       "    init.theta = 2.389987122, link = log)\n",
       "\n",
       "Deviance Residuals: \n",
       "    Min       1Q   Median       3Q      Max  \n",
       "-2.8819  -0.9129  -0.1267   0.4783   2.0666  \n",
       "\n",
       "Coefficients:\n",
       "                 Estimate Std. Error z value Pr(>|z|)    \n",
       "(Intercept)     4.427e+01  1.110e+01   3.986 6.71e-05 ***\n",
       "dwelling_count  4.139e-05  6.365e-07  65.032  < 2e-16 ***\n",
       "year           -1.852e-02  5.522e-03  -3.354 0.000795 ***\n",
       "---\n",
       "Signif. codes:  0 '***' 0.001 '**' 0.01 '*' 0.05 '.' 0.1 ' ' 1\n",
       "\n",
       "(Dispersion parameter for Negative Binomial(2.39) family taken to be 1)\n",
       "\n",
       "    Null deviance: 5570.7  on 1374  degrees of freedom\n",
       "Residual deviance: 1469.3  on 1372  degrees of freedom\n",
       "  (767 observations deleted due to missingness)\n",
       "AIC: 24134\n",
       "\n",
       "Number of Fisher Scoring iterations: 1\n",
       "\n",
       "\n",
       "              Theta:  2.3900 \n",
       "          Std. Err.:  0.0857 \n",
       "\n",
       " 2 x log-likelihood:  -24125.9340 "
      ]
     },
     "metadata": {},
     "output_type": "display_data"
    },
    {
     "data": {
      "image/png": "[encoded data removed]",
      "text/plain": [
       "plot without title"
      ]
     },
     "metadata": {},
     "output_type": "display_data"
    }
   ],
   "source": [
    "model <- glm.nb(total_crime_count ~ dwelling_count + year,  \n",
    "                data = reg_data)\n",
    "\n",
    "summary(model)\n",
    "autoplot(model, which = 1:6, ncol = 3, label.size = 3)\n",
    "\n",
    "glm_poisson8 <- model"
   ]
  },
  {
   "cell_type": "code",
   "execution_count": 106,
   "metadata": {},
   "outputs": [
    {
     "data": {
      "text/plain": [
       "\n",
       "Call:\n",
       "glm.nb(formula = total_crime_count ~ dwelling_count + year + \n",
       "    building_count_year_lga, data = reg_data, init.theta = 2.345017348, \n",
       "    link = log)\n",
       "\n",
       "Deviance Residuals: \n",
       "    Min       1Q   Median       3Q      Max  \n",
       "-2.8557  -0.9136  -0.1534   0.4748   1.8419  \n",
       "\n",
       "Coefficients: (1 not defined because of singularities)\n",
       "                          Estimate Std. Error z value Pr(>|z|)    \n",
       "(Intercept)              6.941e+00  7.576e-02   91.61   <2e-16 ***\n",
       "dwelling_count           4.328e-05  2.816e-06   15.37   <2e-16 ***\n",
       "year                            NA         NA      NA       NA    \n",
       "building_count_year_lga -5.083e-05  3.852e-05   -1.32    0.187    \n",
       "---\n",
       "Signif. codes:  0 '***' 0.001 '**' 0.01 '*' 0.05 '.' 0.1 ' ' 1\n",
       "\n",
       "(Dispersion parameter for Negative Binomial(2.345) family taken to be 1)\n",
       "\n",
       "    Null deviance: 537.05  on 124  degrees of freedom\n",
       "Residual deviance: 133.72  on 122  degrees of freedom\n",
       "  (2017 observations deleted due to missingness)\n",
       "AIC: 2196\n",
       "\n",
       "Number of Fisher Scoring iterations: 1\n",
       "\n",
       "\n",
       "              Theta:  2.345 \n",
       "          Std. Err.:  0.279 \n",
       "\n",
       " 2 x log-likelihood:  -2188.047 "
      ]
     },
     "metadata": {},
     "output_type": "display_data"
    },
    {
     "data": {
      "image/png": "[encoded data removed]",
      "text/plain": [
       "plot without title"
      ]
     },
     "metadata": {},
     "output_type": "display_data"
    }
   ],
   "source": [
    "model <- glm.nb(total_crime_count ~ dwelling_count + year + building_count_year_lga,  \n",
    "                data = reg_data)\n",
    "\n",
    "summary(model)\n",
    "autoplot(model, which = 1:6, ncol = 3, label.size = 3)\n",
    "\n",
    "glm_poisson9 <- model"
   ]
  }
 ],
 "metadata": {
  "kernelspec": {
   "display_name": "R",
   "language": "R",
   "name": "ir"
  },
  "language_info": {
   "codemirror_mode": "r",
   "file_extension": ".r",
   "mimetype": "text/x-r-source",
   "name": "R",
   "pygments_lexer": "r",
   "version": "3.5.3"
  }
 },
 "nbformat": 4,
 "nbformat_minor": 2
}
