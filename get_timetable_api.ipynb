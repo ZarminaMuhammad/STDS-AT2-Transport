{
 "cells": [
  {
   "cell_type": "code",
   "execution_count": 1,
   "metadata": {},
   "outputs": [
    {
     "name": "stderr",
     "output_type": "stream",
     "text": [
      "Loading required package: httr\n",
      "\n",
      "Attaching package: 'dplyr'\n",
      "\n",
      "The following objects are masked from 'package:stats':\n",
      "\n",
      "    filter, lag\n",
      "\n",
      "The following objects are masked from 'package:base':\n",
      "\n",
      "    intersect, setdiff, setequal, union\n",
      "\n"
     ]
    }
   ],
   "source": [
    "require(httr)\n",
    "library(dplyr)\n",
    "library(tidyr)\n",
    "library(readr)"
   ]
  },
  {
   "cell_type": "code",
   "execution_count": 2,
   "metadata": {},
   "outputs": [],
   "source": [
    "headers = c(\n",
    " `Accept` = 'application/zip',\n",
    " `Authorization` = 'apikey 6GGA6qiNcfbMAqgWzGQmLYrd8xz7ILsduM7s'\n",
    ")\n",
    "\n",
    "url <- 'https://api.transport.nsw.gov.au/v1/publictransport/timetables/complete/gtfs'"
   ]
  },
  {
   "cell_type": "code",
   "execution_count": 4,
   "metadata": {},
   "outputs": [],
   "source": [
    "dest <- paste0(getwd(), \"/data/Timetable/timetable.zip\") #set a location"
   ]
  },
  {
   "cell_type": "code",
   "execution_count": 5,
   "metadata": {},
   "outputs": [],
   "source": [
    "# get the zip file from API and save it in the dest folder\n",
    "res <- GET(url = url, httr::add_headers(.headers=headers), write_disk(dest))\n",
    "\n",
    "# unzip the files to working directory\n",
    "# unzipped <- unzip(dest)"
   ]
  }
 ],
 "metadata": {
  "kernelspec": {
   "display_name": "R",
   "language": "R",
   "name": "ir"
  },
  "language_info": {
   "codemirror_mode": "r",
   "file_extension": ".r",
   "mimetype": "text/x-r-source",
   "name": "R",
   "pygments_lexer": "r",
   "version": "3.5.3"
  }
 },
 "nbformat": 4,
 "nbformat_minor": 2
}
