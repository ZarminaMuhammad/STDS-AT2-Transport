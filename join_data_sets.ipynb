{
 "cells": [
  {
   "cell_type": "code",
   "execution_count": 13,
   "metadata": {},
   "outputs": [
    {
     "name": "stderr",
     "output_type": "stream",
     "text": [
      "-- \u001b[1mAttaching packages\u001b[22m --------------------------------------- tidyverse 1.2.1 --\n",
      "\u001b[32mv\u001b[39m \u001b[34mtibble \u001b[39m 2.1.1     \u001b[32mv\u001b[39m \u001b[34mpurrr  \u001b[39m 0.3.2\n",
      "\u001b[32mv\u001b[39m \u001b[34mreadr  \u001b[39m 1.3.1     \u001b[32mv\u001b[39m \u001b[34mstringr\u001b[39m 1.4.0\n",
      "\u001b[32mv\u001b[39m \u001b[34mtibble \u001b[39m 2.1.1     \u001b[32mv\u001b[39m \u001b[34mforcats\u001b[39m 0.4.0\n",
      "-- \u001b[1mConflicts\u001b[22m ------------------------------------------ tidyverse_conflicts() --\n",
      "\u001b[31mx\u001b[39m \u001b[34mreadr\u001b[39m::\u001b[32mcol_factor()\u001b[39m masks \u001b[34mscales\u001b[39m::col_factor()\n",
      "\u001b[31mx\u001b[39m \u001b[34mpurrr\u001b[39m::\u001b[32mdiscard()\u001b[39m    masks \u001b[34mscales\u001b[39m::discard()\n",
      "\u001b[31mx\u001b[39m \u001b[34mdplyr\u001b[39m::\u001b[32mfilter()\u001b[39m     masks \u001b[34mstats\u001b[39m::filter()\n",
      "\u001b[31mx\u001b[39m \u001b[34mdplyr\u001b[39m::\u001b[32mlag()\u001b[39m        masks \u001b[34mstats\u001b[39m::lag()\n",
      "\n",
      "Attaching package: 'magrittr'\n",
      "\n",
      "The following object is masked from 'package:purrr':\n",
      "\n",
      "    set_names\n",
      "\n",
      "The following object is masked from 'package:tidyr':\n",
      "\n",
      "    extract\n",
      "\n"
     ]
    }
   ],
   "source": [
    "library(tidyverse)\n",
    "library(magrittr)\n",
    "library(reshape2)\n",
    "library(ggplot2)\n",
    "library(scales)\n",
    "library(ggrepel)\n",
    "library(readxl)\n",
    "library(corrplot)\n",
    "library(purrr)\n",
    "library(rlang)"
   ]
  },
  {
   "cell_type": "markdown",
   "metadata": {},
   "source": [
    "# EDA"
   ]
  },
  {
   "cell_type": "markdown",
   "metadata": {},
   "source": [
    "# Importing The Data"
   ]
  },
  {
   "cell_type": "code",
   "execution_count": 124,
   "metadata": {},
   "outputs": [],
   "source": [
    "input_path <- \"D:/OneDrive - UTS/36103/AT2B/EDA\"\n",
    "output_path <- \"D:/OneDrive - UTS/36103/AT2B/data\""
   ]
  },
  {
   "cell_type": "code",
   "execution_count": 38,
   "metadata": {},
   "outputs": [
    {
     "data": {
      "text/html": [
       "<ol>\n",
       "\t<li>'D:/OneDrive - UTS/36103/AT2B/EDA/age.csv'</li>\n",
       "\t<li>'D:/OneDrive - UTS/36103/AT2B/EDA/country_of_birth.csv'</li>\n",
       "\t<li>'D:/OneDrive - UTS/36103/AT2B/EDA/crime.csv'</li>\n",
       "\t<li>'D:/OneDrive - UTS/36103/AT2B/EDA/industry_employment.csv'</li>\n",
       "\t<li>'D:/OneDrive - UTS/36103/AT2B/EDA/labour.csv'</li>\n",
       "\t<li>'D:/OneDrive - UTS/36103/AT2B/EDA/pop_dens.csv'</li>\n",
       "\t<li>'D:/OneDrive - UTS/36103/AT2B/EDA/seifa.csv'</li>\n",
       "\t<li>'D:/OneDrive - UTS/36103/AT2B/EDA/transport.csv'</li>\n",
       "</ol>\n"
      ],
      "text/latex": [
       "\\begin{enumerate}\n",
       "\\item 'D:/OneDrive - UTS/36103/AT2B/EDA/age.csv'\n",
       "\\item 'D:/OneDrive - UTS/36103/AT2B/EDA/country\\_of\\_birth.csv'\n",
       "\\item 'D:/OneDrive - UTS/36103/AT2B/EDA/crime.csv'\n",
       "\\item 'D:/OneDrive - UTS/36103/AT2B/EDA/industry\\_employment.csv'\n",
       "\\item 'D:/OneDrive - UTS/36103/AT2B/EDA/labour.csv'\n",
       "\\item 'D:/OneDrive - UTS/36103/AT2B/EDA/pop\\_dens.csv'\n",
       "\\item 'D:/OneDrive - UTS/36103/AT2B/EDA/seifa.csv'\n",
       "\\item 'D:/OneDrive - UTS/36103/AT2B/EDA/transport.csv'\n",
       "\\end{enumerate}\n"
      ],
      "text/markdown": [
       "1. 'D:/OneDrive - UTS/36103/AT2B/EDA/age.csv'\n",
       "2. 'D:/OneDrive - UTS/36103/AT2B/EDA/country_of_birth.csv'\n",
       "3. 'D:/OneDrive - UTS/36103/AT2B/EDA/crime.csv'\n",
       "4. 'D:/OneDrive - UTS/36103/AT2B/EDA/industry_employment.csv'\n",
       "5. 'D:/OneDrive - UTS/36103/AT2B/EDA/labour.csv'\n",
       "6. 'D:/OneDrive - UTS/36103/AT2B/EDA/pop_dens.csv'\n",
       "7. 'D:/OneDrive - UTS/36103/AT2B/EDA/seifa.csv'\n",
       "8. 'D:/OneDrive - UTS/36103/AT2B/EDA/transport.csv'\n",
       "\n",
       "\n"
      ],
      "text/plain": [
       "[[1]]\n",
       "[1] \"D:/OneDrive - UTS/36103/AT2B/EDA/age.csv\"\n",
       "\n",
       "[[2]]\n",
       "[1] \"D:/OneDrive - UTS/36103/AT2B/EDA/country_of_birth.csv\"\n",
       "\n",
       "[[3]]\n",
       "[1] \"D:/OneDrive - UTS/36103/AT2B/EDA/crime.csv\"\n",
       "\n",
       "[[4]]\n",
       "[1] \"D:/OneDrive - UTS/36103/AT2B/EDA/industry_employment.csv\"\n",
       "\n",
       "[[5]]\n",
       "[1] \"D:/OneDrive - UTS/36103/AT2B/EDA/labour.csv\"\n",
       "\n",
       "[[6]]\n",
       "[1] \"D:/OneDrive - UTS/36103/AT2B/EDA/pop_dens.csv\"\n",
       "\n",
       "[[7]]\n",
       "[1] \"D:/OneDrive - UTS/36103/AT2B/EDA/seifa.csv\"\n",
       "\n",
       "[[8]]\n",
       "[1] \"D:/OneDrive - UTS/36103/AT2B/EDA/transport.csv\"\n"
      ]
     },
     "metadata": {},
     "output_type": "display_data"
    }
   ],
   "source": [
    "input_list < list.files(input_path)\n",
    "input_list"
   ]
  },
  {
   "cell_type": "code",
   "execution_count": 35,
   "metadata": {},
   "outputs": [
    {
     "data": {
      "text/html": [
       "<ol>\n",
       "\t<li>'age'</li>\n",
       "\t<li>'country_of_birth'</li>\n",
       "\t<li>'crime'</li>\n",
       "\t<li>'industry_employment'</li>\n",
       "\t<li>'labour'</li>\n",
       "\t<li>'pop_dens'</li>\n",
       "\t<li>'seifa'</li>\n",
       "\t<li>'transport'</li>\n",
       "</ol>\n"
      ],
      "text/latex": [
       "\\begin{enumerate}\n",
       "\\item 'age'\n",
       "\\item 'country\\_of\\_birth'\n",
       "\\item 'crime'\n",
       "\\item 'industry\\_employment'\n",
       "\\item 'labour'\n",
       "\\item 'pop\\_dens'\n",
       "\\item 'seifa'\n",
       "\\item 'transport'\n",
       "\\end{enumerate}\n"
      ],
      "text/markdown": [
       "1. 'age'\n",
       "2. 'country_of_birth'\n",
       "3. 'crime'\n",
       "4. 'industry_employment'\n",
       "5. 'labour'\n",
       "6. 'pop_dens'\n",
       "7. 'seifa'\n",
       "8. 'transport'\n",
       "\n",
       "\n"
      ],
      "text/plain": [
       "[[1]]\n",
       "[1] \"age\"\n",
       "\n",
       "[[2]]\n",
       "[1] \"country_of_birth\"\n",
       "\n",
       "[[3]]\n",
       "[1] \"crime\"\n",
       "\n",
       "[[4]]\n",
       "[1] \"industry_employment\"\n",
       "\n",
       "[[5]]\n",
       "[1] \"labour\"\n",
       "\n",
       "[[6]]\n",
       "[1] \"pop_dens\"\n",
       "\n",
       "[[7]]\n",
       "[1] \"seifa\"\n",
       "\n",
       "[[8]]\n",
       "[1] \"transport\"\n"
      ]
     },
     "metadata": {},
     "output_type": "display_data"
    }
   ],
   "source": [
    "tbl_names <- map(input_list, function(x) strsplit(x, \"\\\\.\")[[1]][[1]])\n",
    "tbl_names"
   ]
  },
  {
   "cell_type": "markdown",
   "metadata": {},
   "source": [
    "### Column Definitions"
   ]
  },
  {
   "cell_type": "code",
   "execution_count": 86,
   "metadata": {},
   "outputs": [],
   "source": [
    "cols_list <- list(age = cols(Age = col_factor(),\n",
    "                             Sex = col_factor(),\n",
    "                             `Labour force status` = col_factor(),\n",
    "                             LGA = col_factor(),\n",
    "                             Value = col_integer()),\n",
    "                  country_of_birth = cols(birthplace_of_person = col_factor(),\n",
    "                                          LGA = col_factor(),\n",
    "                                          Value = col_integer(),\n",
    "                                          year_of_arrival_in_australia = col_factor()),\n",
    "                  crime = cols(LGA = col_factor(),\n",
    "                               Offence = col_factor(),\n",
    "                               Crim_Count = col_integer()),\n",
    "                  industry_employment = cols(LGA = col_factor(),\n",
    "                                             Value = col_integer(),\n",
    "                                             Age = col_factor(),\n",
    "                                             Sex = col_factor(),\n",
    "                                             `Industry of Employment` = col_factor()),\n",
    "                  labour = cols(`Labour force status` = col_factor(),\n",
    "                                LGA = col_factor(),\n",
    "                                Value = col_integer(),\n",
    "                                Age = col_factor(),\n",
    "                                Sex = col_factor()),\n",
    "                  pop_dens = cols(LGA = col_factor(),\n",
    "                                  Pop_Dens_km2 = col_double()),\n",
    "                  seifa = cols(LGA = col_factor(),\n",
    "                               Value = col_integer()),\n",
    "                  seifa = cols(LGA = col_factor(),\n",
    "                               route_type = col_factor(),\n",
    "                               num_service = col_double()))"
   ]
  },
  {
   "cell_type": "code",
   "execution_count": 87,
   "metadata": {},
   "outputs": [
    {
     "name": "stderr",
     "output_type": "stream",
     "text": [
      "Warning message:\n",
      "\"The following named parsers don't match the column names: Value\"Warning message:\n",
      "\"Missing column names filled in: 'X1' [1]\"Warning message:\n",
      "\"Missing column names filled in: 'X1' [1]\"Warning message:\n",
      "\"Missing column names filled in: 'X1' [1]\""
     ]
    }
   ],
   "source": [
    "input_data <- map2(input_list, cols_list, ~readr::read_csv(.x, col_types = .y))"
   ]
  },
  {
   "cell_type": "code",
   "execution_count": 88,
   "metadata": {},
   "outputs": [
    {
     "data": {
      "text/html": [
       "<ol class=list-inline>\n",
       "\t<li>'age'</li>\n",
       "\t<li>'country_of_birth'</li>\n",
       "\t<li>'crime'</li>\n",
       "\t<li>'industry_employment'</li>\n",
       "\t<li>'labour'</li>\n",
       "\t<li>'pop_dens'</li>\n",
       "\t<li>'seifa'</li>\n",
       "\t<li>'transport'</li>\n",
       "</ol>\n"
      ],
      "text/latex": [
       "\\begin{enumerate*}\n",
       "\\item 'age'\n",
       "\\item 'country\\_of\\_birth'\n",
       "\\item 'crime'\n",
       "\\item 'industry\\_employment'\n",
       "\\item 'labour'\n",
       "\\item 'pop\\_dens'\n",
       "\\item 'seifa'\n",
       "\\item 'transport'\n",
       "\\end{enumerate*}\n"
      ],
      "text/markdown": [
       "1. 'age'\n",
       "2. 'country_of_birth'\n",
       "3. 'crime'\n",
       "4. 'industry_employment'\n",
       "5. 'labour'\n",
       "6. 'pop_dens'\n",
       "7. 'seifa'\n",
       "8. 'transport'\n",
       "\n",
       "\n"
      ],
      "text/plain": [
       "[1] \"age\"                 \"country_of_birth\"    \"crime\"              \n",
       "[4] \"industry_employment\" \"labour\"              \"pop_dens\"           \n",
       "[7] \"seifa\"               \"transport\"          "
      ]
     },
     "metadata": {},
     "output_type": "display_data"
    }
   ],
   "source": [
    "names(input_data) = tbl_names\n",
    "names(input_data)"
   ]
  },
  {
   "cell_type": "code",
   "execution_count": 89,
   "metadata": {},
   "outputs": [
    {
     "data": {
      "text/html": [
       "<dl>\n",
       "\t<dt>$age</dt>\n",
       "\t\t<dd><table>\n",
       "<thead><tr><th scope=col>Age</th><th scope=col>Sex</th><th scope=col>Labour force status</th><th scope=col>State</th><th scope=col>LGA_2016</th><th scope=col>LGA</th><th scope=col>Census year</th><th scope=col>Value</th></tr></thead>\n",
       "<tbody>\n",
       "\t<tr><td>15 - 19                   </td><td>Males                     </td><td>Employed, worked full-time</td><td>New South Wales           </td><td>10050                     </td><td>Albury                    </td><td>2016                      </td><td>236                       </td></tr>\n",
       "\t<tr><td>15 - 19                   </td><td>Females                   </td><td>Employed, worked full-time</td><td>New South Wales           </td><td>10050                     </td><td>Albury                    </td><td>2016                      </td><td>113                       </td></tr>\n",
       "\t<tr><td>15 - 19                   </td><td>Persons                   </td><td>Employed, worked full-time</td><td>New South Wales           </td><td>10050                     </td><td>Albury                    </td><td>2016                      </td><td>348                       </td></tr>\n",
       "\t<tr><td>15 - 19                   </td><td>Males                     </td><td>Employed, worked full-time</td><td>New South Wales           </td><td>10130                     </td><td>Armidale Regional         </td><td>2016                      </td><td>105                       </td></tr>\n",
       "\t<tr><td>15 - 19                   </td><td>Females                   </td><td>Employed, worked full-time</td><td>New South Wales           </td><td>10130                     </td><td>Armidale Regional         </td><td>2016                      </td><td> 58                       </td></tr>\n",
       "\t<tr><td>15 - 19                   </td><td>Persons                   </td><td>Employed, worked full-time</td><td>New South Wales           </td><td>10130                     </td><td>Armidale Regional         </td><td>2016                      </td><td>160                       </td></tr>\n",
       "</tbody>\n",
       "</table>\n",
       "</dd>\n",
       "\t<dt>$country_of_birth</dt>\n",
       "\t\t<dd><table>\n",
       "<thead><tr><th scope=col>birthplace_of_person</th><th scope=col>census_year</th><th scope=col>lga_2016</th><th scope=col>LGA</th><th scope=col>value</th><th scope=col>yarrp_2016</th><th scope=col>year_of_arrival_in_australia</th></tr></thead>\n",
       "<tbody>\n",
       "\t<tr><td>Oceania and Antarctica, nfd</td><td>2016                       </td><td>10050                      </td><td>Albury                     </td><td>0                          </td><td>1                          </td><td>Arrived 1900 - 1945        </td></tr>\n",
       "\t<tr><td>Oceania and Antarctica, nfd</td><td>2016                       </td><td>10050                      </td><td>Albury                     </td><td>0                          </td><td>2                          </td><td>Arrived 1946 - 1955        </td></tr>\n",
       "\t<tr><td>Oceania and Antarctica, nfd</td><td>2016                       </td><td>10050                      </td><td>Albury                     </td><td>0                          </td><td>3                          </td><td>Arrived 1956 - 1965        </td></tr>\n",
       "\t<tr><td>Oceania and Antarctica, nfd</td><td>2016                       </td><td>10050                      </td><td>Albury                     </td><td>0                          </td><td>4                          </td><td>Arrived 1966 - 1975        </td></tr>\n",
       "\t<tr><td>Oceania and Antarctica, nfd</td><td>2016                       </td><td>10050                      </td><td>Albury                     </td><td>0                          </td><td>5                          </td><td>Arrived 1976 - 1985        </td></tr>\n",
       "\t<tr><td>Oceania and Antarctica, nfd</td><td>2016                       </td><td>10050                      </td><td>Albury                     </td><td>0                          </td><td>6                          </td><td>Arrived 1986 - 1995        </td></tr>\n",
       "</tbody>\n",
       "</table>\n",
       "</dd>\n",
       "\t<dt>$crime</dt>\n",
       "\t\t<dd><table>\n",
       "<thead><tr><th scope=col>X1</th><th scope=col>LGA</th><th scope=col>Offence</th><th scope=col>Crim_Count</th></tr></thead>\n",
       "<tbody>\n",
       "\t<tr><td>1                                    </td><td>Albury                               </td><td>Murder *                             </td><td>  2                                  </td></tr>\n",
       "\t<tr><td>2                                    </td><td>Albury                               </td><td>Attempted murder                     </td><td>  1                                  </td></tr>\n",
       "\t<tr><td>3                                    </td><td>Albury                               </td><td>Murder accessory, conspiracy         </td><td>  0                                  </td></tr>\n",
       "\t<tr><td>4                                    </td><td>Albury                               </td><td>Manslaughter *                       </td><td>  0                                  </td></tr>\n",
       "\t<tr><td>5                                    </td><td>Albury                               </td><td>Domestic violence related assault    </td><td>284                                  </td></tr>\n",
       "\t<tr><td>6                                    </td><td>Albury                               </td><td>Non-domestic violence related assault</td><td>296                                  </td></tr>\n",
       "</tbody>\n",
       "</table>\n",
       "</dd>\n",
       "\t<dt>$industry_employment</dt>\n",
       "\t\t<dd><table>\n",
       "<thead><tr><th scope=col>Age</th><th scope=col>Sex</th><th scope=col>Industry of Employment</th><th scope=col>LGA_2016</th><th scope=col>LGA</th><th scope=col>Census year</th><th scope=col>Value</th></tr></thead>\n",
       "<tbody>\n",
       "\t<tr><td>15 - 19                          </td><td>Males                            </td><td>Agriculture, Forestry and Fishing</td><td>10050                            </td><td>Albury                           </td><td>2016                             </td><td> 6                               </td></tr>\n",
       "\t<tr><td>15 - 19                          </td><td>Females                          </td><td>Agriculture, Forestry and Fishing</td><td>10050                            </td><td>Albury                           </td><td>2016                             </td><td> 4                               </td></tr>\n",
       "\t<tr><td>15 - 19                          </td><td>Persons                          </td><td>Agriculture, Forestry and Fishing</td><td>10050                            </td><td>Albury                           </td><td>2016                             </td><td> 6                               </td></tr>\n",
       "\t<tr><td>15 - 19                          </td><td>Males                            </td><td>Agriculture, Forestry and Fishing</td><td>10130                            </td><td>Armidale Regional                </td><td>2016                             </td><td>34                               </td></tr>\n",
       "\t<tr><td>15 - 19                          </td><td>Females                          </td><td>Agriculture, Forestry and Fishing</td><td>10130                            </td><td>Armidale Regional                </td><td>2016                             </td><td> 9                               </td></tr>\n",
       "\t<tr><td>15 - 19                          </td><td>Persons                          </td><td>Agriculture, Forestry and Fishing</td><td>10130                            </td><td>Armidale Regional                </td><td>2016                             </td><td>43                               </td></tr>\n",
       "</tbody>\n",
       "</table>\n",
       "</dd>\n",
       "\t<dt>$labour</dt>\n",
       "\t\t<dd><table>\n",
       "<thead><tr><th scope=col>Age</th><th scope=col>Sex</th><th scope=col>Labour force status</th><th scope=col>LGA_2016</th><th scope=col>LGA</th><th scope=col>Census year</th><th scope=col>Value</th></tr></thead>\n",
       "<tbody>\n",
       "\t<tr><td>15 - 19                   </td><td>Males                     </td><td>Employed, worked full-time</td><td>10050                     </td><td>Albury                    </td><td>2016                      </td><td>236                       </td></tr>\n",
       "\t<tr><td>15 - 19                   </td><td>Females                   </td><td>Employed, worked full-time</td><td>10050                     </td><td>Albury                    </td><td>2016                      </td><td>113                       </td></tr>\n",
       "\t<tr><td>15 - 19                   </td><td>Persons                   </td><td>Employed, worked full-time</td><td>10050                     </td><td>Albury                    </td><td>2016                      </td><td>348                       </td></tr>\n",
       "\t<tr><td>15 - 19                   </td><td>Males                     </td><td>Employed, worked full-time</td><td>10130                     </td><td>Armidale Regional         </td><td>2016                      </td><td>105                       </td></tr>\n",
       "\t<tr><td>15 - 19                   </td><td>Females                   </td><td>Employed, worked full-time</td><td>10130                     </td><td>Armidale Regional         </td><td>2016                      </td><td> 58                       </td></tr>\n",
       "\t<tr><td>15 - 19                   </td><td>Persons                   </td><td>Employed, worked full-time</td><td>10130                     </td><td>Armidale Regional         </td><td>2016                      </td><td>160                       </td></tr>\n",
       "</tbody>\n",
       "</table>\n",
       "</dd>\n",
       "\t<dt>$pop_dens</dt>\n",
       "\t\t<dd><table>\n",
       "<thead><tr><th scope=col>X1</th><th scope=col>LGA</th><th scope=col>Pop_Dens_km2</th></tr></thead>\n",
       "<tbody>\n",
       "\t<tr><td>1                </td><td>Albury           </td><td>170.5            </td></tr>\n",
       "\t<tr><td>2                </td><td>Armidale Regional</td><td>  3.5            </td></tr>\n",
       "\t<tr><td>3                </td><td>Ballina          </td><td> 88.7            </td></tr>\n",
       "\t<tr><td>4                </td><td>Balranald        </td><td>  0.1            </td></tr>\n",
       "\t<tr><td>5                </td><td>Bathurst Regional</td><td> 11.1            </td></tr>\n",
       "\t<tr><td>6                </td><td>Bega Valley      </td><td>  5.4            </td></tr>\n",
       "</tbody>\n",
       "</table>\n",
       "</dd>\n",
       "\t<dt>$seifa</dt>\n",
       "\t\t<dd><table>\n",
       "<thead><tr><th scope=col>X1</th><th scope=col>LGA</th><th scope=col>Value</th></tr></thead>\n",
       "<tbody>\n",
       "\t<tr><td>1                </td><td>Albury           </td><td>964              </td></tr>\n",
       "\t<tr><td>2                </td><td>Armidale Dumaresq</td><td>954              </td></tr>\n",
       "\t<tr><td>3                </td><td>Ashfield         </td><td>962              </td></tr>\n",
       "\t<tr><td>4                </td><td>Auburn           </td><td>931              </td></tr>\n",
       "\t<tr><td>5                </td><td>Ballina          </td><td>986              </td></tr>\n",
       "\t<tr><td>6                </td><td>Balranald        </td><td>969              </td></tr>\n",
       "</tbody>\n",
       "</table>\n",
       "</dd>\n",
       "\t<dt>$transport</dt>\n",
       "\t\t<dd><table>\n",
       "<thead><tr><th scope=col>LGA</th><th scope=col>route_type</th><th scope=col>num_service</th></tr></thead>\n",
       "<tbody>\n",
       "\t<tr><td>Albury           </td><td>106              </td><td> 131             </td></tr>\n",
       "\t<tr><td>Albury           </td><td>204              </td><td>  14             </td></tr>\n",
       "\t<tr><td>Albury           </td><td>700              </td><td>1624             </td></tr>\n",
       "\t<tr><td>Armidale Regional</td><td>106              </td><td>  62             </td></tr>\n",
       "\t<tr><td>Armidale Regional</td><td>204              </td><td>  10             </td></tr>\n",
       "\t<tr><td>Armidale Regional</td><td>700              </td><td> 113             </td></tr>\n",
       "</tbody>\n",
       "</table>\n",
       "</dd>\n",
       "</dl>\n"
      ],
      "text/latex": [
       "\\begin{description}\n",
       "\\item[\\$age] \\begin{tabular}{r|llllllll}\n",
       " Age & Sex & Labour force status & State & LGA\\_2016 & LGA & Census year & Value\\\\\n",
       "\\hline\n",
       "\t 15 - 19                    & Males                      & Employed, worked full-time & New South Wales            & 10050                      & Albury                     & 2016                       & 236                       \\\\\n",
       "\t 15 - 19                    & Females                    & Employed, worked full-time & New South Wales            & 10050                      & Albury                     & 2016                       & 113                       \\\\\n",
       "\t 15 - 19                    & Persons                    & Employed, worked full-time & New South Wales            & 10050                      & Albury                     & 2016                       & 348                       \\\\\n",
       "\t 15 - 19                    & Males                      & Employed, worked full-time & New South Wales            & 10130                      & Armidale Regional          & 2016                       & 105                       \\\\\n",
       "\t 15 - 19                    & Females                    & Employed, worked full-time & New South Wales            & 10130                      & Armidale Regional          & 2016                       &  58                       \\\\\n",
       "\t 15 - 19                    & Persons                    & Employed, worked full-time & New South Wales            & 10130                      & Armidale Regional          & 2016                       & 160                       \\\\\n",
       "\\end{tabular}\n",
       "\n",
       "\\item[\\$country\\_of\\_birth] \\begin{tabular}{r|lllllll}\n",
       " birthplace\\_of\\_person & census\\_year & lga\\_2016 & LGA & value & yarrp\\_2016 & year\\_of\\_arrival\\_in\\_australia\\\\\n",
       "\\hline\n",
       "\t Oceania and Antarctica, nfd & 2016                        & 10050                       & Albury                      & 0                           & 1                           & Arrived 1900 - 1945        \\\\\n",
       "\t Oceania and Antarctica, nfd & 2016                        & 10050                       & Albury                      & 0                           & 2                           & Arrived 1946 - 1955        \\\\\n",
       "\t Oceania and Antarctica, nfd & 2016                        & 10050                       & Albury                      & 0                           & 3                           & Arrived 1956 - 1965        \\\\\n",
       "\t Oceania and Antarctica, nfd & 2016                        & 10050                       & Albury                      & 0                           & 4                           & Arrived 1966 - 1975        \\\\\n",
       "\t Oceania and Antarctica, nfd & 2016                        & 10050                       & Albury                      & 0                           & 5                           & Arrived 1976 - 1985        \\\\\n",
       "\t Oceania and Antarctica, nfd & 2016                        & 10050                       & Albury                      & 0                           & 6                           & Arrived 1986 - 1995        \\\\\n",
       "\\end{tabular}\n",
       "\n",
       "\\item[\\$crime] \\begin{tabular}{r|llll}\n",
       " X1 & LGA & Offence & Crim\\_Count\\\\\n",
       "\\hline\n",
       "\t 1                                     & Albury                                & Murder *                              &   2                                  \\\\\n",
       "\t 2                                     & Albury                                & Attempted murder                      &   1                                  \\\\\n",
       "\t 3                                     & Albury                                & Murder accessory, conspiracy          &   0                                  \\\\\n",
       "\t 4                                     & Albury                                & Manslaughter *                        &   0                                  \\\\\n",
       "\t 5                                     & Albury                                & Domestic violence related assault     & 284                                  \\\\\n",
       "\t 6                                     & Albury                                & Non-domestic violence related assault & 296                                  \\\\\n",
       "\\end{tabular}\n",
       "\n",
       "\\item[\\$industry\\_employment] \\begin{tabular}{r|lllllll}\n",
       " Age & Sex & Industry of Employment & LGA\\_2016 & LGA & Census year & Value\\\\\n",
       "\\hline\n",
       "\t 15 - 19                           & Males                             & Agriculture, Forestry and Fishing & 10050                             & Albury                            & 2016                              &  6                               \\\\\n",
       "\t 15 - 19                           & Females                           & Agriculture, Forestry and Fishing & 10050                             & Albury                            & 2016                              &  4                               \\\\\n",
       "\t 15 - 19                           & Persons                           & Agriculture, Forestry and Fishing & 10050                             & Albury                            & 2016                              &  6                               \\\\\n",
       "\t 15 - 19                           & Males                             & Agriculture, Forestry and Fishing & 10130                             & Armidale Regional                 & 2016                              & 34                               \\\\\n",
       "\t 15 - 19                           & Females                           & Agriculture, Forestry and Fishing & 10130                             & Armidale Regional                 & 2016                              &  9                               \\\\\n",
       "\t 15 - 19                           & Persons                           & Agriculture, Forestry and Fishing & 10130                             & Armidale Regional                 & 2016                              & 43                               \\\\\n",
       "\\end{tabular}\n",
       "\n",
       "\\item[\\$labour] \\begin{tabular}{r|lllllll}\n",
       " Age & Sex & Labour force status & LGA\\_2016 & LGA & Census year & Value\\\\\n",
       "\\hline\n",
       "\t 15 - 19                    & Males                      & Employed, worked full-time & 10050                      & Albury                     & 2016                       & 236                       \\\\\n",
       "\t 15 - 19                    & Females                    & Employed, worked full-time & 10050                      & Albury                     & 2016                       & 113                       \\\\\n",
       "\t 15 - 19                    & Persons                    & Employed, worked full-time & 10050                      & Albury                     & 2016                       & 348                       \\\\\n",
       "\t 15 - 19                    & Males                      & Employed, worked full-time & 10130                      & Armidale Regional          & 2016                       & 105                       \\\\\n",
       "\t 15 - 19                    & Females                    & Employed, worked full-time & 10130                      & Armidale Regional          & 2016                       &  58                       \\\\\n",
       "\t 15 - 19                    & Persons                    & Employed, worked full-time & 10130                      & Armidale Regional          & 2016                       & 160                       \\\\\n",
       "\\end{tabular}\n",
       "\n",
       "\\item[\\$pop\\_dens] \\begin{tabular}{r|lll}\n",
       " X1 & LGA & Pop\\_Dens\\_km2\\\\\n",
       "\\hline\n",
       "\t 1                 & Albury            & 170.5            \\\\\n",
       "\t 2                 & Armidale Regional &   3.5            \\\\\n",
       "\t 3                 & Ballina           &  88.7            \\\\\n",
       "\t 4                 & Balranald         &   0.1            \\\\\n",
       "\t 5                 & Bathurst Regional &  11.1            \\\\\n",
       "\t 6                 & Bega Valley       &   5.4            \\\\\n",
       "\\end{tabular}\n",
       "\n",
       "\\item[\\$seifa] \\begin{tabular}{r|lll}\n",
       " X1 & LGA & Value\\\\\n",
       "\\hline\n",
       "\t 1                 & Albury            & 964              \\\\\n",
       "\t 2                 & Armidale Dumaresq & 954              \\\\\n",
       "\t 3                 & Ashfield          & 962              \\\\\n",
       "\t 4                 & Auburn            & 931              \\\\\n",
       "\t 5                 & Ballina           & 986              \\\\\n",
       "\t 6                 & Balranald         & 969              \\\\\n",
       "\\end{tabular}\n",
       "\n",
       "\\item[\\$transport] \\begin{tabular}{r|lll}\n",
       " LGA & route\\_type & num\\_service\\\\\n",
       "\\hline\n",
       "\t Albury            & 106               &  131             \\\\\n",
       "\t Albury            & 204               &   14             \\\\\n",
       "\t Albury            & 700               & 1624             \\\\\n",
       "\t Armidale Regional & 106               &   62             \\\\\n",
       "\t Armidale Regional & 204               &   10             \\\\\n",
       "\t Armidale Regional & 700               &  113             \\\\\n",
       "\\end{tabular}\n",
       "\n",
       "\\end{description}\n"
      ],
      "text/markdown": [
       "$age\n",
       ":   \n",
       "| Age | Sex | Labour force status | State | LGA_2016 | LGA | Census year | Value |\n",
       "|---|---|---|---|---|---|---|---|\n",
       "| 15 - 19                    | Males                      | Employed, worked full-time | New South Wales            | 10050                      | Albury                     | 2016                       | 236                        |\n",
       "| 15 - 19                    | Females                    | Employed, worked full-time | New South Wales            | 10050                      | Albury                     | 2016                       | 113                        |\n",
       "| 15 - 19                    | Persons                    | Employed, worked full-time | New South Wales            | 10050                      | Albury                     | 2016                       | 348                        |\n",
       "| 15 - 19                    | Males                      | Employed, worked full-time | New South Wales            | 10130                      | Armidale Regional          | 2016                       | 105                        |\n",
       "| 15 - 19                    | Females                    | Employed, worked full-time | New South Wales            | 10130                      | Armidale Regional          | 2016                       |  58                        |\n",
       "| 15 - 19                    | Persons                    | Employed, worked full-time | New South Wales            | 10130                      | Armidale Regional          | 2016                       | 160                        |\n",
       "\n",
       "\n",
       "$country_of_birth\n",
       ":   \n",
       "| birthplace_of_person | census_year | lga_2016 | LGA | value | yarrp_2016 | year_of_arrival_in_australia |\n",
       "|---|---|---|---|---|---|---|\n",
       "| Oceania and Antarctica, nfd | 2016                        | 10050                       | Albury                      | 0                           | 1                           | Arrived 1900 - 1945         |\n",
       "| Oceania and Antarctica, nfd | 2016                        | 10050                       | Albury                      | 0                           | 2                           | Arrived 1946 - 1955         |\n",
       "| Oceania and Antarctica, nfd | 2016                        | 10050                       | Albury                      | 0                           | 3                           | Arrived 1956 - 1965         |\n",
       "| Oceania and Antarctica, nfd | 2016                        | 10050                       | Albury                      | 0                           | 4                           | Arrived 1966 - 1975         |\n",
       "| Oceania and Antarctica, nfd | 2016                        | 10050                       | Albury                      | 0                           | 5                           | Arrived 1976 - 1985         |\n",
       "| Oceania and Antarctica, nfd | 2016                        | 10050                       | Albury                      | 0                           | 6                           | Arrived 1986 - 1995         |\n",
       "\n",
       "\n",
       "$crime\n",
       ":   \n",
       "| X1 | LGA | Offence | Crim_Count |\n",
       "|---|---|---|---|\n",
       "| 1                                     | Albury                                | Murder *                              |   2                                   |\n",
       "| 2                                     | Albury                                | Attempted murder                      |   1                                   |\n",
       "| 3                                     | Albury                                | Murder accessory, conspiracy          |   0                                   |\n",
       "| 4                                     | Albury                                | Manslaughter *                        |   0                                   |\n",
       "| 5                                     | Albury                                | Domestic violence related assault     | 284                                   |\n",
       "| 6                                     | Albury                                | Non-domestic violence related assault | 296                                   |\n",
       "\n",
       "\n",
       "$industry_employment\n",
       ":   \n",
       "| Age | Sex | Industry of Employment | LGA_2016 | LGA | Census year | Value |\n",
       "|---|---|---|---|---|---|---|\n",
       "| 15 - 19                           | Males                             | Agriculture, Forestry and Fishing | 10050                             | Albury                            | 2016                              |  6                                |\n",
       "| 15 - 19                           | Females                           | Agriculture, Forestry and Fishing | 10050                             | Albury                            | 2016                              |  4                                |\n",
       "| 15 - 19                           | Persons                           | Agriculture, Forestry and Fishing | 10050                             | Albury                            | 2016                              |  6                                |\n",
       "| 15 - 19                           | Males                             | Agriculture, Forestry and Fishing | 10130                             | Armidale Regional                 | 2016                              | 34                                |\n",
       "| 15 - 19                           | Females                           | Agriculture, Forestry and Fishing | 10130                             | Armidale Regional                 | 2016                              |  9                                |\n",
       "| 15 - 19                           | Persons                           | Agriculture, Forestry and Fishing | 10130                             | Armidale Regional                 | 2016                              | 43                                |\n",
       "\n",
       "\n",
       "$labour\n",
       ":   \n",
       "| Age | Sex | Labour force status | LGA_2016 | LGA | Census year | Value |\n",
       "|---|---|---|---|---|---|---|\n",
       "| 15 - 19                    | Males                      | Employed, worked full-time | 10050                      | Albury                     | 2016                       | 236                        |\n",
       "| 15 - 19                    | Females                    | Employed, worked full-time | 10050                      | Albury                     | 2016                       | 113                        |\n",
       "| 15 - 19                    | Persons                    | Employed, worked full-time | 10050                      | Albury                     | 2016                       | 348                        |\n",
       "| 15 - 19                    | Males                      | Employed, worked full-time | 10130                      | Armidale Regional          | 2016                       | 105                        |\n",
       "| 15 - 19                    | Females                    | Employed, worked full-time | 10130                      | Armidale Regional          | 2016                       |  58                        |\n",
       "| 15 - 19                    | Persons                    | Employed, worked full-time | 10130                      | Armidale Regional          | 2016                       | 160                        |\n",
       "\n",
       "\n",
       "$pop_dens\n",
       ":   \n",
       "| X1 | LGA | Pop_Dens_km2 |\n",
       "|---|---|---|\n",
       "| 1                 | Albury            | 170.5             |\n",
       "| 2                 | Armidale Regional |   3.5             |\n",
       "| 3                 | Ballina           |  88.7             |\n",
       "| 4                 | Balranald         |   0.1             |\n",
       "| 5                 | Bathurst Regional |  11.1             |\n",
       "| 6                 | Bega Valley       |   5.4             |\n",
       "\n",
       "\n",
       "$seifa\n",
       ":   \n",
       "| X1 | LGA | Value |\n",
       "|---|---|---|\n",
       "| 1                 | Albury            | 964               |\n",
       "| 2                 | Armidale Dumaresq | 954               |\n",
       "| 3                 | Ashfield          | 962               |\n",
       "| 4                 | Auburn            | 931               |\n",
       "| 5                 | Ballina           | 986               |\n",
       "| 6                 | Balranald         | 969               |\n",
       "\n",
       "\n",
       "$transport\n",
       ":   \n",
       "| LGA | route_type | num_service |\n",
       "|---|---|---|\n",
       "| Albury            | 106               |  131              |\n",
       "| Albury            | 204               |   14              |\n",
       "| Albury            | 700               | 1624              |\n",
       "| Armidale Regional | 106               |   62              |\n",
       "| Armidale Regional | 204               |   10              |\n",
       "| Armidale Regional | 700               |  113              |\n",
       "\n",
       "\n",
       "\n",
       "\n"
      ],
      "text/plain": [
       "$age\n",
       "\u001b[90m# A tibble: 6 x 8\u001b[39m\n",
       "  Age    Sex    `Labour force sta~ State   LGA_2016 LGA      `Census year` Value\n",
       "  \u001b[3m\u001b[90m<fct>\u001b[39m\u001b[23m  \u001b[3m\u001b[90m<fct>\u001b[39m\u001b[23m  \u001b[3m\u001b[90m<fct>\u001b[39m\u001b[23m              \u001b[3m\u001b[90m<chr>\u001b[39m\u001b[23m      \u001b[3m\u001b[90m<dbl>\u001b[39m\u001b[23m \u001b[3m\u001b[90m<fct>\u001b[39m\u001b[23m            \u001b[3m\u001b[90m<dbl>\u001b[39m\u001b[23m \u001b[3m\u001b[90m<int>\u001b[39m\u001b[23m\n",
       "\u001b[90m1\u001b[39m 15 - ~ Males  Employed, worked ~ New So~    \u001b[4m1\u001b[24m\u001b[4m0\u001b[24m050 Albury            \u001b[4m2\u001b[24m016   236\n",
       "\u001b[90m2\u001b[39m 15 - ~ Femal~ Employed, worked ~ New So~    \u001b[4m1\u001b[24m\u001b[4m0\u001b[24m050 Albury            \u001b[4m2\u001b[24m016   113\n",
       "\u001b[90m3\u001b[39m 15 - ~ Perso~ Employed, worked ~ New So~    \u001b[4m1\u001b[24m\u001b[4m0\u001b[24m050 Albury            \u001b[4m2\u001b[24m016   348\n",
       "\u001b[90m4\u001b[39m 15 - ~ Males  Employed, worked ~ New So~    \u001b[4m1\u001b[24m\u001b[4m0\u001b[24m130 Armidal~          \u001b[4m2\u001b[24m016   105\n",
       "\u001b[90m5\u001b[39m 15 - ~ Femal~ Employed, worked ~ New So~    \u001b[4m1\u001b[24m\u001b[4m0\u001b[24m130 Armidal~          \u001b[4m2\u001b[24m016    58\n",
       "\u001b[90m6\u001b[39m 15 - ~ Perso~ Employed, worked ~ New So~    \u001b[4m1\u001b[24m\u001b[4m0\u001b[24m130 Armidal~          \u001b[4m2\u001b[24m016   160\n",
       "\n",
       "$country_of_birth\n",
       "\u001b[90m# A tibble: 6 x 7\u001b[39m\n",
       "  birthplace_of_pe~ census_year lga_2016 LGA   value yarrp_2016 year_of_arrival~\n",
       "  \u001b[3m\u001b[90m<fct>\u001b[39m\u001b[23m                   \u001b[3m\u001b[90m<dbl>\u001b[39m\u001b[23m    \u001b[3m\u001b[90m<dbl>\u001b[39m\u001b[23m \u001b[3m\u001b[90m<fct>\u001b[39m\u001b[23m \u001b[3m\u001b[90m<dbl>\u001b[39m\u001b[23m \u001b[3m\u001b[90m<chr>\u001b[39m\u001b[23m      \u001b[3m\u001b[90m<fct>\u001b[39m\u001b[23m           \n",
       "\u001b[90m1\u001b[39m Oceania and Anta~        \u001b[4m2\u001b[24m016    \u001b[4m1\u001b[24m\u001b[4m0\u001b[24m050 Albu~     0 1          Arrived 1900 - ~\n",
       "\u001b[90m2\u001b[39m Oceania and Anta~        \u001b[4m2\u001b[24m016    \u001b[4m1\u001b[24m\u001b[4m0\u001b[24m050 Albu~     0 2          Arrived 1946 - ~\n",
       "\u001b[90m3\u001b[39m Oceania and Anta~        \u001b[4m2\u001b[24m016    \u001b[4m1\u001b[24m\u001b[4m0\u001b[24m050 Albu~     0 3          Arrived 1956 - ~\n",
       "\u001b[90m4\u001b[39m Oceania and Anta~        \u001b[4m2\u001b[24m016    \u001b[4m1\u001b[24m\u001b[4m0\u001b[24m050 Albu~     0 4          Arrived 1966 - ~\n",
       "\u001b[90m5\u001b[39m Oceania and Anta~        \u001b[4m2\u001b[24m016    \u001b[4m1\u001b[24m\u001b[4m0\u001b[24m050 Albu~     0 5          Arrived 1976 - ~\n",
       "\u001b[90m6\u001b[39m Oceania and Anta~        \u001b[4m2\u001b[24m016    \u001b[4m1\u001b[24m\u001b[4m0\u001b[24m050 Albu~     0 6          Arrived 1986 - ~\n",
       "\n",
       "$crime\n",
       "\u001b[90m# A tibble: 6 x 4\u001b[39m\n",
       "     X1 LGA    Offence                               Crim_Count\n",
       "  \u001b[3m\u001b[90m<dbl>\u001b[39m\u001b[23m \u001b[3m\u001b[90m<fct>\u001b[39m\u001b[23m  \u001b[3m\u001b[90m<fct>\u001b[39m\u001b[23m                                      \u001b[3m\u001b[90m<int>\u001b[39m\u001b[23m\n",
       "\u001b[90m1\u001b[39m     1 Albury Murder *                                       2\n",
       "\u001b[90m2\u001b[39m     2 Albury Attempted murder                               1\n",
       "\u001b[90m3\u001b[39m     3 Albury Murder accessory, conspiracy                   0\n",
       "\u001b[90m4\u001b[39m     4 Albury Manslaughter *                                 0\n",
       "\u001b[90m5\u001b[39m     5 Albury Domestic violence related assault            284\n",
       "\u001b[90m6\u001b[39m     6 Albury Non-domestic violence related assault        296\n",
       "\n",
       "$industry_employment\n",
       "\u001b[90m# A tibble: 6 x 7\u001b[39m\n",
       "  Age    Sex    `Industry of Employment` LGA_2016 LGA        `Census year` Value\n",
       "  \u001b[3m\u001b[90m<fct>\u001b[39m\u001b[23m  \u001b[3m\u001b[90m<fct>\u001b[39m\u001b[23m  \u001b[3m\u001b[90m<fct>\u001b[39m\u001b[23m                       \u001b[3m\u001b[90m<dbl>\u001b[39m\u001b[23m \u001b[3m\u001b[90m<fct>\u001b[39m\u001b[23m              \u001b[3m\u001b[90m<dbl>\u001b[39m\u001b[23m \u001b[3m\u001b[90m<int>\u001b[39m\u001b[23m\n",
       "\u001b[90m1\u001b[39m 15 - ~ Males  Agriculture, Forestry a~    \u001b[4m1\u001b[24m\u001b[4m0\u001b[24m050 Albury              \u001b[4m2\u001b[24m016     6\n",
       "\u001b[90m2\u001b[39m 15 - ~ Femal~ Agriculture, Forestry a~    \u001b[4m1\u001b[24m\u001b[4m0\u001b[24m050 Albury              \u001b[4m2\u001b[24m016     4\n",
       "\u001b[90m3\u001b[39m 15 - ~ Perso~ Agriculture, Forestry a~    \u001b[4m1\u001b[24m\u001b[4m0\u001b[24m050 Albury              \u001b[4m2\u001b[24m016     6\n",
       "\u001b[90m4\u001b[39m 15 - ~ Males  Agriculture, Forestry a~    \u001b[4m1\u001b[24m\u001b[4m0\u001b[24m130 Armidale ~          \u001b[4m2\u001b[24m016    34\n",
       "\u001b[90m5\u001b[39m 15 - ~ Femal~ Agriculture, Forestry a~    \u001b[4m1\u001b[24m\u001b[4m0\u001b[24m130 Armidale ~          \u001b[4m2\u001b[24m016     9\n",
       "\u001b[90m6\u001b[39m 15 - ~ Perso~ Agriculture, Forestry a~    \u001b[4m1\u001b[24m\u001b[4m0\u001b[24m130 Armidale ~          \u001b[4m2\u001b[24m016    43\n",
       "\n",
       "$labour\n",
       "\u001b[90m# A tibble: 6 x 7\u001b[39m\n",
       "  Age     Sex     `Labour force status` LGA_2016 LGA         `Census year` Value\n",
       "  \u001b[3m\u001b[90m<fct>\u001b[39m\u001b[23m   \u001b[3m\u001b[90m<fct>\u001b[39m\u001b[23m   \u001b[3m\u001b[90m<fct>\u001b[39m\u001b[23m                    \u001b[3m\u001b[90m<dbl>\u001b[39m\u001b[23m \u001b[3m\u001b[90m<fct>\u001b[39m\u001b[23m               \u001b[3m\u001b[90m<dbl>\u001b[39m\u001b[23m \u001b[3m\u001b[90m<int>\u001b[39m\u001b[23m\n",
       "\u001b[90m1\u001b[39m 15 - 19 Males   Employed, worked ful~    \u001b[4m1\u001b[24m\u001b[4m0\u001b[24m050 Albury               \u001b[4m2\u001b[24m016   236\n",
       "\u001b[90m2\u001b[39m 15 - 19 Females Employed, worked ful~    \u001b[4m1\u001b[24m\u001b[4m0\u001b[24m050 Albury               \u001b[4m2\u001b[24m016   113\n",
       "\u001b[90m3\u001b[39m 15 - 19 Persons Employed, worked ful~    \u001b[4m1\u001b[24m\u001b[4m0\u001b[24m050 Albury               \u001b[4m2\u001b[24m016   348\n",
       "\u001b[90m4\u001b[39m 15 - 19 Males   Employed, worked ful~    \u001b[4m1\u001b[24m\u001b[4m0\u001b[24m130 Armidale R~          \u001b[4m2\u001b[24m016   105\n",
       "\u001b[90m5\u001b[39m 15 - 19 Females Employed, worked ful~    \u001b[4m1\u001b[24m\u001b[4m0\u001b[24m130 Armidale R~          \u001b[4m2\u001b[24m016    58\n",
       "\u001b[90m6\u001b[39m 15 - 19 Persons Employed, worked ful~    \u001b[4m1\u001b[24m\u001b[4m0\u001b[24m130 Armidale R~          \u001b[4m2\u001b[24m016   160\n",
       "\n",
       "$pop_dens\n",
       "\u001b[90m# A tibble: 6 x 3\u001b[39m\n",
       "     X1 LGA               Pop_Dens_km2\n",
       "  \u001b[3m\u001b[90m<dbl>\u001b[39m\u001b[23m \u001b[3m\u001b[90m<fct>\u001b[39m\u001b[23m                    \u001b[3m\u001b[90m<dbl>\u001b[39m\u001b[23m\n",
       "\u001b[90m1\u001b[39m     1 Albury                   170. \n",
       "\u001b[90m2\u001b[39m     2 Armidale Regional          3.5\n",
       "\u001b[90m3\u001b[39m     3 Ballina                   88.7\n",
       "\u001b[90m4\u001b[39m     4 Balranald                  0.1\n",
       "\u001b[90m5\u001b[39m     5 Bathurst Regional         11.1\n",
       "\u001b[90m6\u001b[39m     6 Bega Valley                5.4\n",
       "\n",
       "$seifa\n",
       "\u001b[90m# A tibble: 6 x 3\u001b[39m\n",
       "     X1 LGA               Value\n",
       "  \u001b[3m\u001b[90m<dbl>\u001b[39m\u001b[23m \u001b[3m\u001b[90m<fct>\u001b[39m\u001b[23m             \u001b[3m\u001b[90m<int>\u001b[39m\u001b[23m\n",
       "\u001b[90m1\u001b[39m     1 Albury              964\n",
       "\u001b[90m2\u001b[39m     2 Armidale Dumaresq   954\n",
       "\u001b[90m3\u001b[39m     3 Ashfield            962\n",
       "\u001b[90m4\u001b[39m     4 Auburn              931\n",
       "\u001b[90m5\u001b[39m     5 Ballina             986\n",
       "\u001b[90m6\u001b[39m     6 Balranald           969\n",
       "\n",
       "$transport\n",
       "\u001b[90m# A tibble: 6 x 3\u001b[39m\n",
       "  LGA               route_type num_service\n",
       "  \u001b[3m\u001b[90m<fct>\u001b[39m\u001b[23m             \u001b[3m\u001b[90m<fct>\u001b[39m\u001b[23m            \u001b[3m\u001b[90m<dbl>\u001b[39m\u001b[23m\n",
       "\u001b[90m1\u001b[39m Albury            106                131\n",
       "\u001b[90m2\u001b[39m Albury            204                 14\n",
       "\u001b[90m3\u001b[39m Albury            700               \u001b[4m1\u001b[24m624\n",
       "\u001b[90m4\u001b[39m Armidale Regional 106                 62\n",
       "\u001b[90m5\u001b[39m Armidale Regional 204                 10\n",
       "\u001b[90m6\u001b[39m Armidale Regional 700                113\n"
      ]
     },
     "metadata": {},
     "output_type": "display_data"
    }
   ],
   "source": [
    "map(input_data, head)"
   ]
  },
  {
   "cell_type": "code",
   "execution_count": 92,
   "metadata": {},
   "outputs": [
    {
     "name": "stdout",
     "output_type": "stream",
     "text": [
      "[1] \"age\"\n",
      "Observations: 42,768\n",
      "Variables: 8\n",
      "$ Age                   \u001b[3m\u001b[90m<fct>\u001b[39m\u001b[23m 15 - 19, 15 - 19, 15 - 19, 15 - 19, 15 - 19, ...\n",
      "$ Sex                   \u001b[3m\u001b[90m<fct>\u001b[39m\u001b[23m Males, Females, Persons, Males, Females, Pers...\n",
      "$ `Labour force status` \u001b[3m\u001b[90m<fct>\u001b[39m\u001b[23m \"Employed, worked full-time\", \"Employed, work...\n",
      "$ State                 \u001b[3m\u001b[90m<chr>\u001b[39m\u001b[23m \"New South Wales\", \"New South Wales\", \"New So...\n",
      "$ LGA_2016              \u001b[3m\u001b[90m<dbl>\u001b[39m\u001b[23m 10050, 10050, 10050, 10130, 10130, 10130, 102...\n",
      "$ LGA                   \u001b[3m\u001b[90m<fct>\u001b[39m\u001b[23m Albury, Albury, Albury, Armidale Regional, Ar...\n",
      "$ `Census year`         \u001b[3m\u001b[90m<dbl>\u001b[39m\u001b[23m 2016, 2016, 2016, 2016, 2016, 2016, 2016, 201...\n",
      "$ Value                 \u001b[3m\u001b[90m<int>\u001b[39m\u001b[23m 236, 113, 348, 105, 58, 160, 115, 53, 168, 11...\n",
      "\u001b[90m# A tibble: 42,768 x 8\u001b[39m\n",
      "   Age    Sex    `Labour force sta~ State   LGA_2016 LGA     `Census year` Value\n",
      "   \u001b[3m\u001b[90m<fct>\u001b[39m\u001b[23m  \u001b[3m\u001b[90m<fct>\u001b[39m\u001b[23m  \u001b[3m\u001b[90m<fct>\u001b[39m\u001b[23m              \u001b[3m\u001b[90m<chr>\u001b[39m\u001b[23m      \u001b[3m\u001b[90m<dbl>\u001b[39m\u001b[23m \u001b[3m\u001b[90m<fct>\u001b[39m\u001b[23m           \u001b[3m\u001b[90m<dbl>\u001b[39m\u001b[23m \u001b[3m\u001b[90m<int>\u001b[39m\u001b[23m\n",
      "\u001b[90m 1\u001b[39m 15 - ~ Males  Employed, worked ~ New So~    \u001b[4m1\u001b[24m\u001b[4m0\u001b[24m050 Albury           \u001b[4m2\u001b[24m016   236\n",
      "\u001b[90m 2\u001b[39m 15 - ~ Femal~ Employed, worked ~ New So~    \u001b[4m1\u001b[24m\u001b[4m0\u001b[24m050 Albury           \u001b[4m2\u001b[24m016   113\n",
      "\u001b[90m 3\u001b[39m 15 - ~ Perso~ Employed, worked ~ New So~    \u001b[4m1\u001b[24m\u001b[4m0\u001b[24m050 Albury           \u001b[4m2\u001b[24m016   348\n",
      "\u001b[90m 4\u001b[39m 15 - ~ Males  Employed, worked ~ New So~    \u001b[4m1\u001b[24m\u001b[4m0\u001b[24m130 Armida~          \u001b[4m2\u001b[24m016   105\n",
      "\u001b[90m 5\u001b[39m 15 - ~ Femal~ Employed, worked ~ New So~    \u001b[4m1\u001b[24m\u001b[4m0\u001b[24m130 Armida~          \u001b[4m2\u001b[24m016    58\n",
      "\u001b[90m 6\u001b[39m 15 - ~ Perso~ Employed, worked ~ New So~    \u001b[4m1\u001b[24m\u001b[4m0\u001b[24m130 Armida~          \u001b[4m2\u001b[24m016   160\n",
      "\u001b[90m 7\u001b[39m 15 - ~ Males  Employed, worked ~ New So~    \u001b[4m1\u001b[24m\u001b[4m0\u001b[24m250 Ballina          \u001b[4m2\u001b[24m016   115\n",
      "\u001b[90m 8\u001b[39m 15 - ~ Femal~ Employed, worked ~ New So~    \u001b[4m1\u001b[24m\u001b[4m0\u001b[24m250 Ballina          \u001b[4m2\u001b[24m016    53\n",
      "\u001b[90m 9\u001b[39m 15 - ~ Perso~ Employed, worked ~ New So~    \u001b[4m1\u001b[24m\u001b[4m0\u001b[24m250 Ballina          \u001b[4m2\u001b[24m016   168\n",
      "\u001b[90m10\u001b[39m 15 - ~ Males  Employed, worked ~ New So~    \u001b[4m1\u001b[24m\u001b[4m0\u001b[24m300 Balran~          \u001b[4m2\u001b[24m016    11\n",
      "\u001b[90m# ... with 42,758 more rows\u001b[39m\n",
      "[1] \"country_of_birth\"\n",
      "Observations: 918,607\n",
      "Variables: 7\n",
      "$ birthplace_of_person         \u001b[3m\u001b[90m<fct>\u001b[39m\u001b[23m \"Oceania and Antarctica, nfd\", \"Oceani...\n",
      "$ census_year                  \u001b[3m\u001b[90m<dbl>\u001b[39m\u001b[23m 2016, 2016, 2016, 2016, 2016, 2016, 20...\n",
      "$ lga_2016                     \u001b[3m\u001b[90m<dbl>\u001b[39m\u001b[23m 10050, 10050, 10050, 10050, 10050, 100...\n",
      "$ LGA                          \u001b[3m\u001b[90m<fct>\u001b[39m\u001b[23m Albury, Albury, Albury, Albury, Albury...\n",
      "$ value                        \u001b[3m\u001b[90m<dbl>\u001b[39m\u001b[23m 0, 0, 0, 0, 0, 0, 0, 0, 0, 0, 0, 0, 0,...\n",
      "$ yarrp_2016                   \u001b[3m\u001b[90m<chr>\u001b[39m\u001b[23m \"1\", \"2\", \"3\", \"4\", \"5\", \"6\", \"7\", \"9\"...\n",
      "$ year_of_arrival_in_australia \u001b[3m\u001b[90m<fct>\u001b[39m\u001b[23m Arrived 1900 - 1945, Arrived 1946 - 19...\n",
      "\u001b[90m# A tibble: 918,607 x 7\u001b[39m\n",
      "   birthplace_of_p~ census_year lga_2016 LGA   value yarrp_2016 year_of_arrival~\n",
      "   \u001b[3m\u001b[90m<fct>\u001b[39m\u001b[23m                  \u001b[3m\u001b[90m<dbl>\u001b[39m\u001b[23m    \u001b[3m\u001b[90m<dbl>\u001b[39m\u001b[23m \u001b[3m\u001b[90m<fct>\u001b[39m\u001b[23m \u001b[3m\u001b[90m<dbl>\u001b[39m\u001b[23m \u001b[3m\u001b[90m<chr>\u001b[39m\u001b[23m      \u001b[3m\u001b[90m<fct>\u001b[39m\u001b[23m           \n",
      "\u001b[90m 1\u001b[39m Oceania and Ant~        \u001b[4m2\u001b[24m016    \u001b[4m1\u001b[24m\u001b[4m0\u001b[24m050 Albu~     0 1          Arrived 1900 - ~\n",
      "\u001b[90m 2\u001b[39m Oceania and Ant~        \u001b[4m2\u001b[24m016    \u001b[4m1\u001b[24m\u001b[4m0\u001b[24m050 Albu~     0 2          Arrived 1946 - ~\n",
      "\u001b[90m 3\u001b[39m Oceania and Ant~        \u001b[4m2\u001b[24m016    \u001b[4m1\u001b[24m\u001b[4m0\u001b[24m050 Albu~     0 3          Arrived 1956 - ~\n",
      "\u001b[90m 4\u001b[39m Oceania and Ant~        \u001b[4m2\u001b[24m016    \u001b[4m1\u001b[24m\u001b[4m0\u001b[24m050 Albu~     0 4          Arrived 1966 - ~\n",
      "\u001b[90m 5\u001b[39m Oceania and Ant~        \u001b[4m2\u001b[24m016    \u001b[4m1\u001b[24m\u001b[4m0\u001b[24m050 Albu~     0 5          Arrived 1976 - ~\n",
      "\u001b[90m 6\u001b[39m Oceania and Ant~        \u001b[4m2\u001b[24m016    \u001b[4m1\u001b[24m\u001b[4m0\u001b[24m050 Albu~     0 6          Arrived 1986 - ~\n",
      "\u001b[90m 7\u001b[39m Oceania and Ant~        \u001b[4m2\u001b[24m016    \u001b[4m1\u001b[24m\u001b[4m0\u001b[24m050 Albu~     0 7          Arrived 1996 - ~\n",
      "\u001b[90m 8\u001b[39m Oceania and Ant~        \u001b[4m2\u001b[24m016    \u001b[4m1\u001b[24m\u001b[4m0\u001b[24m050 Albu~     0 9          Arrived 1 Jan 2~\n",
      "\u001b[90m 9\u001b[39m Oceania and Ant~        \u001b[4m2\u001b[24m016    \u001b[4m1\u001b[24m\u001b[4m0\u001b[24m050 Albu~     0 Z          Not stated      \n",
      "\u001b[90m10\u001b[39m Oceania and Ant~        \u001b[4m2\u001b[24m016    \u001b[4m1\u001b[24m\u001b[4m0\u001b[24m130 Armi~     0 1          Arrived 1900 - ~\n",
      "\u001b[90m# ... with 918,597 more rows\u001b[39m\n",
      "[1] \"crime\"\n",
      "Observations: 8,060\n",
      "Variables: 4\n",
      "$ X1         \u001b[3m\u001b[90m<dbl>\u001b[39m\u001b[23m 1, 2, 3, 4, 5, 6, 7, 8, 9, 10, 11, 12, 13, 14, 15, 16, 1...\n",
      "$ LGA        \u001b[3m\u001b[90m<fct>\u001b[39m\u001b[23m Albury, Albury, Albury, Albury, Albury, Albury, Albury, ...\n",
      "$ Offence    \u001b[3m\u001b[90m<fct>\u001b[39m\u001b[23m \"Murder *\", \"Attempted murder\", \"Murder accessory, consp...\n",
      "$ Crim_Count \u001b[3m\u001b[90m<int>\u001b[39m\u001b[23m 2, 1, 0, 0, 284, 296, 25, 47, 68, 2, 12, 3, 6, 0, 315, 1...\n",
      "\u001b[90m# A tibble: 8,060 x 4\u001b[39m\n",
      "      X1 LGA    Offence                                               Crim_Count\n",
      "   \u001b[3m\u001b[90m<dbl>\u001b[39m\u001b[23m \u001b[3m\u001b[90m<fct>\u001b[39m\u001b[23m  \u001b[3m\u001b[90m<fct>\u001b[39m\u001b[23m                                                      \u001b[3m\u001b[90m<int>\u001b[39m\u001b[23m\n",
      "\u001b[90m 1\u001b[39m     1 Albury Murder *                                                       2\n",
      "\u001b[90m 2\u001b[39m     2 Albury Attempted murder                                               1\n",
      "\u001b[90m 3\u001b[39m     3 Albury Murder accessory, conspiracy                                   0\n",
      "\u001b[90m 4\u001b[39m     4 Albury Manslaughter *                                                 0\n",
      "\u001b[90m 5\u001b[39m     5 Albury Domestic violence related assault                            284\n",
      "\u001b[90m 6\u001b[39m     6 Albury Non-domestic violence related assault                        296\n",
      "\u001b[90m 7\u001b[39m     7 Albury Assault Police                                                25\n",
      "\u001b[90m 8\u001b[39m     8 Albury Sexual assault                                                47\n",
      "\u001b[90m 9\u001b[39m     9 Albury Indecent assault, act of indecency and other sexual ~         68\n",
      "\u001b[90m10\u001b[39m    10 Albury Abduction and kidnapping                                       2\n",
      "\u001b[90m# ... with 8,050 more rows\u001b[39m\n",
      "[1] \"industry_employment\"\n",
      "Observations: 79,200\n",
      "Variables: 7\n",
      "$ Age                      \u001b[3m\u001b[90m<fct>\u001b[39m\u001b[23m 15 - 19, 15 - 19, 15 - 19, 15 - 19, 15 - 1...\n",
      "$ Sex                      \u001b[3m\u001b[90m<fct>\u001b[39m\u001b[23m Males, Females, Persons, Males, Females, P...\n",
      "$ `Industry of Employment` \u001b[3m\u001b[90m<fct>\u001b[39m\u001b[23m \"Agriculture, Forestry and Fishing\", \"Agri...\n",
      "$ LGA_2016                 \u001b[3m\u001b[90m<dbl>\u001b[39m\u001b[23m 10050, 10050, 10050, 10130, 10130, 10130, ...\n",
      "$ LGA                      \u001b[3m\u001b[90m<fct>\u001b[39m\u001b[23m Albury, Albury, Albury, Armidale Regional,...\n",
      "$ `Census year`            \u001b[3m\u001b[90m<dbl>\u001b[39m\u001b[23m 2016, 2016, 2016, 2016, 2016, 2016, 2016, ...\n",
      "$ Value                    \u001b[3m\u001b[90m<int>\u001b[39m\u001b[23m 6, 4, 6, 34, 9, 43, 27, 10, 39, 0, 0, 6, 1...\n",
      "\u001b[90m# A tibble: 79,200 x 7\u001b[39m\n",
      "   Age    Sex    `Industry of Employmen~ LGA_2016 LGA        `Census year` Value\n",
      "   \u001b[3m\u001b[90m<fct>\u001b[39m\u001b[23m  \u001b[3m\u001b[90m<fct>\u001b[39m\u001b[23m  \u001b[3m\u001b[90m<fct>\u001b[39m\u001b[23m                      \u001b[3m\u001b[90m<dbl>\u001b[39m\u001b[23m \u001b[3m\u001b[90m<fct>\u001b[39m\u001b[23m              \u001b[3m\u001b[90m<dbl>\u001b[39m\u001b[23m \u001b[3m\u001b[90m<int>\u001b[39m\u001b[23m\n",
      "\u001b[90m 1\u001b[39m 15 - ~ Males  Agriculture, Forestry ~    \u001b[4m1\u001b[24m\u001b[4m0\u001b[24m050 Albury              \u001b[4m2\u001b[24m016     6\n",
      "\u001b[90m 2\u001b[39m 15 - ~ Femal~ Agriculture, Forestry ~    \u001b[4m1\u001b[24m\u001b[4m0\u001b[24m050 Albury              \u001b[4m2\u001b[24m016     4\n",
      "\u001b[90m 3\u001b[39m 15 - ~ Perso~ Agriculture, Forestry ~    \u001b[4m1\u001b[24m\u001b[4m0\u001b[24m050 Albury              \u001b[4m2\u001b[24m016     6\n",
      "\u001b[90m 4\u001b[39m 15 - ~ Males  Agriculture, Forestry ~    \u001b[4m1\u001b[24m\u001b[4m0\u001b[24m130 Armidale ~          \u001b[4m2\u001b[24m016    34\n",
      "\u001b[90m 5\u001b[39m 15 - ~ Femal~ Agriculture, Forestry ~    \u001b[4m1\u001b[24m\u001b[4m0\u001b[24m130 Armidale ~          \u001b[4m2\u001b[24m016     9\n",
      "\u001b[90m 6\u001b[39m 15 - ~ Perso~ Agriculture, Forestry ~    \u001b[4m1\u001b[24m\u001b[4m0\u001b[24m130 Armidale ~          \u001b[4m2\u001b[24m016    43\n",
      "\u001b[90m 7\u001b[39m 15 - ~ Males  Agriculture, Forestry ~    \u001b[4m1\u001b[24m\u001b[4m0\u001b[24m250 Ballina             \u001b[4m2\u001b[24m016    27\n",
      "\u001b[90m 8\u001b[39m 15 - ~ Femal~ Agriculture, Forestry ~    \u001b[4m1\u001b[24m\u001b[4m0\u001b[24m250 Ballina             \u001b[4m2\u001b[24m016    10\n",
      "\u001b[90m 9\u001b[39m 15 - ~ Perso~ Agriculture, Forestry ~    \u001b[4m1\u001b[24m\u001b[4m0\u001b[24m250 Ballina             \u001b[4m2\u001b[24m016    39\n",
      "\u001b[90m10\u001b[39m 15 - ~ Males  Agriculture, Forestry ~    \u001b[4m1\u001b[24m\u001b[4m0\u001b[24m300 Balranald           \u001b[4m2\u001b[24m016     0\n",
      "\u001b[90m# ... with 79,190 more rows\u001b[39m\n",
      "[1] \"labour\"\n",
      "Observations: 31,680\n",
      "Variables: 7\n",
      "$ Age                   \u001b[3m\u001b[90m<fct>\u001b[39m\u001b[23m 15 - 19, 15 - 19, 15 - 19, 15 - 19, 15 - 19, ...\n",
      "$ Sex                   \u001b[3m\u001b[90m<fct>\u001b[39m\u001b[23m Males, Females, Persons, Males, Females, Pers...\n",
      "$ `Labour force status` \u001b[3m\u001b[90m<fct>\u001b[39m\u001b[23m \"Employed, worked full-time\", \"Employed, work...\n",
      "$ LGA_2016              \u001b[3m\u001b[90m<dbl>\u001b[39m\u001b[23m 10050, 10050, 10050, 10130, 10130, 10130, 102...\n",
      "$ LGA                   \u001b[3m\u001b[90m<fct>\u001b[39m\u001b[23m Albury, Albury, Albury, Armidale Regional, Ar...\n",
      "$ `Census year`         \u001b[3m\u001b[90m<dbl>\u001b[39m\u001b[23m 2016, 2016, 2016, 2016, 2016, 2016, 2016, 201...\n",
      "$ Value                 \u001b[3m\u001b[90m<int>\u001b[39m\u001b[23m 236, 113, 348, 105, 58, 160, 115, 53, 168, 11...\n",
      "\u001b[90m# A tibble: 31,680 x 7\u001b[39m\n",
      "   Age     Sex    `Labour force status` LGA_2016 LGA         `Census year` Value\n",
      "   \u001b[3m\u001b[90m<fct>\u001b[39m\u001b[23m   \u001b[3m\u001b[90m<fct>\u001b[39m\u001b[23m  \u001b[3m\u001b[90m<fct>\u001b[39m\u001b[23m                    \u001b[3m\u001b[90m<dbl>\u001b[39m\u001b[23m \u001b[3m\u001b[90m<fct>\u001b[39m\u001b[23m               \u001b[3m\u001b[90m<dbl>\u001b[39m\u001b[23m \u001b[3m\u001b[90m<int>\u001b[39m\u001b[23m\n",
      "\u001b[90m 1\u001b[39m 15 - 19 Males  Employed, worked ful~    \u001b[4m1\u001b[24m\u001b[4m0\u001b[24m050 Albury               \u001b[4m2\u001b[24m016   236\n",
      "\u001b[90m 2\u001b[39m 15 - 19 Femal~ Employed, worked ful~    \u001b[4m1\u001b[24m\u001b[4m0\u001b[24m050 Albury               \u001b[4m2\u001b[24m016   113\n",
      "\u001b[90m 3\u001b[39m 15 - 19 Perso~ Employed, worked ful~    \u001b[4m1\u001b[24m\u001b[4m0\u001b[24m050 Albury               \u001b[4m2\u001b[24m016   348\n",
      "\u001b[90m 4\u001b[39m 15 - 19 Males  Employed, worked ful~    \u001b[4m1\u001b[24m\u001b[4m0\u001b[24m130 Armidale R~          \u001b[4m2\u001b[24m016   105\n",
      "\u001b[90m 5\u001b[39m 15 - 19 Femal~ Employed, worked ful~    \u001b[4m1\u001b[24m\u001b[4m0\u001b[24m130 Armidale R~          \u001b[4m2\u001b[24m016    58\n",
      "\u001b[90m 6\u001b[39m 15 - 19 Perso~ Employed, worked ful~    \u001b[4m1\u001b[24m\u001b[4m0\u001b[24m130 Armidale R~          \u001b[4m2\u001b[24m016   160\n",
      "\u001b[90m 7\u001b[39m 15 - 19 Males  Employed, worked ful~    \u001b[4m1\u001b[24m\u001b[4m0\u001b[24m250 Ballina              \u001b[4m2\u001b[24m016   115\n",
      "\u001b[90m 8\u001b[39m 15 - 19 Femal~ Employed, worked ful~    \u001b[4m1\u001b[24m\u001b[4m0\u001b[24m250 Ballina              \u001b[4m2\u001b[24m016    53\n",
      "\u001b[90m 9\u001b[39m 15 - 19 Perso~ Employed, worked ful~    \u001b[4m1\u001b[24m\u001b[4m0\u001b[24m250 Ballina              \u001b[4m2\u001b[24m016   168\n",
      "\u001b[90m10\u001b[39m 15 - 19 Males  Employed, worked ful~    \u001b[4m1\u001b[24m\u001b[4m0\u001b[24m300 Balranald            \u001b[4m2\u001b[24m016    11\n",
      "\u001b[90m# ... with 31,670 more rows\u001b[39m\n",
      "[1] \"pop_dens\"\n",
      "Observations: 129\n",
      "Variables: 3\n",
      "$ X1           \u001b[3m\u001b[90m<dbl>\u001b[39m\u001b[23m 1, 2, 3, 4, 5, 6, 7, 8, 9, 10, 11, 12, 13, 14, 15, 16,...\n",
      "$ LGA          \u001b[3m\u001b[90m<fct>\u001b[39m\u001b[23m Albury, Armidale Regional, Ballina, Balranald, Bathurs...\n",
      "$ Pop_Dens_km2 \u001b[3m\u001b[90m<dbl>\u001b[39m\u001b[23m 170.5, 3.5, 88.7, 0.1, 11.1, 5.4, 8.1, 4.2, 1449.8, 0....\n",
      "\u001b[90m# A tibble: 129 x 3\u001b[39m\n",
      "      X1 LGA               Pop_Dens_km2\n",
      "   \u001b[3m\u001b[90m<dbl>\u001b[39m\u001b[23m \u001b[3m\u001b[90m<fct>\u001b[39m\u001b[23m                    \u001b[3m\u001b[90m<dbl>\u001b[39m\u001b[23m\n",
      "\u001b[90m 1\u001b[39m     1 Albury                   170. \n",
      "\u001b[90m 2\u001b[39m     2 Armidale Regional          3.5\n",
      "\u001b[90m 3\u001b[39m     3 Ballina                   88.7\n",
      "\u001b[90m 4\u001b[39m     4 Balranald                  0.1\n",
      "\u001b[90m 5\u001b[39m     5 Bathurst Regional         11.1\n",
      "\u001b[90m 6\u001b[39m     6 Bega Valley                5.4\n",
      "\u001b[90m 7\u001b[39m     7 Bellingen                  8.1\n",
      "\u001b[90m 8\u001b[39m     8 Berrigan                   4.2\n",
      "\u001b[90m 9\u001b[39m     9 Blacktown               \u001b[4m1\u001b[24m450. \n",
      "\u001b[90m10\u001b[39m    10 Bland                      0.7\n",
      "\u001b[90m# ... with 119 more rows\u001b[39m\n",
      "[1] \"seifa\"\n",
      "Observations: 564\n",
      "Variables: 3\n",
      "$ X1    \u001b[3m\u001b[90m<dbl>\u001b[39m\u001b[23m 1, 2, 3, 4, 5, 6, 7, 8, 9, 10, 11, 12, 13, 14, 15, 16, 17, 18...\n",
      "$ LGA   \u001b[3m\u001b[90m<fct>\u001b[39m\u001b[23m Albury, Armidale Dumaresq, Ashfield, Auburn, Ballina, Balrana...\n",
      "$ Value \u001b[3m\u001b[90m<int>\u001b[39m\u001b[23m 964, 954, 962, 931, 986, 969, 961, 994, 974, 957, 965, 995, 9...\n",
      "\u001b[90m# A tibble: 564 x 3\u001b[39m\n",
      "      X1 LGA               Value\n",
      "   \u001b[3m\u001b[90m<dbl>\u001b[39m\u001b[23m \u001b[3m\u001b[90m<fct>\u001b[39m\u001b[23m             \u001b[3m\u001b[90m<int>\u001b[39m\u001b[23m\n",
      "\u001b[90m 1\u001b[39m     1 Albury              964\n",
      "\u001b[90m 2\u001b[39m     2 Armidale Dumaresq   954\n",
      "\u001b[90m 3\u001b[39m     3 Ashfield            962\n",
      "\u001b[90m 4\u001b[39m     4 Auburn              931\n",
      "\u001b[90m 5\u001b[39m     5 Ballina             986\n",
      "\u001b[90m 6\u001b[39m     6 Balranald           969\n",
      "\u001b[90m 7\u001b[39m     7 Bankstown           961\n",
      "\u001b[90m 8\u001b[39m     8 Bathurst Regional   994\n",
      "\u001b[90m 9\u001b[39m     9 Bega Valley         974\n",
      "\u001b[90m10\u001b[39m    10 Bellingen           957\n",
      "\u001b[90m# ... with 554 more rows\u001b[39m\n",
      "[1] \"transport\"\n",
      "Observations: 366\n",
      "Variables: 3\n",
      "$ LGA         \u001b[3m\u001b[90m<fct>\u001b[39m\u001b[23m Albury, Albury, Albury, Armidale Regional, Armidale Reg...\n",
      "$ route_type  \u001b[3m\u001b[90m<fct>\u001b[39m\u001b[23m 106, 204, 700, 106, 204, 700, 204, 700, 204, 2, 106, 20...\n",
      "$ num_service \u001b[3m\u001b[90m<dbl>\u001b[39m\u001b[23m 131, 14, 1624, 62, 10, 113, 18, 1335, 4, 49, 68, 372, 2...\n",
      "\u001b[90m# A tibble: 366 x 3\u001b[39m\n",
      "   LGA               route_type num_service\n",
      "   \u001b[3m\u001b[90m<fct>\u001b[39m\u001b[23m             \u001b[3m\u001b[90m<fct>\u001b[39m\u001b[23m            \u001b[3m\u001b[90m<dbl>\u001b[39m\u001b[23m\n",
      "\u001b[90m 1\u001b[39m Albury            106                131\n",
      "\u001b[90m 2\u001b[39m Albury            204                 14\n",
      "\u001b[90m 3\u001b[39m Albury            700               \u001b[4m1\u001b[24m624\n",
      "\u001b[90m 4\u001b[39m Armidale Regional 106                 62\n",
      "\u001b[90m 5\u001b[39m Armidale Regional 204                 10\n",
      "\u001b[90m 6\u001b[39m Armidale Regional 700                113\n",
      "\u001b[90m 7\u001b[39m Ballina           204                 18\n",
      "\u001b[90m 8\u001b[39m Ballina           700               \u001b[4m1\u001b[24m335\n",
      "\u001b[90m 9\u001b[39m Balranald         204                  4\n",
      "\u001b[90m10\u001b[39m Bathurst Regional 2                   49\n",
      "\u001b[90m# ... with 356 more rows\u001b[39m\n"
     ]
    }
   ],
   "source": [
    "for(i in 1:length(input_data)){\n",
    "    print(names(input_data)[[i]])\n",
    "    print(glimpse(input_data[[i]]))\n",
    "}"
   ]
  },
  {
   "cell_type": "markdown",
   "metadata": {},
   "source": [
    "## Reducing Size"
   ]
  },
  {
   "cell_type": "markdown",
   "metadata": {},
   "source": [
    "The `country_of_birth` data set contains many zero values. The following step removes these rows."
   ]
  },
  {
   "cell_type": "markdown",
   "metadata": {},
   "source": [
    "### Remove Zero Values"
   ]
  },
  {
   "cell_type": "code",
   "execution_count": 75,
   "metadata": {},
   "outputs": [
    {
     "data": {
      "text/html": [
       "<table>\n",
       "<thead><tr><th scope=col>birthplace_of_person</th><th scope=col>census_year</th><th scope=col>lga_2016</th><th scope=col>LGA</th><th scope=col>value</th><th scope=col>yarrp_2016</th><th scope=col>year_of_arrival_in_australia</th></tr></thead>\n",
       "<tbody>\n",
       "\t<tr><td>Oceania and Antarctica, nfd</td><td>2016                       </td><td>10050                      </td><td>Albury                     </td><td>0                          </td><td>1                          </td><td>Arrived 1900 - 1945        </td></tr>\n",
       "\t<tr><td>Oceania and Antarctica, nfd</td><td>2016                       </td><td>10050                      </td><td>Albury                     </td><td>0                          </td><td>2                          </td><td>Arrived 1946 - 1955        </td></tr>\n",
       "\t<tr><td>Oceania and Antarctica, nfd</td><td>2016                       </td><td>10050                      </td><td>Albury                     </td><td>0                          </td><td>3                          </td><td>Arrived 1956 - 1965        </td></tr>\n",
       "\t<tr><td>Oceania and Antarctica, nfd</td><td>2016                       </td><td>10050                      </td><td>Albury                     </td><td>0                          </td><td>4                          </td><td>Arrived 1966 - 1975        </td></tr>\n",
       "\t<tr><td>Oceania and Antarctica, nfd</td><td>2016                       </td><td>10050                      </td><td>Albury                     </td><td>0                          </td><td>5                          </td><td>Arrived 1976 - 1985        </td></tr>\n",
       "\t<tr><td>Oceania and Antarctica, nfd</td><td>2016                       </td><td>10050                      </td><td>Albury                     </td><td>0                          </td><td>6                          </td><td>Arrived 1986 - 1995        </td></tr>\n",
       "</tbody>\n",
       "</table>\n"
      ],
      "text/latex": [
       "\\begin{tabular}{r|lllllll}\n",
       " birthplace\\_of\\_person & census\\_year & lga\\_2016 & LGA & value & yarrp\\_2016 & year\\_of\\_arrival\\_in\\_australia\\\\\n",
       "\\hline\n",
       "\t Oceania and Antarctica, nfd & 2016                        & 10050                       & Albury                      & 0                           & 1                           & Arrived 1900 - 1945        \\\\\n",
       "\t Oceania and Antarctica, nfd & 2016                        & 10050                       & Albury                      & 0                           & 2                           & Arrived 1946 - 1955        \\\\\n",
       "\t Oceania and Antarctica, nfd & 2016                        & 10050                       & Albury                      & 0                           & 3                           & Arrived 1956 - 1965        \\\\\n",
       "\t Oceania and Antarctica, nfd & 2016                        & 10050                       & Albury                      & 0                           & 4                           & Arrived 1966 - 1975        \\\\\n",
       "\t Oceania and Antarctica, nfd & 2016                        & 10050                       & Albury                      & 0                           & 5                           & Arrived 1976 - 1985        \\\\\n",
       "\t Oceania and Antarctica, nfd & 2016                        & 10050                       & Albury                      & 0                           & 6                           & Arrived 1986 - 1995        \\\\\n",
       "\\end{tabular}\n"
      ],
      "text/markdown": [
       "\n",
       "| birthplace_of_person | census_year | lga_2016 | LGA | value | yarrp_2016 | year_of_arrival_in_australia |\n",
       "|---|---|---|---|---|---|---|\n",
       "| Oceania and Antarctica, nfd | 2016                        | 10050                       | Albury                      | 0                           | 1                           | Arrived 1900 - 1945         |\n",
       "| Oceania and Antarctica, nfd | 2016                        | 10050                       | Albury                      | 0                           | 2                           | Arrived 1946 - 1955         |\n",
       "| Oceania and Antarctica, nfd | 2016                        | 10050                       | Albury                      | 0                           | 3                           | Arrived 1956 - 1965         |\n",
       "| Oceania and Antarctica, nfd | 2016                        | 10050                       | Albury                      | 0                           | 4                           | Arrived 1966 - 1975         |\n",
       "| Oceania and Antarctica, nfd | 2016                        | 10050                       | Albury                      | 0                           | 5                           | Arrived 1976 - 1985         |\n",
       "| Oceania and Antarctica, nfd | 2016                        | 10050                       | Albury                      | 0                           | 6                           | Arrived 1986 - 1995         |\n",
       "\n"
      ],
      "text/plain": [
       "  birthplace_of_person        census_year lga_2016 LGA    value yarrp_2016\n",
       "1 Oceania and Antarctica, nfd 2016        10050    Albury 0     1         \n",
       "2 Oceania and Antarctica, nfd 2016        10050    Albury 0     2         \n",
       "3 Oceania and Antarctica, nfd 2016        10050    Albury 0     3         \n",
       "4 Oceania and Antarctica, nfd 2016        10050    Albury 0     4         \n",
       "5 Oceania and Antarctica, nfd 2016        10050    Albury 0     5         \n",
       "6 Oceania and Antarctica, nfd 2016        10050    Albury 0     6         \n",
       "  year_of_arrival_in_australia\n",
       "1 Arrived 1900 - 1945         \n",
       "2 Arrived 1946 - 1955         \n",
       "3 Arrived 1956 - 1965         \n",
       "4 Arrived 1966 - 1975         \n",
       "5 Arrived 1976 - 1985         \n",
       "6 Arrived 1986 - 1995         "
      ]
     },
     "metadata": {},
     "output_type": "display_data"
    }
   ],
   "source": [
    "head(input_data$country_of_birth)"
   ]
  },
  {
   "cell_type": "code",
   "execution_count": 93,
   "metadata": {},
   "outputs": [
    {
     "data": {
      "text/html": [
       "<ol class=list-inline>\n",
       "\t<li>810442</li>\n",
       "\t<li>7</li>\n",
       "</ol>\n"
      ],
      "text/latex": [
       "\\begin{enumerate*}\n",
       "\\item 810442\n",
       "\\item 7\n",
       "\\end{enumerate*}\n"
      ],
      "text/markdown": [
       "1. 810442\n",
       "2. 7\n",
       "\n",
       "\n"
      ],
      "text/plain": [
       "[1] 810442      7"
      ]
     },
     "metadata": {},
     "output_type": "display_data"
    }
   ],
   "source": [
    "input_data$country_of_birth %>%\n",
    "    filter(value == 0) %>%\n",
    "    dim"
   ]
  },
  {
   "cell_type": "code",
   "execution_count": 94,
   "metadata": {},
   "outputs": [
    {
     "data": {
      "text/html": [
       "<table>\n",
       "<thead><tr><th scope=col>birthplace_of_person</th><th scope=col>census_year</th><th scope=col>lga_2016</th><th scope=col>LGA</th><th scope=col>value</th><th scope=col>yarrp_2016</th><th scope=col>year_of_arrival_in_australia</th></tr></thead>\n",
       "<tbody>\n",
       "\t<tr><td>New Zealand        </td><td>2016               </td><td>10050              </td><td>Albury             </td><td>  7                </td><td>2                  </td><td>Arrived 1946 - 1955</td></tr>\n",
       "\t<tr><td>New Zealand        </td><td>2016               </td><td>10050              </td><td>Albury             </td><td> 22                </td><td>3                  </td><td>Arrived 1956 - 1965</td></tr>\n",
       "\t<tr><td>New Zealand        </td><td>2016               </td><td>10050              </td><td>Albury             </td><td> 63                </td><td>4                  </td><td>Arrived 1966 - 1975</td></tr>\n",
       "\t<tr><td>New Zealand        </td><td>2016               </td><td>10050              </td><td>Albury             </td><td>113                </td><td>5                  </td><td>Arrived 1976 - 1985</td></tr>\n",
       "\t<tr><td>New Zealand        </td><td>2016               </td><td>10050              </td><td>Albury             </td><td> 92                </td><td>6                  </td><td>Arrived 1986 - 1995</td></tr>\n",
       "\t<tr><td>New Zealand        </td><td>2016               </td><td>10050              </td><td>Albury             </td><td> 87                </td><td>7                  </td><td>Arrived 1996 - 2005</td></tr>\n",
       "</tbody>\n",
       "</table>\n"
      ],
      "text/latex": [
       "\\begin{tabular}{r|lllllll}\n",
       " birthplace\\_of\\_person & census\\_year & lga\\_2016 & LGA & value & yarrp\\_2016 & year\\_of\\_arrival\\_in\\_australia\\\\\n",
       "\\hline\n",
       "\t New Zealand         & 2016                & 10050               & Albury              &   7                 & 2                   & Arrived 1946 - 1955\\\\\n",
       "\t New Zealand         & 2016                & 10050               & Albury              &  22                 & 3                   & Arrived 1956 - 1965\\\\\n",
       "\t New Zealand         & 2016                & 10050               & Albury              &  63                 & 4                   & Arrived 1966 - 1975\\\\\n",
       "\t New Zealand         & 2016                & 10050               & Albury              & 113                 & 5                   & Arrived 1976 - 1985\\\\\n",
       "\t New Zealand         & 2016                & 10050               & Albury              &  92                 & 6                   & Arrived 1986 - 1995\\\\\n",
       "\t New Zealand         & 2016                & 10050               & Albury              &  87                 & 7                   & Arrived 1996 - 2005\\\\\n",
       "\\end{tabular}\n"
      ],
      "text/markdown": [
       "\n",
       "| birthplace_of_person | census_year | lga_2016 | LGA | value | yarrp_2016 | year_of_arrival_in_australia |\n",
       "|---|---|---|---|---|---|---|\n",
       "| New Zealand         | 2016                | 10050               | Albury              |   7                 | 2                   | Arrived 1946 - 1955 |\n",
       "| New Zealand         | 2016                | 10050               | Albury              |  22                 | 3                   | Arrived 1956 - 1965 |\n",
       "| New Zealand         | 2016                | 10050               | Albury              |  63                 | 4                   | Arrived 1966 - 1975 |\n",
       "| New Zealand         | 2016                | 10050               | Albury              | 113                 | 5                   | Arrived 1976 - 1985 |\n",
       "| New Zealand         | 2016                | 10050               | Albury              |  92                 | 6                   | Arrived 1986 - 1995 |\n",
       "| New Zealand         | 2016                | 10050               | Albury              |  87                 | 7                   | Arrived 1996 - 2005 |\n",
       "\n"
      ],
      "text/plain": [
       "  birthplace_of_person census_year lga_2016 LGA    value yarrp_2016\n",
       "1 New Zealand          2016        10050    Albury   7   2         \n",
       "2 New Zealand          2016        10050    Albury  22   3         \n",
       "3 New Zealand          2016        10050    Albury  63   4         \n",
       "4 New Zealand          2016        10050    Albury 113   5         \n",
       "5 New Zealand          2016        10050    Albury  92   6         \n",
       "6 New Zealand          2016        10050    Albury  87   7         \n",
       "  year_of_arrival_in_australia\n",
       "1 Arrived 1946 - 1955         \n",
       "2 Arrived 1956 - 1965         \n",
       "3 Arrived 1966 - 1975         \n",
       "4 Arrived 1976 - 1985         \n",
       "5 Arrived 1986 - 1995         \n",
       "6 Arrived 1996 - 2005         "
      ]
     },
     "metadata": {},
     "output_type": "display_data"
    },
    {
     "name": "stdout",
     "output_type": "stream",
     "text": [
      "Observations: 108,163\n",
      "Variables: 7\n",
      "$ birthplace_of_person         \u001b[3m\u001b[90m<fct>\u001b[39m\u001b[23m New Zealand, New Zealand, New Zealand,...\n",
      "$ census_year                  \u001b[3m\u001b[90m<dbl>\u001b[39m\u001b[23m 2016, 2016, 2016, 2016, 2016, 2016, 20...\n",
      "$ lga_2016                     \u001b[3m\u001b[90m<dbl>\u001b[39m\u001b[23m 10050, 10050, 10050, 10050, 10050, 100...\n",
      "$ LGA                          \u001b[3m\u001b[90m<fct>\u001b[39m\u001b[23m Albury, Albury, Albury, Albury, Albury...\n",
      "$ value                        \u001b[3m\u001b[90m<dbl>\u001b[39m\u001b[23m 7, 22, 63, 113, 92, 87, 6, 24, 7, 12, ...\n",
      "$ yarrp_2016                   \u001b[3m\u001b[90m<chr>\u001b[39m\u001b[23m \"2\", \"3\", \"4\", \"5\", \"6\", \"7\", \"9\", \"Z\"...\n",
      "$ year_of_arrival_in_australia \u001b[3m\u001b[90m<fct>\u001b[39m\u001b[23m Arrived 1946 - 1955, Arrived 1956 - 19...\n"
     ]
    }
   ],
   "source": [
    "input_data$country_of_birth %<>%\n",
    "    filter(value != 0)\n",
    "\n",
    "head(input_data$country_of_birth)\n",
    "glimpse(input_data$country_of_birth)"
   ]
  },
  {
   "cell_type": "markdown",
   "metadata": {},
   "source": [
    "# Joining the Data Sets Together"
   ]
  },
  {
   "cell_type": "markdown",
   "metadata": {},
   "source": [
    "## Find the Data Set With The Most Complete List of LGAs"
   ]
  },
  {
   "cell_type": "code",
   "execution_count": 95,
   "metadata": {},
   "outputs": [
    {
     "data": {
      "text/html": [
       "<dl>\n",
       "\t<dt>$age</dt>\n",
       "\t\t<dd>132</dd>\n",
       "\t<dt>$country_of_birth</dt>\n",
       "\t\t<dd>132</dd>\n",
       "\t<dt>$crime</dt>\n",
       "\t\t<dd>130</dd>\n",
       "\t<dt>$industry_employment</dt>\n",
       "\t\t<dd>132</dd>\n",
       "\t<dt>$labour</dt>\n",
       "\t\t<dd>132</dd>\n",
       "\t<dt>$pop_dens</dt>\n",
       "\t\t<dd>129</dd>\n",
       "\t<dt>$seifa</dt>\n",
       "\t\t<dd>556</dd>\n",
       "\t<dt>$transport</dt>\n",
       "\t\t<dd>128</dd>\n",
       "</dl>\n"
      ],
      "text/latex": [
       "\\begin{description}\n",
       "\\item[\\$age] 132\n",
       "\\item[\\$country\\_of\\_birth] 132\n",
       "\\item[\\$crime] 130\n",
       "\\item[\\$industry\\_employment] 132\n",
       "\\item[\\$labour] 132\n",
       "\\item[\\$pop\\_dens] 129\n",
       "\\item[\\$seifa] 556\n",
       "\\item[\\$transport] 128\n",
       "\\end{description}\n"
      ],
      "text/markdown": [
       "$age\n",
       ":   132\n",
       "$country_of_birth\n",
       ":   132\n",
       "$crime\n",
       ":   130\n",
       "$industry_employment\n",
       ":   132\n",
       "$labour\n",
       ":   132\n",
       "$pop_dens\n",
       ":   129\n",
       "$seifa\n",
       ":   556\n",
       "$transport\n",
       ":   128\n",
       "\n",
       "\n"
      ],
      "text/plain": [
       "$age\n",
       "[1] 132\n",
       "\n",
       "$country_of_birth\n",
       "[1] 132\n",
       "\n",
       "$crime\n",
       "[1] 130\n",
       "\n",
       "$industry_employment\n",
       "[1] 132\n",
       "\n",
       "$labour\n",
       "[1] 132\n",
       "\n",
       "$pop_dens\n",
       "[1] 129\n",
       "\n",
       "$seifa\n",
       "[1] 556\n",
       "\n",
       "$transport\n",
       "[1] 128\n"
      ]
     },
     "metadata": {},
     "output_type": "display_data"
    }
   ],
   "source": [
    "input_data %>% map(function(tbl) tbl['LGA'] %>% unique %>% dim %>% extract(1))"
   ]
  },
  {
   "cell_type": "markdown",
   "metadata": {},
   "source": [
    "Seems like `seifa` has the most number of LGAs, but we know that there are only about 130 LGAs in NSW. So maybe the LGAs in the `seifa` data includes non-NSW LGAs too. A glance of the tail of the `seifa` data shows that there are indeed non-NSW areas, e.g. `Unincorporated ACT`.\n",
    "\n",
    "We will not use the `seifa` data as the starting point, instead `country_of_birth` will be used for `left_join`ing the other data sets, i.e. LGAs that are not in the `country_of_birth` data set will not be joined."
   ]
  },
  {
   "cell_type": "code",
   "execution_count": 96,
   "metadata": {},
   "outputs": [
    {
     "data": {
      "text/html": [
       "<table>\n",
       "<thead><tr><th scope=col>X1</th><th scope=col>LGA</th><th scope=col>Value</th></tr></thead>\n",
       "<tbody>\n",
       "\t<tr><td>559               </td><td>Tiwi Islands      </td><td> 589              </td></tr>\n",
       "\t<tr><td>560               </td><td>Victoria-Daly     </td><td> 613              </td></tr>\n",
       "\t<tr><td>561               </td><td>Wagait            </td><td>1011              </td></tr>\n",
       "\t<tr><td>562               </td><td>West Arnhem       </td><td> 640              </td></tr>\n",
       "\t<tr><td>563               </td><td>Unincorporated NT </td><td> 966              </td></tr>\n",
       "\t<tr><td>564               </td><td>Unincorporated ACT</td><td>1051              </td></tr>\n",
       "</tbody>\n",
       "</table>\n"
      ],
      "text/latex": [
       "\\begin{tabular}{r|lll}\n",
       " X1 & LGA & Value\\\\\n",
       "\\hline\n",
       "\t 559                & Tiwi Islands       &  589              \\\\\n",
       "\t 560                & Victoria-Daly      &  613              \\\\\n",
       "\t 561                & Wagait             & 1011              \\\\\n",
       "\t 562                & West Arnhem        &  640              \\\\\n",
       "\t 563                & Unincorporated NT  &  966              \\\\\n",
       "\t 564                & Unincorporated ACT & 1051              \\\\\n",
       "\\end{tabular}\n"
      ],
      "text/markdown": [
       "\n",
       "| X1 | LGA | Value |\n",
       "|---|---|---|\n",
       "| 559                | Tiwi Islands       |  589               |\n",
       "| 560                | Victoria-Daly      |  613               |\n",
       "| 561                | Wagait             | 1011               |\n",
       "| 562                | West Arnhem        |  640               |\n",
       "| 563                | Unincorporated NT  |  966               |\n",
       "| 564                | Unincorporated ACT | 1051               |\n",
       "\n"
      ],
      "text/plain": [
       "  X1  LGA                Value\n",
       "1 559 Tiwi Islands        589 \n",
       "2 560 Victoria-Daly       613 \n",
       "3 561 Wagait             1011 \n",
       "4 562 West Arnhem         640 \n",
       "5 563 Unincorporated NT   966 \n",
       "6 564 Unincorporated ACT 1051 "
      ]
     },
     "metadata": {},
     "output_type": "display_data"
    }
   ],
   "source": [
    "input_data$seifa %>% \n",
    "    tail"
   ]
  },
  {
   "cell_type": "markdown",
   "metadata": {},
   "source": [
    "## Join `country_of_birth` with `age`"
   ]
  },
  {
   "cell_type": "markdown",
   "metadata": {},
   "source": [
    "Ignore the `year_of_arrival_in_australia` in the data set `country_of_birth`, because it's too big to be joined and will throw `cannot allocate vector of size 133.7 Mb`."
   ]
  },
  {
   "cell_type": "code",
   "execution_count": 104,
   "metadata": {},
   "outputs": [
    {
     "data": {
      "text/html": [
       "<table>\n",
       "<thead><tr><th scope=col>LGA</th><th scope=col>birthplace_of_person</th><th scope=col>births</th><th scope=col>Age</th><th scope=col>Sex</th><th scope=col>Labour force status</th><th scope=col>State</th><th scope=col>LGA_2016</th><th scope=col>Census year</th><th scope=col>Value</th></tr></thead>\n",
       "<tbody>\n",
       "\t<tr><td>Albury                    </td><td>New Zealand               </td><td>2510                      </td><td>15 - 19                   </td><td>Males                     </td><td>Employed, worked full-time</td><td>New South Wales           </td><td>10050                     </td><td>2016                      </td><td> 236                      </td></tr>\n",
       "\t<tr><td>Albury                    </td><td>New Zealand               </td><td>2510                      </td><td>15 - 19                   </td><td>Females                   </td><td>Employed, worked full-time</td><td>New South Wales           </td><td>10050                     </td><td>2016                      </td><td> 113                      </td></tr>\n",
       "\t<tr><td>Albury                    </td><td>New Zealand               </td><td>2510                      </td><td>15 - 19                   </td><td>Persons                   </td><td>Employed, worked full-time</td><td>New South Wales           </td><td>10050                     </td><td>2016                      </td><td> 348                      </td></tr>\n",
       "\t<tr><td>Albury                    </td><td>New Zealand               </td><td>2510                      </td><td>15 - 19                   </td><td>Males                     </td><td>Employed, worked part-time</td><td>New South Wales           </td><td>10050                     </td><td>2016                      </td><td> 431                      </td></tr>\n",
       "\t<tr><td>Albury                    </td><td>New Zealand               </td><td>2510                      </td><td>15 - 19                   </td><td>Females                   </td><td>Employed, worked part-time</td><td>New South Wales           </td><td>10050                     </td><td>2016                      </td><td> 641                      </td></tr>\n",
       "\t<tr><td>Albury                    </td><td>New Zealand               </td><td>2510                      </td><td>15 - 19                   </td><td>Persons                   </td><td>Employed, worked part-time</td><td>New South Wales           </td><td>10050                     </td><td>2016                      </td><td>1074                      </td></tr>\n",
       "</tbody>\n",
       "</table>\n"
      ],
      "text/latex": [
       "\\begin{tabular}{r|llllllllll}\n",
       " LGA & birthplace\\_of\\_person & births & Age & Sex & Labour force status & State & LGA\\_2016 & Census year & Value\\\\\n",
       "\\hline\n",
       "\t Albury                     & New Zealand                & 2510                       & 15 - 19                    & Males                      & Employed, worked full-time & New South Wales            & 10050                      & 2016                       &  236                      \\\\\n",
       "\t Albury                     & New Zealand                & 2510                       & 15 - 19                    & Females                    & Employed, worked full-time & New South Wales            & 10050                      & 2016                       &  113                      \\\\\n",
       "\t Albury                     & New Zealand                & 2510                       & 15 - 19                    & Persons                    & Employed, worked full-time & New South Wales            & 10050                      & 2016                       &  348                      \\\\\n",
       "\t Albury                     & New Zealand                & 2510                       & 15 - 19                    & Males                      & Employed, worked part-time & New South Wales            & 10050                      & 2016                       &  431                      \\\\\n",
       "\t Albury                     & New Zealand                & 2510                       & 15 - 19                    & Females                    & Employed, worked part-time & New South Wales            & 10050                      & 2016                       &  641                      \\\\\n",
       "\t Albury                     & New Zealand                & 2510                       & 15 - 19                    & Persons                    & Employed, worked part-time & New South Wales            & 10050                      & 2016                       & 1074                      \\\\\n",
       "\\end{tabular}\n"
      ],
      "text/markdown": [
       "\n",
       "| LGA | birthplace_of_person | births | Age | Sex | Labour force status | State | LGA_2016 | Census year | Value |\n",
       "|---|---|---|---|---|---|---|---|---|---|\n",
       "| Albury                     | New Zealand                | 2510                       | 15 - 19                    | Males                      | Employed, worked full-time | New South Wales            | 10050                      | 2016                       |  236                       |\n",
       "| Albury                     | New Zealand                | 2510                       | 15 - 19                    | Females                    | Employed, worked full-time | New South Wales            | 10050                      | 2016                       |  113                       |\n",
       "| Albury                     | New Zealand                | 2510                       | 15 - 19                    | Persons                    | Employed, worked full-time | New South Wales            | 10050                      | 2016                       |  348                       |\n",
       "| Albury                     | New Zealand                | 2510                       | 15 - 19                    | Males                      | Employed, worked part-time | New South Wales            | 10050                      | 2016                       |  431                       |\n",
       "| Albury                     | New Zealand                | 2510                       | 15 - 19                    | Females                    | Employed, worked part-time | New South Wales            | 10050                      | 2016                       |  641                       |\n",
       "| Albury                     | New Zealand                | 2510                       | 15 - 19                    | Persons                    | Employed, worked part-time | New South Wales            | 10050                      | 2016                       | 1074                       |\n",
       "\n"
      ],
      "text/plain": [
       "  LGA    birthplace_of_person births Age     Sex     Labour force status       \n",
       "1 Albury New Zealand          2510   15 - 19 Males   Employed, worked full-time\n",
       "2 Albury New Zealand          2510   15 - 19 Females Employed, worked full-time\n",
       "3 Albury New Zealand          2510   15 - 19 Persons Employed, worked full-time\n",
       "4 Albury New Zealand          2510   15 - 19 Males   Employed, worked part-time\n",
       "5 Albury New Zealand          2510   15 - 19 Females Employed, worked part-time\n",
       "6 Albury New Zealand          2510   15 - 19 Persons Employed, worked part-time\n",
       "  State           LGA_2016 Census year Value\n",
       "1 New South Wales 10050    2016         236 \n",
       "2 New South Wales 10050    2016         113 \n",
       "3 New South Wales 10050    2016         348 \n",
       "4 New South Wales 10050    2016         431 \n",
       "5 New South Wales 10050    2016         641 \n",
       "6 New South Wales 10050    2016        1074 "
      ]
     },
     "metadata": {},
     "output_type": "display_data"
    },
    {
     "name": "stdout",
     "output_type": "stream",
     "text": [
      "Observations: 2,756,592\n",
      "Variables: 10\n",
      "Groups: LGA [132]\n",
      "$ LGA                   \u001b[3m\u001b[90m<fct>\u001b[39m\u001b[23m Albury, Albury, Albury, Albury, Albury, Albur...\n",
      "$ birthplace_of_person  \u001b[3m\u001b[90m<fct>\u001b[39m\u001b[23m New Zealand, New Zealand, New Zealand, New Ze...\n",
      "$ births                \u001b[3m\u001b[90m<dbl>\u001b[39m\u001b[23m 2510, 2510, 2510, 2510, 2510, 2510, 2510, 251...\n",
      "$ Age                   \u001b[3m\u001b[90m<fct>\u001b[39m\u001b[23m 15 - 19, 15 - 19, 15 - 19, 15 - 19, 15 - 19, ...\n",
      "$ Sex                   \u001b[3m\u001b[90m<fct>\u001b[39m\u001b[23m Males, Females, Persons, Males, Females, Pers...\n",
      "$ `Labour force status` \u001b[3m\u001b[90m<fct>\u001b[39m\u001b[23m \"Employed, worked full-time\", \"Employed, work...\n",
      "$ State                 \u001b[3m\u001b[90m<chr>\u001b[39m\u001b[23m \"New South Wales\", \"New South Wales\", \"New So...\n",
      "$ LGA_2016              \u001b[3m\u001b[90m<dbl>\u001b[39m\u001b[23m 10050, 10050, 10050, 10050, 10050, 10050, 100...\n",
      "$ `Census year`         \u001b[3m\u001b[90m<dbl>\u001b[39m\u001b[23m 2016, 2016, 2016, 2016, 2016, 2016, 2016, 201...\n",
      "$ Value                 \u001b[3m\u001b[90m<int>\u001b[39m\u001b[23m 236, 113, 348, 431, 641, 1074, 27, 26, 59, 22...\n"
     ]
    }
   ],
   "source": [
    "joined <- input_data$country_of_birth %>%\n",
    "    group_by(LGA, birthplace_of_person) %>%\n",
    "    summarise(births = sum(value)) %>%\n",
    "    left_join(input_data$age, by = \"LGA\")\n",
    "\n",
    "head(joined)\n",
    "glimpse(joined)"
   ]
  },
  {
   "cell_type": "code",
   "execution_count": 121,
   "metadata": {},
   "outputs": [
    {
     "name": "stderr",
     "output_type": "stream",
     "text": [
      "Joining, by = \"LGA\"\n"
     ]
    },
    {
     "data": {
      "text/html": [
       "<table>\n",
       "<thead><tr><th scope=col>LGA</th><th scope=col>birthplace_of_person</th><th scope=col>num_births</th><th scope=col>Age</th><th scope=col>Sex</th><th scope=col>Labour force status</th><th scope=col>num_emp</th></tr></thead>\n",
       "<tbody>\n",
       "\t<tr><td>Albury                    </td><td>New Zealand               </td><td>2510                      </td><td>15 - 19                   </td><td>Males                     </td><td>Employed, worked full-time</td><td> 236                      </td></tr>\n",
       "\t<tr><td>Albury                    </td><td>New Zealand               </td><td>2510                      </td><td>15 - 19                   </td><td>Females                   </td><td>Employed, worked full-time</td><td> 113                      </td></tr>\n",
       "\t<tr><td>Albury                    </td><td>New Zealand               </td><td>2510                      </td><td>15 - 19                   </td><td>Persons                   </td><td>Employed, worked full-time</td><td> 348                      </td></tr>\n",
       "\t<tr><td>Albury                    </td><td>New Zealand               </td><td>2510                      </td><td>15 - 19                   </td><td>Males                     </td><td>Employed, worked part-time</td><td> 431                      </td></tr>\n",
       "\t<tr><td>Albury                    </td><td>New Zealand               </td><td>2510                      </td><td>15 - 19                   </td><td>Females                   </td><td>Employed, worked part-time</td><td> 641                      </td></tr>\n",
       "\t<tr><td>Albury                    </td><td>New Zealand               </td><td>2510                      </td><td>15 - 19                   </td><td>Persons                   </td><td>Employed, worked part-time</td><td>1074                      </td></tr>\n",
       "</tbody>\n",
       "</table>\n"
      ],
      "text/latex": [
       "\\begin{tabular}{r|lllllll}\n",
       " LGA & birthplace\\_of\\_person & num\\_births & Age & Sex & Labour force status & num\\_emp\\\\\n",
       "\\hline\n",
       "\t Albury                     & New Zealand                & 2510                       & 15 - 19                    & Males                      & Employed, worked full-time &  236                      \\\\\n",
       "\t Albury                     & New Zealand                & 2510                       & 15 - 19                    & Females                    & Employed, worked full-time &  113                      \\\\\n",
       "\t Albury                     & New Zealand                & 2510                       & 15 - 19                    & Persons                    & Employed, worked full-time &  348                      \\\\\n",
       "\t Albury                     & New Zealand                & 2510                       & 15 - 19                    & Males                      & Employed, worked part-time &  431                      \\\\\n",
       "\t Albury                     & New Zealand                & 2510                       & 15 - 19                    & Females                    & Employed, worked part-time &  641                      \\\\\n",
       "\t Albury                     & New Zealand                & 2510                       & 15 - 19                    & Persons                    & Employed, worked part-time & 1074                      \\\\\n",
       "\\end{tabular}\n"
      ],
      "text/markdown": [
       "\n",
       "| LGA | birthplace_of_person | num_births | Age | Sex | Labour force status | num_emp |\n",
       "|---|---|---|---|---|---|---|\n",
       "| Albury                     | New Zealand                | 2510                       | 15 - 19                    | Males                      | Employed, worked full-time |  236                       |\n",
       "| Albury                     | New Zealand                | 2510                       | 15 - 19                    | Females                    | Employed, worked full-time |  113                       |\n",
       "| Albury                     | New Zealand                | 2510                       | 15 - 19                    | Persons                    | Employed, worked full-time |  348                       |\n",
       "| Albury                     | New Zealand                | 2510                       | 15 - 19                    | Males                      | Employed, worked part-time |  431                       |\n",
       "| Albury                     | New Zealand                | 2510                       | 15 - 19                    | Females                    | Employed, worked part-time |  641                       |\n",
       "| Albury                     | New Zealand                | 2510                       | 15 - 19                    | Persons                    | Employed, worked part-time | 1074                       |\n",
       "\n"
      ],
      "text/plain": [
       "  LGA    birthplace_of_person num_births Age     Sex    \n",
       "1 Albury New Zealand          2510       15 - 19 Males  \n",
       "2 Albury New Zealand          2510       15 - 19 Females\n",
       "3 Albury New Zealand          2510       15 - 19 Persons\n",
       "4 Albury New Zealand          2510       15 - 19 Males  \n",
       "5 Albury New Zealand          2510       15 - 19 Females\n",
       "6 Albury New Zealand          2510       15 - 19 Persons\n",
       "  Labour force status        num_emp\n",
       "1 Employed, worked full-time  236   \n",
       "2 Employed, worked full-time  113   \n",
       "3 Employed, worked full-time  348   \n",
       "4 Employed, worked part-time  431   \n",
       "5 Employed, worked part-time  641   \n",
       "6 Employed, worked part-time 1074   "
      ]
     },
     "metadata": {},
     "output_type": "display_data"
    },
    {
     "name": "stdout",
     "output_type": "stream",
     "text": [
      "Observations: 2,756,592\n",
      "Variables: 7\n",
      "Groups: LGA [132]\n",
      "$ LGA                   \u001b[3m\u001b[90m<fct>\u001b[39m\u001b[23m Albury, Albury, Albury, Albury, Albury, Albur...\n",
      "$ birthplace_of_person  \u001b[3m\u001b[90m<fct>\u001b[39m\u001b[23m New Zealand, New Zealand, New Zealand, New Ze...\n",
      "$ num_births            \u001b[3m\u001b[90m<dbl>\u001b[39m\u001b[23m 2510, 2510, 2510, 2510, 2510, 2510, 2510, 251...\n",
      "$ Age                   \u001b[3m\u001b[90m<fct>\u001b[39m\u001b[23m 15 - 19, 15 - 19, 15 - 19, 15 - 19, 15 - 19, ...\n",
      "$ Sex                   \u001b[3m\u001b[90m<fct>\u001b[39m\u001b[23m Males, Females, Persons, Males, Females, Pers...\n",
      "$ `Labour force status` \u001b[3m\u001b[90m<fct>\u001b[39m\u001b[23m \"Employed, worked full-time\", \"Employed, work...\n",
      "$ num_emp               \u001b[3m\u001b[90m<int>\u001b[39m\u001b[23m 236, 113, 348, 431, 641, 1074, 27, 26, 59, 22...\n"
     ]
    }
   ],
   "source": [
    "joined <- input_data$country_of_birth %>%\n",
    "    group_by(LGA, birthplace_of_person) %>%\n",
    "    summarise(num_births = sum(value)) %>%\n",
    "    left_join(input_data$age) %>%\n",
    "    select(-State, -LGA_2016, -`Census year`) %>%\n",
    "    rename(num_emp = Value)\n",
    "\n",
    "head(joined)\n",
    "glimpse(joined)"
   ]
  },
  {
   "cell_type": "markdown",
   "metadata": {},
   "source": [
    "## Add `crime`"
   ]
  },
  {
   "cell_type": "code",
   "execution_count": 123,
   "metadata": {},
   "outputs": [
    {
     "name": "stderr",
     "output_type": "stream",
     "text": [
      "Joining, by = \"LGA\"\n",
      "Warning message:\n",
      "\"Column `LGA` joining factors with different levels, coercing to character vector\""
     ]
    },
    {
     "ename": "ERROR",
     "evalue": "Error: Evaluation error: cannot allocate vector of size 618.7 Mb.\n",
     "output_type": "error",
     "traceback": [
      "Error: Evaluation error: cannot allocate vector of size 618.7 Mb.\nTraceback:\n",
      "1. joined %>% left_join(input_data$crime) %>% head(20)",
      "2. withVisible(eval(quote(`_fseq`(`_lhs`)), env, env))",
      "3. eval(quote(`_fseq`(`_lhs`)), env, env)",
      "4. eval(quote(`_fseq`(`_lhs`)), env, env)",
      "5. `_fseq`(`_lhs`)",
      "6. freduce(value, `_function_list`)",
      "7. function_list[[i]](value)",
      "8. left_join(., input_data$crime)",
      "9. left_join.tbl_df(., input_data$crime)",
      "10. left_join_impl(x, y, by_x, by_y, aux_x, aux_y, na_matches, environment())"
     ]
    }
   ],
   "source": [
    "joined %>% left_join(input_data$crime) %>%\n",
    "    head(20)\n"
   ]
  },
  {
   "cell_type": "markdown",
   "metadata": {},
   "source": [
    "Seems like three joined data sets is too big. So the following joins contains the dependent variable `crime`."
   ]
  },
  {
   "cell_type": "markdown",
   "metadata": {},
   "source": [
    "# Joining `crime` and `age`"
   ]
  },
  {
   "cell_type": "code",
   "execution_count": 179,
   "metadata": {},
   "outputs": [
    {
     "data": {
      "text/html": [
       "<table>\n",
       "<thead><tr><th scope=col>X1</th><th scope=col>LGA</th><th scope=col>Offence</th><th scope=col>Crim_Count</th></tr></thead>\n",
       "<tbody>\n",
       "\t<tr><td>1                                    </td><td>Albury                               </td><td>Murder *                             </td><td>  2                                  </td></tr>\n",
       "\t<tr><td>2                                    </td><td>Albury                               </td><td>Attempted murder                     </td><td>  1                                  </td></tr>\n",
       "\t<tr><td>3                                    </td><td>Albury                               </td><td>Murder accessory, conspiracy         </td><td>  0                                  </td></tr>\n",
       "\t<tr><td>4                                    </td><td>Albury                               </td><td>Manslaughter *                       </td><td>  0                                  </td></tr>\n",
       "\t<tr><td>5                                    </td><td>Albury                               </td><td>Domestic violence related assault    </td><td>284                                  </td></tr>\n",
       "\t<tr><td>6                                    </td><td>Albury                               </td><td>Non-domestic violence related assault</td><td>296                                  </td></tr>\n",
       "</tbody>\n",
       "</table>\n"
      ],
      "text/latex": [
       "\\begin{tabular}{r|llll}\n",
       " X1 & LGA & Offence & Crim\\_Count\\\\\n",
       "\\hline\n",
       "\t 1                                     & Albury                                & Murder *                              &   2                                  \\\\\n",
       "\t 2                                     & Albury                                & Attempted murder                      &   1                                  \\\\\n",
       "\t 3                                     & Albury                                & Murder accessory, conspiracy          &   0                                  \\\\\n",
       "\t 4                                     & Albury                                & Manslaughter *                        &   0                                  \\\\\n",
       "\t 5                                     & Albury                                & Domestic violence related assault     & 284                                  \\\\\n",
       "\t 6                                     & Albury                                & Non-domestic violence related assault & 296                                  \\\\\n",
       "\\end{tabular}\n"
      ],
      "text/markdown": [
       "\n",
       "| X1 | LGA | Offence | Crim_Count |\n",
       "|---|---|---|---|\n",
       "| 1                                     | Albury                                | Murder *                              |   2                                   |\n",
       "| 2                                     | Albury                                | Attempted murder                      |   1                                   |\n",
       "| 3                                     | Albury                                | Murder accessory, conspiracy          |   0                                   |\n",
       "| 4                                     | Albury                                | Manslaughter *                        |   0                                   |\n",
       "| 5                                     | Albury                                | Domestic violence related assault     | 284                                   |\n",
       "| 6                                     | Albury                                | Non-domestic violence related assault | 296                                   |\n",
       "\n"
      ],
      "text/plain": [
       "  X1 LGA    Offence                               Crim_Count\n",
       "1 1  Albury Murder *                                2       \n",
       "2 2  Albury Attempted murder                        1       \n",
       "3 3  Albury Murder accessory, conspiracy            0       \n",
       "4 4  Albury Manslaughter *                          0       \n",
       "5 5  Albury Domestic violence related assault     284       \n",
       "6 6  Albury Non-domestic violence related assault 296       "
      ]
     },
     "metadata": {},
     "output_type": "display_data"
    },
    {
     "data": {
      "text/html": [
       "<table>\n",
       "<thead><tr><th scope=col>Age</th><th scope=col>Sex</th><th scope=col>Labour force status</th><th scope=col>State</th><th scope=col>LGA_2016</th><th scope=col>LGA</th><th scope=col>Census year</th><th scope=col>Value</th></tr></thead>\n",
       "<tbody>\n",
       "\t<tr><td>15 - 19                   </td><td>Males                     </td><td>Employed, worked full-time</td><td>New South Wales           </td><td>10050                     </td><td>Albury                    </td><td>2016                      </td><td>236                       </td></tr>\n",
       "\t<tr><td>15 - 19                   </td><td>Females                   </td><td>Employed, worked full-time</td><td>New South Wales           </td><td>10050                     </td><td>Albury                    </td><td>2016                      </td><td>113                       </td></tr>\n",
       "\t<tr><td>15 - 19                   </td><td>Persons                   </td><td>Employed, worked full-time</td><td>New South Wales           </td><td>10050                     </td><td>Albury                    </td><td>2016                      </td><td>348                       </td></tr>\n",
       "\t<tr><td>15 - 19                   </td><td>Males                     </td><td>Employed, worked full-time</td><td>New South Wales           </td><td>10130                     </td><td>Armidale Regional         </td><td>2016                      </td><td>105                       </td></tr>\n",
       "\t<tr><td>15 - 19                   </td><td>Females                   </td><td>Employed, worked full-time</td><td>New South Wales           </td><td>10130                     </td><td>Armidale Regional         </td><td>2016                      </td><td> 58                       </td></tr>\n",
       "\t<tr><td>15 - 19                   </td><td>Persons                   </td><td>Employed, worked full-time</td><td>New South Wales           </td><td>10130                     </td><td>Armidale Regional         </td><td>2016                      </td><td>160                       </td></tr>\n",
       "</tbody>\n",
       "</table>\n"
      ],
      "text/latex": [
       "\\begin{tabular}{r|llllllll}\n",
       " Age & Sex & Labour force status & State & LGA\\_2016 & LGA & Census year & Value\\\\\n",
       "\\hline\n",
       "\t 15 - 19                    & Males                      & Employed, worked full-time & New South Wales            & 10050                      & Albury                     & 2016                       & 236                       \\\\\n",
       "\t 15 - 19                    & Females                    & Employed, worked full-time & New South Wales            & 10050                      & Albury                     & 2016                       & 113                       \\\\\n",
       "\t 15 - 19                    & Persons                    & Employed, worked full-time & New South Wales            & 10050                      & Albury                     & 2016                       & 348                       \\\\\n",
       "\t 15 - 19                    & Males                      & Employed, worked full-time & New South Wales            & 10130                      & Armidale Regional          & 2016                       & 105                       \\\\\n",
       "\t 15 - 19                    & Females                    & Employed, worked full-time & New South Wales            & 10130                      & Armidale Regional          & 2016                       &  58                       \\\\\n",
       "\t 15 - 19                    & Persons                    & Employed, worked full-time & New South Wales            & 10130                      & Armidale Regional          & 2016                       & 160                       \\\\\n",
       "\\end{tabular}\n"
      ],
      "text/markdown": [
       "\n",
       "| Age | Sex | Labour force status | State | LGA_2016 | LGA | Census year | Value |\n",
       "|---|---|---|---|---|---|---|---|\n",
       "| 15 - 19                    | Males                      | Employed, worked full-time | New South Wales            | 10050                      | Albury                     | 2016                       | 236                        |\n",
       "| 15 - 19                    | Females                    | Employed, worked full-time | New South Wales            | 10050                      | Albury                     | 2016                       | 113                        |\n",
       "| 15 - 19                    | Persons                    | Employed, worked full-time | New South Wales            | 10050                      | Albury                     | 2016                       | 348                        |\n",
       "| 15 - 19                    | Males                      | Employed, worked full-time | New South Wales            | 10130                      | Armidale Regional          | 2016                       | 105                        |\n",
       "| 15 - 19                    | Females                    | Employed, worked full-time | New South Wales            | 10130                      | Armidale Regional          | 2016                       |  58                        |\n",
       "| 15 - 19                    | Persons                    | Employed, worked full-time | New South Wales            | 10130                      | Armidale Regional          | 2016                       | 160                        |\n",
       "\n"
      ],
      "text/plain": [
       "  Age     Sex     Labour force status        State           LGA_2016\n",
       "1 15 - 19 Males   Employed, worked full-time New South Wales 10050   \n",
       "2 15 - 19 Females Employed, worked full-time New South Wales 10050   \n",
       "3 15 - 19 Persons Employed, worked full-time New South Wales 10050   \n",
       "4 15 - 19 Males   Employed, worked full-time New South Wales 10130   \n",
       "5 15 - 19 Females Employed, worked full-time New South Wales 10130   \n",
       "6 15 - 19 Persons Employed, worked full-time New South Wales 10130   \n",
       "  LGA               Census year Value\n",
       "1 Albury            2016        236  \n",
       "2 Albury            2016        113  \n",
       "3 Albury            2016        348  \n",
       "4 Armidale Regional 2016        105  \n",
       "5 Armidale Regional 2016         58  \n",
       "6 Armidale Regional 2016        160  "
      ]
     },
     "metadata": {},
     "output_type": "display_data"
    }
   ],
   "source": [
    "head(input_data$crime)\n",
    "head(input_data$age)"
   ]
  },
  {
   "cell_type": "code",
   "execution_count": 180,
   "metadata": {},
   "outputs": [
    {
     "name": "stderr",
     "output_type": "stream",
     "text": [
      "Joining, by = \"LGA\"\n",
      "Warning message:\n",
      "\"Column `LGA` joining factors with different levels, coercing to character vector\""
     ]
    },
    {
     "data": {
      "text/html": [
       "<table>\n",
       "<thead><tr><th scope=col>LGA</th><th scope=col>Offence</th><th scope=col>Crim_Count</th><th scope=col>Age</th><th scope=col>Sex</th><th scope=col>Labour force status</th><th scope=col>pop_count</th></tr></thead>\n",
       "<tbody>\n",
       "\t<tr><td>Albury                    </td><td>Murder *                  </td><td>2                         </td><td>15 - 19                   </td><td>Males                     </td><td>Employed, worked full-time</td><td> 236                      </td></tr>\n",
       "\t<tr><td>Albury                    </td><td>Murder *                  </td><td>2                         </td><td>15 - 19                   </td><td>Females                   </td><td>Employed, worked full-time</td><td> 113                      </td></tr>\n",
       "\t<tr><td>Albury                    </td><td>Murder *                  </td><td>2                         </td><td>15 - 19                   </td><td>Persons                   </td><td>Employed, worked full-time</td><td> 348                      </td></tr>\n",
       "\t<tr><td>Albury                    </td><td>Murder *                  </td><td>2                         </td><td>15 - 19                   </td><td>Males                     </td><td>Employed, worked part-time</td><td> 431                      </td></tr>\n",
       "\t<tr><td>Albury                    </td><td>Murder *                  </td><td>2                         </td><td>15 - 19                   </td><td>Females                   </td><td>Employed, worked part-time</td><td> 641                      </td></tr>\n",
       "\t<tr><td>Albury                    </td><td>Murder *                  </td><td>2                         </td><td>15 - 19                   </td><td>Persons                   </td><td>Employed, worked part-time</td><td>1074                      </td></tr>\n",
       "</tbody>\n",
       "</table>\n"
      ],
      "text/latex": [
       "\\begin{tabular}{r|lllllll}\n",
       " LGA & Offence & Crim\\_Count & Age & Sex & Labour force status & pop\\_count\\\\\n",
       "\\hline\n",
       "\t Albury                     & Murder *                   & 2                          & 15 - 19                    & Males                      & Employed, worked full-time &  236                      \\\\\n",
       "\t Albury                     & Murder *                   & 2                          & 15 - 19                    & Females                    & Employed, worked full-time &  113                      \\\\\n",
       "\t Albury                     & Murder *                   & 2                          & 15 - 19                    & Persons                    & Employed, worked full-time &  348                      \\\\\n",
       "\t Albury                     & Murder *                   & 2                          & 15 - 19                    & Males                      & Employed, worked part-time &  431                      \\\\\n",
       "\t Albury                     & Murder *                   & 2                          & 15 - 19                    & Females                    & Employed, worked part-time &  641                      \\\\\n",
       "\t Albury                     & Murder *                   & 2                          & 15 - 19                    & Persons                    & Employed, worked part-time & 1074                      \\\\\n",
       "\\end{tabular}\n"
      ],
      "text/markdown": [
       "\n",
       "| LGA | Offence | Crim_Count | Age | Sex | Labour force status | pop_count |\n",
       "|---|---|---|---|---|---|---|\n",
       "| Albury                     | Murder *                   | 2                          | 15 - 19                    | Males                      | Employed, worked full-time |  236                       |\n",
       "| Albury                     | Murder *                   | 2                          | 15 - 19                    | Females                    | Employed, worked full-time |  113                       |\n",
       "| Albury                     | Murder *                   | 2                          | 15 - 19                    | Persons                    | Employed, worked full-time |  348                       |\n",
       "| Albury                     | Murder *                   | 2                          | 15 - 19                    | Males                      | Employed, worked part-time |  431                       |\n",
       "| Albury                     | Murder *                   | 2                          | 15 - 19                    | Females                    | Employed, worked part-time |  641                       |\n",
       "| Albury                     | Murder *                   | 2                          | 15 - 19                    | Persons                    | Employed, worked part-time | 1074                       |\n",
       "\n"
      ],
      "text/plain": [
       "  LGA    Offence  Crim_Count Age     Sex     Labour force status       \n",
       "1 Albury Murder * 2          15 - 19 Males   Employed, worked full-time\n",
       "2 Albury Murder * 2          15 - 19 Females Employed, worked full-time\n",
       "3 Albury Murder * 2          15 - 19 Persons Employed, worked full-time\n",
       "4 Albury Murder * 2          15 - 19 Males   Employed, worked part-time\n",
       "5 Albury Murder * 2          15 - 19 Females Employed, worked part-time\n",
       "6 Albury Murder * 2          15 - 19 Persons Employed, worked part-time\n",
       "  pop_count\n",
       "1  236     \n",
       "2  113     \n",
       "3  348     \n",
       "4  431     \n",
       "5  641     \n",
       "6 1074     "
      ]
     },
     "metadata": {},
     "output_type": "display_data"
    },
    {
     "name": "stdout",
     "output_type": "stream",
     "text": [
      "Observations: 2,511,310\n",
      "Variables: 7\n",
      "$ LGA                   \u001b[3m\u001b[90m<chr>\u001b[39m\u001b[23m \"Albury\", \"Albury\", \"Albury\", \"Albury\", \"Albu...\n",
      "$ Offence               \u001b[3m\u001b[90m<fct>\u001b[39m\u001b[23m Murder *, Murder *, Murder *, Murder *, Murde...\n",
      "$ Crim_Count            \u001b[3m\u001b[90m<int>\u001b[39m\u001b[23m 2, 2, 2, 2, 2, 2, 2, 2, 2, 2, 2, 2, 2, 2, 2, ...\n",
      "$ Age                   \u001b[3m\u001b[90m<fct>\u001b[39m\u001b[23m 15 - 19, 15 - 19, 15 - 19, 15 - 19, 15 - 19, ...\n",
      "$ Sex                   \u001b[3m\u001b[90m<fct>\u001b[39m\u001b[23m Males, Females, Persons, Males, Females, Pers...\n",
      "$ `Labour force status` \u001b[3m\u001b[90m<fct>\u001b[39m\u001b[23m \"Employed, worked full-time\", \"Employed, work...\n",
      "$ pop_count             \u001b[3m\u001b[90m<int>\u001b[39m\u001b[23m 236, 113, 348, 431, 641, 1074, 27, 26, 59, 22...\n"
     ]
    }
   ],
   "source": [
    "joined <- input_data$crime %>%\n",
    "    select(-X1) %>%\n",
    "    left_join(input_data$age %>% select(-State, -LGA_2016, -`Census year`)) %>%\n",
    "    rename(pop_count = Value)\n",
    "\n",
    "head(joined)\n",
    "glimpse(joined)"
   ]
  },
  {
   "cell_type": "code",
   "execution_count": 181,
   "metadata": {},
   "outputs": [],
   "source": [
    "out_filename = \"joined_crime_age.csv\"\n",
    "write.csv(joined, paste(output_path, out_filename, sep = \"/\"), row.names = FALSE)"
   ]
  },
  {
   "cell_type": "markdown",
   "metadata": {},
   "source": [
    "# Joining `crime` and `country_of_birth`"
   ]
  },
  {
   "cell_type": "code",
   "execution_count": 176,
   "metadata": {},
   "outputs": [
    {
     "data": {
      "text/html": [
       "<table>\n",
       "<thead><tr><th scope=col>X1</th><th scope=col>LGA</th><th scope=col>Offence</th><th scope=col>Crim_Count</th></tr></thead>\n",
       "<tbody>\n",
       "\t<tr><td>1                                    </td><td>Albury                               </td><td>Murder *                             </td><td>  2                                  </td></tr>\n",
       "\t<tr><td>2                                    </td><td>Albury                               </td><td>Attempted murder                     </td><td>  1                                  </td></tr>\n",
       "\t<tr><td>3                                    </td><td>Albury                               </td><td>Murder accessory, conspiracy         </td><td>  0                                  </td></tr>\n",
       "\t<tr><td>4                                    </td><td>Albury                               </td><td>Manslaughter *                       </td><td>  0                                  </td></tr>\n",
       "\t<tr><td>5                                    </td><td>Albury                               </td><td>Domestic violence related assault    </td><td>284                                  </td></tr>\n",
       "\t<tr><td>6                                    </td><td>Albury                               </td><td>Non-domestic violence related assault</td><td>296                                  </td></tr>\n",
       "</tbody>\n",
       "</table>\n"
      ],
      "text/latex": [
       "\\begin{tabular}{r|llll}\n",
       " X1 & LGA & Offence & Crim\\_Count\\\\\n",
       "\\hline\n",
       "\t 1                                     & Albury                                & Murder *                              &   2                                  \\\\\n",
       "\t 2                                     & Albury                                & Attempted murder                      &   1                                  \\\\\n",
       "\t 3                                     & Albury                                & Murder accessory, conspiracy          &   0                                  \\\\\n",
       "\t 4                                     & Albury                                & Manslaughter *                        &   0                                  \\\\\n",
       "\t 5                                     & Albury                                & Domestic violence related assault     & 284                                  \\\\\n",
       "\t 6                                     & Albury                                & Non-domestic violence related assault & 296                                  \\\\\n",
       "\\end{tabular}\n"
      ],
      "text/markdown": [
       "\n",
       "| X1 | LGA | Offence | Crim_Count |\n",
       "|---|---|---|---|\n",
       "| 1                                     | Albury                                | Murder *                              |   2                                   |\n",
       "| 2                                     | Albury                                | Attempted murder                      |   1                                   |\n",
       "| 3                                     | Albury                                | Murder accessory, conspiracy          |   0                                   |\n",
       "| 4                                     | Albury                                | Manslaughter *                        |   0                                   |\n",
       "| 5                                     | Albury                                | Domestic violence related assault     | 284                                   |\n",
       "| 6                                     | Albury                                | Non-domestic violence related assault | 296                                   |\n",
       "\n"
      ],
      "text/plain": [
       "  X1 LGA    Offence                               Crim_Count\n",
       "1 1  Albury Murder *                                2       \n",
       "2 2  Albury Attempted murder                        1       \n",
       "3 3  Albury Murder accessory, conspiracy            0       \n",
       "4 4  Albury Manslaughter *                          0       \n",
       "5 5  Albury Domestic violence related assault     284       \n",
       "6 6  Albury Non-domestic violence related assault 296       "
      ]
     },
     "metadata": {},
     "output_type": "display_data"
    },
    {
     "data": {
      "text/html": [
       "<table>\n",
       "<thead><tr><th scope=col>birthplace_of_person</th><th scope=col>census_year</th><th scope=col>lga_2016</th><th scope=col>LGA</th><th scope=col>value</th><th scope=col>yarrp_2016</th><th scope=col>year_of_arrival_in_australia</th></tr></thead>\n",
       "<tbody>\n",
       "\t<tr><td>New Zealand        </td><td>2016               </td><td>10050              </td><td>Albury             </td><td>  7                </td><td>2                  </td><td>Arrived 1946 - 1955</td></tr>\n",
       "\t<tr><td>New Zealand        </td><td>2016               </td><td>10050              </td><td>Albury             </td><td> 22                </td><td>3                  </td><td>Arrived 1956 - 1965</td></tr>\n",
       "\t<tr><td>New Zealand        </td><td>2016               </td><td>10050              </td><td>Albury             </td><td> 63                </td><td>4                  </td><td>Arrived 1966 - 1975</td></tr>\n",
       "\t<tr><td>New Zealand        </td><td>2016               </td><td>10050              </td><td>Albury             </td><td>113                </td><td>5                  </td><td>Arrived 1976 - 1985</td></tr>\n",
       "\t<tr><td>New Zealand        </td><td>2016               </td><td>10050              </td><td>Albury             </td><td> 92                </td><td>6                  </td><td>Arrived 1986 - 1995</td></tr>\n",
       "\t<tr><td>New Zealand        </td><td>2016               </td><td>10050              </td><td>Albury             </td><td> 87                </td><td>7                  </td><td>Arrived 1996 - 2005</td></tr>\n",
       "</tbody>\n",
       "</table>\n"
      ],
      "text/latex": [
       "\\begin{tabular}{r|lllllll}\n",
       " birthplace\\_of\\_person & census\\_year & lga\\_2016 & LGA & value & yarrp\\_2016 & year\\_of\\_arrival\\_in\\_australia\\\\\n",
       "\\hline\n",
       "\t New Zealand         & 2016                & 10050               & Albury              &   7                 & 2                   & Arrived 1946 - 1955\\\\\n",
       "\t New Zealand         & 2016                & 10050               & Albury              &  22                 & 3                   & Arrived 1956 - 1965\\\\\n",
       "\t New Zealand         & 2016                & 10050               & Albury              &  63                 & 4                   & Arrived 1966 - 1975\\\\\n",
       "\t New Zealand         & 2016                & 10050               & Albury              & 113                 & 5                   & Arrived 1976 - 1985\\\\\n",
       "\t New Zealand         & 2016                & 10050               & Albury              &  92                 & 6                   & Arrived 1986 - 1995\\\\\n",
       "\t New Zealand         & 2016                & 10050               & Albury              &  87                 & 7                   & Arrived 1996 - 2005\\\\\n",
       "\\end{tabular}\n"
      ],
      "text/markdown": [
       "\n",
       "| birthplace_of_person | census_year | lga_2016 | LGA | value | yarrp_2016 | year_of_arrival_in_australia |\n",
       "|---|---|---|---|---|---|---|\n",
       "| New Zealand         | 2016                | 10050               | Albury              |   7                 | 2                   | Arrived 1946 - 1955 |\n",
       "| New Zealand         | 2016                | 10050               | Albury              |  22                 | 3                   | Arrived 1956 - 1965 |\n",
       "| New Zealand         | 2016                | 10050               | Albury              |  63                 | 4                   | Arrived 1966 - 1975 |\n",
       "| New Zealand         | 2016                | 10050               | Albury              | 113                 | 5                   | Arrived 1976 - 1985 |\n",
       "| New Zealand         | 2016                | 10050               | Albury              |  92                 | 6                   | Arrived 1986 - 1995 |\n",
       "| New Zealand         | 2016                | 10050               | Albury              |  87                 | 7                   | Arrived 1996 - 2005 |\n",
       "\n"
      ],
      "text/plain": [
       "  birthplace_of_person census_year lga_2016 LGA    value yarrp_2016\n",
       "1 New Zealand          2016        10050    Albury   7   2         \n",
       "2 New Zealand          2016        10050    Albury  22   3         \n",
       "3 New Zealand          2016        10050    Albury  63   4         \n",
       "4 New Zealand          2016        10050    Albury 113   5         \n",
       "5 New Zealand          2016        10050    Albury  92   6         \n",
       "6 New Zealand          2016        10050    Albury  87   7         \n",
       "  year_of_arrival_in_australia\n",
       "1 Arrived 1946 - 1955         \n",
       "2 Arrived 1956 - 1965         \n",
       "3 Arrived 1966 - 1975         \n",
       "4 Arrived 1976 - 1985         \n",
       "5 Arrived 1986 - 1995         \n",
       "6 Arrived 1996 - 2005         "
      ]
     },
     "metadata": {},
     "output_type": "display_data"
    }
   ],
   "source": [
    "head(input_data$crime)\n",
    "head(input_data$country_of_birth)"
   ]
  },
  {
   "cell_type": "code",
   "execution_count": 177,
   "metadata": {},
   "outputs": [
    {
     "name": "stderr",
     "output_type": "stream",
     "text": [
      "Joining, by = \"LGA\"\n",
      "Warning message:\n",
      "\"Column `LGA` joining factors with different levels, coercing to character vector\""
     ]
    },
    {
     "data": {
      "text/html": [
       "<table>\n",
       "<thead><tr><th scope=col>LGA</th><th scope=col>Offence</th><th scope=col>Crim_Count</th><th scope=col>birthplace_of_person</th><th scope=col>pop_count</th><th scope=col>year_of_arrival_in_australia</th></tr></thead>\n",
       "<tbody>\n",
       "\t<tr><td>Albury             </td><td>Murder *           </td><td>2                  </td><td>New Zealand        </td><td>  7                </td><td>Arrived 1946 - 1955</td></tr>\n",
       "\t<tr><td>Albury             </td><td>Murder *           </td><td>2                  </td><td>New Zealand        </td><td> 22                </td><td>Arrived 1956 - 1965</td></tr>\n",
       "\t<tr><td>Albury             </td><td>Murder *           </td><td>2                  </td><td>New Zealand        </td><td> 63                </td><td>Arrived 1966 - 1975</td></tr>\n",
       "\t<tr><td>Albury             </td><td>Murder *           </td><td>2                  </td><td>New Zealand        </td><td>113                </td><td>Arrived 1976 - 1985</td></tr>\n",
       "\t<tr><td>Albury             </td><td>Murder *           </td><td>2                  </td><td>New Zealand        </td><td> 92                </td><td>Arrived 1986 - 1995</td></tr>\n",
       "\t<tr><td>Albury             </td><td>Murder *           </td><td>2                  </td><td>New Zealand        </td><td> 87                </td><td>Arrived 1996 - 2005</td></tr>\n",
       "</tbody>\n",
       "</table>\n"
      ],
      "text/latex": [
       "\\begin{tabular}{r|llllll}\n",
       " LGA & Offence & Crim\\_Count & birthplace\\_of\\_person & pop\\_count & year\\_of\\_arrival\\_in\\_australia\\\\\n",
       "\\hline\n",
       "\t Albury              & Murder *            & 2                   & New Zealand         &   7                 & Arrived 1946 - 1955\\\\\n",
       "\t Albury              & Murder *            & 2                   & New Zealand         &  22                 & Arrived 1956 - 1965\\\\\n",
       "\t Albury              & Murder *            & 2                   & New Zealand         &  63                 & Arrived 1966 - 1975\\\\\n",
       "\t Albury              & Murder *            & 2                   & New Zealand         & 113                 & Arrived 1976 - 1985\\\\\n",
       "\t Albury              & Murder *            & 2                   & New Zealand         &  92                 & Arrived 1986 - 1995\\\\\n",
       "\t Albury              & Murder *            & 2                   & New Zealand         &  87                 & Arrived 1996 - 2005\\\\\n",
       "\\end{tabular}\n"
      ],
      "text/markdown": [
       "\n",
       "| LGA | Offence | Crim_Count | birthplace_of_person | pop_count | year_of_arrival_in_australia |\n",
       "|---|---|---|---|---|---|\n",
       "| Albury              | Murder *            | 2                   | New Zealand         |   7                 | Arrived 1946 - 1955 |\n",
       "| Albury              | Murder *            | 2                   | New Zealand         |  22                 | Arrived 1956 - 1965 |\n",
       "| Albury              | Murder *            | 2                   | New Zealand         |  63                 | Arrived 1966 - 1975 |\n",
       "| Albury              | Murder *            | 2                   | New Zealand         | 113                 | Arrived 1976 - 1985 |\n",
       "| Albury              | Murder *            | 2                   | New Zealand         |  92                 | Arrived 1986 - 1995 |\n",
       "| Albury              | Murder *            | 2                   | New Zealand         |  87                 | Arrived 1996 - 2005 |\n",
       "\n"
      ],
      "text/plain": [
       "  LGA    Offence  Crim_Count birthplace_of_person pop_count\n",
       "1 Albury Murder * 2          New Zealand            7      \n",
       "2 Albury Murder * 2          New Zealand           22      \n",
       "3 Albury Murder * 2          New Zealand           63      \n",
       "4 Albury Murder * 2          New Zealand          113      \n",
       "5 Albury Murder * 2          New Zealand           92      \n",
       "6 Albury Murder * 2          New Zealand           87      \n",
       "  year_of_arrival_in_australia\n",
       "1 Arrived 1946 - 1955         \n",
       "2 Arrived 1956 - 1965         \n",
       "3 Arrived 1966 - 1975         \n",
       "4 Arrived 1976 - 1985         \n",
       "5 Arrived 1986 - 1995         \n",
       "6 Arrived 1996 - 2005         "
      ]
     },
     "metadata": {},
     "output_type": "display_data"
    },
    {
     "name": "stdout",
     "output_type": "stream",
     "text": [
      "Observations: 6,382,714\n",
      "Variables: 6\n",
      "$ LGA                          \u001b[3m\u001b[90m<chr>\u001b[39m\u001b[23m \"Albury\", \"Albury\", \"Albury\", \"Albury\"...\n",
      "$ Offence                      \u001b[3m\u001b[90m<fct>\u001b[39m\u001b[23m Murder *, Murder *, Murder *, Murder *...\n",
      "$ Crim_Count                   \u001b[3m\u001b[90m<int>\u001b[39m\u001b[23m 2, 2, 2, 2, 2, 2, 2, 2, 2, 2, 2, 2, 2,...\n",
      "$ birthplace_of_person         \u001b[3m\u001b[90m<fct>\u001b[39m\u001b[23m New Zealand, New Zealand, New Zealand,...\n",
      "$ pop_count                    \u001b[3m\u001b[90m<dbl>\u001b[39m\u001b[23m 7, 22, 63, 113, 92, 87, 6, 24, 3, 9, 6...\n",
      "$ year_of_arrival_in_australia \u001b[3m\u001b[90m<fct>\u001b[39m\u001b[23m Arrived 1946 - 1955, Arrived 1956 - 19...\n"
     ]
    }
   ],
   "source": [
    "joined <- input_data$crime %>%\n",
    "    select(-X1) %>%\n",
    "    left_join(input_data$country_of_birth %>% select(-lga_2016, -census_year, -yarrp_2016)) %>%\n",
    "    rename(pop_count = value)\n",
    "\n",
    "head(joined)\n",
    "glimpse(joined)"
   ]
  },
  {
   "cell_type": "code",
   "execution_count": 178,
   "metadata": {},
   "outputs": [],
   "source": [
    "out_filename = \"joined_crime_countryofbirth.csv\"\n",
    "write.csv(joined, paste(output_path, out_filename, sep = \"/\"), row.names = FALSE)"
   ]
  },
  {
   "cell_type": "markdown",
   "metadata": {},
   "source": [
    "# Joining `crime` and `industry_employment`"
   ]
  },
  {
   "cell_type": "code",
   "execution_count": 173,
   "metadata": {},
   "outputs": [
    {
     "data": {
      "text/html": [
       "<table>\n",
       "<thead><tr><th scope=col>X1</th><th scope=col>LGA</th><th scope=col>Offence</th><th scope=col>Crim_Count</th></tr></thead>\n",
       "<tbody>\n",
       "\t<tr><td>1                                    </td><td>Albury                               </td><td>Murder *                             </td><td>  2                                  </td></tr>\n",
       "\t<tr><td>2                                    </td><td>Albury                               </td><td>Attempted murder                     </td><td>  1                                  </td></tr>\n",
       "\t<tr><td>3                                    </td><td>Albury                               </td><td>Murder accessory, conspiracy         </td><td>  0                                  </td></tr>\n",
       "\t<tr><td>4                                    </td><td>Albury                               </td><td>Manslaughter *                       </td><td>  0                                  </td></tr>\n",
       "\t<tr><td>5                                    </td><td>Albury                               </td><td>Domestic violence related assault    </td><td>284                                  </td></tr>\n",
       "\t<tr><td>6                                    </td><td>Albury                               </td><td>Non-domestic violence related assault</td><td>296                                  </td></tr>\n",
       "</tbody>\n",
       "</table>\n"
      ],
      "text/latex": [
       "\\begin{tabular}{r|llll}\n",
       " X1 & LGA & Offence & Crim\\_Count\\\\\n",
       "\\hline\n",
       "\t 1                                     & Albury                                & Murder *                              &   2                                  \\\\\n",
       "\t 2                                     & Albury                                & Attempted murder                      &   1                                  \\\\\n",
       "\t 3                                     & Albury                                & Murder accessory, conspiracy          &   0                                  \\\\\n",
       "\t 4                                     & Albury                                & Manslaughter *                        &   0                                  \\\\\n",
       "\t 5                                     & Albury                                & Domestic violence related assault     & 284                                  \\\\\n",
       "\t 6                                     & Albury                                & Non-domestic violence related assault & 296                                  \\\\\n",
       "\\end{tabular}\n"
      ],
      "text/markdown": [
       "\n",
       "| X1 | LGA | Offence | Crim_Count |\n",
       "|---|---|---|---|\n",
       "| 1                                     | Albury                                | Murder *                              |   2                                   |\n",
       "| 2                                     | Albury                                | Attempted murder                      |   1                                   |\n",
       "| 3                                     | Albury                                | Murder accessory, conspiracy          |   0                                   |\n",
       "| 4                                     | Albury                                | Manslaughter *                        |   0                                   |\n",
       "| 5                                     | Albury                                | Domestic violence related assault     | 284                                   |\n",
       "| 6                                     | Albury                                | Non-domestic violence related assault | 296                                   |\n",
       "\n"
      ],
      "text/plain": [
       "  X1 LGA    Offence                               Crim_Count\n",
       "1 1  Albury Murder *                                2       \n",
       "2 2  Albury Attempted murder                        1       \n",
       "3 3  Albury Murder accessory, conspiracy            0       \n",
       "4 4  Albury Manslaughter *                          0       \n",
       "5 5  Albury Domestic violence related assault     284       \n",
       "6 6  Albury Non-domestic violence related assault 296       "
      ]
     },
     "metadata": {},
     "output_type": "display_data"
    },
    {
     "data": {
      "text/html": [
       "<table>\n",
       "<thead><tr><th scope=col>Age</th><th scope=col>Sex</th><th scope=col>Industry of Employment</th><th scope=col>LGA_2016</th><th scope=col>LGA</th><th scope=col>Census year</th><th scope=col>Value</th></tr></thead>\n",
       "<tbody>\n",
       "\t<tr><td>15 - 19                          </td><td>Males                            </td><td>Agriculture, Forestry and Fishing</td><td>10050                            </td><td>Albury                           </td><td>2016                             </td><td> 6                               </td></tr>\n",
       "\t<tr><td>15 - 19                          </td><td>Females                          </td><td>Agriculture, Forestry and Fishing</td><td>10050                            </td><td>Albury                           </td><td>2016                             </td><td> 4                               </td></tr>\n",
       "\t<tr><td>15 - 19                          </td><td>Persons                          </td><td>Agriculture, Forestry and Fishing</td><td>10050                            </td><td>Albury                           </td><td>2016                             </td><td> 6                               </td></tr>\n",
       "\t<tr><td>15 - 19                          </td><td>Males                            </td><td>Agriculture, Forestry and Fishing</td><td>10130                            </td><td>Armidale Regional                </td><td>2016                             </td><td>34                               </td></tr>\n",
       "\t<tr><td>15 - 19                          </td><td>Females                          </td><td>Agriculture, Forestry and Fishing</td><td>10130                            </td><td>Armidale Regional                </td><td>2016                             </td><td> 9                               </td></tr>\n",
       "\t<tr><td>15 - 19                          </td><td>Persons                          </td><td>Agriculture, Forestry and Fishing</td><td>10130                            </td><td>Armidale Regional                </td><td>2016                             </td><td>43                               </td></tr>\n",
       "</tbody>\n",
       "</table>\n"
      ],
      "text/latex": [
       "\\begin{tabular}{r|lllllll}\n",
       " Age & Sex & Industry of Employment & LGA\\_2016 & LGA & Census year & Value\\\\\n",
       "\\hline\n",
       "\t 15 - 19                           & Males                             & Agriculture, Forestry and Fishing & 10050                             & Albury                            & 2016                              &  6                               \\\\\n",
       "\t 15 - 19                           & Females                           & Agriculture, Forestry and Fishing & 10050                             & Albury                            & 2016                              &  4                               \\\\\n",
       "\t 15 - 19                           & Persons                           & Agriculture, Forestry and Fishing & 10050                             & Albury                            & 2016                              &  6                               \\\\\n",
       "\t 15 - 19                           & Males                             & Agriculture, Forestry and Fishing & 10130                             & Armidale Regional                 & 2016                              & 34                               \\\\\n",
       "\t 15 - 19                           & Females                           & Agriculture, Forestry and Fishing & 10130                             & Armidale Regional                 & 2016                              &  9                               \\\\\n",
       "\t 15 - 19                           & Persons                           & Agriculture, Forestry and Fishing & 10130                             & Armidale Regional                 & 2016                              & 43                               \\\\\n",
       "\\end{tabular}\n"
      ],
      "text/markdown": [
       "\n",
       "| Age | Sex | Industry of Employment | LGA_2016 | LGA | Census year | Value |\n",
       "|---|---|---|---|---|---|---|\n",
       "| 15 - 19                           | Males                             | Agriculture, Forestry and Fishing | 10050                             | Albury                            | 2016                              |  6                                |\n",
       "| 15 - 19                           | Females                           | Agriculture, Forestry and Fishing | 10050                             | Albury                            | 2016                              |  4                                |\n",
       "| 15 - 19                           | Persons                           | Agriculture, Forestry and Fishing | 10050                             | Albury                            | 2016                              |  6                                |\n",
       "| 15 - 19                           | Males                             | Agriculture, Forestry and Fishing | 10130                             | Armidale Regional                 | 2016                              | 34                                |\n",
       "| 15 - 19                           | Females                           | Agriculture, Forestry and Fishing | 10130                             | Armidale Regional                 | 2016                              |  9                                |\n",
       "| 15 - 19                           | Persons                           | Agriculture, Forestry and Fishing | 10130                             | Armidale Regional                 | 2016                              | 43                                |\n",
       "\n"
      ],
      "text/plain": [
       "  Age     Sex     Industry of Employment            LGA_2016 LGA              \n",
       "1 15 - 19 Males   Agriculture, Forestry and Fishing 10050    Albury           \n",
       "2 15 - 19 Females Agriculture, Forestry and Fishing 10050    Albury           \n",
       "3 15 - 19 Persons Agriculture, Forestry and Fishing 10050    Albury           \n",
       "4 15 - 19 Males   Agriculture, Forestry and Fishing 10130    Armidale Regional\n",
       "5 15 - 19 Females Agriculture, Forestry and Fishing 10130    Armidale Regional\n",
       "6 15 - 19 Persons Agriculture, Forestry and Fishing 10130    Armidale Regional\n",
       "  Census year Value\n",
       "1 2016         6   \n",
       "2 2016         4   \n",
       "3 2016         6   \n",
       "4 2016        34   \n",
       "5 2016         9   \n",
       "6 2016        43   "
      ]
     },
     "metadata": {},
     "output_type": "display_data"
    }
   ],
   "source": [
    "head(input_data$crime)\n",
    "head(input_data$industry_employment)"
   ]
  },
  {
   "cell_type": "code",
   "execution_count": 174,
   "metadata": {},
   "outputs": [
    {
     "name": "stderr",
     "output_type": "stream",
     "text": [
      "Joining, by = \"LGA\"\n",
      "Warning message:\n",
      "\"Column `LGA` joining factors with different levels, coercing to character vector\""
     ]
    },
    {
     "data": {
      "text/html": [
       "<table>\n",
       "<thead><tr><th scope=col>LGA</th><th scope=col>Offence</th><th scope=col>Crim_Count</th><th scope=col>Age</th><th scope=col>Sex</th><th scope=col>Industry of Employment</th><th scope=col>pop_count</th></tr></thead>\n",
       "<tbody>\n",
       "\t<tr><td>Albury                           </td><td>Murder *                         </td><td>2                                </td><td>15 - 19                          </td><td>Males                            </td><td>Agriculture, Forestry and Fishing</td><td>6                                </td></tr>\n",
       "\t<tr><td>Albury                           </td><td>Murder *                         </td><td>2                                </td><td>15 - 19                          </td><td>Females                          </td><td>Agriculture, Forestry and Fishing</td><td>4                                </td></tr>\n",
       "\t<tr><td>Albury                           </td><td>Murder *                         </td><td>2                                </td><td>15 - 19                          </td><td>Persons                          </td><td>Agriculture, Forestry and Fishing</td><td>6                                </td></tr>\n",
       "\t<tr><td>Albury                           </td><td>Murder *                         </td><td>2                                </td><td>15 - 19                          </td><td>Males                            </td><td>Mining                           </td><td>0                                </td></tr>\n",
       "\t<tr><td>Albury                           </td><td>Murder *                         </td><td>2                                </td><td>15 - 19                          </td><td>Females                          </td><td>Mining                           </td><td>0                                </td></tr>\n",
       "\t<tr><td>Albury                           </td><td>Murder *                         </td><td>2                                </td><td>15 - 19                          </td><td>Persons                          </td><td>Mining                           </td><td>0                                </td></tr>\n",
       "</tbody>\n",
       "</table>\n"
      ],
      "text/latex": [
       "\\begin{tabular}{r|lllllll}\n",
       " LGA & Offence & Crim\\_Count & Age & Sex & Industry of Employment & pop\\_count\\\\\n",
       "\\hline\n",
       "\t Albury                            & Murder *                          & 2                                 & 15 - 19                           & Males                             & Agriculture, Forestry and Fishing & 6                                \\\\\n",
       "\t Albury                            & Murder *                          & 2                                 & 15 - 19                           & Females                           & Agriculture, Forestry and Fishing & 4                                \\\\\n",
       "\t Albury                            & Murder *                          & 2                                 & 15 - 19                           & Persons                           & Agriculture, Forestry and Fishing & 6                                \\\\\n",
       "\t Albury                            & Murder *                          & 2                                 & 15 - 19                           & Males                             & Mining                            & 0                                \\\\\n",
       "\t Albury                            & Murder *                          & 2                                 & 15 - 19                           & Females                           & Mining                            & 0                                \\\\\n",
       "\t Albury                            & Murder *                          & 2                                 & 15 - 19                           & Persons                           & Mining                            & 0                                \\\\\n",
       "\\end{tabular}\n"
      ],
      "text/markdown": [
       "\n",
       "| LGA | Offence | Crim_Count | Age | Sex | Industry of Employment | pop_count |\n",
       "|---|---|---|---|---|---|---|\n",
       "| Albury                            | Murder *                          | 2                                 | 15 - 19                           | Males                             | Agriculture, Forestry and Fishing | 6                                 |\n",
       "| Albury                            | Murder *                          | 2                                 | 15 - 19                           | Females                           | Agriculture, Forestry and Fishing | 4                                 |\n",
       "| Albury                            | Murder *                          | 2                                 | 15 - 19                           | Persons                           | Agriculture, Forestry and Fishing | 6                                 |\n",
       "| Albury                            | Murder *                          | 2                                 | 15 - 19                           | Males                             | Mining                            | 0                                 |\n",
       "| Albury                            | Murder *                          | 2                                 | 15 - 19                           | Females                           | Mining                            | 0                                 |\n",
       "| Albury                            | Murder *                          | 2                                 | 15 - 19                           | Persons                           | Mining                            | 0                                 |\n",
       "\n"
      ],
      "text/plain": [
       "  LGA    Offence  Crim_Count Age     Sex     Industry of Employment           \n",
       "1 Albury Murder * 2          15 - 19 Males   Agriculture, Forestry and Fishing\n",
       "2 Albury Murder * 2          15 - 19 Females Agriculture, Forestry and Fishing\n",
       "3 Albury Murder * 2          15 - 19 Persons Agriculture, Forestry and Fishing\n",
       "4 Albury Murder * 2          15 - 19 Males   Mining                           \n",
       "5 Albury Murder * 2          15 - 19 Females Mining                           \n",
       "6 Albury Murder * 2          15 - 19 Persons Mining                           \n",
       "  pop_count\n",
       "1 6        \n",
       "2 4        \n",
       "3 6        \n",
       "4 0        \n",
       "5 0        \n",
       "6 0        "
      ]
     },
     "metadata": {},
     "output_type": "display_data"
    },
    {
     "name": "stdout",
     "output_type": "stream",
     "text": [
      "Observations: 4,650,310\n",
      "Variables: 7\n",
      "$ LGA                      \u001b[3m\u001b[90m<chr>\u001b[39m\u001b[23m \"Albury\", \"Albury\", \"Albury\", \"Albury\", \"A...\n",
      "$ Offence                  \u001b[3m\u001b[90m<fct>\u001b[39m\u001b[23m Murder *, Murder *, Murder *, Murder *, Mu...\n",
      "$ Crim_Count               \u001b[3m\u001b[90m<int>\u001b[39m\u001b[23m 2, 2, 2, 2, 2, 2, 2, 2, 2, 2, 2, 2, 2, 2, ...\n",
      "$ Age                      \u001b[3m\u001b[90m<fct>\u001b[39m\u001b[23m 15 - 19, 15 - 19, 15 - 19, 15 - 19, 15 - 1...\n",
      "$ Sex                      \u001b[3m\u001b[90m<fct>\u001b[39m\u001b[23m Males, Females, Persons, Males, Females, P...\n",
      "$ `Industry of Employment` \u001b[3m\u001b[90m<fct>\u001b[39m\u001b[23m \"Agriculture, Forestry and Fishing\", \"Agri...\n",
      "$ pop_count                \u001b[3m\u001b[90m<int>\u001b[39m\u001b[23m 6, 4, 6, 0, 0, 0, 49, 44, 90, 0, 0, 0, 121...\n"
     ]
    }
   ],
   "source": [
    "joined <- input_data$crime %>%\n",
    "    select(-X1) %>%\n",
    "    left_join(input_data$industry_employment %>% select(-LGA_2016, -`Census year`)) %>%\n",
    "    rename(pop_count = Value)\n",
    "\n",
    "head(joined)\n",
    "glimpse(joined)"
   ]
  },
  {
   "cell_type": "code",
   "execution_count": 175,
   "metadata": {},
   "outputs": [],
   "source": [
    "out_filename = \"joined_crime_employment.csv\"\n",
    "write.csv(joined, paste(output_path, out_filename, sep = \"/\"), row.names = FALSE)"
   ]
  },
  {
   "cell_type": "markdown",
   "metadata": {},
   "source": [
    "# Joining `crime` and `labour`"
   ]
  },
  {
   "cell_type": "code",
   "execution_count": 170,
   "metadata": {},
   "outputs": [
    {
     "data": {
      "text/html": [
       "<table>\n",
       "<thead><tr><th scope=col>X1</th><th scope=col>LGA</th><th scope=col>Offence</th><th scope=col>Crim_Count</th></tr></thead>\n",
       "<tbody>\n",
       "\t<tr><td>1                                    </td><td>Albury                               </td><td>Murder *                             </td><td>  2                                  </td></tr>\n",
       "\t<tr><td>2                                    </td><td>Albury                               </td><td>Attempted murder                     </td><td>  1                                  </td></tr>\n",
       "\t<tr><td>3                                    </td><td>Albury                               </td><td>Murder accessory, conspiracy         </td><td>  0                                  </td></tr>\n",
       "\t<tr><td>4                                    </td><td>Albury                               </td><td>Manslaughter *                       </td><td>  0                                  </td></tr>\n",
       "\t<tr><td>5                                    </td><td>Albury                               </td><td>Domestic violence related assault    </td><td>284                                  </td></tr>\n",
       "\t<tr><td>6                                    </td><td>Albury                               </td><td>Non-domestic violence related assault</td><td>296                                  </td></tr>\n",
       "</tbody>\n",
       "</table>\n"
      ],
      "text/latex": [
       "\\begin{tabular}{r|llll}\n",
       " X1 & LGA & Offence & Crim\\_Count\\\\\n",
       "\\hline\n",
       "\t 1                                     & Albury                                & Murder *                              &   2                                  \\\\\n",
       "\t 2                                     & Albury                                & Attempted murder                      &   1                                  \\\\\n",
       "\t 3                                     & Albury                                & Murder accessory, conspiracy          &   0                                  \\\\\n",
       "\t 4                                     & Albury                                & Manslaughter *                        &   0                                  \\\\\n",
       "\t 5                                     & Albury                                & Domestic violence related assault     & 284                                  \\\\\n",
       "\t 6                                     & Albury                                & Non-domestic violence related assault & 296                                  \\\\\n",
       "\\end{tabular}\n"
      ],
      "text/markdown": [
       "\n",
       "| X1 | LGA | Offence | Crim_Count |\n",
       "|---|---|---|---|\n",
       "| 1                                     | Albury                                | Murder *                              |   2                                   |\n",
       "| 2                                     | Albury                                | Attempted murder                      |   1                                   |\n",
       "| 3                                     | Albury                                | Murder accessory, conspiracy          |   0                                   |\n",
       "| 4                                     | Albury                                | Manslaughter *                        |   0                                   |\n",
       "| 5                                     | Albury                                | Domestic violence related assault     | 284                                   |\n",
       "| 6                                     | Albury                                | Non-domestic violence related assault | 296                                   |\n",
       "\n"
      ],
      "text/plain": [
       "  X1 LGA    Offence                               Crim_Count\n",
       "1 1  Albury Murder *                                2       \n",
       "2 2  Albury Attempted murder                        1       \n",
       "3 3  Albury Murder accessory, conspiracy            0       \n",
       "4 4  Albury Manslaughter *                          0       \n",
       "5 5  Albury Domestic violence related assault     284       \n",
       "6 6  Albury Non-domestic violence related assault 296       "
      ]
     },
     "metadata": {},
     "output_type": "display_data"
    },
    {
     "data": {
      "text/html": [
       "<table>\n",
       "<thead><tr><th scope=col>Age</th><th scope=col>Sex</th><th scope=col>Labour force status</th><th scope=col>LGA_2016</th><th scope=col>LGA</th><th scope=col>Census year</th><th scope=col>Value</th></tr></thead>\n",
       "<tbody>\n",
       "\t<tr><td>15 - 19                   </td><td>Males                     </td><td>Employed, worked full-time</td><td>10050                     </td><td>Albury                    </td><td>2016                      </td><td>236                       </td></tr>\n",
       "\t<tr><td>15 - 19                   </td><td>Females                   </td><td>Employed, worked full-time</td><td>10050                     </td><td>Albury                    </td><td>2016                      </td><td>113                       </td></tr>\n",
       "\t<tr><td>15 - 19                   </td><td>Persons                   </td><td>Employed, worked full-time</td><td>10050                     </td><td>Albury                    </td><td>2016                      </td><td>348                       </td></tr>\n",
       "\t<tr><td>15 - 19                   </td><td>Males                     </td><td>Employed, worked full-time</td><td>10130                     </td><td>Armidale Regional         </td><td>2016                      </td><td>105                       </td></tr>\n",
       "\t<tr><td>15 - 19                   </td><td>Females                   </td><td>Employed, worked full-time</td><td>10130                     </td><td>Armidale Regional         </td><td>2016                      </td><td> 58                       </td></tr>\n",
       "\t<tr><td>15 - 19                   </td><td>Persons                   </td><td>Employed, worked full-time</td><td>10130                     </td><td>Armidale Regional         </td><td>2016                      </td><td>160                       </td></tr>\n",
       "</tbody>\n",
       "</table>\n"
      ],
      "text/latex": [
       "\\begin{tabular}{r|lllllll}\n",
       " Age & Sex & Labour force status & LGA\\_2016 & LGA & Census year & Value\\\\\n",
       "\\hline\n",
       "\t 15 - 19                    & Males                      & Employed, worked full-time & 10050                      & Albury                     & 2016                       & 236                       \\\\\n",
       "\t 15 - 19                    & Females                    & Employed, worked full-time & 10050                      & Albury                     & 2016                       & 113                       \\\\\n",
       "\t 15 - 19                    & Persons                    & Employed, worked full-time & 10050                      & Albury                     & 2016                       & 348                       \\\\\n",
       "\t 15 - 19                    & Males                      & Employed, worked full-time & 10130                      & Armidale Regional          & 2016                       & 105                       \\\\\n",
       "\t 15 - 19                    & Females                    & Employed, worked full-time & 10130                      & Armidale Regional          & 2016                       &  58                       \\\\\n",
       "\t 15 - 19                    & Persons                    & Employed, worked full-time & 10130                      & Armidale Regional          & 2016                       & 160                       \\\\\n",
       "\\end{tabular}\n"
      ],
      "text/markdown": [
       "\n",
       "| Age | Sex | Labour force status | LGA_2016 | LGA | Census year | Value |\n",
       "|---|---|---|---|---|---|---|\n",
       "| 15 - 19                    | Males                      | Employed, worked full-time | 10050                      | Albury                     | 2016                       | 236                        |\n",
       "| 15 - 19                    | Females                    | Employed, worked full-time | 10050                      | Albury                     | 2016                       | 113                        |\n",
       "| 15 - 19                    | Persons                    | Employed, worked full-time | 10050                      | Albury                     | 2016                       | 348                        |\n",
       "| 15 - 19                    | Males                      | Employed, worked full-time | 10130                      | Armidale Regional          | 2016                       | 105                        |\n",
       "| 15 - 19                    | Females                    | Employed, worked full-time | 10130                      | Armidale Regional          | 2016                       |  58                        |\n",
       "| 15 - 19                    | Persons                    | Employed, worked full-time | 10130                      | Armidale Regional          | 2016                       | 160                        |\n",
       "\n"
      ],
      "text/plain": [
       "  Age     Sex     Labour force status        LGA_2016 LGA              \n",
       "1 15 - 19 Males   Employed, worked full-time 10050    Albury           \n",
       "2 15 - 19 Females Employed, worked full-time 10050    Albury           \n",
       "3 15 - 19 Persons Employed, worked full-time 10050    Albury           \n",
       "4 15 - 19 Males   Employed, worked full-time 10130    Armidale Regional\n",
       "5 15 - 19 Females Employed, worked full-time 10130    Armidale Regional\n",
       "6 15 - 19 Persons Employed, worked full-time 10130    Armidale Regional\n",
       "  Census year Value\n",
       "1 2016        236  \n",
       "2 2016        113  \n",
       "3 2016        348  \n",
       "4 2016        105  \n",
       "5 2016         58  \n",
       "6 2016        160  "
      ]
     },
     "metadata": {},
     "output_type": "display_data"
    }
   ],
   "source": [
    "head(input_data$crime)\n",
    "head(input_data$labour)"
   ]
  },
  {
   "cell_type": "code",
   "execution_count": 171,
   "metadata": {},
   "outputs": [
    {
     "name": "stderr",
     "output_type": "stream",
     "text": [
      "Joining, by = \"LGA\"\n",
      "Warning message:\n",
      "\"Column `LGA` joining factors with different levels, coercing to character vector\""
     ]
    },
    {
     "data": {
      "text/html": [
       "<table>\n",
       "<thead><tr><th scope=col>LGA</th><th scope=col>Offence</th><th scope=col>Crim_Count</th><th scope=col>Age</th><th scope=col>Sex</th><th scope=col>Labour force status</th><th scope=col>pop_count</th></tr></thead>\n",
       "<tbody>\n",
       "\t<tr><td>Albury                    </td><td>Murder *                  </td><td>2                         </td><td>15 - 19                   </td><td>Males                     </td><td>Employed, worked full-time</td><td> 236                      </td></tr>\n",
       "\t<tr><td>Albury                    </td><td>Murder *                  </td><td>2                         </td><td>15 - 19                   </td><td>Females                   </td><td>Employed, worked full-time</td><td> 113                      </td></tr>\n",
       "\t<tr><td>Albury                    </td><td>Murder *                  </td><td>2                         </td><td>15 - 19                   </td><td>Persons                   </td><td>Employed, worked full-time</td><td> 348                      </td></tr>\n",
       "\t<tr><td>Albury                    </td><td>Murder *                  </td><td>2                         </td><td>15 - 19                   </td><td>Males                     </td><td>Employed, worked part-time</td><td> 431                      </td></tr>\n",
       "\t<tr><td>Albury                    </td><td>Murder *                  </td><td>2                         </td><td>15 - 19                   </td><td>Females                   </td><td>Employed, worked part-time</td><td> 641                      </td></tr>\n",
       "\t<tr><td>Albury                    </td><td>Murder *                  </td><td>2                         </td><td>15 - 19                   </td><td>Persons                   </td><td>Employed, worked part-time</td><td>1074                      </td></tr>\n",
       "</tbody>\n",
       "</table>\n"
      ],
      "text/latex": [
       "\\begin{tabular}{r|lllllll}\n",
       " LGA & Offence & Crim\\_Count & Age & Sex & Labour force status & pop\\_count\\\\\n",
       "\\hline\n",
       "\t Albury                     & Murder *                   & 2                          & 15 - 19                    & Males                      & Employed, worked full-time &  236                      \\\\\n",
       "\t Albury                     & Murder *                   & 2                          & 15 - 19                    & Females                    & Employed, worked full-time &  113                      \\\\\n",
       "\t Albury                     & Murder *                   & 2                          & 15 - 19                    & Persons                    & Employed, worked full-time &  348                      \\\\\n",
       "\t Albury                     & Murder *                   & 2                          & 15 - 19                    & Males                      & Employed, worked part-time &  431                      \\\\\n",
       "\t Albury                     & Murder *                   & 2                          & 15 - 19                    & Females                    & Employed, worked part-time &  641                      \\\\\n",
       "\t Albury                     & Murder *                   & 2                          & 15 - 19                    & Persons                    & Employed, worked part-time & 1074                      \\\\\n",
       "\\end{tabular}\n"
      ],
      "text/markdown": [
       "\n",
       "| LGA | Offence | Crim_Count | Age | Sex | Labour force status | pop_count |\n",
       "|---|---|---|---|---|---|---|\n",
       "| Albury                     | Murder *                   | 2                          | 15 - 19                    | Males                      | Employed, worked full-time |  236                       |\n",
       "| Albury                     | Murder *                   | 2                          | 15 - 19                    | Females                    | Employed, worked full-time |  113                       |\n",
       "| Albury                     | Murder *                   | 2                          | 15 - 19                    | Persons                    | Employed, worked full-time |  348                       |\n",
       "| Albury                     | Murder *                   | 2                          | 15 - 19                    | Males                      | Employed, worked part-time |  431                       |\n",
       "| Albury                     | Murder *                   | 2                          | 15 - 19                    | Females                    | Employed, worked part-time |  641                       |\n",
       "| Albury                     | Murder *                   | 2                          | 15 - 19                    | Persons                    | Employed, worked part-time | 1074                       |\n",
       "\n"
      ],
      "text/plain": [
       "  LGA    Offence  Crim_Count Age     Sex     Labour force status       \n",
       "1 Albury Murder * 2          15 - 19 Males   Employed, worked full-time\n",
       "2 Albury Murder * 2          15 - 19 Females Employed, worked full-time\n",
       "3 Albury Murder * 2          15 - 19 Persons Employed, worked full-time\n",
       "4 Albury Murder * 2          15 - 19 Males   Employed, worked part-time\n",
       "5 Albury Murder * 2          15 - 19 Females Employed, worked part-time\n",
       "6 Albury Murder * 2          15 - 19 Persons Employed, worked part-time\n",
       "  pop_count\n",
       "1  236     \n",
       "2  113     \n",
       "3  348     \n",
       "4  431     \n",
       "5  641     \n",
       "6 1074     "
      ]
     },
     "metadata": {},
     "output_type": "display_data"
    },
    {
     "name": "stdout",
     "output_type": "stream",
     "text": [
      "Observations: 1,860,310\n",
      "Variables: 7\n",
      "$ LGA                   \u001b[3m\u001b[90m<chr>\u001b[39m\u001b[23m \"Albury\", \"Albury\", \"Albury\", \"Albury\", \"Albu...\n",
      "$ Offence               \u001b[3m\u001b[90m<fct>\u001b[39m\u001b[23m Murder *, Murder *, Murder *, Murder *, Murde...\n",
      "$ Crim_Count            \u001b[3m\u001b[90m<int>\u001b[39m\u001b[23m 2, 2, 2, 2, 2, 2, 2, 2, 2, 2, 2, 2, 2, 2, 2, ...\n",
      "$ Age                   \u001b[3m\u001b[90m<fct>\u001b[39m\u001b[23m 15 - 19, 15 - 19, 15 - 19, 15 - 19, 15 - 19, ...\n",
      "$ Sex                   \u001b[3m\u001b[90m<fct>\u001b[39m\u001b[23m Males, Females, Persons, Males, Females, Pers...\n",
      "$ `Labour force status` \u001b[3m\u001b[90m<fct>\u001b[39m\u001b[23m \"Employed, worked full-time\", \"Employed, work...\n",
      "$ pop_count             \u001b[3m\u001b[90m<int>\u001b[39m\u001b[23m 236, 113, 348, 431, 641, 1074, 27, 26, 59, 22...\n"
     ]
    }
   ],
   "source": [
    "joined <- input_data$crime %>%\n",
    "    select(-X1) %>%\n",
    "    left_join(input_data$labour %>% select(-LGA_2016, -`Census year`)) %>%\n",
    "    rename(pop_count = Value)\n",
    "\n",
    "head(joined)\n",
    "glimpse(joined)"
   ]
  },
  {
   "cell_type": "code",
   "execution_count": 172,
   "metadata": {},
   "outputs": [],
   "source": [
    "out_filename = \"joined_crime_labour.csv\"\n",
    "write.csv(joined, paste(output_path, out_filename, sep = \"/\"), row.names = FALSE)"
   ]
  },
  {
   "cell_type": "markdown",
   "metadata": {},
   "source": [
    "# Joining `crime` and `industry_employment`"
   ]
  },
  {
   "cell_type": "code",
   "execution_count": 158,
   "metadata": {},
   "outputs": [
    {
     "data": {
      "text/html": [
       "<table>\n",
       "<thead><tr><th scope=col>X1</th><th scope=col>LGA</th><th scope=col>Offence</th><th scope=col>Crim_Count</th></tr></thead>\n",
       "<tbody>\n",
       "\t<tr><td>1                                    </td><td>Albury                               </td><td>Murder *                             </td><td>  2                                  </td></tr>\n",
       "\t<tr><td>2                                    </td><td>Albury                               </td><td>Attempted murder                     </td><td>  1                                  </td></tr>\n",
       "\t<tr><td>3                                    </td><td>Albury                               </td><td>Murder accessory, conspiracy         </td><td>  0                                  </td></tr>\n",
       "\t<tr><td>4                                    </td><td>Albury                               </td><td>Manslaughter *                       </td><td>  0                                  </td></tr>\n",
       "\t<tr><td>5                                    </td><td>Albury                               </td><td>Domestic violence related assault    </td><td>284                                  </td></tr>\n",
       "\t<tr><td>6                                    </td><td>Albury                               </td><td>Non-domestic violence related assault</td><td>296                                  </td></tr>\n",
       "</tbody>\n",
       "</table>\n"
      ],
      "text/latex": [
       "\\begin{tabular}{r|llll}\n",
       " X1 & LGA & Offence & Crim\\_Count\\\\\n",
       "\\hline\n",
       "\t 1                                     & Albury                                & Murder *                              &   2                                  \\\\\n",
       "\t 2                                     & Albury                                & Attempted murder                      &   1                                  \\\\\n",
       "\t 3                                     & Albury                                & Murder accessory, conspiracy          &   0                                  \\\\\n",
       "\t 4                                     & Albury                                & Manslaughter *                        &   0                                  \\\\\n",
       "\t 5                                     & Albury                                & Domestic violence related assault     & 284                                  \\\\\n",
       "\t 6                                     & Albury                                & Non-domestic violence related assault & 296                                  \\\\\n",
       "\\end{tabular}\n"
      ],
      "text/markdown": [
       "\n",
       "| X1 | LGA | Offence | Crim_Count |\n",
       "|---|---|---|---|\n",
       "| 1                                     | Albury                                | Murder *                              |   2                                   |\n",
       "| 2                                     | Albury                                | Attempted murder                      |   1                                   |\n",
       "| 3                                     | Albury                                | Murder accessory, conspiracy          |   0                                   |\n",
       "| 4                                     | Albury                                | Manslaughter *                        |   0                                   |\n",
       "| 5                                     | Albury                                | Domestic violence related assault     | 284                                   |\n",
       "| 6                                     | Albury                                | Non-domestic violence related assault | 296                                   |\n",
       "\n"
      ],
      "text/plain": [
       "  X1 LGA    Offence                               Crim_Count\n",
       "1 1  Albury Murder *                                2       \n",
       "2 2  Albury Attempted murder                        1       \n",
       "3 3  Albury Murder accessory, conspiracy            0       \n",
       "4 4  Albury Manslaughter *                          0       \n",
       "5 5  Albury Domestic violence related assault     284       \n",
       "6 6  Albury Non-domestic violence related assault 296       "
      ]
     },
     "metadata": {},
     "output_type": "display_data"
    },
    {
     "data": {
      "text/html": [
       "<table>\n",
       "<thead><tr><th scope=col>X1</th><th scope=col>LGA</th><th scope=col>Pop_Dens_km2</th></tr></thead>\n",
       "<tbody>\n",
       "\t<tr><td>1                </td><td>Albury           </td><td>170.5            </td></tr>\n",
       "\t<tr><td>2                </td><td>Armidale Regional</td><td>  3.5            </td></tr>\n",
       "\t<tr><td>3                </td><td>Ballina          </td><td> 88.7            </td></tr>\n",
       "\t<tr><td>4                </td><td>Balranald        </td><td>  0.1            </td></tr>\n",
       "\t<tr><td>5                </td><td>Bathurst Regional</td><td> 11.1            </td></tr>\n",
       "\t<tr><td>6                </td><td>Bega Valley      </td><td>  5.4            </td></tr>\n",
       "</tbody>\n",
       "</table>\n"
      ],
      "text/latex": [
       "\\begin{tabular}{r|lll}\n",
       " X1 & LGA & Pop\\_Dens\\_km2\\\\\n",
       "\\hline\n",
       "\t 1                 & Albury            & 170.5            \\\\\n",
       "\t 2                 & Armidale Regional &   3.5            \\\\\n",
       "\t 3                 & Ballina           &  88.7            \\\\\n",
       "\t 4                 & Balranald         &   0.1            \\\\\n",
       "\t 5                 & Bathurst Regional &  11.1            \\\\\n",
       "\t 6                 & Bega Valley       &   5.4            \\\\\n",
       "\\end{tabular}\n"
      ],
      "text/markdown": [
       "\n",
       "| X1 | LGA | Pop_Dens_km2 |\n",
       "|---|---|---|\n",
       "| 1                 | Albury            | 170.5             |\n",
       "| 2                 | Armidale Regional |   3.5             |\n",
       "| 3                 | Ballina           |  88.7             |\n",
       "| 4                 | Balranald         |   0.1             |\n",
       "| 5                 | Bathurst Regional |  11.1             |\n",
       "| 6                 | Bega Valley       |   5.4             |\n",
       "\n"
      ],
      "text/plain": [
       "  X1 LGA               Pop_Dens_km2\n",
       "1 1  Albury            170.5       \n",
       "2 2  Armidale Regional   3.5       \n",
       "3 3  Ballina            88.7       \n",
       "4 4  Balranald           0.1       \n",
       "5 5  Bathurst Regional  11.1       \n",
       "6 6  Bega Valley         5.4       "
      ]
     },
     "metadata": {},
     "output_type": "display_data"
    }
   ],
   "source": [
    "head(input_data$crime)\n",
    "head(input_data$pop_dens)"
   ]
  },
  {
   "cell_type": "code",
   "execution_count": 161,
   "metadata": {},
   "outputs": [
    {
     "name": "stderr",
     "output_type": "stream",
     "text": [
      "Joining, by = \"LGA\"\n",
      "Warning message:\n",
      "\"Column `LGA` joining factors with different levels, coercing to character vector\""
     ]
    },
    {
     "data": {
      "text/html": [
       "<table>\n",
       "<thead><tr><th scope=col>LGA</th><th scope=col>Offence</th><th scope=col>Crim_Count</th><th scope=col>Pop_Dens_km2</th></tr></thead>\n",
       "<tbody>\n",
       "\t<tr><td>Albury                               </td><td>Murder *                             </td><td>  2                                  </td><td>170.5                                </td></tr>\n",
       "\t<tr><td>Albury                               </td><td>Attempted murder                     </td><td>  1                                  </td><td>170.5                                </td></tr>\n",
       "\t<tr><td>Albury                               </td><td>Murder accessory, conspiracy         </td><td>  0                                  </td><td>170.5                                </td></tr>\n",
       "\t<tr><td>Albury                               </td><td>Manslaughter *                       </td><td>  0                                  </td><td>170.5                                </td></tr>\n",
       "\t<tr><td>Albury                               </td><td>Domestic violence related assault    </td><td>284                                  </td><td>170.5                                </td></tr>\n",
       "\t<tr><td>Albury                               </td><td>Non-domestic violence related assault</td><td>296                                  </td><td>170.5                                </td></tr>\n",
       "</tbody>\n",
       "</table>\n"
      ],
      "text/latex": [
       "\\begin{tabular}{r|llll}\n",
       " LGA & Offence & Crim\\_Count & Pop\\_Dens\\_km2\\\\\n",
       "\\hline\n",
       "\t Albury                                & Murder *                              &   2                                   & 170.5                                \\\\\n",
       "\t Albury                                & Attempted murder                      &   1                                   & 170.5                                \\\\\n",
       "\t Albury                                & Murder accessory, conspiracy          &   0                                   & 170.5                                \\\\\n",
       "\t Albury                                & Manslaughter *                        &   0                                   & 170.5                                \\\\\n",
       "\t Albury                                & Domestic violence related assault     & 284                                   & 170.5                                \\\\\n",
       "\t Albury                                & Non-domestic violence related assault & 296                                   & 170.5                                \\\\\n",
       "\\end{tabular}\n"
      ],
      "text/markdown": [
       "\n",
       "| LGA | Offence | Crim_Count | Pop_Dens_km2 |\n",
       "|---|---|---|---|\n",
       "| Albury                                | Murder *                              |   2                                   | 170.5                                 |\n",
       "| Albury                                | Attempted murder                      |   1                                   | 170.5                                 |\n",
       "| Albury                                | Murder accessory, conspiracy          |   0                                   | 170.5                                 |\n",
       "| Albury                                | Manslaughter *                        |   0                                   | 170.5                                 |\n",
       "| Albury                                | Domestic violence related assault     | 284                                   | 170.5                                 |\n",
       "| Albury                                | Non-domestic violence related assault | 296                                   | 170.5                                 |\n",
       "\n"
      ],
      "text/plain": [
       "  LGA    Offence                               Crim_Count Pop_Dens_km2\n",
       "1 Albury Murder *                                2        170.5       \n",
       "2 Albury Attempted murder                        1        170.5       \n",
       "3 Albury Murder accessory, conspiracy            0        170.5       \n",
       "4 Albury Manslaughter *                          0        170.5       \n",
       "5 Albury Domestic violence related assault     284        170.5       \n",
       "6 Albury Non-domestic violence related assault 296        170.5       "
      ]
     },
     "metadata": {},
     "output_type": "display_data"
    },
    {
     "name": "stdout",
     "output_type": "stream",
     "text": [
      "Observations: 8,060\n",
      "Variables: 4\n",
      "$ LGA          \u001b[3m\u001b[90m<chr>\u001b[39m\u001b[23m \"Albury\", \"Albury\", \"Albury\", \"Albury\", \"Albury\", \"Alb...\n",
      "$ Offence      \u001b[3m\u001b[90m<fct>\u001b[39m\u001b[23m \"Murder *\", \"Attempted murder\", \"Murder accessory, con...\n",
      "$ Crim_Count   \u001b[3m\u001b[90m<int>\u001b[39m\u001b[23m 2, 1, 0, 0, 284, 296, 25, 47, 68, 2, 12, 3, 6, 0, 315,...\n",
      "$ Pop_Dens_km2 \u001b[3m\u001b[90m<dbl>\u001b[39m\u001b[23m 170.5, 170.5, 170.5, 170.5, 170.5, 170.5, 170.5, 170.5...\n"
     ]
    }
   ],
   "source": [
    "joined <- input_data$crime %>%\n",
    "    select(-X1) %>%\n",
    "    left_join(input_data$pop_dens %>% select(-X1))\n",
    "\n",
    "head(joined)\n",
    "glimpse(joined)"
   ]
  },
  {
   "cell_type": "code",
   "execution_count": 162,
   "metadata": {},
   "outputs": [],
   "source": [
    "out_filename = \"joined_crime_popdensity.csv\"\n",
    "write.csv(joined, paste(output_path, out_filename, sep = \"/\"), row.names = FALSE)"
   ]
  },
  {
   "cell_type": "markdown",
   "metadata": {},
   "source": [
    "# Joining `crime` and `seifa`"
   ]
  },
  {
   "cell_type": "code",
   "execution_count": 163,
   "metadata": {},
   "outputs": [
    {
     "data": {
      "text/html": [
       "<table>\n",
       "<thead><tr><th scope=col>X1</th><th scope=col>LGA</th><th scope=col>Offence</th><th scope=col>Crim_Count</th></tr></thead>\n",
       "<tbody>\n",
       "\t<tr><td>1                                    </td><td>Albury                               </td><td>Murder *                             </td><td>  2                                  </td></tr>\n",
       "\t<tr><td>2                                    </td><td>Albury                               </td><td>Attempted murder                     </td><td>  1                                  </td></tr>\n",
       "\t<tr><td>3                                    </td><td>Albury                               </td><td>Murder accessory, conspiracy         </td><td>  0                                  </td></tr>\n",
       "\t<tr><td>4                                    </td><td>Albury                               </td><td>Manslaughter *                       </td><td>  0                                  </td></tr>\n",
       "\t<tr><td>5                                    </td><td>Albury                               </td><td>Domestic violence related assault    </td><td>284                                  </td></tr>\n",
       "\t<tr><td>6                                    </td><td>Albury                               </td><td>Non-domestic violence related assault</td><td>296                                  </td></tr>\n",
       "</tbody>\n",
       "</table>\n"
      ],
      "text/latex": [
       "\\begin{tabular}{r|llll}\n",
       " X1 & LGA & Offence & Crim\\_Count\\\\\n",
       "\\hline\n",
       "\t 1                                     & Albury                                & Murder *                              &   2                                  \\\\\n",
       "\t 2                                     & Albury                                & Attempted murder                      &   1                                  \\\\\n",
       "\t 3                                     & Albury                                & Murder accessory, conspiracy          &   0                                  \\\\\n",
       "\t 4                                     & Albury                                & Manslaughter *                        &   0                                  \\\\\n",
       "\t 5                                     & Albury                                & Domestic violence related assault     & 284                                  \\\\\n",
       "\t 6                                     & Albury                                & Non-domestic violence related assault & 296                                  \\\\\n",
       "\\end{tabular}\n"
      ],
      "text/markdown": [
       "\n",
       "| X1 | LGA | Offence | Crim_Count |\n",
       "|---|---|---|---|\n",
       "| 1                                     | Albury                                | Murder *                              |   2                                   |\n",
       "| 2                                     | Albury                                | Attempted murder                      |   1                                   |\n",
       "| 3                                     | Albury                                | Murder accessory, conspiracy          |   0                                   |\n",
       "| 4                                     | Albury                                | Manslaughter *                        |   0                                   |\n",
       "| 5                                     | Albury                                | Domestic violence related assault     | 284                                   |\n",
       "| 6                                     | Albury                                | Non-domestic violence related assault | 296                                   |\n",
       "\n"
      ],
      "text/plain": [
       "  X1 LGA    Offence                               Crim_Count\n",
       "1 1  Albury Murder *                                2       \n",
       "2 2  Albury Attempted murder                        1       \n",
       "3 3  Albury Murder accessory, conspiracy            0       \n",
       "4 4  Albury Manslaughter *                          0       \n",
       "5 5  Albury Domestic violence related assault     284       \n",
       "6 6  Albury Non-domestic violence related assault 296       "
      ]
     },
     "metadata": {},
     "output_type": "display_data"
    },
    {
     "data": {
      "text/html": [
       "<table>\n",
       "<thead><tr><th scope=col>X1</th><th scope=col>LGA</th><th scope=col>Value</th></tr></thead>\n",
       "<tbody>\n",
       "\t<tr><td>1                </td><td>Albury           </td><td>964              </td></tr>\n",
       "\t<tr><td>2                </td><td>Armidale Dumaresq</td><td>954              </td></tr>\n",
       "\t<tr><td>3                </td><td>Ashfield         </td><td>962              </td></tr>\n",
       "\t<tr><td>4                </td><td>Auburn           </td><td>931              </td></tr>\n",
       "\t<tr><td>5                </td><td>Ballina          </td><td>986              </td></tr>\n",
       "\t<tr><td>6                </td><td>Balranald        </td><td>969              </td></tr>\n",
       "</tbody>\n",
       "</table>\n"
      ],
      "text/latex": [
       "\\begin{tabular}{r|lll}\n",
       " X1 & LGA & Value\\\\\n",
       "\\hline\n",
       "\t 1                 & Albury            & 964              \\\\\n",
       "\t 2                 & Armidale Dumaresq & 954              \\\\\n",
       "\t 3                 & Ashfield          & 962              \\\\\n",
       "\t 4                 & Auburn            & 931              \\\\\n",
       "\t 5                 & Ballina           & 986              \\\\\n",
       "\t 6                 & Balranald         & 969              \\\\\n",
       "\\end{tabular}\n"
      ],
      "text/markdown": [
       "\n",
       "| X1 | LGA | Value |\n",
       "|---|---|---|\n",
       "| 1                 | Albury            | 964               |\n",
       "| 2                 | Armidale Dumaresq | 954               |\n",
       "| 3                 | Ashfield          | 962               |\n",
       "| 4                 | Auburn            | 931               |\n",
       "| 5                 | Ballina           | 986               |\n",
       "| 6                 | Balranald         | 969               |\n",
       "\n"
      ],
      "text/plain": [
       "  X1 LGA               Value\n",
       "1 1  Albury            964  \n",
       "2 2  Armidale Dumaresq 954  \n",
       "3 3  Ashfield          962  \n",
       "4 4  Auburn            931  \n",
       "5 5  Ballina           986  \n",
       "6 6  Balranald         969  "
      ]
     },
     "metadata": {},
     "output_type": "display_data"
    }
   ],
   "source": [
    "head(input_data$crime)\n",
    "head(input_data$seifa)"
   ]
  },
  {
   "cell_type": "code",
   "execution_count": 164,
   "metadata": {},
   "outputs": [
    {
     "name": "stderr",
     "output_type": "stream",
     "text": [
      "Joining, by = \"LGA\"\n",
      "Warning message:\n",
      "\"Column `LGA` joining factors with different levels, coercing to character vector\""
     ]
    },
    {
     "data": {
      "text/html": [
       "<table>\n",
       "<thead><tr><th scope=col>LGA</th><th scope=col>Offence</th><th scope=col>Crim_Count</th><th scope=col>seifa</th></tr></thead>\n",
       "<tbody>\n",
       "\t<tr><td>Albury                               </td><td>Murder *                             </td><td>  2                                  </td><td>964                                  </td></tr>\n",
       "\t<tr><td>Albury                               </td><td>Attempted murder                     </td><td>  1                                  </td><td>964                                  </td></tr>\n",
       "\t<tr><td>Albury                               </td><td>Murder accessory, conspiracy         </td><td>  0                                  </td><td>964                                  </td></tr>\n",
       "\t<tr><td>Albury                               </td><td>Manslaughter *                       </td><td>  0                                  </td><td>964                                  </td></tr>\n",
       "\t<tr><td>Albury                               </td><td>Domestic violence related assault    </td><td>284                                  </td><td>964                                  </td></tr>\n",
       "\t<tr><td>Albury                               </td><td>Non-domestic violence related assault</td><td>296                                  </td><td>964                                  </td></tr>\n",
       "</tbody>\n",
       "</table>\n"
      ],
      "text/latex": [
       "\\begin{tabular}{r|llll}\n",
       " LGA & Offence & Crim\\_Count & seifa\\\\\n",
       "\\hline\n",
       "\t Albury                                & Murder *                              &   2                                   & 964                                  \\\\\n",
       "\t Albury                                & Attempted murder                      &   1                                   & 964                                  \\\\\n",
       "\t Albury                                & Murder accessory, conspiracy          &   0                                   & 964                                  \\\\\n",
       "\t Albury                                & Manslaughter *                        &   0                                   & 964                                  \\\\\n",
       "\t Albury                                & Domestic violence related assault     & 284                                   & 964                                  \\\\\n",
       "\t Albury                                & Non-domestic violence related assault & 296                                   & 964                                  \\\\\n",
       "\\end{tabular}\n"
      ],
      "text/markdown": [
       "\n",
       "| LGA | Offence | Crim_Count | seifa |\n",
       "|---|---|---|---|\n",
       "| Albury                                | Murder *                              |   2                                   | 964                                   |\n",
       "| Albury                                | Attempted murder                      |   1                                   | 964                                   |\n",
       "| Albury                                | Murder accessory, conspiracy          |   0                                   | 964                                   |\n",
       "| Albury                                | Manslaughter *                        |   0                                   | 964                                   |\n",
       "| Albury                                | Domestic violence related assault     | 284                                   | 964                                   |\n",
       "| Albury                                | Non-domestic violence related assault | 296                                   | 964                                   |\n",
       "\n"
      ],
      "text/plain": [
       "  LGA    Offence                               Crim_Count seifa\n",
       "1 Albury Murder *                                2        964  \n",
       "2 Albury Attempted murder                        1        964  \n",
       "3 Albury Murder accessory, conspiracy            0        964  \n",
       "4 Albury Manslaughter *                          0        964  \n",
       "5 Albury Domestic violence related assault     284        964  \n",
       "6 Albury Non-domestic violence related assault 296        964  "
      ]
     },
     "metadata": {},
     "output_type": "display_data"
    },
    {
     "name": "stdout",
     "output_type": "stream",
     "text": [
      "Observations: 8,122\n",
      "Variables: 4\n",
      "$ LGA        \u001b[3m\u001b[90m<chr>\u001b[39m\u001b[23m \"Albury\", \"Albury\", \"Albury\", \"Albury\", \"Albury\", \"Albur...\n",
      "$ Offence    \u001b[3m\u001b[90m<fct>\u001b[39m\u001b[23m \"Murder *\", \"Attempted murder\", \"Murder accessory, consp...\n",
      "$ Crim_Count \u001b[3m\u001b[90m<int>\u001b[39m\u001b[23m 2, 1, 0, 0, 284, 296, 25, 47, 68, 2, 12, 3, 6, 0, 315, 1...\n",
      "$ seifa      \u001b[3m\u001b[90m<int>\u001b[39m\u001b[23m 964, 964, 964, 964, 964, 964, 964, 964, 964, 964, 964, 9...\n"
     ]
    }
   ],
   "source": [
    "joined <- input_data$crime %>%\n",
    "    select(-X1) %>%\n",
    "    left_join(input_data$seifa %>% select(-X1)) %>%\n",
    "    rename(seifa = Value)\n",
    "\n",
    "head(joined)\n",
    "glimpse(joined)"
   ]
  },
  {
   "cell_type": "code",
   "execution_count": 165,
   "metadata": {},
   "outputs": [],
   "source": [
    "out_filename = \"joined_crime_seifa.csv\"\n",
    "write.csv(joined, paste(output_path, out_filename, sep = \"/\"), row.names = FALSE)"
   ]
  },
  {
   "cell_type": "markdown",
   "metadata": {},
   "source": [
    "# Joining `crime` and `transport`"
   ]
  },
  {
   "cell_type": "code",
   "execution_count": 166,
   "metadata": {},
   "outputs": [
    {
     "data": {
      "text/html": [
       "<table>\n",
       "<thead><tr><th scope=col>X1</th><th scope=col>LGA</th><th scope=col>Offence</th><th scope=col>Crim_Count</th></tr></thead>\n",
       "<tbody>\n",
       "\t<tr><td>1                                    </td><td>Albury                               </td><td>Murder *                             </td><td>  2                                  </td></tr>\n",
       "\t<tr><td>2                                    </td><td>Albury                               </td><td>Attempted murder                     </td><td>  1                                  </td></tr>\n",
       "\t<tr><td>3                                    </td><td>Albury                               </td><td>Murder accessory, conspiracy         </td><td>  0                                  </td></tr>\n",
       "\t<tr><td>4                                    </td><td>Albury                               </td><td>Manslaughter *                       </td><td>  0                                  </td></tr>\n",
       "\t<tr><td>5                                    </td><td>Albury                               </td><td>Domestic violence related assault    </td><td>284                                  </td></tr>\n",
       "\t<tr><td>6                                    </td><td>Albury                               </td><td>Non-domestic violence related assault</td><td>296                                  </td></tr>\n",
       "</tbody>\n",
       "</table>\n"
      ],
      "text/latex": [
       "\\begin{tabular}{r|llll}\n",
       " X1 & LGA & Offence & Crim\\_Count\\\\\n",
       "\\hline\n",
       "\t 1                                     & Albury                                & Murder *                              &   2                                  \\\\\n",
       "\t 2                                     & Albury                                & Attempted murder                      &   1                                  \\\\\n",
       "\t 3                                     & Albury                                & Murder accessory, conspiracy          &   0                                  \\\\\n",
       "\t 4                                     & Albury                                & Manslaughter *                        &   0                                  \\\\\n",
       "\t 5                                     & Albury                                & Domestic violence related assault     & 284                                  \\\\\n",
       "\t 6                                     & Albury                                & Non-domestic violence related assault & 296                                  \\\\\n",
       "\\end{tabular}\n"
      ],
      "text/markdown": [
       "\n",
       "| X1 | LGA | Offence | Crim_Count |\n",
       "|---|---|---|---|\n",
       "| 1                                     | Albury                                | Murder *                              |   2                                   |\n",
       "| 2                                     | Albury                                | Attempted murder                      |   1                                   |\n",
       "| 3                                     | Albury                                | Murder accessory, conspiracy          |   0                                   |\n",
       "| 4                                     | Albury                                | Manslaughter *                        |   0                                   |\n",
       "| 5                                     | Albury                                | Domestic violence related assault     | 284                                   |\n",
       "| 6                                     | Albury                                | Non-domestic violence related assault | 296                                   |\n",
       "\n"
      ],
      "text/plain": [
       "  X1 LGA    Offence                               Crim_Count\n",
       "1 1  Albury Murder *                                2       \n",
       "2 2  Albury Attempted murder                        1       \n",
       "3 3  Albury Murder accessory, conspiracy            0       \n",
       "4 4  Albury Manslaughter *                          0       \n",
       "5 5  Albury Domestic violence related assault     284       \n",
       "6 6  Albury Non-domestic violence related assault 296       "
      ]
     },
     "metadata": {},
     "output_type": "display_data"
    },
    {
     "data": {
      "text/html": [
       "<table>\n",
       "<thead><tr><th scope=col>LGA</th><th scope=col>route_type</th><th scope=col>num_service</th></tr></thead>\n",
       "<tbody>\n",
       "\t<tr><td>Albury           </td><td>106              </td><td> 131             </td></tr>\n",
       "\t<tr><td>Albury           </td><td>204              </td><td>  14             </td></tr>\n",
       "\t<tr><td>Albury           </td><td>700              </td><td>1624             </td></tr>\n",
       "\t<tr><td>Armidale Regional</td><td>106              </td><td>  62             </td></tr>\n",
       "\t<tr><td>Armidale Regional</td><td>204              </td><td>  10             </td></tr>\n",
       "\t<tr><td>Armidale Regional</td><td>700              </td><td> 113             </td></tr>\n",
       "</tbody>\n",
       "</table>\n"
      ],
      "text/latex": [
       "\\begin{tabular}{r|lll}\n",
       " LGA & route\\_type & num\\_service\\\\\n",
       "\\hline\n",
       "\t Albury            & 106               &  131             \\\\\n",
       "\t Albury            & 204               &   14             \\\\\n",
       "\t Albury            & 700               & 1624             \\\\\n",
       "\t Armidale Regional & 106               &   62             \\\\\n",
       "\t Armidale Regional & 204               &   10             \\\\\n",
       "\t Armidale Regional & 700               &  113             \\\\\n",
       "\\end{tabular}\n"
      ],
      "text/markdown": [
       "\n",
       "| LGA | route_type | num_service |\n",
       "|---|---|---|\n",
       "| Albury            | 106               |  131              |\n",
       "| Albury            | 204               |   14              |\n",
       "| Albury            | 700               | 1624              |\n",
       "| Armidale Regional | 106               |   62              |\n",
       "| Armidale Regional | 204               |   10              |\n",
       "| Armidale Regional | 700               |  113              |\n",
       "\n"
      ],
      "text/plain": [
       "  LGA               route_type num_service\n",
       "1 Albury            106         131       \n",
       "2 Albury            204          14       \n",
       "3 Albury            700        1624       \n",
       "4 Armidale Regional 106          62       \n",
       "5 Armidale Regional 204          10       \n",
       "6 Armidale Regional 700         113       "
      ]
     },
     "metadata": {},
     "output_type": "display_data"
    }
   ],
   "source": [
    "head(input_data$crime)\n",
    "head(input_data$transport)"
   ]
  },
  {
   "cell_type": "code",
   "execution_count": 168,
   "metadata": {},
   "outputs": [
    {
     "name": "stderr",
     "output_type": "stream",
     "text": [
      "Joining, by = \"LGA\"\n",
      "Warning message:\n",
      "\"Column `LGA` joining factors with different levels, coercing to character vector\""
     ]
    },
    {
     "data": {
      "text/html": [
       "<table>\n",
       "<thead><tr><th scope=col>LGA</th><th scope=col>Offence</th><th scope=col>Crim_Count</th><th scope=col>route_type</th><th scope=col>num_service</th></tr></thead>\n",
       "<tbody>\n",
       "\t<tr><td>Albury          </td><td>Murder *        </td><td>2               </td><td>106             </td><td> 131            </td></tr>\n",
       "\t<tr><td>Albury          </td><td>Murder *        </td><td>2               </td><td>204             </td><td>  14            </td></tr>\n",
       "\t<tr><td>Albury          </td><td>Murder *        </td><td>2               </td><td>700             </td><td>1624            </td></tr>\n",
       "\t<tr><td>Albury          </td><td>Attempted murder</td><td>1               </td><td>106             </td><td> 131            </td></tr>\n",
       "\t<tr><td>Albury          </td><td>Attempted murder</td><td>1               </td><td>204             </td><td>  14            </td></tr>\n",
       "\t<tr><td>Albury          </td><td>Attempted murder</td><td>1               </td><td>700             </td><td>1624            </td></tr>\n",
       "</tbody>\n",
       "</table>\n"
      ],
      "text/latex": [
       "\\begin{tabular}{r|lllll}\n",
       " LGA & Offence & Crim\\_Count & route\\_type & num\\_service\\\\\n",
       "\\hline\n",
       "\t Albury           & Murder *         & 2                & 106              &  131            \\\\\n",
       "\t Albury           & Murder *         & 2                & 204              &   14            \\\\\n",
       "\t Albury           & Murder *         & 2                & 700              & 1624            \\\\\n",
       "\t Albury           & Attempted murder & 1                & 106              &  131            \\\\\n",
       "\t Albury           & Attempted murder & 1                & 204              &   14            \\\\\n",
       "\t Albury           & Attempted murder & 1                & 700              & 1624            \\\\\n",
       "\\end{tabular}\n"
      ],
      "text/markdown": [
       "\n",
       "| LGA | Offence | Crim_Count | route_type | num_service |\n",
       "|---|---|---|---|---|\n",
       "| Albury           | Murder *         | 2                | 106              |  131             |\n",
       "| Albury           | Murder *         | 2                | 204              |   14             |\n",
       "| Albury           | Murder *         | 2                | 700              | 1624             |\n",
       "| Albury           | Attempted murder | 1                | 106              |  131             |\n",
       "| Albury           | Attempted murder | 1                | 204              |   14             |\n",
       "| Albury           | Attempted murder | 1                | 700              | 1624             |\n",
       "\n"
      ],
      "text/plain": [
       "  LGA    Offence          Crim_Count route_type num_service\n",
       "1 Albury Murder *         2          106         131       \n",
       "2 Albury Murder *         2          204          14       \n",
       "3 Albury Murder *         2          700        1624       \n",
       "4 Albury Attempted murder 1          106         131       \n",
       "5 Albury Attempted murder 1          204          14       \n",
       "6 Albury Attempted murder 1          700        1624       "
      ]
     },
     "metadata": {},
     "output_type": "display_data"
    },
    {
     "name": "stdout",
     "output_type": "stream",
     "text": [
      "Observations: 22,010\n",
      "Variables: 5\n",
      "$ LGA         \u001b[3m\u001b[90m<chr>\u001b[39m\u001b[23m \"Albury\", \"Albury\", \"Albury\", \"Albury\", \"Albury\", \"Albu...\n",
      "$ Offence     \u001b[3m\u001b[90m<fct>\u001b[39m\u001b[23m \"Murder *\", \"Murder *\", \"Murder *\", \"Attempted murder\",...\n",
      "$ Crim_Count  \u001b[3m\u001b[90m<int>\u001b[39m\u001b[23m 2, 2, 2, 1, 1, 1, 0, 0, 0, 0, 0, 0, 284, 284, 284, 296,...\n",
      "$ route_type  \u001b[3m\u001b[90m<fct>\u001b[39m\u001b[23m 106, 204, 700, 106, 204, 700, 106, 204, 700, 106, 204, ...\n",
      "$ num_service \u001b[3m\u001b[90m<dbl>\u001b[39m\u001b[23m 131, 14, 1624, 131, 14, 1624, 131, 14, 1624, 131, 14, 1...\n"
     ]
    }
   ],
   "source": [
    "joined <- input_data$crime %>%\n",
    "    select(-X1) %>%\n",
    "    left_join(input_data$transport)\n",
    "\n",
    "head(joined)\n",
    "glimpse(joined)"
   ]
  },
  {
   "cell_type": "code",
   "execution_count": 169,
   "metadata": {},
   "outputs": [],
   "source": [
    "out_filename = \"joined_crime_transport.csv\"\n",
    "write.csv(joined, paste(output_path, out_filename, sep = \"/\"), row.names = FALSE)"
   ]
  },
  {
   "cell_type": "markdown",
   "metadata": {},
   "source": [
    "# Create Aggregated Data Set"
   ]
  },
  {
   "cell_type": "markdown",
   "metadata": {},
   "source": [
    "In order to have all the variables in one data set, eat data set has to be aggregated at the LGA level. This means losing information on `age` and `sex` etc."
   ]
  },
  {
   "cell_type": "code",
   "execution_count": 182,
   "metadata": {},
   "outputs": [
    {
     "data": {
      "text/html": [
       "<dl>\n",
       "\t<dt>$age</dt>\n",
       "\t\t<dd><table>\n",
       "<thead><tr><th scope=col>Age</th><th scope=col>Sex</th><th scope=col>Labour force status</th><th scope=col>State</th><th scope=col>LGA_2016</th><th scope=col>LGA</th><th scope=col>Census year</th><th scope=col>Value</th></tr></thead>\n",
       "<tbody>\n",
       "\t<tr><td>15 - 19                   </td><td>Males                     </td><td>Employed, worked full-time</td><td>New South Wales           </td><td>10050                     </td><td>Albury                    </td><td>2016                      </td><td>236                       </td></tr>\n",
       "\t<tr><td>15 - 19                   </td><td>Females                   </td><td>Employed, worked full-time</td><td>New South Wales           </td><td>10050                     </td><td>Albury                    </td><td>2016                      </td><td>113                       </td></tr>\n",
       "\t<tr><td>15 - 19                   </td><td>Persons                   </td><td>Employed, worked full-time</td><td>New South Wales           </td><td>10050                     </td><td>Albury                    </td><td>2016                      </td><td>348                       </td></tr>\n",
       "\t<tr><td>15 - 19                   </td><td>Males                     </td><td>Employed, worked full-time</td><td>New South Wales           </td><td>10130                     </td><td>Armidale Regional         </td><td>2016                      </td><td>105                       </td></tr>\n",
       "\t<tr><td>15 - 19                   </td><td>Females                   </td><td>Employed, worked full-time</td><td>New South Wales           </td><td>10130                     </td><td>Armidale Regional         </td><td>2016                      </td><td> 58                       </td></tr>\n",
       "\t<tr><td>15 - 19                   </td><td>Persons                   </td><td>Employed, worked full-time</td><td>New South Wales           </td><td>10130                     </td><td>Armidale Regional         </td><td>2016                      </td><td>160                       </td></tr>\n",
       "</tbody>\n",
       "</table>\n",
       "</dd>\n",
       "\t<dt>$country_of_birth</dt>\n",
       "\t\t<dd><table>\n",
       "<thead><tr><th scope=col>birthplace_of_person</th><th scope=col>census_year</th><th scope=col>lga_2016</th><th scope=col>LGA</th><th scope=col>value</th><th scope=col>yarrp_2016</th><th scope=col>year_of_arrival_in_australia</th></tr></thead>\n",
       "<tbody>\n",
       "\t<tr><td>New Zealand        </td><td>2016               </td><td>10050              </td><td>Albury             </td><td>  7                </td><td>2                  </td><td>Arrived 1946 - 1955</td></tr>\n",
       "\t<tr><td>New Zealand        </td><td>2016               </td><td>10050              </td><td>Albury             </td><td> 22                </td><td>3                  </td><td>Arrived 1956 - 1965</td></tr>\n",
       "\t<tr><td>New Zealand        </td><td>2016               </td><td>10050              </td><td>Albury             </td><td> 63                </td><td>4                  </td><td>Arrived 1966 - 1975</td></tr>\n",
       "\t<tr><td>New Zealand        </td><td>2016               </td><td>10050              </td><td>Albury             </td><td>113                </td><td>5                  </td><td>Arrived 1976 - 1985</td></tr>\n",
       "\t<tr><td>New Zealand        </td><td>2016               </td><td>10050              </td><td>Albury             </td><td> 92                </td><td>6                  </td><td>Arrived 1986 - 1995</td></tr>\n",
       "\t<tr><td>New Zealand        </td><td>2016               </td><td>10050              </td><td>Albury             </td><td> 87                </td><td>7                  </td><td>Arrived 1996 - 2005</td></tr>\n",
       "</tbody>\n",
       "</table>\n",
       "</dd>\n",
       "\t<dt>$crime</dt>\n",
       "\t\t<dd><table>\n",
       "<thead><tr><th scope=col>X1</th><th scope=col>LGA</th><th scope=col>Offence</th><th scope=col>Crim_Count</th></tr></thead>\n",
       "<tbody>\n",
       "\t<tr><td>1                                    </td><td>Albury                               </td><td>Murder *                             </td><td>  2                                  </td></tr>\n",
       "\t<tr><td>2                                    </td><td>Albury                               </td><td>Attempted murder                     </td><td>  1                                  </td></tr>\n",
       "\t<tr><td>3                                    </td><td>Albury                               </td><td>Murder accessory, conspiracy         </td><td>  0                                  </td></tr>\n",
       "\t<tr><td>4                                    </td><td>Albury                               </td><td>Manslaughter *                       </td><td>  0                                  </td></tr>\n",
       "\t<tr><td>5                                    </td><td>Albury                               </td><td>Domestic violence related assault    </td><td>284                                  </td></tr>\n",
       "\t<tr><td>6                                    </td><td>Albury                               </td><td>Non-domestic violence related assault</td><td>296                                  </td></tr>\n",
       "</tbody>\n",
       "</table>\n",
       "</dd>\n",
       "\t<dt>$industry_employment</dt>\n",
       "\t\t<dd><table>\n",
       "<thead><tr><th scope=col>Age</th><th scope=col>Sex</th><th scope=col>Industry of Employment</th><th scope=col>LGA_2016</th><th scope=col>LGA</th><th scope=col>Census year</th><th scope=col>Value</th></tr></thead>\n",
       "<tbody>\n",
       "\t<tr><td>15 - 19                          </td><td>Males                            </td><td>Agriculture, Forestry and Fishing</td><td>10050                            </td><td>Albury                           </td><td>2016                             </td><td> 6                               </td></tr>\n",
       "\t<tr><td>15 - 19                          </td><td>Females                          </td><td>Agriculture, Forestry and Fishing</td><td>10050                            </td><td>Albury                           </td><td>2016                             </td><td> 4                               </td></tr>\n",
       "\t<tr><td>15 - 19                          </td><td>Persons                          </td><td>Agriculture, Forestry and Fishing</td><td>10050                            </td><td>Albury                           </td><td>2016                             </td><td> 6                               </td></tr>\n",
       "\t<tr><td>15 - 19                          </td><td>Males                            </td><td>Agriculture, Forestry and Fishing</td><td>10130                            </td><td>Armidale Regional                </td><td>2016                             </td><td>34                               </td></tr>\n",
       "\t<tr><td>15 - 19                          </td><td>Females                          </td><td>Agriculture, Forestry and Fishing</td><td>10130                            </td><td>Armidale Regional                </td><td>2016                             </td><td> 9                               </td></tr>\n",
       "\t<tr><td>15 - 19                          </td><td>Persons                          </td><td>Agriculture, Forestry and Fishing</td><td>10130                            </td><td>Armidale Regional                </td><td>2016                             </td><td>43                               </td></tr>\n",
       "</tbody>\n",
       "</table>\n",
       "</dd>\n",
       "\t<dt>$labour</dt>\n",
       "\t\t<dd><table>\n",
       "<thead><tr><th scope=col>Age</th><th scope=col>Sex</th><th scope=col>Labour force status</th><th scope=col>LGA_2016</th><th scope=col>LGA</th><th scope=col>Census year</th><th scope=col>Value</th></tr></thead>\n",
       "<tbody>\n",
       "\t<tr><td>15 - 19                   </td><td>Males                     </td><td>Employed, worked full-time</td><td>10050                     </td><td>Albury                    </td><td>2016                      </td><td>236                       </td></tr>\n",
       "\t<tr><td>15 - 19                   </td><td>Females                   </td><td>Employed, worked full-time</td><td>10050                     </td><td>Albury                    </td><td>2016                      </td><td>113                       </td></tr>\n",
       "\t<tr><td>15 - 19                   </td><td>Persons                   </td><td>Employed, worked full-time</td><td>10050                     </td><td>Albury                    </td><td>2016                      </td><td>348                       </td></tr>\n",
       "\t<tr><td>15 - 19                   </td><td>Males                     </td><td>Employed, worked full-time</td><td>10130                     </td><td>Armidale Regional         </td><td>2016                      </td><td>105                       </td></tr>\n",
       "\t<tr><td>15 - 19                   </td><td>Females                   </td><td>Employed, worked full-time</td><td>10130                     </td><td>Armidale Regional         </td><td>2016                      </td><td> 58                       </td></tr>\n",
       "\t<tr><td>15 - 19                   </td><td>Persons                   </td><td>Employed, worked full-time</td><td>10130                     </td><td>Armidale Regional         </td><td>2016                      </td><td>160                       </td></tr>\n",
       "</tbody>\n",
       "</table>\n",
       "</dd>\n",
       "\t<dt>$pop_dens</dt>\n",
       "\t\t<dd><table>\n",
       "<thead><tr><th scope=col>X1</th><th scope=col>LGA</th><th scope=col>Pop_Dens_km2</th></tr></thead>\n",
       "<tbody>\n",
       "\t<tr><td>1                </td><td>Albury           </td><td>170.5            </td></tr>\n",
       "\t<tr><td>2                </td><td>Armidale Regional</td><td>  3.5            </td></tr>\n",
       "\t<tr><td>3                </td><td>Ballina          </td><td> 88.7            </td></tr>\n",
       "\t<tr><td>4                </td><td>Balranald        </td><td>  0.1            </td></tr>\n",
       "\t<tr><td>5                </td><td>Bathurst Regional</td><td> 11.1            </td></tr>\n",
       "\t<tr><td>6                </td><td>Bega Valley      </td><td>  5.4            </td></tr>\n",
       "</tbody>\n",
       "</table>\n",
       "</dd>\n",
       "\t<dt>$seifa</dt>\n",
       "\t\t<dd><table>\n",
       "<thead><tr><th scope=col>X1</th><th scope=col>LGA</th><th scope=col>Value</th></tr></thead>\n",
       "<tbody>\n",
       "\t<tr><td>1                </td><td>Albury           </td><td>964              </td></tr>\n",
       "\t<tr><td>2                </td><td>Armidale Dumaresq</td><td>954              </td></tr>\n",
       "\t<tr><td>3                </td><td>Ashfield         </td><td>962              </td></tr>\n",
       "\t<tr><td>4                </td><td>Auburn           </td><td>931              </td></tr>\n",
       "\t<tr><td>5                </td><td>Ballina          </td><td>986              </td></tr>\n",
       "\t<tr><td>6                </td><td>Balranald        </td><td>969              </td></tr>\n",
       "</tbody>\n",
       "</table>\n",
       "</dd>\n",
       "\t<dt>$transport</dt>\n",
       "\t\t<dd><table>\n",
       "<thead><tr><th scope=col>LGA</th><th scope=col>route_type</th><th scope=col>num_service</th></tr></thead>\n",
       "<tbody>\n",
       "\t<tr><td>Albury           </td><td>106              </td><td> 131             </td></tr>\n",
       "\t<tr><td>Albury           </td><td>204              </td><td>  14             </td></tr>\n",
       "\t<tr><td>Albury           </td><td>700              </td><td>1624             </td></tr>\n",
       "\t<tr><td>Armidale Regional</td><td>106              </td><td>  62             </td></tr>\n",
       "\t<tr><td>Armidale Regional</td><td>204              </td><td>  10             </td></tr>\n",
       "\t<tr><td>Armidale Regional</td><td>700              </td><td> 113             </td></tr>\n",
       "</tbody>\n",
       "</table>\n",
       "</dd>\n",
       "</dl>\n"
      ],
      "text/latex": [
       "\\begin{description}\n",
       "\\item[\\$age] \\begin{tabular}{r|llllllll}\n",
       " Age & Sex & Labour force status & State & LGA\\_2016 & LGA & Census year & Value\\\\\n",
       "\\hline\n",
       "\t 15 - 19                    & Males                      & Employed, worked full-time & New South Wales            & 10050                      & Albury                     & 2016                       & 236                       \\\\\n",
       "\t 15 - 19                    & Females                    & Employed, worked full-time & New South Wales            & 10050                      & Albury                     & 2016                       & 113                       \\\\\n",
       "\t 15 - 19                    & Persons                    & Employed, worked full-time & New South Wales            & 10050                      & Albury                     & 2016                       & 348                       \\\\\n",
       "\t 15 - 19                    & Males                      & Employed, worked full-time & New South Wales            & 10130                      & Armidale Regional          & 2016                       & 105                       \\\\\n",
       "\t 15 - 19                    & Females                    & Employed, worked full-time & New South Wales            & 10130                      & Armidale Regional          & 2016                       &  58                       \\\\\n",
       "\t 15 - 19                    & Persons                    & Employed, worked full-time & New South Wales            & 10130                      & Armidale Regional          & 2016                       & 160                       \\\\\n",
       "\\end{tabular}\n",
       "\n",
       "\\item[\\$country\\_of\\_birth] \\begin{tabular}{r|lllllll}\n",
       " birthplace\\_of\\_person & census\\_year & lga\\_2016 & LGA & value & yarrp\\_2016 & year\\_of\\_arrival\\_in\\_australia\\\\\n",
       "\\hline\n",
       "\t New Zealand         & 2016                & 10050               & Albury              &   7                 & 2                   & Arrived 1946 - 1955\\\\\n",
       "\t New Zealand         & 2016                & 10050               & Albury              &  22                 & 3                   & Arrived 1956 - 1965\\\\\n",
       "\t New Zealand         & 2016                & 10050               & Albury              &  63                 & 4                   & Arrived 1966 - 1975\\\\\n",
       "\t New Zealand         & 2016                & 10050               & Albury              & 113                 & 5                   & Arrived 1976 - 1985\\\\\n",
       "\t New Zealand         & 2016                & 10050               & Albury              &  92                 & 6                   & Arrived 1986 - 1995\\\\\n",
       "\t New Zealand         & 2016                & 10050               & Albury              &  87                 & 7                   & Arrived 1996 - 2005\\\\\n",
       "\\end{tabular}\n",
       "\n",
       "\\item[\\$crime] \\begin{tabular}{r|llll}\n",
       " X1 & LGA & Offence & Crim\\_Count\\\\\n",
       "\\hline\n",
       "\t 1                                     & Albury                                & Murder *                              &   2                                  \\\\\n",
       "\t 2                                     & Albury                                & Attempted murder                      &   1                                  \\\\\n",
       "\t 3                                     & Albury                                & Murder accessory, conspiracy          &   0                                  \\\\\n",
       "\t 4                                     & Albury                                & Manslaughter *                        &   0                                  \\\\\n",
       "\t 5                                     & Albury                                & Domestic violence related assault     & 284                                  \\\\\n",
       "\t 6                                     & Albury                                & Non-domestic violence related assault & 296                                  \\\\\n",
       "\\end{tabular}\n",
       "\n",
       "\\item[\\$industry\\_employment] \\begin{tabular}{r|lllllll}\n",
       " Age & Sex & Industry of Employment & LGA\\_2016 & LGA & Census year & Value\\\\\n",
       "\\hline\n",
       "\t 15 - 19                           & Males                             & Agriculture, Forestry and Fishing & 10050                             & Albury                            & 2016                              &  6                               \\\\\n",
       "\t 15 - 19                           & Females                           & Agriculture, Forestry and Fishing & 10050                             & Albury                            & 2016                              &  4                               \\\\\n",
       "\t 15 - 19                           & Persons                           & Agriculture, Forestry and Fishing & 10050                             & Albury                            & 2016                              &  6                               \\\\\n",
       "\t 15 - 19                           & Males                             & Agriculture, Forestry and Fishing & 10130                             & Armidale Regional                 & 2016                              & 34                               \\\\\n",
       "\t 15 - 19                           & Females                           & Agriculture, Forestry and Fishing & 10130                             & Armidale Regional                 & 2016                              &  9                               \\\\\n",
       "\t 15 - 19                           & Persons                           & Agriculture, Forestry and Fishing & 10130                             & Armidale Regional                 & 2016                              & 43                               \\\\\n",
       "\\end{tabular}\n",
       "\n",
       "\\item[\\$labour] \\begin{tabular}{r|lllllll}\n",
       " Age & Sex & Labour force status & LGA\\_2016 & LGA & Census year & Value\\\\\n",
       "\\hline\n",
       "\t 15 - 19                    & Males                      & Employed, worked full-time & 10050                      & Albury                     & 2016                       & 236                       \\\\\n",
       "\t 15 - 19                    & Females                    & Employed, worked full-time & 10050                      & Albury                     & 2016                       & 113                       \\\\\n",
       "\t 15 - 19                    & Persons                    & Employed, worked full-time & 10050                      & Albury                     & 2016                       & 348                       \\\\\n",
       "\t 15 - 19                    & Males                      & Employed, worked full-time & 10130                      & Armidale Regional          & 2016                       & 105                       \\\\\n",
       "\t 15 - 19                    & Females                    & Employed, worked full-time & 10130                      & Armidale Regional          & 2016                       &  58                       \\\\\n",
       "\t 15 - 19                    & Persons                    & Employed, worked full-time & 10130                      & Armidale Regional          & 2016                       & 160                       \\\\\n",
       "\\end{tabular}\n",
       "\n",
       "\\item[\\$pop\\_dens] \\begin{tabular}{r|lll}\n",
       " X1 & LGA & Pop\\_Dens\\_km2\\\\\n",
       "\\hline\n",
       "\t 1                 & Albury            & 170.5            \\\\\n",
       "\t 2                 & Armidale Regional &   3.5            \\\\\n",
       "\t 3                 & Ballina           &  88.7            \\\\\n",
       "\t 4                 & Balranald         &   0.1            \\\\\n",
       "\t 5                 & Bathurst Regional &  11.1            \\\\\n",
       "\t 6                 & Bega Valley       &   5.4            \\\\\n",
       "\\end{tabular}\n",
       "\n",
       "\\item[\\$seifa] \\begin{tabular}{r|lll}\n",
       " X1 & LGA & Value\\\\\n",
       "\\hline\n",
       "\t 1                 & Albury            & 964              \\\\\n",
       "\t 2                 & Armidale Dumaresq & 954              \\\\\n",
       "\t 3                 & Ashfield          & 962              \\\\\n",
       "\t 4                 & Auburn            & 931              \\\\\n",
       "\t 5                 & Ballina           & 986              \\\\\n",
       "\t 6                 & Balranald         & 969              \\\\\n",
       "\\end{tabular}\n",
       "\n",
       "\\item[\\$transport] \\begin{tabular}{r|lll}\n",
       " LGA & route\\_type & num\\_service\\\\\n",
       "\\hline\n",
       "\t Albury            & 106               &  131             \\\\\n",
       "\t Albury            & 204               &   14             \\\\\n",
       "\t Albury            & 700               & 1624             \\\\\n",
       "\t Armidale Regional & 106               &   62             \\\\\n",
       "\t Armidale Regional & 204               &   10             \\\\\n",
       "\t Armidale Regional & 700               &  113             \\\\\n",
       "\\end{tabular}\n",
       "\n",
       "\\end{description}\n"
      ],
      "text/markdown": [
       "$age\n",
       ":   \n",
       "| Age | Sex | Labour force status | State | LGA_2016 | LGA | Census year | Value |\n",
       "|---|---|---|---|---|---|---|---|\n",
       "| 15 - 19                    | Males                      | Employed, worked full-time | New South Wales            | 10050                      | Albury                     | 2016                       | 236                        |\n",
       "| 15 - 19                    | Females                    | Employed, worked full-time | New South Wales            | 10050                      | Albury                     | 2016                       | 113                        |\n",
       "| 15 - 19                    | Persons                    | Employed, worked full-time | New South Wales            | 10050                      | Albury                     | 2016                       | 348                        |\n",
       "| 15 - 19                    | Males                      | Employed, worked full-time | New South Wales            | 10130                      | Armidale Regional          | 2016                       | 105                        |\n",
       "| 15 - 19                    | Females                    | Employed, worked full-time | New South Wales            | 10130                      | Armidale Regional          | 2016                       |  58                        |\n",
       "| 15 - 19                    | Persons                    | Employed, worked full-time | New South Wales            | 10130                      | Armidale Regional          | 2016                       | 160                        |\n",
       "\n",
       "\n",
       "$country_of_birth\n",
       ":   \n",
       "| birthplace_of_person | census_year | lga_2016 | LGA | value | yarrp_2016 | year_of_arrival_in_australia |\n",
       "|---|---|---|---|---|---|---|\n",
       "| New Zealand         | 2016                | 10050               | Albury              |   7                 | 2                   | Arrived 1946 - 1955 |\n",
       "| New Zealand         | 2016                | 10050               | Albury              |  22                 | 3                   | Arrived 1956 - 1965 |\n",
       "| New Zealand         | 2016                | 10050               | Albury              |  63                 | 4                   | Arrived 1966 - 1975 |\n",
       "| New Zealand         | 2016                | 10050               | Albury              | 113                 | 5                   | Arrived 1976 - 1985 |\n",
       "| New Zealand         | 2016                | 10050               | Albury              |  92                 | 6                   | Arrived 1986 - 1995 |\n",
       "| New Zealand         | 2016                | 10050               | Albury              |  87                 | 7                   | Arrived 1996 - 2005 |\n",
       "\n",
       "\n",
       "$crime\n",
       ":   \n",
       "| X1 | LGA | Offence | Crim_Count |\n",
       "|---|---|---|---|\n",
       "| 1                                     | Albury                                | Murder *                              |   2                                   |\n",
       "| 2                                     | Albury                                | Attempted murder                      |   1                                   |\n",
       "| 3                                     | Albury                                | Murder accessory, conspiracy          |   0                                   |\n",
       "| 4                                     | Albury                                | Manslaughter *                        |   0                                   |\n",
       "| 5                                     | Albury                                | Domestic violence related assault     | 284                                   |\n",
       "| 6                                     | Albury                                | Non-domestic violence related assault | 296                                   |\n",
       "\n",
       "\n",
       "$industry_employment\n",
       ":   \n",
       "| Age | Sex | Industry of Employment | LGA_2016 | LGA | Census year | Value |\n",
       "|---|---|---|---|---|---|---|\n",
       "| 15 - 19                           | Males                             | Agriculture, Forestry and Fishing | 10050                             | Albury                            | 2016                              |  6                                |\n",
       "| 15 - 19                           | Females                           | Agriculture, Forestry and Fishing | 10050                             | Albury                            | 2016                              |  4                                |\n",
       "| 15 - 19                           | Persons                           | Agriculture, Forestry and Fishing | 10050                             | Albury                            | 2016                              |  6                                |\n",
       "| 15 - 19                           | Males                             | Agriculture, Forestry and Fishing | 10130                             | Armidale Regional                 | 2016                              | 34                                |\n",
       "| 15 - 19                           | Females                           | Agriculture, Forestry and Fishing | 10130                             | Armidale Regional                 | 2016                              |  9                                |\n",
       "| 15 - 19                           | Persons                           | Agriculture, Forestry and Fishing | 10130                             | Armidale Regional                 | 2016                              | 43                                |\n",
       "\n",
       "\n",
       "$labour\n",
       ":   \n",
       "| Age | Sex | Labour force status | LGA_2016 | LGA | Census year | Value |\n",
       "|---|---|---|---|---|---|---|\n",
       "| 15 - 19                    | Males                      | Employed, worked full-time | 10050                      | Albury                     | 2016                       | 236                        |\n",
       "| 15 - 19                    | Females                    | Employed, worked full-time | 10050                      | Albury                     | 2016                       | 113                        |\n",
       "| 15 - 19                    | Persons                    | Employed, worked full-time | 10050                      | Albury                     | 2016                       | 348                        |\n",
       "| 15 - 19                    | Males                      | Employed, worked full-time | 10130                      | Armidale Regional          | 2016                       | 105                        |\n",
       "| 15 - 19                    | Females                    | Employed, worked full-time | 10130                      | Armidale Regional          | 2016                       |  58                        |\n",
       "| 15 - 19                    | Persons                    | Employed, worked full-time | 10130                      | Armidale Regional          | 2016                       | 160                        |\n",
       "\n",
       "\n",
       "$pop_dens\n",
       ":   \n",
       "| X1 | LGA | Pop_Dens_km2 |\n",
       "|---|---|---|\n",
       "| 1                 | Albury            | 170.5             |\n",
       "| 2                 | Armidale Regional |   3.5             |\n",
       "| 3                 | Ballina           |  88.7             |\n",
       "| 4                 | Balranald         |   0.1             |\n",
       "| 5                 | Bathurst Regional |  11.1             |\n",
       "| 6                 | Bega Valley       |   5.4             |\n",
       "\n",
       "\n",
       "$seifa\n",
       ":   \n",
       "| X1 | LGA | Value |\n",
       "|---|---|---|\n",
       "| 1                 | Albury            | 964               |\n",
       "| 2                 | Armidale Dumaresq | 954               |\n",
       "| 3                 | Ashfield          | 962               |\n",
       "| 4                 | Auburn            | 931               |\n",
       "| 5                 | Ballina           | 986               |\n",
       "| 6                 | Balranald         | 969               |\n",
       "\n",
       "\n",
       "$transport\n",
       ":   \n",
       "| LGA | route_type | num_service |\n",
       "|---|---|---|\n",
       "| Albury            | 106               |  131              |\n",
       "| Albury            | 204               |   14              |\n",
       "| Albury            | 700               | 1624              |\n",
       "| Armidale Regional | 106               |   62              |\n",
       "| Armidale Regional | 204               |   10              |\n",
       "| Armidale Regional | 700               |  113              |\n",
       "\n",
       "\n",
       "\n",
       "\n"
      ],
      "text/plain": [
       "$age\n",
       "\u001b[90m# A tibble: 6 x 8\u001b[39m\n",
       "  Age    Sex    `Labour force sta~ State   LGA_2016 LGA      `Census year` Value\n",
       "  \u001b[3m\u001b[90m<fct>\u001b[39m\u001b[23m  \u001b[3m\u001b[90m<fct>\u001b[39m\u001b[23m  \u001b[3m\u001b[90m<fct>\u001b[39m\u001b[23m              \u001b[3m\u001b[90m<chr>\u001b[39m\u001b[23m      \u001b[3m\u001b[90m<dbl>\u001b[39m\u001b[23m \u001b[3m\u001b[90m<fct>\u001b[39m\u001b[23m            \u001b[3m\u001b[90m<dbl>\u001b[39m\u001b[23m \u001b[3m\u001b[90m<int>\u001b[39m\u001b[23m\n",
       "\u001b[90m1\u001b[39m 15 - ~ Males  Employed, worked ~ New So~    \u001b[4m1\u001b[24m\u001b[4m0\u001b[24m050 Albury            \u001b[4m2\u001b[24m016   236\n",
       "\u001b[90m2\u001b[39m 15 - ~ Femal~ Employed, worked ~ New So~    \u001b[4m1\u001b[24m\u001b[4m0\u001b[24m050 Albury            \u001b[4m2\u001b[24m016   113\n",
       "\u001b[90m3\u001b[39m 15 - ~ Perso~ Employed, worked ~ New So~    \u001b[4m1\u001b[24m\u001b[4m0\u001b[24m050 Albury            \u001b[4m2\u001b[24m016   348\n",
       "\u001b[90m4\u001b[39m 15 - ~ Males  Employed, worked ~ New So~    \u001b[4m1\u001b[24m\u001b[4m0\u001b[24m130 Armidal~          \u001b[4m2\u001b[24m016   105\n",
       "\u001b[90m5\u001b[39m 15 - ~ Femal~ Employed, worked ~ New So~    \u001b[4m1\u001b[24m\u001b[4m0\u001b[24m130 Armidal~          \u001b[4m2\u001b[24m016    58\n",
       "\u001b[90m6\u001b[39m 15 - ~ Perso~ Employed, worked ~ New So~    \u001b[4m1\u001b[24m\u001b[4m0\u001b[24m130 Armidal~          \u001b[4m2\u001b[24m016   160\n",
       "\n",
       "$country_of_birth\n",
       "\u001b[90m# A tibble: 6 x 7\u001b[39m\n",
       "  birthplace_of_pe~ census_year lga_2016 LGA   value yarrp_2016 year_of_arrival~\n",
       "  \u001b[3m\u001b[90m<fct>\u001b[39m\u001b[23m                   \u001b[3m\u001b[90m<dbl>\u001b[39m\u001b[23m    \u001b[3m\u001b[90m<dbl>\u001b[39m\u001b[23m \u001b[3m\u001b[90m<fct>\u001b[39m\u001b[23m \u001b[3m\u001b[90m<dbl>\u001b[39m\u001b[23m \u001b[3m\u001b[90m<chr>\u001b[39m\u001b[23m      \u001b[3m\u001b[90m<fct>\u001b[39m\u001b[23m           \n",
       "\u001b[90m1\u001b[39m New Zealand              \u001b[4m2\u001b[24m016    \u001b[4m1\u001b[24m\u001b[4m0\u001b[24m050 Albu~     7 2          Arrived 1946 - ~\n",
       "\u001b[90m2\u001b[39m New Zealand              \u001b[4m2\u001b[24m016    \u001b[4m1\u001b[24m\u001b[4m0\u001b[24m050 Albu~    22 3          Arrived 1956 - ~\n",
       "\u001b[90m3\u001b[39m New Zealand              \u001b[4m2\u001b[24m016    \u001b[4m1\u001b[24m\u001b[4m0\u001b[24m050 Albu~    63 4          Arrived 1966 - ~\n",
       "\u001b[90m4\u001b[39m New Zealand              \u001b[4m2\u001b[24m016    \u001b[4m1\u001b[24m\u001b[4m0\u001b[24m050 Albu~   113 5          Arrived 1976 - ~\n",
       "\u001b[90m5\u001b[39m New Zealand              \u001b[4m2\u001b[24m016    \u001b[4m1\u001b[24m\u001b[4m0\u001b[24m050 Albu~    92 6          Arrived 1986 - ~\n",
       "\u001b[90m6\u001b[39m New Zealand              \u001b[4m2\u001b[24m016    \u001b[4m1\u001b[24m\u001b[4m0\u001b[24m050 Albu~    87 7          Arrived 1996 - ~\n",
       "\n",
       "$crime\n",
       "\u001b[90m# A tibble: 6 x 4\u001b[39m\n",
       "     X1 LGA    Offence                               Crim_Count\n",
       "  \u001b[3m\u001b[90m<dbl>\u001b[39m\u001b[23m \u001b[3m\u001b[90m<fct>\u001b[39m\u001b[23m  \u001b[3m\u001b[90m<fct>\u001b[39m\u001b[23m                                      \u001b[3m\u001b[90m<int>\u001b[39m\u001b[23m\n",
       "\u001b[90m1\u001b[39m     1 Albury Murder *                                       2\n",
       "\u001b[90m2\u001b[39m     2 Albury Attempted murder                               1\n",
       "\u001b[90m3\u001b[39m     3 Albury Murder accessory, conspiracy                   0\n",
       "\u001b[90m4\u001b[39m     4 Albury Manslaughter *                                 0\n",
       "\u001b[90m5\u001b[39m     5 Albury Domestic violence related assault            284\n",
       "\u001b[90m6\u001b[39m     6 Albury Non-domestic violence related assault        296\n",
       "\n",
       "$industry_employment\n",
       "\u001b[90m# A tibble: 6 x 7\u001b[39m\n",
       "  Age    Sex    `Industry of Employment` LGA_2016 LGA        `Census year` Value\n",
       "  \u001b[3m\u001b[90m<fct>\u001b[39m\u001b[23m  \u001b[3m\u001b[90m<fct>\u001b[39m\u001b[23m  \u001b[3m\u001b[90m<fct>\u001b[39m\u001b[23m                       \u001b[3m\u001b[90m<dbl>\u001b[39m\u001b[23m \u001b[3m\u001b[90m<fct>\u001b[39m\u001b[23m              \u001b[3m\u001b[90m<dbl>\u001b[39m\u001b[23m \u001b[3m\u001b[90m<int>\u001b[39m\u001b[23m\n",
       "\u001b[90m1\u001b[39m 15 - ~ Males  Agriculture, Forestry a~    \u001b[4m1\u001b[24m\u001b[4m0\u001b[24m050 Albury              \u001b[4m2\u001b[24m016     6\n",
       "\u001b[90m2\u001b[39m 15 - ~ Femal~ Agriculture, Forestry a~    \u001b[4m1\u001b[24m\u001b[4m0\u001b[24m050 Albury              \u001b[4m2\u001b[24m016     4\n",
       "\u001b[90m3\u001b[39m 15 - ~ Perso~ Agriculture, Forestry a~    \u001b[4m1\u001b[24m\u001b[4m0\u001b[24m050 Albury              \u001b[4m2\u001b[24m016     6\n",
       "\u001b[90m4\u001b[39m 15 - ~ Males  Agriculture, Forestry a~    \u001b[4m1\u001b[24m\u001b[4m0\u001b[24m130 Armidale ~          \u001b[4m2\u001b[24m016    34\n",
       "\u001b[90m5\u001b[39m 15 - ~ Femal~ Agriculture, Forestry a~    \u001b[4m1\u001b[24m\u001b[4m0\u001b[24m130 Armidale ~          \u001b[4m2\u001b[24m016     9\n",
       "\u001b[90m6\u001b[39m 15 - ~ Perso~ Agriculture, Forestry a~    \u001b[4m1\u001b[24m\u001b[4m0\u001b[24m130 Armidale ~          \u001b[4m2\u001b[24m016    43\n",
       "\n",
       "$labour\n",
       "\u001b[90m# A tibble: 6 x 7\u001b[39m\n",
       "  Age     Sex     `Labour force status` LGA_2016 LGA         `Census year` Value\n",
       "  \u001b[3m\u001b[90m<fct>\u001b[39m\u001b[23m   \u001b[3m\u001b[90m<fct>\u001b[39m\u001b[23m   \u001b[3m\u001b[90m<fct>\u001b[39m\u001b[23m                    \u001b[3m\u001b[90m<dbl>\u001b[39m\u001b[23m \u001b[3m\u001b[90m<fct>\u001b[39m\u001b[23m               \u001b[3m\u001b[90m<dbl>\u001b[39m\u001b[23m \u001b[3m\u001b[90m<int>\u001b[39m\u001b[23m\n",
       "\u001b[90m1\u001b[39m 15 - 19 Males   Employed, worked ful~    \u001b[4m1\u001b[24m\u001b[4m0\u001b[24m050 Albury               \u001b[4m2\u001b[24m016   236\n",
       "\u001b[90m2\u001b[39m 15 - 19 Females Employed, worked ful~    \u001b[4m1\u001b[24m\u001b[4m0\u001b[24m050 Albury               \u001b[4m2\u001b[24m016   113\n",
       "\u001b[90m3\u001b[39m 15 - 19 Persons Employed, worked ful~    \u001b[4m1\u001b[24m\u001b[4m0\u001b[24m050 Albury               \u001b[4m2\u001b[24m016   348\n",
       "\u001b[90m4\u001b[39m 15 - 19 Males   Employed, worked ful~    \u001b[4m1\u001b[24m\u001b[4m0\u001b[24m130 Armidale R~          \u001b[4m2\u001b[24m016   105\n",
       "\u001b[90m5\u001b[39m 15 - 19 Females Employed, worked ful~    \u001b[4m1\u001b[24m\u001b[4m0\u001b[24m130 Armidale R~          \u001b[4m2\u001b[24m016    58\n",
       "\u001b[90m6\u001b[39m 15 - 19 Persons Employed, worked ful~    \u001b[4m1\u001b[24m\u001b[4m0\u001b[24m130 Armidale R~          \u001b[4m2\u001b[24m016   160\n",
       "\n",
       "$pop_dens\n",
       "\u001b[90m# A tibble: 6 x 3\u001b[39m\n",
       "     X1 LGA               Pop_Dens_km2\n",
       "  \u001b[3m\u001b[90m<dbl>\u001b[39m\u001b[23m \u001b[3m\u001b[90m<fct>\u001b[39m\u001b[23m                    \u001b[3m\u001b[90m<dbl>\u001b[39m\u001b[23m\n",
       "\u001b[90m1\u001b[39m     1 Albury                   170. \n",
       "\u001b[90m2\u001b[39m     2 Armidale Regional          3.5\n",
       "\u001b[90m3\u001b[39m     3 Ballina                   88.7\n",
       "\u001b[90m4\u001b[39m     4 Balranald                  0.1\n",
       "\u001b[90m5\u001b[39m     5 Bathurst Regional         11.1\n",
       "\u001b[90m6\u001b[39m     6 Bega Valley                5.4\n",
       "\n",
       "$seifa\n",
       "\u001b[90m# A tibble: 6 x 3\u001b[39m\n",
       "     X1 LGA               Value\n",
       "  \u001b[3m\u001b[90m<dbl>\u001b[39m\u001b[23m \u001b[3m\u001b[90m<fct>\u001b[39m\u001b[23m             \u001b[3m\u001b[90m<int>\u001b[39m\u001b[23m\n",
       "\u001b[90m1\u001b[39m     1 Albury              964\n",
       "\u001b[90m2\u001b[39m     2 Armidale Dumaresq   954\n",
       "\u001b[90m3\u001b[39m     3 Ashfield            962\n",
       "\u001b[90m4\u001b[39m     4 Auburn              931\n",
       "\u001b[90m5\u001b[39m     5 Ballina             986\n",
       "\u001b[90m6\u001b[39m     6 Balranald           969\n",
       "\n",
       "$transport\n",
       "\u001b[90m# A tibble: 6 x 3\u001b[39m\n",
       "  LGA               route_type num_service\n",
       "  \u001b[3m\u001b[90m<fct>\u001b[39m\u001b[23m             \u001b[3m\u001b[90m<fct>\u001b[39m\u001b[23m            \u001b[3m\u001b[90m<dbl>\u001b[39m\u001b[23m\n",
       "\u001b[90m1\u001b[39m Albury            106                131\n",
       "\u001b[90m2\u001b[39m Albury            204                 14\n",
       "\u001b[90m3\u001b[39m Albury            700               \u001b[4m1\u001b[24m624\n",
       "\u001b[90m4\u001b[39m Armidale Regional 106                 62\n",
       "\u001b[90m5\u001b[39m Armidale Regional 204                 10\n",
       "\u001b[90m6\u001b[39m Armidale Regional 700                113\n"
      ]
     },
     "metadata": {},
     "output_type": "display_data"
    }
   ],
   "source": [
    "map(input_data, head)"
   ]
  },
  {
   "cell_type": "code",
   "execution_count": 192,
   "metadata": {},
   "outputs": [],
   "source": [
    "value_cols <- list(\"Value\", \"value\", \"Crim_Count\", \"Value\", \"Value\", \"Pop_Dens_km2\", \"Value\", \"num_service\")"
   ]
  },
  {
   "cell_type": "code",
   "execution_count": 193,
   "metadata": {},
   "outputs": [
    {
     "data": {
      "text/html": [
       "<ol class=list-inline>\n",
       "\t<li>'age'</li>\n",
       "\t<li>'country_of_birth'</li>\n",
       "\t<li>'crime'</li>\n",
       "\t<li>'industry_employment'</li>\n",
       "\t<li>'labour'</li>\n",
       "\t<li>'pop_dens'</li>\n",
       "\t<li>'seifa'</li>\n",
       "\t<li>'transport'</li>\n",
       "</ol>\n"
      ],
      "text/latex": [
       "\\begin{enumerate*}\n",
       "\\item 'age'\n",
       "\\item 'country\\_of\\_birth'\n",
       "\\item 'crime'\n",
       "\\item 'industry\\_employment'\n",
       "\\item 'labour'\n",
       "\\item 'pop\\_dens'\n",
       "\\item 'seifa'\n",
       "\\item 'transport'\n",
       "\\end{enumerate*}\n"
      ],
      "text/markdown": [
       "1. 'age'\n",
       "2. 'country_of_birth'\n",
       "3. 'crime'\n",
       "4. 'industry_employment'\n",
       "5. 'labour'\n",
       "6. 'pop_dens'\n",
       "7. 'seifa'\n",
       "8. 'transport'\n",
       "\n",
       "\n"
      ],
      "text/plain": [
       "[1] \"age\"                 \"country_of_birth\"    \"crime\"              \n",
       "[4] \"industry_employment\" \"labour\"              \"pop_dens\"           \n",
       "[7] \"seifa\"               \"transport\"          "
      ]
     },
     "metadata": {},
     "output_type": "display_data"
    }
   ],
   "source": [
    "names(value_cols) <- tbl_names\n",
    "names(value_cols)"
   ]
  },
  {
   "cell_type": "markdown",
   "metadata": {},
   "source": [
    "Create a function to take the data and aggregate on the `LGA` column."
   ]
  },
  {
   "cell_type": "code",
   "execution_count": 234,
   "metadata": {},
   "outputs": [],
   "source": [
    "simplify = function(X, tbl_name, key_col, value_col){\n",
    "    return(X %>% group_by(!!sym(key_col)) %>%\n",
    "            summarise(!!tbl_name := sum(!!sym(value_col))))\n",
    "}"
   ]
  },
  {
   "cell_type": "code",
   "execution_count": 188,
   "metadata": {},
   "outputs": [
    {
     "data": {
      "text/html": [
       "<table>\n",
       "<thead><tr><th scope=col>Age</th><th scope=col>Sex</th><th scope=col>Labour force status</th><th scope=col>State</th><th scope=col>LGA_2016</th><th scope=col>LGA</th><th scope=col>Census year</th><th scope=col>Value</th></tr></thead>\n",
       "<tbody>\n",
       "\t<tr><td>15 - 19                   </td><td>Males                     </td><td>Employed, worked full-time</td><td>New South Wales           </td><td>10050                     </td><td>Albury                    </td><td>2016                      </td><td>236                       </td></tr>\n",
       "\t<tr><td>15 - 19                   </td><td>Females                   </td><td>Employed, worked full-time</td><td>New South Wales           </td><td>10050                     </td><td>Albury                    </td><td>2016                      </td><td>113                       </td></tr>\n",
       "\t<tr><td>15 - 19                   </td><td>Persons                   </td><td>Employed, worked full-time</td><td>New South Wales           </td><td>10050                     </td><td>Albury                    </td><td>2016                      </td><td>348                       </td></tr>\n",
       "\t<tr><td>15 - 19                   </td><td>Males                     </td><td>Employed, worked full-time</td><td>New South Wales           </td><td>10130                     </td><td>Armidale Regional         </td><td>2016                      </td><td>105                       </td></tr>\n",
       "\t<tr><td>15 - 19                   </td><td>Females                   </td><td>Employed, worked full-time</td><td>New South Wales           </td><td>10130                     </td><td>Armidale Regional         </td><td>2016                      </td><td> 58                       </td></tr>\n",
       "\t<tr><td>15 - 19                   </td><td>Persons                   </td><td>Employed, worked full-time</td><td>New South Wales           </td><td>10130                     </td><td>Armidale Regional         </td><td>2016                      </td><td>160                       </td></tr>\n",
       "</tbody>\n",
       "</table>\n"
      ],
      "text/latex": [
       "\\begin{tabular}{r|llllllll}\n",
       " Age & Sex & Labour force status & State & LGA\\_2016 & LGA & Census year & Value\\\\\n",
       "\\hline\n",
       "\t 15 - 19                    & Males                      & Employed, worked full-time & New South Wales            & 10050                      & Albury                     & 2016                       & 236                       \\\\\n",
       "\t 15 - 19                    & Females                    & Employed, worked full-time & New South Wales            & 10050                      & Albury                     & 2016                       & 113                       \\\\\n",
       "\t 15 - 19                    & Persons                    & Employed, worked full-time & New South Wales            & 10050                      & Albury                     & 2016                       & 348                       \\\\\n",
       "\t 15 - 19                    & Males                      & Employed, worked full-time & New South Wales            & 10130                      & Armidale Regional          & 2016                       & 105                       \\\\\n",
       "\t 15 - 19                    & Females                    & Employed, worked full-time & New South Wales            & 10130                      & Armidale Regional          & 2016                       &  58                       \\\\\n",
       "\t 15 - 19                    & Persons                    & Employed, worked full-time & New South Wales            & 10130                      & Armidale Regional          & 2016                       & 160                       \\\\\n",
       "\\end{tabular}\n"
      ],
      "text/markdown": [
       "\n",
       "| Age | Sex | Labour force status | State | LGA_2016 | LGA | Census year | Value |\n",
       "|---|---|---|---|---|---|---|---|\n",
       "| 15 - 19                    | Males                      | Employed, worked full-time | New South Wales            | 10050                      | Albury                     | 2016                       | 236                        |\n",
       "| 15 - 19                    | Females                    | Employed, worked full-time | New South Wales            | 10050                      | Albury                     | 2016                       | 113                        |\n",
       "| 15 - 19                    | Persons                    | Employed, worked full-time | New South Wales            | 10050                      | Albury                     | 2016                       | 348                        |\n",
       "| 15 - 19                    | Males                      | Employed, worked full-time | New South Wales            | 10130                      | Armidale Regional          | 2016                       | 105                        |\n",
       "| 15 - 19                    | Females                    | Employed, worked full-time | New South Wales            | 10130                      | Armidale Regional          | 2016                       |  58                        |\n",
       "| 15 - 19                    | Persons                    | Employed, worked full-time | New South Wales            | 10130                      | Armidale Regional          | 2016                       | 160                        |\n",
       "\n"
      ],
      "text/plain": [
       "  Age     Sex     Labour force status        State           LGA_2016\n",
       "1 15 - 19 Males   Employed, worked full-time New South Wales 10050   \n",
       "2 15 - 19 Females Employed, worked full-time New South Wales 10050   \n",
       "3 15 - 19 Persons Employed, worked full-time New South Wales 10050   \n",
       "4 15 - 19 Males   Employed, worked full-time New South Wales 10130   \n",
       "5 15 - 19 Females Employed, worked full-time New South Wales 10130   \n",
       "6 15 - 19 Persons Employed, worked full-time New South Wales 10130   \n",
       "  LGA               Census year Value\n",
       "1 Albury            2016        236  \n",
       "2 Albury            2016        113  \n",
       "3 Albury            2016        348  \n",
       "4 Armidale Regional 2016        105  \n",
       "5 Armidale Regional 2016         58  \n",
       "6 Armidale Regional 2016        160  "
      ]
     },
     "metadata": {},
     "output_type": "display_data"
    }
   ],
   "source": [
    "simplified_data <- map(input_data)"
   ]
  },
  {
   "cell_type": "markdown",
   "metadata": {},
   "source": [
    "Create a list of lists to be used in `pmap` with `simplify`. The list names/positions are the same as the argument names/positions of the function."
   ]
  },
  {
   "cell_type": "code",
   "execution_count": 242,
   "metadata": {},
   "outputs": [],
   "source": [
    "input_list <- list(X = input_data,\n",
    "                   tbl_name = tbl_names,\n",
    "                   key_col = rep(\"LGA\", length(input_data)),\n",
    "                   value_col = value_cols)"
   ]
  },
  {
   "cell_type": "markdown",
   "metadata": {},
   "source": [
    "Aggregate all data sets in one line."
   ]
  },
  {
   "cell_type": "code",
   "execution_count": 243,
   "metadata": {},
   "outputs": [],
   "source": [
    "simplified_data <- pmap(input_list, simplify)"
   ]
  },
  {
   "cell_type": "code",
   "execution_count": 244,
   "metadata": {},
   "outputs": [
    {
     "data": {
      "text/html": [
       "<dl>\n",
       "\t<dt>$age</dt>\n",
       "\t\t<dd><table>\n",
       "<thead><tr><th scope=col>LGA</th><th scope=col>age</th></tr></thead>\n",
       "<tbody>\n",
       "\t<tr><td>Albury           </td><td>264198           </td></tr>\n",
       "\t<tr><td>Armidale Regional</td><td>149854           </td></tr>\n",
       "\t<tr><td>Ballina          </td><td>213610           </td></tr>\n",
       "\t<tr><td>Balranald        </td><td> 11420           </td></tr>\n",
       "\t<tr><td>Bathurst Regional</td><td>210047           </td></tr>\n",
       "\t<tr><td>Bega Valley      </td><td>167576           </td></tr>\n",
       "</tbody>\n",
       "</table>\n",
       "</dd>\n",
       "\t<dt>$country_of_birth</dt>\n",
       "\t\t<dd><table>\n",
       "<thead><tr><th scope=col>LGA</th><th scope=col>country_of_birth</th></tr></thead>\n",
       "<tbody>\n",
       "\t<tr><td>Albury           </td><td>13595            </td></tr>\n",
       "\t<tr><td>Armidale Regional</td><td> 9054            </td></tr>\n",
       "\t<tr><td>Ballina          </td><td>17109            </td></tr>\n",
       "\t<tr><td>Balranald        </td><td>  343            </td></tr>\n",
       "\t<tr><td>Bathurst Regional</td><td>10389            </td></tr>\n",
       "\t<tr><td>Bega Valley      </td><td>16092            </td></tr>\n",
       "</tbody>\n",
       "</table>\n",
       "</dd>\n",
       "\t<dt>$crime</dt>\n",
       "\t\t<dd><table>\n",
       "<thead><tr><th scope=col>LGA</th><th scope=col>crime</th></tr></thead>\n",
       "<tbody>\n",
       "\t<tr><td>Albury           </td><td> 6233            </td></tr>\n",
       "\t<tr><td>Armidale Regional</td><td> 4028            </td></tr>\n",
       "\t<tr><td>Ballina          </td><td> 2690            </td></tr>\n",
       "\t<tr><td>Balranald        </td><td>  192            </td></tr>\n",
       "\t<tr><td>Bathurst Regional</td><td> 4027            </td></tr>\n",
       "\t<tr><td>Bayside          </td><td>13024            </td></tr>\n",
       "</tbody>\n",
       "</table>\n",
       "</dd>\n",
       "\t<dt>$industry_employment</dt>\n",
       "\t\t<dd><table>\n",
       "<thead><tr><th scope=col>LGA</th><th scope=col>industry_employment</th></tr></thead>\n",
       "<tbody>\n",
       "\t<tr><td>Albury           </td><td>91595            </td></tr>\n",
       "\t<tr><td>Armidale Regional</td><td>49227            </td></tr>\n",
       "\t<tr><td>Ballina          </td><td>69819            </td></tr>\n",
       "\t<tr><td>Balranald        </td><td> 3857            </td></tr>\n",
       "\t<tr><td>Bathurst Regional</td><td>72638            </td></tr>\n",
       "\t<tr><td>Bega Valley      </td><td>52588            </td></tr>\n",
       "</tbody>\n",
       "</table>\n",
       "</dd>\n",
       "\t<dt>$labour</dt>\n",
       "\t\t<dd><table>\n",
       "<thead><tr><th scope=col>LGA</th><th scope=col>labour</th></tr></thead>\n",
       "<tbody>\n",
       "\t<tr><td>Albury           </td><td>165865           </td></tr>\n",
       "\t<tr><td>Armidale Regional</td><td> 96412           </td></tr>\n",
       "\t<tr><td>Ballina          </td><td>139408           </td></tr>\n",
       "\t<tr><td>Balranald        </td><td>  7209           </td></tr>\n",
       "\t<tr><td>Bathurst Regional</td><td>132760           </td></tr>\n",
       "\t<tr><td>Bega Valley      </td><td>111967           </td></tr>\n",
       "</tbody>\n",
       "</table>\n",
       "</dd>\n",
       "\t<dt>$pop_dens</dt>\n",
       "\t\t<dd><table>\n",
       "<thead><tr><th scope=col>LGA</th><th scope=col>pop_dens</th></tr></thead>\n",
       "<tbody>\n",
       "\t<tr><td>Albury           </td><td>170.5            </td></tr>\n",
       "\t<tr><td>Armidale Regional</td><td>  3.5            </td></tr>\n",
       "\t<tr><td>Ballina          </td><td> 88.7            </td></tr>\n",
       "\t<tr><td>Balranald        </td><td>  0.1            </td></tr>\n",
       "\t<tr><td>Bathurst Regional</td><td> 11.1            </td></tr>\n",
       "\t<tr><td>Bega Valley      </td><td>  5.4            </td></tr>\n",
       "</tbody>\n",
       "</table>\n",
       "</dd>\n",
       "\t<dt>$seifa</dt>\n",
       "\t\t<dd><table>\n",
       "<thead><tr><th scope=col>LGA</th><th scope=col>seifa</th></tr></thead>\n",
       "<tbody>\n",
       "\t<tr><td>Albury           </td><td>964              </td></tr>\n",
       "\t<tr><td>Armidale Dumaresq</td><td>954              </td></tr>\n",
       "\t<tr><td>Ashfield         </td><td>962              </td></tr>\n",
       "\t<tr><td>Auburn           </td><td>931              </td></tr>\n",
       "\t<tr><td>Ballina          </td><td>986              </td></tr>\n",
       "\t<tr><td>Balranald        </td><td>969              </td></tr>\n",
       "</tbody>\n",
       "</table>\n",
       "</dd>\n",
       "\t<dt>$transport</dt>\n",
       "\t\t<dd><table>\n",
       "<thead><tr><th scope=col>LGA</th><th scope=col>transport</th></tr></thead>\n",
       "<tbody>\n",
       "\t<tr><td>Albury           </td><td>  1769           </td></tr>\n",
       "\t<tr><td>Armidale Regional</td><td>   185           </td></tr>\n",
       "\t<tr><td>Ballina          </td><td>  1353           </td></tr>\n",
       "\t<tr><td>Balranald        </td><td>     4           </td></tr>\n",
       "\t<tr><td>Bathurst Regional</td><td>  2882           </td></tr>\n",
       "\t<tr><td>Bayside          </td><td>143697           </td></tr>\n",
       "</tbody>\n",
       "</table>\n",
       "</dd>\n",
       "</dl>\n"
      ],
      "text/latex": [
       "\\begin{description}\n",
       "\\item[\\$age] \\begin{tabular}{r|ll}\n",
       " LGA & age\\\\\n",
       "\\hline\n",
       "\t Albury            & 264198           \\\\\n",
       "\t Armidale Regional & 149854           \\\\\n",
       "\t Ballina           & 213610           \\\\\n",
       "\t Balranald         &  11420           \\\\\n",
       "\t Bathurst Regional & 210047           \\\\\n",
       "\t Bega Valley       & 167576           \\\\\n",
       "\\end{tabular}\n",
       "\n",
       "\\item[\\$country\\_of\\_birth] \\begin{tabular}{r|ll}\n",
       " LGA & country\\_of\\_birth\\\\\n",
       "\\hline\n",
       "\t Albury            & 13595            \\\\\n",
       "\t Armidale Regional &  9054            \\\\\n",
       "\t Ballina           & 17109            \\\\\n",
       "\t Balranald         &   343            \\\\\n",
       "\t Bathurst Regional & 10389            \\\\\n",
       "\t Bega Valley       & 16092            \\\\\n",
       "\\end{tabular}\n",
       "\n",
       "\\item[\\$crime] \\begin{tabular}{r|ll}\n",
       " LGA & crime\\\\\n",
       "\\hline\n",
       "\t Albury            &  6233            \\\\\n",
       "\t Armidale Regional &  4028            \\\\\n",
       "\t Ballina           &  2690            \\\\\n",
       "\t Balranald         &   192            \\\\\n",
       "\t Bathurst Regional &  4027            \\\\\n",
       "\t Bayside           & 13024            \\\\\n",
       "\\end{tabular}\n",
       "\n",
       "\\item[\\$industry\\_employment] \\begin{tabular}{r|ll}\n",
       " LGA & industry\\_employment\\\\\n",
       "\\hline\n",
       "\t Albury            & 91595            \\\\\n",
       "\t Armidale Regional & 49227            \\\\\n",
       "\t Ballina           & 69819            \\\\\n",
       "\t Balranald         &  3857            \\\\\n",
       "\t Bathurst Regional & 72638            \\\\\n",
       "\t Bega Valley       & 52588            \\\\\n",
       "\\end{tabular}\n",
       "\n",
       "\\item[\\$labour] \\begin{tabular}{r|ll}\n",
       " LGA & labour\\\\\n",
       "\\hline\n",
       "\t Albury            & 165865           \\\\\n",
       "\t Armidale Regional &  96412           \\\\\n",
       "\t Ballina           & 139408           \\\\\n",
       "\t Balranald         &   7209           \\\\\n",
       "\t Bathurst Regional & 132760           \\\\\n",
       "\t Bega Valley       & 111967           \\\\\n",
       "\\end{tabular}\n",
       "\n",
       "\\item[\\$pop\\_dens] \\begin{tabular}{r|ll}\n",
       " LGA & pop\\_dens\\\\\n",
       "\\hline\n",
       "\t Albury            & 170.5            \\\\\n",
       "\t Armidale Regional &   3.5            \\\\\n",
       "\t Ballina           &  88.7            \\\\\n",
       "\t Balranald         &   0.1            \\\\\n",
       "\t Bathurst Regional &  11.1            \\\\\n",
       "\t Bega Valley       &   5.4            \\\\\n",
       "\\end{tabular}\n",
       "\n",
       "\\item[\\$seifa] \\begin{tabular}{r|ll}\n",
       " LGA & seifa\\\\\n",
       "\\hline\n",
       "\t Albury            & 964              \\\\\n",
       "\t Armidale Dumaresq & 954              \\\\\n",
       "\t Ashfield          & 962              \\\\\n",
       "\t Auburn            & 931              \\\\\n",
       "\t Ballina           & 986              \\\\\n",
       "\t Balranald         & 969              \\\\\n",
       "\\end{tabular}\n",
       "\n",
       "\\item[\\$transport] \\begin{tabular}{r|ll}\n",
       " LGA & transport\\\\\n",
       "\\hline\n",
       "\t Albury            &   1769           \\\\\n",
       "\t Armidale Regional &    185           \\\\\n",
       "\t Ballina           &   1353           \\\\\n",
       "\t Balranald         &      4           \\\\\n",
       "\t Bathurst Regional &   2882           \\\\\n",
       "\t Bayside           & 143697           \\\\\n",
       "\\end{tabular}\n",
       "\n",
       "\\end{description}\n"
      ],
      "text/markdown": [
       "$age\n",
       ":   \n",
       "| LGA | age |\n",
       "|---|---|\n",
       "| Albury            | 264198            |\n",
       "| Armidale Regional | 149854            |\n",
       "| Ballina           | 213610            |\n",
       "| Balranald         |  11420            |\n",
       "| Bathurst Regional | 210047            |\n",
       "| Bega Valley       | 167576            |\n",
       "\n",
       "\n",
       "$country_of_birth\n",
       ":   \n",
       "| LGA | country_of_birth |\n",
       "|---|---|\n",
       "| Albury            | 13595             |\n",
       "| Armidale Regional |  9054             |\n",
       "| Ballina           | 17109             |\n",
       "| Balranald         |   343             |\n",
       "| Bathurst Regional | 10389             |\n",
       "| Bega Valley       | 16092             |\n",
       "\n",
       "\n",
       "$crime\n",
       ":   \n",
       "| LGA | crime |\n",
       "|---|---|\n",
       "| Albury            |  6233             |\n",
       "| Armidale Regional |  4028             |\n",
       "| Ballina           |  2690             |\n",
       "| Balranald         |   192             |\n",
       "| Bathurst Regional |  4027             |\n",
       "| Bayside           | 13024             |\n",
       "\n",
       "\n",
       "$industry_employment\n",
       ":   \n",
       "| LGA | industry_employment |\n",
       "|---|---|\n",
       "| Albury            | 91595             |\n",
       "| Armidale Regional | 49227             |\n",
       "| Ballina           | 69819             |\n",
       "| Balranald         |  3857             |\n",
       "| Bathurst Regional | 72638             |\n",
       "| Bega Valley       | 52588             |\n",
       "\n",
       "\n",
       "$labour\n",
       ":   \n",
       "| LGA | labour |\n",
       "|---|---|\n",
       "| Albury            | 165865            |\n",
       "| Armidale Regional |  96412            |\n",
       "| Ballina           | 139408            |\n",
       "| Balranald         |   7209            |\n",
       "| Bathurst Regional | 132760            |\n",
       "| Bega Valley       | 111967            |\n",
       "\n",
       "\n",
       "$pop_dens\n",
       ":   \n",
       "| LGA | pop_dens |\n",
       "|---|---|\n",
       "| Albury            | 170.5             |\n",
       "| Armidale Regional |   3.5             |\n",
       "| Ballina           |  88.7             |\n",
       "| Balranald         |   0.1             |\n",
       "| Bathurst Regional |  11.1             |\n",
       "| Bega Valley       |   5.4             |\n",
       "\n",
       "\n",
       "$seifa\n",
       ":   \n",
       "| LGA | seifa |\n",
       "|---|---|\n",
       "| Albury            | 964               |\n",
       "| Armidale Dumaresq | 954               |\n",
       "| Ashfield          | 962               |\n",
       "| Auburn            | 931               |\n",
       "| Ballina           | 986               |\n",
       "| Balranald         | 969               |\n",
       "\n",
       "\n",
       "$transport\n",
       ":   \n",
       "| LGA | transport |\n",
       "|---|---|\n",
       "| Albury            |   1769            |\n",
       "| Armidale Regional |    185            |\n",
       "| Ballina           |   1353            |\n",
       "| Balranald         |      4            |\n",
       "| Bathurst Regional |   2882            |\n",
       "| Bayside           | 143697            |\n",
       "\n",
       "\n",
       "\n",
       "\n"
      ],
      "text/plain": [
       "$age\n",
       "\u001b[90m# A tibble: 6 x 2\u001b[39m\n",
       "  LGA                  age\n",
       "  \u001b[3m\u001b[90m<fct>\u001b[39m\u001b[23m              \u001b[3m\u001b[90m<int>\u001b[39m\u001b[23m\n",
       "\u001b[90m1\u001b[39m Albury            \u001b[4m2\u001b[24m\u001b[4m6\u001b[24m\u001b[4m4\u001b[24m198\n",
       "\u001b[90m2\u001b[39m Armidale Regional \u001b[4m1\u001b[24m\u001b[4m4\u001b[24m\u001b[4m9\u001b[24m854\n",
       "\u001b[90m3\u001b[39m Ballina           \u001b[4m2\u001b[24m\u001b[4m1\u001b[24m\u001b[4m3\u001b[24m610\n",
       "\u001b[90m4\u001b[39m Balranald          \u001b[4m1\u001b[24m\u001b[4m1\u001b[24m420\n",
       "\u001b[90m5\u001b[39m Bathurst Regional \u001b[4m2\u001b[24m\u001b[4m1\u001b[24m\u001b[4m0\u001b[24m047\n",
       "\u001b[90m6\u001b[39m Bega Valley       \u001b[4m1\u001b[24m\u001b[4m6\u001b[24m\u001b[4m7\u001b[24m576\n",
       "\n",
       "$country_of_birth\n",
       "\u001b[90m# A tibble: 6 x 2\u001b[39m\n",
       "  LGA               country_of_birth\n",
       "  \u001b[3m\u001b[90m<fct>\u001b[39m\u001b[23m                        \u001b[3m\u001b[90m<dbl>\u001b[39m\u001b[23m\n",
       "\u001b[90m1\u001b[39m Albury                       \u001b[4m1\u001b[24m\u001b[4m3\u001b[24m595\n",
       "\u001b[90m2\u001b[39m Armidale Regional             \u001b[4m9\u001b[24m054\n",
       "\u001b[90m3\u001b[39m Ballina                      \u001b[4m1\u001b[24m\u001b[4m7\u001b[24m109\n",
       "\u001b[90m4\u001b[39m Balranald                      343\n",
       "\u001b[90m5\u001b[39m Bathurst Regional            \u001b[4m1\u001b[24m\u001b[4m0\u001b[24m389\n",
       "\u001b[90m6\u001b[39m Bega Valley                  \u001b[4m1\u001b[24m\u001b[4m6\u001b[24m092\n",
       "\n",
       "$crime\n",
       "\u001b[90m# A tibble: 6 x 2\u001b[39m\n",
       "  LGA               crime\n",
       "  \u001b[3m\u001b[90m<fct>\u001b[39m\u001b[23m             \u001b[3m\u001b[90m<int>\u001b[39m\u001b[23m\n",
       "\u001b[90m1\u001b[39m Albury             \u001b[4m6\u001b[24m233\n",
       "\u001b[90m2\u001b[39m Armidale Regional  \u001b[4m4\u001b[24m028\n",
       "\u001b[90m3\u001b[39m Ballina            \u001b[4m2\u001b[24m690\n",
       "\u001b[90m4\u001b[39m Balranald           192\n",
       "\u001b[90m5\u001b[39m Bathurst Regional  \u001b[4m4\u001b[24m027\n",
       "\u001b[90m6\u001b[39m Bayside           \u001b[4m1\u001b[24m\u001b[4m3\u001b[24m024\n",
       "\n",
       "$industry_employment\n",
       "\u001b[90m# A tibble: 6 x 2\u001b[39m\n",
       "  LGA               industry_employment\n",
       "  \u001b[3m\u001b[90m<fct>\u001b[39m\u001b[23m                           \u001b[3m\u001b[90m<int>\u001b[39m\u001b[23m\n",
       "\u001b[90m1\u001b[39m Albury                          \u001b[4m9\u001b[24m\u001b[4m1\u001b[24m595\n",
       "\u001b[90m2\u001b[39m Armidale Regional               \u001b[4m4\u001b[24m\u001b[4m9\u001b[24m227\n",
       "\u001b[90m3\u001b[39m Ballina                         \u001b[4m6\u001b[24m\u001b[4m9\u001b[24m819\n",
       "\u001b[90m4\u001b[39m Balranald                        \u001b[4m3\u001b[24m857\n",
       "\u001b[90m5\u001b[39m Bathurst Regional               \u001b[4m7\u001b[24m\u001b[4m2\u001b[24m638\n",
       "\u001b[90m6\u001b[39m Bega Valley                     \u001b[4m5\u001b[24m\u001b[4m2\u001b[24m588\n",
       "\n",
       "$labour\n",
       "\u001b[90m# A tibble: 6 x 2\u001b[39m\n",
       "  LGA               labour\n",
       "  \u001b[3m\u001b[90m<fct>\u001b[39m\u001b[23m              \u001b[3m\u001b[90m<int>\u001b[39m\u001b[23m\n",
       "\u001b[90m1\u001b[39m Albury            \u001b[4m1\u001b[24m\u001b[4m6\u001b[24m\u001b[4m5\u001b[24m865\n",
       "\u001b[90m2\u001b[39m Armidale Regional  \u001b[4m9\u001b[24m\u001b[4m6\u001b[24m412\n",
       "\u001b[90m3\u001b[39m Ballina           \u001b[4m1\u001b[24m\u001b[4m3\u001b[24m\u001b[4m9\u001b[24m408\n",
       "\u001b[90m4\u001b[39m Balranald           \u001b[4m7\u001b[24m209\n",
       "\u001b[90m5\u001b[39m Bathurst Regional \u001b[4m1\u001b[24m\u001b[4m3\u001b[24m\u001b[4m2\u001b[24m760\n",
       "\u001b[90m6\u001b[39m Bega Valley       \u001b[4m1\u001b[24m\u001b[4m1\u001b[24m\u001b[4m1\u001b[24m967\n",
       "\n",
       "$pop_dens\n",
       "\u001b[90m# A tibble: 6 x 2\u001b[39m\n",
       "  LGA               pop_dens\n",
       "  \u001b[3m\u001b[90m<fct>\u001b[39m\u001b[23m                \u001b[3m\u001b[90m<dbl>\u001b[39m\u001b[23m\n",
       "\u001b[90m1\u001b[39m Albury               170. \n",
       "\u001b[90m2\u001b[39m Armidale Regional      3.5\n",
       "\u001b[90m3\u001b[39m Ballina               88.7\n",
       "\u001b[90m4\u001b[39m Balranald              0.1\n",
       "\u001b[90m5\u001b[39m Bathurst Regional     11.1\n",
       "\u001b[90m6\u001b[39m Bega Valley            5.4\n",
       "\n",
       "$seifa\n",
       "\u001b[90m# A tibble: 6 x 2\u001b[39m\n",
       "  LGA               seifa\n",
       "  \u001b[3m\u001b[90m<fct>\u001b[39m\u001b[23m             \u001b[3m\u001b[90m<int>\u001b[39m\u001b[23m\n",
       "\u001b[90m1\u001b[39m Albury              964\n",
       "\u001b[90m2\u001b[39m Armidale Dumaresq   954\n",
       "\u001b[90m3\u001b[39m Ashfield            962\n",
       "\u001b[90m4\u001b[39m Auburn              931\n",
       "\u001b[90m5\u001b[39m Ballina             986\n",
       "\u001b[90m6\u001b[39m Balranald           969\n",
       "\n",
       "$transport\n",
       "\u001b[90m# A tibble: 6 x 2\u001b[39m\n",
       "  LGA               transport\n",
       "  \u001b[3m\u001b[90m<fct>\u001b[39m\u001b[23m                 \u001b[3m\u001b[90m<dbl>\u001b[39m\u001b[23m\n",
       "\u001b[90m1\u001b[39m Albury                 \u001b[4m1\u001b[24m769\n",
       "\u001b[90m2\u001b[39m Armidale Regional       185\n",
       "\u001b[90m3\u001b[39m Ballina                \u001b[4m1\u001b[24m353\n",
       "\u001b[90m4\u001b[39m Balranald                 4\n",
       "\u001b[90m5\u001b[39m Bathurst Regional      \u001b[4m2\u001b[24m882\n",
       "\u001b[90m6\u001b[39m Bayside              \u001b[4m1\u001b[24m\u001b[4m4\u001b[24m\u001b[4m3\u001b[24m697\n"
      ]
     },
     "metadata": {},
     "output_type": "display_data"
    }
   ],
   "source": [
    "map(simplified_data, head)"
   ]
  },
  {
   "cell_type": "markdown",
   "metadata": {},
   "source": [
    "The aggregations by LGA for some data sets don't give meaningful information. So it is better to process each data set manually by spreading them first to maintain some variables."
   ]
  },
  {
   "cell_type": "markdown",
   "metadata": {},
   "source": [
    "# Spread the Data"
   ]
  },
  {
   "cell_type": "code",
   "execution_count": 257,
   "metadata": {},
   "outputs": [
    {
     "data": {
      "text/html": [
       "<table>\n",
       "<thead><tr><th scope=col>LGA</th><th scope=col>males</th><th scope=col>females</th><th scope=col>persons</th></tr></thead>\n",
       "<tbody>\n",
       "\t<tr><td>Albury           </td><td>64518            </td><td>67583            </td><td>132097           </td></tr>\n",
       "\t<tr><td>Armidale Regional</td><td>36679            </td><td>38229            </td><td> 74946           </td></tr>\n",
       "\t<tr><td>Ballina          </td><td>51734            </td><td>55062            </td><td>106814           </td></tr>\n",
       "\t<tr><td>Balranald        </td><td> 3041            </td><td> 2669            </td><td>  5710           </td></tr>\n",
       "\t<tr><td>Bathurst Regional</td><td>52747            </td><td>52257            </td><td>105043           </td></tr>\n",
       "\t<tr><td>Bega Valley      </td><td>41321            </td><td>42491            </td><td> 83764           </td></tr>\n",
       "</tbody>\n",
       "</table>\n"
      ],
      "text/latex": [
       "\\begin{tabular}{r|llll}\n",
       " LGA & males & females & persons\\\\\n",
       "\\hline\n",
       "\t Albury            & 64518             & 67583             & 132097           \\\\\n",
       "\t Armidale Regional & 36679             & 38229             &  74946           \\\\\n",
       "\t Ballina           & 51734             & 55062             & 106814           \\\\\n",
       "\t Balranald         &  3041             &  2669             &   5710           \\\\\n",
       "\t Bathurst Regional & 52747             & 52257             & 105043           \\\\\n",
       "\t Bega Valley       & 41321             & 42491             &  83764           \\\\\n",
       "\\end{tabular}\n"
      ],
      "text/markdown": [
       "\n",
       "| LGA | males | females | persons |\n",
       "|---|---|---|---|\n",
       "| Albury            | 64518             | 67583             | 132097            |\n",
       "| Armidale Regional | 36679             | 38229             |  74946            |\n",
       "| Ballina           | 51734             | 55062             | 106814            |\n",
       "| Balranald         |  3041             |  2669             |   5710            |\n",
       "| Bathurst Regional | 52747             | 52257             | 105043            |\n",
       "| Bega Valley       | 41321             | 42491             |  83764            |\n",
       "\n"
      ],
      "text/plain": [
       "  LGA               males females persons\n",
       "1 Albury            64518 67583   132097 \n",
       "2 Armidale Regional 36679 38229    74946 \n",
       "3 Ballina           51734 55062   106814 \n",
       "4 Balranald          3041  2669     5710 \n",
       "5 Bathurst Regional 52747 52257   105043 \n",
       "6 Bega Valley       41321 42491    83764 "
      ]
     },
     "metadata": {},
     "output_type": "display_data"
    }
   ],
   "source": [
    "age_spread <- input_data$age %>%\n",
    "    spread(key = Sex, value = Value) %>%\n",
    "    group_by(LGA) %>%\n",
    "    summarise(males = sum(Males), females = sum(Females), persons = sum(Persons))\n",
    "\n",
    "head(age_spread)"
   ]
  },
  {
   "cell_type": "code",
   "execution_count": 313,
   "metadata": {},
   "outputs": [
    {
     "data": {
      "text/html": [
       "<table>\n",
       "<thead><tr><th scope=col>LGA</th><th scope=col>birthplace_of_person</th><th scope=col>birth_value</th></tr></thead>\n",
       "<tbody>\n",
       "\t<tr><td>Albury          </td><td>New Zealand     </td><td>2510            </td></tr>\n",
       "\t<tr><td>Albury          </td><td>Papua New Guinea</td><td>  99            </td></tr>\n",
       "\t<tr><td>Albury          </td><td>Fiji            </td><td> 218            </td></tr>\n",
       "\t<tr><td>Albury          </td><td>Tonga           </td><td>  24            </td></tr>\n",
       "\t<tr><td>Albury          </td><td>England         </td><td>4254            </td></tr>\n",
       "\t<tr><td>Albury          </td><td>Northern Ireland</td><td>  64            </td></tr>\n",
       "</tbody>\n",
       "</table>\n"
      ],
      "text/latex": [
       "\\begin{tabular}{r|lll}\n",
       " LGA & birthplace\\_of\\_person & birth\\_value\\\\\n",
       "\\hline\n",
       "\t Albury           & New Zealand      & 2510            \\\\\n",
       "\t Albury           & Papua New Guinea &   99            \\\\\n",
       "\t Albury           & Fiji             &  218            \\\\\n",
       "\t Albury           & Tonga            &   24            \\\\\n",
       "\t Albury           & England          & 4254            \\\\\n",
       "\t Albury           & Northern Ireland &   64            \\\\\n",
       "\\end{tabular}\n"
      ],
      "text/markdown": [
       "\n",
       "| LGA | birthplace_of_person | birth_value |\n",
       "|---|---|---|\n",
       "| Albury           | New Zealand      | 2510             |\n",
       "| Albury           | Papua New Guinea |   99             |\n",
       "| Albury           | Fiji             |  218             |\n",
       "| Albury           | Tonga            |   24             |\n",
       "| Albury           | England          | 4254             |\n",
       "| Albury           | Northern Ireland |   64             |\n",
       "\n"
      ],
      "text/plain": [
       "  LGA    birthplace_of_person birth_value\n",
       "1 Albury New Zealand          2510       \n",
       "2 Albury Papua New Guinea       99       \n",
       "3 Albury Fiji                  218       \n",
       "4 Albury Tonga                  24       \n",
       "5 Albury England              4254       \n",
       "6 Albury Northern Ireland       64       "
      ]
     },
     "metadata": {},
     "output_type": "display_data"
    }
   ],
   "source": [
    "country_spread <- input_data$country_of_birth %>%\n",
    "    group_by(LGA, birthplace_of_person) %>%\n",
    "    summarise(value = sum(value)) %>%\n",
    "    rename(birth_value = value)\n",
    "\n",
    "head(country_spread)"
   ]
  },
  {
   "cell_type": "code",
   "execution_count": 275,
   "metadata": {},
   "outputs": [
    {
     "data": {
      "text/html": [
       "<table>\n",
       "<thead><tr><th scope=col>LGA</th><th scope=col>Industry of Employment</th><th scope=col>emp_value</th></tr></thead>\n",
       "<tbody>\n",
       "\t<tr><td>Albury                                    </td><td>Agriculture, Forestry and Fishing         </td><td>1253                                      </td></tr>\n",
       "\t<tr><td>Albury                                    </td><td>Mining                                    </td><td> 191                                      </td></tr>\n",
       "\t<tr><td>Albury                                    </td><td>Manufacturing                             </td><td>8435                                      </td></tr>\n",
       "\t<tr><td>Albury                                    </td><td>Electricity, Gas, Water and Waste Services</td><td> 713                                      </td></tr>\n",
       "\t<tr><td>Albury                                    </td><td>Construction                              </td><td>8425                                      </td></tr>\n",
       "\t<tr><td>Albury                                    </td><td>Wholesale Trade                           </td><td>2137                                      </td></tr>\n",
       "</tbody>\n",
       "</table>\n"
      ],
      "text/latex": [
       "\\begin{tabular}{r|lll}\n",
       " LGA & Industry of Employment & emp\\_value\\\\\n",
       "\\hline\n",
       "\t Albury                                     & Agriculture, Forestry and Fishing          & 1253                                      \\\\\n",
       "\t Albury                                     & Mining                                     &  191                                      \\\\\n",
       "\t Albury                                     & Manufacturing                              & 8435                                      \\\\\n",
       "\t Albury                                     & Electricity, Gas, Water and Waste Services &  713                                      \\\\\n",
       "\t Albury                                     & Construction                               & 8425                                      \\\\\n",
       "\t Albury                                     & Wholesale Trade                            & 2137                                      \\\\\n",
       "\\end{tabular}\n"
      ],
      "text/markdown": [
       "\n",
       "| LGA | Industry of Employment | emp_value |\n",
       "|---|---|---|\n",
       "| Albury                                     | Agriculture, Forestry and Fishing          | 1253                                       |\n",
       "| Albury                                     | Mining                                     |  191                                       |\n",
       "| Albury                                     | Manufacturing                              | 8435                                       |\n",
       "| Albury                                     | Electricity, Gas, Water and Waste Services |  713                                       |\n",
       "| Albury                                     | Construction                               | 8425                                       |\n",
       "| Albury                                     | Wholesale Trade                            | 2137                                       |\n",
       "\n"
      ],
      "text/plain": [
       "  LGA    Industry of Employment                     emp_value\n",
       "1 Albury Agriculture, Forestry and Fishing          1253     \n",
       "2 Albury Mining                                      191     \n",
       "3 Albury Manufacturing                              8435     \n",
       "4 Albury Electricity, Gas, Water and Waste Services  713     \n",
       "5 Albury Construction                               8425     \n",
       "6 Albury Wholesale Trade                            2137     "
      ]
     },
     "metadata": {},
     "output_type": "display_data"
    }
   ],
   "source": [
    "employment_spread <- input_data$industry_employment %>%\n",
    "    group_by(LGA, `Industry of Employment`) %>%\n",
    "    summarise(emp_value = sum(Value))\n",
    "\n",
    "head(employment_spread)"
   ]
  },
  {
   "cell_type": "code",
   "execution_count": 281,
   "metadata": {},
   "outputs": [
    {
     "data": {
      "text/html": [
       "<table>\n",
       "<thead><tr><th scope=col>LGA</th><th scope=col>Labour force status</th><th scope=col>labour_value</th></tr></thead>\n",
       "<tbody>\n",
       "\t<tr><td>Albury                                </td><td>Employed, worked full-time            </td><td>54383                                 </td></tr>\n",
       "\t<tr><td>Albury                                </td><td>Employed, worked part-time            </td><td>32346                                 </td></tr>\n",
       "\t<tr><td>Albury                                </td><td>Employed, away from work              </td><td> 3331                                 </td></tr>\n",
       "\t<tr><td>Albury                                </td><td>Employed, hours of work not stated    </td><td> 1567                                 </td></tr>\n",
       "\t<tr><td>Albury                                </td><td>Unemployed, looking for full-time work</td><td> 4019                                 </td></tr>\n",
       "\t<tr><td>Albury                                </td><td>Unemployed, looking for part-time work</td><td> 2711                                 </td></tr>\n",
       "</tbody>\n",
       "</table>\n"
      ],
      "text/latex": [
       "\\begin{tabular}{r|lll}\n",
       " LGA & Labour force status & labour\\_value\\\\\n",
       "\\hline\n",
       "\t Albury                                 & Employed, worked full-time             & 54383                                 \\\\\n",
       "\t Albury                                 & Employed, worked part-time             & 32346                                 \\\\\n",
       "\t Albury                                 & Employed, away from work               &  3331                                 \\\\\n",
       "\t Albury                                 & Employed, hours of work not stated     &  1567                                 \\\\\n",
       "\t Albury                                 & Unemployed, looking for full-time work &  4019                                 \\\\\n",
       "\t Albury                                 & Unemployed, looking for part-time work &  2711                                 \\\\\n",
       "\\end{tabular}\n"
      ],
      "text/markdown": [
       "\n",
       "| LGA | Labour force status | labour_value |\n",
       "|---|---|---|\n",
       "| Albury                                 | Employed, worked full-time             | 54383                                  |\n",
       "| Albury                                 | Employed, worked part-time             | 32346                                  |\n",
       "| Albury                                 | Employed, away from work               |  3331                                  |\n",
       "| Albury                                 | Employed, hours of work not stated     |  1567                                  |\n",
       "| Albury                                 | Unemployed, looking for full-time work |  4019                                  |\n",
       "| Albury                                 | Unemployed, looking for part-time work |  2711                                  |\n",
       "\n"
      ],
      "text/plain": [
       "  LGA    Labour force status                    labour_value\n",
       "1 Albury Employed, worked full-time             54383       \n",
       "2 Albury Employed, worked part-time             32346       \n",
       "3 Albury Employed, away from work                3331       \n",
       "4 Albury Employed, hours of work not stated      1567       \n",
       "5 Albury Unemployed, looking for full-time work  4019       \n",
       "6 Albury Unemployed, looking for part-time work  2711       "
      ]
     },
     "metadata": {},
     "output_type": "display_data"
    }
   ],
   "source": [
    "labour_spread <- input_data$labour %>%\n",
    "    group_by(LGA, `Labour force status`) %>%\n",
    "    summarise(labour_value = sum(Value))\n",
    "\n",
    "head(labour_spread)"
   ]
  },
  {
   "cell_type": "code",
   "execution_count": 281,
   "metadata": {},
   "outputs": [
    {
     "data": {
      "text/html": [
       "<table>\n",
       "<thead><tr><th scope=col>LGA</th><th scope=col>Labour force status</th><th scope=col>labour_value</th></tr></thead>\n",
       "<tbody>\n",
       "\t<tr><td>Albury                                </td><td>Employed, worked full-time            </td><td>54383                                 </td></tr>\n",
       "\t<tr><td>Albury                                </td><td>Employed, worked part-time            </td><td>32346                                 </td></tr>\n",
       "\t<tr><td>Albury                                </td><td>Employed, away from work              </td><td> 3331                                 </td></tr>\n",
       "\t<tr><td>Albury                                </td><td>Employed, hours of work not stated    </td><td> 1567                                 </td></tr>\n",
       "\t<tr><td>Albury                                </td><td>Unemployed, looking for full-time work</td><td> 4019                                 </td></tr>\n",
       "\t<tr><td>Albury                                </td><td>Unemployed, looking for part-time work</td><td> 2711                                 </td></tr>\n",
       "</tbody>\n",
       "</table>\n"
      ],
      "text/latex": [
       "\\begin{tabular}{r|lll}\n",
       " LGA & Labour force status & labour\\_value\\\\\n",
       "\\hline\n",
       "\t Albury                                 & Employed, worked full-time             & 54383                                 \\\\\n",
       "\t Albury                                 & Employed, worked part-time             & 32346                                 \\\\\n",
       "\t Albury                                 & Employed, away from work               &  3331                                 \\\\\n",
       "\t Albury                                 & Employed, hours of work not stated     &  1567                                 \\\\\n",
       "\t Albury                                 & Unemployed, looking for full-time work &  4019                                 \\\\\n",
       "\t Albury                                 & Unemployed, looking for part-time work &  2711                                 \\\\\n",
       "\\end{tabular}\n"
      ],
      "text/markdown": [
       "\n",
       "| LGA | Labour force status | labour_value |\n",
       "|---|---|---|\n",
       "| Albury                                 | Employed, worked full-time             | 54383                                  |\n",
       "| Albury                                 | Employed, worked part-time             | 32346                                  |\n",
       "| Albury                                 | Employed, away from work               |  3331                                  |\n",
       "| Albury                                 | Employed, hours of work not stated     |  1567                                  |\n",
       "| Albury                                 | Unemployed, looking for full-time work |  4019                                  |\n",
       "| Albury                                 | Unemployed, looking for part-time work |  2711                                  |\n",
       "\n"
      ],
      "text/plain": [
       "  LGA    Labour force status                    labour_value\n",
       "1 Albury Employed, worked full-time             54383       \n",
       "2 Albury Employed, worked part-time             32346       \n",
       "3 Albury Employed, away from work                3331       \n",
       "4 Albury Employed, hours of work not stated      1567       \n",
       "5 Albury Unemployed, looking for full-time work  4019       \n",
       "6 Albury Unemployed, looking for part-time work  2711       "
      ]
     },
     "metadata": {},
     "output_type": "display_data"
    }
   ],
   "source": [
    "labour_spread <- input_data$pop_dens %>%\n",
    "    group_by(LGA, `Labour force status`) %>%\n",
    "    summarise(labour_value = sum(Value))\n",
    "\n",
    "head(labour_spread)"
   ]
  },
  {
   "cell_type": "markdown",
   "metadata": {},
   "source": [
    "# Joining the Aggregated Data"
   ]
  },
  {
   "cell_type": "code",
   "execution_count": 314,
   "metadata": {},
   "outputs": [
    {
     "name": "stderr",
     "output_type": "stream",
     "text": [
      "Joining, by = \"LGA\"\n",
      "Warning message:\n",
      "\"Column `LGA` joining factors with different levels, coercing to character vector\""
     ]
    },
    {
     "data": {
      "text/html": [
       "<table>\n",
       "<thead><tr><th scope=col>LGA</th><th scope=col>crime</th><th scope=col>males</th><th scope=col>females</th><th scope=col>persons</th></tr></thead>\n",
       "<tbody>\n",
       "\t<tr><td>Albury           </td><td> 6233            </td><td>64518            </td><td>67583            </td><td>132097           </td></tr>\n",
       "\t<tr><td>Armidale Regional</td><td> 4028            </td><td>36679            </td><td>38229            </td><td> 74946           </td></tr>\n",
       "\t<tr><td>Ballina          </td><td> 2690            </td><td>51734            </td><td>55062            </td><td>106814           </td></tr>\n",
       "\t<tr><td>Balranald        </td><td>  192            </td><td> 3041            </td><td> 2669            </td><td>  5710           </td></tr>\n",
       "\t<tr><td>Bathurst Regional</td><td> 4027            </td><td>52747            </td><td>52257            </td><td>105043           </td></tr>\n",
       "\t<tr><td>Bayside          </td><td>13024            </td><td>   NA            </td><td>   NA            </td><td>    NA           </td></tr>\n",
       "</tbody>\n",
       "</table>\n"
      ],
      "text/latex": [
       "\\begin{tabular}{r|lllll}\n",
       " LGA & crime & males & females & persons\\\\\n",
       "\\hline\n",
       "\t Albury            &  6233             & 64518             & 67583             & 132097           \\\\\n",
       "\t Armidale Regional &  4028             & 36679             & 38229             &  74946           \\\\\n",
       "\t Ballina           &  2690             & 51734             & 55062             & 106814           \\\\\n",
       "\t Balranald         &   192             &  3041             &  2669             &   5710           \\\\\n",
       "\t Bathurst Regional &  4027             & 52747             & 52257             & 105043           \\\\\n",
       "\t Bayside           & 13024             &    NA             &    NA             &     NA           \\\\\n",
       "\\end{tabular}\n"
      ],
      "text/markdown": [
       "\n",
       "| LGA | crime | males | females | persons |\n",
       "|---|---|---|---|---|\n",
       "| Albury            |  6233             | 64518             | 67583             | 132097            |\n",
       "| Armidale Regional |  4028             | 36679             | 38229             |  74946            |\n",
       "| Ballina           |  2690             | 51734             | 55062             | 106814            |\n",
       "| Balranald         |   192             |  3041             |  2669             |   5710            |\n",
       "| Bathurst Regional |  4027             | 52747             | 52257             | 105043            |\n",
       "| Bayside           | 13024             |    NA             |    NA             |     NA            |\n",
       "\n"
      ],
      "text/plain": [
       "  LGA               crime males females persons\n",
       "1 Albury             6233 64518 67583   132097 \n",
       "2 Armidale Regional  4028 36679 38229    74946 \n",
       "3 Ballina            2690 51734 55062   106814 \n",
       "4 Balranald           192  3041  2669     5710 \n",
       "5 Bathurst Regional  4027 52747 52257   105043 \n",
       "6 Bayside           13024    NA    NA       NA "
      ]
     },
     "metadata": {},
     "output_type": "display_data"
    },
    {
     "name": "stdout",
     "output_type": "stream",
     "text": [
      "Observations: 130\n",
      "Variables: 5\n",
      "$ LGA     \u001b[3m\u001b[90m<chr>\u001b[39m\u001b[23m \"Albury\", \"Armidale Regional\", \"Ballina\", \"Balranald\", \"Bat...\n",
      "$ crime   \u001b[3m\u001b[90m<int>\u001b[39m\u001b[23m 6233, 4028, 2690, 192, 4027, 13024, 2119, 798, 482, 45643, ...\n",
      "$ males   \u001b[3m\u001b[90m<int>\u001b[39m\u001b[23m 64518, 36679, 51734, 3041, 52747, NA, 41321, 15436, 10614, ...\n",
      "$ females \u001b[3m\u001b[90m<int>\u001b[39m\u001b[23m 67583, 38229, 55062, 2669, 52257, NA, 42491, 16022, 10340, ...\n",
      "$ persons \u001b[3m\u001b[90m<int>\u001b[39m\u001b[23m 132097, 74946, 106814, 5710, 105043, NA, 83764, 31479, 2092...\n"
     ]
    }
   ],
   "source": [
    "joined_agg <- input_data$crime %>%\n",
    "    group_by(LGA) %>%\n",
    "    summarise(crime = sum(Crim_Count)) %>%\n",
    "    left_join(age_spread)\n",
    "\n",
    "head(joined_agg)\n",
    "glimpse(joined_agg)"
   ]
  },
  {
   "cell_type": "code",
   "execution_count": 315,
   "metadata": {},
   "outputs": [
    {
     "name": "stderr",
     "output_type": "stream",
     "text": [
      "Joining, by = \"LGA\"\n",
      "Warning message:\n",
      "\"Column `LGA` joining character vector and factor, coercing into character vector\""
     ]
    },
    {
     "data": {
      "text/html": [
       "<table>\n",
       "<thead><tr><th scope=col>LGA</th><th scope=col>crime</th><th scope=col>males</th><th scope=col>females</th><th scope=col>persons</th><th scope=col>birthplace_of_person</th><th scope=col>birth_value</th></tr></thead>\n",
       "<tbody>\n",
       "\t<tr><td>Albury          </td><td>6233            </td><td>64518           </td><td>67583           </td><td>132097          </td><td>New Zealand     </td><td>2510            </td></tr>\n",
       "\t<tr><td>Albury          </td><td>6233            </td><td>64518           </td><td>67583           </td><td>132097          </td><td>Papua New Guinea</td><td>  99            </td></tr>\n",
       "\t<tr><td>Albury          </td><td>6233            </td><td>64518           </td><td>67583           </td><td>132097          </td><td>Fiji            </td><td> 218            </td></tr>\n",
       "\t<tr><td>Albury          </td><td>6233            </td><td>64518           </td><td>67583           </td><td>132097          </td><td>Tonga           </td><td>  24            </td></tr>\n",
       "\t<tr><td>Albury          </td><td>6233            </td><td>64518           </td><td>67583           </td><td>132097          </td><td>England         </td><td>4254            </td></tr>\n",
       "\t<tr><td>Albury          </td><td>6233            </td><td>64518           </td><td>67583           </td><td>132097          </td><td>Northern Ireland</td><td>  64            </td></tr>\n",
       "</tbody>\n",
       "</table>\n"
      ],
      "text/latex": [
       "\\begin{tabular}{r|lllllll}\n",
       " LGA & crime & males & females & persons & birthplace\\_of\\_person & birth\\_value\\\\\n",
       "\\hline\n",
       "\t Albury           & 6233             & 64518            & 67583            & 132097           & New Zealand      & 2510            \\\\\n",
       "\t Albury           & 6233             & 64518            & 67583            & 132097           & Papua New Guinea &   99            \\\\\n",
       "\t Albury           & 6233             & 64518            & 67583            & 132097           & Fiji             &  218            \\\\\n",
       "\t Albury           & 6233             & 64518            & 67583            & 132097           & Tonga            &   24            \\\\\n",
       "\t Albury           & 6233             & 64518            & 67583            & 132097           & England          & 4254            \\\\\n",
       "\t Albury           & 6233             & 64518            & 67583            & 132097           & Northern Ireland &   64            \\\\\n",
       "\\end{tabular}\n"
      ],
      "text/markdown": [
       "\n",
       "| LGA | crime | males | females | persons | birthplace_of_person | birth_value |\n",
       "|---|---|---|---|---|---|---|\n",
       "| Albury           | 6233             | 64518            | 67583            | 132097           | New Zealand      | 2510             |\n",
       "| Albury           | 6233             | 64518            | 67583            | 132097           | Papua New Guinea |   99             |\n",
       "| Albury           | 6233             | 64518            | 67583            | 132097           | Fiji             |  218             |\n",
       "| Albury           | 6233             | 64518            | 67583            | 132097           | Tonga            |   24             |\n",
       "| Albury           | 6233             | 64518            | 67583            | 132097           | England          | 4254             |\n",
       "| Albury           | 6233             | 64518            | 67583            | 132097           | Northern Ireland |   64             |\n",
       "\n"
      ],
      "text/plain": [
       "  LGA    crime males females persons birthplace_of_person birth_value\n",
       "1 Albury 6233  64518 67583   132097  New Zealand          2510       \n",
       "2 Albury 6233  64518 67583   132097  Papua New Guinea       99       \n",
       "3 Albury 6233  64518 67583   132097  Fiji                  218       \n",
       "4 Albury 6233  64518 67583   132097  Tonga                  24       \n",
       "5 Albury 6233  64518 67583   132097  England              4254       \n",
       "6 Albury 6233  64518 67583   132097  Northern Ireland       64       "
      ]
     },
     "metadata": {},
     "output_type": "display_data"
    },
    {
     "name": "stdout",
     "output_type": "stream",
     "text": [
      "Observations: 8,072\n",
      "Variables: 7\n",
      "$ LGA                  \u001b[3m\u001b[90m<chr>\u001b[39m\u001b[23m \"Albury\", \"Albury\", \"Albury\", \"Albury\", \"Albur...\n",
      "$ crime                \u001b[3m\u001b[90m<int>\u001b[39m\u001b[23m 6233, 6233, 6233, 6233, 6233, 6233, 6233, 6233...\n",
      "$ males                \u001b[3m\u001b[90m<int>\u001b[39m\u001b[23m 64518, 64518, 64518, 64518, 64518, 64518, 6451...\n",
      "$ females              \u001b[3m\u001b[90m<int>\u001b[39m\u001b[23m 67583, 67583, 67583, 67583, 67583, 67583, 6758...\n",
      "$ persons              \u001b[3m\u001b[90m<int>\u001b[39m\u001b[23m 132097, 132097, 132097, 132097, 132097, 132097...\n",
      "$ birthplace_of_person \u001b[3m\u001b[90m<fct>\u001b[39m\u001b[23m \"New Zealand\", \"Papua New Guinea\", \"Fiji\", \"To...\n",
      "$ birth_value          \u001b[3m\u001b[90m<dbl>\u001b[39m\u001b[23m 2510, 99, 218, 24, 4254, 64, 800, 213, 325, 25...\n"
     ]
    }
   ],
   "source": [
    "joined_agg %<>%\n",
    "    left_join(country_spread)\n",
    "\n",
    "head(joined_agg)\n",
    "glimpse(joined_agg)"
   ]
  },
  {
   "cell_type": "code",
   "execution_count": 316,
   "metadata": {},
   "outputs": [
    {
     "name": "stderr",
     "output_type": "stream",
     "text": [
      "Warning message:\n",
      "\"Column `LGA` joining character vector and factor, coercing into character vector\""
     ]
    },
    {
     "data": {
      "text/html": [
       "<table>\n",
       "<thead><tr><th scope=col>LGA</th><th scope=col>crime</th><th scope=col>males</th><th scope=col>females</th><th scope=col>persons</th><th scope=col>birthplace_of_person</th><th scope=col>birth_value</th><th scope=col>Industry of Employment</th><th scope=col>emp_value</th></tr></thead>\n",
       "<tbody>\n",
       "\t<tr><td>Albury                                    </td><td>6233                                      </td><td>64518                                     </td><td>67583                                     </td><td>132097                                    </td><td>New Zealand                               </td><td>2510                                      </td><td>Agriculture, Forestry and Fishing         </td><td>1253                                      </td></tr>\n",
       "\t<tr><td>Albury                                    </td><td>6233                                      </td><td>64518                                     </td><td>67583                                     </td><td>132097                                    </td><td>New Zealand                               </td><td>2510                                      </td><td>Mining                                    </td><td> 191                                      </td></tr>\n",
       "\t<tr><td>Albury                                    </td><td>6233                                      </td><td>64518                                     </td><td>67583                                     </td><td>132097                                    </td><td>New Zealand                               </td><td>2510                                      </td><td>Manufacturing                             </td><td>8435                                      </td></tr>\n",
       "\t<tr><td>Albury                                    </td><td>6233                                      </td><td>64518                                     </td><td>67583                                     </td><td>132097                                    </td><td>New Zealand                               </td><td>2510                                      </td><td>Electricity, Gas, Water and Waste Services</td><td> 713                                      </td></tr>\n",
       "\t<tr><td>Albury                                    </td><td>6233                                      </td><td>64518                                     </td><td>67583                                     </td><td>132097                                    </td><td>New Zealand                               </td><td>2510                                      </td><td>Construction                              </td><td>8425                                      </td></tr>\n",
       "\t<tr><td>Albury                                    </td><td>6233                                      </td><td>64518                                     </td><td>67583                                     </td><td>132097                                    </td><td>New Zealand                               </td><td>2510                                      </td><td>Wholesale Trade                           </td><td>2137                                      </td></tr>\n",
       "</tbody>\n",
       "</table>\n"
      ],
      "text/latex": [
       "\\begin{tabular}{r|lllllllll}\n",
       " LGA & crime & males & females & persons & birthplace\\_of\\_person & birth\\_value & Industry of Employment & emp\\_value\\\\\n",
       "\\hline\n",
       "\t Albury                                     & 6233                                       & 64518                                      & 67583                                      & 132097                                     & New Zealand                                & 2510                                       & Agriculture, Forestry and Fishing          & 1253                                      \\\\\n",
       "\t Albury                                     & 6233                                       & 64518                                      & 67583                                      & 132097                                     & New Zealand                                & 2510                                       & Mining                                     &  191                                      \\\\\n",
       "\t Albury                                     & 6233                                       & 64518                                      & 67583                                      & 132097                                     & New Zealand                                & 2510                                       & Manufacturing                              & 8435                                      \\\\\n",
       "\t Albury                                     & 6233                                       & 64518                                      & 67583                                      & 132097                                     & New Zealand                                & 2510                                       & Electricity, Gas, Water and Waste Services &  713                                      \\\\\n",
       "\t Albury                                     & 6233                                       & 64518                                      & 67583                                      & 132097                                     & New Zealand                                & 2510                                       & Construction                               & 8425                                      \\\\\n",
       "\t Albury                                     & 6233                                       & 64518                                      & 67583                                      & 132097                                     & New Zealand                                & 2510                                       & Wholesale Trade                            & 2137                                      \\\\\n",
       "\\end{tabular}\n"
      ],
      "text/markdown": [
       "\n",
       "| LGA | crime | males | females | persons | birthplace_of_person | birth_value | Industry of Employment | emp_value |\n",
       "|---|---|---|---|---|---|---|---|---|\n",
       "| Albury                                     | 6233                                       | 64518                                      | 67583                                      | 132097                                     | New Zealand                                | 2510                                       | Agriculture, Forestry and Fishing          | 1253                                       |\n",
       "| Albury                                     | 6233                                       | 64518                                      | 67583                                      | 132097                                     | New Zealand                                | 2510                                       | Mining                                     |  191                                       |\n",
       "| Albury                                     | 6233                                       | 64518                                      | 67583                                      | 132097                                     | New Zealand                                | 2510                                       | Manufacturing                              | 8435                                       |\n",
       "| Albury                                     | 6233                                       | 64518                                      | 67583                                      | 132097                                     | New Zealand                                | 2510                                       | Electricity, Gas, Water and Waste Services |  713                                       |\n",
       "| Albury                                     | 6233                                       | 64518                                      | 67583                                      | 132097                                     | New Zealand                                | 2510                                       | Construction                               | 8425                                       |\n",
       "| Albury                                     | 6233                                       | 64518                                      | 67583                                      | 132097                                     | New Zealand                                | 2510                                       | Wholesale Trade                            | 2137                                       |\n",
       "\n"
      ],
      "text/plain": [
       "  LGA    crime males females persons birthplace_of_person birth_value\n",
       "1 Albury 6233  64518 67583   132097  New Zealand          2510       \n",
       "2 Albury 6233  64518 67583   132097  New Zealand          2510       \n",
       "3 Albury 6233  64518 67583   132097  New Zealand          2510       \n",
       "4 Albury 6233  64518 67583   132097  New Zealand          2510       \n",
       "5 Albury 6233  64518 67583   132097  New Zealand          2510       \n",
       "6 Albury 6233  64518 67583   132097  New Zealand          2510       \n",
       "  Industry of Employment                     emp_value\n",
       "1 Agriculture, Forestry and Fishing          1253     \n",
       "2 Mining                                      191     \n",
       "3 Manufacturing                              8435     \n",
       "4 Electricity, Gas, Water and Waste Services  713     \n",
       "5 Construction                               8425     \n",
       "6 Wholesale Trade                            2137     "
      ]
     },
     "metadata": {},
     "output_type": "display_data"
    },
    {
     "name": "stdout",
     "output_type": "stream",
     "text": [
      "Observations: 161,345\n",
      "Variables: 9\n",
      "$ LGA                      \u001b[3m\u001b[90m<chr>\u001b[39m\u001b[23m \"Albury\", \"Albury\", \"Albury\", \"Albury\", \"A...\n",
      "$ crime                    \u001b[3m\u001b[90m<int>\u001b[39m\u001b[23m 6233, 6233, 6233, 6233, 6233, 6233, 6233, ...\n",
      "$ males                    \u001b[3m\u001b[90m<int>\u001b[39m\u001b[23m 64518, 64518, 64518, 64518, 64518, 64518, ...\n",
      "$ females                  \u001b[3m\u001b[90m<int>\u001b[39m\u001b[23m 67583, 67583, 67583, 67583, 67583, 67583, ...\n",
      "$ persons                  \u001b[3m\u001b[90m<int>\u001b[39m\u001b[23m 132097, 132097, 132097, 132097, 132097, 13...\n",
      "$ birthplace_of_person     \u001b[3m\u001b[90m<fct>\u001b[39m\u001b[23m New Zealand, New Zealand, New Zealand, New...\n",
      "$ birth_value              \u001b[3m\u001b[90m<dbl>\u001b[39m\u001b[23m 2510, 2510, 2510, 2510, 2510, 2510, 2510, ...\n",
      "$ `Industry of Employment` \u001b[3m\u001b[90m<fct>\u001b[39m\u001b[23m \"Agriculture, Forestry and Fishing\", \"Mini...\n",
      "$ emp_value                \u001b[3m\u001b[90m<int>\u001b[39m\u001b[23m 1253, 191, 8435, 713, 8425, 2137, 10520, 7...\n"
     ]
    }
   ],
   "source": [
    "joined_agg %<>%\n",
    "    left_join(employment_spread, by = \"LGA\")\n",
    "\n",
    "head(joined_agg)\n",
    "glimpse(joined_agg)"
   ]
  },
  {
   "cell_type": "code",
   "execution_count": 317,
   "metadata": {},
   "outputs": [
    {
     "name": "stderr",
     "output_type": "stream",
     "text": [
      "Warning message:\n",
      "\"Column `LGA` joining character vector and factor, coercing into character vector\""
     ]
    },
    {
     "data": {
      "text/html": [
       "<table>\n",
       "<thead><tr><th scope=col>LGA</th><th scope=col>crime</th><th scope=col>males</th><th scope=col>females</th><th scope=col>persons</th><th scope=col>birthplace_of_person</th><th scope=col>birth_value</th><th scope=col>Industry of Employment</th><th scope=col>emp_value</th><th scope=col>Labour force status</th><th scope=col>labour_value</th></tr></thead>\n",
       "<tbody>\n",
       "\t<tr><td>Albury                                </td><td>6233                                  </td><td>64518                                 </td><td>67583                                 </td><td>132097                                </td><td>New Zealand                           </td><td>2510                                  </td><td>Agriculture, Forestry and Fishing     </td><td>1253                                  </td><td>Employed, worked full-time            </td><td>54383                                 </td></tr>\n",
       "\t<tr><td>Albury                                </td><td>6233                                  </td><td>64518                                 </td><td>67583                                 </td><td>132097                                </td><td>New Zealand                           </td><td>2510                                  </td><td>Agriculture, Forestry and Fishing     </td><td>1253                                  </td><td>Employed, worked part-time            </td><td>32346                                 </td></tr>\n",
       "\t<tr><td>Albury                                </td><td>6233                                  </td><td>64518                                 </td><td>67583                                 </td><td>132097                                </td><td>New Zealand                           </td><td>2510                                  </td><td>Agriculture, Forestry and Fishing     </td><td>1253                                  </td><td>Employed, away from work              </td><td> 3331                                 </td></tr>\n",
       "\t<tr><td>Albury                                </td><td>6233                                  </td><td>64518                                 </td><td>67583                                 </td><td>132097                                </td><td>New Zealand                           </td><td>2510                                  </td><td>Agriculture, Forestry and Fishing     </td><td>1253                                  </td><td>Employed, hours of work not stated    </td><td> 1567                                 </td></tr>\n",
       "\t<tr><td>Albury                                </td><td>6233                                  </td><td>64518                                 </td><td>67583                                 </td><td>132097                                </td><td>New Zealand                           </td><td>2510                                  </td><td>Agriculture, Forestry and Fishing     </td><td>1253                                  </td><td>Unemployed, looking for full-time work</td><td> 4019                                 </td></tr>\n",
       "\t<tr><td>Albury                                </td><td>6233                                  </td><td>64518                                 </td><td>67583                                 </td><td>132097                                </td><td>New Zealand                           </td><td>2510                                  </td><td>Agriculture, Forestry and Fishing     </td><td>1253                                  </td><td>Unemployed, looking for part-time work</td><td> 2711                                 </td></tr>\n",
       "</tbody>\n",
       "</table>\n"
      ],
      "text/latex": [
       "\\begin{tabular}{r|lllllllllll}\n",
       " LGA & crime & males & females & persons & birthplace\\_of\\_person & birth\\_value & Industry of Employment & emp\\_value & Labour force status & labour\\_value\\\\\n",
       "\\hline\n",
       "\t Albury                                 & 6233                                   & 64518                                  & 67583                                  & 132097                                 & New Zealand                            & 2510                                   & Agriculture, Forestry and Fishing      & 1253                                   & Employed, worked full-time             & 54383                                 \\\\\n",
       "\t Albury                                 & 6233                                   & 64518                                  & 67583                                  & 132097                                 & New Zealand                            & 2510                                   & Agriculture, Forestry and Fishing      & 1253                                   & Employed, worked part-time             & 32346                                 \\\\\n",
       "\t Albury                                 & 6233                                   & 64518                                  & 67583                                  & 132097                                 & New Zealand                            & 2510                                   & Agriculture, Forestry and Fishing      & 1253                                   & Employed, away from work               &  3331                                 \\\\\n",
       "\t Albury                                 & 6233                                   & 64518                                  & 67583                                  & 132097                                 & New Zealand                            & 2510                                   & Agriculture, Forestry and Fishing      & 1253                                   & Employed, hours of work not stated     &  1567                                 \\\\\n",
       "\t Albury                                 & 6233                                   & 64518                                  & 67583                                  & 132097                                 & New Zealand                            & 2510                                   & Agriculture, Forestry and Fishing      & 1253                                   & Unemployed, looking for full-time work &  4019                                 \\\\\n",
       "\t Albury                                 & 6233                                   & 64518                                  & 67583                                  & 132097                                 & New Zealand                            & 2510                                   & Agriculture, Forestry and Fishing      & 1253                                   & Unemployed, looking for part-time work &  2711                                 \\\\\n",
       "\\end{tabular}\n"
      ],
      "text/markdown": [
       "\n",
       "| LGA | crime | males | females | persons | birthplace_of_person | birth_value | Industry of Employment | emp_value | Labour force status | labour_value |\n",
       "|---|---|---|---|---|---|---|---|---|---|---|\n",
       "| Albury                                 | 6233                                   | 64518                                  | 67583                                  | 132097                                 | New Zealand                            | 2510                                   | Agriculture, Forestry and Fishing      | 1253                                   | Employed, worked full-time             | 54383                                  |\n",
       "| Albury                                 | 6233                                   | 64518                                  | 67583                                  | 132097                                 | New Zealand                            | 2510                                   | Agriculture, Forestry and Fishing      | 1253                                   | Employed, worked part-time             | 32346                                  |\n",
       "| Albury                                 | 6233                                   | 64518                                  | 67583                                  | 132097                                 | New Zealand                            | 2510                                   | Agriculture, Forestry and Fishing      | 1253                                   | Employed, away from work               |  3331                                  |\n",
       "| Albury                                 | 6233                                   | 64518                                  | 67583                                  | 132097                                 | New Zealand                            | 2510                                   | Agriculture, Forestry and Fishing      | 1253                                   | Employed, hours of work not stated     |  1567                                  |\n",
       "| Albury                                 | 6233                                   | 64518                                  | 67583                                  | 132097                                 | New Zealand                            | 2510                                   | Agriculture, Forestry and Fishing      | 1253                                   | Unemployed, looking for full-time work |  4019                                  |\n",
       "| Albury                                 | 6233                                   | 64518                                  | 67583                                  | 132097                                 | New Zealand                            | 2510                                   | Agriculture, Forestry and Fishing      | 1253                                   | Unemployed, looking for part-time work |  2711                                  |\n",
       "\n"
      ],
      "text/plain": [
       "  LGA    crime males females persons birthplace_of_person birth_value\n",
       "1 Albury 6233  64518 67583   132097  New Zealand          2510       \n",
       "2 Albury 6233  64518 67583   132097  New Zealand          2510       \n",
       "3 Albury 6233  64518 67583   132097  New Zealand          2510       \n",
       "4 Albury 6233  64518 67583   132097  New Zealand          2510       \n",
       "5 Albury 6233  64518 67583   132097  New Zealand          2510       \n",
       "6 Albury 6233  64518 67583   132097  New Zealand          2510       \n",
       "  Industry of Employment            emp_value\n",
       "1 Agriculture, Forestry and Fishing 1253     \n",
       "2 Agriculture, Forestry and Fishing 1253     \n",
       "3 Agriculture, Forestry and Fishing 1253     \n",
       "4 Agriculture, Forestry and Fishing 1253     \n",
       "5 Agriculture, Forestry and Fishing 1253     \n",
       "6 Agriculture, Forestry and Fishing 1253     \n",
       "  Labour force status                    labour_value\n",
       "1 Employed, worked full-time             54383       \n",
       "2 Employed, worked part-time             32346       \n",
       "3 Employed, away from work                3331       \n",
       "4 Employed, hours of work not stated      1567       \n",
       "5 Unemployed, looking for full-time work  4019       \n",
       "6 Unemployed, looking for part-time work  2711       "
      ]
     },
     "metadata": {},
     "output_type": "display_data"
    },
    {
     "name": "stdout",
     "output_type": "stream",
     "text": [
      "Observations: 1,290,725\n",
      "Variables: 11\n",
      "$ LGA                      \u001b[3m\u001b[90m<chr>\u001b[39m\u001b[23m \"Albury\", \"Albury\", \"Albury\", \"Albury\", \"A...\n",
      "$ crime                    \u001b[3m\u001b[90m<int>\u001b[39m\u001b[23m 6233, 6233, 6233, 6233, 6233, 6233, 6233, ...\n",
      "$ males                    \u001b[3m\u001b[90m<int>\u001b[39m\u001b[23m 64518, 64518, 64518, 64518, 64518, 64518, ...\n",
      "$ females                  \u001b[3m\u001b[90m<int>\u001b[39m\u001b[23m 67583, 67583, 67583, 67583, 67583, 67583, ...\n",
      "$ persons                  \u001b[3m\u001b[90m<int>\u001b[39m\u001b[23m 132097, 132097, 132097, 132097, 132097, 13...\n",
      "$ birthplace_of_person     \u001b[3m\u001b[90m<fct>\u001b[39m\u001b[23m New Zealand, New Zealand, New Zealand, New...\n",
      "$ birth_value              \u001b[3m\u001b[90m<dbl>\u001b[39m\u001b[23m 2510, 2510, 2510, 2510, 2510, 2510, 2510, ...\n",
      "$ `Industry of Employment` \u001b[3m\u001b[90m<fct>\u001b[39m\u001b[23m \"Agriculture, Forestry and Fishing\", \"Agri...\n",
      "$ emp_value                \u001b[3m\u001b[90m<int>\u001b[39m\u001b[23m 1253, 1253, 1253, 1253, 1253, 1253, 1253, ...\n",
      "$ `Labour force status`    \u001b[3m\u001b[90m<fct>\u001b[39m\u001b[23m \"Employed, worked full-time\", \"Employed, w...\n",
      "$ labour_value             \u001b[3m\u001b[90m<int>\u001b[39m\u001b[23m 54383, 32346, 3331, 1567, 4019, 2711, 5539...\n"
     ]
    }
   ],
   "source": [
    "joined_agg %<>%\n",
    "    left_join(labour_spread, by = \"LGA\")\n",
    "\n",
    "head(joined_agg)\n",
    "glimpse(joined_agg)"
   ]
  },
  {
   "cell_type": "code",
   "execution_count": 318,
   "metadata": {},
   "outputs": [
    {
     "name": "stderr",
     "output_type": "stream",
     "text": [
      "Warning message:\n",
      "\"Column `LGA` joining character vector and factor, coercing into character vector\""
     ]
    },
    {
     "data": {
      "text/html": [
       "<table>\n",
       "<thead><tr><th scope=col>LGA</th><th scope=col>crime</th><th scope=col>males</th><th scope=col>females</th><th scope=col>persons</th><th scope=col>birthplace_of_person</th><th scope=col>birth_value</th><th scope=col>Industry of Employment</th><th scope=col>emp_value</th><th scope=col>Labour force status</th><th scope=col>labour_value</th><th scope=col>Pop_Dens_km2</th></tr></thead>\n",
       "<tbody>\n",
       "\t<tr><td>Albury                                </td><td>6233                                  </td><td>64518                                 </td><td>67583                                 </td><td>132097                                </td><td>New Zealand                           </td><td>2510                                  </td><td>Agriculture, Forestry and Fishing     </td><td>1253                                  </td><td>Employed, worked full-time            </td><td>54383                                 </td><td>170.5                                 </td></tr>\n",
       "\t<tr><td>Albury                                </td><td>6233                                  </td><td>64518                                 </td><td>67583                                 </td><td>132097                                </td><td>New Zealand                           </td><td>2510                                  </td><td>Agriculture, Forestry and Fishing     </td><td>1253                                  </td><td>Employed, worked part-time            </td><td>32346                                 </td><td>170.5                                 </td></tr>\n",
       "\t<tr><td>Albury                                </td><td>6233                                  </td><td>64518                                 </td><td>67583                                 </td><td>132097                                </td><td>New Zealand                           </td><td>2510                                  </td><td>Agriculture, Forestry and Fishing     </td><td>1253                                  </td><td>Employed, away from work              </td><td> 3331                                 </td><td>170.5                                 </td></tr>\n",
       "\t<tr><td>Albury                                </td><td>6233                                  </td><td>64518                                 </td><td>67583                                 </td><td>132097                                </td><td>New Zealand                           </td><td>2510                                  </td><td>Agriculture, Forestry and Fishing     </td><td>1253                                  </td><td>Employed, hours of work not stated    </td><td> 1567                                 </td><td>170.5                                 </td></tr>\n",
       "\t<tr><td>Albury                                </td><td>6233                                  </td><td>64518                                 </td><td>67583                                 </td><td>132097                                </td><td>New Zealand                           </td><td>2510                                  </td><td>Agriculture, Forestry and Fishing     </td><td>1253                                  </td><td>Unemployed, looking for full-time work</td><td> 4019                                 </td><td>170.5                                 </td></tr>\n",
       "\t<tr><td>Albury                                </td><td>6233                                  </td><td>64518                                 </td><td>67583                                 </td><td>132097                                </td><td>New Zealand                           </td><td>2510                                  </td><td>Agriculture, Forestry and Fishing     </td><td>1253                                  </td><td>Unemployed, looking for part-time work</td><td> 2711                                 </td><td>170.5                                 </td></tr>\n",
       "</tbody>\n",
       "</table>\n"
      ],
      "text/latex": [
       "\\begin{tabular}{r|llllllllllll}\n",
       " LGA & crime & males & females & persons & birthplace\\_of\\_person & birth\\_value & Industry of Employment & emp\\_value & Labour force status & labour\\_value & Pop\\_Dens\\_km2\\\\\n",
       "\\hline\n",
       "\t Albury                                 & 6233                                   & 64518                                  & 67583                                  & 132097                                 & New Zealand                            & 2510                                   & Agriculture, Forestry and Fishing      & 1253                                   & Employed, worked full-time             & 54383                                  & 170.5                                 \\\\\n",
       "\t Albury                                 & 6233                                   & 64518                                  & 67583                                  & 132097                                 & New Zealand                            & 2510                                   & Agriculture, Forestry and Fishing      & 1253                                   & Employed, worked part-time             & 32346                                  & 170.5                                 \\\\\n",
       "\t Albury                                 & 6233                                   & 64518                                  & 67583                                  & 132097                                 & New Zealand                            & 2510                                   & Agriculture, Forestry and Fishing      & 1253                                   & Employed, away from work               &  3331                                  & 170.5                                 \\\\\n",
       "\t Albury                                 & 6233                                   & 64518                                  & 67583                                  & 132097                                 & New Zealand                            & 2510                                   & Agriculture, Forestry and Fishing      & 1253                                   & Employed, hours of work not stated     &  1567                                  & 170.5                                 \\\\\n",
       "\t Albury                                 & 6233                                   & 64518                                  & 67583                                  & 132097                                 & New Zealand                            & 2510                                   & Agriculture, Forestry and Fishing      & 1253                                   & Unemployed, looking for full-time work &  4019                                  & 170.5                                 \\\\\n",
       "\t Albury                                 & 6233                                   & 64518                                  & 67583                                  & 132097                                 & New Zealand                            & 2510                                   & Agriculture, Forestry and Fishing      & 1253                                   & Unemployed, looking for part-time work &  2711                                  & 170.5                                 \\\\\n",
       "\\end{tabular}\n"
      ],
      "text/markdown": [
       "\n",
       "| LGA | crime | males | females | persons | birthplace_of_person | birth_value | Industry of Employment | emp_value | Labour force status | labour_value | Pop_Dens_km2 |\n",
       "|---|---|---|---|---|---|---|---|---|---|---|---|\n",
       "| Albury                                 | 6233                                   | 64518                                  | 67583                                  | 132097                                 | New Zealand                            | 2510                                   | Agriculture, Forestry and Fishing      | 1253                                   | Employed, worked full-time             | 54383                                  | 170.5                                  |\n",
       "| Albury                                 | 6233                                   | 64518                                  | 67583                                  | 132097                                 | New Zealand                            | 2510                                   | Agriculture, Forestry and Fishing      | 1253                                   | Employed, worked part-time             | 32346                                  | 170.5                                  |\n",
       "| Albury                                 | 6233                                   | 64518                                  | 67583                                  | 132097                                 | New Zealand                            | 2510                                   | Agriculture, Forestry and Fishing      | 1253                                   | Employed, away from work               |  3331                                  | 170.5                                  |\n",
       "| Albury                                 | 6233                                   | 64518                                  | 67583                                  | 132097                                 | New Zealand                            | 2510                                   | Agriculture, Forestry and Fishing      | 1253                                   | Employed, hours of work not stated     |  1567                                  | 170.5                                  |\n",
       "| Albury                                 | 6233                                   | 64518                                  | 67583                                  | 132097                                 | New Zealand                            | 2510                                   | Agriculture, Forestry and Fishing      | 1253                                   | Unemployed, looking for full-time work |  4019                                  | 170.5                                  |\n",
       "| Albury                                 | 6233                                   | 64518                                  | 67583                                  | 132097                                 | New Zealand                            | 2510                                   | Agriculture, Forestry and Fishing      | 1253                                   | Unemployed, looking for part-time work |  2711                                  | 170.5                                  |\n",
       "\n"
      ],
      "text/plain": [
       "  LGA    crime males females persons birthplace_of_person birth_value\n",
       "1 Albury 6233  64518 67583   132097  New Zealand          2510       \n",
       "2 Albury 6233  64518 67583   132097  New Zealand          2510       \n",
       "3 Albury 6233  64518 67583   132097  New Zealand          2510       \n",
       "4 Albury 6233  64518 67583   132097  New Zealand          2510       \n",
       "5 Albury 6233  64518 67583   132097  New Zealand          2510       \n",
       "6 Albury 6233  64518 67583   132097  New Zealand          2510       \n",
       "  Industry of Employment            emp_value\n",
       "1 Agriculture, Forestry and Fishing 1253     \n",
       "2 Agriculture, Forestry and Fishing 1253     \n",
       "3 Agriculture, Forestry and Fishing 1253     \n",
       "4 Agriculture, Forestry and Fishing 1253     \n",
       "5 Agriculture, Forestry and Fishing 1253     \n",
       "6 Agriculture, Forestry and Fishing 1253     \n",
       "  Labour force status                    labour_value Pop_Dens_km2\n",
       "1 Employed, worked full-time             54383        170.5       \n",
       "2 Employed, worked part-time             32346        170.5       \n",
       "3 Employed, away from work                3331        170.5       \n",
       "4 Employed, hours of work not stated      1567        170.5       \n",
       "5 Unemployed, looking for full-time work  4019        170.5       \n",
       "6 Unemployed, looking for part-time work  2711        170.5       "
      ]
     },
     "metadata": {},
     "output_type": "display_data"
    },
    {
     "name": "stdout",
     "output_type": "stream",
     "text": [
      "Observations: 1,290,725\n",
      "Variables: 12\n",
      "$ LGA                      \u001b[3m\u001b[90m<chr>\u001b[39m\u001b[23m \"Albury\", \"Albury\", \"Albury\", \"Albury\", \"A...\n",
      "$ crime                    \u001b[3m\u001b[90m<int>\u001b[39m\u001b[23m 6233, 6233, 6233, 6233, 6233, 6233, 6233, ...\n",
      "$ males                    \u001b[3m\u001b[90m<int>\u001b[39m\u001b[23m 64518, 64518, 64518, 64518, 64518, 64518, ...\n",
      "$ females                  \u001b[3m\u001b[90m<int>\u001b[39m\u001b[23m 67583, 67583, 67583, 67583, 67583, 67583, ...\n",
      "$ persons                  \u001b[3m\u001b[90m<int>\u001b[39m\u001b[23m 132097, 132097, 132097, 132097, 132097, 13...\n",
      "$ birthplace_of_person     \u001b[3m\u001b[90m<fct>\u001b[39m\u001b[23m New Zealand, New Zealand, New Zealand, New...\n",
      "$ birth_value              \u001b[3m\u001b[90m<dbl>\u001b[39m\u001b[23m 2510, 2510, 2510, 2510, 2510, 2510, 2510, ...\n",
      "$ `Industry of Employment` \u001b[3m\u001b[90m<fct>\u001b[39m\u001b[23m \"Agriculture, Forestry and Fishing\", \"Agri...\n",
      "$ emp_value                \u001b[3m\u001b[90m<int>\u001b[39m\u001b[23m 1253, 1253, 1253, 1253, 1253, 1253, 1253, ...\n",
      "$ `Labour force status`    \u001b[3m\u001b[90m<fct>\u001b[39m\u001b[23m \"Employed, worked full-time\", \"Employed, w...\n",
      "$ labour_value             \u001b[3m\u001b[90m<int>\u001b[39m\u001b[23m 54383, 32346, 3331, 1567, 4019, 2711, 5539...\n",
      "$ Pop_Dens_km2             \u001b[3m\u001b[90m<dbl>\u001b[39m\u001b[23m 170.5, 170.5, 170.5, 170.5, 170.5, 170.5, ...\n"
     ]
    }
   ],
   "source": [
    "joined_agg %<>%\n",
    "    left_join(input_data$pop_dens %>% select(-X1), by = \"LGA\")\n",
    "\n",
    "head(joined_agg)\n",
    "glimpse(joined_agg)"
   ]
  },
  {
   "cell_type": "code",
   "execution_count": 319,
   "metadata": {},
   "outputs": [
    {
     "name": "stderr",
     "output_type": "stream",
     "text": [
      "Warning message:\n",
      "\"Column `LGA` joining character vector and factor, coercing into character vector\""
     ]
    },
    {
     "data": {
      "text/html": [
       "<table>\n",
       "<thead><tr><th scope=col>LGA</th><th scope=col>crime</th><th scope=col>males</th><th scope=col>females</th><th scope=col>persons</th><th scope=col>birthplace_of_person</th><th scope=col>birth_value</th><th scope=col>Industry of Employment</th><th scope=col>emp_value</th><th scope=col>Labour force status</th><th scope=col>labour_value</th><th scope=col>Pop_Dens_km2</th><th scope=col>seifa_value</th></tr></thead>\n",
       "<tbody>\n",
       "\t<tr><td>Albury                                </td><td>6233                                  </td><td>64518                                 </td><td>67583                                 </td><td>132097                                </td><td>New Zealand                           </td><td>2510                                  </td><td>Agriculture, Forestry and Fishing     </td><td>1253                                  </td><td>Employed, worked full-time            </td><td>54383                                 </td><td>170.5                                 </td><td>964                                   </td></tr>\n",
       "\t<tr><td>Albury                                </td><td>6233                                  </td><td>64518                                 </td><td>67583                                 </td><td>132097                                </td><td>New Zealand                           </td><td>2510                                  </td><td>Agriculture, Forestry and Fishing     </td><td>1253                                  </td><td>Employed, worked part-time            </td><td>32346                                 </td><td>170.5                                 </td><td>964                                   </td></tr>\n",
       "\t<tr><td>Albury                                </td><td>6233                                  </td><td>64518                                 </td><td>67583                                 </td><td>132097                                </td><td>New Zealand                           </td><td>2510                                  </td><td>Agriculture, Forestry and Fishing     </td><td>1253                                  </td><td>Employed, away from work              </td><td> 3331                                 </td><td>170.5                                 </td><td>964                                   </td></tr>\n",
       "\t<tr><td>Albury                                </td><td>6233                                  </td><td>64518                                 </td><td>67583                                 </td><td>132097                                </td><td>New Zealand                           </td><td>2510                                  </td><td>Agriculture, Forestry and Fishing     </td><td>1253                                  </td><td>Employed, hours of work not stated    </td><td> 1567                                 </td><td>170.5                                 </td><td>964                                   </td></tr>\n",
       "\t<tr><td>Albury                                </td><td>6233                                  </td><td>64518                                 </td><td>67583                                 </td><td>132097                                </td><td>New Zealand                           </td><td>2510                                  </td><td>Agriculture, Forestry and Fishing     </td><td>1253                                  </td><td>Unemployed, looking for full-time work</td><td> 4019                                 </td><td>170.5                                 </td><td>964                                   </td></tr>\n",
       "\t<tr><td>Albury                                </td><td>6233                                  </td><td>64518                                 </td><td>67583                                 </td><td>132097                                </td><td>New Zealand                           </td><td>2510                                  </td><td>Agriculture, Forestry and Fishing     </td><td>1253                                  </td><td>Unemployed, looking for part-time work</td><td> 2711                                 </td><td>170.5                                 </td><td>964                                   </td></tr>\n",
       "</tbody>\n",
       "</table>\n"
      ],
      "text/latex": [
       "\\begin{tabular}{r|lllllllllllll}\n",
       " LGA & crime & males & females & persons & birthplace\\_of\\_person & birth\\_value & Industry of Employment & emp\\_value & Labour force status & labour\\_value & Pop\\_Dens\\_km2 & seifa\\_value\\\\\n",
       "\\hline\n",
       "\t Albury                                 & 6233                                   & 64518                                  & 67583                                  & 132097                                 & New Zealand                            & 2510                                   & Agriculture, Forestry and Fishing      & 1253                                   & Employed, worked full-time             & 54383                                  & 170.5                                  & 964                                   \\\\\n",
       "\t Albury                                 & 6233                                   & 64518                                  & 67583                                  & 132097                                 & New Zealand                            & 2510                                   & Agriculture, Forestry and Fishing      & 1253                                   & Employed, worked part-time             & 32346                                  & 170.5                                  & 964                                   \\\\\n",
       "\t Albury                                 & 6233                                   & 64518                                  & 67583                                  & 132097                                 & New Zealand                            & 2510                                   & Agriculture, Forestry and Fishing      & 1253                                   & Employed, away from work               &  3331                                  & 170.5                                  & 964                                   \\\\\n",
       "\t Albury                                 & 6233                                   & 64518                                  & 67583                                  & 132097                                 & New Zealand                            & 2510                                   & Agriculture, Forestry and Fishing      & 1253                                   & Employed, hours of work not stated     &  1567                                  & 170.5                                  & 964                                   \\\\\n",
       "\t Albury                                 & 6233                                   & 64518                                  & 67583                                  & 132097                                 & New Zealand                            & 2510                                   & Agriculture, Forestry and Fishing      & 1253                                   & Unemployed, looking for full-time work &  4019                                  & 170.5                                  & 964                                   \\\\\n",
       "\t Albury                                 & 6233                                   & 64518                                  & 67583                                  & 132097                                 & New Zealand                            & 2510                                   & Agriculture, Forestry and Fishing      & 1253                                   & Unemployed, looking for part-time work &  2711                                  & 170.5                                  & 964                                   \\\\\n",
       "\\end{tabular}\n"
      ],
      "text/markdown": [
       "\n",
       "| LGA | crime | males | females | persons | birthplace_of_person | birth_value | Industry of Employment | emp_value | Labour force status | labour_value | Pop_Dens_km2 | seifa_value |\n",
       "|---|---|---|---|---|---|---|---|---|---|---|---|---|\n",
       "| Albury                                 | 6233                                   | 64518                                  | 67583                                  | 132097                                 | New Zealand                            | 2510                                   | Agriculture, Forestry and Fishing      | 1253                                   | Employed, worked full-time             | 54383                                  | 170.5                                  | 964                                    |\n",
       "| Albury                                 | 6233                                   | 64518                                  | 67583                                  | 132097                                 | New Zealand                            | 2510                                   | Agriculture, Forestry and Fishing      | 1253                                   | Employed, worked part-time             | 32346                                  | 170.5                                  | 964                                    |\n",
       "| Albury                                 | 6233                                   | 64518                                  | 67583                                  | 132097                                 | New Zealand                            | 2510                                   | Agriculture, Forestry and Fishing      | 1253                                   | Employed, away from work               |  3331                                  | 170.5                                  | 964                                    |\n",
       "| Albury                                 | 6233                                   | 64518                                  | 67583                                  | 132097                                 | New Zealand                            | 2510                                   | Agriculture, Forestry and Fishing      | 1253                                   | Employed, hours of work not stated     |  1567                                  | 170.5                                  | 964                                    |\n",
       "| Albury                                 | 6233                                   | 64518                                  | 67583                                  | 132097                                 | New Zealand                            | 2510                                   | Agriculture, Forestry and Fishing      | 1253                                   | Unemployed, looking for full-time work |  4019                                  | 170.5                                  | 964                                    |\n",
       "| Albury                                 | 6233                                   | 64518                                  | 67583                                  | 132097                                 | New Zealand                            | 2510                                   | Agriculture, Forestry and Fishing      | 1253                                   | Unemployed, looking for part-time work |  2711                                  | 170.5                                  | 964                                    |\n",
       "\n"
      ],
      "text/plain": [
       "  LGA    crime males females persons birthplace_of_person birth_value\n",
       "1 Albury 6233  64518 67583   132097  New Zealand          2510       \n",
       "2 Albury 6233  64518 67583   132097  New Zealand          2510       \n",
       "3 Albury 6233  64518 67583   132097  New Zealand          2510       \n",
       "4 Albury 6233  64518 67583   132097  New Zealand          2510       \n",
       "5 Albury 6233  64518 67583   132097  New Zealand          2510       \n",
       "6 Albury 6233  64518 67583   132097  New Zealand          2510       \n",
       "  Industry of Employment            emp_value\n",
       "1 Agriculture, Forestry and Fishing 1253     \n",
       "2 Agriculture, Forestry and Fishing 1253     \n",
       "3 Agriculture, Forestry and Fishing 1253     \n",
       "4 Agriculture, Forestry and Fishing 1253     \n",
       "5 Agriculture, Forestry and Fishing 1253     \n",
       "6 Agriculture, Forestry and Fishing 1253     \n",
       "  Labour force status                    labour_value Pop_Dens_km2 seifa_value\n",
       "1 Employed, worked full-time             54383        170.5        964        \n",
       "2 Employed, worked part-time             32346        170.5        964        \n",
       "3 Employed, away from work                3331        170.5        964        \n",
       "4 Employed, hours of work not stated      1567        170.5        964        \n",
       "5 Unemployed, looking for full-time work  4019        170.5        964        \n",
       "6 Unemployed, looking for part-time work  2711        170.5        964        "
      ]
     },
     "metadata": {},
     "output_type": "display_data"
    },
    {
     "name": "stdout",
     "output_type": "stream",
     "text": [
      "Observations: 1,314,885\n",
      "Variables: 13\n",
      "$ LGA                      \u001b[3m\u001b[90m<chr>\u001b[39m\u001b[23m \"Albury\", \"Albury\", \"Albury\", \"Albury\", \"A...\n",
      "$ crime                    \u001b[3m\u001b[90m<int>\u001b[39m\u001b[23m 6233, 6233, 6233, 6233, 6233, 6233, 6233, ...\n",
      "$ males                    \u001b[3m\u001b[90m<int>\u001b[39m\u001b[23m 64518, 64518, 64518, 64518, 64518, 64518, ...\n",
      "$ females                  \u001b[3m\u001b[90m<int>\u001b[39m\u001b[23m 67583, 67583, 67583, 67583, 67583, 67583, ...\n",
      "$ persons                  \u001b[3m\u001b[90m<int>\u001b[39m\u001b[23m 132097, 132097, 132097, 132097, 132097, 13...\n",
      "$ birthplace_of_person     \u001b[3m\u001b[90m<fct>\u001b[39m\u001b[23m New Zealand, New Zealand, New Zealand, New...\n",
      "$ birth_value              \u001b[3m\u001b[90m<dbl>\u001b[39m\u001b[23m 2510, 2510, 2510, 2510, 2510, 2510, 2510, ...\n",
      "$ `Industry of Employment` \u001b[3m\u001b[90m<fct>\u001b[39m\u001b[23m \"Agriculture, Forestry and Fishing\", \"Agri...\n",
      "$ emp_value                \u001b[3m\u001b[90m<int>\u001b[39m\u001b[23m 1253, 1253, 1253, 1253, 1253, 1253, 1253, ...\n",
      "$ `Labour force status`    \u001b[3m\u001b[90m<fct>\u001b[39m\u001b[23m \"Employed, worked full-time\", \"Employed, w...\n",
      "$ labour_value             \u001b[3m\u001b[90m<int>\u001b[39m\u001b[23m 54383, 32346, 3331, 1567, 4019, 2711, 5539...\n",
      "$ Pop_Dens_km2             \u001b[3m\u001b[90m<dbl>\u001b[39m\u001b[23m 170.5, 170.5, 170.5, 170.5, 170.5, 170.5, ...\n",
      "$ seifa_value              \u001b[3m\u001b[90m<int>\u001b[39m\u001b[23m 964, 964, 964, 964, 964, 964, 964, 964, 96...\n"
     ]
    }
   ],
   "source": [
    "joined_agg %<>%\n",
    "    left_join(input_data$seifa %>% select(-X1) %>% rename(seifa_value = Value), by = \"LGA\")\n",
    "\n",
    "head(joined_agg)\n",
    "glimpse(joined_agg)"
   ]
  },
  {
   "cell_type": "code",
   "execution_count": 320,
   "metadata": {},
   "outputs": [
    {
     "name": "stderr",
     "output_type": "stream",
     "text": [
      "Warning message:\n",
      "\"Column `LGA` joining character vector and factor, coercing into character vector\""
     ]
    },
    {
     "data": {
      "text/html": [
       "<table>\n",
       "<thead><tr><th scope=col>LGA</th><th scope=col>crime</th><th scope=col>males</th><th scope=col>females</th><th scope=col>persons</th><th scope=col>birthplace_of_person</th><th scope=col>birth_value</th><th scope=col>Industry of Employment</th><th scope=col>emp_value</th><th scope=col>Labour force status</th><th scope=col>labour_value</th><th scope=col>Pop_Dens_km2</th><th scope=col>seifa_value</th><th scope=col>route_type</th><th scope=col>num_service</th></tr></thead>\n",
       "<tbody>\n",
       "\t<tr><td>Albury                           </td><td>6233                             </td><td>64518                            </td><td>67583                            </td><td>132097                           </td><td>New Zealand                      </td><td>2510                             </td><td>Agriculture, Forestry and Fishing</td><td>1253                             </td><td>Employed, worked full-time       </td><td>54383                            </td><td>170.5                            </td><td>964                              </td><td>106                              </td><td> 131                             </td></tr>\n",
       "\t<tr><td>Albury                           </td><td>6233                             </td><td>64518                            </td><td>67583                            </td><td>132097                           </td><td>New Zealand                      </td><td>2510                             </td><td>Agriculture, Forestry and Fishing</td><td>1253                             </td><td>Employed, worked full-time       </td><td>54383                            </td><td>170.5                            </td><td>964                              </td><td>204                              </td><td>  14                             </td></tr>\n",
       "\t<tr><td>Albury                           </td><td>6233                             </td><td>64518                            </td><td>67583                            </td><td>132097                           </td><td>New Zealand                      </td><td>2510                             </td><td>Agriculture, Forestry and Fishing</td><td>1253                             </td><td>Employed, worked full-time       </td><td>54383                            </td><td>170.5                            </td><td>964                              </td><td>700                              </td><td>1624                             </td></tr>\n",
       "\t<tr><td>Albury                           </td><td>6233                             </td><td>64518                            </td><td>67583                            </td><td>132097                           </td><td>New Zealand                      </td><td>2510                             </td><td>Agriculture, Forestry and Fishing</td><td>1253                             </td><td>Employed, worked part-time       </td><td>32346                            </td><td>170.5                            </td><td>964                              </td><td>106                              </td><td> 131                             </td></tr>\n",
       "\t<tr><td>Albury                           </td><td>6233                             </td><td>64518                            </td><td>67583                            </td><td>132097                           </td><td>New Zealand                      </td><td>2510                             </td><td>Agriculture, Forestry and Fishing</td><td>1253                             </td><td>Employed, worked part-time       </td><td>32346                            </td><td>170.5                            </td><td>964                              </td><td>204                              </td><td>  14                             </td></tr>\n",
       "\t<tr><td>Albury                           </td><td>6233                             </td><td>64518                            </td><td>67583                            </td><td>132097                           </td><td>New Zealand                      </td><td>2510                             </td><td>Agriculture, Forestry and Fishing</td><td>1253                             </td><td>Employed, worked part-time       </td><td>32346                            </td><td>170.5                            </td><td>964                              </td><td>700                              </td><td>1624                             </td></tr>\n",
       "</tbody>\n",
       "</table>\n"
      ],
      "text/latex": [
       "\\begin{tabular}{r|lllllllllllllll}\n",
       " LGA & crime & males & females & persons & birthplace\\_of\\_person & birth\\_value & Industry of Employment & emp\\_value & Labour force status & labour\\_value & Pop\\_Dens\\_km2 & seifa\\_value & route\\_type & num\\_service\\\\\n",
       "\\hline\n",
       "\t Albury                            & 6233                              & 64518                             & 67583                             & 132097                            & New Zealand                       & 2510                              & Agriculture, Forestry and Fishing & 1253                              & Employed, worked full-time        & 54383                             & 170.5                             & 964                               & 106                               &  131                             \\\\\n",
       "\t Albury                            & 6233                              & 64518                             & 67583                             & 132097                            & New Zealand                       & 2510                              & Agriculture, Forestry and Fishing & 1253                              & Employed, worked full-time        & 54383                             & 170.5                             & 964                               & 204                               &   14                             \\\\\n",
       "\t Albury                            & 6233                              & 64518                             & 67583                             & 132097                            & New Zealand                       & 2510                              & Agriculture, Forestry and Fishing & 1253                              & Employed, worked full-time        & 54383                             & 170.5                             & 964                               & 700                               & 1624                             \\\\\n",
       "\t Albury                            & 6233                              & 64518                             & 67583                             & 132097                            & New Zealand                       & 2510                              & Agriculture, Forestry and Fishing & 1253                              & Employed, worked part-time        & 32346                             & 170.5                             & 964                               & 106                               &  131                             \\\\\n",
       "\t Albury                            & 6233                              & 64518                             & 67583                             & 132097                            & New Zealand                       & 2510                              & Agriculture, Forestry and Fishing & 1253                              & Employed, worked part-time        & 32346                             & 170.5                             & 964                               & 204                               &   14                             \\\\\n",
       "\t Albury                            & 6233                              & 64518                             & 67583                             & 132097                            & New Zealand                       & 2510                              & Agriculture, Forestry and Fishing & 1253                              & Employed, worked part-time        & 32346                             & 170.5                             & 964                               & 700                               & 1624                             \\\\\n",
       "\\end{tabular}\n"
      ],
      "text/markdown": [
       "\n",
       "| LGA | crime | males | females | persons | birthplace_of_person | birth_value | Industry of Employment | emp_value | Labour force status | labour_value | Pop_Dens_km2 | seifa_value | route_type | num_service |\n",
       "|---|---|---|---|---|---|---|---|---|---|---|---|---|---|---|\n",
       "| Albury                            | 6233                              | 64518                             | 67583                             | 132097                            | New Zealand                       | 2510                              | Agriculture, Forestry and Fishing | 1253                              | Employed, worked full-time        | 54383                             | 170.5                             | 964                               | 106                               |  131                              |\n",
       "| Albury                            | 6233                              | 64518                             | 67583                             | 132097                            | New Zealand                       | 2510                              | Agriculture, Forestry and Fishing | 1253                              | Employed, worked full-time        | 54383                             | 170.5                             | 964                               | 204                               |   14                              |\n",
       "| Albury                            | 6233                              | 64518                             | 67583                             | 132097                            | New Zealand                       | 2510                              | Agriculture, Forestry and Fishing | 1253                              | Employed, worked full-time        | 54383                             | 170.5                             | 964                               | 700                               | 1624                              |\n",
       "| Albury                            | 6233                              | 64518                             | 67583                             | 132097                            | New Zealand                       | 2510                              | Agriculture, Forestry and Fishing | 1253                              | Employed, worked part-time        | 32346                             | 170.5                             | 964                               | 106                               |  131                              |\n",
       "| Albury                            | 6233                              | 64518                             | 67583                             | 132097                            | New Zealand                       | 2510                              | Agriculture, Forestry and Fishing | 1253                              | Employed, worked part-time        | 32346                             | 170.5                             | 964                               | 204                               |   14                              |\n",
       "| Albury                            | 6233                              | 64518                             | 67583                             | 132097                            | New Zealand                       | 2510                              | Agriculture, Forestry and Fishing | 1253                              | Employed, worked part-time        | 32346                             | 170.5                             | 964                               | 700                               | 1624                              |\n",
       "\n"
      ],
      "text/plain": [
       "  LGA    crime males females persons birthplace_of_person birth_value\n",
       "1 Albury 6233  64518 67583   132097  New Zealand          2510       \n",
       "2 Albury 6233  64518 67583   132097  New Zealand          2510       \n",
       "3 Albury 6233  64518 67583   132097  New Zealand          2510       \n",
       "4 Albury 6233  64518 67583   132097  New Zealand          2510       \n",
       "5 Albury 6233  64518 67583   132097  New Zealand          2510       \n",
       "6 Albury 6233  64518 67583   132097  New Zealand          2510       \n",
       "  Industry of Employment            emp_value Labour force status       \n",
       "1 Agriculture, Forestry and Fishing 1253      Employed, worked full-time\n",
       "2 Agriculture, Forestry and Fishing 1253      Employed, worked full-time\n",
       "3 Agriculture, Forestry and Fishing 1253      Employed, worked full-time\n",
       "4 Agriculture, Forestry and Fishing 1253      Employed, worked part-time\n",
       "5 Agriculture, Forestry and Fishing 1253      Employed, worked part-time\n",
       "6 Agriculture, Forestry and Fishing 1253      Employed, worked part-time\n",
       "  labour_value Pop_Dens_km2 seifa_value route_type num_service\n",
       "1 54383        170.5        964         106         131       \n",
       "2 54383        170.5        964         204          14       \n",
       "3 54383        170.5        964         700        1624       \n",
       "4 32346        170.5        964         106         131       \n",
       "5 32346        170.5        964         204          14       \n",
       "6 32346        170.5        964         700        1624       "
      ]
     },
     "metadata": {},
     "output_type": "display_data"
    },
    {
     "name": "stdout",
     "output_type": "stream",
     "text": [
      "Observations: 4,510,890\n",
      "Variables: 15\n",
      "$ LGA                      \u001b[3m\u001b[90m<chr>\u001b[39m\u001b[23m \"Albury\", \"Albury\", \"Albury\", \"Albury\", \"A...\n",
      "$ crime                    \u001b[3m\u001b[90m<int>\u001b[39m\u001b[23m 6233, 6233, 6233, 6233, 6233, 6233, 6233, ...\n",
      "$ males                    \u001b[3m\u001b[90m<int>\u001b[39m\u001b[23m 64518, 64518, 64518, 64518, 64518, 64518, ...\n",
      "$ females                  \u001b[3m\u001b[90m<int>\u001b[39m\u001b[23m 67583, 67583, 67583, 67583, 67583, 67583, ...\n",
      "$ persons                  \u001b[3m\u001b[90m<int>\u001b[39m\u001b[23m 132097, 132097, 132097, 132097, 132097, 13...\n",
      "$ birthplace_of_person     \u001b[3m\u001b[90m<fct>\u001b[39m\u001b[23m New Zealand, New Zealand, New Zealand, New...\n",
      "$ birth_value              \u001b[3m\u001b[90m<dbl>\u001b[39m\u001b[23m 2510, 2510, 2510, 2510, 2510, 2510, 2510, ...\n",
      "$ `Industry of Employment` \u001b[3m\u001b[90m<fct>\u001b[39m\u001b[23m \"Agriculture, Forestry and Fishing\", \"Agri...\n",
      "$ emp_value                \u001b[3m\u001b[90m<int>\u001b[39m\u001b[23m 1253, 1253, 1253, 1253, 1253, 1253, 1253, ...\n",
      "$ `Labour force status`    \u001b[3m\u001b[90m<fct>\u001b[39m\u001b[23m \"Employed, worked full-time\", \"Employed, w...\n",
      "$ labour_value             \u001b[3m\u001b[90m<int>\u001b[39m\u001b[23m 54383, 54383, 54383, 32346, 32346, 32346, ...\n",
      "$ Pop_Dens_km2             \u001b[3m\u001b[90m<dbl>\u001b[39m\u001b[23m 170.5, 170.5, 170.5, 170.5, 170.5, 170.5, ...\n",
      "$ seifa_value              \u001b[3m\u001b[90m<int>\u001b[39m\u001b[23m 964, 964, 964, 964, 964, 964, 964, 964, 96...\n",
      "$ route_type               \u001b[3m\u001b[90m<fct>\u001b[39m\u001b[23m 106, 204, 700, 106, 204, 700, 106, 204, 70...\n",
      "$ num_service              \u001b[3m\u001b[90m<dbl>\u001b[39m\u001b[23m 131, 14, 1624, 131, 14, 1624, 131, 14, 162...\n"
     ]
    }
   ],
   "source": [
    "joined_agg %<>%\n",
    "    left_join(input_data$transport, by = \"LGA\")\n",
    "\n",
    "head(joined_agg)\n",
    "glimpse(joined_agg)"
   ]
  },
  {
   "cell_type": "markdown",
   "metadata": {},
   "source": [
    "# Adding Crime Rate"
   ]
  },
  {
   "cell_type": "markdown",
   "metadata": {},
   "source": [
    "Join `population`"
   ]
  },
  {
   "cell_type": "code",
   "execution_count": 323,
   "metadata": {},
   "outputs": [
    {
     "data": {
      "text/html": [
       "<table>\n",
       "<thead><tr><th scope=col>LGA</th><th scope=col>crime</th><th scope=col>males</th><th scope=col>females</th><th scope=col>persons</th><th scope=col>birthplace_of_person</th><th scope=col>birth_value</th><th scope=col>Industry of Employment</th><th scope=col>emp_value</th><th scope=col>Labour force status</th><th scope=col>labour_value</th><th scope=col>Pop_Dens_km2</th><th scope=col>seifa_value</th><th scope=col>route_type</th><th scope=col>num_service</th><th scope=col>crime_rate</th></tr></thead>\n",
       "<tbody>\n",
       "\t<tr><td>Albury                           </td><td>6233                             </td><td>64518                            </td><td>67583                            </td><td>132097                           </td><td>New Zealand                      </td><td>2510                             </td><td>Agriculture, Forestry and Fishing</td><td>1253                             </td><td>Employed, worked full-time       </td><td>54383                            </td><td>170.5                            </td><td>964                              </td><td>106                              </td><td> 131                             </td><td>0.04718359                       </td></tr>\n",
       "\t<tr><td>Albury                           </td><td>6233                             </td><td>64518                            </td><td>67583                            </td><td>132097                           </td><td>New Zealand                      </td><td>2510                             </td><td>Agriculture, Forestry and Fishing</td><td>1253                             </td><td>Employed, worked full-time       </td><td>54383                            </td><td>170.5                            </td><td>964                              </td><td>204                              </td><td>  14                             </td><td>0.04718359                       </td></tr>\n",
       "\t<tr><td>Albury                           </td><td>6233                             </td><td>64518                            </td><td>67583                            </td><td>132097                           </td><td>New Zealand                      </td><td>2510                             </td><td>Agriculture, Forestry and Fishing</td><td>1253                             </td><td>Employed, worked full-time       </td><td>54383                            </td><td>170.5                            </td><td>964                              </td><td>700                              </td><td>1624                             </td><td>0.04718359                       </td></tr>\n",
       "\t<tr><td>Albury                           </td><td>6233                             </td><td>64518                            </td><td>67583                            </td><td>132097                           </td><td>New Zealand                      </td><td>2510                             </td><td>Agriculture, Forestry and Fishing</td><td>1253                             </td><td>Employed, worked part-time       </td><td>32346                            </td><td>170.5                            </td><td>964                              </td><td>106                              </td><td> 131                             </td><td>0.04718359                       </td></tr>\n",
       "\t<tr><td>Albury                           </td><td>6233                             </td><td>64518                            </td><td>67583                            </td><td>132097                           </td><td>New Zealand                      </td><td>2510                             </td><td>Agriculture, Forestry and Fishing</td><td>1253                             </td><td>Employed, worked part-time       </td><td>32346                            </td><td>170.5                            </td><td>964                              </td><td>204                              </td><td>  14                             </td><td>0.04718359                       </td></tr>\n",
       "\t<tr><td>Albury                           </td><td>6233                             </td><td>64518                            </td><td>67583                            </td><td>132097                           </td><td>New Zealand                      </td><td>2510                             </td><td>Agriculture, Forestry and Fishing</td><td>1253                             </td><td>Employed, worked part-time       </td><td>32346                            </td><td>170.5                            </td><td>964                              </td><td>700                              </td><td>1624                             </td><td>0.04718359                       </td></tr>\n",
       "</tbody>\n",
       "</table>\n"
      ],
      "text/latex": [
       "\\begin{tabular}{r|llllllllllllllll}\n",
       " LGA & crime & males & females & persons & birthplace\\_of\\_person & birth\\_value & Industry of Employment & emp\\_value & Labour force status & labour\\_value & Pop\\_Dens\\_km2 & seifa\\_value & route\\_type & num\\_service & crime\\_rate\\\\\n",
       "\\hline\n",
       "\t Albury                            & 6233                              & 64518                             & 67583                             & 132097                            & New Zealand                       & 2510                              & Agriculture, Forestry and Fishing & 1253                              & Employed, worked full-time        & 54383                             & 170.5                             & 964                               & 106                               &  131                              & 0.04718359                       \\\\\n",
       "\t Albury                            & 6233                              & 64518                             & 67583                             & 132097                            & New Zealand                       & 2510                              & Agriculture, Forestry and Fishing & 1253                              & Employed, worked full-time        & 54383                             & 170.5                             & 964                               & 204                               &   14                              & 0.04718359                       \\\\\n",
       "\t Albury                            & 6233                              & 64518                             & 67583                             & 132097                            & New Zealand                       & 2510                              & Agriculture, Forestry and Fishing & 1253                              & Employed, worked full-time        & 54383                             & 170.5                             & 964                               & 700                               & 1624                              & 0.04718359                       \\\\\n",
       "\t Albury                            & 6233                              & 64518                             & 67583                             & 132097                            & New Zealand                       & 2510                              & Agriculture, Forestry and Fishing & 1253                              & Employed, worked part-time        & 32346                             & 170.5                             & 964                               & 106                               &  131                              & 0.04718359                       \\\\\n",
       "\t Albury                            & 6233                              & 64518                             & 67583                             & 132097                            & New Zealand                       & 2510                              & Agriculture, Forestry and Fishing & 1253                              & Employed, worked part-time        & 32346                             & 170.5                             & 964                               & 204                               &   14                              & 0.04718359                       \\\\\n",
       "\t Albury                            & 6233                              & 64518                             & 67583                             & 132097                            & New Zealand                       & 2510                              & Agriculture, Forestry and Fishing & 1253                              & Employed, worked part-time        & 32346                             & 170.5                             & 964                               & 700                               & 1624                              & 0.04718359                       \\\\\n",
       "\\end{tabular}\n"
      ],
      "text/markdown": [
       "\n",
       "| LGA | crime | males | females | persons | birthplace_of_person | birth_value | Industry of Employment | emp_value | Labour force status | labour_value | Pop_Dens_km2 | seifa_value | route_type | num_service | crime_rate |\n",
       "|---|---|---|---|---|---|---|---|---|---|---|---|---|---|---|---|\n",
       "| Albury                            | 6233                              | 64518                             | 67583                             | 132097                            | New Zealand                       | 2510                              | Agriculture, Forestry and Fishing | 1253                              | Employed, worked full-time        | 54383                             | 170.5                             | 964                               | 106                               |  131                              | 0.04718359                        |\n",
       "| Albury                            | 6233                              | 64518                             | 67583                             | 132097                            | New Zealand                       | 2510                              | Agriculture, Forestry and Fishing | 1253                              | Employed, worked full-time        | 54383                             | 170.5                             | 964                               | 204                               |   14                              | 0.04718359                        |\n",
       "| Albury                            | 6233                              | 64518                             | 67583                             | 132097                            | New Zealand                       | 2510                              | Agriculture, Forestry and Fishing | 1253                              | Employed, worked full-time        | 54383                             | 170.5                             | 964                               | 700                               | 1624                              | 0.04718359                        |\n",
       "| Albury                            | 6233                              | 64518                             | 67583                             | 132097                            | New Zealand                       | 2510                              | Agriculture, Forestry and Fishing | 1253                              | Employed, worked part-time        | 32346                             | 170.5                             | 964                               | 106                               |  131                              | 0.04718359                        |\n",
       "| Albury                            | 6233                              | 64518                             | 67583                             | 132097                            | New Zealand                       | 2510                              | Agriculture, Forestry and Fishing | 1253                              | Employed, worked part-time        | 32346                             | 170.5                             | 964                               | 204                               |   14                              | 0.04718359                        |\n",
       "| Albury                            | 6233                              | 64518                             | 67583                             | 132097                            | New Zealand                       | 2510                              | Agriculture, Forestry and Fishing | 1253                              | Employed, worked part-time        | 32346                             | 170.5                             | 964                               | 700                               | 1624                              | 0.04718359                        |\n",
       "\n"
      ],
      "text/plain": [
       "  LGA    crime males females persons birthplace_of_person birth_value\n",
       "1 Albury 6233  64518 67583   132097  New Zealand          2510       \n",
       "2 Albury 6233  64518 67583   132097  New Zealand          2510       \n",
       "3 Albury 6233  64518 67583   132097  New Zealand          2510       \n",
       "4 Albury 6233  64518 67583   132097  New Zealand          2510       \n",
       "5 Albury 6233  64518 67583   132097  New Zealand          2510       \n",
       "6 Albury 6233  64518 67583   132097  New Zealand          2510       \n",
       "  Industry of Employment            emp_value Labour force status       \n",
       "1 Agriculture, Forestry and Fishing 1253      Employed, worked full-time\n",
       "2 Agriculture, Forestry and Fishing 1253      Employed, worked full-time\n",
       "3 Agriculture, Forestry and Fishing 1253      Employed, worked full-time\n",
       "4 Agriculture, Forestry and Fishing 1253      Employed, worked part-time\n",
       "5 Agriculture, Forestry and Fishing 1253      Employed, worked part-time\n",
       "6 Agriculture, Forestry and Fishing 1253      Employed, worked part-time\n",
       "  labour_value Pop_Dens_km2 seifa_value route_type num_service crime_rate\n",
       "1 54383        170.5        964         106         131        0.04718359\n",
       "2 54383        170.5        964         204          14        0.04718359\n",
       "3 54383        170.5        964         700        1624        0.04718359\n",
       "4 32346        170.5        964         106         131        0.04718359\n",
       "5 32346        170.5        964         204          14        0.04718359\n",
       "6 32346        170.5        964         700        1624        0.04718359"
      ]
     },
     "metadata": {},
     "output_type": "display_data"
    },
    {
     "name": "stdout",
     "output_type": "stream",
     "text": [
      "Observations: 4,510,890\n",
      "Variables: 16\n",
      "$ LGA                      \u001b[3m\u001b[90m<chr>\u001b[39m\u001b[23m \"Albury\", \"Albury\", \"Albury\", \"Albury\", \"A...\n",
      "$ crime                    \u001b[3m\u001b[90m<int>\u001b[39m\u001b[23m 6233, 6233, 6233, 6233, 6233, 6233, 6233, ...\n",
      "$ males                    \u001b[3m\u001b[90m<int>\u001b[39m\u001b[23m 64518, 64518, 64518, 64518, 64518, 64518, ...\n",
      "$ females                  \u001b[3m\u001b[90m<int>\u001b[39m\u001b[23m 67583, 67583, 67583, 67583, 67583, 67583, ...\n",
      "$ persons                  \u001b[3m\u001b[90m<int>\u001b[39m\u001b[23m 132097, 132097, 132097, 132097, 132097, 13...\n",
      "$ birthplace_of_person     \u001b[3m\u001b[90m<fct>\u001b[39m\u001b[23m New Zealand, New Zealand, New Zealand, New...\n",
      "$ birth_value              \u001b[3m\u001b[90m<dbl>\u001b[39m\u001b[23m 2510, 2510, 2510, 2510, 2510, 2510, 2510, ...\n",
      "$ `Industry of Employment` \u001b[3m\u001b[90m<fct>\u001b[39m\u001b[23m \"Agriculture, Forestry and Fishing\", \"Agri...\n",
      "$ emp_value                \u001b[3m\u001b[90m<int>\u001b[39m\u001b[23m 1253, 1253, 1253, 1253, 1253, 1253, 1253, ...\n",
      "$ `Labour force status`    \u001b[3m\u001b[90m<fct>\u001b[39m\u001b[23m \"Employed, worked full-time\", \"Employed, w...\n",
      "$ labour_value             \u001b[3m\u001b[90m<int>\u001b[39m\u001b[23m 54383, 54383, 54383, 32346, 32346, 32346, ...\n",
      "$ Pop_Dens_km2             \u001b[3m\u001b[90m<dbl>\u001b[39m\u001b[23m 170.5, 170.5, 170.5, 170.5, 170.5, 170.5, ...\n",
      "$ seifa_value              \u001b[3m\u001b[90m<int>\u001b[39m\u001b[23m 964, 964, 964, 964, 964, 964, 964, 964, 96...\n",
      "$ route_type               \u001b[3m\u001b[90m<fct>\u001b[39m\u001b[23m 106, 204, 700, 106, 204, 700, 106, 204, 70...\n",
      "$ num_service              \u001b[3m\u001b[90m<dbl>\u001b[39m\u001b[23m 131, 14, 1624, 131, 14, 1624, 131, 14, 162...\n",
      "$ crime_rate               \u001b[3m\u001b[90m<dbl>\u001b[39m\u001b[23m 0.04718359, 0.04718359, 0.04718359, 0.0471...\n"
     ]
    }
   ],
   "source": [
    "joined_agg %<>%\n",
    "    mutate(crime_rate = crime / (males + females))\n",
    "\n",
    "head(joined_agg)\n",
    "glimpse(joined_agg)"
   ]
  },
  {
   "cell_type": "markdown",
   "metadata": {},
   "source": [
    "Reorder columns"
   ]
  },
  {
   "cell_type": "code",
   "execution_count": 324,
   "metadata": {},
   "outputs": [],
   "source": [
    "ordered_cols <- c(\"LGA\",\"crime\",\"crime_rate\",\"males\",\"females\",\"persons\",\"birthplace_of_person\",\"birth_value\",\"Industry of Employment\",\"emp_value\",\"Labour force status\",\"labour_value\",\"Pop_Dens_km2\",\"seifa_value\",\"route_type\",\"num_service\")"
   ]
  },
  {
   "cell_type": "code",
   "execution_count": 325,
   "metadata": {},
   "outputs": [
    {
     "data": {
      "text/html": [
       "<table>\n",
       "<thead><tr><th scope=col>LGA</th><th scope=col>crime</th><th scope=col>crime_rate</th><th scope=col>males</th><th scope=col>females</th><th scope=col>persons</th><th scope=col>birthplace_of_person</th><th scope=col>birth_value</th><th scope=col>Industry of Employment</th><th scope=col>emp_value</th><th scope=col>Labour force status</th><th scope=col>labour_value</th><th scope=col>Pop_Dens_km2</th><th scope=col>seifa_value</th><th scope=col>route_type</th><th scope=col>num_service</th></tr></thead>\n",
       "<tbody>\n",
       "\t<tr><td>Albury                           </td><td>6233                             </td><td>0.04718359                       </td><td>64518                            </td><td>67583                            </td><td>132097                           </td><td>New Zealand                      </td><td>2510                             </td><td>Agriculture, Forestry and Fishing</td><td>1253                             </td><td>Employed, worked full-time       </td><td>54383                            </td><td>170.5                            </td><td>964                              </td><td>106                              </td><td> 131                             </td></tr>\n",
       "\t<tr><td>Albury                           </td><td>6233                             </td><td>0.04718359                       </td><td>64518                            </td><td>67583                            </td><td>132097                           </td><td>New Zealand                      </td><td>2510                             </td><td>Agriculture, Forestry and Fishing</td><td>1253                             </td><td>Employed, worked full-time       </td><td>54383                            </td><td>170.5                            </td><td>964                              </td><td>204                              </td><td>  14                             </td></tr>\n",
       "\t<tr><td>Albury                           </td><td>6233                             </td><td>0.04718359                       </td><td>64518                            </td><td>67583                            </td><td>132097                           </td><td>New Zealand                      </td><td>2510                             </td><td>Agriculture, Forestry and Fishing</td><td>1253                             </td><td>Employed, worked full-time       </td><td>54383                            </td><td>170.5                            </td><td>964                              </td><td>700                              </td><td>1624                             </td></tr>\n",
       "\t<tr><td>Albury                           </td><td>6233                             </td><td>0.04718359                       </td><td>64518                            </td><td>67583                            </td><td>132097                           </td><td>New Zealand                      </td><td>2510                             </td><td>Agriculture, Forestry and Fishing</td><td>1253                             </td><td>Employed, worked part-time       </td><td>32346                            </td><td>170.5                            </td><td>964                              </td><td>106                              </td><td> 131                             </td></tr>\n",
       "\t<tr><td>Albury                           </td><td>6233                             </td><td>0.04718359                       </td><td>64518                            </td><td>67583                            </td><td>132097                           </td><td>New Zealand                      </td><td>2510                             </td><td>Agriculture, Forestry and Fishing</td><td>1253                             </td><td>Employed, worked part-time       </td><td>32346                            </td><td>170.5                            </td><td>964                              </td><td>204                              </td><td>  14                             </td></tr>\n",
       "\t<tr><td>Albury                           </td><td>6233                             </td><td>0.04718359                       </td><td>64518                            </td><td>67583                            </td><td>132097                           </td><td>New Zealand                      </td><td>2510                             </td><td>Agriculture, Forestry and Fishing</td><td>1253                             </td><td>Employed, worked part-time       </td><td>32346                            </td><td>170.5                            </td><td>964                              </td><td>700                              </td><td>1624                             </td></tr>\n",
       "</tbody>\n",
       "</table>\n"
      ],
      "text/latex": [
       "\\begin{tabular}{r|llllllllllllllll}\n",
       " LGA & crime & crime\\_rate & males & females & persons & birthplace\\_of\\_person & birth\\_value & Industry of Employment & emp\\_value & Labour force status & labour\\_value & Pop\\_Dens\\_km2 & seifa\\_value & route\\_type & num\\_service\\\\\n",
       "\\hline\n",
       "\t Albury                            & 6233                              & 0.04718359                        & 64518                             & 67583                             & 132097                            & New Zealand                       & 2510                              & Agriculture, Forestry and Fishing & 1253                              & Employed, worked full-time        & 54383                             & 170.5                             & 964                               & 106                               &  131                             \\\\\n",
       "\t Albury                            & 6233                              & 0.04718359                        & 64518                             & 67583                             & 132097                            & New Zealand                       & 2510                              & Agriculture, Forestry and Fishing & 1253                              & Employed, worked full-time        & 54383                             & 170.5                             & 964                               & 204                               &   14                             \\\\\n",
       "\t Albury                            & 6233                              & 0.04718359                        & 64518                             & 67583                             & 132097                            & New Zealand                       & 2510                              & Agriculture, Forestry and Fishing & 1253                              & Employed, worked full-time        & 54383                             & 170.5                             & 964                               & 700                               & 1624                             \\\\\n",
       "\t Albury                            & 6233                              & 0.04718359                        & 64518                             & 67583                             & 132097                            & New Zealand                       & 2510                              & Agriculture, Forestry and Fishing & 1253                              & Employed, worked part-time        & 32346                             & 170.5                             & 964                               & 106                               &  131                             \\\\\n",
       "\t Albury                            & 6233                              & 0.04718359                        & 64518                             & 67583                             & 132097                            & New Zealand                       & 2510                              & Agriculture, Forestry and Fishing & 1253                              & Employed, worked part-time        & 32346                             & 170.5                             & 964                               & 204                               &   14                             \\\\\n",
       "\t Albury                            & 6233                              & 0.04718359                        & 64518                             & 67583                             & 132097                            & New Zealand                       & 2510                              & Agriculture, Forestry and Fishing & 1253                              & Employed, worked part-time        & 32346                             & 170.5                             & 964                               & 700                               & 1624                             \\\\\n",
       "\\end{tabular}\n"
      ],
      "text/markdown": [
       "\n",
       "| LGA | crime | crime_rate | males | females | persons | birthplace_of_person | birth_value | Industry of Employment | emp_value | Labour force status | labour_value | Pop_Dens_km2 | seifa_value | route_type | num_service |\n",
       "|---|---|---|---|---|---|---|---|---|---|---|---|---|---|---|---|\n",
       "| Albury                            | 6233                              | 0.04718359                        | 64518                             | 67583                             | 132097                            | New Zealand                       | 2510                              | Agriculture, Forestry and Fishing | 1253                              | Employed, worked full-time        | 54383                             | 170.5                             | 964                               | 106                               |  131                              |\n",
       "| Albury                            | 6233                              | 0.04718359                        | 64518                             | 67583                             | 132097                            | New Zealand                       | 2510                              | Agriculture, Forestry and Fishing | 1253                              | Employed, worked full-time        | 54383                             | 170.5                             | 964                               | 204                               |   14                              |\n",
       "| Albury                            | 6233                              | 0.04718359                        | 64518                             | 67583                             | 132097                            | New Zealand                       | 2510                              | Agriculture, Forestry and Fishing | 1253                              | Employed, worked full-time        | 54383                             | 170.5                             | 964                               | 700                               | 1624                              |\n",
       "| Albury                            | 6233                              | 0.04718359                        | 64518                             | 67583                             | 132097                            | New Zealand                       | 2510                              | Agriculture, Forestry and Fishing | 1253                              | Employed, worked part-time        | 32346                             | 170.5                             | 964                               | 106                               |  131                              |\n",
       "| Albury                            | 6233                              | 0.04718359                        | 64518                             | 67583                             | 132097                            | New Zealand                       | 2510                              | Agriculture, Forestry and Fishing | 1253                              | Employed, worked part-time        | 32346                             | 170.5                             | 964                               | 204                               |   14                              |\n",
       "| Albury                            | 6233                              | 0.04718359                        | 64518                             | 67583                             | 132097                            | New Zealand                       | 2510                              | Agriculture, Forestry and Fishing | 1253                              | Employed, worked part-time        | 32346                             | 170.5                             | 964                               | 700                               | 1624                              |\n",
       "\n"
      ],
      "text/plain": [
       "  LGA    crime crime_rate males females persons birthplace_of_person\n",
       "1 Albury 6233  0.04718359 64518 67583   132097  New Zealand         \n",
       "2 Albury 6233  0.04718359 64518 67583   132097  New Zealand         \n",
       "3 Albury 6233  0.04718359 64518 67583   132097  New Zealand         \n",
       "4 Albury 6233  0.04718359 64518 67583   132097  New Zealand         \n",
       "5 Albury 6233  0.04718359 64518 67583   132097  New Zealand         \n",
       "6 Albury 6233  0.04718359 64518 67583   132097  New Zealand         \n",
       "  birth_value Industry of Employment            emp_value\n",
       "1 2510        Agriculture, Forestry and Fishing 1253     \n",
       "2 2510        Agriculture, Forestry and Fishing 1253     \n",
       "3 2510        Agriculture, Forestry and Fishing 1253     \n",
       "4 2510        Agriculture, Forestry and Fishing 1253     \n",
       "5 2510        Agriculture, Forestry and Fishing 1253     \n",
       "6 2510        Agriculture, Forestry and Fishing 1253     \n",
       "  Labour force status        labour_value Pop_Dens_km2 seifa_value route_type\n",
       "1 Employed, worked full-time 54383        170.5        964         106       \n",
       "2 Employed, worked full-time 54383        170.5        964         204       \n",
       "3 Employed, worked full-time 54383        170.5        964         700       \n",
       "4 Employed, worked part-time 32346        170.5        964         106       \n",
       "5 Employed, worked part-time 32346        170.5        964         204       \n",
       "6 Employed, worked part-time 32346        170.5        964         700       \n",
       "  num_service\n",
       "1  131       \n",
       "2   14       \n",
       "3 1624       \n",
       "4  131       \n",
       "5   14       \n",
       "6 1624       "
      ]
     },
     "metadata": {},
     "output_type": "display_data"
    },
    {
     "name": "stdout",
     "output_type": "stream",
     "text": [
      "Observations: 4,510,890\n",
      "Variables: 16\n",
      "$ LGA                      \u001b[3m\u001b[90m<chr>\u001b[39m\u001b[23m \"Albury\", \"Albury\", \"Albury\", \"Albury\", \"A...\n",
      "$ crime                    \u001b[3m\u001b[90m<int>\u001b[39m\u001b[23m 6233, 6233, 6233, 6233, 6233, 6233, 6233, ...\n",
      "$ crime_rate               \u001b[3m\u001b[90m<dbl>\u001b[39m\u001b[23m 0.04718359, 0.04718359, 0.04718359, 0.0471...\n",
      "$ males                    \u001b[3m\u001b[90m<int>\u001b[39m\u001b[23m 64518, 64518, 64518, 64518, 64518, 64518, ...\n",
      "$ females                  \u001b[3m\u001b[90m<int>\u001b[39m\u001b[23m 67583, 67583, 67583, 67583, 67583, 67583, ...\n",
      "$ persons                  \u001b[3m\u001b[90m<int>\u001b[39m\u001b[23m 132097, 132097, 132097, 132097, 132097, 13...\n",
      "$ birthplace_of_person     \u001b[3m\u001b[90m<fct>\u001b[39m\u001b[23m New Zealand, New Zealand, New Zealand, New...\n",
      "$ birth_value              \u001b[3m\u001b[90m<dbl>\u001b[39m\u001b[23m 2510, 2510, 2510, 2510, 2510, 2510, 2510, ...\n",
      "$ `Industry of Employment` \u001b[3m\u001b[90m<fct>\u001b[39m\u001b[23m \"Agriculture, Forestry and Fishing\", \"Agri...\n",
      "$ emp_value                \u001b[3m\u001b[90m<int>\u001b[39m\u001b[23m 1253, 1253, 1253, 1253, 1253, 1253, 1253, ...\n",
      "$ `Labour force status`    \u001b[3m\u001b[90m<fct>\u001b[39m\u001b[23m \"Employed, worked full-time\", \"Employed, w...\n",
      "$ labour_value             \u001b[3m\u001b[90m<int>\u001b[39m\u001b[23m 54383, 54383, 54383, 32346, 32346, 32346, ...\n",
      "$ Pop_Dens_km2             \u001b[3m\u001b[90m<dbl>\u001b[39m\u001b[23m 170.5, 170.5, 170.5, 170.5, 170.5, 170.5, ...\n",
      "$ seifa_value              \u001b[3m\u001b[90m<int>\u001b[39m\u001b[23m 964, 964, 964, 964, 964, 964, 964, 964, 96...\n",
      "$ route_type               \u001b[3m\u001b[90m<fct>\u001b[39m\u001b[23m 106, 204, 700, 106, 204, 700, 106, 204, 70...\n",
      "$ num_service              \u001b[3m\u001b[90m<dbl>\u001b[39m\u001b[23m 131, 14, 1624, 131, 14, 1624, 131, 14, 162...\n"
     ]
    }
   ],
   "source": [
    "joined_agg %<>%\n",
    "    select(ordered_cols)\n",
    "\n",
    "head(joined_agg)\n",
    "glimpse(joined_agg)"
   ]
  },
  {
   "cell_type": "code",
   "execution_count": 326,
   "metadata": {},
   "outputs": [],
   "source": [
    "write.csv(joined, paste(output_path, \"unified2.csv\", sep = \"/\"), row.names = FALSE)"
   ]
  },
  {
   "cell_type": "code",
   "execution_count": null,
   "metadata": {},
   "outputs": [],
   "source": []
  },
  {
   "cell_type": "code",
   "execution_count": 327,
   "metadata": {},
   "outputs": [],
   "source": [
    "save.image()"
   ]
  }
 ],
 "metadata": {
  "kernelspec": {
   "display_name": "R",
   "language": "R",
   "name": "ir"
  },
  "language_info": {
   "codemirror_mode": "r",
   "file_extension": ".r",
   "mimetype": "text/x-r-source",
   "name": "R",
   "pygments_lexer": "r",
   "version": "3.5.3"
  }
 },
 "nbformat": 4,
 "nbformat_minor": 2
}
