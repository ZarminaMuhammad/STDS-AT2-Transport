{
 "cells": [
  {
   "cell_type": "code",
   "execution_count": 1,
   "metadata": {},
   "outputs": [
    {
     "name": "stderr",
     "output_type": "stream",
     "text": [
      "-- \u001b[1mAttaching packages\u001b[22m --------------------------------------- tidyverse 1.2.1 --\n",
      "\u001b[32mv\u001b[39m \u001b[34mggplot2\u001b[39m 3.1.1       \u001b[32mv\u001b[39m \u001b[34mpurrr  \u001b[39m 0.3.2  \n",
      "\u001b[32mv\u001b[39m \u001b[34mtibble \u001b[39m 2.1.1       \u001b[32mv\u001b[39m \u001b[34mdplyr  \u001b[39m 0.8.0.\u001b[31m1\u001b[39m\n",
      "\u001b[32mv\u001b[39m \u001b[34mtidyr  \u001b[39m 0.8.3       \u001b[32mv\u001b[39m \u001b[34mstringr\u001b[39m 1.4.0  \n",
      "\u001b[32mv\u001b[39m \u001b[34mreadr  \u001b[39m 1.3.1       \u001b[32mv\u001b[39m \u001b[34mforcats\u001b[39m 0.4.0  \n",
      "-- \u001b[1mConflicts\u001b[22m ------------------------------------------ tidyverse_conflicts() --\n",
      "\u001b[31mx\u001b[39m \u001b[34mdplyr\u001b[39m::\u001b[32mfilter()\u001b[39m masks \u001b[34mstats\u001b[39m::filter()\n",
      "\u001b[31mx\u001b[39m \u001b[34mdplyr\u001b[39m::\u001b[32mlag()\u001b[39m    masks \u001b[34mstats\u001b[39m::lag()\n",
      "\n",
      "Attaching package: 'magrittr'\n",
      "\n",
      "The following object is masked from 'package:purrr':\n",
      "\n",
      "    set_names\n",
      "\n",
      "The following object is masked from 'package:tidyr':\n",
      "\n",
      "    extract\n",
      "\n",
      "\n",
      "Attaching package: 'reshape2'\n",
      "\n",
      "The following object is masked from 'package:tidyr':\n",
      "\n",
      "    smiths\n",
      "\n",
      "\n",
      "Attaching package: 'scales'\n",
      "\n",
      "The following object is masked from 'package:purrr':\n",
      "\n",
      "    discard\n",
      "\n",
      "The following object is masked from 'package:readr':\n",
      "\n",
      "    col_factor\n",
      "\n",
      "corrplot 0.84 loaded\n",
      "\n",
      "Attaching package: 'rlang'\n",
      "\n",
      "The following object is masked from 'package:magrittr':\n",
      "\n",
      "    set_names\n",
      "\n",
      "The following objects are masked from 'package:purrr':\n",
      "\n",
      "    %@%, as_function, flatten, flatten_chr, flatten_dbl, flatten_int,\n",
      "    flatten_lgl, flatten_raw, invoke, list_along, modify, prepend,\n",
      "    splice\n",
      "\n"
     ]
    }
   ],
   "source": [
    "library(tidyverse)\n",
    "library(magrittr)\n",
    "library(reshape2)\n",
    "library(ggplot2)\n",
    "library(scales)\n",
    "library(ggrepel)\n",
    "library(readxl)\n",
    "library(corrplot)\n",
    "library(purrr)\n",
    "library(rlang)"
   ]
  },
  {
   "cell_type": "markdown",
   "metadata": {},
   "source": [
    "# EDA"
   ]
  },
  {
   "cell_type": "markdown",
   "metadata": {},
   "source": [
    "# Importing The Data"
   ]
  },
  {
   "cell_type": "code",
   "execution_count": 22,
   "metadata": {},
   "outputs": [],
   "source": [
    "input_path <- \"D:/OneDrive - UTS/36103/AT2B/EDA\"\n",
    "output_path <- \"D:/OneDrive - UTS/36103/AT2B/data2\""
   ]
  },
  {
   "cell_type": "code",
   "execution_count": 3,
   "metadata": {},
   "outputs": [
    {
     "data": {
      "text/html": [
       "<ol class=list-inline>\n",
       "\t<li>'age.csv'</li>\n",
       "\t<li>'country_of_birth.csv'</li>\n",
       "\t<li>'crime.csv'</li>\n",
       "\t<li>'industry_employment.csv'</li>\n",
       "\t<li>'labour.csv'</li>\n",
       "\t<li>'pop_dens.csv'</li>\n",
       "\t<li>'seifa.csv'</li>\n",
       "\t<li>'transport.csv'</li>\n",
       "</ol>\n"
      ],
      "text/latex": [
       "\\begin{enumerate*}\n",
       "\\item 'age.csv'\n",
       "\\item 'country\\_of\\_birth.csv'\n",
       "\\item 'crime.csv'\n",
       "\\item 'industry\\_employment.csv'\n",
       "\\item 'labour.csv'\n",
       "\\item 'pop\\_dens.csv'\n",
       "\\item 'seifa.csv'\n",
       "\\item 'transport.csv'\n",
       "\\end{enumerate*}\n"
      ],
      "text/markdown": [
       "1. 'age.csv'\n",
       "2. 'country_of_birth.csv'\n",
       "3. 'crime.csv'\n",
       "4. 'industry_employment.csv'\n",
       "5. 'labour.csv'\n",
       "6. 'pop_dens.csv'\n",
       "7. 'seifa.csv'\n",
       "8. 'transport.csv'\n",
       "\n",
       "\n"
      ],
      "text/plain": [
       "[1] \"age.csv\"                 \"country_of_birth.csv\"   \n",
       "[3] \"crime.csv\"               \"industry_employment.csv\"\n",
       "[5] \"labour.csv\"              \"pop_dens.csv\"           \n",
       "[7] \"seifa.csv\"               \"transport.csv\"          "
      ]
     },
     "metadata": {},
     "output_type": "display_data"
    }
   ],
   "source": [
    "input_list <- list.files(input_path)\n",
    "input_list"
   ]
  },
  {
   "cell_type": "code",
   "execution_count": 4,
   "metadata": {},
   "outputs": [
    {
     "data": {
      "text/html": [
       "<ol>\n",
       "\t<li>'age'</li>\n",
       "\t<li>'country_of_birth'</li>\n",
       "\t<li>'crime'</li>\n",
       "\t<li>'industry_employment'</li>\n",
       "\t<li>'labour'</li>\n",
       "\t<li>'pop_dens'</li>\n",
       "\t<li>'seifa'</li>\n",
       "\t<li>'transport'</li>\n",
       "</ol>\n"
      ],
      "text/latex": [
       "\\begin{enumerate}\n",
       "\\item 'age'\n",
       "\\item 'country\\_of\\_birth'\n",
       "\\item 'crime'\n",
       "\\item 'industry\\_employment'\n",
       "\\item 'labour'\n",
       "\\item 'pop\\_dens'\n",
       "\\item 'seifa'\n",
       "\\item 'transport'\n",
       "\\end{enumerate}\n"
      ],
      "text/markdown": [
       "1. 'age'\n",
       "2. 'country_of_birth'\n",
       "3. 'crime'\n",
       "4. 'industry_employment'\n",
       "5. 'labour'\n",
       "6. 'pop_dens'\n",
       "7. 'seifa'\n",
       "8. 'transport'\n",
       "\n",
       "\n"
      ],
      "text/plain": [
       "[[1]]\n",
       "[1] \"age\"\n",
       "\n",
       "[[2]]\n",
       "[1] \"country_of_birth\"\n",
       "\n",
       "[[3]]\n",
       "[1] \"crime\"\n",
       "\n",
       "[[4]]\n",
       "[1] \"industry_employment\"\n",
       "\n",
       "[[5]]\n",
       "[1] \"labour\"\n",
       "\n",
       "[[6]]\n",
       "[1] \"pop_dens\"\n",
       "\n",
       "[[7]]\n",
       "[1] \"seifa\"\n",
       "\n",
       "[[8]]\n",
       "[1] \"transport\"\n"
      ]
     },
     "metadata": {},
     "output_type": "display_data"
    }
   ],
   "source": [
    "tbl_names <- map(input_list, function(x) strsplit(x, \"\\\\.\")[[1]][[1]])\n",
    "tbl_names"
   ]
  },
  {
   "cell_type": "code",
   "execution_count": 5,
   "metadata": {},
   "outputs": [
    {
     "data": {
      "text/html": [
       "<ol>\n",
       "\t<li>'D:/OneDrive - UTS/36103/AT2B/EDA/age.csv'</li>\n",
       "\t<li>'D:/OneDrive - UTS/36103/AT2B/EDA/country_of_birth.csv'</li>\n",
       "\t<li>'D:/OneDrive - UTS/36103/AT2B/EDA/crime.csv'</li>\n",
       "\t<li>'D:/OneDrive - UTS/36103/AT2B/EDA/industry_employment.csv'</li>\n",
       "\t<li>'D:/OneDrive - UTS/36103/AT2B/EDA/labour.csv'</li>\n",
       "\t<li>'D:/OneDrive - UTS/36103/AT2B/EDA/pop_dens.csv'</li>\n",
       "\t<li>'D:/OneDrive - UTS/36103/AT2B/EDA/seifa.csv'</li>\n",
       "\t<li>'D:/OneDrive - UTS/36103/AT2B/EDA/transport.csv'</li>\n",
       "</ol>\n"
      ],
      "text/latex": [
       "\\begin{enumerate}\n",
       "\\item 'D:/OneDrive - UTS/36103/AT2B/EDA/age.csv'\n",
       "\\item 'D:/OneDrive - UTS/36103/AT2B/EDA/country\\_of\\_birth.csv'\n",
       "\\item 'D:/OneDrive - UTS/36103/AT2B/EDA/crime.csv'\n",
       "\\item 'D:/OneDrive - UTS/36103/AT2B/EDA/industry\\_employment.csv'\n",
       "\\item 'D:/OneDrive - UTS/36103/AT2B/EDA/labour.csv'\n",
       "\\item 'D:/OneDrive - UTS/36103/AT2B/EDA/pop\\_dens.csv'\n",
       "\\item 'D:/OneDrive - UTS/36103/AT2B/EDA/seifa.csv'\n",
       "\\item 'D:/OneDrive - UTS/36103/AT2B/EDA/transport.csv'\n",
       "\\end{enumerate}\n"
      ],
      "text/markdown": [
       "1. 'D:/OneDrive - UTS/36103/AT2B/EDA/age.csv'\n",
       "2. 'D:/OneDrive - UTS/36103/AT2B/EDA/country_of_birth.csv'\n",
       "3. 'D:/OneDrive - UTS/36103/AT2B/EDA/crime.csv'\n",
       "4. 'D:/OneDrive - UTS/36103/AT2B/EDA/industry_employment.csv'\n",
       "5. 'D:/OneDrive - UTS/36103/AT2B/EDA/labour.csv'\n",
       "6. 'D:/OneDrive - UTS/36103/AT2B/EDA/pop_dens.csv'\n",
       "7. 'D:/OneDrive - UTS/36103/AT2B/EDA/seifa.csv'\n",
       "8. 'D:/OneDrive - UTS/36103/AT2B/EDA/transport.csv'\n",
       "\n",
       "\n"
      ],
      "text/plain": [
       "[[1]]\n",
       "[1] \"D:/OneDrive - UTS/36103/AT2B/EDA/age.csv\"\n",
       "\n",
       "[[2]]\n",
       "[1] \"D:/OneDrive - UTS/36103/AT2B/EDA/country_of_birth.csv\"\n",
       "\n",
       "[[3]]\n",
       "[1] \"D:/OneDrive - UTS/36103/AT2B/EDA/crime.csv\"\n",
       "\n",
       "[[4]]\n",
       "[1] \"D:/OneDrive - UTS/36103/AT2B/EDA/industry_employment.csv\"\n",
       "\n",
       "[[5]]\n",
       "[1] \"D:/OneDrive - UTS/36103/AT2B/EDA/labour.csv\"\n",
       "\n",
       "[[6]]\n",
       "[1] \"D:/OneDrive - UTS/36103/AT2B/EDA/pop_dens.csv\"\n",
       "\n",
       "[[7]]\n",
       "[1] \"D:/OneDrive - UTS/36103/AT2B/EDA/seifa.csv\"\n",
       "\n",
       "[[8]]\n",
       "[1] \"D:/OneDrive - UTS/36103/AT2B/EDA/transport.csv\"\n"
      ]
     },
     "metadata": {},
     "output_type": "display_data"
    }
   ],
   "source": [
    "input_list <- map(input_list, ~paste(input_path, .x, sep = \"/\"))\n",
    "input_list"
   ]
  },
  {
   "cell_type": "markdown",
   "metadata": {},
   "source": [
    "### Column Definitions"
   ]
  },
  {
   "cell_type": "code",
   "execution_count": 6,
   "metadata": {},
   "outputs": [],
   "source": [
    "cols_list <- list(age = cols(Age = readr::col_factor()))"
   ]
  },
  {
   "cell_type": "code",
   "execution_count": 7,
   "metadata": {},
   "outputs": [],
   "source": [
    "cols_list <- list(age = cols(Age = readr::col_factor(),\n",
    "                             Sex = readr::col_factor(),\n",
    "                             `Labour force status` = readr::col_factor(),\n",
    "                             LGA = readr::col_factor(),\n",
    "                             Value = readr::col_integer()),\n",
    "                  country_of_birth = cols(birthplace_of_person = readr::col_factor(),\n",
    "                                          LGA = readr::col_factor(),\n",
    "                                          Value = readr::col_integer(),\n",
    "                                          year_of_arrival_in_australia = readr::col_factor()),\n",
    "                  crime = cols(LGA = readr::col_factor(),\n",
    "                               Offence = readr::col_factor(),\n",
    "                               Crim_Count = readr::col_integer()),\n",
    "                  industry_employment = cols(LGA = readr::col_factor(),\n",
    "                                             Value = readr::col_integer(),\n",
    "                                             Age = readr::col_factor(),\n",
    "                                             Sex = readr::col_factor(),\n",
    "                                             `Industry of Employment` = readr::col_factor()),\n",
    "                  labour = cols(`Labour force status` = readr::col_factor(),\n",
    "                                LGA = readr::col_factor(),\n",
    "                                Value = readr::col_integer(),\n",
    "                                Age = readr::col_factor(),\n",
    "                                Sex = readr::col_factor()),\n",
    "                  pop_dens = cols(LGA = readr::col_factor(),\n",
    "                                  Pop_Dens_km2 = readr::col_double()),\n",
    "                  seifa = cols(LGA = readr::col_factor(),\n",
    "                               Value = readr::col_integer()),\n",
    "                  seifa = cols(LGA = readr::col_factor(),\n",
    "                               route_type = readr::col_factor(),\n",
    "                               num_service = readr::col_double()))"
   ]
  },
  {
   "cell_type": "code",
   "execution_count": 8,
   "metadata": {},
   "outputs": [
    {
     "name": "stderr",
     "output_type": "stream",
     "text": [
      "Warning message:\n",
      "\"The following named parsers don't match the column names: Labour force status\"Warning message:\n",
      "\"The following named parsers don't match the column names: Value\"Warning message:\n",
      "\"Missing column names filled in: 'X1' [1]\"Warning message:\n",
      "\"Missing column names filled in: 'X1' [1]\"Warning message:\n",
      "\"Missing column names filled in: 'X1' [1]\""
     ]
    }
   ],
   "source": [
    "input_data <- map2(input_list, cols_list, ~readr::read_csv(.x, col_types = .y))"
   ]
  },
  {
   "cell_type": "code",
   "execution_count": 9,
   "metadata": {},
   "outputs": [
    {
     "data": {
      "text/html": [
       "<ol class=list-inline>\n",
       "\t<li>'age'</li>\n",
       "\t<li>'country_of_birth'</li>\n",
       "\t<li>'crime'</li>\n",
       "\t<li>'industry_employment'</li>\n",
       "\t<li>'labour'</li>\n",
       "\t<li>'pop_dens'</li>\n",
       "\t<li>'seifa'</li>\n",
       "\t<li>'transport'</li>\n",
       "</ol>\n"
      ],
      "text/latex": [
       "\\begin{enumerate*}\n",
       "\\item 'age'\n",
       "\\item 'country\\_of\\_birth'\n",
       "\\item 'crime'\n",
       "\\item 'industry\\_employment'\n",
       "\\item 'labour'\n",
       "\\item 'pop\\_dens'\n",
       "\\item 'seifa'\n",
       "\\item 'transport'\n",
       "\\end{enumerate*}\n"
      ],
      "text/markdown": [
       "1. 'age'\n",
       "2. 'country_of_birth'\n",
       "3. 'crime'\n",
       "4. 'industry_employment'\n",
       "5. 'labour'\n",
       "6. 'pop_dens'\n",
       "7. 'seifa'\n",
       "8. 'transport'\n",
       "\n",
       "\n"
      ],
      "text/plain": [
       "[1] \"age\"                 \"country_of_birth\"    \"crime\"              \n",
       "[4] \"industry_employment\" \"labour\"              \"pop_dens\"           \n",
       "[7] \"seifa\"               \"transport\"          "
      ]
     },
     "metadata": {},
     "output_type": "display_data"
    }
   ],
   "source": [
    "names(input_data) = tbl_names\n",
    "names(input_data)"
   ]
  },
  {
   "cell_type": "code",
   "execution_count": 10,
   "metadata": {},
   "outputs": [
    {
     "data": {
      "text/html": [
       "<dl>\n",
       "\t<dt>$age</dt>\n",
       "\t\t<dd><table>\n",
       "<thead><tr><th scope=col>Sex</th><th scope=col>Age</th><th scope=col>LGA</th><th scope=col>Value</th></tr></thead>\n",
       "<tbody>\n",
       "\t<tr><td>Females                     </td><td>95 - 99                     </td><td>Lismore                     </td><td> 65                         </td></tr>\n",
       "\t<tr><td>Females                     </td><td>95 - 99                     </td><td>Queanbeyan-Palerang Regional</td><td> 33                         </td></tr>\n",
       "\t<tr><td>Females                     </td><td>95 - 99                     </td><td>Mid-Coast                   </td><td>173                         </td></tr>\n",
       "\t<tr><td>Females                     </td><td>95 - 99                     </td><td>Glen Innes Severn           </td><td> 16                         </td></tr>\n",
       "\t<tr><td>Females                     </td><td>95 - 99                     </td><td>Lockhart                    </td><td> 11                         </td></tr>\n",
       "\t<tr><td>Females                     </td><td>95 - 99                     </td><td>Lane Cove                   </td><td> 49                         </td></tr>\n",
       "</tbody>\n",
       "</table>\n",
       "</dd>\n",
       "\t<dt>$country_of_birth</dt>\n",
       "\t\t<dd><table>\n",
       "<thead><tr><th scope=col>birthplace_of_person</th><th scope=col>census_year</th><th scope=col>lga_2016</th><th scope=col>LGA</th><th scope=col>value</th><th scope=col>yarrp_2016</th><th scope=col>year_of_arrival_in_australia</th></tr></thead>\n",
       "<tbody>\n",
       "\t<tr><td>Oceania and Antarctica, nfd</td><td>2016                       </td><td>10050                      </td><td>Albury                     </td><td>0                          </td><td>1                          </td><td>Arrived 1900 - 1945        </td></tr>\n",
       "\t<tr><td>Oceania and Antarctica, nfd</td><td>2016                       </td><td>10050                      </td><td>Albury                     </td><td>0                          </td><td>2                          </td><td>Arrived 1946 - 1955        </td></tr>\n",
       "\t<tr><td>Oceania and Antarctica, nfd</td><td>2016                       </td><td>10050                      </td><td>Albury                     </td><td>0                          </td><td>3                          </td><td>Arrived 1956 - 1965        </td></tr>\n",
       "\t<tr><td>Oceania and Antarctica, nfd</td><td>2016                       </td><td>10050                      </td><td>Albury                     </td><td>0                          </td><td>4                          </td><td>Arrived 1966 - 1975        </td></tr>\n",
       "\t<tr><td>Oceania and Antarctica, nfd</td><td>2016                       </td><td>10050                      </td><td>Albury                     </td><td>0                          </td><td>5                          </td><td>Arrived 1976 - 1985        </td></tr>\n",
       "\t<tr><td>Oceania and Antarctica, nfd</td><td>2016                       </td><td>10050                      </td><td>Albury                     </td><td>0                          </td><td>6                          </td><td>Arrived 1986 - 1995        </td></tr>\n",
       "</tbody>\n",
       "</table>\n",
       "</dd>\n",
       "\t<dt>$crime</dt>\n",
       "\t\t<dd><table>\n",
       "<thead><tr><th scope=col>X1</th><th scope=col>LGA</th><th scope=col>Offence</th><th scope=col>Crim_Count</th></tr></thead>\n",
       "<tbody>\n",
       "\t<tr><td>1                                    </td><td>Albury                               </td><td>Murder *                             </td><td>  2                                  </td></tr>\n",
       "\t<tr><td>2                                    </td><td>Albury                               </td><td>Attempted murder                     </td><td>  1                                  </td></tr>\n",
       "\t<tr><td>3                                    </td><td>Albury                               </td><td>Murder accessory, conspiracy         </td><td>  0                                  </td></tr>\n",
       "\t<tr><td>4                                    </td><td>Albury                               </td><td>Manslaughter *                       </td><td>  0                                  </td></tr>\n",
       "\t<tr><td>5                                    </td><td>Albury                               </td><td>Domestic violence related assault    </td><td>284                                  </td></tr>\n",
       "\t<tr><td>6                                    </td><td>Albury                               </td><td>Non-domestic violence related assault</td><td>296                                  </td></tr>\n",
       "</tbody>\n",
       "</table>\n",
       "</dd>\n",
       "\t<dt>$industry_employment</dt>\n",
       "\t\t<dd><table>\n",
       "<thead><tr><th scope=col>Age</th><th scope=col>Sex</th><th scope=col>Industry of Employment</th><th scope=col>LGA_2016</th><th scope=col>LGA</th><th scope=col>Census year</th><th scope=col>Value</th></tr></thead>\n",
       "<tbody>\n",
       "\t<tr><td>15 - 19                          </td><td>Males                            </td><td>Agriculture, Forestry and Fishing</td><td>10050                            </td><td>Albury                           </td><td>2016                             </td><td> 6                               </td></tr>\n",
       "\t<tr><td>15 - 19                          </td><td>Females                          </td><td>Agriculture, Forestry and Fishing</td><td>10050                            </td><td>Albury                           </td><td>2016                             </td><td> 4                               </td></tr>\n",
       "\t<tr><td>15 - 19                          </td><td>Persons                          </td><td>Agriculture, Forestry and Fishing</td><td>10050                            </td><td>Albury                           </td><td>2016                             </td><td> 6                               </td></tr>\n",
       "\t<tr><td>15 - 19                          </td><td>Males                            </td><td>Agriculture, Forestry and Fishing</td><td>10130                            </td><td>Armidale Regional                </td><td>2016                             </td><td>34                               </td></tr>\n",
       "\t<tr><td>15 - 19                          </td><td>Females                          </td><td>Agriculture, Forestry and Fishing</td><td>10130                            </td><td>Armidale Regional                </td><td>2016                             </td><td> 9                               </td></tr>\n",
       "\t<tr><td>15 - 19                          </td><td>Persons                          </td><td>Agriculture, Forestry and Fishing</td><td>10130                            </td><td>Armidale Regional                </td><td>2016                             </td><td>43                               </td></tr>\n",
       "</tbody>\n",
       "</table>\n",
       "</dd>\n",
       "\t<dt>$labour</dt>\n",
       "\t\t<dd><table>\n",
       "<thead><tr><th scope=col>Age</th><th scope=col>Sex</th><th scope=col>Labour force status</th><th scope=col>LGA_2016</th><th scope=col>LGA</th><th scope=col>Census year</th><th scope=col>Value</th></tr></thead>\n",
       "<tbody>\n",
       "\t<tr><td>15 - 19                   </td><td>Males                     </td><td>Employed, worked full-time</td><td>10050                     </td><td>Albury                    </td><td>2016                      </td><td>236                       </td></tr>\n",
       "\t<tr><td>15 - 19                   </td><td>Females                   </td><td>Employed, worked full-time</td><td>10050                     </td><td>Albury                    </td><td>2016                      </td><td>113                       </td></tr>\n",
       "\t<tr><td>15 - 19                   </td><td>Persons                   </td><td>Employed, worked full-time</td><td>10050                     </td><td>Albury                    </td><td>2016                      </td><td>348                       </td></tr>\n",
       "\t<tr><td>15 - 19                   </td><td>Males                     </td><td>Employed, worked full-time</td><td>10130                     </td><td>Armidale Regional         </td><td>2016                      </td><td>105                       </td></tr>\n",
       "\t<tr><td>15 - 19                   </td><td>Females                   </td><td>Employed, worked full-time</td><td>10130                     </td><td>Armidale Regional         </td><td>2016                      </td><td> 58                       </td></tr>\n",
       "\t<tr><td>15 - 19                   </td><td>Persons                   </td><td>Employed, worked full-time</td><td>10130                     </td><td>Armidale Regional         </td><td>2016                      </td><td>160                       </td></tr>\n",
       "</tbody>\n",
       "</table>\n",
       "</dd>\n",
       "\t<dt>$pop_dens</dt>\n",
       "\t\t<dd><table>\n",
       "<thead><tr><th scope=col>X1</th><th scope=col>LGA</th><th scope=col>Pop_Dens_km2</th></tr></thead>\n",
       "<tbody>\n",
       "\t<tr><td>1                </td><td>Albury           </td><td>170.5            </td></tr>\n",
       "\t<tr><td>2                </td><td>Armidale Regional</td><td>  3.5            </td></tr>\n",
       "\t<tr><td>3                </td><td>Ballina          </td><td> 88.7            </td></tr>\n",
       "\t<tr><td>4                </td><td>Balranald        </td><td>  0.1            </td></tr>\n",
       "\t<tr><td>5                </td><td>Bathurst Regional</td><td> 11.1            </td></tr>\n",
       "\t<tr><td>6                </td><td>Bega Valley      </td><td>  5.4            </td></tr>\n",
       "</tbody>\n",
       "</table>\n",
       "</dd>\n",
       "\t<dt>$seifa</dt>\n",
       "\t\t<dd><table>\n",
       "<thead><tr><th scope=col>X1</th><th scope=col>LGA</th><th scope=col>Value</th></tr></thead>\n",
       "<tbody>\n",
       "\t<tr><td>1                </td><td>Albury           </td><td>964              </td></tr>\n",
       "\t<tr><td>2                </td><td>Armidale Dumaresq</td><td>954              </td></tr>\n",
       "\t<tr><td>3                </td><td>Ashfield         </td><td>962              </td></tr>\n",
       "\t<tr><td>4                </td><td>Auburn           </td><td>931              </td></tr>\n",
       "\t<tr><td>5                </td><td>Ballina          </td><td>986              </td></tr>\n",
       "\t<tr><td>6                </td><td>Balranald        </td><td>969              </td></tr>\n",
       "</tbody>\n",
       "</table>\n",
       "</dd>\n",
       "\t<dt>$transport</dt>\n",
       "\t\t<dd><table>\n",
       "<thead><tr><th scope=col>LGA</th><th scope=col>route_type</th><th scope=col>num_service</th></tr></thead>\n",
       "<tbody>\n",
       "\t<tr><td>Albury           </td><td>106              </td><td> 131             </td></tr>\n",
       "\t<tr><td>Albury           </td><td>204              </td><td>  14             </td></tr>\n",
       "\t<tr><td>Albury           </td><td>700              </td><td>1624             </td></tr>\n",
       "\t<tr><td>Armidale Regional</td><td>106              </td><td>  62             </td></tr>\n",
       "\t<tr><td>Armidale Regional</td><td>204              </td><td>  10             </td></tr>\n",
       "\t<tr><td>Armidale Regional</td><td>700              </td><td> 113             </td></tr>\n",
       "</tbody>\n",
       "</table>\n",
       "</dd>\n",
       "</dl>\n"
      ],
      "text/latex": [
       "\\begin{description}\n",
       "\\item[\\$age] \\begin{tabular}{r|llll}\n",
       " Sex & Age & LGA & Value\\\\\n",
       "\\hline\n",
       "\t Females                      & 95 - 99                      & Lismore                      &  65                         \\\\\n",
       "\t Females                      & 95 - 99                      & Queanbeyan-Palerang Regional &  33                         \\\\\n",
       "\t Females                      & 95 - 99                      & Mid-Coast                    & 173                         \\\\\n",
       "\t Females                      & 95 - 99                      & Glen Innes Severn            &  16                         \\\\\n",
       "\t Females                      & 95 - 99                      & Lockhart                     &  11                         \\\\\n",
       "\t Females                      & 95 - 99                      & Lane Cove                    &  49                         \\\\\n",
       "\\end{tabular}\n",
       "\n",
       "\\item[\\$country\\_of\\_birth] \\begin{tabular}{r|lllllll}\n",
       " birthplace\\_of\\_person & census\\_year & lga\\_2016 & LGA & value & yarrp\\_2016 & year\\_of\\_arrival\\_in\\_australia\\\\\n",
       "\\hline\n",
       "\t Oceania and Antarctica, nfd & 2016                        & 10050                       & Albury                      & 0                           & 1                           & Arrived 1900 - 1945        \\\\\n",
       "\t Oceania and Antarctica, nfd & 2016                        & 10050                       & Albury                      & 0                           & 2                           & Arrived 1946 - 1955        \\\\\n",
       "\t Oceania and Antarctica, nfd & 2016                        & 10050                       & Albury                      & 0                           & 3                           & Arrived 1956 - 1965        \\\\\n",
       "\t Oceania and Antarctica, nfd & 2016                        & 10050                       & Albury                      & 0                           & 4                           & Arrived 1966 - 1975        \\\\\n",
       "\t Oceania and Antarctica, nfd & 2016                        & 10050                       & Albury                      & 0                           & 5                           & Arrived 1976 - 1985        \\\\\n",
       "\t Oceania and Antarctica, nfd & 2016                        & 10050                       & Albury                      & 0                           & 6                           & Arrived 1986 - 1995        \\\\\n",
       "\\end{tabular}\n",
       "\n",
       "\\item[\\$crime] \\begin{tabular}{r|llll}\n",
       " X1 & LGA & Offence & Crim\\_Count\\\\\n",
       "\\hline\n",
       "\t 1                                     & Albury                                & Murder *                              &   2                                  \\\\\n",
       "\t 2                                     & Albury                                & Attempted murder                      &   1                                  \\\\\n",
       "\t 3                                     & Albury                                & Murder accessory, conspiracy          &   0                                  \\\\\n",
       "\t 4                                     & Albury                                & Manslaughter *                        &   0                                  \\\\\n",
       "\t 5                                     & Albury                                & Domestic violence related assault     & 284                                  \\\\\n",
       "\t 6                                     & Albury                                & Non-domestic violence related assault & 296                                  \\\\\n",
       "\\end{tabular}\n",
       "\n",
       "\\item[\\$industry\\_employment] \\begin{tabular}{r|lllllll}\n",
       " Age & Sex & Industry of Employment & LGA\\_2016 & LGA & Census year & Value\\\\\n",
       "\\hline\n",
       "\t 15 - 19                           & Males                             & Agriculture, Forestry and Fishing & 10050                             & Albury                            & 2016                              &  6                               \\\\\n",
       "\t 15 - 19                           & Females                           & Agriculture, Forestry and Fishing & 10050                             & Albury                            & 2016                              &  4                               \\\\\n",
       "\t 15 - 19                           & Persons                           & Agriculture, Forestry and Fishing & 10050                             & Albury                            & 2016                              &  6                               \\\\\n",
       "\t 15 - 19                           & Males                             & Agriculture, Forestry and Fishing & 10130                             & Armidale Regional                 & 2016                              & 34                               \\\\\n",
       "\t 15 - 19                           & Females                           & Agriculture, Forestry and Fishing & 10130                             & Armidale Regional                 & 2016                              &  9                               \\\\\n",
       "\t 15 - 19                           & Persons                           & Agriculture, Forestry and Fishing & 10130                             & Armidale Regional                 & 2016                              & 43                               \\\\\n",
       "\\end{tabular}\n",
       "\n",
       "\\item[\\$labour] \\begin{tabular}{r|lllllll}\n",
       " Age & Sex & Labour force status & LGA\\_2016 & LGA & Census year & Value\\\\\n",
       "\\hline\n",
       "\t 15 - 19                    & Males                      & Employed, worked full-time & 10050                      & Albury                     & 2016                       & 236                       \\\\\n",
       "\t 15 - 19                    & Females                    & Employed, worked full-time & 10050                      & Albury                     & 2016                       & 113                       \\\\\n",
       "\t 15 - 19                    & Persons                    & Employed, worked full-time & 10050                      & Albury                     & 2016                       & 348                       \\\\\n",
       "\t 15 - 19                    & Males                      & Employed, worked full-time & 10130                      & Armidale Regional          & 2016                       & 105                       \\\\\n",
       "\t 15 - 19                    & Females                    & Employed, worked full-time & 10130                      & Armidale Regional          & 2016                       &  58                       \\\\\n",
       "\t 15 - 19                    & Persons                    & Employed, worked full-time & 10130                      & Armidale Regional          & 2016                       & 160                       \\\\\n",
       "\\end{tabular}\n",
       "\n",
       "\\item[\\$pop\\_dens] \\begin{tabular}{r|lll}\n",
       " X1 & LGA & Pop\\_Dens\\_km2\\\\\n",
       "\\hline\n",
       "\t 1                 & Albury            & 170.5            \\\\\n",
       "\t 2                 & Armidale Regional &   3.5            \\\\\n",
       "\t 3                 & Ballina           &  88.7            \\\\\n",
       "\t 4                 & Balranald         &   0.1            \\\\\n",
       "\t 5                 & Bathurst Regional &  11.1            \\\\\n",
       "\t 6                 & Bega Valley       &   5.4            \\\\\n",
       "\\end{tabular}\n",
       "\n",
       "\\item[\\$seifa] \\begin{tabular}{r|lll}\n",
       " X1 & LGA & Value\\\\\n",
       "\\hline\n",
       "\t 1                 & Albury            & 964              \\\\\n",
       "\t 2                 & Armidale Dumaresq & 954              \\\\\n",
       "\t 3                 & Ashfield          & 962              \\\\\n",
       "\t 4                 & Auburn            & 931              \\\\\n",
       "\t 5                 & Ballina           & 986              \\\\\n",
       "\t 6                 & Balranald         & 969              \\\\\n",
       "\\end{tabular}\n",
       "\n",
       "\\item[\\$transport] \\begin{tabular}{r|lll}\n",
       " LGA & route\\_type & num\\_service\\\\\n",
       "\\hline\n",
       "\t Albury            & 106               &  131             \\\\\n",
       "\t Albury            & 204               &   14             \\\\\n",
       "\t Albury            & 700               & 1624             \\\\\n",
       "\t Armidale Regional & 106               &   62             \\\\\n",
       "\t Armidale Regional & 204               &   10             \\\\\n",
       "\t Armidale Regional & 700               &  113             \\\\\n",
       "\\end{tabular}\n",
       "\n",
       "\\end{description}\n"
      ],
      "text/markdown": [
       "$age\n",
       ":   \n",
       "| Sex | Age | LGA | Value |\n",
       "|---|---|---|---|\n",
       "| Females                      | 95 - 99                      | Lismore                      |  65                          |\n",
       "| Females                      | 95 - 99                      | Queanbeyan-Palerang Regional |  33                          |\n",
       "| Females                      | 95 - 99                      | Mid-Coast                    | 173                          |\n",
       "| Females                      | 95 - 99                      | Glen Innes Severn            |  16                          |\n",
       "| Females                      | 95 - 99                      | Lockhart                     |  11                          |\n",
       "| Females                      | 95 - 99                      | Lane Cove                    |  49                          |\n",
       "\n",
       "\n",
       "$country_of_birth\n",
       ":   \n",
       "| birthplace_of_person | census_year | lga_2016 | LGA | value | yarrp_2016 | year_of_arrival_in_australia |\n",
       "|---|---|---|---|---|---|---|\n",
       "| Oceania and Antarctica, nfd | 2016                        | 10050                       | Albury                      | 0                           | 1                           | Arrived 1900 - 1945         |\n",
       "| Oceania and Antarctica, nfd | 2016                        | 10050                       | Albury                      | 0                           | 2                           | Arrived 1946 - 1955         |\n",
       "| Oceania and Antarctica, nfd | 2016                        | 10050                       | Albury                      | 0                           | 3                           | Arrived 1956 - 1965         |\n",
       "| Oceania and Antarctica, nfd | 2016                        | 10050                       | Albury                      | 0                           | 4                           | Arrived 1966 - 1975         |\n",
       "| Oceania and Antarctica, nfd | 2016                        | 10050                       | Albury                      | 0                           | 5                           | Arrived 1976 - 1985         |\n",
       "| Oceania and Antarctica, nfd | 2016                        | 10050                       | Albury                      | 0                           | 6                           | Arrived 1986 - 1995         |\n",
       "\n",
       "\n",
       "$crime\n",
       ":   \n",
       "| X1 | LGA | Offence | Crim_Count |\n",
       "|---|---|---|---|\n",
       "| 1                                     | Albury                                | Murder *                              |   2                                   |\n",
       "| 2                                     | Albury                                | Attempted murder                      |   1                                   |\n",
       "| 3                                     | Albury                                | Murder accessory, conspiracy          |   0                                   |\n",
       "| 4                                     | Albury                                | Manslaughter *                        |   0                                   |\n",
       "| 5                                     | Albury                                | Domestic violence related assault     | 284                                   |\n",
       "| 6                                     | Albury                                | Non-domestic violence related assault | 296                                   |\n",
       "\n",
       "\n",
       "$industry_employment\n",
       ":   \n",
       "| Age | Sex | Industry of Employment | LGA_2016 | LGA | Census year | Value |\n",
       "|---|---|---|---|---|---|---|\n",
       "| 15 - 19                           | Males                             | Agriculture, Forestry and Fishing | 10050                             | Albury                            | 2016                              |  6                                |\n",
       "| 15 - 19                           | Females                           | Agriculture, Forestry and Fishing | 10050                             | Albury                            | 2016                              |  4                                |\n",
       "| 15 - 19                           | Persons                           | Agriculture, Forestry and Fishing | 10050                             | Albury                            | 2016                              |  6                                |\n",
       "| 15 - 19                           | Males                             | Agriculture, Forestry and Fishing | 10130                             | Armidale Regional                 | 2016                              | 34                                |\n",
       "| 15 - 19                           | Females                           | Agriculture, Forestry and Fishing | 10130                             | Armidale Regional                 | 2016                              |  9                                |\n",
       "| 15 - 19                           | Persons                           | Agriculture, Forestry and Fishing | 10130                             | Armidale Regional                 | 2016                              | 43                                |\n",
       "\n",
       "\n",
       "$labour\n",
       ":   \n",
       "| Age | Sex | Labour force status | LGA_2016 | LGA | Census year | Value |\n",
       "|---|---|---|---|---|---|---|\n",
       "| 15 - 19                    | Males                      | Employed, worked full-time | 10050                      | Albury                     | 2016                       | 236                        |\n",
       "| 15 - 19                    | Females                    | Employed, worked full-time | 10050                      | Albury                     | 2016                       | 113                        |\n",
       "| 15 - 19                    | Persons                    | Employed, worked full-time | 10050                      | Albury                     | 2016                       | 348                        |\n",
       "| 15 - 19                    | Males                      | Employed, worked full-time | 10130                      | Armidale Regional          | 2016                       | 105                        |\n",
       "| 15 - 19                    | Females                    | Employed, worked full-time | 10130                      | Armidale Regional          | 2016                       |  58                        |\n",
       "| 15 - 19                    | Persons                    | Employed, worked full-time | 10130                      | Armidale Regional          | 2016                       | 160                        |\n",
       "\n",
       "\n",
       "$pop_dens\n",
       ":   \n",
       "| X1 | LGA | Pop_Dens_km2 |\n",
       "|---|---|---|\n",
       "| 1                 | Albury            | 170.5             |\n",
       "| 2                 | Armidale Regional |   3.5             |\n",
       "| 3                 | Ballina           |  88.7             |\n",
       "| 4                 | Balranald         |   0.1             |\n",
       "| 5                 | Bathurst Regional |  11.1             |\n",
       "| 6                 | Bega Valley       |   5.4             |\n",
       "\n",
       "\n",
       "$seifa\n",
       ":   \n",
       "| X1 | LGA | Value |\n",
       "|---|---|---|\n",
       "| 1                 | Albury            | 964               |\n",
       "| 2                 | Armidale Dumaresq | 954               |\n",
       "| 3                 | Ashfield          | 962               |\n",
       "| 4                 | Auburn            | 931               |\n",
       "| 5                 | Ballina           | 986               |\n",
       "| 6                 | Balranald         | 969               |\n",
       "\n",
       "\n",
       "$transport\n",
       ":   \n",
       "| LGA | route_type | num_service |\n",
       "|---|---|---|\n",
       "| Albury            | 106               |  131              |\n",
       "| Albury            | 204               |   14              |\n",
       "| Albury            | 700               | 1624              |\n",
       "| Armidale Regional | 106               |   62              |\n",
       "| Armidale Regional | 204               |   10              |\n",
       "| Armidale Regional | 700               |  113              |\n",
       "\n",
       "\n",
       "\n",
       "\n"
      ],
      "text/plain": [
       "$age\n",
       "\u001b[90m# A tibble: 6 x 4\u001b[39m\n",
       "  Sex     Age     LGA                          Value\n",
       "  \u001b[3m\u001b[90m<fct>\u001b[39m\u001b[23m   \u001b[3m\u001b[90m<fct>\u001b[39m\u001b[23m   \u001b[3m\u001b[90m<fct>\u001b[39m\u001b[23m                        \u001b[3m\u001b[90m<int>\u001b[39m\u001b[23m\n",
       "\u001b[90m1\u001b[39m Females 95 - 99 Lismore                         65\n",
       "\u001b[90m2\u001b[39m Females 95 - 99 Queanbeyan-Palerang Regional    33\n",
       "\u001b[90m3\u001b[39m Females 95 - 99 Mid-Coast                      173\n",
       "\u001b[90m4\u001b[39m Females 95 - 99 Glen Innes Severn               16\n",
       "\u001b[90m5\u001b[39m Females 95 - 99 Lockhart                        11\n",
       "\u001b[90m6\u001b[39m Females 95 - 99 Lane Cove                       49\n",
       "\n",
       "$country_of_birth\n",
       "\u001b[90m# A tibble: 6 x 7\u001b[39m\n",
       "  birthplace_of_pe~ census_year lga_2016 LGA   value yarrp_2016 year_of_arrival~\n",
       "  \u001b[3m\u001b[90m<fct>\u001b[39m\u001b[23m                   \u001b[3m\u001b[90m<dbl>\u001b[39m\u001b[23m    \u001b[3m\u001b[90m<dbl>\u001b[39m\u001b[23m \u001b[3m\u001b[90m<fct>\u001b[39m\u001b[23m \u001b[3m\u001b[90m<dbl>\u001b[39m\u001b[23m \u001b[3m\u001b[90m<chr>\u001b[39m\u001b[23m      \u001b[3m\u001b[90m<fct>\u001b[39m\u001b[23m           \n",
       "\u001b[90m1\u001b[39m Oceania and Anta~        \u001b[4m2\u001b[24m016    \u001b[4m1\u001b[24m\u001b[4m0\u001b[24m050 Albu~     0 1          Arrived 1900 - ~\n",
       "\u001b[90m2\u001b[39m Oceania and Anta~        \u001b[4m2\u001b[24m016    \u001b[4m1\u001b[24m\u001b[4m0\u001b[24m050 Albu~     0 2          Arrived 1946 - ~\n",
       "\u001b[90m3\u001b[39m Oceania and Anta~        \u001b[4m2\u001b[24m016    \u001b[4m1\u001b[24m\u001b[4m0\u001b[24m050 Albu~     0 3          Arrived 1956 - ~\n",
       "\u001b[90m4\u001b[39m Oceania and Anta~        \u001b[4m2\u001b[24m016    \u001b[4m1\u001b[24m\u001b[4m0\u001b[24m050 Albu~     0 4          Arrived 1966 - ~\n",
       "\u001b[90m5\u001b[39m Oceania and Anta~        \u001b[4m2\u001b[24m016    \u001b[4m1\u001b[24m\u001b[4m0\u001b[24m050 Albu~     0 5          Arrived 1976 - ~\n",
       "\u001b[90m6\u001b[39m Oceania and Anta~        \u001b[4m2\u001b[24m016    \u001b[4m1\u001b[24m\u001b[4m0\u001b[24m050 Albu~     0 6          Arrived 1986 - ~\n",
       "\n",
       "$crime\n",
       "\u001b[90m# A tibble: 6 x 4\u001b[39m\n",
       "     X1 LGA    Offence                               Crim_Count\n",
       "  \u001b[3m\u001b[90m<dbl>\u001b[39m\u001b[23m \u001b[3m\u001b[90m<fct>\u001b[39m\u001b[23m  \u001b[3m\u001b[90m<fct>\u001b[39m\u001b[23m                                      \u001b[3m\u001b[90m<int>\u001b[39m\u001b[23m\n",
       "\u001b[90m1\u001b[39m     1 Albury Murder *                                       2\n",
       "\u001b[90m2\u001b[39m     2 Albury Attempted murder                               1\n",
       "\u001b[90m3\u001b[39m     3 Albury Murder accessory, conspiracy                   0\n",
       "\u001b[90m4\u001b[39m     4 Albury Manslaughter *                                 0\n",
       "\u001b[90m5\u001b[39m     5 Albury Domestic violence related assault            284\n",
       "\u001b[90m6\u001b[39m     6 Albury Non-domestic violence related assault        296\n",
       "\n",
       "$industry_employment\n",
       "\u001b[90m# A tibble: 6 x 7\u001b[39m\n",
       "  Age    Sex    `Industry of Employment` LGA_2016 LGA        `Census year` Value\n",
       "  \u001b[3m\u001b[90m<fct>\u001b[39m\u001b[23m  \u001b[3m\u001b[90m<fct>\u001b[39m\u001b[23m  \u001b[3m\u001b[90m<fct>\u001b[39m\u001b[23m                       \u001b[3m\u001b[90m<dbl>\u001b[39m\u001b[23m \u001b[3m\u001b[90m<fct>\u001b[39m\u001b[23m              \u001b[3m\u001b[90m<dbl>\u001b[39m\u001b[23m \u001b[3m\u001b[90m<int>\u001b[39m\u001b[23m\n",
       "\u001b[90m1\u001b[39m 15 - ~ Males  Agriculture, Forestry a~    \u001b[4m1\u001b[24m\u001b[4m0\u001b[24m050 Albury              \u001b[4m2\u001b[24m016     6\n",
       "\u001b[90m2\u001b[39m 15 - ~ Femal~ Agriculture, Forestry a~    \u001b[4m1\u001b[24m\u001b[4m0\u001b[24m050 Albury              \u001b[4m2\u001b[24m016     4\n",
       "\u001b[90m3\u001b[39m 15 - ~ Perso~ Agriculture, Forestry a~    \u001b[4m1\u001b[24m\u001b[4m0\u001b[24m050 Albury              \u001b[4m2\u001b[24m016     6\n",
       "\u001b[90m4\u001b[39m 15 - ~ Males  Agriculture, Forestry a~    \u001b[4m1\u001b[24m\u001b[4m0\u001b[24m130 Armidale ~          \u001b[4m2\u001b[24m016    34\n",
       "\u001b[90m5\u001b[39m 15 - ~ Femal~ Agriculture, Forestry a~    \u001b[4m1\u001b[24m\u001b[4m0\u001b[24m130 Armidale ~          \u001b[4m2\u001b[24m016     9\n",
       "\u001b[90m6\u001b[39m 15 - ~ Perso~ Agriculture, Forestry a~    \u001b[4m1\u001b[24m\u001b[4m0\u001b[24m130 Armidale ~          \u001b[4m2\u001b[24m016    43\n",
       "\n",
       "$labour\n",
       "\u001b[90m# A tibble: 6 x 7\u001b[39m\n",
       "  Age     Sex     `Labour force status` LGA_2016 LGA         `Census year` Value\n",
       "  \u001b[3m\u001b[90m<fct>\u001b[39m\u001b[23m   \u001b[3m\u001b[90m<fct>\u001b[39m\u001b[23m   \u001b[3m\u001b[90m<fct>\u001b[39m\u001b[23m                    \u001b[3m\u001b[90m<dbl>\u001b[39m\u001b[23m \u001b[3m\u001b[90m<fct>\u001b[39m\u001b[23m               \u001b[3m\u001b[90m<dbl>\u001b[39m\u001b[23m \u001b[3m\u001b[90m<int>\u001b[39m\u001b[23m\n",
       "\u001b[90m1\u001b[39m 15 - 19 Males   Employed, worked ful~    \u001b[4m1\u001b[24m\u001b[4m0\u001b[24m050 Albury               \u001b[4m2\u001b[24m016   236\n",
       "\u001b[90m2\u001b[39m 15 - 19 Females Employed, worked ful~    \u001b[4m1\u001b[24m\u001b[4m0\u001b[24m050 Albury               \u001b[4m2\u001b[24m016   113\n",
       "\u001b[90m3\u001b[39m 15 - 19 Persons Employed, worked ful~    \u001b[4m1\u001b[24m\u001b[4m0\u001b[24m050 Albury               \u001b[4m2\u001b[24m016   348\n",
       "\u001b[90m4\u001b[39m 15 - 19 Males   Employed, worked ful~    \u001b[4m1\u001b[24m\u001b[4m0\u001b[24m130 Armidale R~          \u001b[4m2\u001b[24m016   105\n",
       "\u001b[90m5\u001b[39m 15 - 19 Females Employed, worked ful~    \u001b[4m1\u001b[24m\u001b[4m0\u001b[24m130 Armidale R~          \u001b[4m2\u001b[24m016    58\n",
       "\u001b[90m6\u001b[39m 15 - 19 Persons Employed, worked ful~    \u001b[4m1\u001b[24m\u001b[4m0\u001b[24m130 Armidale R~          \u001b[4m2\u001b[24m016   160\n",
       "\n",
       "$pop_dens\n",
       "\u001b[90m# A tibble: 6 x 3\u001b[39m\n",
       "     X1 LGA               Pop_Dens_km2\n",
       "  \u001b[3m\u001b[90m<dbl>\u001b[39m\u001b[23m \u001b[3m\u001b[90m<fct>\u001b[39m\u001b[23m                    \u001b[3m\u001b[90m<dbl>\u001b[39m\u001b[23m\n",
       "\u001b[90m1\u001b[39m     1 Albury                   170. \n",
       "\u001b[90m2\u001b[39m     2 Armidale Regional          3.5\n",
       "\u001b[90m3\u001b[39m     3 Ballina                   88.7\n",
       "\u001b[90m4\u001b[39m     4 Balranald                  0.1\n",
       "\u001b[90m5\u001b[39m     5 Bathurst Regional         11.1\n",
       "\u001b[90m6\u001b[39m     6 Bega Valley                5.4\n",
       "\n",
       "$seifa\n",
       "\u001b[90m# A tibble: 6 x 3\u001b[39m\n",
       "     X1 LGA               Value\n",
       "  \u001b[3m\u001b[90m<dbl>\u001b[39m\u001b[23m \u001b[3m\u001b[90m<fct>\u001b[39m\u001b[23m             \u001b[3m\u001b[90m<int>\u001b[39m\u001b[23m\n",
       "\u001b[90m1\u001b[39m     1 Albury              964\n",
       "\u001b[90m2\u001b[39m     2 Armidale Dumaresq   954\n",
       "\u001b[90m3\u001b[39m     3 Ashfield            962\n",
       "\u001b[90m4\u001b[39m     4 Auburn              931\n",
       "\u001b[90m5\u001b[39m     5 Ballina             986\n",
       "\u001b[90m6\u001b[39m     6 Balranald           969\n",
       "\n",
       "$transport\n",
       "\u001b[90m# A tibble: 6 x 3\u001b[39m\n",
       "  LGA               route_type num_service\n",
       "  \u001b[3m\u001b[90m<fct>\u001b[39m\u001b[23m             \u001b[3m\u001b[90m<fct>\u001b[39m\u001b[23m            \u001b[3m\u001b[90m<dbl>\u001b[39m\u001b[23m\n",
       "\u001b[90m1\u001b[39m Albury            106                131\n",
       "\u001b[90m2\u001b[39m Albury            204                 14\n",
       "\u001b[90m3\u001b[39m Albury            700               \u001b[4m1\u001b[24m624\n",
       "\u001b[90m4\u001b[39m Armidale Regional 106                 62\n",
       "\u001b[90m5\u001b[39m Armidale Regional 204                 10\n",
       "\u001b[90m6\u001b[39m Armidale Regional 700                113\n"
      ]
     },
     "metadata": {},
     "output_type": "display_data"
    }
   ],
   "source": [
    "map(input_data, head)"
   ]
  },
  {
   "cell_type": "code",
   "execution_count": 11,
   "metadata": {},
   "outputs": [
    {
     "name": "stdout",
     "output_type": "stream",
     "text": [
      "[1] \"age\"\n",
      "Observations: 5,808\n",
      "Variables: 4\n",
      "$ Sex   \u001b[3m\u001b[90m<fct>\u001b[39m\u001b[23m Females, Females, Females, Females, Females, Females, Females...\n",
      "$ Age   \u001b[3m\u001b[90m<fct>\u001b[39m\u001b[23m 95 - 99, 95 - 99, 95 - 99, 95 - 99, 95 - 99, 95 - 99, 95 - 99...\n",
      "$ LGA   \u001b[3m\u001b[90m<fct>\u001b[39m\u001b[23m Lismore, Queanbeyan-Palerang Regional, Mid-Coast, Glen Innes ...\n",
      "$ Value \u001b[3m\u001b[90m<int>\u001b[39m\u001b[23m 65, 33, 173, 16, 11, 49, 26, 451, 24, 0, 4, 39, 72, 29, 9, 51...\n",
      "\u001b[90m# A tibble: 5,808 x 4\u001b[39m\n",
      "   Sex     Age     LGA                          Value\n",
      "   \u001b[3m\u001b[90m<fct>\u001b[39m\u001b[23m   \u001b[3m\u001b[90m<fct>\u001b[39m\u001b[23m   \u001b[3m\u001b[90m<fct>\u001b[39m\u001b[23m                        \u001b[3m\u001b[90m<int>\u001b[39m\u001b[23m\n",
      "\u001b[90m 1\u001b[39m Females 95 - 99 Lismore                         65\n",
      "\u001b[90m 2\u001b[39m Females 95 - 99 Queanbeyan-Palerang Regional    33\n",
      "\u001b[90m 3\u001b[39m Females 95 - 99 Mid-Coast                      173\n",
      "\u001b[90m 4\u001b[39m Females 95 - 99 Glen Innes Severn               16\n",
      "\u001b[90m 5\u001b[39m Females 95 - 99 Lockhart                        11\n",
      "\u001b[90m 6\u001b[39m Females 95 - 99 Lane Cove                       49\n",
      "\u001b[90m 7\u001b[39m Females 95 - 99 Nambucca                        26\n",
      "\u001b[90m 8\u001b[39m Females 95 - 99 Northern Beaches               451\n",
      "\u001b[90m 9\u001b[39m Females 95 - 99 Inverell                        24\n",
      "\u001b[90m10\u001b[39m Females 95 - 99 Hay                              0\n",
      "\u001b[90m# ... with 5,798 more rows\u001b[39m\n",
      "[1] \"country_of_birth\"\n",
      "Observations: 918,607\n",
      "Variables: 7\n",
      "$ birthplace_of_person         \u001b[3m\u001b[90m<fct>\u001b[39m\u001b[23m \"Oceania and Antarctica, nfd\", \"Oceani...\n",
      "$ census_year                  \u001b[3m\u001b[90m<dbl>\u001b[39m\u001b[23m 2016, 2016, 2016, 2016, 2016, 2016, 20...\n",
      "$ lga_2016                     \u001b[3m\u001b[90m<dbl>\u001b[39m\u001b[23m 10050, 10050, 10050, 10050, 10050, 100...\n",
      "$ LGA                          \u001b[3m\u001b[90m<fct>\u001b[39m\u001b[23m Albury, Albury, Albury, Albury, Albury...\n",
      "$ value                        \u001b[3m\u001b[90m<dbl>\u001b[39m\u001b[23m 0, 0, 0, 0, 0, 0, 0, 0, 0, 0, 0, 0, 0,...\n",
      "$ yarrp_2016                   \u001b[3m\u001b[90m<chr>\u001b[39m\u001b[23m \"1\", \"2\", \"3\", \"4\", \"5\", \"6\", \"7\", \"9\"...\n",
      "$ year_of_arrival_in_australia \u001b[3m\u001b[90m<fct>\u001b[39m\u001b[23m Arrived 1900 - 1945, Arrived 1946 - 19...\n",
      "\u001b[90m# A tibble: 918,607 x 7\u001b[39m\n",
      "   birthplace_of_p~ census_year lga_2016 LGA   value yarrp_2016 year_of_arrival~\n",
      "   \u001b[3m\u001b[90m<fct>\u001b[39m\u001b[23m                  \u001b[3m\u001b[90m<dbl>\u001b[39m\u001b[23m    \u001b[3m\u001b[90m<dbl>\u001b[39m\u001b[23m \u001b[3m\u001b[90m<fct>\u001b[39m\u001b[23m \u001b[3m\u001b[90m<dbl>\u001b[39m\u001b[23m \u001b[3m\u001b[90m<chr>\u001b[39m\u001b[23m      \u001b[3m\u001b[90m<fct>\u001b[39m\u001b[23m           \n",
      "\u001b[90m 1\u001b[39m Oceania and Ant~        \u001b[4m2\u001b[24m016    \u001b[4m1\u001b[24m\u001b[4m0\u001b[24m050 Albu~     0 1          Arrived 1900 - ~\n",
      "\u001b[90m 2\u001b[39m Oceania and Ant~        \u001b[4m2\u001b[24m016    \u001b[4m1\u001b[24m\u001b[4m0\u001b[24m050 Albu~     0 2          Arrived 1946 - ~\n",
      "\u001b[90m 3\u001b[39m Oceania and Ant~        \u001b[4m2\u001b[24m016    \u001b[4m1\u001b[24m\u001b[4m0\u001b[24m050 Albu~     0 3          Arrived 1956 - ~\n",
      "\u001b[90m 4\u001b[39m Oceania and Ant~        \u001b[4m2\u001b[24m016    \u001b[4m1\u001b[24m\u001b[4m0\u001b[24m050 Albu~     0 4          Arrived 1966 - ~\n",
      "\u001b[90m 5\u001b[39m Oceania and Ant~        \u001b[4m2\u001b[24m016    \u001b[4m1\u001b[24m\u001b[4m0\u001b[24m050 Albu~     0 5          Arrived 1976 - ~\n",
      "\u001b[90m 6\u001b[39m Oceania and Ant~        \u001b[4m2\u001b[24m016    \u001b[4m1\u001b[24m\u001b[4m0\u001b[24m050 Albu~     0 6          Arrived 1986 - ~\n",
      "\u001b[90m 7\u001b[39m Oceania and Ant~        \u001b[4m2\u001b[24m016    \u001b[4m1\u001b[24m\u001b[4m0\u001b[24m050 Albu~     0 7          Arrived 1996 - ~\n",
      "\u001b[90m 8\u001b[39m Oceania and Ant~        \u001b[4m2\u001b[24m016    \u001b[4m1\u001b[24m\u001b[4m0\u001b[24m050 Albu~     0 9          Arrived 1 Jan 2~\n",
      "\u001b[90m 9\u001b[39m Oceania and Ant~        \u001b[4m2\u001b[24m016    \u001b[4m1\u001b[24m\u001b[4m0\u001b[24m050 Albu~     0 Z          Not stated      \n",
      "\u001b[90m10\u001b[39m Oceania and Ant~        \u001b[4m2\u001b[24m016    \u001b[4m1\u001b[24m\u001b[4m0\u001b[24m130 Armi~     0 1          Arrived 1900 - ~\n",
      "\u001b[90m# ... with 918,597 more rows\u001b[39m\n",
      "[1] \"crime\"\n",
      "Observations: 8,060\n",
      "Variables: 4\n",
      "$ X1         \u001b[3m\u001b[90m<dbl>\u001b[39m\u001b[23m 1, 2, 3, 4, 5, 6, 7, 8, 9, 10, 11, 12, 13, 14, 15, 16, 1...\n",
      "$ LGA        \u001b[3m\u001b[90m<fct>\u001b[39m\u001b[23m Albury, Albury, Albury, Albury, Albury, Albury, Albury, ...\n",
      "$ Offence    \u001b[3m\u001b[90m<fct>\u001b[39m\u001b[23m \"Murder *\", \"Attempted murder\", \"Murder accessory, consp...\n",
      "$ Crim_Count \u001b[3m\u001b[90m<int>\u001b[39m\u001b[23m 2, 1, 0, 0, 284, 296, 25, 47, 68, 2, 12, 3, 6, 0, 315, 1...\n",
      "\u001b[90m# A tibble: 8,060 x 4\u001b[39m\n",
      "      X1 LGA    Offence                                               Crim_Count\n",
      "   \u001b[3m\u001b[90m<dbl>\u001b[39m\u001b[23m \u001b[3m\u001b[90m<fct>\u001b[39m\u001b[23m  \u001b[3m\u001b[90m<fct>\u001b[39m\u001b[23m                                                      \u001b[3m\u001b[90m<int>\u001b[39m\u001b[23m\n",
      "\u001b[90m 1\u001b[39m     1 Albury Murder *                                                       2\n",
      "\u001b[90m 2\u001b[39m     2 Albury Attempted murder                                               1\n",
      "\u001b[90m 3\u001b[39m     3 Albury Murder accessory, conspiracy                                   0\n",
      "\u001b[90m 4\u001b[39m     4 Albury Manslaughter *                                                 0\n",
      "\u001b[90m 5\u001b[39m     5 Albury Domestic violence related assault                            284\n",
      "\u001b[90m 6\u001b[39m     6 Albury Non-domestic violence related assault                        296\n",
      "\u001b[90m 7\u001b[39m     7 Albury Assault Police                                                25\n",
      "\u001b[90m 8\u001b[39m     8 Albury Sexual assault                                                47\n",
      "\u001b[90m 9\u001b[39m     9 Albury Indecent assault, act of indecency and other sexual ~         68\n",
      "\u001b[90m10\u001b[39m    10 Albury Abduction and kidnapping                                       2\n",
      "\u001b[90m# ... with 8,050 more rows\u001b[39m\n",
      "[1] \"industry_employment\"\n",
      "Observations: 79,200\n",
      "Variables: 7\n",
      "$ Age                      \u001b[3m\u001b[90m<fct>\u001b[39m\u001b[23m 15 - 19, 15 - 19, 15 - 19, 15 - 19, 15 - 1...\n",
      "$ Sex                      \u001b[3m\u001b[90m<fct>\u001b[39m\u001b[23m Males, Females, Persons, Males, Females, P...\n",
      "$ `Industry of Employment` \u001b[3m\u001b[90m<fct>\u001b[39m\u001b[23m \"Agriculture, Forestry and Fishing\", \"Agri...\n",
      "$ LGA_2016                 \u001b[3m\u001b[90m<dbl>\u001b[39m\u001b[23m 10050, 10050, 10050, 10130, 10130, 10130, ...\n",
      "$ LGA                      \u001b[3m\u001b[90m<fct>\u001b[39m\u001b[23m Albury, Albury, Albury, Armidale Regional,...\n",
      "$ `Census year`            \u001b[3m\u001b[90m<dbl>\u001b[39m\u001b[23m 2016, 2016, 2016, 2016, 2016, 2016, 2016, ...\n",
      "$ Value                    \u001b[3m\u001b[90m<int>\u001b[39m\u001b[23m 6, 4, 6, 34, 9, 43, 27, 10, 39, 0, 0, 6, 1...\n",
      "\u001b[90m# A tibble: 79,200 x 7\u001b[39m\n",
      "   Age    Sex    `Industry of Employmen~ LGA_2016 LGA        `Census year` Value\n",
      "   \u001b[3m\u001b[90m<fct>\u001b[39m\u001b[23m  \u001b[3m\u001b[90m<fct>\u001b[39m\u001b[23m  \u001b[3m\u001b[90m<fct>\u001b[39m\u001b[23m                      \u001b[3m\u001b[90m<dbl>\u001b[39m\u001b[23m \u001b[3m\u001b[90m<fct>\u001b[39m\u001b[23m              \u001b[3m\u001b[90m<dbl>\u001b[39m\u001b[23m \u001b[3m\u001b[90m<int>\u001b[39m\u001b[23m\n",
      "\u001b[90m 1\u001b[39m 15 - ~ Males  Agriculture, Forestry ~    \u001b[4m1\u001b[24m\u001b[4m0\u001b[24m050 Albury              \u001b[4m2\u001b[24m016     6\n",
      "\u001b[90m 2\u001b[39m 15 - ~ Femal~ Agriculture, Forestry ~    \u001b[4m1\u001b[24m\u001b[4m0\u001b[24m050 Albury              \u001b[4m2\u001b[24m016     4\n",
      "\u001b[90m 3\u001b[39m 15 - ~ Perso~ Agriculture, Forestry ~    \u001b[4m1\u001b[24m\u001b[4m0\u001b[24m050 Albury              \u001b[4m2\u001b[24m016     6\n",
      "\u001b[90m 4\u001b[39m 15 - ~ Males  Agriculture, Forestry ~    \u001b[4m1\u001b[24m\u001b[4m0\u001b[24m130 Armidale ~          \u001b[4m2\u001b[24m016    34\n",
      "\u001b[90m 5\u001b[39m 15 - ~ Femal~ Agriculture, Forestry ~    \u001b[4m1\u001b[24m\u001b[4m0\u001b[24m130 Armidale ~          \u001b[4m2\u001b[24m016     9\n",
      "\u001b[90m 6\u001b[39m 15 - ~ Perso~ Agriculture, Forestry ~    \u001b[4m1\u001b[24m\u001b[4m0\u001b[24m130 Armidale ~          \u001b[4m2\u001b[24m016    43\n",
      "\u001b[90m 7\u001b[39m 15 - ~ Males  Agriculture, Forestry ~    \u001b[4m1\u001b[24m\u001b[4m0\u001b[24m250 Ballina             \u001b[4m2\u001b[24m016    27\n",
      "\u001b[90m 8\u001b[39m 15 - ~ Femal~ Agriculture, Forestry ~    \u001b[4m1\u001b[24m\u001b[4m0\u001b[24m250 Ballina             \u001b[4m2\u001b[24m016    10\n",
      "\u001b[90m 9\u001b[39m 15 - ~ Perso~ Agriculture, Forestry ~    \u001b[4m1\u001b[24m\u001b[4m0\u001b[24m250 Ballina             \u001b[4m2\u001b[24m016    39\n",
      "\u001b[90m10\u001b[39m 15 - ~ Males  Agriculture, Forestry ~    \u001b[4m1\u001b[24m\u001b[4m0\u001b[24m300 Balranald           \u001b[4m2\u001b[24m016     0\n",
      "\u001b[90m# ... with 79,190 more rows\u001b[39m\n",
      "[1] \"labour\"\n",
      "Observations: 42,768\n",
      "Variables: 7\n",
      "$ Age                   \u001b[3m\u001b[90m<fct>\u001b[39m\u001b[23m 15 - 19, 15 - 19, 15 - 19, 15 - 19, 15 - 19, ...\n",
      "$ Sex                   \u001b[3m\u001b[90m<fct>\u001b[39m\u001b[23m Males, Females, Persons, Males, Females, Pers...\n",
      "$ `Labour force status` \u001b[3m\u001b[90m<fct>\u001b[39m\u001b[23m \"Employed, worked full-time\", \"Employed, work...\n",
      "$ LGA_2016              \u001b[3m\u001b[90m<dbl>\u001b[39m\u001b[23m 10050, 10050, 10050, 10130, 10130, 10130, 102...\n",
      "$ LGA                   \u001b[3m\u001b[90m<fct>\u001b[39m\u001b[23m Albury, Albury, Albury, Armidale Regional, Ar...\n",
      "$ `Census year`         \u001b[3m\u001b[90m<dbl>\u001b[39m\u001b[23m 2016, 2016, 2016, 2016, 2016, 2016, 2016, 201...\n",
      "$ Value                 \u001b[3m\u001b[90m<int>\u001b[39m\u001b[23m 236, 113, 348, 105, 58, 160, 115, 53, 168, 11...\n",
      "\u001b[90m# A tibble: 42,768 x 7\u001b[39m\n",
      "   Age     Sex    `Labour force status` LGA_2016 LGA         `Census year` Value\n",
      "   \u001b[3m\u001b[90m<fct>\u001b[39m\u001b[23m   \u001b[3m\u001b[90m<fct>\u001b[39m\u001b[23m  \u001b[3m\u001b[90m<fct>\u001b[39m\u001b[23m                    \u001b[3m\u001b[90m<dbl>\u001b[39m\u001b[23m \u001b[3m\u001b[90m<fct>\u001b[39m\u001b[23m               \u001b[3m\u001b[90m<dbl>\u001b[39m\u001b[23m \u001b[3m\u001b[90m<int>\u001b[39m\u001b[23m\n",
      "\u001b[90m 1\u001b[39m 15 - 19 Males  Employed, worked ful~    \u001b[4m1\u001b[24m\u001b[4m0\u001b[24m050 Albury               \u001b[4m2\u001b[24m016   236\n",
      "\u001b[90m 2\u001b[39m 15 - 19 Femal~ Employed, worked ful~    \u001b[4m1\u001b[24m\u001b[4m0\u001b[24m050 Albury               \u001b[4m2\u001b[24m016   113\n",
      "\u001b[90m 3\u001b[39m 15 - 19 Perso~ Employed, worked ful~    \u001b[4m1\u001b[24m\u001b[4m0\u001b[24m050 Albury               \u001b[4m2\u001b[24m016   348\n",
      "\u001b[90m 4\u001b[39m 15 - 19 Males  Employed, worked ful~    \u001b[4m1\u001b[24m\u001b[4m0\u001b[24m130 Armidale R~          \u001b[4m2\u001b[24m016   105\n",
      "\u001b[90m 5\u001b[39m 15 - 19 Femal~ Employed, worked ful~    \u001b[4m1\u001b[24m\u001b[4m0\u001b[24m130 Armidale R~          \u001b[4m2\u001b[24m016    58\n",
      "\u001b[90m 6\u001b[39m 15 - 19 Perso~ Employed, worked ful~    \u001b[4m1\u001b[24m\u001b[4m0\u001b[24m130 Armidale R~          \u001b[4m2\u001b[24m016   160\n",
      "\u001b[90m 7\u001b[39m 15 - 19 Males  Employed, worked ful~    \u001b[4m1\u001b[24m\u001b[4m0\u001b[24m250 Ballina              \u001b[4m2\u001b[24m016   115\n",
      "\u001b[90m 8\u001b[39m 15 - 19 Femal~ Employed, worked ful~    \u001b[4m1\u001b[24m\u001b[4m0\u001b[24m250 Ballina              \u001b[4m2\u001b[24m016    53\n",
      "\u001b[90m 9\u001b[39m 15 - 19 Perso~ Employed, worked ful~    \u001b[4m1\u001b[24m\u001b[4m0\u001b[24m250 Ballina              \u001b[4m2\u001b[24m016   168\n",
      "\u001b[90m10\u001b[39m 15 - 19 Males  Employed, worked ful~    \u001b[4m1\u001b[24m\u001b[4m0\u001b[24m300 Balranald            \u001b[4m2\u001b[24m016    11\n",
      "\u001b[90m# ... with 42,758 more rows\u001b[39m\n",
      "[1] \"pop_dens\"\n",
      "Observations: 129\n",
      "Variables: 3\n",
      "$ X1           \u001b[3m\u001b[90m<dbl>\u001b[39m\u001b[23m 1, 2, 3, 4, 5, 6, 7, 8, 9, 10, 11, 12, 13, 14, 15, 16,...\n",
      "$ LGA          \u001b[3m\u001b[90m<fct>\u001b[39m\u001b[23m Albury, Armidale Regional, Ballina, Balranald, Bathurs...\n",
      "$ Pop_Dens_km2 \u001b[3m\u001b[90m<dbl>\u001b[39m\u001b[23m 170.5, 3.5, 88.7, 0.1, 11.1, 5.4, 8.1, 4.2, 1449.8, 0....\n",
      "\u001b[90m# A tibble: 129 x 3\u001b[39m\n",
      "      X1 LGA               Pop_Dens_km2\n",
      "   \u001b[3m\u001b[90m<dbl>\u001b[39m\u001b[23m \u001b[3m\u001b[90m<fct>\u001b[39m\u001b[23m                    \u001b[3m\u001b[90m<dbl>\u001b[39m\u001b[23m\n",
      "\u001b[90m 1\u001b[39m     1 Albury                   170. \n",
      "\u001b[90m 2\u001b[39m     2 Armidale Regional          3.5\n",
      "\u001b[90m 3\u001b[39m     3 Ballina                   88.7\n",
      "\u001b[90m 4\u001b[39m     4 Balranald                  0.1\n",
      "\u001b[90m 5\u001b[39m     5 Bathurst Regional         11.1\n",
      "\u001b[90m 6\u001b[39m     6 Bega Valley                5.4\n",
      "\u001b[90m 7\u001b[39m     7 Bellingen                  8.1\n",
      "\u001b[90m 8\u001b[39m     8 Berrigan                   4.2\n",
      "\u001b[90m 9\u001b[39m     9 Blacktown               \u001b[4m1\u001b[24m450. \n",
      "\u001b[90m10\u001b[39m    10 Bland                      0.7\n",
      "\u001b[90m# ... with 119 more rows\u001b[39m\n",
      "[1] \"seifa\"\n",
      "Observations: 564\n",
      "Variables: 3\n",
      "$ X1    \u001b[3m\u001b[90m<dbl>\u001b[39m\u001b[23m 1, 2, 3, 4, 5, 6, 7, 8, 9, 10, 11, 12, 13, 14, 15, 16, 17, 18...\n",
      "$ LGA   \u001b[3m\u001b[90m<fct>\u001b[39m\u001b[23m Albury, Armidale Dumaresq, Ashfield, Auburn, Ballina, Balrana...\n",
      "$ Value \u001b[3m\u001b[90m<int>\u001b[39m\u001b[23m 964, 954, 962, 931, 986, 969, 961, 994, 974, 957, 965, 995, 9...\n",
      "\u001b[90m# A tibble: 564 x 3\u001b[39m\n",
      "      X1 LGA               Value\n",
      "   \u001b[3m\u001b[90m<dbl>\u001b[39m\u001b[23m \u001b[3m\u001b[90m<fct>\u001b[39m\u001b[23m             \u001b[3m\u001b[90m<int>\u001b[39m\u001b[23m\n",
      "\u001b[90m 1\u001b[39m     1 Albury              964\n",
      "\u001b[90m 2\u001b[39m     2 Armidale Dumaresq   954\n",
      "\u001b[90m 3\u001b[39m     3 Ashfield            962\n",
      "\u001b[90m 4\u001b[39m     4 Auburn              931\n",
      "\u001b[90m 5\u001b[39m     5 Ballina             986\n",
      "\u001b[90m 6\u001b[39m     6 Balranald           969\n",
      "\u001b[90m 7\u001b[39m     7 Bankstown           961\n",
      "\u001b[90m 8\u001b[39m     8 Bathurst Regional   994\n",
      "\u001b[90m 9\u001b[39m     9 Bega Valley         974\n",
      "\u001b[90m10\u001b[39m    10 Bellingen           957\n",
      "\u001b[90m# ... with 554 more rows\u001b[39m\n",
      "[1] \"transport\"\n",
      "Observations: 366\n",
      "Variables: 3\n",
      "$ LGA         \u001b[3m\u001b[90m<fct>\u001b[39m\u001b[23m Albury, Albury, Albury, Armidale Regional, Armidale Reg...\n",
      "$ route_type  \u001b[3m\u001b[90m<fct>\u001b[39m\u001b[23m 106, 204, 700, 106, 204, 700, 204, 700, 204, 2, 106, 20...\n",
      "$ num_service \u001b[3m\u001b[90m<dbl>\u001b[39m\u001b[23m 131, 14, 1624, 62, 10, 113, 18, 1335, 4, 49, 68, 372, 2...\n",
      "\u001b[90m# A tibble: 366 x 3\u001b[39m\n",
      "   LGA               route_type num_service\n",
      "   \u001b[3m\u001b[90m<fct>\u001b[39m\u001b[23m             \u001b[3m\u001b[90m<fct>\u001b[39m\u001b[23m            \u001b[3m\u001b[90m<dbl>\u001b[39m\u001b[23m\n",
      "\u001b[90m 1\u001b[39m Albury            106                131\n",
      "\u001b[90m 2\u001b[39m Albury            204                 14\n",
      "\u001b[90m 3\u001b[39m Albury            700               \u001b[4m1\u001b[24m624\n",
      "\u001b[90m 4\u001b[39m Armidale Regional 106                 62\n",
      "\u001b[90m 5\u001b[39m Armidale Regional 204                 10\n",
      "\u001b[90m 6\u001b[39m Armidale Regional 700                113\n",
      "\u001b[90m 7\u001b[39m Ballina           204                 18\n",
      "\u001b[90m 8\u001b[39m Ballina           700               \u001b[4m1\u001b[24m335\n",
      "\u001b[90m 9\u001b[39m Balranald         204                  4\n",
      "\u001b[90m10\u001b[39m Bathurst Regional 2                   49\n",
      "\u001b[90m# ... with 356 more rows\u001b[39m\n"
     ]
    }
   ],
   "source": [
    "for(i in 1:length(input_data)){\n",
    "    print(names(input_data)[[i]])\n",
    "    print(glimpse(input_data[[i]]))\n",
    "}"
   ]
  },
  {
   "cell_type": "markdown",
   "metadata": {},
   "source": [
    "## Reducing Size"
   ]
  },
  {
   "cell_type": "markdown",
   "metadata": {},
   "source": [
    "The `country_of_birth` data set contains many zero values. The following step removes these rows."
   ]
  },
  {
   "cell_type": "markdown",
   "metadata": {},
   "source": [
    "### Remove Zero Values"
   ]
  },
  {
   "cell_type": "code",
   "execution_count": 12,
   "metadata": {},
   "outputs": [
    {
     "data": {
      "text/html": [
       "<table>\n",
       "<thead><tr><th scope=col>birthplace_of_person</th><th scope=col>census_year</th><th scope=col>lga_2016</th><th scope=col>LGA</th><th scope=col>value</th><th scope=col>yarrp_2016</th><th scope=col>year_of_arrival_in_australia</th></tr></thead>\n",
       "<tbody>\n",
       "\t<tr><td>Oceania and Antarctica, nfd</td><td>2016                       </td><td>10050                      </td><td>Albury                     </td><td>0                          </td><td>1                          </td><td>Arrived 1900 - 1945        </td></tr>\n",
       "\t<tr><td>Oceania and Antarctica, nfd</td><td>2016                       </td><td>10050                      </td><td>Albury                     </td><td>0                          </td><td>2                          </td><td>Arrived 1946 - 1955        </td></tr>\n",
       "\t<tr><td>Oceania and Antarctica, nfd</td><td>2016                       </td><td>10050                      </td><td>Albury                     </td><td>0                          </td><td>3                          </td><td>Arrived 1956 - 1965        </td></tr>\n",
       "\t<tr><td>Oceania and Antarctica, nfd</td><td>2016                       </td><td>10050                      </td><td>Albury                     </td><td>0                          </td><td>4                          </td><td>Arrived 1966 - 1975        </td></tr>\n",
       "\t<tr><td>Oceania and Antarctica, nfd</td><td>2016                       </td><td>10050                      </td><td>Albury                     </td><td>0                          </td><td>5                          </td><td>Arrived 1976 - 1985        </td></tr>\n",
       "\t<tr><td>Oceania and Antarctica, nfd</td><td>2016                       </td><td>10050                      </td><td>Albury                     </td><td>0                          </td><td>6                          </td><td>Arrived 1986 - 1995        </td></tr>\n",
       "</tbody>\n",
       "</table>\n"
      ],
      "text/latex": [
       "\\begin{tabular}{r|lllllll}\n",
       " birthplace\\_of\\_person & census\\_year & lga\\_2016 & LGA & value & yarrp\\_2016 & year\\_of\\_arrival\\_in\\_australia\\\\\n",
       "\\hline\n",
       "\t Oceania and Antarctica, nfd & 2016                        & 10050                       & Albury                      & 0                           & 1                           & Arrived 1900 - 1945        \\\\\n",
       "\t Oceania and Antarctica, nfd & 2016                        & 10050                       & Albury                      & 0                           & 2                           & Arrived 1946 - 1955        \\\\\n",
       "\t Oceania and Antarctica, nfd & 2016                        & 10050                       & Albury                      & 0                           & 3                           & Arrived 1956 - 1965        \\\\\n",
       "\t Oceania and Antarctica, nfd & 2016                        & 10050                       & Albury                      & 0                           & 4                           & Arrived 1966 - 1975        \\\\\n",
       "\t Oceania and Antarctica, nfd & 2016                        & 10050                       & Albury                      & 0                           & 5                           & Arrived 1976 - 1985        \\\\\n",
       "\t Oceania and Antarctica, nfd & 2016                        & 10050                       & Albury                      & 0                           & 6                           & Arrived 1986 - 1995        \\\\\n",
       "\\end{tabular}\n"
      ],
      "text/markdown": [
       "\n",
       "| birthplace_of_person | census_year | lga_2016 | LGA | value | yarrp_2016 | year_of_arrival_in_australia |\n",
       "|---|---|---|---|---|---|---|\n",
       "| Oceania and Antarctica, nfd | 2016                        | 10050                       | Albury                      | 0                           | 1                           | Arrived 1900 - 1945         |\n",
       "| Oceania and Antarctica, nfd | 2016                        | 10050                       | Albury                      | 0                           | 2                           | Arrived 1946 - 1955         |\n",
       "| Oceania and Antarctica, nfd | 2016                        | 10050                       | Albury                      | 0                           | 3                           | Arrived 1956 - 1965         |\n",
       "| Oceania and Antarctica, nfd | 2016                        | 10050                       | Albury                      | 0                           | 4                           | Arrived 1966 - 1975         |\n",
       "| Oceania and Antarctica, nfd | 2016                        | 10050                       | Albury                      | 0                           | 5                           | Arrived 1976 - 1985         |\n",
       "| Oceania and Antarctica, nfd | 2016                        | 10050                       | Albury                      | 0                           | 6                           | Arrived 1986 - 1995         |\n",
       "\n"
      ],
      "text/plain": [
       "  birthplace_of_person        census_year lga_2016 LGA    value yarrp_2016\n",
       "1 Oceania and Antarctica, nfd 2016        10050    Albury 0     1         \n",
       "2 Oceania and Antarctica, nfd 2016        10050    Albury 0     2         \n",
       "3 Oceania and Antarctica, nfd 2016        10050    Albury 0     3         \n",
       "4 Oceania and Antarctica, nfd 2016        10050    Albury 0     4         \n",
       "5 Oceania and Antarctica, nfd 2016        10050    Albury 0     5         \n",
       "6 Oceania and Antarctica, nfd 2016        10050    Albury 0     6         \n",
       "  year_of_arrival_in_australia\n",
       "1 Arrived 1900 - 1945         \n",
       "2 Arrived 1946 - 1955         \n",
       "3 Arrived 1956 - 1965         \n",
       "4 Arrived 1966 - 1975         \n",
       "5 Arrived 1976 - 1985         \n",
       "6 Arrived 1986 - 1995         "
      ]
     },
     "metadata": {},
     "output_type": "display_data"
    }
   ],
   "source": [
    "head(input_data$country_of_birth)"
   ]
  },
  {
   "cell_type": "code",
   "execution_count": 13,
   "metadata": {},
   "outputs": [
    {
     "data": {
      "text/html": [
       "<ol class=list-inline>\n",
       "\t<li>810442</li>\n",
       "\t<li>7</li>\n",
       "</ol>\n"
      ],
      "text/latex": [
       "\\begin{enumerate*}\n",
       "\\item 810442\n",
       "\\item 7\n",
       "\\end{enumerate*}\n"
      ],
      "text/markdown": [
       "1. 810442\n",
       "2. 7\n",
       "\n",
       "\n"
      ],
      "text/plain": [
       "[1] 810442      7"
      ]
     },
     "metadata": {},
     "output_type": "display_data"
    }
   ],
   "source": [
    "input_data$country_of_birth %>%\n",
    "    filter(value == 0) %>%\n",
    "    dim"
   ]
  },
  {
   "cell_type": "code",
   "execution_count": 14,
   "metadata": {},
   "outputs": [
    {
     "data": {
      "text/html": [
       "<table>\n",
       "<thead><tr><th scope=col>birthplace_of_person</th><th scope=col>census_year</th><th scope=col>lga_2016</th><th scope=col>LGA</th><th scope=col>value</th><th scope=col>yarrp_2016</th><th scope=col>year_of_arrival_in_australia</th></tr></thead>\n",
       "<tbody>\n",
       "\t<tr><td>New Zealand        </td><td>2016               </td><td>10050              </td><td>Albury             </td><td>  7                </td><td>2                  </td><td>Arrived 1946 - 1955</td></tr>\n",
       "\t<tr><td>New Zealand        </td><td>2016               </td><td>10050              </td><td>Albury             </td><td> 22                </td><td>3                  </td><td>Arrived 1956 - 1965</td></tr>\n",
       "\t<tr><td>New Zealand        </td><td>2016               </td><td>10050              </td><td>Albury             </td><td> 63                </td><td>4                  </td><td>Arrived 1966 - 1975</td></tr>\n",
       "\t<tr><td>New Zealand        </td><td>2016               </td><td>10050              </td><td>Albury             </td><td>113                </td><td>5                  </td><td>Arrived 1976 - 1985</td></tr>\n",
       "\t<tr><td>New Zealand        </td><td>2016               </td><td>10050              </td><td>Albury             </td><td> 92                </td><td>6                  </td><td>Arrived 1986 - 1995</td></tr>\n",
       "\t<tr><td>New Zealand        </td><td>2016               </td><td>10050              </td><td>Albury             </td><td> 87                </td><td>7                  </td><td>Arrived 1996 - 2005</td></tr>\n",
       "</tbody>\n",
       "</table>\n"
      ],
      "text/latex": [
       "\\begin{tabular}{r|lllllll}\n",
       " birthplace\\_of\\_person & census\\_year & lga\\_2016 & LGA & value & yarrp\\_2016 & year\\_of\\_arrival\\_in\\_australia\\\\\n",
       "\\hline\n",
       "\t New Zealand         & 2016                & 10050               & Albury              &   7                 & 2                   & Arrived 1946 - 1955\\\\\n",
       "\t New Zealand         & 2016                & 10050               & Albury              &  22                 & 3                   & Arrived 1956 - 1965\\\\\n",
       "\t New Zealand         & 2016                & 10050               & Albury              &  63                 & 4                   & Arrived 1966 - 1975\\\\\n",
       "\t New Zealand         & 2016                & 10050               & Albury              & 113                 & 5                   & Arrived 1976 - 1985\\\\\n",
       "\t New Zealand         & 2016                & 10050               & Albury              &  92                 & 6                   & Arrived 1986 - 1995\\\\\n",
       "\t New Zealand         & 2016                & 10050               & Albury              &  87                 & 7                   & Arrived 1996 - 2005\\\\\n",
       "\\end{tabular}\n"
      ],
      "text/markdown": [
       "\n",
       "| birthplace_of_person | census_year | lga_2016 | LGA | value | yarrp_2016 | year_of_arrival_in_australia |\n",
       "|---|---|---|---|---|---|---|\n",
       "| New Zealand         | 2016                | 10050               | Albury              |   7                 | 2                   | Arrived 1946 - 1955 |\n",
       "| New Zealand         | 2016                | 10050               | Albury              |  22                 | 3                   | Arrived 1956 - 1965 |\n",
       "| New Zealand         | 2016                | 10050               | Albury              |  63                 | 4                   | Arrived 1966 - 1975 |\n",
       "| New Zealand         | 2016                | 10050               | Albury              | 113                 | 5                   | Arrived 1976 - 1985 |\n",
       "| New Zealand         | 2016                | 10050               | Albury              |  92                 | 6                   | Arrived 1986 - 1995 |\n",
       "| New Zealand         | 2016                | 10050               | Albury              |  87                 | 7                   | Arrived 1996 - 2005 |\n",
       "\n"
      ],
      "text/plain": [
       "  birthplace_of_person census_year lga_2016 LGA    value yarrp_2016\n",
       "1 New Zealand          2016        10050    Albury   7   2         \n",
       "2 New Zealand          2016        10050    Albury  22   3         \n",
       "3 New Zealand          2016        10050    Albury  63   4         \n",
       "4 New Zealand          2016        10050    Albury 113   5         \n",
       "5 New Zealand          2016        10050    Albury  92   6         \n",
       "6 New Zealand          2016        10050    Albury  87   7         \n",
       "  year_of_arrival_in_australia\n",
       "1 Arrived 1946 - 1955         \n",
       "2 Arrived 1956 - 1965         \n",
       "3 Arrived 1966 - 1975         \n",
       "4 Arrived 1976 - 1985         \n",
       "5 Arrived 1986 - 1995         \n",
       "6 Arrived 1996 - 2005         "
      ]
     },
     "metadata": {},
     "output_type": "display_data"
    },
    {
     "name": "stdout",
     "output_type": "stream",
     "text": [
      "Observations: 108,163\n",
      "Variables: 7\n",
      "$ birthplace_of_person         \u001b[3m\u001b[90m<fct>\u001b[39m\u001b[23m New Zealand, New Zealand, New Zealand,...\n",
      "$ census_year                  \u001b[3m\u001b[90m<dbl>\u001b[39m\u001b[23m 2016, 2016, 2016, 2016, 2016, 2016, 20...\n",
      "$ lga_2016                     \u001b[3m\u001b[90m<dbl>\u001b[39m\u001b[23m 10050, 10050, 10050, 10050, 10050, 100...\n",
      "$ LGA                          \u001b[3m\u001b[90m<fct>\u001b[39m\u001b[23m Albury, Albury, Albury, Albury, Albury...\n",
      "$ value                        \u001b[3m\u001b[90m<dbl>\u001b[39m\u001b[23m 7, 22, 63, 113, 92, 87, 6, 24, 7, 12, ...\n",
      "$ yarrp_2016                   \u001b[3m\u001b[90m<chr>\u001b[39m\u001b[23m \"2\", \"3\", \"4\", \"5\", \"6\", \"7\", \"9\", \"Z\"...\n",
      "$ year_of_arrival_in_australia \u001b[3m\u001b[90m<fct>\u001b[39m\u001b[23m Arrived 1946 - 1955, Arrived 1956 - 19...\n"
     ]
    }
   ],
   "source": [
    "input_data$country_of_birth %<>%\n",
    "    filter(value != 0)\n",
    "\n",
    "head(input_data$country_of_birth)\n",
    "glimpse(input_data$country_of_birth)"
   ]
  },
  {
   "cell_type": "markdown",
   "metadata": {},
   "source": [
    "# Joining the Data Sets Together"
   ]
  },
  {
   "cell_type": "markdown",
   "metadata": {},
   "source": [
    "## Find the Data Set With The Most Complete List of LGAs"
   ]
  },
  {
   "cell_type": "code",
   "execution_count": 15,
   "metadata": {},
   "outputs": [
    {
     "data": {
      "text/html": [
       "<dl>\n",
       "\t<dt>$age</dt>\n",
       "\t\t<dd>132</dd>\n",
       "\t<dt>$country_of_birth</dt>\n",
       "\t\t<dd>132</dd>\n",
       "\t<dt>$crime</dt>\n",
       "\t\t<dd>130</dd>\n",
       "\t<dt>$industry_employment</dt>\n",
       "\t\t<dd>132</dd>\n",
       "\t<dt>$labour</dt>\n",
       "\t\t<dd>132</dd>\n",
       "\t<dt>$pop_dens</dt>\n",
       "\t\t<dd>129</dd>\n",
       "\t<dt>$seifa</dt>\n",
       "\t\t<dd>556</dd>\n",
       "\t<dt>$transport</dt>\n",
       "\t\t<dd>128</dd>\n",
       "</dl>\n"
      ],
      "text/latex": [
       "\\begin{description}\n",
       "\\item[\\$age] 132\n",
       "\\item[\\$country\\_of\\_birth] 132\n",
       "\\item[\\$crime] 130\n",
       "\\item[\\$industry\\_employment] 132\n",
       "\\item[\\$labour] 132\n",
       "\\item[\\$pop\\_dens] 129\n",
       "\\item[\\$seifa] 556\n",
       "\\item[\\$transport] 128\n",
       "\\end{description}\n"
      ],
      "text/markdown": [
       "$age\n",
       ":   132\n",
       "$country_of_birth\n",
       ":   132\n",
       "$crime\n",
       ":   130\n",
       "$industry_employment\n",
       ":   132\n",
       "$labour\n",
       ":   132\n",
       "$pop_dens\n",
       ":   129\n",
       "$seifa\n",
       ":   556\n",
       "$transport\n",
       ":   128\n",
       "\n",
       "\n"
      ],
      "text/plain": [
       "$age\n",
       "[1] 132\n",
       "\n",
       "$country_of_birth\n",
       "[1] 132\n",
       "\n",
       "$crime\n",
       "[1] 130\n",
       "\n",
       "$industry_employment\n",
       "[1] 132\n",
       "\n",
       "$labour\n",
       "[1] 132\n",
       "\n",
       "$pop_dens\n",
       "[1] 129\n",
       "\n",
       "$seifa\n",
       "[1] 556\n",
       "\n",
       "$transport\n",
       "[1] 128\n"
      ]
     },
     "metadata": {},
     "output_type": "display_data"
    }
   ],
   "source": [
    "input_data %>% map(function(tbl) tbl['LGA'] %>% unique %>% dim %>% extract(1))"
   ]
  },
  {
   "cell_type": "markdown",
   "metadata": {},
   "source": [
    "Seems like `seifa` has the most number of LGAs, but we know that there are only about 130 LGAs in NSW. So maybe the LGAs in the `seifa` data includes non-NSW LGAs too. A glance of the tail of the `seifa` data shows that there are indeed non-NSW areas, e.g. `Unincorporated ACT`.\n",
    "\n",
    "We will not use the `seifa` data as the starting point, instead `country_of_birth` will be used for `left_join`ing the other data sets, i.e. LGAs that are not in the `country_of_birth` data set will not be joined."
   ]
  },
  {
   "cell_type": "code",
   "execution_count": 16,
   "metadata": {},
   "outputs": [
    {
     "data": {
      "text/html": [
       "<table>\n",
       "<thead><tr><th scope=col>X1</th><th scope=col>LGA</th><th scope=col>Value</th></tr></thead>\n",
       "<tbody>\n",
       "\t<tr><td>559               </td><td>Tiwi Islands      </td><td> 589              </td></tr>\n",
       "\t<tr><td>560               </td><td>Victoria-Daly     </td><td> 613              </td></tr>\n",
       "\t<tr><td>561               </td><td>Wagait            </td><td>1011              </td></tr>\n",
       "\t<tr><td>562               </td><td>West Arnhem       </td><td> 640              </td></tr>\n",
       "\t<tr><td>563               </td><td>Unincorporated NT </td><td> 966              </td></tr>\n",
       "\t<tr><td>564               </td><td>Unincorporated ACT</td><td>1051              </td></tr>\n",
       "</tbody>\n",
       "</table>\n"
      ],
      "text/latex": [
       "\\begin{tabular}{r|lll}\n",
       " X1 & LGA & Value\\\\\n",
       "\\hline\n",
       "\t 559                & Tiwi Islands       &  589              \\\\\n",
       "\t 560                & Victoria-Daly      &  613              \\\\\n",
       "\t 561                & Wagait             & 1011              \\\\\n",
       "\t 562                & West Arnhem        &  640              \\\\\n",
       "\t 563                & Unincorporated NT  &  966              \\\\\n",
       "\t 564                & Unincorporated ACT & 1051              \\\\\n",
       "\\end{tabular}\n"
      ],
      "text/markdown": [
       "\n",
       "| X1 | LGA | Value |\n",
       "|---|---|---|\n",
       "| 559                | Tiwi Islands       |  589               |\n",
       "| 560                | Victoria-Daly      |  613               |\n",
       "| 561                | Wagait             | 1011               |\n",
       "| 562                | West Arnhem        |  640               |\n",
       "| 563                | Unincorporated NT  |  966               |\n",
       "| 564                | Unincorporated ACT | 1051               |\n",
       "\n"
      ],
      "text/plain": [
       "  X1  LGA                Value\n",
       "1 559 Tiwi Islands        589 \n",
       "2 560 Victoria-Daly       613 \n",
       "3 561 Wagait             1011 \n",
       "4 562 West Arnhem         640 \n",
       "5 563 Unincorporated NT   966 \n",
       "6 564 Unincorporated ACT 1051 "
      ]
     },
     "metadata": {},
     "output_type": "display_data"
    }
   ],
   "source": [
    "input_data$seifa %>% \n",
    "    tail"
   ]
  },
  {
   "cell_type": "markdown",
   "metadata": {},
   "source": [
    "# Add Population Per LGA"
   ]
  },
  {
   "cell_type": "markdown",
   "metadata": {},
   "source": [
    "This population table is to be used to calculate the crime rate, i.e. crime count divided by the number of males and females for that LGA."
   ]
  },
  {
   "cell_type": "code",
   "execution_count": 17,
   "metadata": {},
   "outputs": [
    {
     "data": {
      "text/html": [
       "<table>\n",
       "<thead><tr><th scope=col>Sex</th><th scope=col>Age</th><th scope=col>LGA</th><th scope=col>Value</th></tr></thead>\n",
       "<tbody>\n",
       "\t<tr><td>Females                     </td><td>95 - 99                     </td><td>Lismore                     </td><td> 65                         </td></tr>\n",
       "\t<tr><td>Females                     </td><td>95 - 99                     </td><td>Queanbeyan-Palerang Regional</td><td> 33                         </td></tr>\n",
       "\t<tr><td>Females                     </td><td>95 - 99                     </td><td>Mid-Coast                   </td><td>173                         </td></tr>\n",
       "\t<tr><td>Females                     </td><td>95 - 99                     </td><td>Glen Innes Severn           </td><td> 16                         </td></tr>\n",
       "\t<tr><td>Females                     </td><td>95 - 99                     </td><td>Lockhart                    </td><td> 11                         </td></tr>\n",
       "\t<tr><td>Females                     </td><td>95 - 99                     </td><td>Lane Cove                   </td><td> 49                         </td></tr>\n",
       "</tbody>\n",
       "</table>\n"
      ],
      "text/latex": [
       "\\begin{tabular}{r|llll}\n",
       " Sex & Age & LGA & Value\\\\\n",
       "\\hline\n",
       "\t Females                      & 95 - 99                      & Lismore                      &  65                         \\\\\n",
       "\t Females                      & 95 - 99                      & Queanbeyan-Palerang Regional &  33                         \\\\\n",
       "\t Females                      & 95 - 99                      & Mid-Coast                    & 173                         \\\\\n",
       "\t Females                      & 95 - 99                      & Glen Innes Severn            &  16                         \\\\\n",
       "\t Females                      & 95 - 99                      & Lockhart                     &  11                         \\\\\n",
       "\t Females                      & 95 - 99                      & Lane Cove                    &  49                         \\\\\n",
       "\\end{tabular}\n"
      ],
      "text/markdown": [
       "\n",
       "| Sex | Age | LGA | Value |\n",
       "|---|---|---|---|\n",
       "| Females                      | 95 - 99                      | Lismore                      |  65                          |\n",
       "| Females                      | 95 - 99                      | Queanbeyan-Palerang Regional |  33                          |\n",
       "| Females                      | 95 - 99                      | Mid-Coast                    | 173                          |\n",
       "| Females                      | 95 - 99                      | Glen Innes Severn            |  16                          |\n",
       "| Females                      | 95 - 99                      | Lockhart                     |  11                          |\n",
       "| Females                      | 95 - 99                      | Lane Cove                    |  49                          |\n",
       "\n"
      ],
      "text/plain": [
       "  Sex     Age     LGA                          Value\n",
       "1 Females 95 - 99 Lismore                       65  \n",
       "2 Females 95 - 99 Queanbeyan-Palerang Regional  33  \n",
       "3 Females 95 - 99 Mid-Coast                    173  \n",
       "4 Females 95 - 99 Glen Innes Severn             16  \n",
       "5 Females 95 - 99 Lockhart                      11  \n",
       "6 Females 95 - 99 Lane Cove                     49  "
      ]
     },
     "metadata": {},
     "output_type": "display_data"
    },
    {
     "name": "stdout",
     "output_type": "stream",
     "text": [
      "Observations: 5,808\n",
      "Variables: 4\n",
      "$ Sex   \u001b[3m\u001b[90m<fct>\u001b[39m\u001b[23m Females, Females, Females, Females, Females, Females, Females...\n",
      "$ Age   \u001b[3m\u001b[90m<fct>\u001b[39m\u001b[23m 95 - 99, 95 - 99, 95 - 99, 95 - 99, 95 - 99, 95 - 99, 95 - 99...\n",
      "$ LGA   \u001b[3m\u001b[90m<fct>\u001b[39m\u001b[23m Lismore, Queanbeyan-Palerang Regional, Mid-Coast, Glen Innes ...\n",
      "$ Value \u001b[3m\u001b[90m<int>\u001b[39m\u001b[23m 65, 33, 173, 16, 11, 49, 26, 451, 24, 0, 4, 39, 72, 29, 9, 51...\n"
     ]
    }
   ],
   "source": [
    "head(input_data$age)\n",
    "glimpse(input_data$age)"
   ]
  },
  {
   "cell_type": "code",
   "execution_count": 18,
   "metadata": {},
   "outputs": [
    {
     "data": {
      "text/html": [
       "<table>\n",
       "<thead><tr><th scope=col>Sex</th><th scope=col>Age</th><th scope=col>LGA</th><th scope=col>Value</th><th scope=col>pop_total</th></tr></thead>\n",
       "<tbody>\n",
       "\t<tr><td>Females                     </td><td>95 - 99                     </td><td>Lismore                     </td><td> 65                         </td><td>43140                       </td></tr>\n",
       "\t<tr><td>Females                     </td><td>95 - 99                     </td><td>Queanbeyan-Palerang Regional</td><td> 33                         </td><td>56023                       </td></tr>\n",
       "\t<tr><td>Females                     </td><td>95 - 99                     </td><td>Mid-Coast                   </td><td>173                         </td><td>90301                       </td></tr>\n",
       "\t<tr><td>Females                     </td><td>95 - 99                     </td><td>Glen Innes Severn           </td><td> 16                         </td><td> 8828                       </td></tr>\n",
       "\t<tr><td>Females                     </td><td>95 - 99                     </td><td>Lockhart                    </td><td> 11                         </td><td> 3135                       </td></tr>\n",
       "\t<tr><td>Females                     </td><td>95 - 99                     </td><td>Lane Cove                   </td><td> 49                         </td><td>36053                       </td></tr>\n",
       "</tbody>\n",
       "</table>\n"
      ],
      "text/latex": [
       "\\begin{tabular}{r|lllll}\n",
       " Sex & Age & LGA & Value & pop\\_total\\\\\n",
       "\\hline\n",
       "\t Females                      & 95 - 99                      & Lismore                      &  65                          & 43140                       \\\\\n",
       "\t Females                      & 95 - 99                      & Queanbeyan-Palerang Regional &  33                          & 56023                       \\\\\n",
       "\t Females                      & 95 - 99                      & Mid-Coast                    & 173                          & 90301                       \\\\\n",
       "\t Females                      & 95 - 99                      & Glen Innes Severn            &  16                          &  8828                       \\\\\n",
       "\t Females                      & 95 - 99                      & Lockhart                     &  11                          &  3135                       \\\\\n",
       "\t Females                      & 95 - 99                      & Lane Cove                    &  49                          & 36053                       \\\\\n",
       "\\end{tabular}\n"
      ],
      "text/markdown": [
       "\n",
       "| Sex | Age | LGA | Value | pop_total |\n",
       "|---|---|---|---|---|\n",
       "| Females                      | 95 - 99                      | Lismore                      |  65                          | 43140                        |\n",
       "| Females                      | 95 - 99                      | Queanbeyan-Palerang Regional |  33                          | 56023                        |\n",
       "| Females                      | 95 - 99                      | Mid-Coast                    | 173                          | 90301                        |\n",
       "| Females                      | 95 - 99                      | Glen Innes Severn            |  16                          |  8828                        |\n",
       "| Females                      | 95 - 99                      | Lockhart                     |  11                          |  3135                        |\n",
       "| Females                      | 95 - 99                      | Lane Cove                    |  49                          | 36053                        |\n",
       "\n"
      ],
      "text/plain": [
       "  Sex     Age     LGA                          Value pop_total\n",
       "1 Females 95 - 99 Lismore                       65   43140    \n",
       "2 Females 95 - 99 Queanbeyan-Palerang Regional  33   56023    \n",
       "3 Females 95 - 99 Mid-Coast                    173   90301    \n",
       "4 Females 95 - 99 Glen Innes Severn             16    8828    \n",
       "5 Females 95 - 99 Lockhart                      11    3135    \n",
       "6 Females 95 - 99 Lane Cove                     49   36053    "
      ]
     },
     "metadata": {},
     "output_type": "display_data"
    },
    {
     "name": "stdout",
     "output_type": "stream",
     "text": [
      "Observations: 5,808\n",
      "Variables: 5\n",
      "Groups: LGA [132]\n",
      "$ Sex       \u001b[3m\u001b[90m<fct>\u001b[39m\u001b[23m Females, Females, Females, Females, Females, Females, Fem...\n",
      "$ Age       \u001b[3m\u001b[90m<fct>\u001b[39m\u001b[23m 95 - 99, 95 - 99, 95 - 99, 95 - 99, 95 - 99, 95 - 99, 95 ...\n",
      "$ LGA       \u001b[3m\u001b[90m<fct>\u001b[39m\u001b[23m Lismore, Queanbeyan-Palerang Regional, Mid-Coast, Glen In...\n",
      "$ Value     \u001b[3m\u001b[90m<int>\u001b[39m\u001b[23m 65, 33, 173, 16, 11, 49, 26, 451, 24, 0, 4, 39, 72, 29, 9...\n",
      "$ pop_total \u001b[3m\u001b[90m<int>\u001b[39m\u001b[23m 43140, 56023, 90301, 8828, 3135, 36053, 19195, 252898, 16...\n"
     ]
    }
   ],
   "source": [
    "input_data$age %<>%\n",
    "    group_by(LGA) %>%\n",
    "    mutate(pop_total = sum(Value))\n",
    "\n",
    "head(input_data$age)\n",
    "glimpse(input_data$age)"
   ]
  },
  {
   "cell_type": "code",
   "execution_count": 19,
   "metadata": {},
   "outputs": [
    {
     "data": {
      "text/html": [
       "<table>\n",
       "<thead><tr><th scope=col>LGA</th><th scope=col>pop_total</th></tr></thead>\n",
       "<tbody>\n",
       "\t<tr><td>Lismore                     </td><td>43140                       </td></tr>\n",
       "\t<tr><td>Queanbeyan-Palerang Regional</td><td>56023                       </td></tr>\n",
       "\t<tr><td>Mid-Coast                   </td><td>90301                       </td></tr>\n",
       "\t<tr><td>Glen Innes Severn           </td><td> 8828                       </td></tr>\n",
       "\t<tr><td>Lockhart                    </td><td> 3135                       </td></tr>\n",
       "\t<tr><td>Lane Cove                   </td><td>36053                       </td></tr>\n",
       "</tbody>\n",
       "</table>\n"
      ],
      "text/latex": [
       "\\begin{tabular}{r|ll}\n",
       " LGA & pop\\_total\\\\\n",
       "\\hline\n",
       "\t Lismore                      & 43140                       \\\\\n",
       "\t Queanbeyan-Palerang Regional & 56023                       \\\\\n",
       "\t Mid-Coast                    & 90301                       \\\\\n",
       "\t Glen Innes Severn            &  8828                       \\\\\n",
       "\t Lockhart                     &  3135                       \\\\\n",
       "\t Lane Cove                    & 36053                       \\\\\n",
       "\\end{tabular}\n"
      ],
      "text/markdown": [
       "\n",
       "| LGA | pop_total |\n",
       "|---|---|\n",
       "| Lismore                      | 43140                        |\n",
       "| Queanbeyan-Palerang Regional | 56023                        |\n",
       "| Mid-Coast                    | 90301                        |\n",
       "| Glen Innes Severn            |  8828                        |\n",
       "| Lockhart                     |  3135                        |\n",
       "| Lane Cove                    | 36053                        |\n",
       "\n"
      ],
      "text/plain": [
       "  LGA                          pop_total\n",
       "1 Lismore                      43140    \n",
       "2 Queanbeyan-Palerang Regional 56023    \n",
       "3 Mid-Coast                    90301    \n",
       "4 Glen Innes Severn             8828    \n",
       "5 Lockhart                      3135    \n",
       "6 Lane Cove                    36053    "
      ]
     },
     "metadata": {},
     "output_type": "display_data"
    },
    {
     "name": "stdout",
     "output_type": "stream",
     "text": [
      "Observations: 132\n",
      "Variables: 2\n",
      "$ LGA       \u001b[3m\u001b[90m<fct>\u001b[39m\u001b[23m Lismore, Queanbeyan-Palerang Regional, Mid-Coast, Glen In...\n",
      "$ pop_total \u001b[3m\u001b[90m<int>\u001b[39m\u001b[23m 43140, 56023, 90301, 8828, 3135, 36053, 19195, 252898, 16...\n"
     ]
    }
   ],
   "source": [
    "pop_agg <- input_data$age %>%\n",
    "    group_by(LGA) %>%\n",
    "    summarise(pop_total = sum(Value))\n",
    "\n",
    "head(pop_agg)\n",
    "glimpse(pop_agg)"
   ]
  },
  {
   "cell_type": "markdown",
   "metadata": {},
   "source": [
    "# Joining `crime` and `age`"
   ]
  },
  {
   "cell_type": "code",
   "execution_count": 23,
   "metadata": {},
   "outputs": [
    {
     "data": {
      "text/html": [
       "<table>\n",
       "<thead><tr><th scope=col>X1</th><th scope=col>LGA</th><th scope=col>Offence</th><th scope=col>Crim_Count</th></tr></thead>\n",
       "<tbody>\n",
       "\t<tr><td>1                                    </td><td>Albury                               </td><td>Murder *                             </td><td>  2                                  </td></tr>\n",
       "\t<tr><td>2                                    </td><td>Albury                               </td><td>Attempted murder                     </td><td>  1                                  </td></tr>\n",
       "\t<tr><td>3                                    </td><td>Albury                               </td><td>Murder accessory, conspiracy         </td><td>  0                                  </td></tr>\n",
       "\t<tr><td>4                                    </td><td>Albury                               </td><td>Manslaughter *                       </td><td>  0                                  </td></tr>\n",
       "\t<tr><td>5                                    </td><td>Albury                               </td><td>Domestic violence related assault    </td><td>284                                  </td></tr>\n",
       "\t<tr><td>6                                    </td><td>Albury                               </td><td>Non-domestic violence related assault</td><td>296                                  </td></tr>\n",
       "</tbody>\n",
       "</table>\n"
      ],
      "text/latex": [
       "\\begin{tabular}{r|llll}\n",
       " X1 & LGA & Offence & Crim\\_Count\\\\\n",
       "\\hline\n",
       "\t 1                                     & Albury                                & Murder *                              &   2                                  \\\\\n",
       "\t 2                                     & Albury                                & Attempted murder                      &   1                                  \\\\\n",
       "\t 3                                     & Albury                                & Murder accessory, conspiracy          &   0                                  \\\\\n",
       "\t 4                                     & Albury                                & Manslaughter *                        &   0                                  \\\\\n",
       "\t 5                                     & Albury                                & Domestic violence related assault     & 284                                  \\\\\n",
       "\t 6                                     & Albury                                & Non-domestic violence related assault & 296                                  \\\\\n",
       "\\end{tabular}\n"
      ],
      "text/markdown": [
       "\n",
       "| X1 | LGA | Offence | Crim_Count |\n",
       "|---|---|---|---|\n",
       "| 1                                     | Albury                                | Murder *                              |   2                                   |\n",
       "| 2                                     | Albury                                | Attempted murder                      |   1                                   |\n",
       "| 3                                     | Albury                                | Murder accessory, conspiracy          |   0                                   |\n",
       "| 4                                     | Albury                                | Manslaughter *                        |   0                                   |\n",
       "| 5                                     | Albury                                | Domestic violence related assault     | 284                                   |\n",
       "| 6                                     | Albury                                | Non-domestic violence related assault | 296                                   |\n",
       "\n"
      ],
      "text/plain": [
       "  X1 LGA    Offence                               Crim_Count\n",
       "1 1  Albury Murder *                                2       \n",
       "2 2  Albury Attempted murder                        1       \n",
       "3 3  Albury Murder accessory, conspiracy            0       \n",
       "4 4  Albury Manslaughter *                          0       \n",
       "5 5  Albury Domestic violence related assault     284       \n",
       "6 6  Albury Non-domestic violence related assault 296       "
      ]
     },
     "metadata": {},
     "output_type": "display_data"
    },
    {
     "data": {
      "text/html": [
       "<table>\n",
       "<thead><tr><th scope=col>Sex</th><th scope=col>Age</th><th scope=col>LGA</th><th scope=col>Value</th><th scope=col>pop_total</th></tr></thead>\n",
       "<tbody>\n",
       "\t<tr><td>Females                     </td><td>95 - 99                     </td><td>Lismore                     </td><td> 65                         </td><td>43140                       </td></tr>\n",
       "\t<tr><td>Females                     </td><td>95 - 99                     </td><td>Queanbeyan-Palerang Regional</td><td> 33                         </td><td>56023                       </td></tr>\n",
       "\t<tr><td>Females                     </td><td>95 - 99                     </td><td>Mid-Coast                   </td><td>173                         </td><td>90301                       </td></tr>\n",
       "\t<tr><td>Females                     </td><td>95 - 99                     </td><td>Glen Innes Severn           </td><td> 16                         </td><td> 8828                       </td></tr>\n",
       "\t<tr><td>Females                     </td><td>95 - 99                     </td><td>Lockhart                    </td><td> 11                         </td><td> 3135                       </td></tr>\n",
       "\t<tr><td>Females                     </td><td>95 - 99                     </td><td>Lane Cove                   </td><td> 49                         </td><td>36053                       </td></tr>\n",
       "</tbody>\n",
       "</table>\n"
      ],
      "text/latex": [
       "\\begin{tabular}{r|lllll}\n",
       " Sex & Age & LGA & Value & pop\\_total\\\\\n",
       "\\hline\n",
       "\t Females                      & 95 - 99                      & Lismore                      &  65                          & 43140                       \\\\\n",
       "\t Females                      & 95 - 99                      & Queanbeyan-Palerang Regional &  33                          & 56023                       \\\\\n",
       "\t Females                      & 95 - 99                      & Mid-Coast                    & 173                          & 90301                       \\\\\n",
       "\t Females                      & 95 - 99                      & Glen Innes Severn            &  16                          &  8828                       \\\\\n",
       "\t Females                      & 95 - 99                      & Lockhart                     &  11                          &  3135                       \\\\\n",
       "\t Females                      & 95 - 99                      & Lane Cove                    &  49                          & 36053                       \\\\\n",
       "\\end{tabular}\n"
      ],
      "text/markdown": [
       "\n",
       "| Sex | Age | LGA | Value | pop_total |\n",
       "|---|---|---|---|---|\n",
       "| Females                      | 95 - 99                      | Lismore                      |  65                          | 43140                        |\n",
       "| Females                      | 95 - 99                      | Queanbeyan-Palerang Regional |  33                          | 56023                        |\n",
       "| Females                      | 95 - 99                      | Mid-Coast                    | 173                          | 90301                        |\n",
       "| Females                      | 95 - 99                      | Glen Innes Severn            |  16                          |  8828                        |\n",
       "| Females                      | 95 - 99                      | Lockhart                     |  11                          |  3135                        |\n",
       "| Females                      | 95 - 99                      | Lane Cove                    |  49                          | 36053                        |\n",
       "\n"
      ],
      "text/plain": [
       "  Sex     Age     LGA                          Value pop_total\n",
       "1 Females 95 - 99 Lismore                       65   43140    \n",
       "2 Females 95 - 99 Queanbeyan-Palerang Regional  33   56023    \n",
       "3 Females 95 - 99 Mid-Coast                    173   90301    \n",
       "4 Females 95 - 99 Glen Innes Severn             16    8828    \n",
       "5 Females 95 - 99 Lockhart                      11    3135    \n",
       "6 Females 95 - 99 Lane Cove                     49   36053    "
      ]
     },
     "metadata": {},
     "output_type": "display_data"
    }
   ],
   "source": [
    "head(input_data$crime)\n",
    "head(input_data$age)"
   ]
  },
  {
   "cell_type": "code",
   "execution_count": 24,
   "metadata": {},
   "outputs": [
    {
     "name": "stderr",
     "output_type": "stream",
     "text": [
      "Warning message:\n",
      "\"Column `LGA` joining factors with different levels, coercing to character vector\""
     ]
    },
    {
     "data": {
      "text/html": [
       "<table>\n",
       "<thead><tr><th scope=col>LGA</th><th scope=col>Offence</th><th scope=col>Crim_Count</th><th scope=col>crime_tot_per_lga</th><th scope=col>Sex</th><th scope=col>Age</th><th scope=col>Value</th><th scope=col>pop_total</th><th scope=col>crime_rate_per_lga</th></tr></thead>\n",
       "<tbody>\n",
       "\t<tr><td>Albury   </td><td>Murder * </td><td>2        </td><td>6233     </td><td>Females  </td><td>95 - 99  </td><td> 78      </td><td>51081    </td><td>0.1220219</td></tr>\n",
       "\t<tr><td>Albury   </td><td>Murder * </td><td>2        </td><td>6233     </td><td>Males    </td><td>95 - 99  </td><td> 21      </td><td>51081    </td><td>0.1220219</td></tr>\n",
       "\t<tr><td>Albury   </td><td>Murder * </td><td>2        </td><td>6233     </td><td>Females  </td><td>90 - 94  </td><td>271      </td><td>51081    </td><td>0.1220219</td></tr>\n",
       "\t<tr><td>Albury   </td><td>Murder * </td><td>2        </td><td>6233     </td><td>Males    </td><td>90 - 94  </td><td>117      </td><td>51081    </td><td>0.1220219</td></tr>\n",
       "\t<tr><td>Albury   </td><td>Murder * </td><td>2        </td><td>6233     </td><td>Females  </td><td>85 - 89  </td><td>484      </td><td>51081    </td><td>0.1220219</td></tr>\n",
       "\t<tr><td>Albury   </td><td>Murder * </td><td>2        </td><td>6233     </td><td>Males    </td><td>85 - 89  </td><td>351      </td><td>51081    </td><td>0.1220219</td></tr>\n",
       "</tbody>\n",
       "</table>\n"
      ],
      "text/latex": [
       "\\begin{tabular}{r|lllllllll}\n",
       " LGA & Offence & Crim\\_Count & crime\\_tot\\_per\\_lga & Sex & Age & Value & pop\\_total & crime\\_rate\\_per\\_lga\\\\\n",
       "\\hline\n",
       "\t Albury    & Murder *  & 2         & 6233      & Females   & 95 - 99   &  78       & 51081     & 0.1220219\\\\\n",
       "\t Albury    & Murder *  & 2         & 6233      & Males     & 95 - 99   &  21       & 51081     & 0.1220219\\\\\n",
       "\t Albury    & Murder *  & 2         & 6233      & Females   & 90 - 94   & 271       & 51081     & 0.1220219\\\\\n",
       "\t Albury    & Murder *  & 2         & 6233      & Males     & 90 - 94   & 117       & 51081     & 0.1220219\\\\\n",
       "\t Albury    & Murder *  & 2         & 6233      & Females   & 85 - 89   & 484       & 51081     & 0.1220219\\\\\n",
       "\t Albury    & Murder *  & 2         & 6233      & Males     & 85 - 89   & 351       & 51081     & 0.1220219\\\\\n",
       "\\end{tabular}\n"
      ],
      "text/markdown": [
       "\n",
       "| LGA | Offence | Crim_Count | crime_tot_per_lga | Sex | Age | Value | pop_total | crime_rate_per_lga |\n",
       "|---|---|---|---|---|---|---|---|---|\n",
       "| Albury    | Murder *  | 2         | 6233      | Females   | 95 - 99   |  78       | 51081     | 0.1220219 |\n",
       "| Albury    | Murder *  | 2         | 6233      | Males     | 95 - 99   |  21       | 51081     | 0.1220219 |\n",
       "| Albury    | Murder *  | 2         | 6233      | Females   | 90 - 94   | 271       | 51081     | 0.1220219 |\n",
       "| Albury    | Murder *  | 2         | 6233      | Males     | 90 - 94   | 117       | 51081     | 0.1220219 |\n",
       "| Albury    | Murder *  | 2         | 6233      | Females   | 85 - 89   | 484       | 51081     | 0.1220219 |\n",
       "| Albury    | Murder *  | 2         | 6233      | Males     | 85 - 89   | 351       | 51081     | 0.1220219 |\n",
       "\n"
      ],
      "text/plain": [
       "  LGA    Offence  Crim_Count crime_tot_per_lga Sex     Age     Value pop_total\n",
       "1 Albury Murder * 2          6233              Females 95 - 99  78   51081    \n",
       "2 Albury Murder * 2          6233              Males   95 - 99  21   51081    \n",
       "3 Albury Murder * 2          6233              Females 90 - 94 271   51081    \n",
       "4 Albury Murder * 2          6233              Males   90 - 94 117   51081    \n",
       "5 Albury Murder * 2          6233              Females 85 - 89 484   51081    \n",
       "6 Albury Murder * 2          6233              Males   85 - 89 351   51081    \n",
       "  crime_rate_per_lga\n",
       "1 0.1220219         \n",
       "2 0.1220219         \n",
       "3 0.1220219         \n",
       "4 0.1220219         \n",
       "5 0.1220219         \n",
       "6 0.1220219         "
      ]
     },
     "metadata": {},
     "output_type": "display_data"
    },
    {
     "name": "stdout",
     "output_type": "stream",
     "text": [
      "Observations: 341,310\n",
      "Variables: 9\n",
      "Groups: LGA [130]\n",
      "$ LGA                \u001b[3m\u001b[90m<chr>\u001b[39m\u001b[23m \"Albury\", \"Albury\", \"Albury\", \"Albury\", \"Albury\"...\n",
      "$ Offence            \u001b[3m\u001b[90m<fct>\u001b[39m\u001b[23m Murder *, Murder *, Murder *, Murder *, Murder *...\n",
      "$ Crim_Count         \u001b[3m\u001b[90m<int>\u001b[39m\u001b[23m 2, 2, 2, 2, 2, 2, 2, 2, 2, 2, 2, 2, 2, 2, 2, 2, ...\n",
      "$ crime_tot_per_lga  \u001b[3m\u001b[90m<int>\u001b[39m\u001b[23m 6233, 6233, 6233, 6233, 6233, 6233, 6233, 6233, ...\n",
      "$ Sex                \u001b[3m\u001b[90m<fct>\u001b[39m\u001b[23m Females, Males, Females, Males, Females, Males, ...\n",
      "$ Age                \u001b[3m\u001b[90m<fct>\u001b[39m\u001b[23m 95 - 99, 95 - 99, 90 - 94, 90 - 94, 85 - 89, 85 ...\n",
      "$ Value              \u001b[3m\u001b[90m<int>\u001b[39m\u001b[23m 78, 21, 271, 117, 484, 351, 734, 501, 924, 746, ...\n",
      "$ pop_total          \u001b[3m\u001b[90m<int>\u001b[39m\u001b[23m 51081, 51081, 51081, 51081, 51081, 51081, 51081,...\n",
      "$ crime_rate_per_lga \u001b[3m\u001b[90m<dbl>\u001b[39m\u001b[23m 0.1220219, 0.1220219, 0.1220219, 0.1220219, 0.12...\n"
     ]
    }
   ],
   "source": [
    "joined <- input_data$crime %>%\n",
    "    select(-X1) %>%\n",
    "    group_by(LGA) %>%\n",
    "    mutate(crime_tot_per_lga = sum(Crim_Count)) %>%\n",
    "    left_join(input_data$age, by = \"LGA\") %>%\n",
    "    mutate(crime_rate_per_lga = crime_tot_per_lga / pop_total)\n",
    "\n",
    "head(joined)\n",
    "glimpse(joined)"
   ]
  },
  {
   "cell_type": "code",
   "execution_count": 25,
   "metadata": {},
   "outputs": [],
   "source": [
    "out_filename = \"joined_crime_age.csv\"\n",
    "write.csv(joined, paste(output_path, out_filename, sep = \"/\"), row.names = FALSE)"
   ]
  },
  {
   "cell_type": "markdown",
   "metadata": {},
   "source": [
    "# Adding Crime Rate "
   ]
  },
  {
   "cell_type": "markdown",
   "metadata": {},
   "source": [
    "The crime rate to the crime data set. "
   ]
  },
  {
   "cell_type": "code",
   "execution_count": 26,
   "metadata": {},
   "outputs": [
    {
     "name": "stderr",
     "output_type": "stream",
     "text": [
      "Warning message:\n",
      "\"Column `LGA` joining factors with different levels, coercing to character vector\""
     ]
    },
    {
     "data": {
      "text/html": [
       "<table>\n",
       "<thead><tr><th scope=col>LGA</th><th scope=col>Offence</th><th scope=col>Crim_Count</th><th scope=col>crime_tot_per_lga</th><th scope=col>pop_total</th><th scope=col>crime_rate_per_lga</th></tr></thead>\n",
       "<tbody>\n",
       "\t<tr><td>Albury                               </td><td>Murder *                             </td><td>  2                                  </td><td>6233                                 </td><td>51081                                </td><td>0.1220219                            </td></tr>\n",
       "\t<tr><td>Albury                               </td><td>Attempted murder                     </td><td>  1                                  </td><td>6233                                 </td><td>51081                                </td><td>0.1220219                            </td></tr>\n",
       "\t<tr><td>Albury                               </td><td>Murder accessory, conspiracy         </td><td>  0                                  </td><td>6233                                 </td><td>51081                                </td><td>0.1220219                            </td></tr>\n",
       "\t<tr><td>Albury                               </td><td>Manslaughter *                       </td><td>  0                                  </td><td>6233                                 </td><td>51081                                </td><td>0.1220219                            </td></tr>\n",
       "\t<tr><td>Albury                               </td><td>Domestic violence related assault    </td><td>284                                  </td><td>6233                                 </td><td>51081                                </td><td>0.1220219                            </td></tr>\n",
       "\t<tr><td>Albury                               </td><td>Non-domestic violence related assault</td><td>296                                  </td><td>6233                                 </td><td>51081                                </td><td>0.1220219                            </td></tr>\n",
       "</tbody>\n",
       "</table>\n"
      ],
      "text/latex": [
       "\\begin{tabular}{r|llllll}\n",
       " LGA & Offence & Crim\\_Count & crime\\_tot\\_per\\_lga & pop\\_total & crime\\_rate\\_per\\_lga\\\\\n",
       "\\hline\n",
       "\t Albury                                & Murder *                              &   2                                   & 6233                                  & 51081                                 & 0.1220219                            \\\\\n",
       "\t Albury                                & Attempted murder                      &   1                                   & 6233                                  & 51081                                 & 0.1220219                            \\\\\n",
       "\t Albury                                & Murder accessory, conspiracy          &   0                                   & 6233                                  & 51081                                 & 0.1220219                            \\\\\n",
       "\t Albury                                & Manslaughter *                        &   0                                   & 6233                                  & 51081                                 & 0.1220219                            \\\\\n",
       "\t Albury                                & Domestic violence related assault     & 284                                   & 6233                                  & 51081                                 & 0.1220219                            \\\\\n",
       "\t Albury                                & Non-domestic violence related assault & 296                                   & 6233                                  & 51081                                 & 0.1220219                            \\\\\n",
       "\\end{tabular}\n"
      ],
      "text/markdown": [
       "\n",
       "| LGA | Offence | Crim_Count | crime_tot_per_lga | pop_total | crime_rate_per_lga |\n",
       "|---|---|---|---|---|---|\n",
       "| Albury                                | Murder *                              |   2                                   | 6233                                  | 51081                                 | 0.1220219                             |\n",
       "| Albury                                | Attempted murder                      |   1                                   | 6233                                  | 51081                                 | 0.1220219                             |\n",
       "| Albury                                | Murder accessory, conspiracy          |   0                                   | 6233                                  | 51081                                 | 0.1220219                             |\n",
       "| Albury                                | Manslaughter *                        |   0                                   | 6233                                  | 51081                                 | 0.1220219                             |\n",
       "| Albury                                | Domestic violence related assault     | 284                                   | 6233                                  | 51081                                 | 0.1220219                             |\n",
       "| Albury                                | Non-domestic violence related assault | 296                                   | 6233                                  | 51081                                 | 0.1220219                             |\n",
       "\n"
      ],
      "text/plain": [
       "  LGA    Offence                               Crim_Count crime_tot_per_lga\n",
       "1 Albury Murder *                                2        6233             \n",
       "2 Albury Attempted murder                        1        6233             \n",
       "3 Albury Murder accessory, conspiracy            0        6233             \n",
       "4 Albury Manslaughter *                          0        6233             \n",
       "5 Albury Domestic violence related assault     284        6233             \n",
       "6 Albury Non-domestic violence related assault 296        6233             \n",
       "  pop_total crime_rate_per_lga\n",
       "1 51081     0.1220219         \n",
       "2 51081     0.1220219         \n",
       "3 51081     0.1220219         \n",
       "4 51081     0.1220219         \n",
       "5 51081     0.1220219         \n",
       "6 51081     0.1220219         "
      ]
     },
     "metadata": {},
     "output_type": "display_data"
    },
    {
     "name": "stdout",
     "output_type": "stream",
     "text": [
      "Observations: 8,060\n",
      "Variables: 6\n",
      "Groups: LGA [130]\n",
      "$ LGA                \u001b[3m\u001b[90m<chr>\u001b[39m\u001b[23m \"Albury\", \"Albury\", \"Albury\", \"Albury\", \"Albury\"...\n",
      "$ Offence            \u001b[3m\u001b[90m<fct>\u001b[39m\u001b[23m \"Murder *\", \"Attempted murder\", \"Murder accessor...\n",
      "$ Crim_Count         \u001b[3m\u001b[90m<int>\u001b[39m\u001b[23m 2, 1, 0, 0, 284, 296, 25, 47, 68, 2, 12, 3, 6, 0...\n",
      "$ crime_tot_per_lga  \u001b[3m\u001b[90m<int>\u001b[39m\u001b[23m 6233, 6233, 6233, 6233, 6233, 6233, 6233, 6233, ...\n",
      "$ pop_total          \u001b[3m\u001b[90m<int>\u001b[39m\u001b[23m 51081, 51081, 51081, 51081, 51081, 51081, 51081,...\n",
      "$ crime_rate_per_lga \u001b[3m\u001b[90m<dbl>\u001b[39m\u001b[23m 0.1220219, 0.1220219, 0.1220219, 0.1220219, 0.12...\n"
     ]
    }
   ],
   "source": [
    "input_data$crime %<>%\n",
    "    select(-X1) %>%\n",
    "    group_by(LGA) %>%\n",
    "    mutate(crime_tot_per_lga = sum(Crim_Count)) %>% \n",
    "    left_join(pop_agg, by = \"LGA\") %>%\n",
    "    mutate(crime_rate_per_lga = crime_tot_per_lga / pop_total)\n",
    "\n",
    "head(input_data$crime)\n",
    "glimpse(input_data$crime)"
   ]
  },
  {
   "cell_type": "markdown",
   "metadata": {},
   "source": [
    "# Joining `crime` and `country_of_birth`"
   ]
  },
  {
   "cell_type": "code",
   "execution_count": 27,
   "metadata": {},
   "outputs": [
    {
     "data": {
      "text/html": [
       "<table>\n",
       "<thead><tr><th scope=col>LGA</th><th scope=col>Offence</th><th scope=col>Crim_Count</th><th scope=col>crime_tot_per_lga</th><th scope=col>pop_total</th><th scope=col>crime_rate_per_lga</th></tr></thead>\n",
       "<tbody>\n",
       "\t<tr><td>Albury                               </td><td>Murder *                             </td><td>  2                                  </td><td>6233                                 </td><td>51081                                </td><td>0.1220219                            </td></tr>\n",
       "\t<tr><td>Albury                               </td><td>Attempted murder                     </td><td>  1                                  </td><td>6233                                 </td><td>51081                                </td><td>0.1220219                            </td></tr>\n",
       "\t<tr><td>Albury                               </td><td>Murder accessory, conspiracy         </td><td>  0                                  </td><td>6233                                 </td><td>51081                                </td><td>0.1220219                            </td></tr>\n",
       "\t<tr><td>Albury                               </td><td>Manslaughter *                       </td><td>  0                                  </td><td>6233                                 </td><td>51081                                </td><td>0.1220219                            </td></tr>\n",
       "\t<tr><td>Albury                               </td><td>Domestic violence related assault    </td><td>284                                  </td><td>6233                                 </td><td>51081                                </td><td>0.1220219                            </td></tr>\n",
       "\t<tr><td>Albury                               </td><td>Non-domestic violence related assault</td><td>296                                  </td><td>6233                                 </td><td>51081                                </td><td>0.1220219                            </td></tr>\n",
       "</tbody>\n",
       "</table>\n"
      ],
      "text/latex": [
       "\\begin{tabular}{r|llllll}\n",
       " LGA & Offence & Crim\\_Count & crime\\_tot\\_per\\_lga & pop\\_total & crime\\_rate\\_per\\_lga\\\\\n",
       "\\hline\n",
       "\t Albury                                & Murder *                              &   2                                   & 6233                                  & 51081                                 & 0.1220219                            \\\\\n",
       "\t Albury                                & Attempted murder                      &   1                                   & 6233                                  & 51081                                 & 0.1220219                            \\\\\n",
       "\t Albury                                & Murder accessory, conspiracy          &   0                                   & 6233                                  & 51081                                 & 0.1220219                            \\\\\n",
       "\t Albury                                & Manslaughter *                        &   0                                   & 6233                                  & 51081                                 & 0.1220219                            \\\\\n",
       "\t Albury                                & Domestic violence related assault     & 284                                   & 6233                                  & 51081                                 & 0.1220219                            \\\\\n",
       "\t Albury                                & Non-domestic violence related assault & 296                                   & 6233                                  & 51081                                 & 0.1220219                            \\\\\n",
       "\\end{tabular}\n"
      ],
      "text/markdown": [
       "\n",
       "| LGA | Offence | Crim_Count | crime_tot_per_lga | pop_total | crime_rate_per_lga |\n",
       "|---|---|---|---|---|---|\n",
       "| Albury                                | Murder *                              |   2                                   | 6233                                  | 51081                                 | 0.1220219                             |\n",
       "| Albury                                | Attempted murder                      |   1                                   | 6233                                  | 51081                                 | 0.1220219                             |\n",
       "| Albury                                | Murder accessory, conspiracy          |   0                                   | 6233                                  | 51081                                 | 0.1220219                             |\n",
       "| Albury                                | Manslaughter *                        |   0                                   | 6233                                  | 51081                                 | 0.1220219                             |\n",
       "| Albury                                | Domestic violence related assault     | 284                                   | 6233                                  | 51081                                 | 0.1220219                             |\n",
       "| Albury                                | Non-domestic violence related assault | 296                                   | 6233                                  | 51081                                 | 0.1220219                             |\n",
       "\n"
      ],
      "text/plain": [
       "  LGA    Offence                               Crim_Count crime_tot_per_lga\n",
       "1 Albury Murder *                                2        6233             \n",
       "2 Albury Attempted murder                        1        6233             \n",
       "3 Albury Murder accessory, conspiracy            0        6233             \n",
       "4 Albury Manslaughter *                          0        6233             \n",
       "5 Albury Domestic violence related assault     284        6233             \n",
       "6 Albury Non-domestic violence related assault 296        6233             \n",
       "  pop_total crime_rate_per_lga\n",
       "1 51081     0.1220219         \n",
       "2 51081     0.1220219         \n",
       "3 51081     0.1220219         \n",
       "4 51081     0.1220219         \n",
       "5 51081     0.1220219         \n",
       "6 51081     0.1220219         "
      ]
     },
     "metadata": {},
     "output_type": "display_data"
    },
    {
     "data": {
      "text/html": [
       "<table>\n",
       "<thead><tr><th scope=col>birthplace_of_person</th><th scope=col>census_year</th><th scope=col>lga_2016</th><th scope=col>LGA</th><th scope=col>value</th><th scope=col>yarrp_2016</th><th scope=col>year_of_arrival_in_australia</th></tr></thead>\n",
       "<tbody>\n",
       "\t<tr><td>New Zealand        </td><td>2016               </td><td>10050              </td><td>Albury             </td><td>  7                </td><td>2                  </td><td>Arrived 1946 - 1955</td></tr>\n",
       "\t<tr><td>New Zealand        </td><td>2016               </td><td>10050              </td><td>Albury             </td><td> 22                </td><td>3                  </td><td>Arrived 1956 - 1965</td></tr>\n",
       "\t<tr><td>New Zealand        </td><td>2016               </td><td>10050              </td><td>Albury             </td><td> 63                </td><td>4                  </td><td>Arrived 1966 - 1975</td></tr>\n",
       "\t<tr><td>New Zealand        </td><td>2016               </td><td>10050              </td><td>Albury             </td><td>113                </td><td>5                  </td><td>Arrived 1976 - 1985</td></tr>\n",
       "\t<tr><td>New Zealand        </td><td>2016               </td><td>10050              </td><td>Albury             </td><td> 92                </td><td>6                  </td><td>Arrived 1986 - 1995</td></tr>\n",
       "\t<tr><td>New Zealand        </td><td>2016               </td><td>10050              </td><td>Albury             </td><td> 87                </td><td>7                  </td><td>Arrived 1996 - 2005</td></tr>\n",
       "</tbody>\n",
       "</table>\n"
      ],
      "text/latex": [
       "\\begin{tabular}{r|lllllll}\n",
       " birthplace\\_of\\_person & census\\_year & lga\\_2016 & LGA & value & yarrp\\_2016 & year\\_of\\_arrival\\_in\\_australia\\\\\n",
       "\\hline\n",
       "\t New Zealand         & 2016                & 10050               & Albury              &   7                 & 2                   & Arrived 1946 - 1955\\\\\n",
       "\t New Zealand         & 2016                & 10050               & Albury              &  22                 & 3                   & Arrived 1956 - 1965\\\\\n",
       "\t New Zealand         & 2016                & 10050               & Albury              &  63                 & 4                   & Arrived 1966 - 1975\\\\\n",
       "\t New Zealand         & 2016                & 10050               & Albury              & 113                 & 5                   & Arrived 1976 - 1985\\\\\n",
       "\t New Zealand         & 2016                & 10050               & Albury              &  92                 & 6                   & Arrived 1986 - 1995\\\\\n",
       "\t New Zealand         & 2016                & 10050               & Albury              &  87                 & 7                   & Arrived 1996 - 2005\\\\\n",
       "\\end{tabular}\n"
      ],
      "text/markdown": [
       "\n",
       "| birthplace_of_person | census_year | lga_2016 | LGA | value | yarrp_2016 | year_of_arrival_in_australia |\n",
       "|---|---|---|---|---|---|---|\n",
       "| New Zealand         | 2016                | 10050               | Albury              |   7                 | 2                   | Arrived 1946 - 1955 |\n",
       "| New Zealand         | 2016                | 10050               | Albury              |  22                 | 3                   | Arrived 1956 - 1965 |\n",
       "| New Zealand         | 2016                | 10050               | Albury              |  63                 | 4                   | Arrived 1966 - 1975 |\n",
       "| New Zealand         | 2016                | 10050               | Albury              | 113                 | 5                   | Arrived 1976 - 1985 |\n",
       "| New Zealand         | 2016                | 10050               | Albury              |  92                 | 6                   | Arrived 1986 - 1995 |\n",
       "| New Zealand         | 2016                | 10050               | Albury              |  87                 | 7                   | Arrived 1996 - 2005 |\n",
       "\n"
      ],
      "text/plain": [
       "  birthplace_of_person census_year lga_2016 LGA    value yarrp_2016\n",
       "1 New Zealand          2016        10050    Albury   7   2         \n",
       "2 New Zealand          2016        10050    Albury  22   3         \n",
       "3 New Zealand          2016        10050    Albury  63   4         \n",
       "4 New Zealand          2016        10050    Albury 113   5         \n",
       "5 New Zealand          2016        10050    Albury  92   6         \n",
       "6 New Zealand          2016        10050    Albury  87   7         \n",
       "  year_of_arrival_in_australia\n",
       "1 Arrived 1946 - 1955         \n",
       "2 Arrived 1956 - 1965         \n",
       "3 Arrived 1966 - 1975         \n",
       "4 Arrived 1976 - 1985         \n",
       "5 Arrived 1986 - 1995         \n",
       "6 Arrived 1996 - 2005         "
      ]
     },
     "metadata": {},
     "output_type": "display_data"
    }
   ],
   "source": [
    "head(input_data$crime)\n",
    "head(input_data$country_of_birth)"
   ]
  },
  {
   "cell_type": "code",
   "execution_count": 28,
   "metadata": {},
   "outputs": [
    {
     "name": "stderr",
     "output_type": "stream",
     "text": [
      "Joining, by = \"LGA\"\n",
      "Warning message:\n",
      "\"Column `LGA` joining character vector and factor, coercing into character vector\""
     ]
    },
    {
     "data": {
      "text/html": [
       "<table>\n",
       "<thead><tr><th scope=col>LGA</th><th scope=col>Offence</th><th scope=col>Crim_Count</th><th scope=col>crime_tot_per_lga</th><th scope=col>pop_total</th><th scope=col>crime_rate_per_lga</th><th scope=col>birthplace_of_person</th><th scope=col>pop_count</th><th scope=col>year_of_arrival_in_australia</th></tr></thead>\n",
       "<tbody>\n",
       "\t<tr><td>Albury             </td><td>Murder *           </td><td>2                  </td><td>6233               </td><td>51081              </td><td>0.1220219          </td><td>New Zealand        </td><td>  7                </td><td>Arrived 1946 - 1955</td></tr>\n",
       "\t<tr><td>Albury             </td><td>Murder *           </td><td>2                  </td><td>6233               </td><td>51081              </td><td>0.1220219          </td><td>New Zealand        </td><td> 22                </td><td>Arrived 1956 - 1965</td></tr>\n",
       "\t<tr><td>Albury             </td><td>Murder *           </td><td>2                  </td><td>6233               </td><td>51081              </td><td>0.1220219          </td><td>New Zealand        </td><td> 63                </td><td>Arrived 1966 - 1975</td></tr>\n",
       "\t<tr><td>Albury             </td><td>Murder *           </td><td>2                  </td><td>6233               </td><td>51081              </td><td>0.1220219          </td><td>New Zealand        </td><td>113                </td><td>Arrived 1976 - 1985</td></tr>\n",
       "\t<tr><td>Albury             </td><td>Murder *           </td><td>2                  </td><td>6233               </td><td>51081              </td><td>0.1220219          </td><td>New Zealand        </td><td> 92                </td><td>Arrived 1986 - 1995</td></tr>\n",
       "\t<tr><td>Albury             </td><td>Murder *           </td><td>2                  </td><td>6233               </td><td>51081              </td><td>0.1220219          </td><td>New Zealand        </td><td> 87                </td><td>Arrived 1996 - 2005</td></tr>\n",
       "</tbody>\n",
       "</table>\n"
      ],
      "text/latex": [
       "\\begin{tabular}{r|lllllllll}\n",
       " LGA & Offence & Crim\\_Count & crime\\_tot\\_per\\_lga & pop\\_total & crime\\_rate\\_per\\_lga & birthplace\\_of\\_person & pop\\_count & year\\_of\\_arrival\\_in\\_australia\\\\\n",
       "\\hline\n",
       "\t Albury              & Murder *            & 2                   & 6233                & 51081               & 0.1220219           & New Zealand         &   7                 & Arrived 1946 - 1955\\\\\n",
       "\t Albury              & Murder *            & 2                   & 6233                & 51081               & 0.1220219           & New Zealand         &  22                 & Arrived 1956 - 1965\\\\\n",
       "\t Albury              & Murder *            & 2                   & 6233                & 51081               & 0.1220219           & New Zealand         &  63                 & Arrived 1966 - 1975\\\\\n",
       "\t Albury              & Murder *            & 2                   & 6233                & 51081               & 0.1220219           & New Zealand         & 113                 & Arrived 1976 - 1985\\\\\n",
       "\t Albury              & Murder *            & 2                   & 6233                & 51081               & 0.1220219           & New Zealand         &  92                 & Arrived 1986 - 1995\\\\\n",
       "\t Albury              & Murder *            & 2                   & 6233                & 51081               & 0.1220219           & New Zealand         &  87                 & Arrived 1996 - 2005\\\\\n",
       "\\end{tabular}\n"
      ],
      "text/markdown": [
       "\n",
       "| LGA | Offence | Crim_Count | crime_tot_per_lga | pop_total | crime_rate_per_lga | birthplace_of_person | pop_count | year_of_arrival_in_australia |\n",
       "|---|---|---|---|---|---|---|---|---|\n",
       "| Albury              | Murder *            | 2                   | 6233                | 51081               | 0.1220219           | New Zealand         |   7                 | Arrived 1946 - 1955 |\n",
       "| Albury              | Murder *            | 2                   | 6233                | 51081               | 0.1220219           | New Zealand         |  22                 | Arrived 1956 - 1965 |\n",
       "| Albury              | Murder *            | 2                   | 6233                | 51081               | 0.1220219           | New Zealand         |  63                 | Arrived 1966 - 1975 |\n",
       "| Albury              | Murder *            | 2                   | 6233                | 51081               | 0.1220219           | New Zealand         | 113                 | Arrived 1976 - 1985 |\n",
       "| Albury              | Murder *            | 2                   | 6233                | 51081               | 0.1220219           | New Zealand         |  92                 | Arrived 1986 - 1995 |\n",
       "| Albury              | Murder *            | 2                   | 6233                | 51081               | 0.1220219           | New Zealand         |  87                 | Arrived 1996 - 2005 |\n",
       "\n"
      ],
      "text/plain": [
       "  LGA    Offence  Crim_Count crime_tot_per_lga pop_total crime_rate_per_lga\n",
       "1 Albury Murder * 2          6233              51081     0.1220219         \n",
       "2 Albury Murder * 2          6233              51081     0.1220219         \n",
       "3 Albury Murder * 2          6233              51081     0.1220219         \n",
       "4 Albury Murder * 2          6233              51081     0.1220219         \n",
       "5 Albury Murder * 2          6233              51081     0.1220219         \n",
       "6 Albury Murder * 2          6233              51081     0.1220219         \n",
       "  birthplace_of_person pop_count year_of_arrival_in_australia\n",
       "1 New Zealand            7       Arrived 1946 - 1955         \n",
       "2 New Zealand           22       Arrived 1956 - 1965         \n",
       "3 New Zealand           63       Arrived 1966 - 1975         \n",
       "4 New Zealand          113       Arrived 1976 - 1985         \n",
       "5 New Zealand           92       Arrived 1986 - 1995         \n",
       "6 New Zealand           87       Arrived 1996 - 2005         "
      ]
     },
     "metadata": {},
     "output_type": "display_data"
    },
    {
     "name": "stdout",
     "output_type": "stream",
     "text": [
      "Observations: 6,382,714\n",
      "Variables: 9\n",
      "Groups: LGA [130]\n",
      "$ LGA                          \u001b[3m\u001b[90m<chr>\u001b[39m\u001b[23m \"Albury\", \"Albury\", \"Albury\", \"Albury\"...\n",
      "$ Offence                      \u001b[3m\u001b[90m<fct>\u001b[39m\u001b[23m Murder *, Murder *, Murder *, Murder *...\n",
      "$ Crim_Count                   \u001b[3m\u001b[90m<int>\u001b[39m\u001b[23m 2, 2, 2, 2, 2, 2, 2, 2, 2, 2, 2, 2, 2,...\n",
      "$ crime_tot_per_lga            \u001b[3m\u001b[90m<int>\u001b[39m\u001b[23m 6233, 6233, 6233, 6233, 6233, 6233, 62...\n",
      "$ pop_total                    \u001b[3m\u001b[90m<int>\u001b[39m\u001b[23m 51081, 51081, 51081, 51081, 51081, 510...\n",
      "$ crime_rate_per_lga           \u001b[3m\u001b[90m<dbl>\u001b[39m\u001b[23m 0.1220219, 0.1220219, 0.1220219, 0.122...\n",
      "$ birthplace_of_person         \u001b[3m\u001b[90m<fct>\u001b[39m\u001b[23m New Zealand, New Zealand, New Zealand,...\n",
      "$ pop_count                    \u001b[3m\u001b[90m<dbl>\u001b[39m\u001b[23m 7, 22, 63, 113, 92, 87, 6, 24, 3, 9, 6...\n",
      "$ year_of_arrival_in_australia \u001b[3m\u001b[90m<fct>\u001b[39m\u001b[23m Arrived 1946 - 1955, Arrived 1956 - 19...\n"
     ]
    }
   ],
   "source": [
    "joined <- input_data$crime %>%\n",
    "    left_join(input_data$country_of_birth %>% select(-lga_2016, -census_year, -yarrp_2016)) %>%\n",
    "    rename(pop_count = value)\n",
    "\n",
    "head(joined)\n",
    "glimpse(joined)"
   ]
  },
  {
   "cell_type": "code",
   "execution_count": 29,
   "metadata": {},
   "outputs": [],
   "source": [
    "out_filename = \"joined_crime_countryofbirth.csv\"\n",
    "write.csv(joined, paste(output_path, out_filename, sep = \"/\"), row.names = FALSE)"
   ]
  },
  {
   "cell_type": "markdown",
   "metadata": {},
   "source": [
    "# Joining `crime` and `industry_employment`"
   ]
  },
  {
   "cell_type": "code",
   "execution_count": 30,
   "metadata": {},
   "outputs": [
    {
     "data": {
      "text/html": [
       "<table>\n",
       "<thead><tr><th scope=col>LGA</th><th scope=col>Offence</th><th scope=col>Crim_Count</th><th scope=col>crime_tot_per_lga</th><th scope=col>pop_total</th><th scope=col>crime_rate_per_lga</th></tr></thead>\n",
       "<tbody>\n",
       "\t<tr><td>Albury                               </td><td>Murder *                             </td><td>  2                                  </td><td>6233                                 </td><td>51081                                </td><td>0.1220219                            </td></tr>\n",
       "\t<tr><td>Albury                               </td><td>Attempted murder                     </td><td>  1                                  </td><td>6233                                 </td><td>51081                                </td><td>0.1220219                            </td></tr>\n",
       "\t<tr><td>Albury                               </td><td>Murder accessory, conspiracy         </td><td>  0                                  </td><td>6233                                 </td><td>51081                                </td><td>0.1220219                            </td></tr>\n",
       "\t<tr><td>Albury                               </td><td>Manslaughter *                       </td><td>  0                                  </td><td>6233                                 </td><td>51081                                </td><td>0.1220219                            </td></tr>\n",
       "\t<tr><td>Albury                               </td><td>Domestic violence related assault    </td><td>284                                  </td><td>6233                                 </td><td>51081                                </td><td>0.1220219                            </td></tr>\n",
       "\t<tr><td>Albury                               </td><td>Non-domestic violence related assault</td><td>296                                  </td><td>6233                                 </td><td>51081                                </td><td>0.1220219                            </td></tr>\n",
       "</tbody>\n",
       "</table>\n"
      ],
      "text/latex": [
       "\\begin{tabular}{r|llllll}\n",
       " LGA & Offence & Crim\\_Count & crime\\_tot\\_per\\_lga & pop\\_total & crime\\_rate\\_per\\_lga\\\\\n",
       "\\hline\n",
       "\t Albury                                & Murder *                              &   2                                   & 6233                                  & 51081                                 & 0.1220219                            \\\\\n",
       "\t Albury                                & Attempted murder                      &   1                                   & 6233                                  & 51081                                 & 0.1220219                            \\\\\n",
       "\t Albury                                & Murder accessory, conspiracy          &   0                                   & 6233                                  & 51081                                 & 0.1220219                            \\\\\n",
       "\t Albury                                & Manslaughter *                        &   0                                   & 6233                                  & 51081                                 & 0.1220219                            \\\\\n",
       "\t Albury                                & Domestic violence related assault     & 284                                   & 6233                                  & 51081                                 & 0.1220219                            \\\\\n",
       "\t Albury                                & Non-domestic violence related assault & 296                                   & 6233                                  & 51081                                 & 0.1220219                            \\\\\n",
       "\\end{tabular}\n"
      ],
      "text/markdown": [
       "\n",
       "| LGA | Offence | Crim_Count | crime_tot_per_lga | pop_total | crime_rate_per_lga |\n",
       "|---|---|---|---|---|---|\n",
       "| Albury                                | Murder *                              |   2                                   | 6233                                  | 51081                                 | 0.1220219                             |\n",
       "| Albury                                | Attempted murder                      |   1                                   | 6233                                  | 51081                                 | 0.1220219                             |\n",
       "| Albury                                | Murder accessory, conspiracy          |   0                                   | 6233                                  | 51081                                 | 0.1220219                             |\n",
       "| Albury                                | Manslaughter *                        |   0                                   | 6233                                  | 51081                                 | 0.1220219                             |\n",
       "| Albury                                | Domestic violence related assault     | 284                                   | 6233                                  | 51081                                 | 0.1220219                             |\n",
       "| Albury                                | Non-domestic violence related assault | 296                                   | 6233                                  | 51081                                 | 0.1220219                             |\n",
       "\n"
      ],
      "text/plain": [
       "  LGA    Offence                               Crim_Count crime_tot_per_lga\n",
       "1 Albury Murder *                                2        6233             \n",
       "2 Albury Attempted murder                        1        6233             \n",
       "3 Albury Murder accessory, conspiracy            0        6233             \n",
       "4 Albury Manslaughter *                          0        6233             \n",
       "5 Albury Domestic violence related assault     284        6233             \n",
       "6 Albury Non-domestic violence related assault 296        6233             \n",
       "  pop_total crime_rate_per_lga\n",
       "1 51081     0.1220219         \n",
       "2 51081     0.1220219         \n",
       "3 51081     0.1220219         \n",
       "4 51081     0.1220219         \n",
       "5 51081     0.1220219         \n",
       "6 51081     0.1220219         "
      ]
     },
     "metadata": {},
     "output_type": "display_data"
    },
    {
     "data": {
      "text/html": [
       "<table>\n",
       "<thead><tr><th scope=col>Age</th><th scope=col>Sex</th><th scope=col>Industry of Employment</th><th scope=col>LGA_2016</th><th scope=col>LGA</th><th scope=col>Census year</th><th scope=col>Value</th></tr></thead>\n",
       "<tbody>\n",
       "\t<tr><td>15 - 19                          </td><td>Males                            </td><td>Agriculture, Forestry and Fishing</td><td>10050                            </td><td>Albury                           </td><td>2016                             </td><td> 6                               </td></tr>\n",
       "\t<tr><td>15 - 19                          </td><td>Females                          </td><td>Agriculture, Forestry and Fishing</td><td>10050                            </td><td>Albury                           </td><td>2016                             </td><td> 4                               </td></tr>\n",
       "\t<tr><td>15 - 19                          </td><td>Persons                          </td><td>Agriculture, Forestry and Fishing</td><td>10050                            </td><td>Albury                           </td><td>2016                             </td><td> 6                               </td></tr>\n",
       "\t<tr><td>15 - 19                          </td><td>Males                            </td><td>Agriculture, Forestry and Fishing</td><td>10130                            </td><td>Armidale Regional                </td><td>2016                             </td><td>34                               </td></tr>\n",
       "\t<tr><td>15 - 19                          </td><td>Females                          </td><td>Agriculture, Forestry and Fishing</td><td>10130                            </td><td>Armidale Regional                </td><td>2016                             </td><td> 9                               </td></tr>\n",
       "\t<tr><td>15 - 19                          </td><td>Persons                          </td><td>Agriculture, Forestry and Fishing</td><td>10130                            </td><td>Armidale Regional                </td><td>2016                             </td><td>43                               </td></tr>\n",
       "</tbody>\n",
       "</table>\n"
      ],
      "text/latex": [
       "\\begin{tabular}{r|lllllll}\n",
       " Age & Sex & Industry of Employment & LGA\\_2016 & LGA & Census year & Value\\\\\n",
       "\\hline\n",
       "\t 15 - 19                           & Males                             & Agriculture, Forestry and Fishing & 10050                             & Albury                            & 2016                              &  6                               \\\\\n",
       "\t 15 - 19                           & Females                           & Agriculture, Forestry and Fishing & 10050                             & Albury                            & 2016                              &  4                               \\\\\n",
       "\t 15 - 19                           & Persons                           & Agriculture, Forestry and Fishing & 10050                             & Albury                            & 2016                              &  6                               \\\\\n",
       "\t 15 - 19                           & Males                             & Agriculture, Forestry and Fishing & 10130                             & Armidale Regional                 & 2016                              & 34                               \\\\\n",
       "\t 15 - 19                           & Females                           & Agriculture, Forestry and Fishing & 10130                             & Armidale Regional                 & 2016                              &  9                               \\\\\n",
       "\t 15 - 19                           & Persons                           & Agriculture, Forestry and Fishing & 10130                             & Armidale Regional                 & 2016                              & 43                               \\\\\n",
       "\\end{tabular}\n"
      ],
      "text/markdown": [
       "\n",
       "| Age | Sex | Industry of Employment | LGA_2016 | LGA | Census year | Value |\n",
       "|---|---|---|---|---|---|---|\n",
       "| 15 - 19                           | Males                             | Agriculture, Forestry and Fishing | 10050                             | Albury                            | 2016                              |  6                                |\n",
       "| 15 - 19                           | Females                           | Agriculture, Forestry and Fishing | 10050                             | Albury                            | 2016                              |  4                                |\n",
       "| 15 - 19                           | Persons                           | Agriculture, Forestry and Fishing | 10050                             | Albury                            | 2016                              |  6                                |\n",
       "| 15 - 19                           | Males                             | Agriculture, Forestry and Fishing | 10130                             | Armidale Regional                 | 2016                              | 34                                |\n",
       "| 15 - 19                           | Females                           | Agriculture, Forestry and Fishing | 10130                             | Armidale Regional                 | 2016                              |  9                                |\n",
       "| 15 - 19                           | Persons                           | Agriculture, Forestry and Fishing | 10130                             | Armidale Regional                 | 2016                              | 43                                |\n",
       "\n"
      ],
      "text/plain": [
       "  Age     Sex     Industry of Employment            LGA_2016 LGA              \n",
       "1 15 - 19 Males   Agriculture, Forestry and Fishing 10050    Albury           \n",
       "2 15 - 19 Females Agriculture, Forestry and Fishing 10050    Albury           \n",
       "3 15 - 19 Persons Agriculture, Forestry and Fishing 10050    Albury           \n",
       "4 15 - 19 Males   Agriculture, Forestry and Fishing 10130    Armidale Regional\n",
       "5 15 - 19 Females Agriculture, Forestry and Fishing 10130    Armidale Regional\n",
       "6 15 - 19 Persons Agriculture, Forestry and Fishing 10130    Armidale Regional\n",
       "  Census year Value\n",
       "1 2016         6   \n",
       "2 2016         4   \n",
       "3 2016         6   \n",
       "4 2016        34   \n",
       "5 2016         9   \n",
       "6 2016        43   "
      ]
     },
     "metadata": {},
     "output_type": "display_data"
    }
   ],
   "source": [
    "head(input_data$crime)\n",
    "head(input_data$industry_employment)"
   ]
  },
  {
   "cell_type": "code",
   "execution_count": 31,
   "metadata": {},
   "outputs": [
    {
     "name": "stderr",
     "output_type": "stream",
     "text": [
      "Joining, by = \"LGA\"\n",
      "Warning message:\n",
      "\"Column `LGA` joining character vector and factor, coercing into character vector\""
     ]
    },
    {
     "data": {
      "text/html": [
       "<table>\n",
       "<thead><tr><th scope=col>LGA</th><th scope=col>Offence</th><th scope=col>Crim_Count</th><th scope=col>crime_tot_per_lga</th><th scope=col>pop_total</th><th scope=col>crime_rate_per_lga</th><th scope=col>Age</th><th scope=col>Sex</th><th scope=col>Industry of Employment</th><th scope=col>pop_count</th></tr></thead>\n",
       "<tbody>\n",
       "\t<tr><td>Albury                           </td><td>Murder *                         </td><td>2                                </td><td>6233                             </td><td>51081                            </td><td>0.1220219                        </td><td>15 - 19                          </td><td>Males                            </td><td>Agriculture, Forestry and Fishing</td><td>6                                </td></tr>\n",
       "\t<tr><td>Albury                           </td><td>Murder *                         </td><td>2                                </td><td>6233                             </td><td>51081                            </td><td>0.1220219                        </td><td>15 - 19                          </td><td>Females                          </td><td>Agriculture, Forestry and Fishing</td><td>4                                </td></tr>\n",
       "\t<tr><td>Albury                           </td><td>Murder *                         </td><td>2                                </td><td>6233                             </td><td>51081                            </td><td>0.1220219                        </td><td>15 - 19                          </td><td>Persons                          </td><td>Agriculture, Forestry and Fishing</td><td>6                                </td></tr>\n",
       "\t<tr><td>Albury                           </td><td>Murder *                         </td><td>2                                </td><td>6233                             </td><td>51081                            </td><td>0.1220219                        </td><td>15 - 19                          </td><td>Males                            </td><td>Mining                           </td><td>0                                </td></tr>\n",
       "\t<tr><td>Albury                           </td><td>Murder *                         </td><td>2                                </td><td>6233                             </td><td>51081                            </td><td>0.1220219                        </td><td>15 - 19                          </td><td>Females                          </td><td>Mining                           </td><td>0                                </td></tr>\n",
       "\t<tr><td>Albury                           </td><td>Murder *                         </td><td>2                                </td><td>6233                             </td><td>51081                            </td><td>0.1220219                        </td><td>15 - 19                          </td><td>Persons                          </td><td>Mining                           </td><td>0                                </td></tr>\n",
       "</tbody>\n",
       "</table>\n"
      ],
      "text/latex": [
       "\\begin{tabular}{r|llllllllll}\n",
       " LGA & Offence & Crim\\_Count & crime\\_tot\\_per\\_lga & pop\\_total & crime\\_rate\\_per\\_lga & Age & Sex & Industry of Employment & pop\\_count\\\\\n",
       "\\hline\n",
       "\t Albury                            & Murder *                          & 2                                 & 6233                              & 51081                             & 0.1220219                         & 15 - 19                           & Males                             & Agriculture, Forestry and Fishing & 6                                \\\\\n",
       "\t Albury                            & Murder *                          & 2                                 & 6233                              & 51081                             & 0.1220219                         & 15 - 19                           & Females                           & Agriculture, Forestry and Fishing & 4                                \\\\\n",
       "\t Albury                            & Murder *                          & 2                                 & 6233                              & 51081                             & 0.1220219                         & 15 - 19                           & Persons                           & Agriculture, Forestry and Fishing & 6                                \\\\\n",
       "\t Albury                            & Murder *                          & 2                                 & 6233                              & 51081                             & 0.1220219                         & 15 - 19                           & Males                             & Mining                            & 0                                \\\\\n",
       "\t Albury                            & Murder *                          & 2                                 & 6233                              & 51081                             & 0.1220219                         & 15 - 19                           & Females                           & Mining                            & 0                                \\\\\n",
       "\t Albury                            & Murder *                          & 2                                 & 6233                              & 51081                             & 0.1220219                         & 15 - 19                           & Persons                           & Mining                            & 0                                \\\\\n",
       "\\end{tabular}\n"
      ],
      "text/markdown": [
       "\n",
       "| LGA | Offence | Crim_Count | crime_tot_per_lga | pop_total | crime_rate_per_lga | Age | Sex | Industry of Employment | pop_count |\n",
       "|---|---|---|---|---|---|---|---|---|---|\n",
       "| Albury                            | Murder *                          | 2                                 | 6233                              | 51081                             | 0.1220219                         | 15 - 19                           | Males                             | Agriculture, Forestry and Fishing | 6                                 |\n",
       "| Albury                            | Murder *                          | 2                                 | 6233                              | 51081                             | 0.1220219                         | 15 - 19                           | Females                           | Agriculture, Forestry and Fishing | 4                                 |\n",
       "| Albury                            | Murder *                          | 2                                 | 6233                              | 51081                             | 0.1220219                         | 15 - 19                           | Persons                           | Agriculture, Forestry and Fishing | 6                                 |\n",
       "| Albury                            | Murder *                          | 2                                 | 6233                              | 51081                             | 0.1220219                         | 15 - 19                           | Males                             | Mining                            | 0                                 |\n",
       "| Albury                            | Murder *                          | 2                                 | 6233                              | 51081                             | 0.1220219                         | 15 - 19                           | Females                           | Mining                            | 0                                 |\n",
       "| Albury                            | Murder *                          | 2                                 | 6233                              | 51081                             | 0.1220219                         | 15 - 19                           | Persons                           | Mining                            | 0                                 |\n",
       "\n"
      ],
      "text/plain": [
       "  LGA    Offence  Crim_Count crime_tot_per_lga pop_total crime_rate_per_lga\n",
       "1 Albury Murder * 2          6233              51081     0.1220219         \n",
       "2 Albury Murder * 2          6233              51081     0.1220219         \n",
       "3 Albury Murder * 2          6233              51081     0.1220219         \n",
       "4 Albury Murder * 2          6233              51081     0.1220219         \n",
       "5 Albury Murder * 2          6233              51081     0.1220219         \n",
       "6 Albury Murder * 2          6233              51081     0.1220219         \n",
       "  Age     Sex     Industry of Employment            pop_count\n",
       "1 15 - 19 Males   Agriculture, Forestry and Fishing 6        \n",
       "2 15 - 19 Females Agriculture, Forestry and Fishing 4        \n",
       "3 15 - 19 Persons Agriculture, Forestry and Fishing 6        \n",
       "4 15 - 19 Males   Mining                            0        \n",
       "5 15 - 19 Females Mining                            0        \n",
       "6 15 - 19 Persons Mining                            0        "
      ]
     },
     "metadata": {},
     "output_type": "display_data"
    },
    {
     "name": "stdout",
     "output_type": "stream",
     "text": [
      "Observations: 4,650,310\n",
      "Variables: 10\n",
      "Groups: LGA [130]\n",
      "$ LGA                      \u001b[3m\u001b[90m<chr>\u001b[39m\u001b[23m \"Albury\", \"Albury\", \"Albury\", \"Albury\", \"A...\n",
      "$ Offence                  \u001b[3m\u001b[90m<fct>\u001b[39m\u001b[23m Murder *, Murder *, Murder *, Murder *, Mu...\n",
      "$ Crim_Count               \u001b[3m\u001b[90m<int>\u001b[39m\u001b[23m 2, 2, 2, 2, 2, 2, 2, 2, 2, 2, 2, 2, 2, 2, ...\n",
      "$ crime_tot_per_lga        \u001b[3m\u001b[90m<int>\u001b[39m\u001b[23m 6233, 6233, 6233, 6233, 6233, 6233, 6233, ...\n",
      "$ pop_total                \u001b[3m\u001b[90m<int>\u001b[39m\u001b[23m 51081, 51081, 51081, 51081, 51081, 51081, ...\n",
      "$ crime_rate_per_lga       \u001b[3m\u001b[90m<dbl>\u001b[39m\u001b[23m 0.1220219, 0.1220219, 0.1220219, 0.1220219...\n",
      "$ Age                      \u001b[3m\u001b[90m<fct>\u001b[39m\u001b[23m 15 - 19, 15 - 19, 15 - 19, 15 - 19, 15 - 1...\n",
      "$ Sex                      \u001b[3m\u001b[90m<fct>\u001b[39m\u001b[23m Males, Females, Persons, Males, Females, P...\n",
      "$ `Industry of Employment` \u001b[3m\u001b[90m<fct>\u001b[39m\u001b[23m \"Agriculture, Forestry and Fishing\", \"Agri...\n",
      "$ pop_count                \u001b[3m\u001b[90m<int>\u001b[39m\u001b[23m 6, 4, 6, 0, 0, 0, 49, 44, 90, 0, 0, 0, 121...\n"
     ]
    }
   ],
   "source": [
    "joined <- input_data$crime %>%\n",
    "    left_join(input_data$industry_employment %>% select(-LGA_2016, -`Census year`)) %>%\n",
    "    rename(pop_count = Value)\n",
    "\n",
    "head(joined)\n",
    "glimpse(joined)"
   ]
  },
  {
   "cell_type": "code",
   "execution_count": 32,
   "metadata": {},
   "outputs": [],
   "source": [
    "out_filename = \"joined_crime_employment.csv\"\n",
    "write.csv(joined, paste(output_path, out_filename, sep = \"/\"), row.names = FALSE)"
   ]
  },
  {
   "cell_type": "markdown",
   "metadata": {},
   "source": [
    "# Joining `crime` and `labour`"
   ]
  },
  {
   "cell_type": "code",
   "execution_count": 33,
   "metadata": {},
   "outputs": [
    {
     "data": {
      "text/html": [
       "<table>\n",
       "<thead><tr><th scope=col>LGA</th><th scope=col>Offence</th><th scope=col>Crim_Count</th><th scope=col>crime_tot_per_lga</th><th scope=col>pop_total</th><th scope=col>crime_rate_per_lga</th></tr></thead>\n",
       "<tbody>\n",
       "\t<tr><td>Albury                               </td><td>Murder *                             </td><td>  2                                  </td><td>6233                                 </td><td>51081                                </td><td>0.1220219                            </td></tr>\n",
       "\t<tr><td>Albury                               </td><td>Attempted murder                     </td><td>  1                                  </td><td>6233                                 </td><td>51081                                </td><td>0.1220219                            </td></tr>\n",
       "\t<tr><td>Albury                               </td><td>Murder accessory, conspiracy         </td><td>  0                                  </td><td>6233                                 </td><td>51081                                </td><td>0.1220219                            </td></tr>\n",
       "\t<tr><td>Albury                               </td><td>Manslaughter *                       </td><td>  0                                  </td><td>6233                                 </td><td>51081                                </td><td>0.1220219                            </td></tr>\n",
       "\t<tr><td>Albury                               </td><td>Domestic violence related assault    </td><td>284                                  </td><td>6233                                 </td><td>51081                                </td><td>0.1220219                            </td></tr>\n",
       "\t<tr><td>Albury                               </td><td>Non-domestic violence related assault</td><td>296                                  </td><td>6233                                 </td><td>51081                                </td><td>0.1220219                            </td></tr>\n",
       "</tbody>\n",
       "</table>\n"
      ],
      "text/latex": [
       "\\begin{tabular}{r|llllll}\n",
       " LGA & Offence & Crim\\_Count & crime\\_tot\\_per\\_lga & pop\\_total & crime\\_rate\\_per\\_lga\\\\\n",
       "\\hline\n",
       "\t Albury                                & Murder *                              &   2                                   & 6233                                  & 51081                                 & 0.1220219                            \\\\\n",
       "\t Albury                                & Attempted murder                      &   1                                   & 6233                                  & 51081                                 & 0.1220219                            \\\\\n",
       "\t Albury                                & Murder accessory, conspiracy          &   0                                   & 6233                                  & 51081                                 & 0.1220219                            \\\\\n",
       "\t Albury                                & Manslaughter *                        &   0                                   & 6233                                  & 51081                                 & 0.1220219                            \\\\\n",
       "\t Albury                                & Domestic violence related assault     & 284                                   & 6233                                  & 51081                                 & 0.1220219                            \\\\\n",
       "\t Albury                                & Non-domestic violence related assault & 296                                   & 6233                                  & 51081                                 & 0.1220219                            \\\\\n",
       "\\end{tabular}\n"
      ],
      "text/markdown": [
       "\n",
       "| LGA | Offence | Crim_Count | crime_tot_per_lga | pop_total | crime_rate_per_lga |\n",
       "|---|---|---|---|---|---|\n",
       "| Albury                                | Murder *                              |   2                                   | 6233                                  | 51081                                 | 0.1220219                             |\n",
       "| Albury                                | Attempted murder                      |   1                                   | 6233                                  | 51081                                 | 0.1220219                             |\n",
       "| Albury                                | Murder accessory, conspiracy          |   0                                   | 6233                                  | 51081                                 | 0.1220219                             |\n",
       "| Albury                                | Manslaughter *                        |   0                                   | 6233                                  | 51081                                 | 0.1220219                             |\n",
       "| Albury                                | Domestic violence related assault     | 284                                   | 6233                                  | 51081                                 | 0.1220219                             |\n",
       "| Albury                                | Non-domestic violence related assault | 296                                   | 6233                                  | 51081                                 | 0.1220219                             |\n",
       "\n"
      ],
      "text/plain": [
       "  LGA    Offence                               Crim_Count crime_tot_per_lga\n",
       "1 Albury Murder *                                2        6233             \n",
       "2 Albury Attempted murder                        1        6233             \n",
       "3 Albury Murder accessory, conspiracy            0        6233             \n",
       "4 Albury Manslaughter *                          0        6233             \n",
       "5 Albury Domestic violence related assault     284        6233             \n",
       "6 Albury Non-domestic violence related assault 296        6233             \n",
       "  pop_total crime_rate_per_lga\n",
       "1 51081     0.1220219         \n",
       "2 51081     0.1220219         \n",
       "3 51081     0.1220219         \n",
       "4 51081     0.1220219         \n",
       "5 51081     0.1220219         \n",
       "6 51081     0.1220219         "
      ]
     },
     "metadata": {},
     "output_type": "display_data"
    },
    {
     "data": {
      "text/html": [
       "<table>\n",
       "<thead><tr><th scope=col>Age</th><th scope=col>Sex</th><th scope=col>Labour force status</th><th scope=col>LGA_2016</th><th scope=col>LGA</th><th scope=col>Census year</th><th scope=col>Value</th></tr></thead>\n",
       "<tbody>\n",
       "\t<tr><td>15 - 19                   </td><td>Males                     </td><td>Employed, worked full-time</td><td>10050                     </td><td>Albury                    </td><td>2016                      </td><td>236                       </td></tr>\n",
       "\t<tr><td>15 - 19                   </td><td>Females                   </td><td>Employed, worked full-time</td><td>10050                     </td><td>Albury                    </td><td>2016                      </td><td>113                       </td></tr>\n",
       "\t<tr><td>15 - 19                   </td><td>Persons                   </td><td>Employed, worked full-time</td><td>10050                     </td><td>Albury                    </td><td>2016                      </td><td>348                       </td></tr>\n",
       "\t<tr><td>15 - 19                   </td><td>Males                     </td><td>Employed, worked full-time</td><td>10130                     </td><td>Armidale Regional         </td><td>2016                      </td><td>105                       </td></tr>\n",
       "\t<tr><td>15 - 19                   </td><td>Females                   </td><td>Employed, worked full-time</td><td>10130                     </td><td>Armidale Regional         </td><td>2016                      </td><td> 58                       </td></tr>\n",
       "\t<tr><td>15 - 19                   </td><td>Persons                   </td><td>Employed, worked full-time</td><td>10130                     </td><td>Armidale Regional         </td><td>2016                      </td><td>160                       </td></tr>\n",
       "</tbody>\n",
       "</table>\n"
      ],
      "text/latex": [
       "\\begin{tabular}{r|lllllll}\n",
       " Age & Sex & Labour force status & LGA\\_2016 & LGA & Census year & Value\\\\\n",
       "\\hline\n",
       "\t 15 - 19                    & Males                      & Employed, worked full-time & 10050                      & Albury                     & 2016                       & 236                       \\\\\n",
       "\t 15 - 19                    & Females                    & Employed, worked full-time & 10050                      & Albury                     & 2016                       & 113                       \\\\\n",
       "\t 15 - 19                    & Persons                    & Employed, worked full-time & 10050                      & Albury                     & 2016                       & 348                       \\\\\n",
       "\t 15 - 19                    & Males                      & Employed, worked full-time & 10130                      & Armidale Regional          & 2016                       & 105                       \\\\\n",
       "\t 15 - 19                    & Females                    & Employed, worked full-time & 10130                      & Armidale Regional          & 2016                       &  58                       \\\\\n",
       "\t 15 - 19                    & Persons                    & Employed, worked full-time & 10130                      & Armidale Regional          & 2016                       & 160                       \\\\\n",
       "\\end{tabular}\n"
      ],
      "text/markdown": [
       "\n",
       "| Age | Sex | Labour force status | LGA_2016 | LGA | Census year | Value |\n",
       "|---|---|---|---|---|---|---|\n",
       "| 15 - 19                    | Males                      | Employed, worked full-time | 10050                      | Albury                     | 2016                       | 236                        |\n",
       "| 15 - 19                    | Females                    | Employed, worked full-time | 10050                      | Albury                     | 2016                       | 113                        |\n",
       "| 15 - 19                    | Persons                    | Employed, worked full-time | 10050                      | Albury                     | 2016                       | 348                        |\n",
       "| 15 - 19                    | Males                      | Employed, worked full-time | 10130                      | Armidale Regional          | 2016                       | 105                        |\n",
       "| 15 - 19                    | Females                    | Employed, worked full-time | 10130                      | Armidale Regional          | 2016                       |  58                        |\n",
       "| 15 - 19                    | Persons                    | Employed, worked full-time | 10130                      | Armidale Regional          | 2016                       | 160                        |\n",
       "\n"
      ],
      "text/plain": [
       "  Age     Sex     Labour force status        LGA_2016 LGA              \n",
       "1 15 - 19 Males   Employed, worked full-time 10050    Albury           \n",
       "2 15 - 19 Females Employed, worked full-time 10050    Albury           \n",
       "3 15 - 19 Persons Employed, worked full-time 10050    Albury           \n",
       "4 15 - 19 Males   Employed, worked full-time 10130    Armidale Regional\n",
       "5 15 - 19 Females Employed, worked full-time 10130    Armidale Regional\n",
       "6 15 - 19 Persons Employed, worked full-time 10130    Armidale Regional\n",
       "  Census year Value\n",
       "1 2016        236  \n",
       "2 2016        113  \n",
       "3 2016        348  \n",
       "4 2016        105  \n",
       "5 2016         58  \n",
       "6 2016        160  "
      ]
     },
     "metadata": {},
     "output_type": "display_data"
    }
   ],
   "source": [
    "head(input_data$crime)\n",
    "head(input_data$labour)"
   ]
  },
  {
   "cell_type": "code",
   "execution_count": 34,
   "metadata": {},
   "outputs": [
    {
     "name": "stderr",
     "output_type": "stream",
     "text": [
      "Joining, by = \"LGA\"\n",
      "Warning message:\n",
      "\"Column `LGA` joining character vector and factor, coercing into character vector\""
     ]
    },
    {
     "data": {
      "text/html": [
       "<table>\n",
       "<thead><tr><th scope=col>LGA</th><th scope=col>Offence</th><th scope=col>Crim_Count</th><th scope=col>crime_tot_per_lga</th><th scope=col>pop_total</th><th scope=col>crime_rate_per_lga</th><th scope=col>Age</th><th scope=col>Sex</th><th scope=col>Labour force status</th><th scope=col>pop_count</th></tr></thead>\n",
       "<tbody>\n",
       "\t<tr><td>Albury                    </td><td>Murder *                  </td><td>2                         </td><td>6233                      </td><td>51081                     </td><td>0.1220219                 </td><td>15 - 19                   </td><td>Males                     </td><td>Employed, worked full-time</td><td> 236                      </td></tr>\n",
       "\t<tr><td>Albury                    </td><td>Murder *                  </td><td>2                         </td><td>6233                      </td><td>51081                     </td><td>0.1220219                 </td><td>15 - 19                   </td><td>Females                   </td><td>Employed, worked full-time</td><td> 113                      </td></tr>\n",
       "\t<tr><td>Albury                    </td><td>Murder *                  </td><td>2                         </td><td>6233                      </td><td>51081                     </td><td>0.1220219                 </td><td>15 - 19                   </td><td>Persons                   </td><td>Employed, worked full-time</td><td> 348                      </td></tr>\n",
       "\t<tr><td>Albury                    </td><td>Murder *                  </td><td>2                         </td><td>6233                      </td><td>51081                     </td><td>0.1220219                 </td><td>15 - 19                   </td><td>Males                     </td><td>Employed, worked part-time</td><td> 431                      </td></tr>\n",
       "\t<tr><td>Albury                    </td><td>Murder *                  </td><td>2                         </td><td>6233                      </td><td>51081                     </td><td>0.1220219                 </td><td>15 - 19                   </td><td>Females                   </td><td>Employed, worked part-time</td><td> 641                      </td></tr>\n",
       "\t<tr><td>Albury                    </td><td>Murder *                  </td><td>2                         </td><td>6233                      </td><td>51081                     </td><td>0.1220219                 </td><td>15 - 19                   </td><td>Persons                   </td><td>Employed, worked part-time</td><td>1074                      </td></tr>\n",
       "</tbody>\n",
       "</table>\n"
      ],
      "text/latex": [
       "\\begin{tabular}{r|llllllllll}\n",
       " LGA & Offence & Crim\\_Count & crime\\_tot\\_per\\_lga & pop\\_total & crime\\_rate\\_per\\_lga & Age & Sex & Labour force status & pop\\_count\\\\\n",
       "\\hline\n",
       "\t Albury                     & Murder *                   & 2                          & 6233                       & 51081                      & 0.1220219                  & 15 - 19                    & Males                      & Employed, worked full-time &  236                      \\\\\n",
       "\t Albury                     & Murder *                   & 2                          & 6233                       & 51081                      & 0.1220219                  & 15 - 19                    & Females                    & Employed, worked full-time &  113                      \\\\\n",
       "\t Albury                     & Murder *                   & 2                          & 6233                       & 51081                      & 0.1220219                  & 15 - 19                    & Persons                    & Employed, worked full-time &  348                      \\\\\n",
       "\t Albury                     & Murder *                   & 2                          & 6233                       & 51081                      & 0.1220219                  & 15 - 19                    & Males                      & Employed, worked part-time &  431                      \\\\\n",
       "\t Albury                     & Murder *                   & 2                          & 6233                       & 51081                      & 0.1220219                  & 15 - 19                    & Females                    & Employed, worked part-time &  641                      \\\\\n",
       "\t Albury                     & Murder *                   & 2                          & 6233                       & 51081                      & 0.1220219                  & 15 - 19                    & Persons                    & Employed, worked part-time & 1074                      \\\\\n",
       "\\end{tabular}\n"
      ],
      "text/markdown": [
       "\n",
       "| LGA | Offence | Crim_Count | crime_tot_per_lga | pop_total | crime_rate_per_lga | Age | Sex | Labour force status | pop_count |\n",
       "|---|---|---|---|---|---|---|---|---|---|\n",
       "| Albury                     | Murder *                   | 2                          | 6233                       | 51081                      | 0.1220219                  | 15 - 19                    | Males                      | Employed, worked full-time |  236                       |\n",
       "| Albury                     | Murder *                   | 2                          | 6233                       | 51081                      | 0.1220219                  | 15 - 19                    | Females                    | Employed, worked full-time |  113                       |\n",
       "| Albury                     | Murder *                   | 2                          | 6233                       | 51081                      | 0.1220219                  | 15 - 19                    | Persons                    | Employed, worked full-time |  348                       |\n",
       "| Albury                     | Murder *                   | 2                          | 6233                       | 51081                      | 0.1220219                  | 15 - 19                    | Males                      | Employed, worked part-time |  431                       |\n",
       "| Albury                     | Murder *                   | 2                          | 6233                       | 51081                      | 0.1220219                  | 15 - 19                    | Females                    | Employed, worked part-time |  641                       |\n",
       "| Albury                     | Murder *                   | 2                          | 6233                       | 51081                      | 0.1220219                  | 15 - 19                    | Persons                    | Employed, worked part-time | 1074                       |\n",
       "\n"
      ],
      "text/plain": [
       "  LGA    Offence  Crim_Count crime_tot_per_lga pop_total crime_rate_per_lga\n",
       "1 Albury Murder * 2          6233              51081     0.1220219         \n",
       "2 Albury Murder * 2          6233              51081     0.1220219         \n",
       "3 Albury Murder * 2          6233              51081     0.1220219         \n",
       "4 Albury Murder * 2          6233              51081     0.1220219         \n",
       "5 Albury Murder * 2          6233              51081     0.1220219         \n",
       "6 Albury Murder * 2          6233              51081     0.1220219         \n",
       "  Age     Sex     Labour force status        pop_count\n",
       "1 15 - 19 Males   Employed, worked full-time  236     \n",
       "2 15 - 19 Females Employed, worked full-time  113     \n",
       "3 15 - 19 Persons Employed, worked full-time  348     \n",
       "4 15 - 19 Males   Employed, worked part-time  431     \n",
       "5 15 - 19 Females Employed, worked part-time  641     \n",
       "6 15 - 19 Persons Employed, worked part-time 1074     "
      ]
     },
     "metadata": {},
     "output_type": "display_data"
    },
    {
     "name": "stdout",
     "output_type": "stream",
     "text": [
      "Observations: 2,511,310\n",
      "Variables: 10\n",
      "Groups: LGA [130]\n",
      "$ LGA                   \u001b[3m\u001b[90m<chr>\u001b[39m\u001b[23m \"Albury\", \"Albury\", \"Albury\", \"Albury\", \"Albu...\n",
      "$ Offence               \u001b[3m\u001b[90m<fct>\u001b[39m\u001b[23m Murder *, Murder *, Murder *, Murder *, Murde...\n",
      "$ Crim_Count            \u001b[3m\u001b[90m<int>\u001b[39m\u001b[23m 2, 2, 2, 2, 2, 2, 2, 2, 2, 2, 2, 2, 2, 2, 2, ...\n",
      "$ crime_tot_per_lga     \u001b[3m\u001b[90m<int>\u001b[39m\u001b[23m 6233, 6233, 6233, 6233, 6233, 6233, 6233, 623...\n",
      "$ pop_total             \u001b[3m\u001b[90m<int>\u001b[39m\u001b[23m 51081, 51081, 51081, 51081, 51081, 51081, 510...\n",
      "$ crime_rate_per_lga    \u001b[3m\u001b[90m<dbl>\u001b[39m\u001b[23m 0.1220219, 0.1220219, 0.1220219, 0.1220219, 0...\n",
      "$ Age                   \u001b[3m\u001b[90m<fct>\u001b[39m\u001b[23m 15 - 19, 15 - 19, 15 - 19, 15 - 19, 15 - 19, ...\n",
      "$ Sex                   \u001b[3m\u001b[90m<fct>\u001b[39m\u001b[23m Males, Females, Persons, Males, Females, Pers...\n",
      "$ `Labour force status` \u001b[3m\u001b[90m<fct>\u001b[39m\u001b[23m \"Employed, worked full-time\", \"Employed, work...\n",
      "$ pop_count             \u001b[3m\u001b[90m<int>\u001b[39m\u001b[23m 236, 113, 348, 431, 641, 1074, 27, 26, 59, 22...\n"
     ]
    }
   ],
   "source": [
    "joined <- input_data$crime %>%\n",
    "    left_join(input_data$labour %>% select(-LGA_2016, -`Census year`)) %>%\n",
    "    rename(pop_count = Value)\n",
    "\n",
    "head(joined)\n",
    "glimpse(joined)"
   ]
  },
  {
   "cell_type": "code",
   "execution_count": 35,
   "metadata": {},
   "outputs": [],
   "source": [
    "out_filename = \"joined_crime_labour.csv\"\n",
    "write.csv(joined, paste(output_path, out_filename, sep = \"/\"), row.names = FALSE)"
   ]
  },
  {
   "cell_type": "markdown",
   "metadata": {},
   "source": [
    "# Joining `crime` and `industry_employment`"
   ]
  },
  {
   "cell_type": "code",
   "execution_count": 36,
   "metadata": {},
   "outputs": [
    {
     "data": {
      "text/html": [
       "<table>\n",
       "<thead><tr><th scope=col>LGA</th><th scope=col>Offence</th><th scope=col>Crim_Count</th><th scope=col>crime_tot_per_lga</th><th scope=col>pop_total</th><th scope=col>crime_rate_per_lga</th></tr></thead>\n",
       "<tbody>\n",
       "\t<tr><td>Albury                               </td><td>Murder *                             </td><td>  2                                  </td><td>6233                                 </td><td>51081                                </td><td>0.1220219                            </td></tr>\n",
       "\t<tr><td>Albury                               </td><td>Attempted murder                     </td><td>  1                                  </td><td>6233                                 </td><td>51081                                </td><td>0.1220219                            </td></tr>\n",
       "\t<tr><td>Albury                               </td><td>Murder accessory, conspiracy         </td><td>  0                                  </td><td>6233                                 </td><td>51081                                </td><td>0.1220219                            </td></tr>\n",
       "\t<tr><td>Albury                               </td><td>Manslaughter *                       </td><td>  0                                  </td><td>6233                                 </td><td>51081                                </td><td>0.1220219                            </td></tr>\n",
       "\t<tr><td>Albury                               </td><td>Domestic violence related assault    </td><td>284                                  </td><td>6233                                 </td><td>51081                                </td><td>0.1220219                            </td></tr>\n",
       "\t<tr><td>Albury                               </td><td>Non-domestic violence related assault</td><td>296                                  </td><td>6233                                 </td><td>51081                                </td><td>0.1220219                            </td></tr>\n",
       "</tbody>\n",
       "</table>\n"
      ],
      "text/latex": [
       "\\begin{tabular}{r|llllll}\n",
       " LGA & Offence & Crim\\_Count & crime\\_tot\\_per\\_lga & pop\\_total & crime\\_rate\\_per\\_lga\\\\\n",
       "\\hline\n",
       "\t Albury                                & Murder *                              &   2                                   & 6233                                  & 51081                                 & 0.1220219                            \\\\\n",
       "\t Albury                                & Attempted murder                      &   1                                   & 6233                                  & 51081                                 & 0.1220219                            \\\\\n",
       "\t Albury                                & Murder accessory, conspiracy          &   0                                   & 6233                                  & 51081                                 & 0.1220219                            \\\\\n",
       "\t Albury                                & Manslaughter *                        &   0                                   & 6233                                  & 51081                                 & 0.1220219                            \\\\\n",
       "\t Albury                                & Domestic violence related assault     & 284                                   & 6233                                  & 51081                                 & 0.1220219                            \\\\\n",
       "\t Albury                                & Non-domestic violence related assault & 296                                   & 6233                                  & 51081                                 & 0.1220219                            \\\\\n",
       "\\end{tabular}\n"
      ],
      "text/markdown": [
       "\n",
       "| LGA | Offence | Crim_Count | crime_tot_per_lga | pop_total | crime_rate_per_lga |\n",
       "|---|---|---|---|---|---|\n",
       "| Albury                                | Murder *                              |   2                                   | 6233                                  | 51081                                 | 0.1220219                             |\n",
       "| Albury                                | Attempted murder                      |   1                                   | 6233                                  | 51081                                 | 0.1220219                             |\n",
       "| Albury                                | Murder accessory, conspiracy          |   0                                   | 6233                                  | 51081                                 | 0.1220219                             |\n",
       "| Albury                                | Manslaughter *                        |   0                                   | 6233                                  | 51081                                 | 0.1220219                             |\n",
       "| Albury                                | Domestic violence related assault     | 284                                   | 6233                                  | 51081                                 | 0.1220219                             |\n",
       "| Albury                                | Non-domestic violence related assault | 296                                   | 6233                                  | 51081                                 | 0.1220219                             |\n",
       "\n"
      ],
      "text/plain": [
       "  LGA    Offence                               Crim_Count crime_tot_per_lga\n",
       "1 Albury Murder *                                2        6233             \n",
       "2 Albury Attempted murder                        1        6233             \n",
       "3 Albury Murder accessory, conspiracy            0        6233             \n",
       "4 Albury Manslaughter *                          0        6233             \n",
       "5 Albury Domestic violence related assault     284        6233             \n",
       "6 Albury Non-domestic violence related assault 296        6233             \n",
       "  pop_total crime_rate_per_lga\n",
       "1 51081     0.1220219         \n",
       "2 51081     0.1220219         \n",
       "3 51081     0.1220219         \n",
       "4 51081     0.1220219         \n",
       "5 51081     0.1220219         \n",
       "6 51081     0.1220219         "
      ]
     },
     "metadata": {},
     "output_type": "display_data"
    },
    {
     "data": {
      "text/html": [
       "<table>\n",
       "<thead><tr><th scope=col>X1</th><th scope=col>LGA</th><th scope=col>Pop_Dens_km2</th></tr></thead>\n",
       "<tbody>\n",
       "\t<tr><td>1                </td><td>Albury           </td><td>170.5            </td></tr>\n",
       "\t<tr><td>2                </td><td>Armidale Regional</td><td>  3.5            </td></tr>\n",
       "\t<tr><td>3                </td><td>Ballina          </td><td> 88.7            </td></tr>\n",
       "\t<tr><td>4                </td><td>Balranald        </td><td>  0.1            </td></tr>\n",
       "\t<tr><td>5                </td><td>Bathurst Regional</td><td> 11.1            </td></tr>\n",
       "\t<tr><td>6                </td><td>Bega Valley      </td><td>  5.4            </td></tr>\n",
       "</tbody>\n",
       "</table>\n"
      ],
      "text/latex": [
       "\\begin{tabular}{r|lll}\n",
       " X1 & LGA & Pop\\_Dens\\_km2\\\\\n",
       "\\hline\n",
       "\t 1                 & Albury            & 170.5            \\\\\n",
       "\t 2                 & Armidale Regional &   3.5            \\\\\n",
       "\t 3                 & Ballina           &  88.7            \\\\\n",
       "\t 4                 & Balranald         &   0.1            \\\\\n",
       "\t 5                 & Bathurst Regional &  11.1            \\\\\n",
       "\t 6                 & Bega Valley       &   5.4            \\\\\n",
       "\\end{tabular}\n"
      ],
      "text/markdown": [
       "\n",
       "| X1 | LGA | Pop_Dens_km2 |\n",
       "|---|---|---|\n",
       "| 1                 | Albury            | 170.5             |\n",
       "| 2                 | Armidale Regional |   3.5             |\n",
       "| 3                 | Ballina           |  88.7             |\n",
       "| 4                 | Balranald         |   0.1             |\n",
       "| 5                 | Bathurst Regional |  11.1             |\n",
       "| 6                 | Bega Valley       |   5.4             |\n",
       "\n"
      ],
      "text/plain": [
       "  X1 LGA               Pop_Dens_km2\n",
       "1 1  Albury            170.5       \n",
       "2 2  Armidale Regional   3.5       \n",
       "3 3  Ballina            88.7       \n",
       "4 4  Balranald           0.1       \n",
       "5 5  Bathurst Regional  11.1       \n",
       "6 6  Bega Valley         5.4       "
      ]
     },
     "metadata": {},
     "output_type": "display_data"
    }
   ],
   "source": [
    "head(input_data$crime)\n",
    "head(input_data$pop_dens)"
   ]
  },
  {
   "cell_type": "code",
   "execution_count": 37,
   "metadata": {},
   "outputs": [
    {
     "name": "stderr",
     "output_type": "stream",
     "text": [
      "Joining, by = \"LGA\"\n",
      "Warning message:\n",
      "\"Column `LGA` joining character vector and factor, coercing into character vector\""
     ]
    },
    {
     "data": {
      "text/html": [
       "<table>\n",
       "<thead><tr><th scope=col>LGA</th><th scope=col>Offence</th><th scope=col>Crim_Count</th><th scope=col>crime_tot_per_lga</th><th scope=col>pop_total</th><th scope=col>crime_rate_per_lga</th><th scope=col>Pop_Dens_km2</th></tr></thead>\n",
       "<tbody>\n",
       "\t<tr><td>Albury                               </td><td>Murder *                             </td><td>  2                                  </td><td>6233                                 </td><td>51081                                </td><td>0.1220219                            </td><td>170.5                                </td></tr>\n",
       "\t<tr><td>Albury                               </td><td>Attempted murder                     </td><td>  1                                  </td><td>6233                                 </td><td>51081                                </td><td>0.1220219                            </td><td>170.5                                </td></tr>\n",
       "\t<tr><td>Albury                               </td><td>Murder accessory, conspiracy         </td><td>  0                                  </td><td>6233                                 </td><td>51081                                </td><td>0.1220219                            </td><td>170.5                                </td></tr>\n",
       "\t<tr><td>Albury                               </td><td>Manslaughter *                       </td><td>  0                                  </td><td>6233                                 </td><td>51081                                </td><td>0.1220219                            </td><td>170.5                                </td></tr>\n",
       "\t<tr><td>Albury                               </td><td>Domestic violence related assault    </td><td>284                                  </td><td>6233                                 </td><td>51081                                </td><td>0.1220219                            </td><td>170.5                                </td></tr>\n",
       "\t<tr><td>Albury                               </td><td>Non-domestic violence related assault</td><td>296                                  </td><td>6233                                 </td><td>51081                                </td><td>0.1220219                            </td><td>170.5                                </td></tr>\n",
       "</tbody>\n",
       "</table>\n"
      ],
      "text/latex": [
       "\\begin{tabular}{r|lllllll}\n",
       " LGA & Offence & Crim\\_Count & crime\\_tot\\_per\\_lga & pop\\_total & crime\\_rate\\_per\\_lga & Pop\\_Dens\\_km2\\\\\n",
       "\\hline\n",
       "\t Albury                                & Murder *                              &   2                                   & 6233                                  & 51081                                 & 0.1220219                             & 170.5                                \\\\\n",
       "\t Albury                                & Attempted murder                      &   1                                   & 6233                                  & 51081                                 & 0.1220219                             & 170.5                                \\\\\n",
       "\t Albury                                & Murder accessory, conspiracy          &   0                                   & 6233                                  & 51081                                 & 0.1220219                             & 170.5                                \\\\\n",
       "\t Albury                                & Manslaughter *                        &   0                                   & 6233                                  & 51081                                 & 0.1220219                             & 170.5                                \\\\\n",
       "\t Albury                                & Domestic violence related assault     & 284                                   & 6233                                  & 51081                                 & 0.1220219                             & 170.5                                \\\\\n",
       "\t Albury                                & Non-domestic violence related assault & 296                                   & 6233                                  & 51081                                 & 0.1220219                             & 170.5                                \\\\\n",
       "\\end{tabular}\n"
      ],
      "text/markdown": [
       "\n",
       "| LGA | Offence | Crim_Count | crime_tot_per_lga | pop_total | crime_rate_per_lga | Pop_Dens_km2 |\n",
       "|---|---|---|---|---|---|---|\n",
       "| Albury                                | Murder *                              |   2                                   | 6233                                  | 51081                                 | 0.1220219                             | 170.5                                 |\n",
       "| Albury                                | Attempted murder                      |   1                                   | 6233                                  | 51081                                 | 0.1220219                             | 170.5                                 |\n",
       "| Albury                                | Murder accessory, conspiracy          |   0                                   | 6233                                  | 51081                                 | 0.1220219                             | 170.5                                 |\n",
       "| Albury                                | Manslaughter *                        |   0                                   | 6233                                  | 51081                                 | 0.1220219                             | 170.5                                 |\n",
       "| Albury                                | Domestic violence related assault     | 284                                   | 6233                                  | 51081                                 | 0.1220219                             | 170.5                                 |\n",
       "| Albury                                | Non-domestic violence related assault | 296                                   | 6233                                  | 51081                                 | 0.1220219                             | 170.5                                 |\n",
       "\n"
      ],
      "text/plain": [
       "  LGA    Offence                               Crim_Count crime_tot_per_lga\n",
       "1 Albury Murder *                                2        6233             \n",
       "2 Albury Attempted murder                        1        6233             \n",
       "3 Albury Murder accessory, conspiracy            0        6233             \n",
       "4 Albury Manslaughter *                          0        6233             \n",
       "5 Albury Domestic violence related assault     284        6233             \n",
       "6 Albury Non-domestic violence related assault 296        6233             \n",
       "  pop_total crime_rate_per_lga Pop_Dens_km2\n",
       "1 51081     0.1220219          170.5       \n",
       "2 51081     0.1220219          170.5       \n",
       "3 51081     0.1220219          170.5       \n",
       "4 51081     0.1220219          170.5       \n",
       "5 51081     0.1220219          170.5       \n",
       "6 51081     0.1220219          170.5       "
      ]
     },
     "metadata": {},
     "output_type": "display_data"
    },
    {
     "name": "stdout",
     "output_type": "stream",
     "text": [
      "Observations: 8,060\n",
      "Variables: 7\n",
      "Groups: LGA [130]\n",
      "$ LGA                \u001b[3m\u001b[90m<chr>\u001b[39m\u001b[23m \"Albury\", \"Albury\", \"Albury\", \"Albury\", \"Albury\"...\n",
      "$ Offence            \u001b[3m\u001b[90m<fct>\u001b[39m\u001b[23m \"Murder *\", \"Attempted murder\", \"Murder accessor...\n",
      "$ Crim_Count         \u001b[3m\u001b[90m<int>\u001b[39m\u001b[23m 2, 1, 0, 0, 284, 296, 25, 47, 68, 2, 12, 3, 6, 0...\n",
      "$ crime_tot_per_lga  \u001b[3m\u001b[90m<int>\u001b[39m\u001b[23m 6233, 6233, 6233, 6233, 6233, 6233, 6233, 6233, ...\n",
      "$ pop_total          \u001b[3m\u001b[90m<int>\u001b[39m\u001b[23m 51081, 51081, 51081, 51081, 51081, 51081, 51081,...\n",
      "$ crime_rate_per_lga \u001b[3m\u001b[90m<dbl>\u001b[39m\u001b[23m 0.1220219, 0.1220219, 0.1220219, 0.1220219, 0.12...\n",
      "$ Pop_Dens_km2       \u001b[3m\u001b[90m<dbl>\u001b[39m\u001b[23m 170.5, 170.5, 170.5, 170.5, 170.5, 170.5, 170.5,...\n"
     ]
    }
   ],
   "source": [
    "joined <- input_data$crime %>%\n",
    "    left_join(input_data$pop_dens %>% select(-X1))\n",
    "\n",
    "head(joined)\n",
    "glimpse(joined)"
   ]
  },
  {
   "cell_type": "code",
   "execution_count": 38,
   "metadata": {},
   "outputs": [],
   "source": [
    "out_filename = \"joined_crime_popdensity.csv\"\n",
    "write.csv(joined, paste(output_path, out_filename, sep = \"/\"), row.names = FALSE)"
   ]
  },
  {
   "cell_type": "markdown",
   "metadata": {},
   "source": [
    "# Joining `crime` and `seifa`"
   ]
  },
  {
   "cell_type": "code",
   "execution_count": 39,
   "metadata": {},
   "outputs": [
    {
     "data": {
      "text/html": [
       "<table>\n",
       "<thead><tr><th scope=col>LGA</th><th scope=col>Offence</th><th scope=col>Crim_Count</th><th scope=col>crime_tot_per_lga</th><th scope=col>pop_total</th><th scope=col>crime_rate_per_lga</th></tr></thead>\n",
       "<tbody>\n",
       "\t<tr><td>Albury                               </td><td>Murder *                             </td><td>  2                                  </td><td>6233                                 </td><td>51081                                </td><td>0.1220219                            </td></tr>\n",
       "\t<tr><td>Albury                               </td><td>Attempted murder                     </td><td>  1                                  </td><td>6233                                 </td><td>51081                                </td><td>0.1220219                            </td></tr>\n",
       "\t<tr><td>Albury                               </td><td>Murder accessory, conspiracy         </td><td>  0                                  </td><td>6233                                 </td><td>51081                                </td><td>0.1220219                            </td></tr>\n",
       "\t<tr><td>Albury                               </td><td>Manslaughter *                       </td><td>  0                                  </td><td>6233                                 </td><td>51081                                </td><td>0.1220219                            </td></tr>\n",
       "\t<tr><td>Albury                               </td><td>Domestic violence related assault    </td><td>284                                  </td><td>6233                                 </td><td>51081                                </td><td>0.1220219                            </td></tr>\n",
       "\t<tr><td>Albury                               </td><td>Non-domestic violence related assault</td><td>296                                  </td><td>6233                                 </td><td>51081                                </td><td>0.1220219                            </td></tr>\n",
       "</tbody>\n",
       "</table>\n"
      ],
      "text/latex": [
       "\\begin{tabular}{r|llllll}\n",
       " LGA & Offence & Crim\\_Count & crime\\_tot\\_per\\_lga & pop\\_total & crime\\_rate\\_per\\_lga\\\\\n",
       "\\hline\n",
       "\t Albury                                & Murder *                              &   2                                   & 6233                                  & 51081                                 & 0.1220219                            \\\\\n",
       "\t Albury                                & Attempted murder                      &   1                                   & 6233                                  & 51081                                 & 0.1220219                            \\\\\n",
       "\t Albury                                & Murder accessory, conspiracy          &   0                                   & 6233                                  & 51081                                 & 0.1220219                            \\\\\n",
       "\t Albury                                & Manslaughter *                        &   0                                   & 6233                                  & 51081                                 & 0.1220219                            \\\\\n",
       "\t Albury                                & Domestic violence related assault     & 284                                   & 6233                                  & 51081                                 & 0.1220219                            \\\\\n",
       "\t Albury                                & Non-domestic violence related assault & 296                                   & 6233                                  & 51081                                 & 0.1220219                            \\\\\n",
       "\\end{tabular}\n"
      ],
      "text/markdown": [
       "\n",
       "| LGA | Offence | Crim_Count | crime_tot_per_lga | pop_total | crime_rate_per_lga |\n",
       "|---|---|---|---|---|---|\n",
       "| Albury                                | Murder *                              |   2                                   | 6233                                  | 51081                                 | 0.1220219                             |\n",
       "| Albury                                | Attempted murder                      |   1                                   | 6233                                  | 51081                                 | 0.1220219                             |\n",
       "| Albury                                | Murder accessory, conspiracy          |   0                                   | 6233                                  | 51081                                 | 0.1220219                             |\n",
       "| Albury                                | Manslaughter *                        |   0                                   | 6233                                  | 51081                                 | 0.1220219                             |\n",
       "| Albury                                | Domestic violence related assault     | 284                                   | 6233                                  | 51081                                 | 0.1220219                             |\n",
       "| Albury                                | Non-domestic violence related assault | 296                                   | 6233                                  | 51081                                 | 0.1220219                             |\n",
       "\n"
      ],
      "text/plain": [
       "  LGA    Offence                               Crim_Count crime_tot_per_lga\n",
       "1 Albury Murder *                                2        6233             \n",
       "2 Albury Attempted murder                        1        6233             \n",
       "3 Albury Murder accessory, conspiracy            0        6233             \n",
       "4 Albury Manslaughter *                          0        6233             \n",
       "5 Albury Domestic violence related assault     284        6233             \n",
       "6 Albury Non-domestic violence related assault 296        6233             \n",
       "  pop_total crime_rate_per_lga\n",
       "1 51081     0.1220219         \n",
       "2 51081     0.1220219         \n",
       "3 51081     0.1220219         \n",
       "4 51081     0.1220219         \n",
       "5 51081     0.1220219         \n",
       "6 51081     0.1220219         "
      ]
     },
     "metadata": {},
     "output_type": "display_data"
    },
    {
     "data": {
      "text/html": [
       "<table>\n",
       "<thead><tr><th scope=col>X1</th><th scope=col>LGA</th><th scope=col>Value</th></tr></thead>\n",
       "<tbody>\n",
       "\t<tr><td>1                </td><td>Albury           </td><td>964              </td></tr>\n",
       "\t<tr><td>2                </td><td>Armidale Dumaresq</td><td>954              </td></tr>\n",
       "\t<tr><td>3                </td><td>Ashfield         </td><td>962              </td></tr>\n",
       "\t<tr><td>4                </td><td>Auburn           </td><td>931              </td></tr>\n",
       "\t<tr><td>5                </td><td>Ballina          </td><td>986              </td></tr>\n",
       "\t<tr><td>6                </td><td>Balranald        </td><td>969              </td></tr>\n",
       "</tbody>\n",
       "</table>\n"
      ],
      "text/latex": [
       "\\begin{tabular}{r|lll}\n",
       " X1 & LGA & Value\\\\\n",
       "\\hline\n",
       "\t 1                 & Albury            & 964              \\\\\n",
       "\t 2                 & Armidale Dumaresq & 954              \\\\\n",
       "\t 3                 & Ashfield          & 962              \\\\\n",
       "\t 4                 & Auburn            & 931              \\\\\n",
       "\t 5                 & Ballina           & 986              \\\\\n",
       "\t 6                 & Balranald         & 969              \\\\\n",
       "\\end{tabular}\n"
      ],
      "text/markdown": [
       "\n",
       "| X1 | LGA | Value |\n",
       "|---|---|---|\n",
       "| 1                 | Albury            | 964               |\n",
       "| 2                 | Armidale Dumaresq | 954               |\n",
       "| 3                 | Ashfield          | 962               |\n",
       "| 4                 | Auburn            | 931               |\n",
       "| 5                 | Ballina           | 986               |\n",
       "| 6                 | Balranald         | 969               |\n",
       "\n"
      ],
      "text/plain": [
       "  X1 LGA               Value\n",
       "1 1  Albury            964  \n",
       "2 2  Armidale Dumaresq 954  \n",
       "3 3  Ashfield          962  \n",
       "4 4  Auburn            931  \n",
       "5 5  Ballina           986  \n",
       "6 6  Balranald         969  "
      ]
     },
     "metadata": {},
     "output_type": "display_data"
    }
   ],
   "source": [
    "head(input_data$crime)\n",
    "head(input_data$seifa)"
   ]
  },
  {
   "cell_type": "code",
   "execution_count": 40,
   "metadata": {},
   "outputs": [
    {
     "name": "stderr",
     "output_type": "stream",
     "text": [
      "Joining, by = \"LGA\"\n",
      "Warning message:\n",
      "\"Column `LGA` joining character vector and factor, coercing into character vector\""
     ]
    },
    {
     "data": {
      "text/html": [
       "<table>\n",
       "<thead><tr><th scope=col>LGA</th><th scope=col>Offence</th><th scope=col>Crim_Count</th><th scope=col>crime_tot_per_lga</th><th scope=col>pop_total</th><th scope=col>crime_rate_per_lga</th><th scope=col>seifa</th></tr></thead>\n",
       "<tbody>\n",
       "\t<tr><td>Albury                               </td><td>Murder *                             </td><td>  2                                  </td><td>6233                                 </td><td>51081                                </td><td>0.1220219                            </td><td>964                                  </td></tr>\n",
       "\t<tr><td>Albury                               </td><td>Attempted murder                     </td><td>  1                                  </td><td>6233                                 </td><td>51081                                </td><td>0.1220219                            </td><td>964                                  </td></tr>\n",
       "\t<tr><td>Albury                               </td><td>Murder accessory, conspiracy         </td><td>  0                                  </td><td>6233                                 </td><td>51081                                </td><td>0.1220219                            </td><td>964                                  </td></tr>\n",
       "\t<tr><td>Albury                               </td><td>Manslaughter *                       </td><td>  0                                  </td><td>6233                                 </td><td>51081                                </td><td>0.1220219                            </td><td>964                                  </td></tr>\n",
       "\t<tr><td>Albury                               </td><td>Domestic violence related assault    </td><td>284                                  </td><td>6233                                 </td><td>51081                                </td><td>0.1220219                            </td><td>964                                  </td></tr>\n",
       "\t<tr><td>Albury                               </td><td>Non-domestic violence related assault</td><td>296                                  </td><td>6233                                 </td><td>51081                                </td><td>0.1220219                            </td><td>964                                  </td></tr>\n",
       "</tbody>\n",
       "</table>\n"
      ],
      "text/latex": [
       "\\begin{tabular}{r|lllllll}\n",
       " LGA & Offence & Crim\\_Count & crime\\_tot\\_per\\_lga & pop\\_total & crime\\_rate\\_per\\_lga & seifa\\\\\n",
       "\\hline\n",
       "\t Albury                                & Murder *                              &   2                                   & 6233                                  & 51081                                 & 0.1220219                             & 964                                  \\\\\n",
       "\t Albury                                & Attempted murder                      &   1                                   & 6233                                  & 51081                                 & 0.1220219                             & 964                                  \\\\\n",
       "\t Albury                                & Murder accessory, conspiracy          &   0                                   & 6233                                  & 51081                                 & 0.1220219                             & 964                                  \\\\\n",
       "\t Albury                                & Manslaughter *                        &   0                                   & 6233                                  & 51081                                 & 0.1220219                             & 964                                  \\\\\n",
       "\t Albury                                & Domestic violence related assault     & 284                                   & 6233                                  & 51081                                 & 0.1220219                             & 964                                  \\\\\n",
       "\t Albury                                & Non-domestic violence related assault & 296                                   & 6233                                  & 51081                                 & 0.1220219                             & 964                                  \\\\\n",
       "\\end{tabular}\n"
      ],
      "text/markdown": [
       "\n",
       "| LGA | Offence | Crim_Count | crime_tot_per_lga | pop_total | crime_rate_per_lga | seifa |\n",
       "|---|---|---|---|---|---|---|\n",
       "| Albury                                | Murder *                              |   2                                   | 6233                                  | 51081                                 | 0.1220219                             | 964                                   |\n",
       "| Albury                                | Attempted murder                      |   1                                   | 6233                                  | 51081                                 | 0.1220219                             | 964                                   |\n",
       "| Albury                                | Murder accessory, conspiracy          |   0                                   | 6233                                  | 51081                                 | 0.1220219                             | 964                                   |\n",
       "| Albury                                | Manslaughter *                        |   0                                   | 6233                                  | 51081                                 | 0.1220219                             | 964                                   |\n",
       "| Albury                                | Domestic violence related assault     | 284                                   | 6233                                  | 51081                                 | 0.1220219                             | 964                                   |\n",
       "| Albury                                | Non-domestic violence related assault | 296                                   | 6233                                  | 51081                                 | 0.1220219                             | 964                                   |\n",
       "\n"
      ],
      "text/plain": [
       "  LGA    Offence                               Crim_Count crime_tot_per_lga\n",
       "1 Albury Murder *                                2        6233             \n",
       "2 Albury Attempted murder                        1        6233             \n",
       "3 Albury Murder accessory, conspiracy            0        6233             \n",
       "4 Albury Manslaughter *                          0        6233             \n",
       "5 Albury Domestic violence related assault     284        6233             \n",
       "6 Albury Non-domestic violence related assault 296        6233             \n",
       "  pop_total crime_rate_per_lga seifa\n",
       "1 51081     0.1220219          964  \n",
       "2 51081     0.1220219          964  \n",
       "3 51081     0.1220219          964  \n",
       "4 51081     0.1220219          964  \n",
       "5 51081     0.1220219          964  \n",
       "6 51081     0.1220219          964  "
      ]
     },
     "metadata": {},
     "output_type": "display_data"
    },
    {
     "name": "stdout",
     "output_type": "stream",
     "text": [
      "Observations: 8,122\n",
      "Variables: 7\n",
      "Groups: LGA [130]\n",
      "$ LGA                \u001b[3m\u001b[90m<chr>\u001b[39m\u001b[23m \"Albury\", \"Albury\", \"Albury\", \"Albury\", \"Albury\"...\n",
      "$ Offence            \u001b[3m\u001b[90m<fct>\u001b[39m\u001b[23m \"Murder *\", \"Attempted murder\", \"Murder accessor...\n",
      "$ Crim_Count         \u001b[3m\u001b[90m<int>\u001b[39m\u001b[23m 2, 1, 0, 0, 284, 296, 25, 47, 68, 2, 12, 3, 6, 0...\n",
      "$ crime_tot_per_lga  \u001b[3m\u001b[90m<int>\u001b[39m\u001b[23m 6233, 6233, 6233, 6233, 6233, 6233, 6233, 6233, ...\n",
      "$ pop_total          \u001b[3m\u001b[90m<int>\u001b[39m\u001b[23m 51081, 51081, 51081, 51081, 51081, 51081, 51081,...\n",
      "$ crime_rate_per_lga \u001b[3m\u001b[90m<dbl>\u001b[39m\u001b[23m 0.1220219, 0.1220219, 0.1220219, 0.1220219, 0.12...\n",
      "$ seifa              \u001b[3m\u001b[90m<int>\u001b[39m\u001b[23m 964, 964, 964, 964, 964, 964, 964, 964, 964, 964...\n"
     ]
    }
   ],
   "source": [
    "joined <- input_data$crime %>%\n",
    "    left_join(input_data$seifa %>% select(-X1)) %>%\n",
    "    rename(seifa = Value)\n",
    "\n",
    "head(joined)\n",
    "glimpse(joined)"
   ]
  },
  {
   "cell_type": "code",
   "execution_count": 41,
   "metadata": {},
   "outputs": [],
   "source": [
    "out_filename = \"joined_crime_seifa.csv\"\n",
    "write.csv(joined, paste(output_path, out_filename, sep = \"/\"), row.names = FALSE)"
   ]
  },
  {
   "cell_type": "markdown",
   "metadata": {},
   "source": [
    "# Joining `crime` and `transport`"
   ]
  },
  {
   "cell_type": "code",
   "execution_count": 42,
   "metadata": {},
   "outputs": [
    {
     "data": {
      "text/html": [
       "<table>\n",
       "<thead><tr><th scope=col>LGA</th><th scope=col>Offence</th><th scope=col>Crim_Count</th><th scope=col>crime_tot_per_lga</th><th scope=col>pop_total</th><th scope=col>crime_rate_per_lga</th></tr></thead>\n",
       "<tbody>\n",
       "\t<tr><td>Albury                               </td><td>Murder *                             </td><td>  2                                  </td><td>6233                                 </td><td>51081                                </td><td>0.1220219                            </td></tr>\n",
       "\t<tr><td>Albury                               </td><td>Attempted murder                     </td><td>  1                                  </td><td>6233                                 </td><td>51081                                </td><td>0.1220219                            </td></tr>\n",
       "\t<tr><td>Albury                               </td><td>Murder accessory, conspiracy         </td><td>  0                                  </td><td>6233                                 </td><td>51081                                </td><td>0.1220219                            </td></tr>\n",
       "\t<tr><td>Albury                               </td><td>Manslaughter *                       </td><td>  0                                  </td><td>6233                                 </td><td>51081                                </td><td>0.1220219                            </td></tr>\n",
       "\t<tr><td>Albury                               </td><td>Domestic violence related assault    </td><td>284                                  </td><td>6233                                 </td><td>51081                                </td><td>0.1220219                            </td></tr>\n",
       "\t<tr><td>Albury                               </td><td>Non-domestic violence related assault</td><td>296                                  </td><td>6233                                 </td><td>51081                                </td><td>0.1220219                            </td></tr>\n",
       "</tbody>\n",
       "</table>\n"
      ],
      "text/latex": [
       "\\begin{tabular}{r|llllll}\n",
       " LGA & Offence & Crim\\_Count & crime\\_tot\\_per\\_lga & pop\\_total & crime\\_rate\\_per\\_lga\\\\\n",
       "\\hline\n",
       "\t Albury                                & Murder *                              &   2                                   & 6233                                  & 51081                                 & 0.1220219                            \\\\\n",
       "\t Albury                                & Attempted murder                      &   1                                   & 6233                                  & 51081                                 & 0.1220219                            \\\\\n",
       "\t Albury                                & Murder accessory, conspiracy          &   0                                   & 6233                                  & 51081                                 & 0.1220219                            \\\\\n",
       "\t Albury                                & Manslaughter *                        &   0                                   & 6233                                  & 51081                                 & 0.1220219                            \\\\\n",
       "\t Albury                                & Domestic violence related assault     & 284                                   & 6233                                  & 51081                                 & 0.1220219                            \\\\\n",
       "\t Albury                                & Non-domestic violence related assault & 296                                   & 6233                                  & 51081                                 & 0.1220219                            \\\\\n",
       "\\end{tabular}\n"
      ],
      "text/markdown": [
       "\n",
       "| LGA | Offence | Crim_Count | crime_tot_per_lga | pop_total | crime_rate_per_lga |\n",
       "|---|---|---|---|---|---|\n",
       "| Albury                                | Murder *                              |   2                                   | 6233                                  | 51081                                 | 0.1220219                             |\n",
       "| Albury                                | Attempted murder                      |   1                                   | 6233                                  | 51081                                 | 0.1220219                             |\n",
       "| Albury                                | Murder accessory, conspiracy          |   0                                   | 6233                                  | 51081                                 | 0.1220219                             |\n",
       "| Albury                                | Manslaughter *                        |   0                                   | 6233                                  | 51081                                 | 0.1220219                             |\n",
       "| Albury                                | Domestic violence related assault     | 284                                   | 6233                                  | 51081                                 | 0.1220219                             |\n",
       "| Albury                                | Non-domestic violence related assault | 296                                   | 6233                                  | 51081                                 | 0.1220219                             |\n",
       "\n"
      ],
      "text/plain": [
       "  LGA    Offence                               Crim_Count crime_tot_per_lga\n",
       "1 Albury Murder *                                2        6233             \n",
       "2 Albury Attempted murder                        1        6233             \n",
       "3 Albury Murder accessory, conspiracy            0        6233             \n",
       "4 Albury Manslaughter *                          0        6233             \n",
       "5 Albury Domestic violence related assault     284        6233             \n",
       "6 Albury Non-domestic violence related assault 296        6233             \n",
       "  pop_total crime_rate_per_lga\n",
       "1 51081     0.1220219         \n",
       "2 51081     0.1220219         \n",
       "3 51081     0.1220219         \n",
       "4 51081     0.1220219         \n",
       "5 51081     0.1220219         \n",
       "6 51081     0.1220219         "
      ]
     },
     "metadata": {},
     "output_type": "display_data"
    },
    {
     "data": {
      "text/html": [
       "<table>\n",
       "<thead><tr><th scope=col>LGA</th><th scope=col>route_type</th><th scope=col>num_service</th></tr></thead>\n",
       "<tbody>\n",
       "\t<tr><td>Albury           </td><td>106              </td><td> 131             </td></tr>\n",
       "\t<tr><td>Albury           </td><td>204              </td><td>  14             </td></tr>\n",
       "\t<tr><td>Albury           </td><td>700              </td><td>1624             </td></tr>\n",
       "\t<tr><td>Armidale Regional</td><td>106              </td><td>  62             </td></tr>\n",
       "\t<tr><td>Armidale Regional</td><td>204              </td><td>  10             </td></tr>\n",
       "\t<tr><td>Armidale Regional</td><td>700              </td><td> 113             </td></tr>\n",
       "</tbody>\n",
       "</table>\n"
      ],
      "text/latex": [
       "\\begin{tabular}{r|lll}\n",
       " LGA & route\\_type & num\\_service\\\\\n",
       "\\hline\n",
       "\t Albury            & 106               &  131             \\\\\n",
       "\t Albury            & 204               &   14             \\\\\n",
       "\t Albury            & 700               & 1624             \\\\\n",
       "\t Armidale Regional & 106               &   62             \\\\\n",
       "\t Armidale Regional & 204               &   10             \\\\\n",
       "\t Armidale Regional & 700               &  113             \\\\\n",
       "\\end{tabular}\n"
      ],
      "text/markdown": [
       "\n",
       "| LGA | route_type | num_service |\n",
       "|---|---|---|\n",
       "| Albury            | 106               |  131              |\n",
       "| Albury            | 204               |   14              |\n",
       "| Albury            | 700               | 1624              |\n",
       "| Armidale Regional | 106               |   62              |\n",
       "| Armidale Regional | 204               |   10              |\n",
       "| Armidale Regional | 700               |  113              |\n",
       "\n"
      ],
      "text/plain": [
       "  LGA               route_type num_service\n",
       "1 Albury            106         131       \n",
       "2 Albury            204          14       \n",
       "3 Albury            700        1624       \n",
       "4 Armidale Regional 106          62       \n",
       "5 Armidale Regional 204          10       \n",
       "6 Armidale Regional 700         113       "
      ]
     },
     "metadata": {},
     "output_type": "display_data"
    }
   ],
   "source": [
    "head(input_data$crime)\n",
    "head(input_data$transport)"
   ]
  },
  {
   "cell_type": "code",
   "execution_count": 43,
   "metadata": {},
   "outputs": [
    {
     "name": "stderr",
     "output_type": "stream",
     "text": [
      "Joining, by = \"LGA\"\n",
      "Warning message:\n",
      "\"Column `LGA` joining character vector and factor, coercing into character vector\""
     ]
    },
    {
     "data": {
      "text/html": [
       "<table>\n",
       "<thead><tr><th scope=col>LGA</th><th scope=col>Offence</th><th scope=col>Crim_Count</th><th scope=col>crime_tot_per_lga</th><th scope=col>pop_total</th><th scope=col>crime_rate_per_lga</th><th scope=col>route_type</th><th scope=col>num_service</th></tr></thead>\n",
       "<tbody>\n",
       "\t<tr><td>Albury          </td><td>Murder *        </td><td>2               </td><td>6233            </td><td>51081           </td><td>0.1220219       </td><td>106             </td><td> 131            </td></tr>\n",
       "\t<tr><td>Albury          </td><td>Murder *        </td><td>2               </td><td>6233            </td><td>51081           </td><td>0.1220219       </td><td>204             </td><td>  14            </td></tr>\n",
       "\t<tr><td>Albury          </td><td>Murder *        </td><td>2               </td><td>6233            </td><td>51081           </td><td>0.1220219       </td><td>700             </td><td>1624            </td></tr>\n",
       "\t<tr><td>Albury          </td><td>Attempted murder</td><td>1               </td><td>6233            </td><td>51081           </td><td>0.1220219       </td><td>106             </td><td> 131            </td></tr>\n",
       "\t<tr><td>Albury          </td><td>Attempted murder</td><td>1               </td><td>6233            </td><td>51081           </td><td>0.1220219       </td><td>204             </td><td>  14            </td></tr>\n",
       "\t<tr><td>Albury          </td><td>Attempted murder</td><td>1               </td><td>6233            </td><td>51081           </td><td>0.1220219       </td><td>700             </td><td>1624            </td></tr>\n",
       "</tbody>\n",
       "</table>\n"
      ],
      "text/latex": [
       "\\begin{tabular}{r|llllllll}\n",
       " LGA & Offence & Crim\\_Count & crime\\_tot\\_per\\_lga & pop\\_total & crime\\_rate\\_per\\_lga & route\\_type & num\\_service\\\\\n",
       "\\hline\n",
       "\t Albury           & Murder *         & 2                & 6233             & 51081            & 0.1220219        & 106              &  131            \\\\\n",
       "\t Albury           & Murder *         & 2                & 6233             & 51081            & 0.1220219        & 204              &   14            \\\\\n",
       "\t Albury           & Murder *         & 2                & 6233             & 51081            & 0.1220219        & 700              & 1624            \\\\\n",
       "\t Albury           & Attempted murder & 1                & 6233             & 51081            & 0.1220219        & 106              &  131            \\\\\n",
       "\t Albury           & Attempted murder & 1                & 6233             & 51081            & 0.1220219        & 204              &   14            \\\\\n",
       "\t Albury           & Attempted murder & 1                & 6233             & 51081            & 0.1220219        & 700              & 1624            \\\\\n",
       "\\end{tabular}\n"
      ],
      "text/markdown": [
       "\n",
       "| LGA | Offence | Crim_Count | crime_tot_per_lga | pop_total | crime_rate_per_lga | route_type | num_service |\n",
       "|---|---|---|---|---|---|---|---|\n",
       "| Albury           | Murder *         | 2                | 6233             | 51081            | 0.1220219        | 106              |  131             |\n",
       "| Albury           | Murder *         | 2                | 6233             | 51081            | 0.1220219        | 204              |   14             |\n",
       "| Albury           | Murder *         | 2                | 6233             | 51081            | 0.1220219        | 700              | 1624             |\n",
       "| Albury           | Attempted murder | 1                | 6233             | 51081            | 0.1220219        | 106              |  131             |\n",
       "| Albury           | Attempted murder | 1                | 6233             | 51081            | 0.1220219        | 204              |   14             |\n",
       "| Albury           | Attempted murder | 1                | 6233             | 51081            | 0.1220219        | 700              | 1624             |\n",
       "\n"
      ],
      "text/plain": [
       "  LGA    Offence          Crim_Count crime_tot_per_lga pop_total\n",
       "1 Albury Murder *         2          6233              51081    \n",
       "2 Albury Murder *         2          6233              51081    \n",
       "3 Albury Murder *         2          6233              51081    \n",
       "4 Albury Attempted murder 1          6233              51081    \n",
       "5 Albury Attempted murder 1          6233              51081    \n",
       "6 Albury Attempted murder 1          6233              51081    \n",
       "  crime_rate_per_lga route_type num_service\n",
       "1 0.1220219          106         131       \n",
       "2 0.1220219          204          14       \n",
       "3 0.1220219          700        1624       \n",
       "4 0.1220219          106         131       \n",
       "5 0.1220219          204          14       \n",
       "6 0.1220219          700        1624       "
      ]
     },
     "metadata": {},
     "output_type": "display_data"
    },
    {
     "name": "stdout",
     "output_type": "stream",
     "text": [
      "Observations: 22,010\n",
      "Variables: 8\n",
      "Groups: LGA [130]\n",
      "$ LGA                \u001b[3m\u001b[90m<chr>\u001b[39m\u001b[23m \"Albury\", \"Albury\", \"Albury\", \"Albury\", \"Albury\"...\n",
      "$ Offence            \u001b[3m\u001b[90m<fct>\u001b[39m\u001b[23m \"Murder *\", \"Murder *\", \"Murder *\", \"Attempted m...\n",
      "$ Crim_Count         \u001b[3m\u001b[90m<int>\u001b[39m\u001b[23m 2, 2, 2, 1, 1, 1, 0, 0, 0, 0, 0, 0, 284, 284, 28...\n",
      "$ crime_tot_per_lga  \u001b[3m\u001b[90m<int>\u001b[39m\u001b[23m 6233, 6233, 6233, 6233, 6233, 6233, 6233, 6233, ...\n",
      "$ pop_total          \u001b[3m\u001b[90m<int>\u001b[39m\u001b[23m 51081, 51081, 51081, 51081, 51081, 51081, 51081,...\n",
      "$ crime_rate_per_lga \u001b[3m\u001b[90m<dbl>\u001b[39m\u001b[23m 0.1220219, 0.1220219, 0.1220219, 0.1220219, 0.12...\n",
      "$ route_type         \u001b[3m\u001b[90m<fct>\u001b[39m\u001b[23m 106, 204, 700, 106, 204, 700, 106, 204, 700, 106...\n",
      "$ num_service        \u001b[3m\u001b[90m<dbl>\u001b[39m\u001b[23m 131, 14, 1624, 131, 14, 1624, 131, 14, 1624, 131...\n"
     ]
    }
   ],
   "source": [
    "joined <- input_data$crime %>%\n",
    "    left_join(input_data$transport)\n",
    "\n",
    "head(joined)\n",
    "glimpse(joined)"
   ]
  },
  {
   "cell_type": "code",
   "execution_count": 44,
   "metadata": {},
   "outputs": [],
   "source": [
    "out_filename = \"joined_crime_transport.csv\"\n",
    "write.csv(joined, paste(output_path, out_filename, sep = \"/\"), row.names = FALSE)"
   ]
  },
  {
   "cell_type": "markdown",
   "metadata": {},
   "source": [
    "# Create Aggregated Data Set"
   ]
  },
  {
   "cell_type": "markdown",
   "metadata": {},
   "source": [
    "In order to have all the variables in one data set, eat data set has to be aggregated at the LGA level. This means losing information on `age` and `sex` etc."
   ]
  },
  {
   "cell_type": "code",
   "execution_count": 46,
   "metadata": {},
   "outputs": [
    {
     "data": {
      "text/html": [
       "<dl>\n",
       "\t<dt>$age</dt>\n",
       "\t\t<dd><table>\n",
       "<thead><tr><th scope=col>Sex</th><th scope=col>Age</th><th scope=col>LGA</th><th scope=col>Value</th><th scope=col>pop_total</th></tr></thead>\n",
       "<tbody>\n",
       "\t<tr><td>Females                     </td><td>95 - 99                     </td><td>Lismore                     </td><td> 65                         </td><td>43140                       </td></tr>\n",
       "\t<tr><td>Females                     </td><td>95 - 99                     </td><td>Queanbeyan-Palerang Regional</td><td> 33                         </td><td>56023                       </td></tr>\n",
       "\t<tr><td>Females                     </td><td>95 - 99                     </td><td>Mid-Coast                   </td><td>173                         </td><td>90301                       </td></tr>\n",
       "\t<tr><td>Females                     </td><td>95 - 99                     </td><td>Glen Innes Severn           </td><td> 16                         </td><td> 8828                       </td></tr>\n",
       "\t<tr><td>Females                     </td><td>95 - 99                     </td><td>Lockhart                    </td><td> 11                         </td><td> 3135                       </td></tr>\n",
       "\t<tr><td>Females                     </td><td>95 - 99                     </td><td>Lane Cove                   </td><td> 49                         </td><td>36053                       </td></tr>\n",
       "</tbody>\n",
       "</table>\n",
       "</dd>\n",
       "\t<dt>$country_of_birth</dt>\n",
       "\t\t<dd><table>\n",
       "<thead><tr><th scope=col>birthplace_of_person</th><th scope=col>census_year</th><th scope=col>lga_2016</th><th scope=col>LGA</th><th scope=col>value</th><th scope=col>yarrp_2016</th><th scope=col>year_of_arrival_in_australia</th></tr></thead>\n",
       "<tbody>\n",
       "\t<tr><td>New Zealand        </td><td>2016               </td><td>10050              </td><td>Albury             </td><td>  7                </td><td>2                  </td><td>Arrived 1946 - 1955</td></tr>\n",
       "\t<tr><td>New Zealand        </td><td>2016               </td><td>10050              </td><td>Albury             </td><td> 22                </td><td>3                  </td><td>Arrived 1956 - 1965</td></tr>\n",
       "\t<tr><td>New Zealand        </td><td>2016               </td><td>10050              </td><td>Albury             </td><td> 63                </td><td>4                  </td><td>Arrived 1966 - 1975</td></tr>\n",
       "\t<tr><td>New Zealand        </td><td>2016               </td><td>10050              </td><td>Albury             </td><td>113                </td><td>5                  </td><td>Arrived 1976 - 1985</td></tr>\n",
       "\t<tr><td>New Zealand        </td><td>2016               </td><td>10050              </td><td>Albury             </td><td> 92                </td><td>6                  </td><td>Arrived 1986 - 1995</td></tr>\n",
       "\t<tr><td>New Zealand        </td><td>2016               </td><td>10050              </td><td>Albury             </td><td> 87                </td><td>7                  </td><td>Arrived 1996 - 2005</td></tr>\n",
       "</tbody>\n",
       "</table>\n",
       "</dd>\n",
       "\t<dt>$crime</dt>\n",
       "\t\t<dd><table>\n",
       "<thead><tr><th scope=col>LGA</th><th scope=col>Offence</th><th scope=col>Crim_Count</th><th scope=col>crime_tot_per_lga</th><th scope=col>pop_total</th><th scope=col>crime_rate_per_lga</th></tr></thead>\n",
       "<tbody>\n",
       "\t<tr><td>Albury                               </td><td>Murder *                             </td><td>  2                                  </td><td>6233                                 </td><td>51081                                </td><td>0.1220219                            </td></tr>\n",
       "\t<tr><td>Albury                               </td><td>Attempted murder                     </td><td>  1                                  </td><td>6233                                 </td><td>51081                                </td><td>0.1220219                            </td></tr>\n",
       "\t<tr><td>Albury                               </td><td>Murder accessory, conspiracy         </td><td>  0                                  </td><td>6233                                 </td><td>51081                                </td><td>0.1220219                            </td></tr>\n",
       "\t<tr><td>Albury                               </td><td>Manslaughter *                       </td><td>  0                                  </td><td>6233                                 </td><td>51081                                </td><td>0.1220219                            </td></tr>\n",
       "\t<tr><td>Albury                               </td><td>Domestic violence related assault    </td><td>284                                  </td><td>6233                                 </td><td>51081                                </td><td>0.1220219                            </td></tr>\n",
       "\t<tr><td>Albury                               </td><td>Non-domestic violence related assault</td><td>296                                  </td><td>6233                                 </td><td>51081                                </td><td>0.1220219                            </td></tr>\n",
       "</tbody>\n",
       "</table>\n",
       "</dd>\n",
       "\t<dt>$industry_employment</dt>\n",
       "\t\t<dd><table>\n",
       "<thead><tr><th scope=col>Age</th><th scope=col>Sex</th><th scope=col>Industry of Employment</th><th scope=col>LGA_2016</th><th scope=col>LGA</th><th scope=col>Census year</th><th scope=col>Value</th></tr></thead>\n",
       "<tbody>\n",
       "\t<tr><td>15 - 19                          </td><td>Males                            </td><td>Agriculture, Forestry and Fishing</td><td>10050                            </td><td>Albury                           </td><td>2016                             </td><td> 6                               </td></tr>\n",
       "\t<tr><td>15 - 19                          </td><td>Females                          </td><td>Agriculture, Forestry and Fishing</td><td>10050                            </td><td>Albury                           </td><td>2016                             </td><td> 4                               </td></tr>\n",
       "\t<tr><td>15 - 19                          </td><td>Persons                          </td><td>Agriculture, Forestry and Fishing</td><td>10050                            </td><td>Albury                           </td><td>2016                             </td><td> 6                               </td></tr>\n",
       "\t<tr><td>15 - 19                          </td><td>Males                            </td><td>Agriculture, Forestry and Fishing</td><td>10130                            </td><td>Armidale Regional                </td><td>2016                             </td><td>34                               </td></tr>\n",
       "\t<tr><td>15 - 19                          </td><td>Females                          </td><td>Agriculture, Forestry and Fishing</td><td>10130                            </td><td>Armidale Regional                </td><td>2016                             </td><td> 9                               </td></tr>\n",
       "\t<tr><td>15 - 19                          </td><td>Persons                          </td><td>Agriculture, Forestry and Fishing</td><td>10130                            </td><td>Armidale Regional                </td><td>2016                             </td><td>43                               </td></tr>\n",
       "</tbody>\n",
       "</table>\n",
       "</dd>\n",
       "\t<dt>$labour</dt>\n",
       "\t\t<dd><table>\n",
       "<thead><tr><th scope=col>Age</th><th scope=col>Sex</th><th scope=col>Labour force status</th><th scope=col>LGA_2016</th><th scope=col>LGA</th><th scope=col>Census year</th><th scope=col>Value</th></tr></thead>\n",
       "<tbody>\n",
       "\t<tr><td>15 - 19                   </td><td>Males                     </td><td>Employed, worked full-time</td><td>10050                     </td><td>Albury                    </td><td>2016                      </td><td>236                       </td></tr>\n",
       "\t<tr><td>15 - 19                   </td><td>Females                   </td><td>Employed, worked full-time</td><td>10050                     </td><td>Albury                    </td><td>2016                      </td><td>113                       </td></tr>\n",
       "\t<tr><td>15 - 19                   </td><td>Persons                   </td><td>Employed, worked full-time</td><td>10050                     </td><td>Albury                    </td><td>2016                      </td><td>348                       </td></tr>\n",
       "\t<tr><td>15 - 19                   </td><td>Males                     </td><td>Employed, worked full-time</td><td>10130                     </td><td>Armidale Regional         </td><td>2016                      </td><td>105                       </td></tr>\n",
       "\t<tr><td>15 - 19                   </td><td>Females                   </td><td>Employed, worked full-time</td><td>10130                     </td><td>Armidale Regional         </td><td>2016                      </td><td> 58                       </td></tr>\n",
       "\t<tr><td>15 - 19                   </td><td>Persons                   </td><td>Employed, worked full-time</td><td>10130                     </td><td>Armidale Regional         </td><td>2016                      </td><td>160                       </td></tr>\n",
       "</tbody>\n",
       "</table>\n",
       "</dd>\n",
       "\t<dt>$pop_dens</dt>\n",
       "\t\t<dd><table>\n",
       "<thead><tr><th scope=col>X1</th><th scope=col>LGA</th><th scope=col>Pop_Dens_km2</th></tr></thead>\n",
       "<tbody>\n",
       "\t<tr><td>1                </td><td>Albury           </td><td>170.5            </td></tr>\n",
       "\t<tr><td>2                </td><td>Armidale Regional</td><td>  3.5            </td></tr>\n",
       "\t<tr><td>3                </td><td>Ballina          </td><td> 88.7            </td></tr>\n",
       "\t<tr><td>4                </td><td>Balranald        </td><td>  0.1            </td></tr>\n",
       "\t<tr><td>5                </td><td>Bathurst Regional</td><td> 11.1            </td></tr>\n",
       "\t<tr><td>6                </td><td>Bega Valley      </td><td>  5.4            </td></tr>\n",
       "</tbody>\n",
       "</table>\n",
       "</dd>\n",
       "\t<dt>$seifa</dt>\n",
       "\t\t<dd><table>\n",
       "<thead><tr><th scope=col>X1</th><th scope=col>LGA</th><th scope=col>Value</th></tr></thead>\n",
       "<tbody>\n",
       "\t<tr><td>1                </td><td>Albury           </td><td>964              </td></tr>\n",
       "\t<tr><td>2                </td><td>Armidale Dumaresq</td><td>954              </td></tr>\n",
       "\t<tr><td>3                </td><td>Ashfield         </td><td>962              </td></tr>\n",
       "\t<tr><td>4                </td><td>Auburn           </td><td>931              </td></tr>\n",
       "\t<tr><td>5                </td><td>Ballina          </td><td>986              </td></tr>\n",
       "\t<tr><td>6                </td><td>Balranald        </td><td>969              </td></tr>\n",
       "</tbody>\n",
       "</table>\n",
       "</dd>\n",
       "\t<dt>$transport</dt>\n",
       "\t\t<dd><table>\n",
       "<thead><tr><th scope=col>LGA</th><th scope=col>route_type</th><th scope=col>num_service</th></tr></thead>\n",
       "<tbody>\n",
       "\t<tr><td>Albury           </td><td>106              </td><td> 131             </td></tr>\n",
       "\t<tr><td>Albury           </td><td>204              </td><td>  14             </td></tr>\n",
       "\t<tr><td>Albury           </td><td>700              </td><td>1624             </td></tr>\n",
       "\t<tr><td>Armidale Regional</td><td>106              </td><td>  62             </td></tr>\n",
       "\t<tr><td>Armidale Regional</td><td>204              </td><td>  10             </td></tr>\n",
       "\t<tr><td>Armidale Regional</td><td>700              </td><td> 113             </td></tr>\n",
       "</tbody>\n",
       "</table>\n",
       "</dd>\n",
       "</dl>\n"
      ],
      "text/latex": [
       "\\begin{description}\n",
       "\\item[\\$age] \\begin{tabular}{r|lllll}\n",
       " Sex & Age & LGA & Value & pop\\_total\\\\\n",
       "\\hline\n",
       "\t Females                      & 95 - 99                      & Lismore                      &  65                          & 43140                       \\\\\n",
       "\t Females                      & 95 - 99                      & Queanbeyan-Palerang Regional &  33                          & 56023                       \\\\\n",
       "\t Females                      & 95 - 99                      & Mid-Coast                    & 173                          & 90301                       \\\\\n",
       "\t Females                      & 95 - 99                      & Glen Innes Severn            &  16                          &  8828                       \\\\\n",
       "\t Females                      & 95 - 99                      & Lockhart                     &  11                          &  3135                       \\\\\n",
       "\t Females                      & 95 - 99                      & Lane Cove                    &  49                          & 36053                       \\\\\n",
       "\\end{tabular}\n",
       "\n",
       "\\item[\\$country\\_of\\_birth] \\begin{tabular}{r|lllllll}\n",
       " birthplace\\_of\\_person & census\\_year & lga\\_2016 & LGA & value & yarrp\\_2016 & year\\_of\\_arrival\\_in\\_australia\\\\\n",
       "\\hline\n",
       "\t New Zealand         & 2016                & 10050               & Albury              &   7                 & 2                   & Arrived 1946 - 1955\\\\\n",
       "\t New Zealand         & 2016                & 10050               & Albury              &  22                 & 3                   & Arrived 1956 - 1965\\\\\n",
       "\t New Zealand         & 2016                & 10050               & Albury              &  63                 & 4                   & Arrived 1966 - 1975\\\\\n",
       "\t New Zealand         & 2016                & 10050               & Albury              & 113                 & 5                   & Arrived 1976 - 1985\\\\\n",
       "\t New Zealand         & 2016                & 10050               & Albury              &  92                 & 6                   & Arrived 1986 - 1995\\\\\n",
       "\t New Zealand         & 2016                & 10050               & Albury              &  87                 & 7                   & Arrived 1996 - 2005\\\\\n",
       "\\end{tabular}\n",
       "\n",
       "\\item[\\$crime] \\begin{tabular}{r|llllll}\n",
       " LGA & Offence & Crim\\_Count & crime\\_tot\\_per\\_lga & pop\\_total & crime\\_rate\\_per\\_lga\\\\\n",
       "\\hline\n",
       "\t Albury                                & Murder *                              &   2                                   & 6233                                  & 51081                                 & 0.1220219                            \\\\\n",
       "\t Albury                                & Attempted murder                      &   1                                   & 6233                                  & 51081                                 & 0.1220219                            \\\\\n",
       "\t Albury                                & Murder accessory, conspiracy          &   0                                   & 6233                                  & 51081                                 & 0.1220219                            \\\\\n",
       "\t Albury                                & Manslaughter *                        &   0                                   & 6233                                  & 51081                                 & 0.1220219                            \\\\\n",
       "\t Albury                                & Domestic violence related assault     & 284                                   & 6233                                  & 51081                                 & 0.1220219                            \\\\\n",
       "\t Albury                                & Non-domestic violence related assault & 296                                   & 6233                                  & 51081                                 & 0.1220219                            \\\\\n",
       "\\end{tabular}\n",
       "\n",
       "\\item[\\$industry\\_employment] \\begin{tabular}{r|lllllll}\n",
       " Age & Sex & Industry of Employment & LGA\\_2016 & LGA & Census year & Value\\\\\n",
       "\\hline\n",
       "\t 15 - 19                           & Males                             & Agriculture, Forestry and Fishing & 10050                             & Albury                            & 2016                              &  6                               \\\\\n",
       "\t 15 - 19                           & Females                           & Agriculture, Forestry and Fishing & 10050                             & Albury                            & 2016                              &  4                               \\\\\n",
       "\t 15 - 19                           & Persons                           & Agriculture, Forestry and Fishing & 10050                             & Albury                            & 2016                              &  6                               \\\\\n",
       "\t 15 - 19                           & Males                             & Agriculture, Forestry and Fishing & 10130                             & Armidale Regional                 & 2016                              & 34                               \\\\\n",
       "\t 15 - 19                           & Females                           & Agriculture, Forestry and Fishing & 10130                             & Armidale Regional                 & 2016                              &  9                               \\\\\n",
       "\t 15 - 19                           & Persons                           & Agriculture, Forestry and Fishing & 10130                             & Armidale Regional                 & 2016                              & 43                               \\\\\n",
       "\\end{tabular}\n",
       "\n",
       "\\item[\\$labour] \\begin{tabular}{r|lllllll}\n",
       " Age & Sex & Labour force status & LGA\\_2016 & LGA & Census year & Value\\\\\n",
       "\\hline\n",
       "\t 15 - 19                    & Males                      & Employed, worked full-time & 10050                      & Albury                     & 2016                       & 236                       \\\\\n",
       "\t 15 - 19                    & Females                    & Employed, worked full-time & 10050                      & Albury                     & 2016                       & 113                       \\\\\n",
       "\t 15 - 19                    & Persons                    & Employed, worked full-time & 10050                      & Albury                     & 2016                       & 348                       \\\\\n",
       "\t 15 - 19                    & Males                      & Employed, worked full-time & 10130                      & Armidale Regional          & 2016                       & 105                       \\\\\n",
       "\t 15 - 19                    & Females                    & Employed, worked full-time & 10130                      & Armidale Regional          & 2016                       &  58                       \\\\\n",
       "\t 15 - 19                    & Persons                    & Employed, worked full-time & 10130                      & Armidale Regional          & 2016                       & 160                       \\\\\n",
       "\\end{tabular}\n",
       "\n",
       "\\item[\\$pop\\_dens] \\begin{tabular}{r|lll}\n",
       " X1 & LGA & Pop\\_Dens\\_km2\\\\\n",
       "\\hline\n",
       "\t 1                 & Albury            & 170.5            \\\\\n",
       "\t 2                 & Armidale Regional &   3.5            \\\\\n",
       "\t 3                 & Ballina           &  88.7            \\\\\n",
       "\t 4                 & Balranald         &   0.1            \\\\\n",
       "\t 5                 & Bathurst Regional &  11.1            \\\\\n",
       "\t 6                 & Bega Valley       &   5.4            \\\\\n",
       "\\end{tabular}\n",
       "\n",
       "\\item[\\$seifa] \\begin{tabular}{r|lll}\n",
       " X1 & LGA & Value\\\\\n",
       "\\hline\n",
       "\t 1                 & Albury            & 964              \\\\\n",
       "\t 2                 & Armidale Dumaresq & 954              \\\\\n",
       "\t 3                 & Ashfield          & 962              \\\\\n",
       "\t 4                 & Auburn            & 931              \\\\\n",
       "\t 5                 & Ballina           & 986              \\\\\n",
       "\t 6                 & Balranald         & 969              \\\\\n",
       "\\end{tabular}\n",
       "\n",
       "\\item[\\$transport] \\begin{tabular}{r|lll}\n",
       " LGA & route\\_type & num\\_service\\\\\n",
       "\\hline\n",
       "\t Albury            & 106               &  131             \\\\\n",
       "\t Albury            & 204               &   14             \\\\\n",
       "\t Albury            & 700               & 1624             \\\\\n",
       "\t Armidale Regional & 106               &   62             \\\\\n",
       "\t Armidale Regional & 204               &   10             \\\\\n",
       "\t Armidale Regional & 700               &  113             \\\\\n",
       "\\end{tabular}\n",
       "\n",
       "\\end{description}\n"
      ],
      "text/markdown": [
       "$age\n",
       ":   \n",
       "| Sex | Age | LGA | Value | pop_total |\n",
       "|---|---|---|---|---|\n",
       "| Females                      | 95 - 99                      | Lismore                      |  65                          | 43140                        |\n",
       "| Females                      | 95 - 99                      | Queanbeyan-Palerang Regional |  33                          | 56023                        |\n",
       "| Females                      | 95 - 99                      | Mid-Coast                    | 173                          | 90301                        |\n",
       "| Females                      | 95 - 99                      | Glen Innes Severn            |  16                          |  8828                        |\n",
       "| Females                      | 95 - 99                      | Lockhart                     |  11                          |  3135                        |\n",
       "| Females                      | 95 - 99                      | Lane Cove                    |  49                          | 36053                        |\n",
       "\n",
       "\n",
       "$country_of_birth\n",
       ":   \n",
       "| birthplace_of_person | census_year | lga_2016 | LGA | value | yarrp_2016 | year_of_arrival_in_australia |\n",
       "|---|---|---|---|---|---|---|\n",
       "| New Zealand         | 2016                | 10050               | Albury              |   7                 | 2                   | Arrived 1946 - 1955 |\n",
       "| New Zealand         | 2016                | 10050               | Albury              |  22                 | 3                   | Arrived 1956 - 1965 |\n",
       "| New Zealand         | 2016                | 10050               | Albury              |  63                 | 4                   | Arrived 1966 - 1975 |\n",
       "| New Zealand         | 2016                | 10050               | Albury              | 113                 | 5                   | Arrived 1976 - 1985 |\n",
       "| New Zealand         | 2016                | 10050               | Albury              |  92                 | 6                   | Arrived 1986 - 1995 |\n",
       "| New Zealand         | 2016                | 10050               | Albury              |  87                 | 7                   | Arrived 1996 - 2005 |\n",
       "\n",
       "\n",
       "$crime\n",
       ":   \n",
       "| LGA | Offence | Crim_Count | crime_tot_per_lga | pop_total | crime_rate_per_lga |\n",
       "|---|---|---|---|---|---|\n",
       "| Albury                                | Murder *                              |   2                                   | 6233                                  | 51081                                 | 0.1220219                             |\n",
       "| Albury                                | Attempted murder                      |   1                                   | 6233                                  | 51081                                 | 0.1220219                             |\n",
       "| Albury                                | Murder accessory, conspiracy          |   0                                   | 6233                                  | 51081                                 | 0.1220219                             |\n",
       "| Albury                                | Manslaughter *                        |   0                                   | 6233                                  | 51081                                 | 0.1220219                             |\n",
       "| Albury                                | Domestic violence related assault     | 284                                   | 6233                                  | 51081                                 | 0.1220219                             |\n",
       "| Albury                                | Non-domestic violence related assault | 296                                   | 6233                                  | 51081                                 | 0.1220219                             |\n",
       "\n",
       "\n",
       "$industry_employment\n",
       ":   \n",
       "| Age | Sex | Industry of Employment | LGA_2016 | LGA | Census year | Value |\n",
       "|---|---|---|---|---|---|---|\n",
       "| 15 - 19                           | Males                             | Agriculture, Forestry and Fishing | 10050                             | Albury                            | 2016                              |  6                                |\n",
       "| 15 - 19                           | Females                           | Agriculture, Forestry and Fishing | 10050                             | Albury                            | 2016                              |  4                                |\n",
       "| 15 - 19                           | Persons                           | Agriculture, Forestry and Fishing | 10050                             | Albury                            | 2016                              |  6                                |\n",
       "| 15 - 19                           | Males                             | Agriculture, Forestry and Fishing | 10130                             | Armidale Regional                 | 2016                              | 34                                |\n",
       "| 15 - 19                           | Females                           | Agriculture, Forestry and Fishing | 10130                             | Armidale Regional                 | 2016                              |  9                                |\n",
       "| 15 - 19                           | Persons                           | Agriculture, Forestry and Fishing | 10130                             | Armidale Regional                 | 2016                              | 43                                |\n",
       "\n",
       "\n",
       "$labour\n",
       ":   \n",
       "| Age | Sex | Labour force status | LGA_2016 | LGA | Census year | Value |\n",
       "|---|---|---|---|---|---|---|\n",
       "| 15 - 19                    | Males                      | Employed, worked full-time | 10050                      | Albury                     | 2016                       | 236                        |\n",
       "| 15 - 19                    | Females                    | Employed, worked full-time | 10050                      | Albury                     | 2016                       | 113                        |\n",
       "| 15 - 19                    | Persons                    | Employed, worked full-time | 10050                      | Albury                     | 2016                       | 348                        |\n",
       "| 15 - 19                    | Males                      | Employed, worked full-time | 10130                      | Armidale Regional          | 2016                       | 105                        |\n",
       "| 15 - 19                    | Females                    | Employed, worked full-time | 10130                      | Armidale Regional          | 2016                       |  58                        |\n",
       "| 15 - 19                    | Persons                    | Employed, worked full-time | 10130                      | Armidale Regional          | 2016                       | 160                        |\n",
       "\n",
       "\n",
       "$pop_dens\n",
       ":   \n",
       "| X1 | LGA | Pop_Dens_km2 |\n",
       "|---|---|---|\n",
       "| 1                 | Albury            | 170.5             |\n",
       "| 2                 | Armidale Regional |   3.5             |\n",
       "| 3                 | Ballina           |  88.7             |\n",
       "| 4                 | Balranald         |   0.1             |\n",
       "| 5                 | Bathurst Regional |  11.1             |\n",
       "| 6                 | Bega Valley       |   5.4             |\n",
       "\n",
       "\n",
       "$seifa\n",
       ":   \n",
       "| X1 | LGA | Value |\n",
       "|---|---|---|\n",
       "| 1                 | Albury            | 964               |\n",
       "| 2                 | Armidale Dumaresq | 954               |\n",
       "| 3                 | Ashfield          | 962               |\n",
       "| 4                 | Auburn            | 931               |\n",
       "| 5                 | Ballina           | 986               |\n",
       "| 6                 | Balranald         | 969               |\n",
       "\n",
       "\n",
       "$transport\n",
       ":   \n",
       "| LGA | route_type | num_service |\n",
       "|---|---|---|\n",
       "| Albury            | 106               |  131              |\n",
       "| Albury            | 204               |   14              |\n",
       "| Albury            | 700               | 1624              |\n",
       "| Armidale Regional | 106               |   62              |\n",
       "| Armidale Regional | 204               |   10              |\n",
       "| Armidale Regional | 700               |  113              |\n",
       "\n",
       "\n",
       "\n",
       "\n"
      ],
      "text/plain": [
       "$age\n",
       "\u001b[90m# A tibble: 6 x 5\u001b[39m\n",
       "\u001b[90m# Groups:   LGA [6]\u001b[39m\n",
       "  Sex     Age     LGA                          Value pop_total\n",
       "  \u001b[3m\u001b[90m<fct>\u001b[39m\u001b[23m   \u001b[3m\u001b[90m<fct>\u001b[39m\u001b[23m   \u001b[3m\u001b[90m<fct>\u001b[39m\u001b[23m                        \u001b[3m\u001b[90m<int>\u001b[39m\u001b[23m     \u001b[3m\u001b[90m<int>\u001b[39m\u001b[23m\n",
       "\u001b[90m1\u001b[39m Females 95 - 99 Lismore                         65     \u001b[4m4\u001b[24m\u001b[4m3\u001b[24m140\n",
       "\u001b[90m2\u001b[39m Females 95 - 99 Queanbeyan-Palerang Regional    33     \u001b[4m5\u001b[24m\u001b[4m6\u001b[24m023\n",
       "\u001b[90m3\u001b[39m Females 95 - 99 Mid-Coast                      173     \u001b[4m9\u001b[24m\u001b[4m0\u001b[24m301\n",
       "\u001b[90m4\u001b[39m Females 95 - 99 Glen Innes Severn               16      \u001b[4m8\u001b[24m828\n",
       "\u001b[90m5\u001b[39m Females 95 - 99 Lockhart                        11      \u001b[4m3\u001b[24m135\n",
       "\u001b[90m6\u001b[39m Females 95 - 99 Lane Cove                       49     \u001b[4m3\u001b[24m\u001b[4m6\u001b[24m053\n",
       "\n",
       "$country_of_birth\n",
       "\u001b[90m# A tibble: 6 x 7\u001b[39m\n",
       "  birthplace_of_pe~ census_year lga_2016 LGA   value yarrp_2016 year_of_arrival~\n",
       "  \u001b[3m\u001b[90m<fct>\u001b[39m\u001b[23m                   \u001b[3m\u001b[90m<dbl>\u001b[39m\u001b[23m    \u001b[3m\u001b[90m<dbl>\u001b[39m\u001b[23m \u001b[3m\u001b[90m<fct>\u001b[39m\u001b[23m \u001b[3m\u001b[90m<dbl>\u001b[39m\u001b[23m \u001b[3m\u001b[90m<chr>\u001b[39m\u001b[23m      \u001b[3m\u001b[90m<fct>\u001b[39m\u001b[23m           \n",
       "\u001b[90m1\u001b[39m New Zealand              \u001b[4m2\u001b[24m016    \u001b[4m1\u001b[24m\u001b[4m0\u001b[24m050 Albu~     7 2          Arrived 1946 - ~\n",
       "\u001b[90m2\u001b[39m New Zealand              \u001b[4m2\u001b[24m016    \u001b[4m1\u001b[24m\u001b[4m0\u001b[24m050 Albu~    22 3          Arrived 1956 - ~\n",
       "\u001b[90m3\u001b[39m New Zealand              \u001b[4m2\u001b[24m016    \u001b[4m1\u001b[24m\u001b[4m0\u001b[24m050 Albu~    63 4          Arrived 1966 - ~\n",
       "\u001b[90m4\u001b[39m New Zealand              \u001b[4m2\u001b[24m016    \u001b[4m1\u001b[24m\u001b[4m0\u001b[24m050 Albu~   113 5          Arrived 1976 - ~\n",
       "\u001b[90m5\u001b[39m New Zealand              \u001b[4m2\u001b[24m016    \u001b[4m1\u001b[24m\u001b[4m0\u001b[24m050 Albu~    92 6          Arrived 1986 - ~\n",
       "\u001b[90m6\u001b[39m New Zealand              \u001b[4m2\u001b[24m016    \u001b[4m1\u001b[24m\u001b[4m0\u001b[24m050 Albu~    87 7          Arrived 1996 - ~\n",
       "\n",
       "$crime\n",
       "\u001b[90m# A tibble: 6 x 6\u001b[39m\n",
       "\u001b[90m# Groups:   LGA [1]\u001b[39m\n",
       "  LGA    Offence          Crim_Count crime_tot_per_l~ pop_total crime_rate_per_~\n",
       "  \u001b[3m\u001b[90m<chr>\u001b[39m\u001b[23m  \u001b[3m\u001b[90m<fct>\u001b[39m\u001b[23m                 \u001b[3m\u001b[90m<int>\u001b[39m\u001b[23m            \u001b[3m\u001b[90m<int>\u001b[39m\u001b[23m     \u001b[3m\u001b[90m<int>\u001b[39m\u001b[23m            \u001b[3m\u001b[90m<dbl>\u001b[39m\u001b[23m\n",
       "\u001b[90m1\u001b[39m Albury Murder *                  2             \u001b[4m6\u001b[24m233     \u001b[4m5\u001b[24m\u001b[4m1\u001b[24m081            0.122\n",
       "\u001b[90m2\u001b[39m Albury Attempted murder          1             \u001b[4m6\u001b[24m233     \u001b[4m5\u001b[24m\u001b[4m1\u001b[24m081            0.122\n",
       "\u001b[90m3\u001b[39m Albury Murder accessor~          0             \u001b[4m6\u001b[24m233     \u001b[4m5\u001b[24m\u001b[4m1\u001b[24m081            0.122\n",
       "\u001b[90m4\u001b[39m Albury Manslaughter *            0             \u001b[4m6\u001b[24m233     \u001b[4m5\u001b[24m\u001b[4m1\u001b[24m081            0.122\n",
       "\u001b[90m5\u001b[39m Albury Domestic violen~        284             \u001b[4m6\u001b[24m233     \u001b[4m5\u001b[24m\u001b[4m1\u001b[24m081            0.122\n",
       "\u001b[90m6\u001b[39m Albury Non-domestic vi~        296             \u001b[4m6\u001b[24m233     \u001b[4m5\u001b[24m\u001b[4m1\u001b[24m081            0.122\n",
       "\n",
       "$industry_employment\n",
       "\u001b[90m# A tibble: 6 x 7\u001b[39m\n",
       "  Age    Sex    `Industry of Employment` LGA_2016 LGA        `Census year` Value\n",
       "  \u001b[3m\u001b[90m<fct>\u001b[39m\u001b[23m  \u001b[3m\u001b[90m<fct>\u001b[39m\u001b[23m  \u001b[3m\u001b[90m<fct>\u001b[39m\u001b[23m                       \u001b[3m\u001b[90m<dbl>\u001b[39m\u001b[23m \u001b[3m\u001b[90m<fct>\u001b[39m\u001b[23m              \u001b[3m\u001b[90m<dbl>\u001b[39m\u001b[23m \u001b[3m\u001b[90m<int>\u001b[39m\u001b[23m\n",
       "\u001b[90m1\u001b[39m 15 - ~ Males  Agriculture, Forestry a~    \u001b[4m1\u001b[24m\u001b[4m0\u001b[24m050 Albury              \u001b[4m2\u001b[24m016     6\n",
       "\u001b[90m2\u001b[39m 15 - ~ Femal~ Agriculture, Forestry a~    \u001b[4m1\u001b[24m\u001b[4m0\u001b[24m050 Albury              \u001b[4m2\u001b[24m016     4\n",
       "\u001b[90m3\u001b[39m 15 - ~ Perso~ Agriculture, Forestry a~    \u001b[4m1\u001b[24m\u001b[4m0\u001b[24m050 Albury              \u001b[4m2\u001b[24m016     6\n",
       "\u001b[90m4\u001b[39m 15 - ~ Males  Agriculture, Forestry a~    \u001b[4m1\u001b[24m\u001b[4m0\u001b[24m130 Armidale ~          \u001b[4m2\u001b[24m016    34\n",
       "\u001b[90m5\u001b[39m 15 - ~ Femal~ Agriculture, Forestry a~    \u001b[4m1\u001b[24m\u001b[4m0\u001b[24m130 Armidale ~          \u001b[4m2\u001b[24m016     9\n",
       "\u001b[90m6\u001b[39m 15 - ~ Perso~ Agriculture, Forestry a~    \u001b[4m1\u001b[24m\u001b[4m0\u001b[24m130 Armidale ~          \u001b[4m2\u001b[24m016    43\n",
       "\n",
       "$labour\n",
       "\u001b[90m# A tibble: 6 x 7\u001b[39m\n",
       "  Age     Sex     `Labour force status` LGA_2016 LGA         `Census year` Value\n",
       "  \u001b[3m\u001b[90m<fct>\u001b[39m\u001b[23m   \u001b[3m\u001b[90m<fct>\u001b[39m\u001b[23m   \u001b[3m\u001b[90m<fct>\u001b[39m\u001b[23m                    \u001b[3m\u001b[90m<dbl>\u001b[39m\u001b[23m \u001b[3m\u001b[90m<fct>\u001b[39m\u001b[23m               \u001b[3m\u001b[90m<dbl>\u001b[39m\u001b[23m \u001b[3m\u001b[90m<int>\u001b[39m\u001b[23m\n",
       "\u001b[90m1\u001b[39m 15 - 19 Males   Employed, worked ful~    \u001b[4m1\u001b[24m\u001b[4m0\u001b[24m050 Albury               \u001b[4m2\u001b[24m016   236\n",
       "\u001b[90m2\u001b[39m 15 - 19 Females Employed, worked ful~    \u001b[4m1\u001b[24m\u001b[4m0\u001b[24m050 Albury               \u001b[4m2\u001b[24m016   113\n",
       "\u001b[90m3\u001b[39m 15 - 19 Persons Employed, worked ful~    \u001b[4m1\u001b[24m\u001b[4m0\u001b[24m050 Albury               \u001b[4m2\u001b[24m016   348\n",
       "\u001b[90m4\u001b[39m 15 - 19 Males   Employed, worked ful~    \u001b[4m1\u001b[24m\u001b[4m0\u001b[24m130 Armidale R~          \u001b[4m2\u001b[24m016   105\n",
       "\u001b[90m5\u001b[39m 15 - 19 Females Employed, worked ful~    \u001b[4m1\u001b[24m\u001b[4m0\u001b[24m130 Armidale R~          \u001b[4m2\u001b[24m016    58\n",
       "\u001b[90m6\u001b[39m 15 - 19 Persons Employed, worked ful~    \u001b[4m1\u001b[24m\u001b[4m0\u001b[24m130 Armidale R~          \u001b[4m2\u001b[24m016   160\n",
       "\n",
       "$pop_dens\n",
       "\u001b[90m# A tibble: 6 x 3\u001b[39m\n",
       "     X1 LGA               Pop_Dens_km2\n",
       "  \u001b[3m\u001b[90m<dbl>\u001b[39m\u001b[23m \u001b[3m\u001b[90m<fct>\u001b[39m\u001b[23m                    \u001b[3m\u001b[90m<dbl>\u001b[39m\u001b[23m\n",
       "\u001b[90m1\u001b[39m     1 Albury                   170. \n",
       "\u001b[90m2\u001b[39m     2 Armidale Regional          3.5\n",
       "\u001b[90m3\u001b[39m     3 Ballina                   88.7\n",
       "\u001b[90m4\u001b[39m     4 Balranald                  0.1\n",
       "\u001b[90m5\u001b[39m     5 Bathurst Regional         11.1\n",
       "\u001b[90m6\u001b[39m     6 Bega Valley                5.4\n",
       "\n",
       "$seifa\n",
       "\u001b[90m# A tibble: 6 x 3\u001b[39m\n",
       "     X1 LGA               Value\n",
       "  \u001b[3m\u001b[90m<dbl>\u001b[39m\u001b[23m \u001b[3m\u001b[90m<fct>\u001b[39m\u001b[23m             \u001b[3m\u001b[90m<int>\u001b[39m\u001b[23m\n",
       "\u001b[90m1\u001b[39m     1 Albury              964\n",
       "\u001b[90m2\u001b[39m     2 Armidale Dumaresq   954\n",
       "\u001b[90m3\u001b[39m     3 Ashfield            962\n",
       "\u001b[90m4\u001b[39m     4 Auburn              931\n",
       "\u001b[90m5\u001b[39m     5 Ballina             986\n",
       "\u001b[90m6\u001b[39m     6 Balranald           969\n",
       "\n",
       "$transport\n",
       "\u001b[90m# A tibble: 6 x 3\u001b[39m\n",
       "  LGA               route_type num_service\n",
       "  \u001b[3m\u001b[90m<fct>\u001b[39m\u001b[23m             \u001b[3m\u001b[90m<fct>\u001b[39m\u001b[23m            \u001b[3m\u001b[90m<dbl>\u001b[39m\u001b[23m\n",
       "\u001b[90m1\u001b[39m Albury            106                131\n",
       "\u001b[90m2\u001b[39m Albury            204                 14\n",
       "\u001b[90m3\u001b[39m Albury            700               \u001b[4m1\u001b[24m624\n",
       "\u001b[90m4\u001b[39m Armidale Regional 106                 62\n",
       "\u001b[90m5\u001b[39m Armidale Regional 204                 10\n",
       "\u001b[90m6\u001b[39m Armidale Regional 700                113\n"
      ]
     },
     "metadata": {},
     "output_type": "display_data"
    }
   ],
   "source": [
    "map(input_data, head)"
   ]
  },
  {
   "cell_type": "code",
   "execution_count": 47,
   "metadata": {},
   "outputs": [],
   "source": [
    "value_cols <- list(\"Value\", \"value\", \"Crim_Count\", \"Value\", \"Value\", \"Pop_Dens_km2\", \"Value\", \"num_service\")"
   ]
  },
  {
   "cell_type": "code",
   "execution_count": 48,
   "metadata": {},
   "outputs": [
    {
     "data": {
      "text/html": [
       "<ol class=list-inline>\n",
       "\t<li>'age'</li>\n",
       "\t<li>'country_of_birth'</li>\n",
       "\t<li>'crime'</li>\n",
       "\t<li>'industry_employment'</li>\n",
       "\t<li>'labour'</li>\n",
       "\t<li>'pop_dens'</li>\n",
       "\t<li>'seifa'</li>\n",
       "\t<li>'transport'</li>\n",
       "</ol>\n"
      ],
      "text/latex": [
       "\\begin{enumerate*}\n",
       "\\item 'age'\n",
       "\\item 'country\\_of\\_birth'\n",
       "\\item 'crime'\n",
       "\\item 'industry\\_employment'\n",
       "\\item 'labour'\n",
       "\\item 'pop\\_dens'\n",
       "\\item 'seifa'\n",
       "\\item 'transport'\n",
       "\\end{enumerate*}\n"
      ],
      "text/markdown": [
       "1. 'age'\n",
       "2. 'country_of_birth'\n",
       "3. 'crime'\n",
       "4. 'industry_employment'\n",
       "5. 'labour'\n",
       "6. 'pop_dens'\n",
       "7. 'seifa'\n",
       "8. 'transport'\n",
       "\n",
       "\n"
      ],
      "text/plain": [
       "[1] \"age\"                 \"country_of_birth\"    \"crime\"              \n",
       "[4] \"industry_employment\" \"labour\"              \"pop_dens\"           \n",
       "[7] \"seifa\"               \"transport\"          "
      ]
     },
     "metadata": {},
     "output_type": "display_data"
    }
   ],
   "source": [
    "names(value_cols) <- tbl_names\n",
    "names(value_cols)"
   ]
  },
  {
   "cell_type": "markdown",
   "metadata": {},
   "source": [
    "# Rename Columns and Aggregate"
   ]
  },
  {
   "cell_type": "code",
   "execution_count": 54,
   "metadata": {},
   "outputs": [
    {
     "data": {
      "text/html": [
       "<table>\n",
       "<thead><tr><th scope=col>Sex</th><th scope=col>Age</th><th scope=col>LGA</th><th scope=col>Value</th><th scope=col>pop_total</th></tr></thead>\n",
       "<tbody>\n",
       "\t<tr><td>Females                     </td><td>95 - 99                     </td><td>Lismore                     </td><td> 65                         </td><td>43140                       </td></tr>\n",
       "\t<tr><td>Females                     </td><td>95 - 99                     </td><td>Queanbeyan-Palerang Regional</td><td> 33                         </td><td>56023                       </td></tr>\n",
       "\t<tr><td>Females                     </td><td>95 - 99                     </td><td>Mid-Coast                   </td><td>173                         </td><td>90301                       </td></tr>\n",
       "\t<tr><td>Females                     </td><td>95 - 99                     </td><td>Glen Innes Severn           </td><td> 16                         </td><td> 8828                       </td></tr>\n",
       "\t<tr><td>Females                     </td><td>95 - 99                     </td><td>Lockhart                    </td><td> 11                         </td><td> 3135                       </td></tr>\n",
       "\t<tr><td>Females                     </td><td>95 - 99                     </td><td>Lane Cove                   </td><td> 49                         </td><td>36053                       </td></tr>\n",
       "</tbody>\n",
       "</table>\n"
      ],
      "text/latex": [
       "\\begin{tabular}{r|lllll}\n",
       " Sex & Age & LGA & Value & pop\\_total\\\\\n",
       "\\hline\n",
       "\t Females                      & 95 - 99                      & Lismore                      &  65                          & 43140                       \\\\\n",
       "\t Females                      & 95 - 99                      & Queanbeyan-Palerang Regional &  33                          & 56023                       \\\\\n",
       "\t Females                      & 95 - 99                      & Mid-Coast                    & 173                          & 90301                       \\\\\n",
       "\t Females                      & 95 - 99                      & Glen Innes Severn            &  16                          &  8828                       \\\\\n",
       "\t Females                      & 95 - 99                      & Lockhart                     &  11                          &  3135                       \\\\\n",
       "\t Females                      & 95 - 99                      & Lane Cove                    &  49                          & 36053                       \\\\\n",
       "\\end{tabular}\n"
      ],
      "text/markdown": [
       "\n",
       "| Sex | Age | LGA | Value | pop_total |\n",
       "|---|---|---|---|---|\n",
       "| Females                      | 95 - 99                      | Lismore                      |  65                          | 43140                        |\n",
       "| Females                      | 95 - 99                      | Queanbeyan-Palerang Regional |  33                          | 56023                        |\n",
       "| Females                      | 95 - 99                      | Mid-Coast                    | 173                          | 90301                        |\n",
       "| Females                      | 95 - 99                      | Glen Innes Severn            |  16                          |  8828                        |\n",
       "| Females                      | 95 - 99                      | Lockhart                     |  11                          |  3135                        |\n",
       "| Females                      | 95 - 99                      | Lane Cove                    |  49                          | 36053                        |\n",
       "\n"
      ],
      "text/plain": [
       "  Sex     Age     LGA                          Value pop_total\n",
       "1 Females 95 - 99 Lismore                       65   43140    \n",
       "2 Females 95 - 99 Queanbeyan-Palerang Regional  33   56023    \n",
       "3 Females 95 - 99 Mid-Coast                    173   90301    \n",
       "4 Females 95 - 99 Glen Innes Severn             16    8828    \n",
       "5 Females 95 - 99 Lockhart                      11    3135    \n",
       "6 Females 95 - 99 Lane Cove                     49   36053    "
      ]
     },
     "metadata": {},
     "output_type": "display_data"
    }
   ],
   "source": [
    "head(input_data$age)"
   ]
  },
  {
   "cell_type": "code",
   "execution_count": 80,
   "metadata": {},
   "outputs": [
    {
     "data": {
      "text/html": [
       "<table>\n",
       "<thead><tr><th scope=col>Sex</th><th scope=col>Age</th><th scope=col>LGA</th><th scope=col>pop</th><th scope=col>pop_total</th></tr></thead>\n",
       "<tbody>\n",
       "\t<tr><td>Females                     </td><td>95 - 99                     </td><td>Lismore                     </td><td> 65                         </td><td>43140                       </td></tr>\n",
       "\t<tr><td>Females                     </td><td>95 - 99                     </td><td>Queanbeyan-Palerang Regional</td><td> 33                         </td><td>56023                       </td></tr>\n",
       "\t<tr><td>Females                     </td><td>95 - 99                     </td><td>Mid-Coast                   </td><td>173                         </td><td>90301                       </td></tr>\n",
       "\t<tr><td>Females                     </td><td>95 - 99                     </td><td>Glen Innes Severn           </td><td> 16                         </td><td> 8828                       </td></tr>\n",
       "\t<tr><td>Females                     </td><td>95 - 99                     </td><td>Lockhart                    </td><td> 11                         </td><td> 3135                       </td></tr>\n",
       "\t<tr><td>Females                     </td><td>95 - 99                     </td><td>Lane Cove                   </td><td> 49                         </td><td>36053                       </td></tr>\n",
       "</tbody>\n",
       "</table>\n"
      ],
      "text/latex": [
       "\\begin{tabular}{r|lllll}\n",
       " Sex & Age & LGA & pop & pop\\_total\\\\\n",
       "\\hline\n",
       "\t Females                      & 95 - 99                      & Lismore                      &  65                          & 43140                       \\\\\n",
       "\t Females                      & 95 - 99                      & Queanbeyan-Palerang Regional &  33                          & 56023                       \\\\\n",
       "\t Females                      & 95 - 99                      & Mid-Coast                    & 173                          & 90301                       \\\\\n",
       "\t Females                      & 95 - 99                      & Glen Innes Severn            &  16                          &  8828                       \\\\\n",
       "\t Females                      & 95 - 99                      & Lockhart                     &  11                          &  3135                       \\\\\n",
       "\t Females                      & 95 - 99                      & Lane Cove                    &  49                          & 36053                       \\\\\n",
       "\\end{tabular}\n"
      ],
      "text/markdown": [
       "\n",
       "| Sex | Age | LGA | pop | pop_total |\n",
       "|---|---|---|---|---|\n",
       "| Females                      | 95 - 99                      | Lismore                      |  65                          | 43140                        |\n",
       "| Females                      | 95 - 99                      | Queanbeyan-Palerang Regional |  33                          | 56023                        |\n",
       "| Females                      | 95 - 99                      | Mid-Coast                    | 173                          | 90301                        |\n",
       "| Females                      | 95 - 99                      | Glen Innes Severn            |  16                          |  8828                        |\n",
       "| Females                      | 95 - 99                      | Lockhart                     |  11                          |  3135                        |\n",
       "| Females                      | 95 - 99                      | Lane Cove                    |  49                          | 36053                        |\n",
       "\n"
      ],
      "text/plain": [
       "  Sex     Age     LGA                          pop pop_total\n",
       "1 Females 95 - 99 Lismore                       65 43140    \n",
       "2 Females 95 - 99 Queanbeyan-Palerang Regional  33 56023    \n",
       "3 Females 95 - 99 Mid-Coast                    173 90301    \n",
       "4 Females 95 - 99 Glen Innes Severn             16  8828    \n",
       "5 Females 95 - 99 Lockhart                      11  3135    \n",
       "6 Females 95 - 99 Lane Cove                     49 36053    "
      ]
     },
     "metadata": {},
     "output_type": "display_data"
    },
    {
     "name": "stdout",
     "output_type": "stream",
     "text": [
      "Observations: 5,808\n",
      "Variables: 5\n",
      "Groups: LGA [132]\n",
      "$ Sex       \u001b[3m\u001b[90m<fct>\u001b[39m\u001b[23m Females, Females, Females, Females, Females, Females, Fem...\n",
      "$ Age       \u001b[3m\u001b[90m<fct>\u001b[39m\u001b[23m 95 - 99, 95 - 99, 95 - 99, 95 - 99, 95 - 99, 95 - 99, 95 ...\n",
      "$ LGA       \u001b[3m\u001b[90m<fct>\u001b[39m\u001b[23m Lismore, Queanbeyan-Palerang Regional, Mid-Coast, Glen In...\n",
      "$ pop       \u001b[3m\u001b[90m<int>\u001b[39m\u001b[23m 65, 33, 173, 16, 11, 49, 26, 451, 24, 0, 4, 39, 72, 29, 9...\n",
      "$ pop_total \u001b[3m\u001b[90m<int>\u001b[39m\u001b[23m 43140, 56023, 90301, 8828, 3135, 36053, 19195, 252898, 16...\n"
     ]
    }
   ],
   "source": [
    "age_agg <- input_data$age %>%\n",
    "    rename(pop = Value)\n",
    "\n",
    "head(age_agg)\n",
    "glimpse(age_agg)"
   ]
  },
  {
   "cell_type": "markdown",
   "metadata": {},
   "source": [
    "## Country of Birth"
   ]
  },
  {
   "cell_type": "code",
   "execution_count": 81,
   "metadata": {},
   "outputs": [
    {
     "data": {
      "text/html": [
       "<table>\n",
       "<thead><tr><th scope=col>birthplace_of_person</th><th scope=col>census_year</th><th scope=col>lga_2016</th><th scope=col>LGA</th><th scope=col>value</th><th scope=col>yarrp_2016</th><th scope=col>year_of_arrival_in_australia</th></tr></thead>\n",
       "<tbody>\n",
       "\t<tr><td>New Zealand        </td><td>2016               </td><td>10050              </td><td>Albury             </td><td>  7                </td><td>2                  </td><td>Arrived 1946 - 1955</td></tr>\n",
       "\t<tr><td>New Zealand        </td><td>2016               </td><td>10050              </td><td>Albury             </td><td> 22                </td><td>3                  </td><td>Arrived 1956 - 1965</td></tr>\n",
       "\t<tr><td>New Zealand        </td><td>2016               </td><td>10050              </td><td>Albury             </td><td> 63                </td><td>4                  </td><td>Arrived 1966 - 1975</td></tr>\n",
       "\t<tr><td>New Zealand        </td><td>2016               </td><td>10050              </td><td>Albury             </td><td>113                </td><td>5                  </td><td>Arrived 1976 - 1985</td></tr>\n",
       "\t<tr><td>New Zealand        </td><td>2016               </td><td>10050              </td><td>Albury             </td><td> 92                </td><td>6                  </td><td>Arrived 1986 - 1995</td></tr>\n",
       "\t<tr><td>New Zealand        </td><td>2016               </td><td>10050              </td><td>Albury             </td><td> 87                </td><td>7                  </td><td>Arrived 1996 - 2005</td></tr>\n",
       "</tbody>\n",
       "</table>\n"
      ],
      "text/latex": [
       "\\begin{tabular}{r|lllllll}\n",
       " birthplace\\_of\\_person & census\\_year & lga\\_2016 & LGA & value & yarrp\\_2016 & year\\_of\\_arrival\\_in\\_australia\\\\\n",
       "\\hline\n",
       "\t New Zealand         & 2016                & 10050               & Albury              &   7                 & 2                   & Arrived 1946 - 1955\\\\\n",
       "\t New Zealand         & 2016                & 10050               & Albury              &  22                 & 3                   & Arrived 1956 - 1965\\\\\n",
       "\t New Zealand         & 2016                & 10050               & Albury              &  63                 & 4                   & Arrived 1966 - 1975\\\\\n",
       "\t New Zealand         & 2016                & 10050               & Albury              & 113                 & 5                   & Arrived 1976 - 1985\\\\\n",
       "\t New Zealand         & 2016                & 10050               & Albury              &  92                 & 6                   & Arrived 1986 - 1995\\\\\n",
       "\t New Zealand         & 2016                & 10050               & Albury              &  87                 & 7                   & Arrived 1996 - 2005\\\\\n",
       "\\end{tabular}\n"
      ],
      "text/markdown": [
       "\n",
       "| birthplace_of_person | census_year | lga_2016 | LGA | value | yarrp_2016 | year_of_arrival_in_australia |\n",
       "|---|---|---|---|---|---|---|\n",
       "| New Zealand         | 2016                | 10050               | Albury              |   7                 | 2                   | Arrived 1946 - 1955 |\n",
       "| New Zealand         | 2016                | 10050               | Albury              |  22                 | 3                   | Arrived 1956 - 1965 |\n",
       "| New Zealand         | 2016                | 10050               | Albury              |  63                 | 4                   | Arrived 1966 - 1975 |\n",
       "| New Zealand         | 2016                | 10050               | Albury              | 113                 | 5                   | Arrived 1976 - 1985 |\n",
       "| New Zealand         | 2016                | 10050               | Albury              |  92                 | 6                   | Arrived 1986 - 1995 |\n",
       "| New Zealand         | 2016                | 10050               | Albury              |  87                 | 7                   | Arrived 1996 - 2005 |\n",
       "\n"
      ],
      "text/plain": [
       "  birthplace_of_person census_year lga_2016 LGA    value yarrp_2016\n",
       "1 New Zealand          2016        10050    Albury   7   2         \n",
       "2 New Zealand          2016        10050    Albury  22   3         \n",
       "3 New Zealand          2016        10050    Albury  63   4         \n",
       "4 New Zealand          2016        10050    Albury 113   5         \n",
       "5 New Zealand          2016        10050    Albury  92   6         \n",
       "6 New Zealand          2016        10050    Albury  87   7         \n",
       "  year_of_arrival_in_australia\n",
       "1 Arrived 1946 - 1955         \n",
       "2 Arrived 1956 - 1965         \n",
       "3 Arrived 1966 - 1975         \n",
       "4 Arrived 1976 - 1985         \n",
       "5 Arrived 1986 - 1995         \n",
       "6 Arrived 1996 - 2005         "
      ]
     },
     "metadata": {},
     "output_type": "display_data"
    }
   ],
   "source": [
    "head(input_data$country_of_birth)"
   ]
  },
  {
   "cell_type": "code",
   "execution_count": 83,
   "metadata": {},
   "outputs": [
    {
     "data": {
      "text/html": [
       "<table>\n",
       "<thead><tr><th scope=col>LGA</th><th scope=col>birthplace_of_person</th><th scope=col>birth_value</th></tr></thead>\n",
       "<tbody>\n",
       "\t<tr><td>Albury          </td><td>New Zealand     </td><td>2510            </td></tr>\n",
       "\t<tr><td>Albury          </td><td>Papua New Guinea</td><td>  99            </td></tr>\n",
       "\t<tr><td>Albury          </td><td>Fiji            </td><td> 218            </td></tr>\n",
       "\t<tr><td>Albury          </td><td>Tonga           </td><td>  24            </td></tr>\n",
       "\t<tr><td>Albury          </td><td>England         </td><td>4254            </td></tr>\n",
       "\t<tr><td>Albury          </td><td>Northern Ireland</td><td>  64            </td></tr>\n",
       "</tbody>\n",
       "</table>\n"
      ],
      "text/latex": [
       "\\begin{tabular}{r|lll}\n",
       " LGA & birthplace\\_of\\_person & birth\\_value\\\\\n",
       "\\hline\n",
       "\t Albury           & New Zealand      & 2510            \\\\\n",
       "\t Albury           & Papua New Guinea &   99            \\\\\n",
       "\t Albury           & Fiji             &  218            \\\\\n",
       "\t Albury           & Tonga            &   24            \\\\\n",
       "\t Albury           & England          & 4254            \\\\\n",
       "\t Albury           & Northern Ireland &   64            \\\\\n",
       "\\end{tabular}\n"
      ],
      "text/markdown": [
       "\n",
       "| LGA | birthplace_of_person | birth_value |\n",
       "|---|---|---|\n",
       "| Albury           | New Zealand      | 2510             |\n",
       "| Albury           | Papua New Guinea |   99             |\n",
       "| Albury           | Fiji             |  218             |\n",
       "| Albury           | Tonga            |   24             |\n",
       "| Albury           | England          | 4254             |\n",
       "| Albury           | Northern Ireland |   64             |\n",
       "\n"
      ],
      "text/plain": [
       "  LGA    birthplace_of_person birth_value\n",
       "1 Albury New Zealand          2510       \n",
       "2 Albury Papua New Guinea       99       \n",
       "3 Albury Fiji                  218       \n",
       "4 Albury Tonga                  24       \n",
       "5 Albury England              4254       \n",
       "6 Albury Northern Ireland       64       "
      ]
     },
     "metadata": {},
     "output_type": "display_data"
    },
    {
     "name": "stdout",
     "output_type": "stream",
     "text": [
      "Observations: 8,508\n",
      "Variables: 3\n",
      "Groups: LGA [132]\n",
      "$ LGA                  \u001b[3m\u001b[90m<fct>\u001b[39m\u001b[23m Albury, Albury, Albury, Albury, Albury, Albury...\n",
      "$ birthplace_of_person \u001b[3m\u001b[90m<fct>\u001b[39m\u001b[23m \"New Zealand\", \"Papua New Guinea\", \"Fiji\", \"To...\n",
      "$ birth_value          \u001b[3m\u001b[90m<dbl>\u001b[39m\u001b[23m 2510, 99, 218, 24, 4254, 64, 800, 213, 325, 25...\n"
     ]
    }
   ],
   "source": [
    "country_agg <- input_data$country_of_birth %>%\n",
    "    group_by(LGA, birthplace_of_person) %>%\n",
    "    summarise(birth_value = sum(value))\n",
    "\n",
    "head(country_agg)\n",
    "glimpse(country_agg)"
   ]
  },
  {
   "cell_type": "markdown",
   "metadata": {},
   "source": [
    "## Industry Employment"
   ]
  },
  {
   "cell_type": "code",
   "execution_count": 84,
   "metadata": {},
   "outputs": [
    {
     "data": {
      "text/html": [
       "<table>\n",
       "<thead><tr><th scope=col>Age</th><th scope=col>Sex</th><th scope=col>Industry of Employment</th><th scope=col>LGA_2016</th><th scope=col>LGA</th><th scope=col>Census year</th><th scope=col>Value</th></tr></thead>\n",
       "<tbody>\n",
       "\t<tr><td>15 - 19                          </td><td>Males                            </td><td>Agriculture, Forestry and Fishing</td><td>10050                            </td><td>Albury                           </td><td>2016                             </td><td> 6                               </td></tr>\n",
       "\t<tr><td>15 - 19                          </td><td>Females                          </td><td>Agriculture, Forestry and Fishing</td><td>10050                            </td><td>Albury                           </td><td>2016                             </td><td> 4                               </td></tr>\n",
       "\t<tr><td>15 - 19                          </td><td>Persons                          </td><td>Agriculture, Forestry and Fishing</td><td>10050                            </td><td>Albury                           </td><td>2016                             </td><td> 6                               </td></tr>\n",
       "\t<tr><td>15 - 19                          </td><td>Males                            </td><td>Agriculture, Forestry and Fishing</td><td>10130                            </td><td>Armidale Regional                </td><td>2016                             </td><td>34                               </td></tr>\n",
       "\t<tr><td>15 - 19                          </td><td>Females                          </td><td>Agriculture, Forestry and Fishing</td><td>10130                            </td><td>Armidale Regional                </td><td>2016                             </td><td> 9                               </td></tr>\n",
       "\t<tr><td>15 - 19                          </td><td>Persons                          </td><td>Agriculture, Forestry and Fishing</td><td>10130                            </td><td>Armidale Regional                </td><td>2016                             </td><td>43                               </td></tr>\n",
       "</tbody>\n",
       "</table>\n"
      ],
      "text/latex": [
       "\\begin{tabular}{r|lllllll}\n",
       " Age & Sex & Industry of Employment & LGA\\_2016 & LGA & Census year & Value\\\\\n",
       "\\hline\n",
       "\t 15 - 19                           & Males                             & Agriculture, Forestry and Fishing & 10050                             & Albury                            & 2016                              &  6                               \\\\\n",
       "\t 15 - 19                           & Females                           & Agriculture, Forestry and Fishing & 10050                             & Albury                            & 2016                              &  4                               \\\\\n",
       "\t 15 - 19                           & Persons                           & Agriculture, Forestry and Fishing & 10050                             & Albury                            & 2016                              &  6                               \\\\\n",
       "\t 15 - 19                           & Males                             & Agriculture, Forestry and Fishing & 10130                             & Armidale Regional                 & 2016                              & 34                               \\\\\n",
       "\t 15 - 19                           & Females                           & Agriculture, Forestry and Fishing & 10130                             & Armidale Regional                 & 2016                              &  9                               \\\\\n",
       "\t 15 - 19                           & Persons                           & Agriculture, Forestry and Fishing & 10130                             & Armidale Regional                 & 2016                              & 43                               \\\\\n",
       "\\end{tabular}\n"
      ],
      "text/markdown": [
       "\n",
       "| Age | Sex | Industry of Employment | LGA_2016 | LGA | Census year | Value |\n",
       "|---|---|---|---|---|---|---|\n",
       "| 15 - 19                           | Males                             | Agriculture, Forestry and Fishing | 10050                             | Albury                            | 2016                              |  6                                |\n",
       "| 15 - 19                           | Females                           | Agriculture, Forestry and Fishing | 10050                             | Albury                            | 2016                              |  4                                |\n",
       "| 15 - 19                           | Persons                           | Agriculture, Forestry and Fishing | 10050                             | Albury                            | 2016                              |  6                                |\n",
       "| 15 - 19                           | Males                             | Agriculture, Forestry and Fishing | 10130                             | Armidale Regional                 | 2016                              | 34                                |\n",
       "| 15 - 19                           | Females                           | Agriculture, Forestry and Fishing | 10130                             | Armidale Regional                 | 2016                              |  9                                |\n",
       "| 15 - 19                           | Persons                           | Agriculture, Forestry and Fishing | 10130                             | Armidale Regional                 | 2016                              | 43                                |\n",
       "\n"
      ],
      "text/plain": [
       "  Age     Sex     Industry of Employment            LGA_2016 LGA              \n",
       "1 15 - 19 Males   Agriculture, Forestry and Fishing 10050    Albury           \n",
       "2 15 - 19 Females Agriculture, Forestry and Fishing 10050    Albury           \n",
       "3 15 - 19 Persons Agriculture, Forestry and Fishing 10050    Albury           \n",
       "4 15 - 19 Males   Agriculture, Forestry and Fishing 10130    Armidale Regional\n",
       "5 15 - 19 Females Agriculture, Forestry and Fishing 10130    Armidale Regional\n",
       "6 15 - 19 Persons Agriculture, Forestry and Fishing 10130    Armidale Regional\n",
       "  Census year Value\n",
       "1 2016         6   \n",
       "2 2016         4   \n",
       "3 2016         6   \n",
       "4 2016        34   \n",
       "5 2016         9   \n",
       "6 2016        43   "
      ]
     },
     "metadata": {},
     "output_type": "display_data"
    }
   ],
   "source": [
    "head(input_data$industry_employment)"
   ]
  },
  {
   "cell_type": "code",
   "execution_count": 86,
   "metadata": {},
   "outputs": [
    {
     "data": {
      "text/html": [
       "<table>\n",
       "<thead><tr><th scope=col>Age</th><th scope=col>Sex</th><th scope=col>Industry of Employment</th><th scope=col>LGA</th><th scope=col>emp_value</th></tr></thead>\n",
       "<tbody>\n",
       "\t<tr><td>15 - 19                          </td><td>Males                            </td><td>Agriculture, Forestry and Fishing</td><td>Albury                           </td><td> 6                               </td></tr>\n",
       "\t<tr><td>15 - 19                          </td><td>Females                          </td><td>Agriculture, Forestry and Fishing</td><td>Albury                           </td><td> 4                               </td></tr>\n",
       "\t<tr><td>15 - 19                          </td><td>Persons                          </td><td>Agriculture, Forestry and Fishing</td><td>Albury                           </td><td> 6                               </td></tr>\n",
       "\t<tr><td>15 - 19                          </td><td>Males                            </td><td>Agriculture, Forestry and Fishing</td><td>Armidale Regional                </td><td>34                               </td></tr>\n",
       "\t<tr><td>15 - 19                          </td><td>Females                          </td><td>Agriculture, Forestry and Fishing</td><td>Armidale Regional                </td><td> 9                               </td></tr>\n",
       "\t<tr><td>15 - 19                          </td><td>Persons                          </td><td>Agriculture, Forestry and Fishing</td><td>Armidale Regional                </td><td>43                               </td></tr>\n",
       "</tbody>\n",
       "</table>\n"
      ],
      "text/latex": [
       "\\begin{tabular}{r|lllll}\n",
       " Age & Sex & Industry of Employment & LGA & emp\\_value\\\\\n",
       "\\hline\n",
       "\t 15 - 19                           & Males                             & Agriculture, Forestry and Fishing & Albury                            &  6                               \\\\\n",
       "\t 15 - 19                           & Females                           & Agriculture, Forestry and Fishing & Albury                            &  4                               \\\\\n",
       "\t 15 - 19                           & Persons                           & Agriculture, Forestry and Fishing & Albury                            &  6                               \\\\\n",
       "\t 15 - 19                           & Males                             & Agriculture, Forestry and Fishing & Armidale Regional                 & 34                               \\\\\n",
       "\t 15 - 19                           & Females                           & Agriculture, Forestry and Fishing & Armidale Regional                 &  9                               \\\\\n",
       "\t 15 - 19                           & Persons                           & Agriculture, Forestry and Fishing & Armidale Regional                 & 43                               \\\\\n",
       "\\end{tabular}\n"
      ],
      "text/markdown": [
       "\n",
       "| Age | Sex | Industry of Employment | LGA | emp_value |\n",
       "|---|---|---|---|---|\n",
       "| 15 - 19                           | Males                             | Agriculture, Forestry and Fishing | Albury                            |  6                                |\n",
       "| 15 - 19                           | Females                           | Agriculture, Forestry and Fishing | Albury                            |  4                                |\n",
       "| 15 - 19                           | Persons                           | Agriculture, Forestry and Fishing | Albury                            |  6                                |\n",
       "| 15 - 19                           | Males                             | Agriculture, Forestry and Fishing | Armidale Regional                 | 34                                |\n",
       "| 15 - 19                           | Females                           | Agriculture, Forestry and Fishing | Armidale Regional                 |  9                                |\n",
       "| 15 - 19                           | Persons                           | Agriculture, Forestry and Fishing | Armidale Regional                 | 43                                |\n",
       "\n"
      ],
      "text/plain": [
       "  Age     Sex     Industry of Employment            LGA               emp_value\n",
       "1 15 - 19 Males   Agriculture, Forestry and Fishing Albury             6       \n",
       "2 15 - 19 Females Agriculture, Forestry and Fishing Albury             4       \n",
       "3 15 - 19 Persons Agriculture, Forestry and Fishing Albury             6       \n",
       "4 15 - 19 Males   Agriculture, Forestry and Fishing Armidale Regional 34       \n",
       "5 15 - 19 Females Agriculture, Forestry and Fishing Armidale Regional  9       \n",
       "6 15 - 19 Persons Agriculture, Forestry and Fishing Armidale Regional 43       "
      ]
     },
     "metadata": {},
     "output_type": "display_data"
    },
    {
     "name": "stdout",
     "output_type": "stream",
     "text": [
      "Observations: 79,200\n",
      "Variables: 5\n",
      "$ Age                      \u001b[3m\u001b[90m<fct>\u001b[39m\u001b[23m 15 - 19, 15 - 19, 15 - 19, 15 - 19, 15 - 1...\n",
      "$ Sex                      \u001b[3m\u001b[90m<fct>\u001b[39m\u001b[23m Males, Females, Persons, Males, Females, P...\n",
      "$ `Industry of Employment` \u001b[3m\u001b[90m<fct>\u001b[39m\u001b[23m \"Agriculture, Forestry and Fishing\", \"Agri...\n",
      "$ LGA                      \u001b[3m\u001b[90m<fct>\u001b[39m\u001b[23m Albury, Albury, Albury, Armidale Regional,...\n",
      "$ emp_value                \u001b[3m\u001b[90m<int>\u001b[39m\u001b[23m 6, 4, 6, 34, 9, 43, 27, 10, 39, 0, 0, 6, 1...\n"
     ]
    }
   ],
   "source": [
    "employment_agg <- input_data$industry_employment %>%\n",
    "    select(-LGA_2016, -`Census year`) %>%\n",
    "    rename(emp_value = Value)\n",
    "\n",
    "head(employment_agg)\n",
    "glimpse(employment_agg)"
   ]
  },
  {
   "cell_type": "markdown",
   "metadata": {},
   "source": [
    "## Labour"
   ]
  },
  {
   "cell_type": "code",
   "execution_count": 87,
   "metadata": {},
   "outputs": [
    {
     "data": {
      "text/html": [
       "<table>\n",
       "<thead><tr><th scope=col>Age</th><th scope=col>Sex</th><th scope=col>Labour force status</th><th scope=col>LGA_2016</th><th scope=col>LGA</th><th scope=col>Census year</th><th scope=col>Value</th></tr></thead>\n",
       "<tbody>\n",
       "\t<tr><td>15 - 19                   </td><td>Males                     </td><td>Employed, worked full-time</td><td>10050                     </td><td>Albury                    </td><td>2016                      </td><td>236                       </td></tr>\n",
       "\t<tr><td>15 - 19                   </td><td>Females                   </td><td>Employed, worked full-time</td><td>10050                     </td><td>Albury                    </td><td>2016                      </td><td>113                       </td></tr>\n",
       "\t<tr><td>15 - 19                   </td><td>Persons                   </td><td>Employed, worked full-time</td><td>10050                     </td><td>Albury                    </td><td>2016                      </td><td>348                       </td></tr>\n",
       "\t<tr><td>15 - 19                   </td><td>Males                     </td><td>Employed, worked full-time</td><td>10130                     </td><td>Armidale Regional         </td><td>2016                      </td><td>105                       </td></tr>\n",
       "\t<tr><td>15 - 19                   </td><td>Females                   </td><td>Employed, worked full-time</td><td>10130                     </td><td>Armidale Regional         </td><td>2016                      </td><td> 58                       </td></tr>\n",
       "\t<tr><td>15 - 19                   </td><td>Persons                   </td><td>Employed, worked full-time</td><td>10130                     </td><td>Armidale Regional         </td><td>2016                      </td><td>160                       </td></tr>\n",
       "</tbody>\n",
       "</table>\n"
      ],
      "text/latex": [
       "\\begin{tabular}{r|lllllll}\n",
       " Age & Sex & Labour force status & LGA\\_2016 & LGA & Census year & Value\\\\\n",
       "\\hline\n",
       "\t 15 - 19                    & Males                      & Employed, worked full-time & 10050                      & Albury                     & 2016                       & 236                       \\\\\n",
       "\t 15 - 19                    & Females                    & Employed, worked full-time & 10050                      & Albury                     & 2016                       & 113                       \\\\\n",
       "\t 15 - 19                    & Persons                    & Employed, worked full-time & 10050                      & Albury                     & 2016                       & 348                       \\\\\n",
       "\t 15 - 19                    & Males                      & Employed, worked full-time & 10130                      & Armidale Regional          & 2016                       & 105                       \\\\\n",
       "\t 15 - 19                    & Females                    & Employed, worked full-time & 10130                      & Armidale Regional          & 2016                       &  58                       \\\\\n",
       "\t 15 - 19                    & Persons                    & Employed, worked full-time & 10130                      & Armidale Regional          & 2016                       & 160                       \\\\\n",
       "\\end{tabular}\n"
      ],
      "text/markdown": [
       "\n",
       "| Age | Sex | Labour force status | LGA_2016 | LGA | Census year | Value |\n",
       "|---|---|---|---|---|---|---|\n",
       "| 15 - 19                    | Males                      | Employed, worked full-time | 10050                      | Albury                     | 2016                       | 236                        |\n",
       "| 15 - 19                    | Females                    | Employed, worked full-time | 10050                      | Albury                     | 2016                       | 113                        |\n",
       "| 15 - 19                    | Persons                    | Employed, worked full-time | 10050                      | Albury                     | 2016                       | 348                        |\n",
       "| 15 - 19                    | Males                      | Employed, worked full-time | 10130                      | Armidale Regional          | 2016                       | 105                        |\n",
       "| 15 - 19                    | Females                    | Employed, worked full-time | 10130                      | Armidale Regional          | 2016                       |  58                        |\n",
       "| 15 - 19                    | Persons                    | Employed, worked full-time | 10130                      | Armidale Regional          | 2016                       | 160                        |\n",
       "\n"
      ],
      "text/plain": [
       "  Age     Sex     Labour force status        LGA_2016 LGA              \n",
       "1 15 - 19 Males   Employed, worked full-time 10050    Albury           \n",
       "2 15 - 19 Females Employed, worked full-time 10050    Albury           \n",
       "3 15 - 19 Persons Employed, worked full-time 10050    Albury           \n",
       "4 15 - 19 Males   Employed, worked full-time 10130    Armidale Regional\n",
       "5 15 - 19 Females Employed, worked full-time 10130    Armidale Regional\n",
       "6 15 - 19 Persons Employed, worked full-time 10130    Armidale Regional\n",
       "  Census year Value\n",
       "1 2016        236  \n",
       "2 2016        113  \n",
       "3 2016        348  \n",
       "4 2016        105  \n",
       "5 2016         58  \n",
       "6 2016        160  "
      ]
     },
     "metadata": {},
     "output_type": "display_data"
    }
   ],
   "source": [
    "head(input_data$labour)"
   ]
  },
  {
   "cell_type": "code",
   "execution_count": 89,
   "metadata": {},
   "outputs": [
    {
     "data": {
      "text/html": [
       "<table>\n",
       "<thead><tr><th scope=col>Age</th><th scope=col>Sex</th><th scope=col>Labour force status</th><th scope=col>LGA</th><th scope=col>labour_value</th></tr></thead>\n",
       "<tbody>\n",
       "\t<tr><td>15 - 19                   </td><td>Males                     </td><td>Employed, worked full-time</td><td>Albury                    </td><td>236                       </td></tr>\n",
       "\t<tr><td>15 - 19                   </td><td>Females                   </td><td>Employed, worked full-time</td><td>Albury                    </td><td>113                       </td></tr>\n",
       "\t<tr><td>15 - 19                   </td><td>Persons                   </td><td>Employed, worked full-time</td><td>Albury                    </td><td>348                       </td></tr>\n",
       "\t<tr><td>15 - 19                   </td><td>Males                     </td><td>Employed, worked full-time</td><td>Armidale Regional         </td><td>105                       </td></tr>\n",
       "\t<tr><td>15 - 19                   </td><td>Females                   </td><td>Employed, worked full-time</td><td>Armidale Regional         </td><td> 58                       </td></tr>\n",
       "\t<tr><td>15 - 19                   </td><td>Persons                   </td><td>Employed, worked full-time</td><td>Armidale Regional         </td><td>160                       </td></tr>\n",
       "</tbody>\n",
       "</table>\n"
      ],
      "text/latex": [
       "\\begin{tabular}{r|lllll}\n",
       " Age & Sex & Labour force status & LGA & labour\\_value\\\\\n",
       "\\hline\n",
       "\t 15 - 19                    & Males                      & Employed, worked full-time & Albury                     & 236                       \\\\\n",
       "\t 15 - 19                    & Females                    & Employed, worked full-time & Albury                     & 113                       \\\\\n",
       "\t 15 - 19                    & Persons                    & Employed, worked full-time & Albury                     & 348                       \\\\\n",
       "\t 15 - 19                    & Males                      & Employed, worked full-time & Armidale Regional          & 105                       \\\\\n",
       "\t 15 - 19                    & Females                    & Employed, worked full-time & Armidale Regional          &  58                       \\\\\n",
       "\t 15 - 19                    & Persons                    & Employed, worked full-time & Armidale Regional          & 160                       \\\\\n",
       "\\end{tabular}\n"
      ],
      "text/markdown": [
       "\n",
       "| Age | Sex | Labour force status | LGA | labour_value |\n",
       "|---|---|---|---|---|\n",
       "| 15 - 19                    | Males                      | Employed, worked full-time | Albury                     | 236                        |\n",
       "| 15 - 19                    | Females                    | Employed, worked full-time | Albury                     | 113                        |\n",
       "| 15 - 19                    | Persons                    | Employed, worked full-time | Albury                     | 348                        |\n",
       "| 15 - 19                    | Males                      | Employed, worked full-time | Armidale Regional          | 105                        |\n",
       "| 15 - 19                    | Females                    | Employed, worked full-time | Armidale Regional          |  58                        |\n",
       "| 15 - 19                    | Persons                    | Employed, worked full-time | Armidale Regional          | 160                        |\n",
       "\n"
      ],
      "text/plain": [
       "  Age     Sex     Labour force status        LGA               labour_value\n",
       "1 15 - 19 Males   Employed, worked full-time Albury            236         \n",
       "2 15 - 19 Females Employed, worked full-time Albury            113         \n",
       "3 15 - 19 Persons Employed, worked full-time Albury            348         \n",
       "4 15 - 19 Males   Employed, worked full-time Armidale Regional 105         \n",
       "5 15 - 19 Females Employed, worked full-time Armidale Regional  58         \n",
       "6 15 - 19 Persons Employed, worked full-time Armidale Regional 160         "
      ]
     },
     "metadata": {},
     "output_type": "display_data"
    },
    {
     "name": "stdout",
     "output_type": "stream",
     "text": [
      "Observations: 28,512\n",
      "Variables: 5\n",
      "$ Age                   \u001b[3m\u001b[90m<fct>\u001b[39m\u001b[23m 15 - 19, 15 - 19, 15 - 19, 15 - 19, 15 - 19, ...\n",
      "$ Sex                   \u001b[3m\u001b[90m<fct>\u001b[39m\u001b[23m Males, Females, Persons, Males, Females, Pers...\n",
      "$ `Labour force status` \u001b[3m\u001b[90m<fct>\u001b[39m\u001b[23m \"Employed, worked full-time\", \"Employed, work...\n",
      "$ LGA                   \u001b[3m\u001b[90m<fct>\u001b[39m\u001b[23m Albury, Albury, Albury, Armidale Regional, Ar...\n",
      "$ labour_value          \u001b[3m\u001b[90m<int>\u001b[39m\u001b[23m 236, 113, 348, 105, 58, 160, 115, 53, 168, 11...\n"
     ]
    }
   ],
   "source": [
    "labour_agg <- input_data$labour %>%\n",
    "    select(-LGA_2016, -`Census year`) %>%\n",
    "    filter(!grepl(\"Total\", `Labour force status`)) %>%\n",
    "    rename(labour_value = Value)\n",
    "\n",
    "head(labour_agg)\n",
    "glimpse(labour_agg)"
   ]
  },
  {
   "cell_type": "code",
   "execution_count": 68,
   "metadata": {},
   "outputs": [
    {
     "data": {
      "text/html": [
       "<table>\n",
       "<thead><tr><th scope=col>LGA</th><th scope=col>num_service</th></tr></thead>\n",
       "<tbody>\n",
       "\t<tr><td>Albury           </td><td>  1769           </td></tr>\n",
       "\t<tr><td>Armidale Regional</td><td>   185           </td></tr>\n",
       "\t<tr><td>Ballina          </td><td>  1353           </td></tr>\n",
       "\t<tr><td>Balranald        </td><td>     4           </td></tr>\n",
       "\t<tr><td>Bathurst Regional</td><td>  2882           </td></tr>\n",
       "\t<tr><td>Bayside          </td><td>143697           </td></tr>\n",
       "</tbody>\n",
       "</table>\n"
      ],
      "text/latex": [
       "\\begin{tabular}{r|ll}\n",
       " LGA & num\\_service\\\\\n",
       "\\hline\n",
       "\t Albury            &   1769           \\\\\n",
       "\t Armidale Regional &    185           \\\\\n",
       "\t Ballina           &   1353           \\\\\n",
       "\t Balranald         &      4           \\\\\n",
       "\t Bathurst Regional &   2882           \\\\\n",
       "\t Bayside           & 143697           \\\\\n",
       "\\end{tabular}\n"
      ],
      "text/markdown": [
       "\n",
       "| LGA | num_service |\n",
       "|---|---|\n",
       "| Albury            |   1769            |\n",
       "| Armidale Regional |    185            |\n",
       "| Ballina           |   1353            |\n",
       "| Balranald         |      4            |\n",
       "| Bathurst Regional |   2882            |\n",
       "| Bayside           | 143697            |\n",
       "\n"
      ],
      "text/plain": [
       "  LGA               num_service\n",
       "1 Albury              1769     \n",
       "2 Armidale Regional    185     \n",
       "3 Ballina             1353     \n",
       "4 Balranald              4     \n",
       "5 Bathurst Regional   2882     \n",
       "6 Bayside           143697     "
      ]
     },
     "metadata": {},
     "output_type": "display_data"
    },
    {
     "name": "stdout",
     "output_type": "stream",
     "text": [
      "Observations: 128\n",
      "Variables: 2\n",
      "$ LGA         \u001b[3m\u001b[90m<fct>\u001b[39m\u001b[23m Albury, Armidale Regional, Ballina, Balranald, Bathurst...\n",
      "$ num_service \u001b[3m\u001b[90m<dbl>\u001b[39m\u001b[23m 1769, 185, 1353, 4, 2882, 143697, 771, 422, 10, 248915,...\n"
     ]
    }
   ],
   "source": [
    "transport_agg <- input_data$transport %>%\n",
    "    group_by(LGA) %>%\n",
    "    summarise(num_service = sum(num_service))\n",
    "\n",
    "head(transport_agg)\n",
    "glimpse(transport_agg)"
   ]
  },
  {
   "cell_type": "markdown",
   "metadata": {},
   "source": [
    "# Joining the Aggregated Data"
   ]
  },
  {
   "cell_type": "markdown",
   "metadata": {},
   "source": [
    "Aggregate the crime per LGA."
   ]
  },
  {
   "cell_type": "code",
   "execution_count": 92,
   "metadata": {},
   "outputs": [
    {
     "data": {
      "text/html": [
       "<table>\n",
       "<thead><tr><th scope=col>LGA</th><th scope=col>Offence</th><th scope=col>Crim_Count</th><th scope=col>crime_tot_per_lga</th><th scope=col>pop_total</th><th scope=col>crime_rate_per_lga</th></tr></thead>\n",
       "<tbody>\n",
       "\t<tr><td>Albury                               </td><td>Murder *                             </td><td>  2                                  </td><td>6233                                 </td><td>51081                                </td><td>0.1220219                            </td></tr>\n",
       "\t<tr><td>Albury                               </td><td>Attempted murder                     </td><td>  1                                  </td><td>6233                                 </td><td>51081                                </td><td>0.1220219                            </td></tr>\n",
       "\t<tr><td>Albury                               </td><td>Murder accessory, conspiracy         </td><td>  0                                  </td><td>6233                                 </td><td>51081                                </td><td>0.1220219                            </td></tr>\n",
       "\t<tr><td>Albury                               </td><td>Manslaughter *                       </td><td>  0                                  </td><td>6233                                 </td><td>51081                                </td><td>0.1220219                            </td></tr>\n",
       "\t<tr><td>Albury                               </td><td>Domestic violence related assault    </td><td>284                                  </td><td>6233                                 </td><td>51081                                </td><td>0.1220219                            </td></tr>\n",
       "\t<tr><td>Albury                               </td><td>Non-domestic violence related assault</td><td>296                                  </td><td>6233                                 </td><td>51081                                </td><td>0.1220219                            </td></tr>\n",
       "</tbody>\n",
       "</table>\n"
      ],
      "text/latex": [
       "\\begin{tabular}{r|llllll}\n",
       " LGA & Offence & Crim\\_Count & crime\\_tot\\_per\\_lga & pop\\_total & crime\\_rate\\_per\\_lga\\\\\n",
       "\\hline\n",
       "\t Albury                                & Murder *                              &   2                                   & 6233                                  & 51081                                 & 0.1220219                            \\\\\n",
       "\t Albury                                & Attempted murder                      &   1                                   & 6233                                  & 51081                                 & 0.1220219                            \\\\\n",
       "\t Albury                                & Murder accessory, conspiracy          &   0                                   & 6233                                  & 51081                                 & 0.1220219                            \\\\\n",
       "\t Albury                                & Manslaughter *                        &   0                                   & 6233                                  & 51081                                 & 0.1220219                            \\\\\n",
       "\t Albury                                & Domestic violence related assault     & 284                                   & 6233                                  & 51081                                 & 0.1220219                            \\\\\n",
       "\t Albury                                & Non-domestic violence related assault & 296                                   & 6233                                  & 51081                                 & 0.1220219                            \\\\\n",
       "\\end{tabular}\n"
      ],
      "text/markdown": [
       "\n",
       "| LGA | Offence | Crim_Count | crime_tot_per_lga | pop_total | crime_rate_per_lga |\n",
       "|---|---|---|---|---|---|\n",
       "| Albury                                | Murder *                              |   2                                   | 6233                                  | 51081                                 | 0.1220219                             |\n",
       "| Albury                                | Attempted murder                      |   1                                   | 6233                                  | 51081                                 | 0.1220219                             |\n",
       "| Albury                                | Murder accessory, conspiracy          |   0                                   | 6233                                  | 51081                                 | 0.1220219                             |\n",
       "| Albury                                | Manslaughter *                        |   0                                   | 6233                                  | 51081                                 | 0.1220219                             |\n",
       "| Albury                                | Domestic violence related assault     | 284                                   | 6233                                  | 51081                                 | 0.1220219                             |\n",
       "| Albury                                | Non-domestic violence related assault | 296                                   | 6233                                  | 51081                                 | 0.1220219                             |\n",
       "\n"
      ],
      "text/plain": [
       "  LGA    Offence                               Crim_Count crime_tot_per_lga\n",
       "1 Albury Murder *                                2        6233             \n",
       "2 Albury Attempted murder                        1        6233             \n",
       "3 Albury Murder accessory, conspiracy            0        6233             \n",
       "4 Albury Manslaughter *                          0        6233             \n",
       "5 Albury Domestic violence related assault     284        6233             \n",
       "6 Albury Non-domestic violence related assault 296        6233             \n",
       "  pop_total crime_rate_per_lga\n",
       "1 51081     0.1220219         \n",
       "2 51081     0.1220219         \n",
       "3 51081     0.1220219         \n",
       "4 51081     0.1220219         \n",
       "5 51081     0.1220219         \n",
       "6 51081     0.1220219         "
      ]
     },
     "metadata": {},
     "output_type": "display_data"
    }
   ],
   "source": [
    "head(input_data$crime)"
   ]
  },
  {
   "cell_type": "code",
   "execution_count": 104,
   "metadata": {},
   "outputs": [
    {
     "data": {
      "text/html": [
       "<table>\n",
       "<thead><tr><th scope=col>LGA</th><th scope=col>crime_tot_per_lga</th><th scope=col>pop_total</th><th scope=col>crime_rate_per_lga</th></tr></thead>\n",
       "<tbody>\n",
       "\t<tr><td>Albury           </td><td> 6233            </td><td>51081            </td><td>0.12202189       </td></tr>\n",
       "\t<tr><td>Armidale Regional</td><td> 4028            </td><td>29429            </td><td>0.13687179       </td></tr>\n",
       "\t<tr><td>Ballina          </td><td> 2690            </td><td>41774            </td><td>0.06439412       </td></tr>\n",
       "\t<tr><td>Balranald        </td><td>  192            </td><td> 2292            </td><td>0.08376963       </td></tr>\n",
       "\t<tr><td>Bathurst Regional</td><td> 4027            </td><td>41297            </td><td>0.09751314       </td></tr>\n",
       "\t<tr><td>Bayside          </td><td>13024            </td><td>   NA            </td><td>        NA       </td></tr>\n",
       "</tbody>\n",
       "</table>\n"
      ],
      "text/latex": [
       "\\begin{tabular}{r|llll}\n",
       " LGA & crime\\_tot\\_per\\_lga & pop\\_total & crime\\_rate\\_per\\_lga\\\\\n",
       "\\hline\n",
       "\t Albury            &  6233             & 51081             & 0.12202189       \\\\\n",
       "\t Armidale Regional &  4028             & 29429             & 0.13687179       \\\\\n",
       "\t Ballina           &  2690             & 41774             & 0.06439412       \\\\\n",
       "\t Balranald         &   192             &  2292             & 0.08376963       \\\\\n",
       "\t Bathurst Regional &  4027             & 41297             & 0.09751314       \\\\\n",
       "\t Bayside           & 13024             &    NA             &         NA       \\\\\n",
       "\\end{tabular}\n"
      ],
      "text/markdown": [
       "\n",
       "| LGA | crime_tot_per_lga | pop_total | crime_rate_per_lga |\n",
       "|---|---|---|---|\n",
       "| Albury            |  6233             | 51081             | 0.12202189        |\n",
       "| Armidale Regional |  4028             | 29429             | 0.13687179        |\n",
       "| Ballina           |  2690             | 41774             | 0.06439412        |\n",
       "| Balranald         |   192             |  2292             | 0.08376963        |\n",
       "| Bathurst Regional |  4027             | 41297             | 0.09751314        |\n",
       "| Bayside           | 13024             |    NA             |         NA        |\n",
       "\n"
      ],
      "text/plain": [
       "  LGA               crime_tot_per_lga pop_total crime_rate_per_lga\n",
       "1 Albury             6233             51081     0.12202189        \n",
       "2 Armidale Regional  4028             29429     0.13687179        \n",
       "3 Ballina            2690             41774     0.06439412        \n",
       "4 Balranald           192              2292     0.08376963        \n",
       "5 Bathurst Regional  4027             41297     0.09751314        \n",
       "6 Bayside           13024                NA             NA        "
      ]
     },
     "metadata": {},
     "output_type": "display_data"
    },
    {
     "name": "stdout",
     "output_type": "stream",
     "text": [
      "Observations: 130\n",
      "Variables: 4\n",
      "$ LGA                \u001b[3m\u001b[90m<chr>\u001b[39m\u001b[23m \"Albury\", \"Armidale Regional\", \"Ballina\", \"Balra...\n",
      "$ crime_tot_per_lga  \u001b[3m\u001b[90m<int>\u001b[39m\u001b[23m 6233, 4028, 2690, 192, 4027, 13024, 2119, 798, 4...\n",
      "$ pop_total          \u001b[3m\u001b[90m<dbl>\u001b[39m\u001b[23m 51081, 29429, 41774, 2292, 41297, NA, 33229, 126...\n",
      "$ crime_rate_per_lga \u001b[3m\u001b[90m<dbl>\u001b[39m\u001b[23m 0.12202189, 0.13687179, 0.06439412, 0.08376963, ...\n"
     ]
    }
   ],
   "source": [
    "joined_agg <- input_data$crime %>%\n",
    "    group_by(LGA) %>%\n",
    "    summarise(crime_tot_per_lga = sum(Crim_Count), pop_total = mean(pop_total), crime_rate_per_lga = mean(crime_rate_per_lga))\n",
    "\n",
    "head(joined_agg)\n",
    "glimpse(joined_agg)"
   ]
  },
  {
   "cell_type": "markdown",
   "metadata": {},
   "source": [
    "## Joining `age`"
   ]
  },
  {
   "cell_type": "code",
   "execution_count": 105,
   "metadata": {},
   "outputs": [
    {
     "name": "stderr",
     "output_type": "stream",
     "text": [
      "Warning message:\n",
      "\"Column `LGA` joining character vector and factor, coercing into character vector\""
     ]
    },
    {
     "data": {
      "text/html": [
       "<table>\n",
       "<thead><tr><th scope=col>LGA</th><th scope=col>crime_tot_per_lga</th><th scope=col>crime_rate_per_lga</th><th scope=col>Sex</th><th scope=col>Age</th><th scope=col>pop</th><th scope=col>pop_total</th></tr></thead>\n",
       "<tbody>\n",
       "\t<tr><td>Albury   </td><td>6233     </td><td>0.1220219</td><td>Females  </td><td>95 - 99  </td><td> 78      </td><td>51081    </td></tr>\n",
       "\t<tr><td>Albury   </td><td>6233     </td><td>0.1220219</td><td>Males    </td><td>95 - 99  </td><td> 21      </td><td>51081    </td></tr>\n",
       "\t<tr><td>Albury   </td><td>6233     </td><td>0.1220219</td><td>Females  </td><td>90 - 94  </td><td>271      </td><td>51081    </td></tr>\n",
       "\t<tr><td>Albury   </td><td>6233     </td><td>0.1220219</td><td>Males    </td><td>90 - 94  </td><td>117      </td><td>51081    </td></tr>\n",
       "\t<tr><td>Albury   </td><td>6233     </td><td>0.1220219</td><td>Females  </td><td>85 - 89  </td><td>484      </td><td>51081    </td></tr>\n",
       "\t<tr><td>Albury   </td><td>6233     </td><td>0.1220219</td><td>Males    </td><td>85 - 89  </td><td>351      </td><td>51081    </td></tr>\n",
       "</tbody>\n",
       "</table>\n"
      ],
      "text/latex": [
       "\\begin{tabular}{r|lllllll}\n",
       " LGA & crime\\_tot\\_per\\_lga & crime\\_rate\\_per\\_lga & Sex & Age & pop & pop\\_total\\\\\n",
       "\\hline\n",
       "\t Albury    & 6233      & 0.1220219 & Females   & 95 - 99   &  78       & 51081    \\\\\n",
       "\t Albury    & 6233      & 0.1220219 & Males     & 95 - 99   &  21       & 51081    \\\\\n",
       "\t Albury    & 6233      & 0.1220219 & Females   & 90 - 94   & 271       & 51081    \\\\\n",
       "\t Albury    & 6233      & 0.1220219 & Males     & 90 - 94   & 117       & 51081    \\\\\n",
       "\t Albury    & 6233      & 0.1220219 & Females   & 85 - 89   & 484       & 51081    \\\\\n",
       "\t Albury    & 6233      & 0.1220219 & Males     & 85 - 89   & 351       & 51081    \\\\\n",
       "\\end{tabular}\n"
      ],
      "text/markdown": [
       "\n",
       "| LGA | crime_tot_per_lga | crime_rate_per_lga | Sex | Age | pop | pop_total |\n",
       "|---|---|---|---|---|---|---|\n",
       "| Albury    | 6233      | 0.1220219 | Females   | 95 - 99   |  78       | 51081     |\n",
       "| Albury    | 6233      | 0.1220219 | Males     | 95 - 99   |  21       | 51081     |\n",
       "| Albury    | 6233      | 0.1220219 | Females   | 90 - 94   | 271       | 51081     |\n",
       "| Albury    | 6233      | 0.1220219 | Males     | 90 - 94   | 117       | 51081     |\n",
       "| Albury    | 6233      | 0.1220219 | Females   | 85 - 89   | 484       | 51081     |\n",
       "| Albury    | 6233      | 0.1220219 | Males     | 85 - 89   | 351       | 51081     |\n",
       "\n"
      ],
      "text/plain": [
       "  LGA    crime_tot_per_lga crime_rate_per_lga Sex     Age     pop pop_total\n",
       "1 Albury 6233              0.1220219          Females 95 - 99  78 51081    \n",
       "2 Albury 6233              0.1220219          Males   95 - 99  21 51081    \n",
       "3 Albury 6233              0.1220219          Females 90 - 94 271 51081    \n",
       "4 Albury 6233              0.1220219          Males   90 - 94 117 51081    \n",
       "5 Albury 6233              0.1220219          Females 85 - 89 484 51081    \n",
       "6 Albury 6233              0.1220219          Males   85 - 89 351 51081    "
      ]
     },
     "metadata": {},
     "output_type": "display_data"
    },
    {
     "name": "stdout",
     "output_type": "stream",
     "text": [
      "Observations: 5,505\n",
      "Variables: 7\n",
      "$ LGA                \u001b[3m\u001b[90m<chr>\u001b[39m\u001b[23m \"Albury\", \"Albury\", \"Albury\", \"Albury\", \"Albury\"...\n",
      "$ crime_tot_per_lga  \u001b[3m\u001b[90m<int>\u001b[39m\u001b[23m 6233, 6233, 6233, 6233, 6233, 6233, 6233, 6233, ...\n",
      "$ crime_rate_per_lga \u001b[3m\u001b[90m<dbl>\u001b[39m\u001b[23m 0.1220219, 0.1220219, 0.1220219, 0.1220219, 0.12...\n",
      "$ Sex                \u001b[3m\u001b[90m<fct>\u001b[39m\u001b[23m Females, Males, Females, Males, Females, Males, ...\n",
      "$ Age                \u001b[3m\u001b[90m<fct>\u001b[39m\u001b[23m 95 - 99, 95 - 99, 90 - 94, 90 - 94, 85 - 89, 85 ...\n",
      "$ pop                \u001b[3m\u001b[90m<int>\u001b[39m\u001b[23m 78, 21, 271, 117, 484, 351, 734, 501, 924, 746, ...\n",
      "$ pop_total          \u001b[3m\u001b[90m<int>\u001b[39m\u001b[23m 51081, 51081, 51081, 51081, 51081, 51081, 51081,...\n"
     ]
    }
   ],
   "source": [
    "joined_agg %<>%\n",
    "    select(-pop_total) %>%\n",
    "    left_join(age_agg, by = \"LGA\")\n",
    "\n",
    "head(joined_agg)\n",
    "glimpse(joined_agg)"
   ]
  },
  {
   "cell_type": "markdown",
   "metadata": {},
   "source": [
    "## Add Country of Birth"
   ]
  },
  {
   "cell_type": "code",
   "execution_count": 106,
   "metadata": {},
   "outputs": [
    {
     "data": {
      "text/html": [
       "<table>\n",
       "<thead><tr><th scope=col>LGA</th><th scope=col>birthplace_of_person</th><th scope=col>birth_value</th></tr></thead>\n",
       "<tbody>\n",
       "\t<tr><td>Albury          </td><td>New Zealand     </td><td>2510            </td></tr>\n",
       "\t<tr><td>Albury          </td><td>Papua New Guinea</td><td>  99            </td></tr>\n",
       "\t<tr><td>Albury          </td><td>Fiji            </td><td> 218            </td></tr>\n",
       "\t<tr><td>Albury          </td><td>Tonga           </td><td>  24            </td></tr>\n",
       "\t<tr><td>Albury          </td><td>England         </td><td>4254            </td></tr>\n",
       "\t<tr><td>Albury          </td><td>Northern Ireland</td><td>  64            </td></tr>\n",
       "</tbody>\n",
       "</table>\n"
      ],
      "text/latex": [
       "\\begin{tabular}{r|lll}\n",
       " LGA & birthplace\\_of\\_person & birth\\_value\\\\\n",
       "\\hline\n",
       "\t Albury           & New Zealand      & 2510            \\\\\n",
       "\t Albury           & Papua New Guinea &   99            \\\\\n",
       "\t Albury           & Fiji             &  218            \\\\\n",
       "\t Albury           & Tonga            &   24            \\\\\n",
       "\t Albury           & England          & 4254            \\\\\n",
       "\t Albury           & Northern Ireland &   64            \\\\\n",
       "\\end{tabular}\n"
      ],
      "text/markdown": [
       "\n",
       "| LGA | birthplace_of_person | birth_value |\n",
       "|---|---|---|\n",
       "| Albury           | New Zealand      | 2510             |\n",
       "| Albury           | Papua New Guinea |   99             |\n",
       "| Albury           | Fiji             |  218             |\n",
       "| Albury           | Tonga            |   24             |\n",
       "| Albury           | England          | 4254             |\n",
       "| Albury           | Northern Ireland |   64             |\n",
       "\n"
      ],
      "text/plain": [
       "  LGA    birthplace_of_person birth_value\n",
       "1 Albury New Zealand          2510       \n",
       "2 Albury Papua New Guinea       99       \n",
       "3 Albury Fiji                  218       \n",
       "4 Albury Tonga                  24       \n",
       "5 Albury England              4254       \n",
       "6 Albury Northern Ireland       64       "
      ]
     },
     "metadata": {},
     "output_type": "display_data"
    }
   ],
   "source": [
    "head(country_agg)"
   ]
  },
  {
   "cell_type": "code",
   "execution_count": 107,
   "metadata": {},
   "outputs": [
    {
     "name": "stderr",
     "output_type": "stream",
     "text": [
      "Warning message:\n",
      "\"Column `LGA` joining character vector and factor, coercing into character vector\""
     ]
    },
    {
     "data": {
      "text/html": [
       "<table>\n",
       "<thead><tr><th scope=col>LGA</th><th scope=col>crime_tot_per_lga</th><th scope=col>crime_rate_per_lga</th><th scope=col>Sex</th><th scope=col>Age</th><th scope=col>pop</th><th scope=col>pop_total</th><th scope=col>birthplace_of_person</th><th scope=col>birth_value</th></tr></thead>\n",
       "<tbody>\n",
       "\t<tr><td>Albury          </td><td>6233            </td><td>0.1220219       </td><td>Females         </td><td>95 - 99         </td><td>78              </td><td>51081           </td><td>New Zealand     </td><td>2510            </td></tr>\n",
       "\t<tr><td>Albury          </td><td>6233            </td><td>0.1220219       </td><td>Females         </td><td>95 - 99         </td><td>78              </td><td>51081           </td><td>Papua New Guinea</td><td>  99            </td></tr>\n",
       "\t<tr><td>Albury          </td><td>6233            </td><td>0.1220219       </td><td>Females         </td><td>95 - 99         </td><td>78              </td><td>51081           </td><td>Fiji            </td><td> 218            </td></tr>\n",
       "\t<tr><td>Albury          </td><td>6233            </td><td>0.1220219       </td><td>Females         </td><td>95 - 99         </td><td>78              </td><td>51081           </td><td>Tonga           </td><td>  24            </td></tr>\n",
       "\t<tr><td>Albury          </td><td>6233            </td><td>0.1220219       </td><td>Females         </td><td>95 - 99         </td><td>78              </td><td>51081           </td><td>England         </td><td>4254            </td></tr>\n",
       "\t<tr><td>Albury          </td><td>6233            </td><td>0.1220219       </td><td>Females         </td><td>95 - 99         </td><td>78              </td><td>51081           </td><td>Northern Ireland</td><td>  64            </td></tr>\n",
       "</tbody>\n",
       "</table>\n"
      ],
      "text/latex": [
       "\\begin{tabular}{r|lllllllll}\n",
       " LGA & crime\\_tot\\_per\\_lga & crime\\_rate\\_per\\_lga & Sex & Age & pop & pop\\_total & birthplace\\_of\\_person & birth\\_value\\\\\n",
       "\\hline\n",
       "\t Albury           & 6233             & 0.1220219        & Females          & 95 - 99          & 78               & 51081            & New Zealand      & 2510            \\\\\n",
       "\t Albury           & 6233             & 0.1220219        & Females          & 95 - 99          & 78               & 51081            & Papua New Guinea &   99            \\\\\n",
       "\t Albury           & 6233             & 0.1220219        & Females          & 95 - 99          & 78               & 51081            & Fiji             &  218            \\\\\n",
       "\t Albury           & 6233             & 0.1220219        & Females          & 95 - 99          & 78               & 51081            & Tonga            &   24            \\\\\n",
       "\t Albury           & 6233             & 0.1220219        & Females          & 95 - 99          & 78               & 51081            & England          & 4254            \\\\\n",
       "\t Albury           & 6233             & 0.1220219        & Females          & 95 - 99          & 78               & 51081            & Northern Ireland &   64            \\\\\n",
       "\\end{tabular}\n"
      ],
      "text/markdown": [
       "\n",
       "| LGA | crime_tot_per_lga | crime_rate_per_lga | Sex | Age | pop | pop_total | birthplace_of_person | birth_value |\n",
       "|---|---|---|---|---|---|---|---|---|\n",
       "| Albury           | 6233             | 0.1220219        | Females          | 95 - 99          | 78               | 51081            | New Zealand      | 2510             |\n",
       "| Albury           | 6233             | 0.1220219        | Females          | 95 - 99          | 78               | 51081            | Papua New Guinea |   99             |\n",
       "| Albury           | 6233             | 0.1220219        | Females          | 95 - 99          | 78               | 51081            | Fiji             |  218             |\n",
       "| Albury           | 6233             | 0.1220219        | Females          | 95 - 99          | 78               | 51081            | Tonga            |   24             |\n",
       "| Albury           | 6233             | 0.1220219        | Females          | 95 - 99          | 78               | 51081            | England          | 4254             |\n",
       "| Albury           | 6233             | 0.1220219        | Females          | 95 - 99          | 78               | 51081            | Northern Ireland |   64             |\n",
       "\n"
      ],
      "text/plain": [
       "  LGA    crime_tot_per_lga crime_rate_per_lga Sex     Age     pop pop_total\n",
       "1 Albury 6233              0.1220219          Females 95 - 99 78  51081    \n",
       "2 Albury 6233              0.1220219          Females 95 - 99 78  51081    \n",
       "3 Albury 6233              0.1220219          Females 95 - 99 78  51081    \n",
       "4 Albury 6233              0.1220219          Females 95 - 99 78  51081    \n",
       "5 Albury 6233              0.1220219          Females 95 - 99 78  51081    \n",
       "6 Albury 6233              0.1220219          Females 95 - 99 78  51081    \n",
       "  birthplace_of_person birth_value\n",
       "1 New Zealand          2510       \n",
       "2 Papua New Guinea       99       \n",
       "3 Fiji                  218       \n",
       "4 Tonga                  24       \n",
       "5 England              4254       \n",
       "6 Northern Ireland       64       "
      ]
     },
     "metadata": {},
     "output_type": "display_data"
    },
    {
     "name": "stdout",
     "output_type": "stream",
     "text": [
      "Observations: 354,953\n",
      "Variables: 9\n",
      "$ LGA                  \u001b[3m\u001b[90m<chr>\u001b[39m\u001b[23m \"Albury\", \"Albury\", \"Albury\", \"Albury\", \"Albur...\n",
      "$ crime_tot_per_lga    \u001b[3m\u001b[90m<int>\u001b[39m\u001b[23m 6233, 6233, 6233, 6233, 6233, 6233, 6233, 6233...\n",
      "$ crime_rate_per_lga   \u001b[3m\u001b[90m<dbl>\u001b[39m\u001b[23m 0.1220219, 0.1220219, 0.1220219, 0.1220219, 0....\n",
      "$ Sex                  \u001b[3m\u001b[90m<fct>\u001b[39m\u001b[23m Females, Females, Females, Females, Females, F...\n",
      "$ Age                  \u001b[3m\u001b[90m<fct>\u001b[39m\u001b[23m 95 - 99, 95 - 99, 95 - 99, 95 - 99, 95 - 99, 9...\n",
      "$ pop                  \u001b[3m\u001b[90m<int>\u001b[39m\u001b[23m 78, 78, 78, 78, 78, 78, 78, 78, 78, 78, 78, 78...\n",
      "$ pop_total            \u001b[3m\u001b[90m<int>\u001b[39m\u001b[23m 51081, 51081, 51081, 51081, 51081, 51081, 5108...\n",
      "$ birthplace_of_person \u001b[3m\u001b[90m<fct>\u001b[39m\u001b[23m \"New Zealand\", \"Papua New Guinea\", \"Fiji\", \"To...\n",
      "$ birth_value          \u001b[3m\u001b[90m<dbl>\u001b[39m\u001b[23m 2510, 99, 218, 24, 4254, 64, 800, 213, 325, 25...\n"
     ]
    }
   ],
   "source": [
    "joined_agg %<>%\n",
    "    left_join(country_agg, by = \"LGA\")\n",
    "\n",
    "head(joined_agg)\n",
    "glimpse(joined_agg)"
   ]
  },
  {
   "cell_type": "markdown",
   "metadata": {},
   "source": [
    "## Add Industry Employment"
   ]
  },
  {
   "cell_type": "code",
   "execution_count": 108,
   "metadata": {},
   "outputs": [
    {
     "data": {
      "text/html": [
       "<table>\n",
       "<thead><tr><th scope=col>Age</th><th scope=col>Sex</th><th scope=col>Industry of Employment</th><th scope=col>LGA</th><th scope=col>emp_value</th></tr></thead>\n",
       "<tbody>\n",
       "\t<tr><td>15 - 19                          </td><td>Males                            </td><td>Agriculture, Forestry and Fishing</td><td>Albury                           </td><td> 6                               </td></tr>\n",
       "\t<tr><td>15 - 19                          </td><td>Females                          </td><td>Agriculture, Forestry and Fishing</td><td>Albury                           </td><td> 4                               </td></tr>\n",
       "\t<tr><td>15 - 19                          </td><td>Persons                          </td><td>Agriculture, Forestry and Fishing</td><td>Albury                           </td><td> 6                               </td></tr>\n",
       "\t<tr><td>15 - 19                          </td><td>Males                            </td><td>Agriculture, Forestry and Fishing</td><td>Armidale Regional                </td><td>34                               </td></tr>\n",
       "\t<tr><td>15 - 19                          </td><td>Females                          </td><td>Agriculture, Forestry and Fishing</td><td>Armidale Regional                </td><td> 9                               </td></tr>\n",
       "\t<tr><td>15 - 19                          </td><td>Persons                          </td><td>Agriculture, Forestry and Fishing</td><td>Armidale Regional                </td><td>43                               </td></tr>\n",
       "</tbody>\n",
       "</table>\n"
      ],
      "text/latex": [
       "\\begin{tabular}{r|lllll}\n",
       " Age & Sex & Industry of Employment & LGA & emp\\_value\\\\\n",
       "\\hline\n",
       "\t 15 - 19                           & Males                             & Agriculture, Forestry and Fishing & Albury                            &  6                               \\\\\n",
       "\t 15 - 19                           & Females                           & Agriculture, Forestry and Fishing & Albury                            &  4                               \\\\\n",
       "\t 15 - 19                           & Persons                           & Agriculture, Forestry and Fishing & Albury                            &  6                               \\\\\n",
       "\t 15 - 19                           & Males                             & Agriculture, Forestry and Fishing & Armidale Regional                 & 34                               \\\\\n",
       "\t 15 - 19                           & Females                           & Agriculture, Forestry and Fishing & Armidale Regional                 &  9                               \\\\\n",
       "\t 15 - 19                           & Persons                           & Agriculture, Forestry and Fishing & Armidale Regional                 & 43                               \\\\\n",
       "\\end{tabular}\n"
      ],
      "text/markdown": [
       "\n",
       "| Age | Sex | Industry of Employment | LGA | emp_value |\n",
       "|---|---|---|---|---|\n",
       "| 15 - 19                           | Males                             | Agriculture, Forestry and Fishing | Albury                            |  6                                |\n",
       "| 15 - 19                           | Females                           | Agriculture, Forestry and Fishing | Albury                            |  4                                |\n",
       "| 15 - 19                           | Persons                           | Agriculture, Forestry and Fishing | Albury                            |  6                                |\n",
       "| 15 - 19                           | Males                             | Agriculture, Forestry and Fishing | Armidale Regional                 | 34                                |\n",
       "| 15 - 19                           | Females                           | Agriculture, Forestry and Fishing | Armidale Regional                 |  9                                |\n",
       "| 15 - 19                           | Persons                           | Agriculture, Forestry and Fishing | Armidale Regional                 | 43                                |\n",
       "\n"
      ],
      "text/plain": [
       "  Age     Sex     Industry of Employment            LGA               emp_value\n",
       "1 15 - 19 Males   Agriculture, Forestry and Fishing Albury             6       \n",
       "2 15 - 19 Females Agriculture, Forestry and Fishing Albury             4       \n",
       "3 15 - 19 Persons Agriculture, Forestry and Fishing Albury             6       \n",
       "4 15 - 19 Males   Agriculture, Forestry and Fishing Armidale Regional 34       \n",
       "5 15 - 19 Females Agriculture, Forestry and Fishing Armidale Regional  9       \n",
       "6 15 - 19 Persons Agriculture, Forestry and Fishing Armidale Regional 43       "
      ]
     },
     "metadata": {},
     "output_type": "display_data"
    }
   ],
   "source": [
    "head(employment_agg)"
   ]
  },
  {
   "cell_type": "code",
   "execution_count": 109,
   "metadata": {},
   "outputs": [
    {
     "name": "stderr",
     "output_type": "stream",
     "text": [
      "Warning message:\n",
      "\"Column `LGA` joining character vector and factor, coercing into character vector\"Warning message:\n",
      "\"Column `Age` joining factors with different levels, coercing to character vector\"Warning message:\n",
      "\"Column `Sex` joining factors with different levels, coercing to character vector\""
     ]
    },
    {
     "data": {
      "text/html": [
       "<table>\n",
       "<thead><tr><th scope=col>LGA</th><th scope=col>crime_tot_per_lga</th><th scope=col>crime_rate_per_lga</th><th scope=col>Sex</th><th scope=col>Age</th><th scope=col>pop</th><th scope=col>pop_total</th><th scope=col>birthplace_of_person</th><th scope=col>birth_value</th><th scope=col>Industry of Employment</th><th scope=col>emp_value</th></tr></thead>\n",
       "<tbody>\n",
       "\t<tr><td>Albury          </td><td>6233            </td><td>0.1220219       </td><td>Females         </td><td>95 - 99         </td><td>78              </td><td>51081           </td><td>New Zealand     </td><td>2510            </td><td>NA              </td><td>NA              </td></tr>\n",
       "\t<tr><td>Albury          </td><td>6233            </td><td>0.1220219       </td><td>Females         </td><td>95 - 99         </td><td>78              </td><td>51081           </td><td>Papua New Guinea</td><td>  99            </td><td>NA              </td><td>NA              </td></tr>\n",
       "\t<tr><td>Albury          </td><td>6233            </td><td>0.1220219       </td><td>Females         </td><td>95 - 99         </td><td>78              </td><td>51081           </td><td>Fiji            </td><td> 218            </td><td>NA              </td><td>NA              </td></tr>\n",
       "\t<tr><td>Albury          </td><td>6233            </td><td>0.1220219       </td><td>Females         </td><td>95 - 99         </td><td>78              </td><td>51081           </td><td>Tonga           </td><td>  24            </td><td>NA              </td><td>NA              </td></tr>\n",
       "\t<tr><td>Albury          </td><td>6233            </td><td>0.1220219       </td><td>Females         </td><td>95 - 99         </td><td>78              </td><td>51081           </td><td>England         </td><td>4254            </td><td>NA              </td><td>NA              </td></tr>\n",
       "\t<tr><td>Albury          </td><td>6233            </td><td>0.1220219       </td><td>Females         </td><td>95 - 99         </td><td>78              </td><td>51081           </td><td>Northern Ireland</td><td>  64            </td><td>NA              </td><td>NA              </td></tr>\n",
       "</tbody>\n",
       "</table>\n"
      ],
      "text/latex": [
       "\\begin{tabular}{r|lllllllllll}\n",
       " LGA & crime\\_tot\\_per\\_lga & crime\\_rate\\_per\\_lga & Sex & Age & pop & pop\\_total & birthplace\\_of\\_person & birth\\_value & Industry of Employment & emp\\_value\\\\\n",
       "\\hline\n",
       "\t Albury           & 6233             & 0.1220219        & Females          & 95 - 99          & 78               & 51081            & New Zealand      & 2510             & NA               & NA              \\\\\n",
       "\t Albury           & 6233             & 0.1220219        & Females          & 95 - 99          & 78               & 51081            & Papua New Guinea &   99             & NA               & NA              \\\\\n",
       "\t Albury           & 6233             & 0.1220219        & Females          & 95 - 99          & 78               & 51081            & Fiji             &  218             & NA               & NA              \\\\\n",
       "\t Albury           & 6233             & 0.1220219        & Females          & 95 - 99          & 78               & 51081            & Tonga            &   24             & NA               & NA              \\\\\n",
       "\t Albury           & 6233             & 0.1220219        & Females          & 95 - 99          & 78               & 51081            & England          & 4254             & NA               & NA              \\\\\n",
       "\t Albury           & 6233             & 0.1220219        & Females          & 95 - 99          & 78               & 51081            & Northern Ireland &   64             & NA               & NA              \\\\\n",
       "\\end{tabular}\n"
      ],
      "text/markdown": [
       "\n",
       "| LGA | crime_tot_per_lga | crime_rate_per_lga | Sex | Age | pop | pop_total | birthplace_of_person | birth_value | Industry of Employment | emp_value |\n",
       "|---|---|---|---|---|---|---|---|---|---|---|\n",
       "| Albury           | 6233             | 0.1220219        | Females          | 95 - 99          | 78               | 51081            | New Zealand      | 2510             | NA               | NA               |\n",
       "| Albury           | 6233             | 0.1220219        | Females          | 95 - 99          | 78               | 51081            | Papua New Guinea |   99             | NA               | NA               |\n",
       "| Albury           | 6233             | 0.1220219        | Females          | 95 - 99          | 78               | 51081            | Fiji             |  218             | NA               | NA               |\n",
       "| Albury           | 6233             | 0.1220219        | Females          | 95 - 99          | 78               | 51081            | Tonga            |   24             | NA               | NA               |\n",
       "| Albury           | 6233             | 0.1220219        | Females          | 95 - 99          | 78               | 51081            | England          | 4254             | NA               | NA               |\n",
       "| Albury           | 6233             | 0.1220219        | Females          | 95 - 99          | 78               | 51081            | Northern Ireland |   64             | NA               | NA               |\n",
       "\n"
      ],
      "text/plain": [
       "  LGA    crime_tot_per_lga crime_rate_per_lga Sex     Age     pop pop_total\n",
       "1 Albury 6233              0.1220219          Females 95 - 99 78  51081    \n",
       "2 Albury 6233              0.1220219          Females 95 - 99 78  51081    \n",
       "3 Albury 6233              0.1220219          Females 95 - 99 78  51081    \n",
       "4 Albury 6233              0.1220219          Females 95 - 99 78  51081    \n",
       "5 Albury 6233              0.1220219          Females 95 - 99 78  51081    \n",
       "6 Albury 6233              0.1220219          Females 95 - 99 78  51081    \n",
       "  birthplace_of_person birth_value Industry of Employment emp_value\n",
       "1 New Zealand          2510        NA                     NA       \n",
       "2 Papua New Guinea       99        NA                     NA       \n",
       "3 Fiji                  218        NA                     NA       \n",
       "4 Tonga                  24        NA                     NA       \n",
       "5 England              4254        NA                     NA       \n",
       "6 Northern Ireland       64        NA                     NA       "
      ]
     },
     "metadata": {},
     "output_type": "display_data"
    },
    {
     "name": "stdout",
     "output_type": "stream",
     "text": [
      "Observations: 968,045\n",
      "Variables: 11\n",
      "$ LGA                      \u001b[3m\u001b[90m<chr>\u001b[39m\u001b[23m \"Albury\", \"Albury\", \"Albury\", \"Albury\", \"A...\n",
      "$ crime_tot_per_lga        \u001b[3m\u001b[90m<int>\u001b[39m\u001b[23m 6233, 6233, 6233, 6233, 6233, 6233, 6233, ...\n",
      "$ crime_rate_per_lga       \u001b[3m\u001b[90m<dbl>\u001b[39m\u001b[23m 0.1220219, 0.1220219, 0.1220219, 0.1220219...\n",
      "$ Sex                      \u001b[3m\u001b[90m<chr>\u001b[39m\u001b[23m \"Females\", \"Females\", \"Females\", \"Females\"...\n",
      "$ Age                      \u001b[3m\u001b[90m<chr>\u001b[39m\u001b[23m \"95 - 99\", \"95 - 99\", \"95 - 99\", \"95 - 99\"...\n",
      "$ pop                      \u001b[3m\u001b[90m<int>\u001b[39m\u001b[23m 78, 78, 78, 78, 78, 78, 78, 78, 78, 78, 78...\n",
      "$ pop_total                \u001b[3m\u001b[90m<int>\u001b[39m\u001b[23m 51081, 51081, 51081, 51081, 51081, 51081, ...\n",
      "$ birthplace_of_person     \u001b[3m\u001b[90m<fct>\u001b[39m\u001b[23m \"New Zealand\", \"Papua New Guinea\", \"Fiji\",...\n",
      "$ birth_value              \u001b[3m\u001b[90m<dbl>\u001b[39m\u001b[23m 2510, 99, 218, 24, 4254, 64, 800, 213, 325...\n",
      "$ `Industry of Employment` \u001b[3m\u001b[90m<fct>\u001b[39m\u001b[23m NA, NA, NA, NA, NA, NA, NA, NA, NA, NA, NA...\n",
      "$ emp_value                \u001b[3m\u001b[90m<int>\u001b[39m\u001b[23m NA, NA, NA, NA, NA, NA, NA, NA, NA, NA, NA...\n"
     ]
    }
   ],
   "source": [
    "joined_agg %<>%\n",
    "    left_join(employment_agg, by = c(\"LGA\", \"Age\", \"Sex\"))\n",
    "\n",
    "head(joined_agg)\n",
    "glimpse(joined_agg)"
   ]
  },
  {
   "cell_type": "markdown",
   "metadata": {},
   "source": [
    "## Add Labour"
   ]
  },
  {
   "cell_type": "code",
   "execution_count": 110,
   "metadata": {},
   "outputs": [
    {
     "data": {
      "text/html": [
       "<table>\n",
       "<thead><tr><th scope=col>Age</th><th scope=col>Sex</th><th scope=col>Labour force status</th><th scope=col>LGA</th><th scope=col>labour_value</th></tr></thead>\n",
       "<tbody>\n",
       "\t<tr><td>15 - 19                   </td><td>Males                     </td><td>Employed, worked full-time</td><td>Albury                    </td><td>236                       </td></tr>\n",
       "\t<tr><td>15 - 19                   </td><td>Females                   </td><td>Employed, worked full-time</td><td>Albury                    </td><td>113                       </td></tr>\n",
       "\t<tr><td>15 - 19                   </td><td>Persons                   </td><td>Employed, worked full-time</td><td>Albury                    </td><td>348                       </td></tr>\n",
       "\t<tr><td>15 - 19                   </td><td>Males                     </td><td>Employed, worked full-time</td><td>Armidale Regional         </td><td>105                       </td></tr>\n",
       "\t<tr><td>15 - 19                   </td><td>Females                   </td><td>Employed, worked full-time</td><td>Armidale Regional         </td><td> 58                       </td></tr>\n",
       "\t<tr><td>15 - 19                   </td><td>Persons                   </td><td>Employed, worked full-time</td><td>Armidale Regional         </td><td>160                       </td></tr>\n",
       "</tbody>\n",
       "</table>\n"
      ],
      "text/latex": [
       "\\begin{tabular}{r|lllll}\n",
       " Age & Sex & Labour force status & LGA & labour\\_value\\\\\n",
       "\\hline\n",
       "\t 15 - 19                    & Males                      & Employed, worked full-time & Albury                     & 236                       \\\\\n",
       "\t 15 - 19                    & Females                    & Employed, worked full-time & Albury                     & 113                       \\\\\n",
       "\t 15 - 19                    & Persons                    & Employed, worked full-time & Albury                     & 348                       \\\\\n",
       "\t 15 - 19                    & Males                      & Employed, worked full-time & Armidale Regional          & 105                       \\\\\n",
       "\t 15 - 19                    & Females                    & Employed, worked full-time & Armidale Regional          &  58                       \\\\\n",
       "\t 15 - 19                    & Persons                    & Employed, worked full-time & Armidale Regional          & 160                       \\\\\n",
       "\\end{tabular}\n"
      ],
      "text/markdown": [
       "\n",
       "| Age | Sex | Labour force status | LGA | labour_value |\n",
       "|---|---|---|---|---|\n",
       "| 15 - 19                    | Males                      | Employed, worked full-time | Albury                     | 236                        |\n",
       "| 15 - 19                    | Females                    | Employed, worked full-time | Albury                     | 113                        |\n",
       "| 15 - 19                    | Persons                    | Employed, worked full-time | Albury                     | 348                        |\n",
       "| 15 - 19                    | Males                      | Employed, worked full-time | Armidale Regional          | 105                        |\n",
       "| 15 - 19                    | Females                    | Employed, worked full-time | Armidale Regional          |  58                        |\n",
       "| 15 - 19                    | Persons                    | Employed, worked full-time | Armidale Regional          | 160                        |\n",
       "\n"
      ],
      "text/plain": [
       "  Age     Sex     Labour force status        LGA               labour_value\n",
       "1 15 - 19 Males   Employed, worked full-time Albury            236         \n",
       "2 15 - 19 Females Employed, worked full-time Albury            113         \n",
       "3 15 - 19 Persons Employed, worked full-time Albury            348         \n",
       "4 15 - 19 Males   Employed, worked full-time Armidale Regional 105         \n",
       "5 15 - 19 Females Employed, worked full-time Armidale Regional  58         \n",
       "6 15 - 19 Persons Employed, worked full-time Armidale Regional 160         "
      ]
     },
     "metadata": {},
     "output_type": "display_data"
    }
   ],
   "source": [
    "head(labour_agg)"
   ]
  },
  {
   "cell_type": "code",
   "execution_count": 111,
   "metadata": {},
   "outputs": [
    {
     "name": "stderr",
     "output_type": "stream",
     "text": [
      "Warning message:\n",
      "\"Column `LGA` joining character vector and factor, coercing into character vector\"Warning message:\n",
      "\"Column `Age` joining character vector and factor, coercing into character vector\"Warning message:\n",
      "\"Column `Sex` joining character vector and factor, coercing into character vector\""
     ]
    },
    {
     "data": {
      "text/html": [
       "<table>\n",
       "<thead><tr><th scope=col>LGA</th><th scope=col>crime_tot_per_lga</th><th scope=col>crime_rate_per_lga</th><th scope=col>Sex</th><th scope=col>Age</th><th scope=col>pop</th><th scope=col>pop_total</th><th scope=col>birthplace_of_person</th><th scope=col>birth_value</th><th scope=col>Industry of Employment</th><th scope=col>emp_value</th><th scope=col>Labour force status</th><th scope=col>labour_value</th></tr></thead>\n",
       "<tbody>\n",
       "\t<tr><td>Albury          </td><td>6233            </td><td>0.1220219       </td><td>Females         </td><td>95 - 99         </td><td>78              </td><td>51081           </td><td>New Zealand     </td><td>2510            </td><td>NA              </td><td>NA              </td><td>NA              </td><td>NA              </td></tr>\n",
       "\t<tr><td>Albury          </td><td>6233            </td><td>0.1220219       </td><td>Females         </td><td>95 - 99         </td><td>78              </td><td>51081           </td><td>Papua New Guinea</td><td>  99            </td><td>NA              </td><td>NA              </td><td>NA              </td><td>NA              </td></tr>\n",
       "\t<tr><td>Albury          </td><td>6233            </td><td>0.1220219       </td><td>Females         </td><td>95 - 99         </td><td>78              </td><td>51081           </td><td>Fiji            </td><td> 218            </td><td>NA              </td><td>NA              </td><td>NA              </td><td>NA              </td></tr>\n",
       "\t<tr><td>Albury          </td><td>6233            </td><td>0.1220219       </td><td>Females         </td><td>95 - 99         </td><td>78              </td><td>51081           </td><td>Tonga           </td><td>  24            </td><td>NA              </td><td>NA              </td><td>NA              </td><td>NA              </td></tr>\n",
       "\t<tr><td>Albury          </td><td>6233            </td><td>0.1220219       </td><td>Females         </td><td>95 - 99         </td><td>78              </td><td>51081           </td><td>England         </td><td>4254            </td><td>NA              </td><td>NA              </td><td>NA              </td><td>NA              </td></tr>\n",
       "\t<tr><td>Albury          </td><td>6233            </td><td>0.1220219       </td><td>Females         </td><td>95 - 99         </td><td>78              </td><td>51081           </td><td>Northern Ireland</td><td>  64            </td><td>NA              </td><td>NA              </td><td>NA              </td><td>NA              </td></tr>\n",
       "</tbody>\n",
       "</table>\n"
      ],
      "text/latex": [
       "\\begin{tabular}{r|lllllllllllll}\n",
       " LGA & crime\\_tot\\_per\\_lga & crime\\_rate\\_per\\_lga & Sex & Age & pop & pop\\_total & birthplace\\_of\\_person & birth\\_value & Industry of Employment & emp\\_value & Labour force status & labour\\_value\\\\\n",
       "\\hline\n",
       "\t Albury           & 6233             & 0.1220219        & Females          & 95 - 99          & 78               & 51081            & New Zealand      & 2510             & NA               & NA               & NA               & NA              \\\\\n",
       "\t Albury           & 6233             & 0.1220219        & Females          & 95 - 99          & 78               & 51081            & Papua New Guinea &   99             & NA               & NA               & NA               & NA              \\\\\n",
       "\t Albury           & 6233             & 0.1220219        & Females          & 95 - 99          & 78               & 51081            & Fiji             &  218             & NA               & NA               & NA               & NA              \\\\\n",
       "\t Albury           & 6233             & 0.1220219        & Females          & 95 - 99          & 78               & 51081            & Tonga            &   24             & NA               & NA               & NA               & NA              \\\\\n",
       "\t Albury           & 6233             & 0.1220219        & Females          & 95 - 99          & 78               & 51081            & England          & 4254             & NA               & NA               & NA               & NA              \\\\\n",
       "\t Albury           & 6233             & 0.1220219        & Females          & 95 - 99          & 78               & 51081            & Northern Ireland &   64             & NA               & NA               & NA               & NA              \\\\\n",
       "\\end{tabular}\n"
      ],
      "text/markdown": [
       "\n",
       "| LGA | crime_tot_per_lga | crime_rate_per_lga | Sex | Age | pop | pop_total | birthplace_of_person | birth_value | Industry of Employment | emp_value | Labour force status | labour_value |\n",
       "|---|---|---|---|---|---|---|---|---|---|---|---|---|\n",
       "| Albury           | 6233             | 0.1220219        | Females          | 95 - 99          | 78               | 51081            | New Zealand      | 2510             | NA               | NA               | NA               | NA               |\n",
       "| Albury           | 6233             | 0.1220219        | Females          | 95 - 99          | 78               | 51081            | Papua New Guinea |   99             | NA               | NA               | NA               | NA               |\n",
       "| Albury           | 6233             | 0.1220219        | Females          | 95 - 99          | 78               | 51081            | Fiji             |  218             | NA               | NA               | NA               | NA               |\n",
       "| Albury           | 6233             | 0.1220219        | Females          | 95 - 99          | 78               | 51081            | Tonga            |   24             | NA               | NA               | NA               | NA               |\n",
       "| Albury           | 6233             | 0.1220219        | Females          | 95 - 99          | 78               | 51081            | England          | 4254             | NA               | NA               | NA               | NA               |\n",
       "| Albury           | 6233             | 0.1220219        | Females          | 95 - 99          | 78               | 51081            | Northern Ireland |   64             | NA               | NA               | NA               | NA               |\n",
       "\n"
      ],
      "text/plain": [
       "  LGA    crime_tot_per_lga crime_rate_per_lga Sex     Age     pop pop_total\n",
       "1 Albury 6233              0.1220219          Females 95 - 99 78  51081    \n",
       "2 Albury 6233              0.1220219          Females 95 - 99 78  51081    \n",
       "3 Albury 6233              0.1220219          Females 95 - 99 78  51081    \n",
       "4 Albury 6233              0.1220219          Females 95 - 99 78  51081    \n",
       "5 Albury 6233              0.1220219          Females 95 - 99 78  51081    \n",
       "6 Albury 6233              0.1220219          Females 95 - 99 78  51081    \n",
       "  birthplace_of_person birth_value Industry of Employment emp_value\n",
       "1 New Zealand          2510        NA                     NA       \n",
       "2 Papua New Guinea       99        NA                     NA       \n",
       "3 Fiji                  218        NA                     NA       \n",
       "4 Tonga                  24        NA                     NA       \n",
       "5 England              4254        NA                     NA       \n",
       "6 Northern Ireland       64        NA                     NA       \n",
       "  Labour force status labour_value\n",
       "1 NA                  NA          \n",
       "2 NA                  NA          \n",
       "3 NA                  NA          \n",
       "4 NA                  NA          \n",
       "5 NA                  NA          \n",
       "6 NA                  NA          "
      ]
     },
     "metadata": {},
     "output_type": "display_data"
    },
    {
     "name": "stdout",
     "output_type": "stream",
     "text": [
      "Observations: 5,485,565\n",
      "Variables: 13\n",
      "$ LGA                      \u001b[3m\u001b[90m<chr>\u001b[39m\u001b[23m \"Albury\", \"Albury\", \"Albury\", \"Albury\", \"A...\n",
      "$ crime_tot_per_lga        \u001b[3m\u001b[90m<int>\u001b[39m\u001b[23m 6233, 6233, 6233, 6233, 6233, 6233, 6233, ...\n",
      "$ crime_rate_per_lga       \u001b[3m\u001b[90m<dbl>\u001b[39m\u001b[23m 0.1220219, 0.1220219, 0.1220219, 0.1220219...\n",
      "$ Sex                      \u001b[3m\u001b[90m<chr>\u001b[39m\u001b[23m \"Females\", \"Females\", \"Females\", \"Females\"...\n",
      "$ Age                      \u001b[3m\u001b[90m<chr>\u001b[39m\u001b[23m \"95 - 99\", \"95 - 99\", \"95 - 99\", \"95 - 99\"...\n",
      "$ pop                      \u001b[3m\u001b[90m<int>\u001b[39m\u001b[23m 78, 78, 78, 78, 78, 78, 78, 78, 78, 78, 78...\n",
      "$ pop_total                \u001b[3m\u001b[90m<int>\u001b[39m\u001b[23m 51081, 51081, 51081, 51081, 51081, 51081, ...\n",
      "$ birthplace_of_person     \u001b[3m\u001b[90m<fct>\u001b[39m\u001b[23m \"New Zealand\", \"Papua New Guinea\", \"Fiji\",...\n",
      "$ birth_value              \u001b[3m\u001b[90m<dbl>\u001b[39m\u001b[23m 2510, 99, 218, 24, 4254, 64, 800, 213, 325...\n",
      "$ `Industry of Employment` \u001b[3m\u001b[90m<fct>\u001b[39m\u001b[23m NA, NA, NA, NA, NA, NA, NA, NA, NA, NA, NA...\n",
      "$ emp_value                \u001b[3m\u001b[90m<int>\u001b[39m\u001b[23m NA, NA, NA, NA, NA, NA, NA, NA, NA, NA, NA...\n",
      "$ `Labour force status`    \u001b[3m\u001b[90m<fct>\u001b[39m\u001b[23m NA, NA, NA, NA, NA, NA, NA, NA, NA, NA, NA...\n",
      "$ labour_value             \u001b[3m\u001b[90m<int>\u001b[39m\u001b[23m NA, NA, NA, NA, NA, NA, NA, NA, NA, NA, NA...\n"
     ]
    }
   ],
   "source": [
    "joined_agg %<>%\n",
    "    left_join(labour_agg, by = c(\"LGA\", \"Age\", \"Sex\"))\n",
    "\n",
    "head(joined_agg)\n",
    "glimpse(joined_agg)"
   ]
  },
  {
   "cell_type": "markdown",
   "metadata": {},
   "source": [
    "## Add Population Density"
   ]
  },
  {
   "cell_type": "code",
   "execution_count": 112,
   "metadata": {},
   "outputs": [
    {
     "data": {
      "text/html": [
       "<table>\n",
       "<thead><tr><th scope=col>X1</th><th scope=col>LGA</th><th scope=col>Pop_Dens_km2</th></tr></thead>\n",
       "<tbody>\n",
       "\t<tr><td>1                </td><td>Albury           </td><td>170.5            </td></tr>\n",
       "\t<tr><td>2                </td><td>Armidale Regional</td><td>  3.5            </td></tr>\n",
       "\t<tr><td>3                </td><td>Ballina          </td><td> 88.7            </td></tr>\n",
       "\t<tr><td>4                </td><td>Balranald        </td><td>  0.1            </td></tr>\n",
       "\t<tr><td>5                </td><td>Bathurst Regional</td><td> 11.1            </td></tr>\n",
       "\t<tr><td>6                </td><td>Bega Valley      </td><td>  5.4            </td></tr>\n",
       "</tbody>\n",
       "</table>\n"
      ],
      "text/latex": [
       "\\begin{tabular}{r|lll}\n",
       " X1 & LGA & Pop\\_Dens\\_km2\\\\\n",
       "\\hline\n",
       "\t 1                 & Albury            & 170.5            \\\\\n",
       "\t 2                 & Armidale Regional &   3.5            \\\\\n",
       "\t 3                 & Ballina           &  88.7            \\\\\n",
       "\t 4                 & Balranald         &   0.1            \\\\\n",
       "\t 5                 & Bathurst Regional &  11.1            \\\\\n",
       "\t 6                 & Bega Valley       &   5.4            \\\\\n",
       "\\end{tabular}\n"
      ],
      "text/markdown": [
       "\n",
       "| X1 | LGA | Pop_Dens_km2 |\n",
       "|---|---|---|\n",
       "| 1                 | Albury            | 170.5             |\n",
       "| 2                 | Armidale Regional |   3.5             |\n",
       "| 3                 | Ballina           |  88.7             |\n",
       "| 4                 | Balranald         |   0.1             |\n",
       "| 5                 | Bathurst Regional |  11.1             |\n",
       "| 6                 | Bega Valley       |   5.4             |\n",
       "\n"
      ],
      "text/plain": [
       "  X1 LGA               Pop_Dens_km2\n",
       "1 1  Albury            170.5       \n",
       "2 2  Armidale Regional   3.5       \n",
       "3 3  Ballina            88.7       \n",
       "4 4  Balranald           0.1       \n",
       "5 5  Bathurst Regional  11.1       \n",
       "6 6  Bega Valley         5.4       "
      ]
     },
     "metadata": {},
     "output_type": "display_data"
    }
   ],
   "source": [
    "head(input_data$pop_dens)"
   ]
  },
  {
   "cell_type": "code",
   "execution_count": 113,
   "metadata": {},
   "outputs": [
    {
     "name": "stderr",
     "output_type": "stream",
     "text": [
      "Warning message:\n",
      "\"Column `LGA` joining character vector and factor, coercing into character vector\""
     ]
    },
    {
     "data": {
      "text/html": [
       "<table>\n",
       "<thead><tr><th scope=col>LGA</th><th scope=col>crime_tot_per_lga</th><th scope=col>crime_rate_per_lga</th><th scope=col>Sex</th><th scope=col>Age</th><th scope=col>pop</th><th scope=col>pop_total</th><th scope=col>birthplace_of_person</th><th scope=col>birth_value</th><th scope=col>Industry of Employment</th><th scope=col>emp_value</th><th scope=col>Labour force status</th><th scope=col>labour_value</th><th scope=col>Pop_Dens_km2</th></tr></thead>\n",
       "<tbody>\n",
       "\t<tr><td>Albury          </td><td>6233            </td><td>0.1220219       </td><td>Females         </td><td>95 - 99         </td><td>78              </td><td>51081           </td><td>New Zealand     </td><td>2510            </td><td>NA              </td><td>NA              </td><td>NA              </td><td>NA              </td><td>170.5           </td></tr>\n",
       "\t<tr><td>Albury          </td><td>6233            </td><td>0.1220219       </td><td>Females         </td><td>95 - 99         </td><td>78              </td><td>51081           </td><td>Papua New Guinea</td><td>  99            </td><td>NA              </td><td>NA              </td><td>NA              </td><td>NA              </td><td>170.5           </td></tr>\n",
       "\t<tr><td>Albury          </td><td>6233            </td><td>0.1220219       </td><td>Females         </td><td>95 - 99         </td><td>78              </td><td>51081           </td><td>Fiji            </td><td> 218            </td><td>NA              </td><td>NA              </td><td>NA              </td><td>NA              </td><td>170.5           </td></tr>\n",
       "\t<tr><td>Albury          </td><td>6233            </td><td>0.1220219       </td><td>Females         </td><td>95 - 99         </td><td>78              </td><td>51081           </td><td>Tonga           </td><td>  24            </td><td>NA              </td><td>NA              </td><td>NA              </td><td>NA              </td><td>170.5           </td></tr>\n",
       "\t<tr><td>Albury          </td><td>6233            </td><td>0.1220219       </td><td>Females         </td><td>95 - 99         </td><td>78              </td><td>51081           </td><td>England         </td><td>4254            </td><td>NA              </td><td>NA              </td><td>NA              </td><td>NA              </td><td>170.5           </td></tr>\n",
       "\t<tr><td>Albury          </td><td>6233            </td><td>0.1220219       </td><td>Females         </td><td>95 - 99         </td><td>78              </td><td>51081           </td><td>Northern Ireland</td><td>  64            </td><td>NA              </td><td>NA              </td><td>NA              </td><td>NA              </td><td>170.5           </td></tr>\n",
       "</tbody>\n",
       "</table>\n"
      ],
      "text/latex": [
       "\\begin{tabular}{r|llllllllllllll}\n",
       " LGA & crime\\_tot\\_per\\_lga & crime\\_rate\\_per\\_lga & Sex & Age & pop & pop\\_total & birthplace\\_of\\_person & birth\\_value & Industry of Employment & emp\\_value & Labour force status & labour\\_value & Pop\\_Dens\\_km2\\\\\n",
       "\\hline\n",
       "\t Albury           & 6233             & 0.1220219        & Females          & 95 - 99          & 78               & 51081            & New Zealand      & 2510             & NA               & NA               & NA               & NA               & 170.5           \\\\\n",
       "\t Albury           & 6233             & 0.1220219        & Females          & 95 - 99          & 78               & 51081            & Papua New Guinea &   99             & NA               & NA               & NA               & NA               & 170.5           \\\\\n",
       "\t Albury           & 6233             & 0.1220219        & Females          & 95 - 99          & 78               & 51081            & Fiji             &  218             & NA               & NA               & NA               & NA               & 170.5           \\\\\n",
       "\t Albury           & 6233             & 0.1220219        & Females          & 95 - 99          & 78               & 51081            & Tonga            &   24             & NA               & NA               & NA               & NA               & 170.5           \\\\\n",
       "\t Albury           & 6233             & 0.1220219        & Females          & 95 - 99          & 78               & 51081            & England          & 4254             & NA               & NA               & NA               & NA               & 170.5           \\\\\n",
       "\t Albury           & 6233             & 0.1220219        & Females          & 95 - 99          & 78               & 51081            & Northern Ireland &   64             & NA               & NA               & NA               & NA               & 170.5           \\\\\n",
       "\\end{tabular}\n"
      ],
      "text/markdown": [
       "\n",
       "| LGA | crime_tot_per_lga | crime_rate_per_lga | Sex | Age | pop | pop_total | birthplace_of_person | birth_value | Industry of Employment | emp_value | Labour force status | labour_value | Pop_Dens_km2 |\n",
       "|---|---|---|---|---|---|---|---|---|---|---|---|---|---|\n",
       "| Albury           | 6233             | 0.1220219        | Females          | 95 - 99          | 78               | 51081            | New Zealand      | 2510             | NA               | NA               | NA               | NA               | 170.5            |\n",
       "| Albury           | 6233             | 0.1220219        | Females          | 95 - 99          | 78               | 51081            | Papua New Guinea |   99             | NA               | NA               | NA               | NA               | 170.5            |\n",
       "| Albury           | 6233             | 0.1220219        | Females          | 95 - 99          | 78               | 51081            | Fiji             |  218             | NA               | NA               | NA               | NA               | 170.5            |\n",
       "| Albury           | 6233             | 0.1220219        | Females          | 95 - 99          | 78               | 51081            | Tonga            |   24             | NA               | NA               | NA               | NA               | 170.5            |\n",
       "| Albury           | 6233             | 0.1220219        | Females          | 95 - 99          | 78               | 51081            | England          | 4254             | NA               | NA               | NA               | NA               | 170.5            |\n",
       "| Albury           | 6233             | 0.1220219        | Females          | 95 - 99          | 78               | 51081            | Northern Ireland |   64             | NA               | NA               | NA               | NA               | 170.5            |\n",
       "\n"
      ],
      "text/plain": [
       "  LGA    crime_tot_per_lga crime_rate_per_lga Sex     Age     pop pop_total\n",
       "1 Albury 6233              0.1220219          Females 95 - 99 78  51081    \n",
       "2 Albury 6233              0.1220219          Females 95 - 99 78  51081    \n",
       "3 Albury 6233              0.1220219          Females 95 - 99 78  51081    \n",
       "4 Albury 6233              0.1220219          Females 95 - 99 78  51081    \n",
       "5 Albury 6233              0.1220219          Females 95 - 99 78  51081    \n",
       "6 Albury 6233              0.1220219          Females 95 - 99 78  51081    \n",
       "  birthplace_of_person birth_value Industry of Employment emp_value\n",
       "1 New Zealand          2510        NA                     NA       \n",
       "2 Papua New Guinea       99        NA                     NA       \n",
       "3 Fiji                  218        NA                     NA       \n",
       "4 Tonga                  24        NA                     NA       \n",
       "5 England              4254        NA                     NA       \n",
       "6 Northern Ireland       64        NA                     NA       \n",
       "  Labour force status labour_value Pop_Dens_km2\n",
       "1 NA                  NA           170.5       \n",
       "2 NA                  NA           170.5       \n",
       "3 NA                  NA           170.5       \n",
       "4 NA                  NA           170.5       \n",
       "5 NA                  NA           170.5       \n",
       "6 NA                  NA           170.5       "
      ]
     },
     "metadata": {},
     "output_type": "display_data"
    },
    {
     "name": "stdout",
     "output_type": "stream",
     "text": [
      "Observations: 5,485,565\n",
      "Variables: 14\n",
      "$ LGA                      \u001b[3m\u001b[90m<chr>\u001b[39m\u001b[23m \"Albury\", \"Albury\", \"Albury\", \"Albury\", \"A...\n",
      "$ crime_tot_per_lga        \u001b[3m\u001b[90m<int>\u001b[39m\u001b[23m 6233, 6233, 6233, 6233, 6233, 6233, 6233, ...\n",
      "$ crime_rate_per_lga       \u001b[3m\u001b[90m<dbl>\u001b[39m\u001b[23m 0.1220219, 0.1220219, 0.1220219, 0.1220219...\n",
      "$ Sex                      \u001b[3m\u001b[90m<chr>\u001b[39m\u001b[23m \"Females\", \"Females\", \"Females\", \"Females\"...\n",
      "$ Age                      \u001b[3m\u001b[90m<chr>\u001b[39m\u001b[23m \"95 - 99\", \"95 - 99\", \"95 - 99\", \"95 - 99\"...\n",
      "$ pop                      \u001b[3m\u001b[90m<int>\u001b[39m\u001b[23m 78, 78, 78, 78, 78, 78, 78, 78, 78, 78, 78...\n",
      "$ pop_total                \u001b[3m\u001b[90m<int>\u001b[39m\u001b[23m 51081, 51081, 51081, 51081, 51081, 51081, ...\n",
      "$ birthplace_of_person     \u001b[3m\u001b[90m<fct>\u001b[39m\u001b[23m \"New Zealand\", \"Papua New Guinea\", \"Fiji\",...\n",
      "$ birth_value              \u001b[3m\u001b[90m<dbl>\u001b[39m\u001b[23m 2510, 99, 218, 24, 4254, 64, 800, 213, 325...\n",
      "$ `Industry of Employment` \u001b[3m\u001b[90m<fct>\u001b[39m\u001b[23m NA, NA, NA, NA, NA, NA, NA, NA, NA, NA, NA...\n",
      "$ emp_value                \u001b[3m\u001b[90m<int>\u001b[39m\u001b[23m NA, NA, NA, NA, NA, NA, NA, NA, NA, NA, NA...\n",
      "$ `Labour force status`    \u001b[3m\u001b[90m<fct>\u001b[39m\u001b[23m NA, NA, NA, NA, NA, NA, NA, NA, NA, NA, NA...\n",
      "$ labour_value             \u001b[3m\u001b[90m<int>\u001b[39m\u001b[23m NA, NA, NA, NA, NA, NA, NA, NA, NA, NA, NA...\n",
      "$ Pop_Dens_km2             \u001b[3m\u001b[90m<dbl>\u001b[39m\u001b[23m 170.5, 170.5, 170.5, 170.5, 170.5, 170.5, ...\n"
     ]
    }
   ],
   "source": [
    "joined_agg %<>%\n",
    "    left_join(input_data$pop_dens %>% select(-X1), by = \"LGA\")\n",
    "\n",
    "head(joined_agg)\n",
    "glimpse(joined_agg)"
   ]
  },
  {
   "cell_type": "markdown",
   "metadata": {},
   "source": [
    "## Add SEIFA"
   ]
  },
  {
   "cell_type": "code",
   "execution_count": 116,
   "metadata": {},
   "outputs": [
    {
     "data": {
      "text/html": [
       "<table>\n",
       "<thead><tr><th scope=col>X1</th><th scope=col>LGA</th><th scope=col>Value</th></tr></thead>\n",
       "<tbody>\n",
       "\t<tr><td>1                </td><td>Albury           </td><td>964              </td></tr>\n",
       "\t<tr><td>2                </td><td>Armidale Dumaresq</td><td>954              </td></tr>\n",
       "\t<tr><td>3                </td><td>Ashfield         </td><td>962              </td></tr>\n",
       "\t<tr><td>4                </td><td>Auburn           </td><td>931              </td></tr>\n",
       "\t<tr><td>5                </td><td>Ballina          </td><td>986              </td></tr>\n",
       "\t<tr><td>6                </td><td>Balranald        </td><td>969              </td></tr>\n",
       "</tbody>\n",
       "</table>\n"
      ],
      "text/latex": [
       "\\begin{tabular}{r|lll}\n",
       " X1 & LGA & Value\\\\\n",
       "\\hline\n",
       "\t 1                 & Albury            & 964              \\\\\n",
       "\t 2                 & Armidale Dumaresq & 954              \\\\\n",
       "\t 3                 & Ashfield          & 962              \\\\\n",
       "\t 4                 & Auburn            & 931              \\\\\n",
       "\t 5                 & Ballina           & 986              \\\\\n",
       "\t 6                 & Balranald         & 969              \\\\\n",
       "\\end{tabular}\n"
      ],
      "text/markdown": [
       "\n",
       "| X1 | LGA | Value |\n",
       "|---|---|---|\n",
       "| 1                 | Albury            | 964               |\n",
       "| 2                 | Armidale Dumaresq | 954               |\n",
       "| 3                 | Ashfield          | 962               |\n",
       "| 4                 | Auburn            | 931               |\n",
       "| 5                 | Ballina           | 986               |\n",
       "| 6                 | Balranald         | 969               |\n",
       "\n"
      ],
      "text/plain": [
       "  X1 LGA               Value\n",
       "1 1  Albury            964  \n",
       "2 2  Armidale Dumaresq 954  \n",
       "3 3  Ashfield          962  \n",
       "4 4  Auburn            931  \n",
       "5 5  Ballina           986  \n",
       "6 6  Balranald         969  "
      ]
     },
     "metadata": {},
     "output_type": "display_data"
    }
   ],
   "source": [
    "head(input_data$seifa)"
   ]
  },
  {
   "cell_type": "code",
   "execution_count": 117,
   "metadata": {},
   "outputs": [
    {
     "name": "stderr",
     "output_type": "stream",
     "text": [
      "Warning message:\n",
      "\"Column `LGA` joining character vector and factor, coercing into character vector\""
     ]
    },
    {
     "data": {
      "text/html": [
       "<table>\n",
       "<thead><tr><th scope=col>LGA</th><th scope=col>crime_tot_per_lga</th><th scope=col>crime_rate_per_lga</th><th scope=col>Sex</th><th scope=col>Age</th><th scope=col>pop</th><th scope=col>pop_total</th><th scope=col>birthplace_of_person</th><th scope=col>birth_value</th><th scope=col>Industry of Employment</th><th scope=col>emp_value</th><th scope=col>Labour force status</th><th scope=col>labour_value</th><th scope=col>Pop_Dens_km2</th><th scope=col>seifa_value</th></tr></thead>\n",
       "<tbody>\n",
       "\t<tr><td>Albury          </td><td>6233            </td><td>0.1220219       </td><td>Females         </td><td>95 - 99         </td><td>78              </td><td>51081           </td><td>New Zealand     </td><td>2510            </td><td>NA              </td><td>NA              </td><td>NA              </td><td>NA              </td><td>170.5           </td><td>964             </td></tr>\n",
       "\t<tr><td>Albury          </td><td>6233            </td><td>0.1220219       </td><td>Females         </td><td>95 - 99         </td><td>78              </td><td>51081           </td><td>Papua New Guinea</td><td>  99            </td><td>NA              </td><td>NA              </td><td>NA              </td><td>NA              </td><td>170.5           </td><td>964             </td></tr>\n",
       "\t<tr><td>Albury          </td><td>6233            </td><td>0.1220219       </td><td>Females         </td><td>95 - 99         </td><td>78              </td><td>51081           </td><td>Fiji            </td><td> 218            </td><td>NA              </td><td>NA              </td><td>NA              </td><td>NA              </td><td>170.5           </td><td>964             </td></tr>\n",
       "\t<tr><td>Albury          </td><td>6233            </td><td>0.1220219       </td><td>Females         </td><td>95 - 99         </td><td>78              </td><td>51081           </td><td>Tonga           </td><td>  24            </td><td>NA              </td><td>NA              </td><td>NA              </td><td>NA              </td><td>170.5           </td><td>964             </td></tr>\n",
       "\t<tr><td>Albury          </td><td>6233            </td><td>0.1220219       </td><td>Females         </td><td>95 - 99         </td><td>78              </td><td>51081           </td><td>England         </td><td>4254            </td><td>NA              </td><td>NA              </td><td>NA              </td><td>NA              </td><td>170.5           </td><td>964             </td></tr>\n",
       "\t<tr><td>Albury          </td><td>6233            </td><td>0.1220219       </td><td>Females         </td><td>95 - 99         </td><td>78              </td><td>51081           </td><td>Northern Ireland</td><td>  64            </td><td>NA              </td><td>NA              </td><td>NA              </td><td>NA              </td><td>170.5           </td><td>964             </td></tr>\n",
       "</tbody>\n",
       "</table>\n"
      ],
      "text/latex": [
       "\\begin{tabular}{r|lllllllllllllll}\n",
       " LGA & crime\\_tot\\_per\\_lga & crime\\_rate\\_per\\_lga & Sex & Age & pop & pop\\_total & birthplace\\_of\\_person & birth\\_value & Industry of Employment & emp\\_value & Labour force status & labour\\_value & Pop\\_Dens\\_km2 & seifa\\_value\\\\\n",
       "\\hline\n",
       "\t Albury           & 6233             & 0.1220219        & Females          & 95 - 99          & 78               & 51081            & New Zealand      & 2510             & NA               & NA               & NA               & NA               & 170.5            & 964             \\\\\n",
       "\t Albury           & 6233             & 0.1220219        & Females          & 95 - 99          & 78               & 51081            & Papua New Guinea &   99             & NA               & NA               & NA               & NA               & 170.5            & 964             \\\\\n",
       "\t Albury           & 6233             & 0.1220219        & Females          & 95 - 99          & 78               & 51081            & Fiji             &  218             & NA               & NA               & NA               & NA               & 170.5            & 964             \\\\\n",
       "\t Albury           & 6233             & 0.1220219        & Females          & 95 - 99          & 78               & 51081            & Tonga            &   24             & NA               & NA               & NA               & NA               & 170.5            & 964             \\\\\n",
       "\t Albury           & 6233             & 0.1220219        & Females          & 95 - 99          & 78               & 51081            & England          & 4254             & NA               & NA               & NA               & NA               & 170.5            & 964             \\\\\n",
       "\t Albury           & 6233             & 0.1220219        & Females          & 95 - 99          & 78               & 51081            & Northern Ireland &   64             & NA               & NA               & NA               & NA               & 170.5            & 964             \\\\\n",
       "\\end{tabular}\n"
      ],
      "text/markdown": [
       "\n",
       "| LGA | crime_tot_per_lga | crime_rate_per_lga | Sex | Age | pop | pop_total | birthplace_of_person | birth_value | Industry of Employment | emp_value | Labour force status | labour_value | Pop_Dens_km2 | seifa_value |\n",
       "|---|---|---|---|---|---|---|---|---|---|---|---|---|---|---|\n",
       "| Albury           | 6233             | 0.1220219        | Females          | 95 - 99          | 78               | 51081            | New Zealand      | 2510             | NA               | NA               | NA               | NA               | 170.5            | 964              |\n",
       "| Albury           | 6233             | 0.1220219        | Females          | 95 - 99          | 78               | 51081            | Papua New Guinea |   99             | NA               | NA               | NA               | NA               | 170.5            | 964              |\n",
       "| Albury           | 6233             | 0.1220219        | Females          | 95 - 99          | 78               | 51081            | Fiji             |  218             | NA               | NA               | NA               | NA               | 170.5            | 964              |\n",
       "| Albury           | 6233             | 0.1220219        | Females          | 95 - 99          | 78               | 51081            | Tonga            |   24             | NA               | NA               | NA               | NA               | 170.5            | 964              |\n",
       "| Albury           | 6233             | 0.1220219        | Females          | 95 - 99          | 78               | 51081            | England          | 4254             | NA               | NA               | NA               | NA               | 170.5            | 964              |\n",
       "| Albury           | 6233             | 0.1220219        | Females          | 95 - 99          | 78               | 51081            | Northern Ireland |   64             | NA               | NA               | NA               | NA               | 170.5            | 964              |\n",
       "\n"
      ],
      "text/plain": [
       "  LGA    crime_tot_per_lga crime_rate_per_lga Sex     Age     pop pop_total\n",
       "1 Albury 6233              0.1220219          Females 95 - 99 78  51081    \n",
       "2 Albury 6233              0.1220219          Females 95 - 99 78  51081    \n",
       "3 Albury 6233              0.1220219          Females 95 - 99 78  51081    \n",
       "4 Albury 6233              0.1220219          Females 95 - 99 78  51081    \n",
       "5 Albury 6233              0.1220219          Females 95 - 99 78  51081    \n",
       "6 Albury 6233              0.1220219          Females 95 - 99 78  51081    \n",
       "  birthplace_of_person birth_value Industry of Employment emp_value\n",
       "1 New Zealand          2510        NA                     NA       \n",
       "2 Papua New Guinea       99        NA                     NA       \n",
       "3 Fiji                  218        NA                     NA       \n",
       "4 Tonga                  24        NA                     NA       \n",
       "5 England              4254        NA                     NA       \n",
       "6 Northern Ireland       64        NA                     NA       \n",
       "  Labour force status labour_value Pop_Dens_km2 seifa_value\n",
       "1 NA                  NA           170.5        964        \n",
       "2 NA                  NA           170.5        964        \n",
       "3 NA                  NA           170.5        964        \n",
       "4 NA                  NA           170.5        964        \n",
       "5 NA                  NA           170.5        964        \n",
       "6 NA                  NA           170.5        964        "
      ]
     },
     "metadata": {},
     "output_type": "display_data"
    },
    {
     "name": "stdout",
     "output_type": "stream",
     "text": [
      "Observations: 5,588,245\n",
      "Variables: 15\n",
      "$ LGA                      \u001b[3m\u001b[90m<chr>\u001b[39m\u001b[23m \"Albury\", \"Albury\", \"Albury\", \"Albury\", \"A...\n",
      "$ crime_tot_per_lga        \u001b[3m\u001b[90m<int>\u001b[39m\u001b[23m 6233, 6233, 6233, 6233, 6233, 6233, 6233, ...\n",
      "$ crime_rate_per_lga       \u001b[3m\u001b[90m<dbl>\u001b[39m\u001b[23m 0.1220219, 0.1220219, 0.1220219, 0.1220219...\n",
      "$ Sex                      \u001b[3m\u001b[90m<chr>\u001b[39m\u001b[23m \"Females\", \"Females\", \"Females\", \"Females\"...\n",
      "$ Age                      \u001b[3m\u001b[90m<chr>\u001b[39m\u001b[23m \"95 - 99\", \"95 - 99\", \"95 - 99\", \"95 - 99\"...\n",
      "$ pop                      \u001b[3m\u001b[90m<int>\u001b[39m\u001b[23m 78, 78, 78, 78, 78, 78, 78, 78, 78, 78, 78...\n",
      "$ pop_total                \u001b[3m\u001b[90m<int>\u001b[39m\u001b[23m 51081, 51081, 51081, 51081, 51081, 51081, ...\n",
      "$ birthplace_of_person     \u001b[3m\u001b[90m<fct>\u001b[39m\u001b[23m \"New Zealand\", \"Papua New Guinea\", \"Fiji\",...\n",
      "$ birth_value              \u001b[3m\u001b[90m<dbl>\u001b[39m\u001b[23m 2510, 99, 218, 24, 4254, 64, 800, 213, 325...\n",
      "$ `Industry of Employment` \u001b[3m\u001b[90m<fct>\u001b[39m\u001b[23m NA, NA, NA, NA, NA, NA, NA, NA, NA, NA, NA...\n",
      "$ emp_value                \u001b[3m\u001b[90m<int>\u001b[39m\u001b[23m NA, NA, NA, NA, NA, NA, NA, NA, NA, NA, NA...\n",
      "$ `Labour force status`    \u001b[3m\u001b[90m<fct>\u001b[39m\u001b[23m NA, NA, NA, NA, NA, NA, NA, NA, NA, NA, NA...\n",
      "$ labour_value             \u001b[3m\u001b[90m<int>\u001b[39m\u001b[23m NA, NA, NA, NA, NA, NA, NA, NA, NA, NA, NA...\n",
      "$ Pop_Dens_km2             \u001b[3m\u001b[90m<dbl>\u001b[39m\u001b[23m 170.5, 170.5, 170.5, 170.5, 170.5, 170.5, ...\n",
      "$ seifa_value              \u001b[3m\u001b[90m<int>\u001b[39m\u001b[23m 964, 964, 964, 964, 964, 964, 964, 964, 96...\n"
     ]
    }
   ],
   "source": [
    "joined_agg %<>%\n",
    "    left_join(input_data$seifa %>% select(-X1) %>% rename(seifa_value = Value), by = \"LGA\")\n",
    "\n",
    "head(joined_agg)\n",
    "glimpse(joined_agg)"
   ]
  },
  {
   "cell_type": "markdown",
   "metadata": {},
   "source": [
    "## Add Transport"
   ]
  },
  {
   "cell_type": "code",
   "execution_count": 118,
   "metadata": {},
   "outputs": [
    {
     "data": {
      "text/html": [
       "<table>\n",
       "<thead><tr><th scope=col>LGA</th><th scope=col>num_service</th></tr></thead>\n",
       "<tbody>\n",
       "\t<tr><td>Albury           </td><td>  1769           </td></tr>\n",
       "\t<tr><td>Armidale Regional</td><td>   185           </td></tr>\n",
       "\t<tr><td>Ballina          </td><td>  1353           </td></tr>\n",
       "\t<tr><td>Balranald        </td><td>     4           </td></tr>\n",
       "\t<tr><td>Bathurst Regional</td><td>  2882           </td></tr>\n",
       "\t<tr><td>Bayside          </td><td>143697           </td></tr>\n",
       "</tbody>\n",
       "</table>\n"
      ],
      "text/latex": [
       "\\begin{tabular}{r|ll}\n",
       " LGA & num\\_service\\\\\n",
       "\\hline\n",
       "\t Albury            &   1769           \\\\\n",
       "\t Armidale Regional &    185           \\\\\n",
       "\t Ballina           &   1353           \\\\\n",
       "\t Balranald         &      4           \\\\\n",
       "\t Bathurst Regional &   2882           \\\\\n",
       "\t Bayside           & 143697           \\\\\n",
       "\\end{tabular}\n"
      ],
      "text/markdown": [
       "\n",
       "| LGA | num_service |\n",
       "|---|---|\n",
       "| Albury            |   1769            |\n",
       "| Armidale Regional |    185            |\n",
       "| Ballina           |   1353            |\n",
       "| Balranald         |      4            |\n",
       "| Bathurst Regional |   2882            |\n",
       "| Bayside           | 143697            |\n",
       "\n"
      ],
      "text/plain": [
       "  LGA               num_service\n",
       "1 Albury              1769     \n",
       "2 Armidale Regional    185     \n",
       "3 Ballina             1353     \n",
       "4 Balranald              4     \n",
       "5 Bathurst Regional   2882     \n",
       "6 Bayside           143697     "
      ]
     },
     "metadata": {},
     "output_type": "display_data"
    }
   ],
   "source": [
    "head(transport_agg)"
   ]
  },
  {
   "cell_type": "code",
   "execution_count": 119,
   "metadata": {},
   "outputs": [
    {
     "name": "stderr",
     "output_type": "stream",
     "text": [
      "Warning message:\n",
      "\"Column `LGA` joining character vector and factor, coercing into character vector\""
     ]
    },
    {
     "data": {
      "text/html": [
       "<table>\n",
       "<thead><tr><th scope=col>LGA</th><th scope=col>crime_tot_per_lga</th><th scope=col>crime_rate_per_lga</th><th scope=col>Sex</th><th scope=col>Age</th><th scope=col>pop</th><th scope=col>pop_total</th><th scope=col>birthplace_of_person</th><th scope=col>birth_value</th><th scope=col>Industry of Employment</th><th scope=col>emp_value</th><th scope=col>Labour force status</th><th scope=col>labour_value</th><th scope=col>Pop_Dens_km2</th><th scope=col>seifa_value</th><th scope=col>num_service</th></tr></thead>\n",
       "<tbody>\n",
       "\t<tr><td>Albury          </td><td>6233            </td><td>0.1220219       </td><td>Females         </td><td>95 - 99         </td><td>78              </td><td>51081           </td><td>New Zealand     </td><td>2510            </td><td>NA              </td><td>NA              </td><td>NA              </td><td>NA              </td><td>170.5           </td><td>964             </td><td>1769            </td></tr>\n",
       "\t<tr><td>Albury          </td><td>6233            </td><td>0.1220219       </td><td>Females         </td><td>95 - 99         </td><td>78              </td><td>51081           </td><td>Papua New Guinea</td><td>  99            </td><td>NA              </td><td>NA              </td><td>NA              </td><td>NA              </td><td>170.5           </td><td>964             </td><td>1769            </td></tr>\n",
       "\t<tr><td>Albury          </td><td>6233            </td><td>0.1220219       </td><td>Females         </td><td>95 - 99         </td><td>78              </td><td>51081           </td><td>Fiji            </td><td> 218            </td><td>NA              </td><td>NA              </td><td>NA              </td><td>NA              </td><td>170.5           </td><td>964             </td><td>1769            </td></tr>\n",
       "\t<tr><td>Albury          </td><td>6233            </td><td>0.1220219       </td><td>Females         </td><td>95 - 99         </td><td>78              </td><td>51081           </td><td>Tonga           </td><td>  24            </td><td>NA              </td><td>NA              </td><td>NA              </td><td>NA              </td><td>170.5           </td><td>964             </td><td>1769            </td></tr>\n",
       "\t<tr><td>Albury          </td><td>6233            </td><td>0.1220219       </td><td>Females         </td><td>95 - 99         </td><td>78              </td><td>51081           </td><td>England         </td><td>4254            </td><td>NA              </td><td>NA              </td><td>NA              </td><td>NA              </td><td>170.5           </td><td>964             </td><td>1769            </td></tr>\n",
       "\t<tr><td>Albury          </td><td>6233            </td><td>0.1220219       </td><td>Females         </td><td>95 - 99         </td><td>78              </td><td>51081           </td><td>Northern Ireland</td><td>  64            </td><td>NA              </td><td>NA              </td><td>NA              </td><td>NA              </td><td>170.5           </td><td>964             </td><td>1769            </td></tr>\n",
       "</tbody>\n",
       "</table>\n"
      ],
      "text/latex": [
       "\\begin{tabular}{r|llllllllllllllll}\n",
       " LGA & crime\\_tot\\_per\\_lga & crime\\_rate\\_per\\_lga & Sex & Age & pop & pop\\_total & birthplace\\_of\\_person & birth\\_value & Industry of Employment & emp\\_value & Labour force status & labour\\_value & Pop\\_Dens\\_km2 & seifa\\_value & num\\_service\\\\\n",
       "\\hline\n",
       "\t Albury           & 6233             & 0.1220219        & Females          & 95 - 99          & 78               & 51081            & New Zealand      & 2510             & NA               & NA               & NA               & NA               & 170.5            & 964              & 1769            \\\\\n",
       "\t Albury           & 6233             & 0.1220219        & Females          & 95 - 99          & 78               & 51081            & Papua New Guinea &   99             & NA               & NA               & NA               & NA               & 170.5            & 964              & 1769            \\\\\n",
       "\t Albury           & 6233             & 0.1220219        & Females          & 95 - 99          & 78               & 51081            & Fiji             &  218             & NA               & NA               & NA               & NA               & 170.5            & 964              & 1769            \\\\\n",
       "\t Albury           & 6233             & 0.1220219        & Females          & 95 - 99          & 78               & 51081            & Tonga            &   24             & NA               & NA               & NA               & NA               & 170.5            & 964              & 1769            \\\\\n",
       "\t Albury           & 6233             & 0.1220219        & Females          & 95 - 99          & 78               & 51081            & England          & 4254             & NA               & NA               & NA               & NA               & 170.5            & 964              & 1769            \\\\\n",
       "\t Albury           & 6233             & 0.1220219        & Females          & 95 - 99          & 78               & 51081            & Northern Ireland &   64             & NA               & NA               & NA               & NA               & 170.5            & 964              & 1769            \\\\\n",
       "\\end{tabular}\n"
      ],
      "text/markdown": [
       "\n",
       "| LGA | crime_tot_per_lga | crime_rate_per_lga | Sex | Age | pop | pop_total | birthplace_of_person | birth_value | Industry of Employment | emp_value | Labour force status | labour_value | Pop_Dens_km2 | seifa_value | num_service |\n",
       "|---|---|---|---|---|---|---|---|---|---|---|---|---|---|---|---|\n",
       "| Albury           | 6233             | 0.1220219        | Females          | 95 - 99          | 78               | 51081            | New Zealand      | 2510             | NA               | NA               | NA               | NA               | 170.5            | 964              | 1769             |\n",
       "| Albury           | 6233             | 0.1220219        | Females          | 95 - 99          | 78               | 51081            | Papua New Guinea |   99             | NA               | NA               | NA               | NA               | 170.5            | 964              | 1769             |\n",
       "| Albury           | 6233             | 0.1220219        | Females          | 95 - 99          | 78               | 51081            | Fiji             |  218             | NA               | NA               | NA               | NA               | 170.5            | 964              | 1769             |\n",
       "| Albury           | 6233             | 0.1220219        | Females          | 95 - 99          | 78               | 51081            | Tonga            |   24             | NA               | NA               | NA               | NA               | 170.5            | 964              | 1769             |\n",
       "| Albury           | 6233             | 0.1220219        | Females          | 95 - 99          | 78               | 51081            | England          | 4254             | NA               | NA               | NA               | NA               | 170.5            | 964              | 1769             |\n",
       "| Albury           | 6233             | 0.1220219        | Females          | 95 - 99          | 78               | 51081            | Northern Ireland |   64             | NA               | NA               | NA               | NA               | 170.5            | 964              | 1769             |\n",
       "\n"
      ],
      "text/plain": [
       "  LGA    crime_tot_per_lga crime_rate_per_lga Sex     Age     pop pop_total\n",
       "1 Albury 6233              0.1220219          Females 95 - 99 78  51081    \n",
       "2 Albury 6233              0.1220219          Females 95 - 99 78  51081    \n",
       "3 Albury 6233              0.1220219          Females 95 - 99 78  51081    \n",
       "4 Albury 6233              0.1220219          Females 95 - 99 78  51081    \n",
       "5 Albury 6233              0.1220219          Females 95 - 99 78  51081    \n",
       "6 Albury 6233              0.1220219          Females 95 - 99 78  51081    \n",
       "  birthplace_of_person birth_value Industry of Employment emp_value\n",
       "1 New Zealand          2510        NA                     NA       \n",
       "2 Papua New Guinea       99        NA                     NA       \n",
       "3 Fiji                  218        NA                     NA       \n",
       "4 Tonga                  24        NA                     NA       \n",
       "5 England              4254        NA                     NA       \n",
       "6 Northern Ireland       64        NA                     NA       \n",
       "  Labour force status labour_value Pop_Dens_km2 seifa_value num_service\n",
       "1 NA                  NA           170.5        964         1769       \n",
       "2 NA                  NA           170.5        964         1769       \n",
       "3 NA                  NA           170.5        964         1769       \n",
       "4 NA                  NA           170.5        964         1769       \n",
       "5 NA                  NA           170.5        964         1769       \n",
       "6 NA                  NA           170.5        964         1769       "
      ]
     },
     "metadata": {},
     "output_type": "display_data"
    },
    {
     "name": "stdout",
     "output_type": "stream",
     "text": [
      "Observations: 5,588,245\n",
      "Variables: 16\n",
      "$ LGA                      \u001b[3m\u001b[90m<chr>\u001b[39m\u001b[23m \"Albury\", \"Albury\", \"Albury\", \"Albury\", \"A...\n",
      "$ crime_tot_per_lga        \u001b[3m\u001b[90m<int>\u001b[39m\u001b[23m 6233, 6233, 6233, 6233, 6233, 6233, 6233, ...\n",
      "$ crime_rate_per_lga       \u001b[3m\u001b[90m<dbl>\u001b[39m\u001b[23m 0.1220219, 0.1220219, 0.1220219, 0.1220219...\n",
      "$ Sex                      \u001b[3m\u001b[90m<chr>\u001b[39m\u001b[23m \"Females\", \"Females\", \"Females\", \"Females\"...\n",
      "$ Age                      \u001b[3m\u001b[90m<chr>\u001b[39m\u001b[23m \"95 - 99\", \"95 - 99\", \"95 - 99\", \"95 - 99\"...\n",
      "$ pop                      \u001b[3m\u001b[90m<int>\u001b[39m\u001b[23m 78, 78, 78, 78, 78, 78, 78, 78, 78, 78, 78...\n",
      "$ pop_total                \u001b[3m\u001b[90m<int>\u001b[39m\u001b[23m 51081, 51081, 51081, 51081, 51081, 51081, ...\n",
      "$ birthplace_of_person     \u001b[3m\u001b[90m<fct>\u001b[39m\u001b[23m \"New Zealand\", \"Papua New Guinea\", \"Fiji\",...\n",
      "$ birth_value              \u001b[3m\u001b[90m<dbl>\u001b[39m\u001b[23m 2510, 99, 218, 24, 4254, 64, 800, 213, 325...\n",
      "$ `Industry of Employment` \u001b[3m\u001b[90m<fct>\u001b[39m\u001b[23m NA, NA, NA, NA, NA, NA, NA, NA, NA, NA, NA...\n",
      "$ emp_value                \u001b[3m\u001b[90m<int>\u001b[39m\u001b[23m NA, NA, NA, NA, NA, NA, NA, NA, NA, NA, NA...\n",
      "$ `Labour force status`    \u001b[3m\u001b[90m<fct>\u001b[39m\u001b[23m NA, NA, NA, NA, NA, NA, NA, NA, NA, NA, NA...\n",
      "$ labour_value             \u001b[3m\u001b[90m<int>\u001b[39m\u001b[23m NA, NA, NA, NA, NA, NA, NA, NA, NA, NA, NA...\n",
      "$ Pop_Dens_km2             \u001b[3m\u001b[90m<dbl>\u001b[39m\u001b[23m 170.5, 170.5, 170.5, 170.5, 170.5, 170.5, ...\n",
      "$ seifa_value              \u001b[3m\u001b[90m<int>\u001b[39m\u001b[23m 964, 964, 964, 964, 964, 964, 964, 964, 96...\n",
      "$ num_service              \u001b[3m\u001b[90m<dbl>\u001b[39m\u001b[23m 1769, 1769, 1769, 1769, 1769, 1769, 1769, ...\n"
     ]
    }
   ],
   "source": [
    "joined_agg %<>%\n",
    "    left_join(transport_agg, by = \"LGA\")\n",
    "\n",
    "head(joined_agg)\n",
    "glimpse(joined_agg)"
   ]
  },
  {
   "cell_type": "code",
   "execution_count": 120,
   "metadata": {},
   "outputs": [],
   "source": [
    "write.csv(joined_agg, paste(output_path, \"unified3.csv\", sep = \"/\"), row.names = FALSE)"
   ]
  },
  {
   "cell_type": "code",
   "execution_count": null,
   "metadata": {},
   "outputs": [],
   "source": []
  },
  {
   "cell_type": "code",
   "execution_count": 121,
   "metadata": {},
   "outputs": [],
   "source": [
    "save.image()"
   ]
  }
 ],
 "metadata": {
  "kernelspec": {
   "display_name": "R",
   "language": "R",
   "name": "ir"
  },
  "language_info": {
   "codemirror_mode": "r",
   "file_extension": ".r",
   "mimetype": "text/x-r-source",
   "name": "R",
   "pygments_lexer": "r",
   "version": "3.5.3"
  }
 },
 "nbformat": 4,
 "nbformat_minor": 2
}
