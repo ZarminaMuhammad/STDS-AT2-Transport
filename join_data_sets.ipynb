{
 "cells": [
  {
   "cell_type": "code",
   "execution_count": 4,
   "metadata": {},
   "outputs": [
    {
     "name": "stderr",
     "output_type": "stream",
     "text": [
      "-- \u001b[1mAttaching packages\u001b[22m --------------------------------------- tidyverse 1.2.1 --\n",
      "\u001b[32mv\u001b[39m \u001b[34mggplot2\u001b[39m 3.1.1       \u001b[32mv\u001b[39m \u001b[34mpurrr  \u001b[39m 0.3.2  \n",
      "\u001b[32mv\u001b[39m \u001b[34mtibble \u001b[39m 2.1.1       \u001b[32mv\u001b[39m \u001b[34mdplyr  \u001b[39m 0.8.0.\u001b[31m1\u001b[39m\n",
      "\u001b[32mv\u001b[39m \u001b[34mtidyr  \u001b[39m 0.8.3       \u001b[32mv\u001b[39m \u001b[34mstringr\u001b[39m 1.4.0  \n",
      "\u001b[32mv\u001b[39m \u001b[34mreadr  \u001b[39m 1.3.1       \u001b[32mv\u001b[39m \u001b[34mforcats\u001b[39m 0.4.0  \n",
      "-- \u001b[1mConflicts\u001b[22m ------------------------------------------ tidyverse_conflicts() --\n",
      "\u001b[31mx\u001b[39m \u001b[34mdplyr\u001b[39m::\u001b[32mfilter()\u001b[39m masks \u001b[34mstats\u001b[39m::filter()\n",
      "\u001b[31mx\u001b[39m \u001b[34mdplyr\u001b[39m::\u001b[32mlag()\u001b[39m    masks \u001b[34mstats\u001b[39m::lag()\n",
      "\n",
      "Attaching package: 'magrittr'\n",
      "\n",
      "The following object is masked from 'package:purrr':\n",
      "\n",
      "    set_names\n",
      "\n",
      "The following object is masked from 'package:tidyr':\n",
      "\n",
      "    extract\n",
      "\n",
      "\n",
      "Attaching package: 'reshape2'\n",
      "\n",
      "The following object is masked from 'package:tidyr':\n",
      "\n",
      "    smiths\n",
      "\n",
      "\n",
      "Attaching package: 'scales'\n",
      "\n",
      "The following object is masked from 'package:purrr':\n",
      "\n",
      "    discard\n",
      "\n",
      "The following object is masked from 'package:readr':\n",
      "\n",
      "    col_factor\n",
      "\n",
      "corrplot 0.84 loaded\n",
      "\n",
      "Attaching package: 'rlang'\n",
      "\n",
      "The following object is masked from 'package:magrittr':\n",
      "\n",
      "    set_names\n",
      "\n",
      "The following objects are masked from 'package:purrr':\n",
      "\n",
      "    %@%, as_function, flatten, flatten_chr, flatten_dbl, flatten_int,\n",
      "    flatten_lgl, flatten_raw, invoke, list_along, modify, prepend,\n",
      "    splice\n",
      "\n"
     ]
    }
   ],
   "source": [
    "library(tidyverse)\n",
    "library(magrittr)\n",
    "library(reshape2)\n",
    "library(ggplot2)\n",
    "library(scales)\n",
    "library(ggrepel)\n",
    "library(readxl)\n",
    "library(corrplot)\n",
    "library(purrr)\n",
    "library(rlang)"
   ]
  },
  {
   "cell_type": "markdown",
   "metadata": {},
   "source": [
    "# EDA"
   ]
  },
  {
   "cell_type": "markdown",
   "metadata": {},
   "source": [
    "# Importing The Data"
   ]
  },
  {
   "cell_type": "code",
   "execution_count": 22,
   "metadata": {},
   "outputs": [],
   "source": [
    "input_path <- \"D:/OneDrive - UTS/36103/AT2B/EDA\"\n",
    "output_path <- \"D:/OneDrive - UTS/36103/AT2B/data2\""
   ]
  },
  {
   "cell_type": "code",
   "execution_count": 3,
   "metadata": {},
   "outputs": [
    {
     "data": {
      "text/html": [
       "<ol class=list-inline>\n",
       "\t<li>'age.csv'</li>\n",
       "\t<li>'country_of_birth.csv'</li>\n",
       "\t<li>'crime.csv'</li>\n",
       "\t<li>'industry_employment.csv'</li>\n",
       "\t<li>'labour.csv'</li>\n",
       "\t<li>'pop_dens.csv'</li>\n",
       "\t<li>'seifa.csv'</li>\n",
       "\t<li>'transport.csv'</li>\n",
       "</ol>\n"
      ],
      "text/latex": [
       "\\begin{enumerate*}\n",
       "\\item 'age.csv'\n",
       "\\item 'country\\_of\\_birth.csv'\n",
       "\\item 'crime.csv'\n",
       "\\item 'industry\\_employment.csv'\n",
       "\\item 'labour.csv'\n",
       "\\item 'pop\\_dens.csv'\n",
       "\\item 'seifa.csv'\n",
       "\\item 'transport.csv'\n",
       "\\end{enumerate*}\n"
      ],
      "text/markdown": [
       "1. 'age.csv'\n",
       "2. 'country_of_birth.csv'\n",
       "3. 'crime.csv'\n",
       "4. 'industry_employment.csv'\n",
       "5. 'labour.csv'\n",
       "6. 'pop_dens.csv'\n",
       "7. 'seifa.csv'\n",
       "8. 'transport.csv'\n",
       "\n",
       "\n"
      ],
      "text/plain": [
       "[1] \"age.csv\"                 \"country_of_birth.csv\"   \n",
       "[3] \"crime.csv\"               \"industry_employment.csv\"\n",
       "[5] \"labour.csv\"              \"pop_dens.csv\"           \n",
       "[7] \"seifa.csv\"               \"transport.csv\"          "
      ]
     },
     "metadata": {},
     "output_type": "display_data"
    }
   ],
   "source": [
    "input_list <- list.files(input_path)\n",
    "input_list"
   ]
  },
  {
   "cell_type": "code",
   "execution_count": 4,
   "metadata": {},
   "outputs": [
    {
     "data": {
      "text/html": [
       "<ol>\n",
       "\t<li>'age'</li>\n",
       "\t<li>'country_of_birth'</li>\n",
       "\t<li>'crime'</li>\n",
       "\t<li>'industry_employment'</li>\n",
       "\t<li>'labour'</li>\n",
       "\t<li>'pop_dens'</li>\n",
       "\t<li>'seifa'</li>\n",
       "\t<li>'transport'</li>\n",
       "</ol>\n"
      ],
      "text/latex": [
       "\\begin{enumerate}\n",
       "\\item 'age'\n",
       "\\item 'country\\_of\\_birth'\n",
       "\\item 'crime'\n",
       "\\item 'industry\\_employment'\n",
       "\\item 'labour'\n",
       "\\item 'pop\\_dens'\n",
       "\\item 'seifa'\n",
       "\\item 'transport'\n",
       "\\end{enumerate}\n"
      ],
      "text/markdown": [
       "1. 'age'\n",
       "2. 'country_of_birth'\n",
       "3. 'crime'\n",
       "4. 'industry_employment'\n",
       "5. 'labour'\n",
       "6. 'pop_dens'\n",
       "7. 'seifa'\n",
       "8. 'transport'\n",
       "\n",
       "\n"
      ],
      "text/plain": [
       "[[1]]\n",
       "[1] \"age\"\n",
       "\n",
       "[[2]]\n",
       "[1] \"country_of_birth\"\n",
       "\n",
       "[[3]]\n",
       "[1] \"crime\"\n",
       "\n",
       "[[4]]\n",
       "[1] \"industry_employment\"\n",
       "\n",
       "[[5]]\n",
       "[1] \"labour\"\n",
       "\n",
       "[[6]]\n",
       "[1] \"pop_dens\"\n",
       "\n",
       "[[7]]\n",
       "[1] \"seifa\"\n",
       "\n",
       "[[8]]\n",
       "[1] \"transport\"\n"
      ]
     },
     "metadata": {},
     "output_type": "display_data"
    }
   ],
   "source": [
    "tbl_names <- map(input_list, function(x) strsplit(x, \"\\\\.\")[[1]][[1]])\n",
    "tbl_names"
   ]
  },
  {
   "cell_type": "code",
   "execution_count": 5,
   "metadata": {},
   "outputs": [
    {
     "data": {
      "text/html": [
       "<ol>\n",
       "\t<li>'D:/OneDrive - UTS/36103/AT2B/EDA/age.csv'</li>\n",
       "\t<li>'D:/OneDrive - UTS/36103/AT2B/EDA/country_of_birth.csv'</li>\n",
       "\t<li>'D:/OneDrive - UTS/36103/AT2B/EDA/crime.csv'</li>\n",
       "\t<li>'D:/OneDrive - UTS/36103/AT2B/EDA/industry_employment.csv'</li>\n",
       "\t<li>'D:/OneDrive - UTS/36103/AT2B/EDA/labour.csv'</li>\n",
       "\t<li>'D:/OneDrive - UTS/36103/AT2B/EDA/pop_dens.csv'</li>\n",
       "\t<li>'D:/OneDrive - UTS/36103/AT2B/EDA/seifa.csv'</li>\n",
       "\t<li>'D:/OneDrive - UTS/36103/AT2B/EDA/transport.csv'</li>\n",
       "</ol>\n"
      ],
      "text/latex": [
       "\\begin{enumerate}\n",
       "\\item 'D:/OneDrive - UTS/36103/AT2B/EDA/age.csv'\n",
       "\\item 'D:/OneDrive - UTS/36103/AT2B/EDA/country\\_of\\_birth.csv'\n",
       "\\item 'D:/OneDrive - UTS/36103/AT2B/EDA/crime.csv'\n",
       "\\item 'D:/OneDrive - UTS/36103/AT2B/EDA/industry\\_employment.csv'\n",
       "\\item 'D:/OneDrive - UTS/36103/AT2B/EDA/labour.csv'\n",
       "\\item 'D:/OneDrive - UTS/36103/AT2B/EDA/pop\\_dens.csv'\n",
       "\\item 'D:/OneDrive - UTS/36103/AT2B/EDA/seifa.csv'\n",
       "\\item 'D:/OneDrive - UTS/36103/AT2B/EDA/transport.csv'\n",
       "\\end{enumerate}\n"
      ],
      "text/markdown": [
       "1. 'D:/OneDrive - UTS/36103/AT2B/EDA/age.csv'\n",
       "2. 'D:/OneDrive - UTS/36103/AT2B/EDA/country_of_birth.csv'\n",
       "3. 'D:/OneDrive - UTS/36103/AT2B/EDA/crime.csv'\n",
       "4. 'D:/OneDrive - UTS/36103/AT2B/EDA/industry_employment.csv'\n",
       "5. 'D:/OneDrive - UTS/36103/AT2B/EDA/labour.csv'\n",
       "6. 'D:/OneDrive - UTS/36103/AT2B/EDA/pop_dens.csv'\n",
       "7. 'D:/OneDrive - UTS/36103/AT2B/EDA/seifa.csv'\n",
       "8. 'D:/OneDrive - UTS/36103/AT2B/EDA/transport.csv'\n",
       "\n",
       "\n"
      ],
      "text/plain": [
       "[[1]]\n",
       "[1] \"D:/OneDrive - UTS/36103/AT2B/EDA/age.csv\"\n",
       "\n",
       "[[2]]\n",
       "[1] \"D:/OneDrive - UTS/36103/AT2B/EDA/country_of_birth.csv\"\n",
       "\n",
       "[[3]]\n",
       "[1] \"D:/OneDrive - UTS/36103/AT2B/EDA/crime.csv\"\n",
       "\n",
       "[[4]]\n",
       "[1] \"D:/OneDrive - UTS/36103/AT2B/EDA/industry_employment.csv\"\n",
       "\n",
       "[[5]]\n",
       "[1] \"D:/OneDrive - UTS/36103/AT2B/EDA/labour.csv\"\n",
       "\n",
       "[[6]]\n",
       "[1] \"D:/OneDrive - UTS/36103/AT2B/EDA/pop_dens.csv\"\n",
       "\n",
       "[[7]]\n",
       "[1] \"D:/OneDrive - UTS/36103/AT2B/EDA/seifa.csv\"\n",
       "\n",
       "[[8]]\n",
       "[1] \"D:/OneDrive - UTS/36103/AT2B/EDA/transport.csv\"\n"
      ]
     },
     "metadata": {},
     "output_type": "display_data"
    }
   ],
   "source": [
    "input_list <- map(input_list, ~paste(input_path, .x, sep = \"/\"))\n",
    "input_list"
   ]
  },
  {
   "cell_type": "markdown",
   "metadata": {},
   "source": [
    "### Column Definitions"
   ]
  },
  {
   "cell_type": "code",
   "execution_count": 6,
   "metadata": {},
   "outputs": [],
   "source": [
    "cols_list <- list(age = cols(Age = readr::col_factor()))"
   ]
  },
  {
   "cell_type": "code",
   "execution_count": 7,
   "metadata": {},
   "outputs": [],
   "source": [
    "cols_list <- list(age = cols(Age = readr::col_factor(),\n",
    "                             Sex = readr::col_factor(),\n",
    "                             `Labour force status` = readr::col_factor(),\n",
    "                             LGA = readr::col_factor(),\n",
    "                             Value = readr::col_integer()),\n",
    "                  country_of_birth = cols(birthplace_of_person = readr::col_factor(),\n",
    "                                          LGA = readr::col_factor(),\n",
    "                                          Value = readr::col_integer(),\n",
    "                                          year_of_arrival_in_australia = readr::col_factor()),\n",
    "                  crime = cols(LGA = readr::col_factor(),\n",
    "                               Offence = readr::col_factor(),\n",
    "                               Crim_Count = readr::col_integer()),\n",
    "                  industry_employment = cols(LGA = readr::col_factor(),\n",
    "                                             Value = readr::col_integer(),\n",
    "                                             Age = readr::col_factor(),\n",
    "                                             Sex = readr::col_factor(),\n",
    "                                             `Industry of Employment` = readr::col_factor()),\n",
    "                  labour = cols(`Labour force status` = readr::col_factor(),\n",
    "                                LGA = readr::col_factor(),\n",
    "                                Value = readr::col_integer(),\n",
    "                                Age = readr::col_factor(),\n",
    "                                Sex = readr::col_factor()),\n",
    "                  pop_dens = cols(LGA = readr::col_factor(),\n",
    "                                  Pop_Dens_km2 = readr::col_double()),\n",
    "                  seifa = cols(LGA = readr::col_factor(),\n",
    "                               Value = readr::col_integer()),\n",
    "                  seifa = cols(LGA = readr::col_factor(),\n",
    "                               route_type = readr::col_factor(),\n",
    "                               num_service = readr::col_double()))"
   ]
  },
  {
   "cell_type": "code",
   "execution_count": 8,
   "metadata": {},
   "outputs": [
    {
     "name": "stderr",
     "output_type": "stream",
     "text": [
      "Warning message:\n",
      "\"The following named parsers don't match the column names: Labour force status\"Warning message:\n",
      "\"The following named parsers don't match the column names: Value\"Warning message:\n",
      "\"Missing column names filled in: 'X1' [1]\"Warning message:\n",
      "\"Missing column names filled in: 'X1' [1]\"Warning message:\n",
      "\"Missing column names filled in: 'X1' [1]\""
     ]
    }
   ],
   "source": [
    "input_data <- map2(input_list, cols_list, ~readr::read_csv(.x, col_types = .y))"
   ]
  },
  {
   "cell_type": "code",
   "execution_count": 9,
   "metadata": {},
   "outputs": [
    {
     "data": {
      "text/html": [
       "<ol class=list-inline>\n",
       "\t<li>'age'</li>\n",
       "\t<li>'country_of_birth'</li>\n",
       "\t<li>'crime'</li>\n",
       "\t<li>'industry_employment'</li>\n",
       "\t<li>'labour'</li>\n",
       "\t<li>'pop_dens'</li>\n",
       "\t<li>'seifa'</li>\n",
       "\t<li>'transport'</li>\n",
       "</ol>\n"
      ],
      "text/latex": [
       "\\begin{enumerate*}\n",
       "\\item 'age'\n",
       "\\item 'country\\_of\\_birth'\n",
       "\\item 'crime'\n",
       "\\item 'industry\\_employment'\n",
       "\\item 'labour'\n",
       "\\item 'pop\\_dens'\n",
       "\\item 'seifa'\n",
       "\\item 'transport'\n",
       "\\end{enumerate*}\n"
      ],
      "text/markdown": [
       "1. 'age'\n",
       "2. 'country_of_birth'\n",
       "3. 'crime'\n",
       "4. 'industry_employment'\n",
       "5. 'labour'\n",
       "6. 'pop_dens'\n",
       "7. 'seifa'\n",
       "8. 'transport'\n",
       "\n",
       "\n"
      ],
      "text/plain": [
       "[1] \"age\"                 \"country_of_birth\"    \"crime\"              \n",
       "[4] \"industry_employment\" \"labour\"              \"pop_dens\"           \n",
       "[7] \"seifa\"               \"transport\"          "
      ]
     },
     "metadata": {},
     "output_type": "display_data"
    }
   ],
   "source": [
    "names(input_data) = tbl_names\n",
    "names(input_data)"
   ]
  },
  {
   "cell_type": "code",
   "execution_count": 10,
   "metadata": {},
   "outputs": [
    {
     "data": {
      "text/html": [
       "<dl>\n",
       "\t<dt>$age</dt>\n",
       "\t\t<dd><table>\n",
       "<thead><tr><th scope=col>Sex</th><th scope=col>Age</th><th scope=col>LGA</th><th scope=col>Value</th></tr></thead>\n",
       "<tbody>\n",
       "\t<tr><td>Females                     </td><td>95 - 99                     </td><td>Lismore                     </td><td> 65                         </td></tr>\n",
       "\t<tr><td>Females                     </td><td>95 - 99                     </td><td>Queanbeyan-Palerang Regional</td><td> 33                         </td></tr>\n",
       "\t<tr><td>Females                     </td><td>95 - 99                     </td><td>Mid-Coast                   </td><td>173                         </td></tr>\n",
       "\t<tr><td>Females                     </td><td>95 - 99                     </td><td>Glen Innes Severn           </td><td> 16                         </td></tr>\n",
       "\t<tr><td>Females                     </td><td>95 - 99                     </td><td>Lockhart                    </td><td> 11                         </td></tr>\n",
       "\t<tr><td>Females                     </td><td>95 - 99                     </td><td>Lane Cove                   </td><td> 49                         </td></tr>\n",
       "</tbody>\n",
       "</table>\n",
       "</dd>\n",
       "\t<dt>$country_of_birth</dt>\n",
       "\t\t<dd><table>\n",
       "<thead><tr><th scope=col>birthplace_of_person</th><th scope=col>census_year</th><th scope=col>lga_2016</th><th scope=col>LGA</th><th scope=col>value</th><th scope=col>yarrp_2016</th><th scope=col>year_of_arrival_in_australia</th></tr></thead>\n",
       "<tbody>\n",
       "\t<tr><td>Oceania and Antarctica, nfd</td><td>2016                       </td><td>10050                      </td><td>Albury                     </td><td>0                          </td><td>1                          </td><td>Arrived 1900 - 1945        </td></tr>\n",
       "\t<tr><td>Oceania and Antarctica, nfd</td><td>2016                       </td><td>10050                      </td><td>Albury                     </td><td>0                          </td><td>2                          </td><td>Arrived 1946 - 1955        </td></tr>\n",
       "\t<tr><td>Oceania and Antarctica, nfd</td><td>2016                       </td><td>10050                      </td><td>Albury                     </td><td>0                          </td><td>3                          </td><td>Arrived 1956 - 1965        </td></tr>\n",
       "\t<tr><td>Oceania and Antarctica, nfd</td><td>2016                       </td><td>10050                      </td><td>Albury                     </td><td>0                          </td><td>4                          </td><td>Arrived 1966 - 1975        </td></tr>\n",
       "\t<tr><td>Oceania and Antarctica, nfd</td><td>2016                       </td><td>10050                      </td><td>Albury                     </td><td>0                          </td><td>5                          </td><td>Arrived 1976 - 1985        </td></tr>\n",
       "\t<tr><td>Oceania and Antarctica, nfd</td><td>2016                       </td><td>10050                      </td><td>Albury                     </td><td>0                          </td><td>6                          </td><td>Arrived 1986 - 1995        </td></tr>\n",
       "</tbody>\n",
       "</table>\n",
       "</dd>\n",
       "\t<dt>$crime</dt>\n",
       "\t\t<dd><table>\n",
       "<thead><tr><th scope=col>X1</th><th scope=col>LGA</th><th scope=col>Offence</th><th scope=col>Crim_Count</th></tr></thead>\n",
       "<tbody>\n",
       "\t<tr><td>1                                    </td><td>Albury                               </td><td>Murder *                             </td><td>  2                                  </td></tr>\n",
       "\t<tr><td>2                                    </td><td>Albury                               </td><td>Attempted murder                     </td><td>  1                                  </td></tr>\n",
       "\t<tr><td>3                                    </td><td>Albury                               </td><td>Murder accessory, conspiracy         </td><td>  0                                  </td></tr>\n",
       "\t<tr><td>4                                    </td><td>Albury                               </td><td>Manslaughter *                       </td><td>  0                                  </td></tr>\n",
       "\t<tr><td>5                                    </td><td>Albury                               </td><td>Domestic violence related assault    </td><td>284                                  </td></tr>\n",
       "\t<tr><td>6                                    </td><td>Albury                               </td><td>Non-domestic violence related assault</td><td>296                                  </td></tr>\n",
       "</tbody>\n",
       "</table>\n",
       "</dd>\n",
       "\t<dt>$industry_employment</dt>\n",
       "\t\t<dd><table>\n",
       "<thead><tr><th scope=col>Age</th><th scope=col>Sex</th><th scope=col>Industry of Employment</th><th scope=col>LGA_2016</th><th scope=col>LGA</th><th scope=col>Census year</th><th scope=col>Value</th></tr></thead>\n",
       "<tbody>\n",
       "\t<tr><td>15 - 19                          </td><td>Males                            </td><td>Agriculture, Forestry and Fishing</td><td>10050                            </td><td>Albury                           </td><td>2016                             </td><td> 6                               </td></tr>\n",
       "\t<tr><td>15 - 19                          </td><td>Females                          </td><td>Agriculture, Forestry and Fishing</td><td>10050                            </td><td>Albury                           </td><td>2016                             </td><td> 4                               </td></tr>\n",
       "\t<tr><td>15 - 19                          </td><td>Persons                          </td><td>Agriculture, Forestry and Fishing</td><td>10050                            </td><td>Albury                           </td><td>2016                             </td><td> 6                               </td></tr>\n",
       "\t<tr><td>15 - 19                          </td><td>Males                            </td><td>Agriculture, Forestry and Fishing</td><td>10130                            </td><td>Armidale Regional                </td><td>2016                             </td><td>34                               </td></tr>\n",
       "\t<tr><td>15 - 19                          </td><td>Females                          </td><td>Agriculture, Forestry and Fishing</td><td>10130                            </td><td>Armidale Regional                </td><td>2016                             </td><td> 9                               </td></tr>\n",
       "\t<tr><td>15 - 19                          </td><td>Persons                          </td><td>Agriculture, Forestry and Fishing</td><td>10130                            </td><td>Armidale Regional                </td><td>2016                             </td><td>43                               </td></tr>\n",
       "</tbody>\n",
       "</table>\n",
       "</dd>\n",
       "\t<dt>$labour</dt>\n",
       "\t\t<dd><table>\n",
       "<thead><tr><th scope=col>Age</th><th scope=col>Sex</th><th scope=col>Labour force status</th><th scope=col>LGA_2016</th><th scope=col>LGA</th><th scope=col>Census year</th><th scope=col>Value</th></tr></thead>\n",
       "<tbody>\n",
       "\t<tr><td>15 - 19                   </td><td>Males                     </td><td>Employed, worked full-time</td><td>10050                     </td><td>Albury                    </td><td>2016                      </td><td>236                       </td></tr>\n",
       "\t<tr><td>15 - 19                   </td><td>Females                   </td><td>Employed, worked full-time</td><td>10050                     </td><td>Albury                    </td><td>2016                      </td><td>113                       </td></tr>\n",
       "\t<tr><td>15 - 19                   </td><td>Persons                   </td><td>Employed, worked full-time</td><td>10050                     </td><td>Albury                    </td><td>2016                      </td><td>348                       </td></tr>\n",
       "\t<tr><td>15 - 19                   </td><td>Males                     </td><td>Employed, worked full-time</td><td>10130                     </td><td>Armidale Regional         </td><td>2016                      </td><td>105                       </td></tr>\n",
       "\t<tr><td>15 - 19                   </td><td>Females                   </td><td>Employed, worked full-time</td><td>10130                     </td><td>Armidale Regional         </td><td>2016                      </td><td> 58                       </td></tr>\n",
       "\t<tr><td>15 - 19                   </td><td>Persons                   </td><td>Employed, worked full-time</td><td>10130                     </td><td>Armidale Regional         </td><td>2016                      </td><td>160                       </td></tr>\n",
       "</tbody>\n",
       "</table>\n",
       "</dd>\n",
       "\t<dt>$pop_dens</dt>\n",
       "\t\t<dd><table>\n",
       "<thead><tr><th scope=col>X1</th><th scope=col>LGA</th><th scope=col>Pop_Dens_km2</th></tr></thead>\n",
       "<tbody>\n",
       "\t<tr><td>1                </td><td>Albury           </td><td>170.5            </td></tr>\n",
       "\t<tr><td>2                </td><td>Armidale Regional</td><td>  3.5            </td></tr>\n",
       "\t<tr><td>3                </td><td>Ballina          </td><td> 88.7            </td></tr>\n",
       "\t<tr><td>4                </td><td>Balranald        </td><td>  0.1            </td></tr>\n",
       "\t<tr><td>5                </td><td>Bathurst Regional</td><td> 11.1            </td></tr>\n",
       "\t<tr><td>6                </td><td>Bega Valley      </td><td>  5.4            </td></tr>\n",
       "</tbody>\n",
       "</table>\n",
       "</dd>\n",
       "\t<dt>$seifa</dt>\n",
       "\t\t<dd><table>\n",
       "<thead><tr><th scope=col>X1</th><th scope=col>LGA</th><th scope=col>Value</th></tr></thead>\n",
       "<tbody>\n",
       "\t<tr><td>1                </td><td>Albury           </td><td>964              </td></tr>\n",
       "\t<tr><td>2                </td><td>Armidale Dumaresq</td><td>954              </td></tr>\n",
       "\t<tr><td>3                </td><td>Ashfield         </td><td>962              </td></tr>\n",
       "\t<tr><td>4                </td><td>Auburn           </td><td>931              </td></tr>\n",
       "\t<tr><td>5                </td><td>Ballina          </td><td>986              </td></tr>\n",
       "\t<tr><td>6                </td><td>Balranald        </td><td>969              </td></tr>\n",
       "</tbody>\n",
       "</table>\n",
       "</dd>\n",
       "\t<dt>$transport</dt>\n",
       "\t\t<dd><table>\n",
       "<thead><tr><th scope=col>LGA</th><th scope=col>route_type</th><th scope=col>num_service</th></tr></thead>\n",
       "<tbody>\n",
       "\t<tr><td>Albury           </td><td>106              </td><td> 131             </td></tr>\n",
       "\t<tr><td>Albury           </td><td>204              </td><td>  14             </td></tr>\n",
       "\t<tr><td>Albury           </td><td>700              </td><td>1624             </td></tr>\n",
       "\t<tr><td>Armidale Regional</td><td>106              </td><td>  62             </td></tr>\n",
       "\t<tr><td>Armidale Regional</td><td>204              </td><td>  10             </td></tr>\n",
       "\t<tr><td>Armidale Regional</td><td>700              </td><td> 113             </td></tr>\n",
       "</tbody>\n",
       "</table>\n",
       "</dd>\n",
       "</dl>\n"
      ],
      "text/latex": [
       "\\begin{description}\n",
       "\\item[\\$age] \\begin{tabular}{r|llll}\n",
       " Sex & Age & LGA & Value\\\\\n",
       "\\hline\n",
       "\t Females                      & 95 - 99                      & Lismore                      &  65                         \\\\\n",
       "\t Females                      & 95 - 99                      & Queanbeyan-Palerang Regional &  33                         \\\\\n",
       "\t Females                      & 95 - 99                      & Mid-Coast                    & 173                         \\\\\n",
       "\t Females                      & 95 - 99                      & Glen Innes Severn            &  16                         \\\\\n",
       "\t Females                      & 95 - 99                      & Lockhart                     &  11                         \\\\\n",
       "\t Females                      & 95 - 99                      & Lane Cove                    &  49                         \\\\\n",
       "\\end{tabular}\n",
       "\n",
       "\\item[\\$country\\_of\\_birth] \\begin{tabular}{r|lllllll}\n",
       " birthplace\\_of\\_person & census\\_year & lga\\_2016 & LGA & value & yarrp\\_2016 & year\\_of\\_arrival\\_in\\_australia\\\\\n",
       "\\hline\n",
       "\t Oceania and Antarctica, nfd & 2016                        & 10050                       & Albury                      & 0                           & 1                           & Arrived 1900 - 1945        \\\\\n",
       "\t Oceania and Antarctica, nfd & 2016                        & 10050                       & Albury                      & 0                           & 2                           & Arrived 1946 - 1955        \\\\\n",
       "\t Oceania and Antarctica, nfd & 2016                        & 10050                       & Albury                      & 0                           & 3                           & Arrived 1956 - 1965        \\\\\n",
       "\t Oceania and Antarctica, nfd & 2016                        & 10050                       & Albury                      & 0                           & 4                           & Arrived 1966 - 1975        \\\\\n",
       "\t Oceania and Antarctica, nfd & 2016                        & 10050                       & Albury                      & 0                           & 5                           & Arrived 1976 - 1985        \\\\\n",
       "\t Oceania and Antarctica, nfd & 2016                        & 10050                       & Albury                      & 0                           & 6                           & Arrived 1986 - 1995        \\\\\n",
       "\\end{tabular}\n",
       "\n",
       "\\item[\\$crime] \\begin{tabular}{r|llll}\n",
       " X1 & LGA & Offence & Crim\\_Count\\\\\n",
       "\\hline\n",
       "\t 1                                     & Albury                                & Murder *                              &   2                                  \\\\\n",
       "\t 2                                     & Albury                                & Attempted murder                      &   1                                  \\\\\n",
       "\t 3                                     & Albury                                & Murder accessory, conspiracy          &   0                                  \\\\\n",
       "\t 4                                     & Albury                                & Manslaughter *                        &   0                                  \\\\\n",
       "\t 5                                     & Albury                                & Domestic violence related assault     & 284                                  \\\\\n",
       "\t 6                                     & Albury                                & Non-domestic violence related assault & 296                                  \\\\\n",
       "\\end{tabular}\n",
       "\n",
       "\\item[\\$industry\\_employment] \\begin{tabular}{r|lllllll}\n",
       " Age & Sex & Industry of Employment & LGA\\_2016 & LGA & Census year & Value\\\\\n",
       "\\hline\n",
       "\t 15 - 19                           & Males                             & Agriculture, Forestry and Fishing & 10050                             & Albury                            & 2016                              &  6                               \\\\\n",
       "\t 15 - 19                           & Females                           & Agriculture, Forestry and Fishing & 10050                             & Albury                            & 2016                              &  4                               \\\\\n",
       "\t 15 - 19                           & Persons                           & Agriculture, Forestry and Fishing & 10050                             & Albury                            & 2016                              &  6                               \\\\\n",
       "\t 15 - 19                           & Males                             & Agriculture, Forestry and Fishing & 10130                             & Armidale Regional                 & 2016                              & 34                               \\\\\n",
       "\t 15 - 19                           & Females                           & Agriculture, Forestry and Fishing & 10130                             & Armidale Regional                 & 2016                              &  9                               \\\\\n",
       "\t 15 - 19                           & Persons                           & Agriculture, Forestry and Fishing & 10130                             & Armidale Regional                 & 2016                              & 43                               \\\\\n",
       "\\end{tabular}\n",
       "\n",
       "\\item[\\$labour] \\begin{tabular}{r|lllllll}\n",
       " Age & Sex & Labour force status & LGA\\_2016 & LGA & Census year & Value\\\\\n",
       "\\hline\n",
       "\t 15 - 19                    & Males                      & Employed, worked full-time & 10050                      & Albury                     & 2016                       & 236                       \\\\\n",
       "\t 15 - 19                    & Females                    & Employed, worked full-time & 10050                      & Albury                     & 2016                       & 113                       \\\\\n",
       "\t 15 - 19                    & Persons                    & Employed, worked full-time & 10050                      & Albury                     & 2016                       & 348                       \\\\\n",
       "\t 15 - 19                    & Males                      & Employed, worked full-time & 10130                      & Armidale Regional          & 2016                       & 105                       \\\\\n",
       "\t 15 - 19                    & Females                    & Employed, worked full-time & 10130                      & Armidale Regional          & 2016                       &  58                       \\\\\n",
       "\t 15 - 19                    & Persons                    & Employed, worked full-time & 10130                      & Armidale Regional          & 2016                       & 160                       \\\\\n",
       "\\end{tabular}\n",
       "\n",
       "\\item[\\$pop\\_dens] \\begin{tabular}{r|lll}\n",
       " X1 & LGA & Pop\\_Dens\\_km2\\\\\n",
       "\\hline\n",
       "\t 1                 & Albury            & 170.5            \\\\\n",
       "\t 2                 & Armidale Regional &   3.5            \\\\\n",
       "\t 3                 & Ballina           &  88.7            \\\\\n",
       "\t 4                 & Balranald         &   0.1            \\\\\n",
       "\t 5                 & Bathurst Regional &  11.1            \\\\\n",
       "\t 6                 & Bega Valley       &   5.4            \\\\\n",
       "\\end{tabular}\n",
       "\n",
       "\\item[\\$seifa] \\begin{tabular}{r|lll}\n",
       " X1 & LGA & Value\\\\\n",
       "\\hline\n",
       "\t 1                 & Albury            & 964              \\\\\n",
       "\t 2                 & Armidale Dumaresq & 954              \\\\\n",
       "\t 3                 & Ashfield          & 962              \\\\\n",
       "\t 4                 & Auburn            & 931              \\\\\n",
       "\t 5                 & Ballina           & 986              \\\\\n",
       "\t 6                 & Balranald         & 969              \\\\\n",
       "\\end{tabular}\n",
       "\n",
       "\\item[\\$transport] \\begin{tabular}{r|lll}\n",
       " LGA & route\\_type & num\\_service\\\\\n",
       "\\hline\n",
       "\t Albury            & 106               &  131             \\\\\n",
       "\t Albury            & 204               &   14             \\\\\n",
       "\t Albury            & 700               & 1624             \\\\\n",
       "\t Armidale Regional & 106               &   62             \\\\\n",
       "\t Armidale Regional & 204               &   10             \\\\\n",
       "\t Armidale Regional & 700               &  113             \\\\\n",
       "\\end{tabular}\n",
       "\n",
       "\\end{description}\n"
      ],
      "text/markdown": [
       "$age\n",
       ":   \n",
       "| Sex | Age | LGA | Value |\n",
       "|---|---|---|---|\n",
       "| Females                      | 95 - 99                      | Lismore                      |  65                          |\n",
       "| Females                      | 95 - 99                      | Queanbeyan-Palerang Regional |  33                          |\n",
       "| Females                      | 95 - 99                      | Mid-Coast                    | 173                          |\n",
       "| Females                      | 95 - 99                      | Glen Innes Severn            |  16                          |\n",
       "| Females                      | 95 - 99                      | Lockhart                     |  11                          |\n",
       "| Females                      | 95 - 99                      | Lane Cove                    |  49                          |\n",
       "\n",
       "\n",
       "$country_of_birth\n",
       ":   \n",
       "| birthplace_of_person | census_year | lga_2016 | LGA | value | yarrp_2016 | year_of_arrival_in_australia |\n",
       "|---|---|---|---|---|---|---|\n",
       "| Oceania and Antarctica, nfd | 2016                        | 10050                       | Albury                      | 0                           | 1                           | Arrived 1900 - 1945         |\n",
       "| Oceania and Antarctica, nfd | 2016                        | 10050                       | Albury                      | 0                           | 2                           | Arrived 1946 - 1955         |\n",
       "| Oceania and Antarctica, nfd | 2016                        | 10050                       | Albury                      | 0                           | 3                           | Arrived 1956 - 1965         |\n",
       "| Oceania and Antarctica, nfd | 2016                        | 10050                       | Albury                      | 0                           | 4                           | Arrived 1966 - 1975         |\n",
       "| Oceania and Antarctica, nfd | 2016                        | 10050                       | Albury                      | 0                           | 5                           | Arrived 1976 - 1985         |\n",
       "| Oceania and Antarctica, nfd | 2016                        | 10050                       | Albury                      | 0                           | 6                           | Arrived 1986 - 1995         |\n",
       "\n",
       "\n",
       "$crime\n",
       ":   \n",
       "| X1 | LGA | Offence | Crim_Count |\n",
       "|---|---|---|---|\n",
       "| 1                                     | Albury                                | Murder *                              |   2                                   |\n",
       "| 2                                     | Albury                                | Attempted murder                      |   1                                   |\n",
       "| 3                                     | Albury                                | Murder accessory, conspiracy          |   0                                   |\n",
       "| 4                                     | Albury                                | Manslaughter *                        |   0                                   |\n",
       "| 5                                     | Albury                                | Domestic violence related assault     | 284                                   |\n",
       "| 6                                     | Albury                                | Non-domestic violence related assault | 296                                   |\n",
       "\n",
       "\n",
       "$industry_employment\n",
       ":   \n",
       "| Age | Sex | Industry of Employment | LGA_2016 | LGA | Census year | Value |\n",
       "|---|---|---|---|---|---|---|\n",
       "| 15 - 19                           | Males                             | Agriculture, Forestry and Fishing | 10050                             | Albury                            | 2016                              |  6                                |\n",
       "| 15 - 19                           | Females                           | Agriculture, Forestry and Fishing | 10050                             | Albury                            | 2016                              |  4                                |\n",
       "| 15 - 19                           | Persons                           | Agriculture, Forestry and Fishing | 10050                             | Albury                            | 2016                              |  6                                |\n",
       "| 15 - 19                           | Males                             | Agriculture, Forestry and Fishing | 10130                             | Armidale Regional                 | 2016                              | 34                                |\n",
       "| 15 - 19                           | Females                           | Agriculture, Forestry and Fishing | 10130                             | Armidale Regional                 | 2016                              |  9                                |\n",
       "| 15 - 19                           | Persons                           | Agriculture, Forestry and Fishing | 10130                             | Armidale Regional                 | 2016                              | 43                                |\n",
       "\n",
       "\n",
       "$labour\n",
       ":   \n",
       "| Age | Sex | Labour force status | LGA_2016 | LGA | Census year | Value |\n",
       "|---|---|---|---|---|---|---|\n",
       "| 15 - 19                    | Males                      | Employed, worked full-time | 10050                      | Albury                     | 2016                       | 236                        |\n",
       "| 15 - 19                    | Females                    | Employed, worked full-time | 10050                      | Albury                     | 2016                       | 113                        |\n",
       "| 15 - 19                    | Persons                    | Employed, worked full-time | 10050                      | Albury                     | 2016                       | 348                        |\n",
       "| 15 - 19                    | Males                      | Employed, worked full-time | 10130                      | Armidale Regional          | 2016                       | 105                        |\n",
       "| 15 - 19                    | Females                    | Employed, worked full-time | 10130                      | Armidale Regional          | 2016                       |  58                        |\n",
       "| 15 - 19                    | Persons                    | Employed, worked full-time | 10130                      | Armidale Regional          | 2016                       | 160                        |\n",
       "\n",
       "\n",
       "$pop_dens\n",
       ":   \n",
       "| X1 | LGA | Pop_Dens_km2 |\n",
       "|---|---|---|\n",
       "| 1                 | Albury            | 170.5             |\n",
       "| 2                 | Armidale Regional |   3.5             |\n",
       "| 3                 | Ballina           |  88.7             |\n",
       "| 4                 | Balranald         |   0.1             |\n",
       "| 5                 | Bathurst Regional |  11.1             |\n",
       "| 6                 | Bega Valley       |   5.4             |\n",
       "\n",
       "\n",
       "$seifa\n",
       ":   \n",
       "| X1 | LGA | Value |\n",
       "|---|---|---|\n",
       "| 1                 | Albury            | 964               |\n",
       "| 2                 | Armidale Dumaresq | 954               |\n",
       "| 3                 | Ashfield          | 962               |\n",
       "| 4                 | Auburn            | 931               |\n",
       "| 5                 | Ballina           | 986               |\n",
       "| 6                 | Balranald         | 969               |\n",
       "\n",
       "\n",
       "$transport\n",
       ":   \n",
       "| LGA | route_type | num_service |\n",
       "|---|---|---|\n",
       "| Albury            | 106               |  131              |\n",
       "| Albury            | 204               |   14              |\n",
       "| Albury            | 700               | 1624              |\n",
       "| Armidale Regional | 106               |   62              |\n",
       "| Armidale Regional | 204               |   10              |\n",
       "| Armidale Regional | 700               |  113              |\n",
       "\n",
       "\n",
       "\n",
       "\n"
      ],
      "text/plain": [
       "$age\n",
       "\u001b[90m# A tibble: 6 x 4\u001b[39m\n",
       "  Sex     Age     LGA                          Value\n",
       "  \u001b[3m\u001b[90m<fct>\u001b[39m\u001b[23m   \u001b[3m\u001b[90m<fct>\u001b[39m\u001b[23m   \u001b[3m\u001b[90m<fct>\u001b[39m\u001b[23m                        \u001b[3m\u001b[90m<int>\u001b[39m\u001b[23m\n",
       "\u001b[90m1\u001b[39m Females 95 - 99 Lismore                         65\n",
       "\u001b[90m2\u001b[39m Females 95 - 99 Queanbeyan-Palerang Regional    33\n",
       "\u001b[90m3\u001b[39m Females 95 - 99 Mid-Coast                      173\n",
       "\u001b[90m4\u001b[39m Females 95 - 99 Glen Innes Severn               16\n",
       "\u001b[90m5\u001b[39m Females 95 - 99 Lockhart                        11\n",
       "\u001b[90m6\u001b[39m Females 95 - 99 Lane Cove                       49\n",
       "\n",
       "$country_of_birth\n",
       "\u001b[90m# A tibble: 6 x 7\u001b[39m\n",
       "  birthplace_of_pe~ census_year lga_2016 LGA   value yarrp_2016 year_of_arrival~\n",
       "  \u001b[3m\u001b[90m<fct>\u001b[39m\u001b[23m                   \u001b[3m\u001b[90m<dbl>\u001b[39m\u001b[23m    \u001b[3m\u001b[90m<dbl>\u001b[39m\u001b[23m \u001b[3m\u001b[90m<fct>\u001b[39m\u001b[23m \u001b[3m\u001b[90m<dbl>\u001b[39m\u001b[23m \u001b[3m\u001b[90m<chr>\u001b[39m\u001b[23m      \u001b[3m\u001b[90m<fct>\u001b[39m\u001b[23m           \n",
       "\u001b[90m1\u001b[39m Oceania and Anta~        \u001b[4m2\u001b[24m016    \u001b[4m1\u001b[24m\u001b[4m0\u001b[24m050 Albu~     0 1          Arrived 1900 - ~\n",
       "\u001b[90m2\u001b[39m Oceania and Anta~        \u001b[4m2\u001b[24m016    \u001b[4m1\u001b[24m\u001b[4m0\u001b[24m050 Albu~     0 2          Arrived 1946 - ~\n",
       "\u001b[90m3\u001b[39m Oceania and Anta~        \u001b[4m2\u001b[24m016    \u001b[4m1\u001b[24m\u001b[4m0\u001b[24m050 Albu~     0 3          Arrived 1956 - ~\n",
       "\u001b[90m4\u001b[39m Oceania and Anta~        \u001b[4m2\u001b[24m016    \u001b[4m1\u001b[24m\u001b[4m0\u001b[24m050 Albu~     0 4          Arrived 1966 - ~\n",
       "\u001b[90m5\u001b[39m Oceania and Anta~        \u001b[4m2\u001b[24m016    \u001b[4m1\u001b[24m\u001b[4m0\u001b[24m050 Albu~     0 5          Arrived 1976 - ~\n",
       "\u001b[90m6\u001b[39m Oceania and Anta~        \u001b[4m2\u001b[24m016    \u001b[4m1\u001b[24m\u001b[4m0\u001b[24m050 Albu~     0 6          Arrived 1986 - ~\n",
       "\n",
       "$crime\n",
       "\u001b[90m# A tibble: 6 x 4\u001b[39m\n",
       "     X1 LGA    Offence                               Crim_Count\n",
       "  \u001b[3m\u001b[90m<dbl>\u001b[39m\u001b[23m \u001b[3m\u001b[90m<fct>\u001b[39m\u001b[23m  \u001b[3m\u001b[90m<fct>\u001b[39m\u001b[23m                                      \u001b[3m\u001b[90m<int>\u001b[39m\u001b[23m\n",
       "\u001b[90m1\u001b[39m     1 Albury Murder *                                       2\n",
       "\u001b[90m2\u001b[39m     2 Albury Attempted murder                               1\n",
       "\u001b[90m3\u001b[39m     3 Albury Murder accessory, conspiracy                   0\n",
       "\u001b[90m4\u001b[39m     4 Albury Manslaughter *                                 0\n",
       "\u001b[90m5\u001b[39m     5 Albury Domestic violence related assault            284\n",
       "\u001b[90m6\u001b[39m     6 Albury Non-domestic violence related assault        296\n",
       "\n",
       "$industry_employment\n",
       "\u001b[90m# A tibble: 6 x 7\u001b[39m\n",
       "  Age    Sex    `Industry of Employment` LGA_2016 LGA        `Census year` Value\n",
       "  \u001b[3m\u001b[90m<fct>\u001b[39m\u001b[23m  \u001b[3m\u001b[90m<fct>\u001b[39m\u001b[23m  \u001b[3m\u001b[90m<fct>\u001b[39m\u001b[23m                       \u001b[3m\u001b[90m<dbl>\u001b[39m\u001b[23m \u001b[3m\u001b[90m<fct>\u001b[39m\u001b[23m              \u001b[3m\u001b[90m<dbl>\u001b[39m\u001b[23m \u001b[3m\u001b[90m<int>\u001b[39m\u001b[23m\n",
       "\u001b[90m1\u001b[39m 15 - ~ Males  Agriculture, Forestry a~    \u001b[4m1\u001b[24m\u001b[4m0\u001b[24m050 Albury              \u001b[4m2\u001b[24m016     6\n",
       "\u001b[90m2\u001b[39m 15 - ~ Femal~ Agriculture, Forestry a~    \u001b[4m1\u001b[24m\u001b[4m0\u001b[24m050 Albury              \u001b[4m2\u001b[24m016     4\n",
       "\u001b[90m3\u001b[39m 15 - ~ Perso~ Agriculture, Forestry a~    \u001b[4m1\u001b[24m\u001b[4m0\u001b[24m050 Albury              \u001b[4m2\u001b[24m016     6\n",
       "\u001b[90m4\u001b[39m 15 - ~ Males  Agriculture, Forestry a~    \u001b[4m1\u001b[24m\u001b[4m0\u001b[24m130 Armidale ~          \u001b[4m2\u001b[24m016    34\n",
       "\u001b[90m5\u001b[39m 15 - ~ Femal~ Agriculture, Forestry a~    \u001b[4m1\u001b[24m\u001b[4m0\u001b[24m130 Armidale ~          \u001b[4m2\u001b[24m016     9\n",
       "\u001b[90m6\u001b[39m 15 - ~ Perso~ Agriculture, Forestry a~    \u001b[4m1\u001b[24m\u001b[4m0\u001b[24m130 Armidale ~          \u001b[4m2\u001b[24m016    43\n",
       "\n",
       "$labour\n",
       "\u001b[90m# A tibble: 6 x 7\u001b[39m\n",
       "  Age     Sex     `Labour force status` LGA_2016 LGA         `Census year` Value\n",
       "  \u001b[3m\u001b[90m<fct>\u001b[39m\u001b[23m   \u001b[3m\u001b[90m<fct>\u001b[39m\u001b[23m   \u001b[3m\u001b[90m<fct>\u001b[39m\u001b[23m                    \u001b[3m\u001b[90m<dbl>\u001b[39m\u001b[23m \u001b[3m\u001b[90m<fct>\u001b[39m\u001b[23m               \u001b[3m\u001b[90m<dbl>\u001b[39m\u001b[23m \u001b[3m\u001b[90m<int>\u001b[39m\u001b[23m\n",
       "\u001b[90m1\u001b[39m 15 - 19 Males   Employed, worked ful~    \u001b[4m1\u001b[24m\u001b[4m0\u001b[24m050 Albury               \u001b[4m2\u001b[24m016   236\n",
       "\u001b[90m2\u001b[39m 15 - 19 Females Employed, worked ful~    \u001b[4m1\u001b[24m\u001b[4m0\u001b[24m050 Albury               \u001b[4m2\u001b[24m016   113\n",
       "\u001b[90m3\u001b[39m 15 - 19 Persons Employed, worked ful~    \u001b[4m1\u001b[24m\u001b[4m0\u001b[24m050 Albury               \u001b[4m2\u001b[24m016   348\n",
       "\u001b[90m4\u001b[39m 15 - 19 Males   Employed, worked ful~    \u001b[4m1\u001b[24m\u001b[4m0\u001b[24m130 Armidale R~          \u001b[4m2\u001b[24m016   105\n",
       "\u001b[90m5\u001b[39m 15 - 19 Females Employed, worked ful~    \u001b[4m1\u001b[24m\u001b[4m0\u001b[24m130 Armidale R~          \u001b[4m2\u001b[24m016    58\n",
       "\u001b[90m6\u001b[39m 15 - 19 Persons Employed, worked ful~    \u001b[4m1\u001b[24m\u001b[4m0\u001b[24m130 Armidale R~          \u001b[4m2\u001b[24m016   160\n",
       "\n",
       "$pop_dens\n",
       "\u001b[90m# A tibble: 6 x 3\u001b[39m\n",
       "     X1 LGA               Pop_Dens_km2\n",
       "  \u001b[3m\u001b[90m<dbl>\u001b[39m\u001b[23m \u001b[3m\u001b[90m<fct>\u001b[39m\u001b[23m                    \u001b[3m\u001b[90m<dbl>\u001b[39m\u001b[23m\n",
       "\u001b[90m1\u001b[39m     1 Albury                   170. \n",
       "\u001b[90m2\u001b[39m     2 Armidale Regional          3.5\n",
       "\u001b[90m3\u001b[39m     3 Ballina                   88.7\n",
       "\u001b[90m4\u001b[39m     4 Balranald                  0.1\n",
       "\u001b[90m5\u001b[39m     5 Bathurst Regional         11.1\n",
       "\u001b[90m6\u001b[39m     6 Bega Valley                5.4\n",
       "\n",
       "$seifa\n",
       "\u001b[90m# A tibble: 6 x 3\u001b[39m\n",
       "     X1 LGA               Value\n",
       "  \u001b[3m\u001b[90m<dbl>\u001b[39m\u001b[23m \u001b[3m\u001b[90m<fct>\u001b[39m\u001b[23m             \u001b[3m\u001b[90m<int>\u001b[39m\u001b[23m\n",
       "\u001b[90m1\u001b[39m     1 Albury              964\n",
       "\u001b[90m2\u001b[39m     2 Armidale Dumaresq   954\n",
       "\u001b[90m3\u001b[39m     3 Ashfield            962\n",
       "\u001b[90m4\u001b[39m     4 Auburn              931\n",
       "\u001b[90m5\u001b[39m     5 Ballina             986\n",
       "\u001b[90m6\u001b[39m     6 Balranald           969\n",
       "\n",
       "$transport\n",
       "\u001b[90m# A tibble: 6 x 3\u001b[39m\n",
       "  LGA               route_type num_service\n",
       "  \u001b[3m\u001b[90m<fct>\u001b[39m\u001b[23m             \u001b[3m\u001b[90m<fct>\u001b[39m\u001b[23m            \u001b[3m\u001b[90m<dbl>\u001b[39m\u001b[23m\n",
       "\u001b[90m1\u001b[39m Albury            106                131\n",
       "\u001b[90m2\u001b[39m Albury            204                 14\n",
       "\u001b[90m3\u001b[39m Albury            700               \u001b[4m1\u001b[24m624\n",
       "\u001b[90m4\u001b[39m Armidale Regional 106                 62\n",
       "\u001b[90m5\u001b[39m Armidale Regional 204                 10\n",
       "\u001b[90m6\u001b[39m Armidale Regional 700                113\n"
      ]
     },
     "metadata": {},
     "output_type": "display_data"
    }
   ],
   "source": [
    "map(input_data, head)"
   ]
  },
  {
   "cell_type": "code",
   "execution_count": 11,
   "metadata": {},
   "outputs": [
    {
     "name": "stdout",
     "output_type": "stream",
     "text": [
      "[1] \"age\"\n",
      "Observations: 5,808\n",
      "Variables: 4\n",
      "$ Sex   \u001b[3m\u001b[90m<fct>\u001b[39m\u001b[23m Females, Females, Females, Females, Females, Females, Females...\n",
      "$ Age   \u001b[3m\u001b[90m<fct>\u001b[39m\u001b[23m 95 - 99, 95 - 99, 95 - 99, 95 - 99, 95 - 99, 95 - 99, 95 - 99...\n",
      "$ LGA   \u001b[3m\u001b[90m<fct>\u001b[39m\u001b[23m Lismore, Queanbeyan-Palerang Regional, Mid-Coast, Glen Innes ...\n",
      "$ Value \u001b[3m\u001b[90m<int>\u001b[39m\u001b[23m 65, 33, 173, 16, 11, 49, 26, 451, 24, 0, 4, 39, 72, 29, 9, 51...\n",
      "\u001b[90m# A tibble: 5,808 x 4\u001b[39m\n",
      "   Sex     Age     LGA                          Value\n",
      "   \u001b[3m\u001b[90m<fct>\u001b[39m\u001b[23m   \u001b[3m\u001b[90m<fct>\u001b[39m\u001b[23m   \u001b[3m\u001b[90m<fct>\u001b[39m\u001b[23m                        \u001b[3m\u001b[90m<int>\u001b[39m\u001b[23m\n",
      "\u001b[90m 1\u001b[39m Females 95 - 99 Lismore                         65\n",
      "\u001b[90m 2\u001b[39m Females 95 - 99 Queanbeyan-Palerang Regional    33\n",
      "\u001b[90m 3\u001b[39m Females 95 - 99 Mid-Coast                      173\n",
      "\u001b[90m 4\u001b[39m Females 95 - 99 Glen Innes Severn               16\n",
      "\u001b[90m 5\u001b[39m Females 95 - 99 Lockhart                        11\n",
      "\u001b[90m 6\u001b[39m Females 95 - 99 Lane Cove                       49\n",
      "\u001b[90m 7\u001b[39m Females 95 - 99 Nambucca                        26\n",
      "\u001b[90m 8\u001b[39m Females 95 - 99 Northern Beaches               451\n",
      "\u001b[90m 9\u001b[39m Females 95 - 99 Inverell                        24\n",
      "\u001b[90m10\u001b[39m Females 95 - 99 Hay                              0\n",
      "\u001b[90m# ... with 5,798 more rows\u001b[39m\n",
      "[1] \"country_of_birth\"\n",
      "Observations: 918,607\n",
      "Variables: 7\n",
      "$ birthplace_of_person         \u001b[3m\u001b[90m<fct>\u001b[39m\u001b[23m \"Oceania and Antarctica, nfd\", \"Oceani...\n",
      "$ census_year                  \u001b[3m\u001b[90m<dbl>\u001b[39m\u001b[23m 2016, 2016, 2016, 2016, 2016, 2016, 20...\n",
      "$ lga_2016                     \u001b[3m\u001b[90m<dbl>\u001b[39m\u001b[23m 10050, 10050, 10050, 10050, 10050, 100...\n",
      "$ LGA                          \u001b[3m\u001b[90m<fct>\u001b[39m\u001b[23m Albury, Albury, Albury, Albury, Albury...\n",
      "$ value                        \u001b[3m\u001b[90m<dbl>\u001b[39m\u001b[23m 0, 0, 0, 0, 0, 0, 0, 0, 0, 0, 0, 0, 0,...\n",
      "$ yarrp_2016                   \u001b[3m\u001b[90m<chr>\u001b[39m\u001b[23m \"1\", \"2\", \"3\", \"4\", \"5\", \"6\", \"7\", \"9\"...\n",
      "$ year_of_arrival_in_australia \u001b[3m\u001b[90m<fct>\u001b[39m\u001b[23m Arrived 1900 - 1945, Arrived 1946 - 19...\n",
      "\u001b[90m# A tibble: 918,607 x 7\u001b[39m\n",
      "   birthplace_of_p~ census_year lga_2016 LGA   value yarrp_2016 year_of_arrival~\n",
      "   \u001b[3m\u001b[90m<fct>\u001b[39m\u001b[23m                  \u001b[3m\u001b[90m<dbl>\u001b[39m\u001b[23m    \u001b[3m\u001b[90m<dbl>\u001b[39m\u001b[23m \u001b[3m\u001b[90m<fct>\u001b[39m\u001b[23m \u001b[3m\u001b[90m<dbl>\u001b[39m\u001b[23m \u001b[3m\u001b[90m<chr>\u001b[39m\u001b[23m      \u001b[3m\u001b[90m<fct>\u001b[39m\u001b[23m           \n",
      "\u001b[90m 1\u001b[39m Oceania and Ant~        \u001b[4m2\u001b[24m016    \u001b[4m1\u001b[24m\u001b[4m0\u001b[24m050 Albu~     0 1          Arrived 1900 - ~\n",
      "\u001b[90m 2\u001b[39m Oceania and Ant~        \u001b[4m2\u001b[24m016    \u001b[4m1\u001b[24m\u001b[4m0\u001b[24m050 Albu~     0 2          Arrived 1946 - ~\n",
      "\u001b[90m 3\u001b[39m Oceania and Ant~        \u001b[4m2\u001b[24m016    \u001b[4m1\u001b[24m\u001b[4m0\u001b[24m050 Albu~     0 3          Arrived 1956 - ~\n",
      "\u001b[90m 4\u001b[39m Oceania and Ant~        \u001b[4m2\u001b[24m016    \u001b[4m1\u001b[24m\u001b[4m0\u001b[24m050 Albu~     0 4          Arrived 1966 - ~\n",
      "\u001b[90m 5\u001b[39m Oceania and Ant~        \u001b[4m2\u001b[24m016    \u001b[4m1\u001b[24m\u001b[4m0\u001b[24m050 Albu~     0 5          Arrived 1976 - ~\n",
      "\u001b[90m 6\u001b[39m Oceania and Ant~        \u001b[4m2\u001b[24m016    \u001b[4m1\u001b[24m\u001b[4m0\u001b[24m050 Albu~     0 6          Arrived 1986 - ~\n",
      "\u001b[90m 7\u001b[39m Oceania and Ant~        \u001b[4m2\u001b[24m016    \u001b[4m1\u001b[24m\u001b[4m0\u001b[24m050 Albu~     0 7          Arrived 1996 - ~\n",
      "\u001b[90m 8\u001b[39m Oceania and Ant~        \u001b[4m2\u001b[24m016    \u001b[4m1\u001b[24m\u001b[4m0\u001b[24m050 Albu~     0 9          Arrived 1 Jan 2~\n",
      "\u001b[90m 9\u001b[39m Oceania and Ant~        \u001b[4m2\u001b[24m016    \u001b[4m1\u001b[24m\u001b[4m0\u001b[24m050 Albu~     0 Z          Not stated      \n",
      "\u001b[90m10\u001b[39m Oceania and Ant~        \u001b[4m2\u001b[24m016    \u001b[4m1\u001b[24m\u001b[4m0\u001b[24m130 Armi~     0 1          Arrived 1900 - ~\n",
      "\u001b[90m# ... with 918,597 more rows\u001b[39m\n",
      "[1] \"crime\"\n",
      "Observations: 8,060\n",
      "Variables: 4\n",
      "$ X1         \u001b[3m\u001b[90m<dbl>\u001b[39m\u001b[23m 1, 2, 3, 4, 5, 6, 7, 8, 9, 10, 11, 12, 13, 14, 15, 16, 1...\n",
      "$ LGA        \u001b[3m\u001b[90m<fct>\u001b[39m\u001b[23m Albury, Albury, Albury, Albury, Albury, Albury, Albury, ...\n",
      "$ Offence    \u001b[3m\u001b[90m<fct>\u001b[39m\u001b[23m \"Murder *\", \"Attempted murder\", \"Murder accessory, consp...\n",
      "$ Crim_Count \u001b[3m\u001b[90m<int>\u001b[39m\u001b[23m 2, 1, 0, 0, 284, 296, 25, 47, 68, 2, 12, 3, 6, 0, 315, 1...\n",
      "\u001b[90m# A tibble: 8,060 x 4\u001b[39m\n",
      "      X1 LGA    Offence                                               Crim_Count\n",
      "   \u001b[3m\u001b[90m<dbl>\u001b[39m\u001b[23m \u001b[3m\u001b[90m<fct>\u001b[39m\u001b[23m  \u001b[3m\u001b[90m<fct>\u001b[39m\u001b[23m                                                      \u001b[3m\u001b[90m<int>\u001b[39m\u001b[23m\n",
      "\u001b[90m 1\u001b[39m     1 Albury Murder *                                                       2\n",
      "\u001b[90m 2\u001b[39m     2 Albury Attempted murder                                               1\n",
      "\u001b[90m 3\u001b[39m     3 Albury Murder accessory, conspiracy                                   0\n",
      "\u001b[90m 4\u001b[39m     4 Albury Manslaughter *                                                 0\n",
      "\u001b[90m 5\u001b[39m     5 Albury Domestic violence related assault                            284\n",
      "\u001b[90m 6\u001b[39m     6 Albury Non-domestic violence related assault                        296\n",
      "\u001b[90m 7\u001b[39m     7 Albury Assault Police                                                25\n",
      "\u001b[90m 8\u001b[39m     8 Albury Sexual assault                                                47\n",
      "\u001b[90m 9\u001b[39m     9 Albury Indecent assault, act of indecency and other sexual ~         68\n",
      "\u001b[90m10\u001b[39m    10 Albury Abduction and kidnapping                                       2\n",
      "\u001b[90m# ... with 8,050 more rows\u001b[39m\n",
      "[1] \"industry_employment\"\n",
      "Observations: 79,200\n",
      "Variables: 7\n",
      "$ Age                      \u001b[3m\u001b[90m<fct>\u001b[39m\u001b[23m 15 - 19, 15 - 19, 15 - 19, 15 - 19, 15 - 1...\n",
      "$ Sex                      \u001b[3m\u001b[90m<fct>\u001b[39m\u001b[23m Males, Females, Persons, Males, Females, P...\n",
      "$ `Industry of Employment` \u001b[3m\u001b[90m<fct>\u001b[39m\u001b[23m \"Agriculture, Forestry and Fishing\", \"Agri...\n",
      "$ LGA_2016                 \u001b[3m\u001b[90m<dbl>\u001b[39m\u001b[23m 10050, 10050, 10050, 10130, 10130, 10130, ...\n",
      "$ LGA                      \u001b[3m\u001b[90m<fct>\u001b[39m\u001b[23m Albury, Albury, Albury, Armidale Regional,...\n",
      "$ `Census year`            \u001b[3m\u001b[90m<dbl>\u001b[39m\u001b[23m 2016, 2016, 2016, 2016, 2016, 2016, 2016, ...\n",
      "$ Value                    \u001b[3m\u001b[90m<int>\u001b[39m\u001b[23m 6, 4, 6, 34, 9, 43, 27, 10, 39, 0, 0, 6, 1...\n",
      "\u001b[90m# A tibble: 79,200 x 7\u001b[39m\n",
      "   Age    Sex    `Industry of Employmen~ LGA_2016 LGA        `Census year` Value\n",
      "   \u001b[3m\u001b[90m<fct>\u001b[39m\u001b[23m  \u001b[3m\u001b[90m<fct>\u001b[39m\u001b[23m  \u001b[3m\u001b[90m<fct>\u001b[39m\u001b[23m                      \u001b[3m\u001b[90m<dbl>\u001b[39m\u001b[23m \u001b[3m\u001b[90m<fct>\u001b[39m\u001b[23m              \u001b[3m\u001b[90m<dbl>\u001b[39m\u001b[23m \u001b[3m\u001b[90m<int>\u001b[39m\u001b[23m\n",
      "\u001b[90m 1\u001b[39m 15 - ~ Males  Agriculture, Forestry ~    \u001b[4m1\u001b[24m\u001b[4m0\u001b[24m050 Albury              \u001b[4m2\u001b[24m016     6\n",
      "\u001b[90m 2\u001b[39m 15 - ~ Femal~ Agriculture, Forestry ~    \u001b[4m1\u001b[24m\u001b[4m0\u001b[24m050 Albury              \u001b[4m2\u001b[24m016     4\n",
      "\u001b[90m 3\u001b[39m 15 - ~ Perso~ Agriculture, Forestry ~    \u001b[4m1\u001b[24m\u001b[4m0\u001b[24m050 Albury              \u001b[4m2\u001b[24m016     6\n",
      "\u001b[90m 4\u001b[39m 15 - ~ Males  Agriculture, Forestry ~    \u001b[4m1\u001b[24m\u001b[4m0\u001b[24m130 Armidale ~          \u001b[4m2\u001b[24m016    34\n",
      "\u001b[90m 5\u001b[39m 15 - ~ Femal~ Agriculture, Forestry ~    \u001b[4m1\u001b[24m\u001b[4m0\u001b[24m130 Armidale ~          \u001b[4m2\u001b[24m016     9\n",
      "\u001b[90m 6\u001b[39m 15 - ~ Perso~ Agriculture, Forestry ~    \u001b[4m1\u001b[24m\u001b[4m0\u001b[24m130 Armidale ~          \u001b[4m2\u001b[24m016    43\n",
      "\u001b[90m 7\u001b[39m 15 - ~ Males  Agriculture, Forestry ~    \u001b[4m1\u001b[24m\u001b[4m0\u001b[24m250 Ballina             \u001b[4m2\u001b[24m016    27\n",
      "\u001b[90m 8\u001b[39m 15 - ~ Femal~ Agriculture, Forestry ~    \u001b[4m1\u001b[24m\u001b[4m0\u001b[24m250 Ballina             \u001b[4m2\u001b[24m016    10\n",
      "\u001b[90m 9\u001b[39m 15 - ~ Perso~ Agriculture, Forestry ~    \u001b[4m1\u001b[24m\u001b[4m0\u001b[24m250 Ballina             \u001b[4m2\u001b[24m016    39\n",
      "\u001b[90m10\u001b[39m 15 - ~ Males  Agriculture, Forestry ~    \u001b[4m1\u001b[24m\u001b[4m0\u001b[24m300 Balranald           \u001b[4m2\u001b[24m016     0\n",
      "\u001b[90m# ... with 79,190 more rows\u001b[39m\n",
      "[1] \"labour\"\n",
      "Observations: 42,768\n",
      "Variables: 7\n",
      "$ Age                   \u001b[3m\u001b[90m<fct>\u001b[39m\u001b[23m 15 - 19, 15 - 19, 15 - 19, 15 - 19, 15 - 19, ...\n",
      "$ Sex                   \u001b[3m\u001b[90m<fct>\u001b[39m\u001b[23m Males, Females, Persons, Males, Females, Pers...\n",
      "$ `Labour force status` \u001b[3m\u001b[90m<fct>\u001b[39m\u001b[23m \"Employed, worked full-time\", \"Employed, work...\n",
      "$ LGA_2016              \u001b[3m\u001b[90m<dbl>\u001b[39m\u001b[23m 10050, 10050, 10050, 10130, 10130, 10130, 102...\n",
      "$ LGA                   \u001b[3m\u001b[90m<fct>\u001b[39m\u001b[23m Albury, Albury, Albury, Armidale Regional, Ar...\n",
      "$ `Census year`         \u001b[3m\u001b[90m<dbl>\u001b[39m\u001b[23m 2016, 2016, 2016, 2016, 2016, 2016, 2016, 201...\n",
      "$ Value                 \u001b[3m\u001b[90m<int>\u001b[39m\u001b[23m 236, 113, 348, 105, 58, 160, 115, 53, 168, 11...\n",
      "\u001b[90m# A tibble: 42,768 x 7\u001b[39m\n",
      "   Age     Sex    `Labour force status` LGA_2016 LGA         `Census year` Value\n",
      "   \u001b[3m\u001b[90m<fct>\u001b[39m\u001b[23m   \u001b[3m\u001b[90m<fct>\u001b[39m\u001b[23m  \u001b[3m\u001b[90m<fct>\u001b[39m\u001b[23m                    \u001b[3m\u001b[90m<dbl>\u001b[39m\u001b[23m \u001b[3m\u001b[90m<fct>\u001b[39m\u001b[23m               \u001b[3m\u001b[90m<dbl>\u001b[39m\u001b[23m \u001b[3m\u001b[90m<int>\u001b[39m\u001b[23m\n",
      "\u001b[90m 1\u001b[39m 15 - 19 Males  Employed, worked ful~    \u001b[4m1\u001b[24m\u001b[4m0\u001b[24m050 Albury               \u001b[4m2\u001b[24m016   236\n",
      "\u001b[90m 2\u001b[39m 15 - 19 Femal~ Employed, worked ful~    \u001b[4m1\u001b[24m\u001b[4m0\u001b[24m050 Albury               \u001b[4m2\u001b[24m016   113\n",
      "\u001b[90m 3\u001b[39m 15 - 19 Perso~ Employed, worked ful~    \u001b[4m1\u001b[24m\u001b[4m0\u001b[24m050 Albury               \u001b[4m2\u001b[24m016   348\n",
      "\u001b[90m 4\u001b[39m 15 - 19 Males  Employed, worked ful~    \u001b[4m1\u001b[24m\u001b[4m0\u001b[24m130 Armidale R~          \u001b[4m2\u001b[24m016   105\n",
      "\u001b[90m 5\u001b[39m 15 - 19 Femal~ Employed, worked ful~    \u001b[4m1\u001b[24m\u001b[4m0\u001b[24m130 Armidale R~          \u001b[4m2\u001b[24m016    58\n",
      "\u001b[90m 6\u001b[39m 15 - 19 Perso~ Employed, worked ful~    \u001b[4m1\u001b[24m\u001b[4m0\u001b[24m130 Armidale R~          \u001b[4m2\u001b[24m016   160\n",
      "\u001b[90m 7\u001b[39m 15 - 19 Males  Employed, worked ful~    \u001b[4m1\u001b[24m\u001b[4m0\u001b[24m250 Ballina              \u001b[4m2\u001b[24m016   115\n",
      "\u001b[90m 8\u001b[39m 15 - 19 Femal~ Employed, worked ful~    \u001b[4m1\u001b[24m\u001b[4m0\u001b[24m250 Ballina              \u001b[4m2\u001b[24m016    53\n",
      "\u001b[90m 9\u001b[39m 15 - 19 Perso~ Employed, worked ful~    \u001b[4m1\u001b[24m\u001b[4m0\u001b[24m250 Ballina              \u001b[4m2\u001b[24m016   168\n",
      "\u001b[90m10\u001b[39m 15 - 19 Males  Employed, worked ful~    \u001b[4m1\u001b[24m\u001b[4m0\u001b[24m300 Balranald            \u001b[4m2\u001b[24m016    11\n",
      "\u001b[90m# ... with 42,758 more rows\u001b[39m\n",
      "[1] \"pop_dens\"\n",
      "Observations: 129\n",
      "Variables: 3\n",
      "$ X1           \u001b[3m\u001b[90m<dbl>\u001b[39m\u001b[23m 1, 2, 3, 4, 5, 6, 7, 8, 9, 10, 11, 12, 13, 14, 15, 16,...\n",
      "$ LGA          \u001b[3m\u001b[90m<fct>\u001b[39m\u001b[23m Albury, Armidale Regional, Ballina, Balranald, Bathurs...\n",
      "$ Pop_Dens_km2 \u001b[3m\u001b[90m<dbl>\u001b[39m\u001b[23m 170.5, 3.5, 88.7, 0.1, 11.1, 5.4, 8.1, 4.2, 1449.8, 0....\n",
      "\u001b[90m# A tibble: 129 x 3\u001b[39m\n",
      "      X1 LGA               Pop_Dens_km2\n",
      "   \u001b[3m\u001b[90m<dbl>\u001b[39m\u001b[23m \u001b[3m\u001b[90m<fct>\u001b[39m\u001b[23m                    \u001b[3m\u001b[90m<dbl>\u001b[39m\u001b[23m\n",
      "\u001b[90m 1\u001b[39m     1 Albury                   170. \n",
      "\u001b[90m 2\u001b[39m     2 Armidale Regional          3.5\n",
      "\u001b[90m 3\u001b[39m     3 Ballina                   88.7\n",
      "\u001b[90m 4\u001b[39m     4 Balranald                  0.1\n",
      "\u001b[90m 5\u001b[39m     5 Bathurst Regional         11.1\n",
      "\u001b[90m 6\u001b[39m     6 Bega Valley                5.4\n",
      "\u001b[90m 7\u001b[39m     7 Bellingen                  8.1\n",
      "\u001b[90m 8\u001b[39m     8 Berrigan                   4.2\n",
      "\u001b[90m 9\u001b[39m     9 Blacktown               \u001b[4m1\u001b[24m450. \n",
      "\u001b[90m10\u001b[39m    10 Bland                      0.7\n",
      "\u001b[90m# ... with 119 more rows\u001b[39m\n",
      "[1] \"seifa\"\n",
      "Observations: 564\n",
      "Variables: 3\n",
      "$ X1    \u001b[3m\u001b[90m<dbl>\u001b[39m\u001b[23m 1, 2, 3, 4, 5, 6, 7, 8, 9, 10, 11, 12, 13, 14, 15, 16, 17, 18...\n",
      "$ LGA   \u001b[3m\u001b[90m<fct>\u001b[39m\u001b[23m Albury, Armidale Dumaresq, Ashfield, Auburn, Ballina, Balrana...\n",
      "$ Value \u001b[3m\u001b[90m<int>\u001b[39m\u001b[23m 964, 954, 962, 931, 986, 969, 961, 994, 974, 957, 965, 995, 9...\n",
      "\u001b[90m# A tibble: 564 x 3\u001b[39m\n",
      "      X1 LGA               Value\n",
      "   \u001b[3m\u001b[90m<dbl>\u001b[39m\u001b[23m \u001b[3m\u001b[90m<fct>\u001b[39m\u001b[23m             \u001b[3m\u001b[90m<int>\u001b[39m\u001b[23m\n",
      "\u001b[90m 1\u001b[39m     1 Albury              964\n",
      "\u001b[90m 2\u001b[39m     2 Armidale Dumaresq   954\n",
      "\u001b[90m 3\u001b[39m     3 Ashfield            962\n",
      "\u001b[90m 4\u001b[39m     4 Auburn              931\n",
      "\u001b[90m 5\u001b[39m     5 Ballina             986\n",
      "\u001b[90m 6\u001b[39m     6 Balranald           969\n",
      "\u001b[90m 7\u001b[39m     7 Bankstown           961\n",
      "\u001b[90m 8\u001b[39m     8 Bathurst Regional   994\n",
      "\u001b[90m 9\u001b[39m     9 Bega Valley         974\n",
      "\u001b[90m10\u001b[39m    10 Bellingen           957\n",
      "\u001b[90m# ... with 554 more rows\u001b[39m\n",
      "[1] \"transport\"\n",
      "Observations: 366\n",
      "Variables: 3\n",
      "$ LGA         \u001b[3m\u001b[90m<fct>\u001b[39m\u001b[23m Albury, Albury, Albury, Armidale Regional, Armidale Reg...\n",
      "$ route_type  \u001b[3m\u001b[90m<fct>\u001b[39m\u001b[23m 106, 204, 700, 106, 204, 700, 204, 700, 204, 2, 106, 20...\n",
      "$ num_service \u001b[3m\u001b[90m<dbl>\u001b[39m\u001b[23m 131, 14, 1624, 62, 10, 113, 18, 1335, 4, 49, 68, 372, 2...\n",
      "\u001b[90m# A tibble: 366 x 3\u001b[39m\n",
      "   LGA               route_type num_service\n",
      "   \u001b[3m\u001b[90m<fct>\u001b[39m\u001b[23m             \u001b[3m\u001b[90m<fct>\u001b[39m\u001b[23m            \u001b[3m\u001b[90m<dbl>\u001b[39m\u001b[23m\n",
      "\u001b[90m 1\u001b[39m Albury            106                131\n",
      "\u001b[90m 2\u001b[39m Albury            204                 14\n",
      "\u001b[90m 3\u001b[39m Albury            700               \u001b[4m1\u001b[24m624\n",
      "\u001b[90m 4\u001b[39m Armidale Regional 106                 62\n",
      "\u001b[90m 5\u001b[39m Armidale Regional 204                 10\n",
      "\u001b[90m 6\u001b[39m Armidale Regional 700                113\n",
      "\u001b[90m 7\u001b[39m Ballina           204                 18\n",
      "\u001b[90m 8\u001b[39m Ballina           700               \u001b[4m1\u001b[24m335\n",
      "\u001b[90m 9\u001b[39m Balranald         204                  4\n",
      "\u001b[90m10\u001b[39m Bathurst Regional 2                   49\n",
      "\u001b[90m# ... with 356 more rows\u001b[39m\n"
     ]
    }
   ],
   "source": [
    "for(i in 1:length(input_data)){\n",
    "    print(names(input_data)[[i]])\n",
    "    print(glimpse(input_data[[i]]))\n",
    "}"
   ]
  },
  {
   "cell_type": "markdown",
   "metadata": {},
   "source": [
    "## `tolower`"
   ]
  },
  {
   "cell_type": "markdown",
   "metadata": {},
   "source": [
    "Make the `LGA` values all lower case in case of inconsistent capitalisation, e.g. \"Ku-ring-gai\" vs \"Ku-Ring-Gai\"."
   ]
  },
  {
   "cell_type": "code",
   "execution_count": 29,
   "metadata": {},
   "outputs": [],
   "source": [
    "for(i in 1:length(input_data)){\n",
    "    input_data[[i]]$LGA <- tolower(input_data[[i]]$LGA)\n",
    "}"
   ]
  },
  {
   "cell_type": "markdown",
   "metadata": {},
   "source": [
    "## Reducing Size"
   ]
  },
  {
   "cell_type": "markdown",
   "metadata": {},
   "source": [
    "The `country_of_birth` data set contains many zero values. The following step removes these rows."
   ]
  },
  {
   "cell_type": "markdown",
   "metadata": {},
   "source": [
    "### Remove Zero Values"
   ]
  },
  {
   "cell_type": "code",
   "execution_count": 30,
   "metadata": {},
   "outputs": [
    {
     "data": {
      "text/html": [
       "<table>\n",
       "<thead><tr><th scope=col>birthplace_of_person</th><th scope=col>census_year</th><th scope=col>lga_2016</th><th scope=col>LGA</th><th scope=col>value</th><th scope=col>yarrp_2016</th><th scope=col>year_of_arrival_in_australia</th></tr></thead>\n",
       "<tbody>\n",
       "\t<tr><td>New Zealand        </td><td>2016               </td><td>10050              </td><td>albury             </td><td>  7                </td><td>2                  </td><td>Arrived 1946 - 1955</td></tr>\n",
       "\t<tr><td>New Zealand        </td><td>2016               </td><td>10050              </td><td>albury             </td><td> 22                </td><td>3                  </td><td>Arrived 1956 - 1965</td></tr>\n",
       "\t<tr><td>New Zealand        </td><td>2016               </td><td>10050              </td><td>albury             </td><td> 63                </td><td>4                  </td><td>Arrived 1966 - 1975</td></tr>\n",
       "\t<tr><td>New Zealand        </td><td>2016               </td><td>10050              </td><td>albury             </td><td>113                </td><td>5                  </td><td>Arrived 1976 - 1985</td></tr>\n",
       "\t<tr><td>New Zealand        </td><td>2016               </td><td>10050              </td><td>albury             </td><td> 92                </td><td>6                  </td><td>Arrived 1986 - 1995</td></tr>\n",
       "\t<tr><td>New Zealand        </td><td>2016               </td><td>10050              </td><td>albury             </td><td> 87                </td><td>7                  </td><td>Arrived 1996 - 2005</td></tr>\n",
       "</tbody>\n",
       "</table>\n"
      ],
      "text/latex": [
       "\\begin{tabular}{r|lllllll}\n",
       " birthplace\\_of\\_person & census\\_year & lga\\_2016 & LGA & value & yarrp\\_2016 & year\\_of\\_arrival\\_in\\_australia\\\\\n",
       "\\hline\n",
       "\t New Zealand         & 2016                & 10050               & albury              &   7                 & 2                   & Arrived 1946 - 1955\\\\\n",
       "\t New Zealand         & 2016                & 10050               & albury              &  22                 & 3                   & Arrived 1956 - 1965\\\\\n",
       "\t New Zealand         & 2016                & 10050               & albury              &  63                 & 4                   & Arrived 1966 - 1975\\\\\n",
       "\t New Zealand         & 2016                & 10050               & albury              & 113                 & 5                   & Arrived 1976 - 1985\\\\\n",
       "\t New Zealand         & 2016                & 10050               & albury              &  92                 & 6                   & Arrived 1986 - 1995\\\\\n",
       "\t New Zealand         & 2016                & 10050               & albury              &  87                 & 7                   & Arrived 1996 - 2005\\\\\n",
       "\\end{tabular}\n"
      ],
      "text/markdown": [
       "\n",
       "| birthplace_of_person | census_year | lga_2016 | LGA | value | yarrp_2016 | year_of_arrival_in_australia |\n",
       "|---|---|---|---|---|---|---|\n",
       "| New Zealand         | 2016                | 10050               | albury              |   7                 | 2                   | Arrived 1946 - 1955 |\n",
       "| New Zealand         | 2016                | 10050               | albury              |  22                 | 3                   | Arrived 1956 - 1965 |\n",
       "| New Zealand         | 2016                | 10050               | albury              |  63                 | 4                   | Arrived 1966 - 1975 |\n",
       "| New Zealand         | 2016                | 10050               | albury              | 113                 | 5                   | Arrived 1976 - 1985 |\n",
       "| New Zealand         | 2016                | 10050               | albury              |  92                 | 6                   | Arrived 1986 - 1995 |\n",
       "| New Zealand         | 2016                | 10050               | albury              |  87                 | 7                   | Arrived 1996 - 2005 |\n",
       "\n"
      ],
      "text/plain": [
       "  birthplace_of_person census_year lga_2016 LGA    value yarrp_2016\n",
       "1 New Zealand          2016        10050    albury   7   2         \n",
       "2 New Zealand          2016        10050    albury  22   3         \n",
       "3 New Zealand          2016        10050    albury  63   4         \n",
       "4 New Zealand          2016        10050    albury 113   5         \n",
       "5 New Zealand          2016        10050    albury  92   6         \n",
       "6 New Zealand          2016        10050    albury  87   7         \n",
       "  year_of_arrival_in_australia\n",
       "1 Arrived 1946 - 1955         \n",
       "2 Arrived 1956 - 1965         \n",
       "3 Arrived 1966 - 1975         \n",
       "4 Arrived 1976 - 1985         \n",
       "5 Arrived 1986 - 1995         \n",
       "6 Arrived 1996 - 2005         "
      ]
     },
     "metadata": {},
     "output_type": "display_data"
    }
   ],
   "source": [
    "head(input_data$country_of_birth)"
   ]
  },
  {
   "cell_type": "code",
   "execution_count": 31,
   "metadata": {},
   "outputs": [
    {
     "data": {
      "text/html": [
       "<ol class=list-inline>\n",
       "\t<li>0</li>\n",
       "\t<li>7</li>\n",
       "</ol>\n"
      ],
      "text/latex": [
       "\\begin{enumerate*}\n",
       "\\item 0\n",
       "\\item 7\n",
       "\\end{enumerate*}\n"
      ],
      "text/markdown": [
       "1. 0\n",
       "2. 7\n",
       "\n",
       "\n"
      ],
      "text/plain": [
       "[1] 0 7"
      ]
     },
     "metadata": {},
     "output_type": "display_data"
    }
   ],
   "source": [
    "input_data$country_of_birth %>%\n",
    "    filter(value == 0) %>%\n",
    "    dim"
   ]
  },
  {
   "cell_type": "code",
   "execution_count": 32,
   "metadata": {},
   "outputs": [
    {
     "data": {
      "text/html": [
       "<table>\n",
       "<thead><tr><th scope=col>birthplace_of_person</th><th scope=col>census_year</th><th scope=col>lga_2016</th><th scope=col>LGA</th><th scope=col>value</th><th scope=col>yarrp_2016</th><th scope=col>year_of_arrival_in_australia</th></tr></thead>\n",
       "<tbody>\n",
       "\t<tr><td>New Zealand        </td><td>2016               </td><td>10050              </td><td>albury             </td><td>  7                </td><td>2                  </td><td>Arrived 1946 - 1955</td></tr>\n",
       "\t<tr><td>New Zealand        </td><td>2016               </td><td>10050              </td><td>albury             </td><td> 22                </td><td>3                  </td><td>Arrived 1956 - 1965</td></tr>\n",
       "\t<tr><td>New Zealand        </td><td>2016               </td><td>10050              </td><td>albury             </td><td> 63                </td><td>4                  </td><td>Arrived 1966 - 1975</td></tr>\n",
       "\t<tr><td>New Zealand        </td><td>2016               </td><td>10050              </td><td>albury             </td><td>113                </td><td>5                  </td><td>Arrived 1976 - 1985</td></tr>\n",
       "\t<tr><td>New Zealand        </td><td>2016               </td><td>10050              </td><td>albury             </td><td> 92                </td><td>6                  </td><td>Arrived 1986 - 1995</td></tr>\n",
       "\t<tr><td>New Zealand        </td><td>2016               </td><td>10050              </td><td>albury             </td><td> 87                </td><td>7                  </td><td>Arrived 1996 - 2005</td></tr>\n",
       "</tbody>\n",
       "</table>\n"
      ],
      "text/latex": [
       "\\begin{tabular}{r|lllllll}\n",
       " birthplace\\_of\\_person & census\\_year & lga\\_2016 & LGA & value & yarrp\\_2016 & year\\_of\\_arrival\\_in\\_australia\\\\\n",
       "\\hline\n",
       "\t New Zealand         & 2016                & 10050               & albury              &   7                 & 2                   & Arrived 1946 - 1955\\\\\n",
       "\t New Zealand         & 2016                & 10050               & albury              &  22                 & 3                   & Arrived 1956 - 1965\\\\\n",
       "\t New Zealand         & 2016                & 10050               & albury              &  63                 & 4                   & Arrived 1966 - 1975\\\\\n",
       "\t New Zealand         & 2016                & 10050               & albury              & 113                 & 5                   & Arrived 1976 - 1985\\\\\n",
       "\t New Zealand         & 2016                & 10050               & albury              &  92                 & 6                   & Arrived 1986 - 1995\\\\\n",
       "\t New Zealand         & 2016                & 10050               & albury              &  87                 & 7                   & Arrived 1996 - 2005\\\\\n",
       "\\end{tabular}\n"
      ],
      "text/markdown": [
       "\n",
       "| birthplace_of_person | census_year | lga_2016 | LGA | value | yarrp_2016 | year_of_arrival_in_australia |\n",
       "|---|---|---|---|---|---|---|\n",
       "| New Zealand         | 2016                | 10050               | albury              |   7                 | 2                   | Arrived 1946 - 1955 |\n",
       "| New Zealand         | 2016                | 10050               | albury              |  22                 | 3                   | Arrived 1956 - 1965 |\n",
       "| New Zealand         | 2016                | 10050               | albury              |  63                 | 4                   | Arrived 1966 - 1975 |\n",
       "| New Zealand         | 2016                | 10050               | albury              | 113                 | 5                   | Arrived 1976 - 1985 |\n",
       "| New Zealand         | 2016                | 10050               | albury              |  92                 | 6                   | Arrived 1986 - 1995 |\n",
       "| New Zealand         | 2016                | 10050               | albury              |  87                 | 7                   | Arrived 1996 - 2005 |\n",
       "\n"
      ],
      "text/plain": [
       "  birthplace_of_person census_year lga_2016 LGA    value yarrp_2016\n",
       "1 New Zealand          2016        10050    albury   7   2         \n",
       "2 New Zealand          2016        10050    albury  22   3         \n",
       "3 New Zealand          2016        10050    albury  63   4         \n",
       "4 New Zealand          2016        10050    albury 113   5         \n",
       "5 New Zealand          2016        10050    albury  92   6         \n",
       "6 New Zealand          2016        10050    albury  87   7         \n",
       "  year_of_arrival_in_australia\n",
       "1 Arrived 1946 - 1955         \n",
       "2 Arrived 1956 - 1965         \n",
       "3 Arrived 1966 - 1975         \n",
       "4 Arrived 1976 - 1985         \n",
       "5 Arrived 1986 - 1995         \n",
       "6 Arrived 1996 - 2005         "
      ]
     },
     "metadata": {},
     "output_type": "display_data"
    },
    {
     "name": "stdout",
     "output_type": "stream",
     "text": [
      "Observations: 108,163\n",
      "Variables: 7\n",
      "$ birthplace_of_person         \u001b[3m\u001b[90m<fct>\u001b[39m\u001b[23m New Zealand, New Zealand, New Zealand,...\n",
      "$ census_year                  \u001b[3m\u001b[90m<dbl>\u001b[39m\u001b[23m 2016, 2016, 2016, 2016, 2016, 2016, 20...\n",
      "$ lga_2016                     \u001b[3m\u001b[90m<dbl>\u001b[39m\u001b[23m 10050, 10050, 10050, 10050, 10050, 100...\n",
      "$ LGA                          \u001b[3m\u001b[90m<chr>\u001b[39m\u001b[23m \"albury\", \"albury\", \"albury\", \"albury\"...\n",
      "$ value                        \u001b[3m\u001b[90m<dbl>\u001b[39m\u001b[23m 7, 22, 63, 113, 92, 87, 6, 24, 7, 12, ...\n",
      "$ yarrp_2016                   \u001b[3m\u001b[90m<chr>\u001b[39m\u001b[23m \"2\", \"3\", \"4\", \"5\", \"6\", \"7\", \"9\", \"Z\"...\n",
      "$ year_of_arrival_in_australia \u001b[3m\u001b[90m<fct>\u001b[39m\u001b[23m Arrived 1946 - 1955, Arrived 1956 - 19...\n"
     ]
    }
   ],
   "source": [
    "input_data$country_of_birth %<>%\n",
    "    filter(value != 0)\n",
    "\n",
    "head(input_data$country_of_birth)\n",
    "glimpse(input_data$country_of_birth)"
   ]
  },
  {
   "cell_type": "markdown",
   "metadata": {},
   "source": [
    "# Joining the Data Sets Together"
   ]
  },
  {
   "cell_type": "markdown",
   "metadata": {},
   "source": [
    "## Find the Data Set With The Most Complete List of LGAs"
   ]
  },
  {
   "cell_type": "code",
   "execution_count": 33,
   "metadata": {},
   "outputs": [
    {
     "data": {
      "text/html": [
       "<dl>\n",
       "\t<dt>$age</dt>\n",
       "\t\t<dd>132</dd>\n",
       "\t<dt>$country_of_birth</dt>\n",
       "\t\t<dd>132</dd>\n",
       "\t<dt>$crime</dt>\n",
       "\t\t<dd>130</dd>\n",
       "\t<dt>$industry_employment</dt>\n",
       "\t\t<dd>132</dd>\n",
       "\t<dt>$labour</dt>\n",
       "\t\t<dd>132</dd>\n",
       "\t<dt>$pop_dens</dt>\n",
       "\t\t<dd>129</dd>\n",
       "\t<dt>$seifa</dt>\n",
       "\t\t<dd>556</dd>\n",
       "\t<dt>$transport</dt>\n",
       "\t\t<dd>128</dd>\n",
       "</dl>\n"
      ],
      "text/latex": [
       "\\begin{description}\n",
       "\\item[\\$age] 132\n",
       "\\item[\\$country\\_of\\_birth] 132\n",
       "\\item[\\$crime] 130\n",
       "\\item[\\$industry\\_employment] 132\n",
       "\\item[\\$labour] 132\n",
       "\\item[\\$pop\\_dens] 129\n",
       "\\item[\\$seifa] 556\n",
       "\\item[\\$transport] 128\n",
       "\\end{description}\n"
      ],
      "text/markdown": [
       "$age\n",
       ":   132\n",
       "$country_of_birth\n",
       ":   132\n",
       "$crime\n",
       ":   130\n",
       "$industry_employment\n",
       ":   132\n",
       "$labour\n",
       ":   132\n",
       "$pop_dens\n",
       ":   129\n",
       "$seifa\n",
       ":   556\n",
       "$transport\n",
       ":   128\n",
       "\n",
       "\n"
      ],
      "text/plain": [
       "$age\n",
       "[1] 132\n",
       "\n",
       "$country_of_birth\n",
       "[1] 132\n",
       "\n",
       "$crime\n",
       "[1] 130\n",
       "\n",
       "$industry_employment\n",
       "[1] 132\n",
       "\n",
       "$labour\n",
       "[1] 132\n",
       "\n",
       "$pop_dens\n",
       "[1] 129\n",
       "\n",
       "$seifa\n",
       "[1] 556\n",
       "\n",
       "$transport\n",
       "[1] 128\n"
      ]
     },
     "metadata": {},
     "output_type": "display_data"
    }
   ],
   "source": [
    "input_data %>% map(function(tbl) tbl['LGA'] %>% unique %>% dim %>% extract(1))"
   ]
  },
  {
   "cell_type": "markdown",
   "metadata": {},
   "source": [
    "Seems like `seifa` has the most number of LGAs, but we know that there are only about 130 LGAs in NSW. So maybe the LGAs in the `seifa` data includes non-NSW LGAs too. A glance of the tail of the `seifa` data shows that there are indeed non-NSW areas, e.g. `Unincorporated ACT`.\n",
    "\n",
    "We will not use the `seifa` data as the starting point, instead `country_of_birth` will be used for `left_join`ing the other data sets, i.e. LGAs that are not in the `country_of_birth` data set will not be joined."
   ]
  },
  {
   "cell_type": "code",
   "execution_count": 34,
   "metadata": {},
   "outputs": [
    {
     "data": {
      "text/html": [
       "<table>\n",
       "<thead><tr><th scope=col>X1</th><th scope=col>LGA</th><th scope=col>Value</th></tr></thead>\n",
       "<tbody>\n",
       "\t<tr><td>559               </td><td>tiwi islands      </td><td> 589              </td></tr>\n",
       "\t<tr><td>560               </td><td>victoria-daly     </td><td> 613              </td></tr>\n",
       "\t<tr><td>561               </td><td>wagait            </td><td>1011              </td></tr>\n",
       "\t<tr><td>562               </td><td>west arnhem       </td><td> 640              </td></tr>\n",
       "\t<tr><td>563               </td><td>unincorporated nt </td><td> 966              </td></tr>\n",
       "\t<tr><td>564               </td><td>unincorporated act</td><td>1051              </td></tr>\n",
       "</tbody>\n",
       "</table>\n"
      ],
      "text/latex": [
       "\\begin{tabular}{r|lll}\n",
       " X1 & LGA & Value\\\\\n",
       "\\hline\n",
       "\t 559                & tiwi islands       &  589              \\\\\n",
       "\t 560                & victoria-daly      &  613              \\\\\n",
       "\t 561                & wagait             & 1011              \\\\\n",
       "\t 562                & west arnhem        &  640              \\\\\n",
       "\t 563                & unincorporated nt  &  966              \\\\\n",
       "\t 564                & unincorporated act & 1051              \\\\\n",
       "\\end{tabular}\n"
      ],
      "text/markdown": [
       "\n",
       "| X1 | LGA | Value |\n",
       "|---|---|---|\n",
       "| 559                | tiwi islands       |  589               |\n",
       "| 560                | victoria-daly      |  613               |\n",
       "| 561                | wagait             | 1011               |\n",
       "| 562                | west arnhem        |  640               |\n",
       "| 563                | unincorporated nt  |  966               |\n",
       "| 564                | unincorporated act | 1051               |\n",
       "\n"
      ],
      "text/plain": [
       "  X1  LGA                Value\n",
       "1 559 tiwi islands        589 \n",
       "2 560 victoria-daly       613 \n",
       "3 561 wagait             1011 \n",
       "4 562 west arnhem         640 \n",
       "5 563 unincorporated nt   966 \n",
       "6 564 unincorporated act 1051 "
      ]
     },
     "metadata": {},
     "output_type": "display_data"
    }
   ],
   "source": [
    "input_data$seifa %>% \n",
    "    tail"
   ]
  },
  {
   "cell_type": "markdown",
   "metadata": {},
   "source": [
    "# Add Population Per LGA"
   ]
  },
  {
   "cell_type": "markdown",
   "metadata": {},
   "source": [
    "This population table is to be used to calculate the crime rate, i.e. crime count divided by the number of males and females for that LGA."
   ]
  },
  {
   "cell_type": "code",
   "execution_count": 35,
   "metadata": {},
   "outputs": [
    {
     "data": {
      "text/html": [
       "<table>\n",
       "<thead><tr><th scope=col>Sex</th><th scope=col>Age</th><th scope=col>LGA</th><th scope=col>Value</th><th scope=col>pop_total</th></tr></thead>\n",
       "<tbody>\n",
       "\t<tr><td>Females                     </td><td>95 - 99                     </td><td>lismore                     </td><td> 65                         </td><td>43140                       </td></tr>\n",
       "\t<tr><td>Females                     </td><td>95 - 99                     </td><td>queanbeyan-palerang regional</td><td> 33                         </td><td>56023                       </td></tr>\n",
       "\t<tr><td>Females                     </td><td>95 - 99                     </td><td>mid-coast                   </td><td>173                         </td><td>90301                       </td></tr>\n",
       "\t<tr><td>Females                     </td><td>95 - 99                     </td><td>glen innes severn           </td><td> 16                         </td><td> 8828                       </td></tr>\n",
       "\t<tr><td>Females                     </td><td>95 - 99                     </td><td>lockhart                    </td><td> 11                         </td><td> 3135                       </td></tr>\n",
       "\t<tr><td>Females                     </td><td>95 - 99                     </td><td>lane cove                   </td><td> 49                         </td><td>36053                       </td></tr>\n",
       "</tbody>\n",
       "</table>\n"
      ],
      "text/latex": [
       "\\begin{tabular}{r|lllll}\n",
       " Sex & Age & LGA & Value & pop\\_total\\\\\n",
       "\\hline\n",
       "\t Females                      & 95 - 99                      & lismore                      &  65                          & 43140                       \\\\\n",
       "\t Females                      & 95 - 99                      & queanbeyan-palerang regional &  33                          & 56023                       \\\\\n",
       "\t Females                      & 95 - 99                      & mid-coast                    & 173                          & 90301                       \\\\\n",
       "\t Females                      & 95 - 99                      & glen innes severn            &  16                          &  8828                       \\\\\n",
       "\t Females                      & 95 - 99                      & lockhart                     &  11                          &  3135                       \\\\\n",
       "\t Females                      & 95 - 99                      & lane cove                    &  49                          & 36053                       \\\\\n",
       "\\end{tabular}\n"
      ],
      "text/markdown": [
       "\n",
       "| Sex | Age | LGA | Value | pop_total |\n",
       "|---|---|---|---|---|\n",
       "| Females                      | 95 - 99                      | lismore                      |  65                          | 43140                        |\n",
       "| Females                      | 95 - 99                      | queanbeyan-palerang regional |  33                          | 56023                        |\n",
       "| Females                      | 95 - 99                      | mid-coast                    | 173                          | 90301                        |\n",
       "| Females                      | 95 - 99                      | glen innes severn            |  16                          |  8828                        |\n",
       "| Females                      | 95 - 99                      | lockhart                     |  11                          |  3135                        |\n",
       "| Females                      | 95 - 99                      | lane cove                    |  49                          | 36053                        |\n",
       "\n"
      ],
      "text/plain": [
       "  Sex     Age     LGA                          Value pop_total\n",
       "1 Females 95 - 99 lismore                       65   43140    \n",
       "2 Females 95 - 99 queanbeyan-palerang regional  33   56023    \n",
       "3 Females 95 - 99 mid-coast                    173   90301    \n",
       "4 Females 95 - 99 glen innes severn             16    8828    \n",
       "5 Females 95 - 99 lockhart                      11    3135    \n",
       "6 Females 95 - 99 lane cove                     49   36053    "
      ]
     },
     "metadata": {},
     "output_type": "display_data"
    },
    {
     "name": "stdout",
     "output_type": "stream",
     "text": [
      "Observations: 5,808\n",
      "Variables: 5\n",
      "Groups: LGA [132]\n",
      "$ Sex       \u001b[3m\u001b[90m<fct>\u001b[39m\u001b[23m Females, Females, Females, Females, Females, Females, Fem...\n",
      "$ Age       \u001b[3m\u001b[90m<fct>\u001b[39m\u001b[23m 95 - 99, 95 - 99, 95 - 99, 95 - 99, 95 - 99, 95 - 99, 95 ...\n",
      "$ LGA       \u001b[3m\u001b[90m<chr>\u001b[39m\u001b[23m \"lismore\", \"queanbeyan-palerang regional\", \"mid-coast\", \"...\n",
      "$ Value     \u001b[3m\u001b[90m<int>\u001b[39m\u001b[23m 65, 33, 173, 16, 11, 49, 26, 451, 24, 0, 4, 39, 72, 29, 9...\n",
      "$ pop_total \u001b[3m\u001b[90m<int>\u001b[39m\u001b[23m 43140, 56023, 90301, 8828, 3135, 36053, 19195, 252898, 16...\n"
     ]
    }
   ],
   "source": [
    "head(input_data$age)\n",
    "glimpse(input_data$age)"
   ]
  },
  {
   "cell_type": "code",
   "execution_count": 36,
   "metadata": {},
   "outputs": [
    {
     "data": {
      "text/html": [
       "<table>\n",
       "<thead><tr><th scope=col>Sex</th><th scope=col>Age</th><th scope=col>LGA</th><th scope=col>Value</th><th scope=col>pop_total</th></tr></thead>\n",
       "<tbody>\n",
       "\t<tr><td>Females                     </td><td>95 - 99                     </td><td>lismore                     </td><td> 65                         </td><td>43140                       </td></tr>\n",
       "\t<tr><td>Females                     </td><td>95 - 99                     </td><td>queanbeyan-palerang regional</td><td> 33                         </td><td>56023                       </td></tr>\n",
       "\t<tr><td>Females                     </td><td>95 - 99                     </td><td>mid-coast                   </td><td>173                         </td><td>90301                       </td></tr>\n",
       "\t<tr><td>Females                     </td><td>95 - 99                     </td><td>glen innes severn           </td><td> 16                         </td><td> 8828                       </td></tr>\n",
       "\t<tr><td>Females                     </td><td>95 - 99                     </td><td>lockhart                    </td><td> 11                         </td><td> 3135                       </td></tr>\n",
       "\t<tr><td>Females                     </td><td>95 - 99                     </td><td>lane cove                   </td><td> 49                         </td><td>36053                       </td></tr>\n",
       "</tbody>\n",
       "</table>\n"
      ],
      "text/latex": [
       "\\begin{tabular}{r|lllll}\n",
       " Sex & Age & LGA & Value & pop\\_total\\\\\n",
       "\\hline\n",
       "\t Females                      & 95 - 99                      & lismore                      &  65                          & 43140                       \\\\\n",
       "\t Females                      & 95 - 99                      & queanbeyan-palerang regional &  33                          & 56023                       \\\\\n",
       "\t Females                      & 95 - 99                      & mid-coast                    & 173                          & 90301                       \\\\\n",
       "\t Females                      & 95 - 99                      & glen innes severn            &  16                          &  8828                       \\\\\n",
       "\t Females                      & 95 - 99                      & lockhart                     &  11                          &  3135                       \\\\\n",
       "\t Females                      & 95 - 99                      & lane cove                    &  49                          & 36053                       \\\\\n",
       "\\end{tabular}\n"
      ],
      "text/markdown": [
       "\n",
       "| Sex | Age | LGA | Value | pop_total |\n",
       "|---|---|---|---|---|\n",
       "| Females                      | 95 - 99                      | lismore                      |  65                          | 43140                        |\n",
       "| Females                      | 95 - 99                      | queanbeyan-palerang regional |  33                          | 56023                        |\n",
       "| Females                      | 95 - 99                      | mid-coast                    | 173                          | 90301                        |\n",
       "| Females                      | 95 - 99                      | glen innes severn            |  16                          |  8828                        |\n",
       "| Females                      | 95 - 99                      | lockhart                     |  11                          |  3135                        |\n",
       "| Females                      | 95 - 99                      | lane cove                    |  49                          | 36053                        |\n",
       "\n"
      ],
      "text/plain": [
       "  Sex     Age     LGA                          Value pop_total\n",
       "1 Females 95 - 99 lismore                       65   43140    \n",
       "2 Females 95 - 99 queanbeyan-palerang regional  33   56023    \n",
       "3 Females 95 - 99 mid-coast                    173   90301    \n",
       "4 Females 95 - 99 glen innes severn             16    8828    \n",
       "5 Females 95 - 99 lockhart                      11    3135    \n",
       "6 Females 95 - 99 lane cove                     49   36053    "
      ]
     },
     "metadata": {},
     "output_type": "display_data"
    },
    {
     "name": "stdout",
     "output_type": "stream",
     "text": [
      "Observations: 5,808\n",
      "Variables: 5\n",
      "Groups: LGA [132]\n",
      "$ Sex       \u001b[3m\u001b[90m<fct>\u001b[39m\u001b[23m Females, Females, Females, Females, Females, Females, Fem...\n",
      "$ Age       \u001b[3m\u001b[90m<fct>\u001b[39m\u001b[23m 95 - 99, 95 - 99, 95 - 99, 95 - 99, 95 - 99, 95 - 99, 95 ...\n",
      "$ LGA       \u001b[3m\u001b[90m<chr>\u001b[39m\u001b[23m \"lismore\", \"queanbeyan-palerang regional\", \"mid-coast\", \"...\n",
      "$ Value     \u001b[3m\u001b[90m<int>\u001b[39m\u001b[23m 65, 33, 173, 16, 11, 49, 26, 451, 24, 0, 4, 39, 72, 29, 9...\n",
      "$ pop_total \u001b[3m\u001b[90m<int>\u001b[39m\u001b[23m 43140, 56023, 90301, 8828, 3135, 36053, 19195, 252898, 16...\n"
     ]
    }
   ],
   "source": [
    "input_data$age %<>%\n",
    "    group_by(LGA) %>%\n",
    "    mutate(pop_total = sum(Value))\n",
    "\n",
    "head(input_data$age)\n",
    "glimpse(input_data$age)"
   ]
  },
  {
   "cell_type": "code",
   "execution_count": 37,
   "metadata": {},
   "outputs": [
    {
     "data": {
      "text/html": [
       "<table>\n",
       "<thead><tr><th scope=col>LGA</th><th scope=col>pop_total</th></tr></thead>\n",
       "<tbody>\n",
       "\t<tr><td>albury           </td><td>51081            </td></tr>\n",
       "\t<tr><td>armidale regional</td><td>29429            </td></tr>\n",
       "\t<tr><td>ballina          </td><td>41774            </td></tr>\n",
       "\t<tr><td>balranald        </td><td> 2292            </td></tr>\n",
       "\t<tr><td>bathurst regional</td><td>41297            </td></tr>\n",
       "\t<tr><td>bega valley      </td><td>33229            </td></tr>\n",
       "</tbody>\n",
       "</table>\n"
      ],
      "text/latex": [
       "\\begin{tabular}{r|ll}\n",
       " LGA & pop\\_total\\\\\n",
       "\\hline\n",
       "\t albury            & 51081            \\\\\n",
       "\t armidale regional & 29429            \\\\\n",
       "\t ballina           & 41774            \\\\\n",
       "\t balranald         &  2292            \\\\\n",
       "\t bathurst regional & 41297            \\\\\n",
       "\t bega valley       & 33229            \\\\\n",
       "\\end{tabular}\n"
      ],
      "text/markdown": [
       "\n",
       "| LGA | pop_total |\n",
       "|---|---|\n",
       "| albury            | 51081             |\n",
       "| armidale regional | 29429             |\n",
       "| ballina           | 41774             |\n",
       "| balranald         |  2292             |\n",
       "| bathurst regional | 41297             |\n",
       "| bega valley       | 33229             |\n",
       "\n"
      ],
      "text/plain": [
       "  LGA               pop_total\n",
       "1 albury            51081    \n",
       "2 armidale regional 29429    \n",
       "3 ballina           41774    \n",
       "4 balranald          2292    \n",
       "5 bathurst regional 41297    \n",
       "6 bega valley       33229    "
      ]
     },
     "metadata": {},
     "output_type": "display_data"
    },
    {
     "name": "stdout",
     "output_type": "stream",
     "text": [
      "Observations: 132\n",
      "Variables: 2\n",
      "$ LGA       \u001b[3m\u001b[90m<chr>\u001b[39m\u001b[23m \"albury\", \"armidale regional\", \"ballina\", \"balranald\", \"b...\n",
      "$ pop_total \u001b[3m\u001b[90m<int>\u001b[39m\u001b[23m 51081, 29429, 41774, 2292, 41297, 33229, 12656, 8456, 336...\n"
     ]
    }
   ],
   "source": [
    "pop_agg <- input_data$age %>%\n",
    "    group_by(LGA) %>%\n",
    "    summarise(pop_total = sum(Value))\n",
    "\n",
    "head(pop_agg)\n",
    "glimpse(pop_agg)"
   ]
  },
  {
   "cell_type": "markdown",
   "metadata": {},
   "source": [
    "# Joining `crime` and `age`"
   ]
  },
  {
   "cell_type": "code",
   "execution_count": 43,
   "metadata": {},
   "outputs": [
    {
     "data": {
      "text/html": [
       "<table>\n",
       "<thead><tr><th scope=col>LGA</th><th scope=col>Offence</th><th scope=col>Crim_Count</th><th scope=col>crime_tot_per_lga</th><th scope=col>pop_total</th><th scope=col>crime_rate_per_lga</th></tr></thead>\n",
       "<tbody>\n",
       "\t<tr><td>albury                               </td><td>Murder *                             </td><td>  2                                  </td><td>6233                                 </td><td>51081                                </td><td>0.1220219                            </td></tr>\n",
       "\t<tr><td>albury                               </td><td>Attempted murder                     </td><td>  1                                  </td><td>6233                                 </td><td>51081                                </td><td>0.1220219                            </td></tr>\n",
       "\t<tr><td>albury                               </td><td>Murder accessory, conspiracy         </td><td>  0                                  </td><td>6233                                 </td><td>51081                                </td><td>0.1220219                            </td></tr>\n",
       "\t<tr><td>albury                               </td><td>Manslaughter *                       </td><td>  0                                  </td><td>6233                                 </td><td>51081                                </td><td>0.1220219                            </td></tr>\n",
       "\t<tr><td>albury                               </td><td>Domestic violence related assault    </td><td>284                                  </td><td>6233                                 </td><td>51081                                </td><td>0.1220219                            </td></tr>\n",
       "\t<tr><td>albury                               </td><td>Non-domestic violence related assault</td><td>296                                  </td><td>6233                                 </td><td>51081                                </td><td>0.1220219                            </td></tr>\n",
       "</tbody>\n",
       "</table>\n"
      ],
      "text/latex": [
       "\\begin{tabular}{r|llllll}\n",
       " LGA & Offence & Crim\\_Count & crime\\_tot\\_per\\_lga & pop\\_total & crime\\_rate\\_per\\_lga\\\\\n",
       "\\hline\n",
       "\t albury                                & Murder *                              &   2                                   & 6233                                  & 51081                                 & 0.1220219                            \\\\\n",
       "\t albury                                & Attempted murder                      &   1                                   & 6233                                  & 51081                                 & 0.1220219                            \\\\\n",
       "\t albury                                & Murder accessory, conspiracy          &   0                                   & 6233                                  & 51081                                 & 0.1220219                            \\\\\n",
       "\t albury                                & Manslaughter *                        &   0                                   & 6233                                  & 51081                                 & 0.1220219                            \\\\\n",
       "\t albury                                & Domestic violence related assault     & 284                                   & 6233                                  & 51081                                 & 0.1220219                            \\\\\n",
       "\t albury                                & Non-domestic violence related assault & 296                                   & 6233                                  & 51081                                 & 0.1220219                            \\\\\n",
       "\\end{tabular}\n"
      ],
      "text/markdown": [
       "\n",
       "| LGA | Offence | Crim_Count | crime_tot_per_lga | pop_total | crime_rate_per_lga |\n",
       "|---|---|---|---|---|---|\n",
       "| albury                                | Murder *                              |   2                                   | 6233                                  | 51081                                 | 0.1220219                             |\n",
       "| albury                                | Attempted murder                      |   1                                   | 6233                                  | 51081                                 | 0.1220219                             |\n",
       "| albury                                | Murder accessory, conspiracy          |   0                                   | 6233                                  | 51081                                 | 0.1220219                             |\n",
       "| albury                                | Manslaughter *                        |   0                                   | 6233                                  | 51081                                 | 0.1220219                             |\n",
       "| albury                                | Domestic violence related assault     | 284                                   | 6233                                  | 51081                                 | 0.1220219                             |\n",
       "| albury                                | Non-domestic violence related assault | 296                                   | 6233                                  | 51081                                 | 0.1220219                             |\n",
       "\n"
      ],
      "text/plain": [
       "  LGA    Offence                               Crim_Count crime_tot_per_lga\n",
       "1 albury Murder *                                2        6233             \n",
       "2 albury Attempted murder                        1        6233             \n",
       "3 albury Murder accessory, conspiracy            0        6233             \n",
       "4 albury Manslaughter *                          0        6233             \n",
       "5 albury Domestic violence related assault     284        6233             \n",
       "6 albury Non-domestic violence related assault 296        6233             \n",
       "  pop_total crime_rate_per_lga\n",
       "1 51081     0.1220219         \n",
       "2 51081     0.1220219         \n",
       "3 51081     0.1220219         \n",
       "4 51081     0.1220219         \n",
       "5 51081     0.1220219         \n",
       "6 51081     0.1220219         "
      ]
     },
     "metadata": {},
     "output_type": "display_data"
    },
    {
     "data": {
      "text/html": [
       "<table>\n",
       "<thead><tr><th scope=col>Sex</th><th scope=col>Age</th><th scope=col>LGA</th><th scope=col>Value</th><th scope=col>pop_total</th></tr></thead>\n",
       "<tbody>\n",
       "\t<tr><td>Females                     </td><td>95 - 99                     </td><td>lismore                     </td><td> 65                         </td><td>43140                       </td></tr>\n",
       "\t<tr><td>Females                     </td><td>95 - 99                     </td><td>queanbeyan-palerang regional</td><td> 33                         </td><td>56023                       </td></tr>\n",
       "\t<tr><td>Females                     </td><td>95 - 99                     </td><td>mid-coast                   </td><td>173                         </td><td>90301                       </td></tr>\n",
       "\t<tr><td>Females                     </td><td>95 - 99                     </td><td>glen innes severn           </td><td> 16                         </td><td> 8828                       </td></tr>\n",
       "\t<tr><td>Females                     </td><td>95 - 99                     </td><td>lockhart                    </td><td> 11                         </td><td> 3135                       </td></tr>\n",
       "\t<tr><td>Females                     </td><td>95 - 99                     </td><td>lane cove                   </td><td> 49                         </td><td>36053                       </td></tr>\n",
       "</tbody>\n",
       "</table>\n"
      ],
      "text/latex": [
       "\\begin{tabular}{r|lllll}\n",
       " Sex & Age & LGA & Value & pop\\_total\\\\\n",
       "\\hline\n",
       "\t Females                      & 95 - 99                      & lismore                      &  65                          & 43140                       \\\\\n",
       "\t Females                      & 95 - 99                      & queanbeyan-palerang regional &  33                          & 56023                       \\\\\n",
       "\t Females                      & 95 - 99                      & mid-coast                    & 173                          & 90301                       \\\\\n",
       "\t Females                      & 95 - 99                      & glen innes severn            &  16                          &  8828                       \\\\\n",
       "\t Females                      & 95 - 99                      & lockhart                     &  11                          &  3135                       \\\\\n",
       "\t Females                      & 95 - 99                      & lane cove                    &  49                          & 36053                       \\\\\n",
       "\\end{tabular}\n"
      ],
      "text/markdown": [
       "\n",
       "| Sex | Age | LGA | Value | pop_total |\n",
       "|---|---|---|---|---|\n",
       "| Females                      | 95 - 99                      | lismore                      |  65                          | 43140                        |\n",
       "| Females                      | 95 - 99                      | queanbeyan-palerang regional |  33                          | 56023                        |\n",
       "| Females                      | 95 - 99                      | mid-coast                    | 173                          | 90301                        |\n",
       "| Females                      | 95 - 99                      | glen innes severn            |  16                          |  8828                        |\n",
       "| Females                      | 95 - 99                      | lockhart                     |  11                          |  3135                        |\n",
       "| Females                      | 95 - 99                      | lane cove                    |  49                          | 36053                        |\n",
       "\n"
      ],
      "text/plain": [
       "  Sex     Age     LGA                          Value pop_total\n",
       "1 Females 95 - 99 lismore                       65   43140    \n",
       "2 Females 95 - 99 queanbeyan-palerang regional  33   56023    \n",
       "3 Females 95 - 99 mid-coast                    173   90301    \n",
       "4 Females 95 - 99 glen innes severn             16    8828    \n",
       "5 Females 95 - 99 lockhart                      11    3135    \n",
       "6 Females 95 - 99 lane cove                     49   36053    "
      ]
     },
     "metadata": {},
     "output_type": "display_data"
    }
   ],
   "source": [
    "head(input_data$crime)\n",
    "head(input_data$age)"
   ]
  },
  {
   "cell_type": "code",
   "execution_count": 47,
   "metadata": {},
   "outputs": [
    {
     "data": {
      "text/html": [
       "<table>\n",
       "<thead><tr><th scope=col>LGA</th><th scope=col>Offence</th><th scope=col>Crim_Count</th><th scope=col>crime_tot_per_lga</th><th scope=col>crime_rate_per_lga</th><th scope=col>Sex</th><th scope=col>Age</th><th scope=col>pop_sex_age</th><th scope=col>pop_total</th></tr></thead>\n",
       "<tbody>\n",
       "\t<tr><td>albury   </td><td>Murder * </td><td>2        </td><td>6233     </td><td>0.1220219</td><td>Females  </td><td>95 - 99  </td><td> 78      </td><td>51081    </td></tr>\n",
       "\t<tr><td>albury   </td><td>Murder * </td><td>2        </td><td>6233     </td><td>0.1220219</td><td>Males    </td><td>95 - 99  </td><td> 21      </td><td>51081    </td></tr>\n",
       "\t<tr><td>albury   </td><td>Murder * </td><td>2        </td><td>6233     </td><td>0.1220219</td><td>Females  </td><td>90 - 94  </td><td>271      </td><td>51081    </td></tr>\n",
       "\t<tr><td>albury   </td><td>Murder * </td><td>2        </td><td>6233     </td><td>0.1220219</td><td>Males    </td><td>90 - 94  </td><td>117      </td><td>51081    </td></tr>\n",
       "\t<tr><td>albury   </td><td>Murder * </td><td>2        </td><td>6233     </td><td>0.1220219</td><td>Females  </td><td>85 - 89  </td><td>484      </td><td>51081    </td></tr>\n",
       "\t<tr><td>albury   </td><td>Murder * </td><td>2        </td><td>6233     </td><td>0.1220219</td><td>Males    </td><td>85 - 89  </td><td>351      </td><td>51081    </td></tr>\n",
       "</tbody>\n",
       "</table>\n"
      ],
      "text/latex": [
       "\\begin{tabular}{r|lllllllll}\n",
       " LGA & Offence & Crim\\_Count & crime\\_tot\\_per\\_lga & crime\\_rate\\_per\\_lga & Sex & Age & pop\\_sex\\_age & pop\\_total\\\\\n",
       "\\hline\n",
       "\t albury    & Murder *  & 2         & 6233      & 0.1220219 & Females   & 95 - 99   &  78       & 51081    \\\\\n",
       "\t albury    & Murder *  & 2         & 6233      & 0.1220219 & Males     & 95 - 99   &  21       & 51081    \\\\\n",
       "\t albury    & Murder *  & 2         & 6233      & 0.1220219 & Females   & 90 - 94   & 271       & 51081    \\\\\n",
       "\t albury    & Murder *  & 2         & 6233      & 0.1220219 & Males     & 90 - 94   & 117       & 51081    \\\\\n",
       "\t albury    & Murder *  & 2         & 6233      & 0.1220219 & Females   & 85 - 89   & 484       & 51081    \\\\\n",
       "\t albury    & Murder *  & 2         & 6233      & 0.1220219 & Males     & 85 - 89   & 351       & 51081    \\\\\n",
       "\\end{tabular}\n"
      ],
      "text/markdown": [
       "\n",
       "| LGA | Offence | Crim_Count | crime_tot_per_lga | crime_rate_per_lga | Sex | Age | pop_sex_age | pop_total |\n",
       "|---|---|---|---|---|---|---|---|---|\n",
       "| albury    | Murder *  | 2         | 6233      | 0.1220219 | Females   | 95 - 99   |  78       | 51081     |\n",
       "| albury    | Murder *  | 2         | 6233      | 0.1220219 | Males     | 95 - 99   |  21       | 51081     |\n",
       "| albury    | Murder *  | 2         | 6233      | 0.1220219 | Females   | 90 - 94   | 271       | 51081     |\n",
       "| albury    | Murder *  | 2         | 6233      | 0.1220219 | Males     | 90 - 94   | 117       | 51081     |\n",
       "| albury    | Murder *  | 2         | 6233      | 0.1220219 | Females   | 85 - 89   | 484       | 51081     |\n",
       "| albury    | Murder *  | 2         | 6233      | 0.1220219 | Males     | 85 - 89   | 351       | 51081     |\n",
       "\n"
      ],
      "text/plain": [
       "  LGA    Offence  Crim_Count crime_tot_per_lga crime_rate_per_lga Sex    \n",
       "1 albury Murder * 2          6233              0.1220219          Females\n",
       "2 albury Murder * 2          6233              0.1220219          Males  \n",
       "3 albury Murder * 2          6233              0.1220219          Females\n",
       "4 albury Murder * 2          6233              0.1220219          Males  \n",
       "5 albury Murder * 2          6233              0.1220219          Females\n",
       "6 albury Murder * 2          6233              0.1220219          Males  \n",
       "  Age     pop_sex_age pop_total\n",
       "1 95 - 99  78         51081    \n",
       "2 95 - 99  21         51081    \n",
       "3 90 - 94 271         51081    \n",
       "4 90 - 94 117         51081    \n",
       "5 85 - 89 484         51081    \n",
       "6 85 - 89 351         51081    "
      ]
     },
     "metadata": {},
     "output_type": "display_data"
    },
    {
     "name": "stdout",
     "output_type": "stream",
     "text": [
      "Observations: 341,310\n",
      "Variables: 9\n",
      "$ LGA                \u001b[3m\u001b[90m<chr>\u001b[39m\u001b[23m \"albury\", \"albury\", \"albury\", \"albury\", \"albury\"...\n",
      "$ Offence            \u001b[3m\u001b[90m<fct>\u001b[39m\u001b[23m Murder *, Murder *, Murder *, Murder *, Murder *...\n",
      "$ Crim_Count         \u001b[3m\u001b[90m<int>\u001b[39m\u001b[23m 2, 2, 2, 2, 2, 2, 2, 2, 2, 2, 2, 2, 2, 2, 2, 2, ...\n",
      "$ crime_tot_per_lga  \u001b[3m\u001b[90m<int>\u001b[39m\u001b[23m 6233, 6233, 6233, 6233, 6233, 6233, 6233, 6233, ...\n",
      "$ crime_rate_per_lga \u001b[3m\u001b[90m<dbl>\u001b[39m\u001b[23m 0.1220219, 0.1220219, 0.1220219, 0.1220219, 0.12...\n",
      "$ Sex                \u001b[3m\u001b[90m<fct>\u001b[39m\u001b[23m Females, Males, Females, Males, Females, Males, ...\n",
      "$ Age                \u001b[3m\u001b[90m<fct>\u001b[39m\u001b[23m 95 - 99, 95 - 99, 90 - 94, 90 - 94, 85 - 89, 85 ...\n",
      "$ pop_sex_age        \u001b[3m\u001b[90m<int>\u001b[39m\u001b[23m 78, 21, 271, 117, 484, 351, 734, 501, 924, 746, ...\n",
      "$ pop_total          \u001b[3m\u001b[90m<int>\u001b[39m\u001b[23m 51081, 51081, 51081, 51081, 51081, 51081, 51081,...\n"
     ]
    }
   ],
   "source": [
    "joined <- input_data$crime %>%\n",
    "    group_by(LGA) %>%\n",
    "    mutate(crime_tot_per_lga = sum(Crim_Count)) %>%\n",
    "    ungroup %>%\n",
    "    select(-pop_total) %>%\n",
    "    left_join(input_data$age, by = \"LGA\") %>%\n",
    "    mutate(crime_rate_per_lga = crime_tot_per_lga / pop_total) %>%\n",
    "    rename(pop_sex_age = Value)\n",
    "\n",
    "head(joined)\n",
    "glimpse(joined)"
   ]
  },
  {
   "cell_type": "code",
   "execution_count": 48,
   "metadata": {},
   "outputs": [],
   "source": [
    "out_filename = \"joined_crime_age.csv\"\n",
    "write.csv(joined, paste(output_path, out_filename, sep = \"/\"), row.names = FALSE)"
   ]
  },
  {
   "cell_type": "markdown",
   "metadata": {},
   "source": [
    "# Adding Crime Rate "
   ]
  },
  {
   "cell_type": "markdown",
   "metadata": {},
   "source": [
    "The crime rate to the crime data set. "
   ]
  },
  {
   "cell_type": "code",
   "execution_count": 51,
   "metadata": {},
   "outputs": [
    {
     "data": {
      "text/html": [
       "<table>\n",
       "<thead><tr><th scope=col>LGA</th><th scope=col>Offence</th><th scope=col>Crim_Count</th><th scope=col>crime_tot_per_lga</th><th scope=col>crime_rate_per_lga</th><th scope=col>pop_total</th></tr></thead>\n",
       "<tbody>\n",
       "\t<tr><td>albury                               </td><td>Murder *                             </td><td>  2                                  </td><td>6233                                 </td><td>0.1220219                            </td><td>51081                                </td></tr>\n",
       "\t<tr><td>albury                               </td><td>Attempted murder                     </td><td>  1                                  </td><td>6233                                 </td><td>0.1220219                            </td><td>51081                                </td></tr>\n",
       "\t<tr><td>albury                               </td><td>Murder accessory, conspiracy         </td><td>  0                                  </td><td>6233                                 </td><td>0.1220219                            </td><td>51081                                </td></tr>\n",
       "\t<tr><td>albury                               </td><td>Manslaughter *                       </td><td>  0                                  </td><td>6233                                 </td><td>0.1220219                            </td><td>51081                                </td></tr>\n",
       "\t<tr><td>albury                               </td><td>Domestic violence related assault    </td><td>284                                  </td><td>6233                                 </td><td>0.1220219                            </td><td>51081                                </td></tr>\n",
       "\t<tr><td>albury                               </td><td>Non-domestic violence related assault</td><td>296                                  </td><td>6233                                 </td><td>0.1220219                            </td><td>51081                                </td></tr>\n",
       "</tbody>\n",
       "</table>\n"
      ],
      "text/latex": [
       "\\begin{tabular}{r|llllll}\n",
       " LGA & Offence & Crim\\_Count & crime\\_tot\\_per\\_lga & crime\\_rate\\_per\\_lga & pop\\_total\\\\\n",
       "\\hline\n",
       "\t albury                                & Murder *                              &   2                                   & 6233                                  & 0.1220219                             & 51081                                \\\\\n",
       "\t albury                                & Attempted murder                      &   1                                   & 6233                                  & 0.1220219                             & 51081                                \\\\\n",
       "\t albury                                & Murder accessory, conspiracy          &   0                                   & 6233                                  & 0.1220219                             & 51081                                \\\\\n",
       "\t albury                                & Manslaughter *                        &   0                                   & 6233                                  & 0.1220219                             & 51081                                \\\\\n",
       "\t albury                                & Domestic violence related assault     & 284                                   & 6233                                  & 0.1220219                             & 51081                                \\\\\n",
       "\t albury                                & Non-domestic violence related assault & 296                                   & 6233                                  & 0.1220219                             & 51081                                \\\\\n",
       "\\end{tabular}\n"
      ],
      "text/markdown": [
       "\n",
       "| LGA | Offence | Crim_Count | crime_tot_per_lga | crime_rate_per_lga | pop_total |\n",
       "|---|---|---|---|---|---|\n",
       "| albury                                | Murder *                              |   2                                   | 6233                                  | 0.1220219                             | 51081                                 |\n",
       "| albury                                | Attempted murder                      |   1                                   | 6233                                  | 0.1220219                             | 51081                                 |\n",
       "| albury                                | Murder accessory, conspiracy          |   0                                   | 6233                                  | 0.1220219                             | 51081                                 |\n",
       "| albury                                | Manslaughter *                        |   0                                   | 6233                                  | 0.1220219                             | 51081                                 |\n",
       "| albury                                | Domestic violence related assault     | 284                                   | 6233                                  | 0.1220219                             | 51081                                 |\n",
       "| albury                                | Non-domestic violence related assault | 296                                   | 6233                                  | 0.1220219                             | 51081                                 |\n",
       "\n"
      ],
      "text/plain": [
       "  LGA    Offence                               Crim_Count crime_tot_per_lga\n",
       "1 albury Murder *                                2        6233             \n",
       "2 albury Attempted murder                        1        6233             \n",
       "3 albury Murder accessory, conspiracy            0        6233             \n",
       "4 albury Manslaughter *                          0        6233             \n",
       "5 albury Domestic violence related assault     284        6233             \n",
       "6 albury Non-domestic violence related assault 296        6233             \n",
       "  crime_rate_per_lga pop_total\n",
       "1 0.1220219          51081    \n",
       "2 0.1220219          51081    \n",
       "3 0.1220219          51081    \n",
       "4 0.1220219          51081    \n",
       "5 0.1220219          51081    \n",
       "6 0.1220219          51081    "
      ]
     },
     "metadata": {},
     "output_type": "display_data"
    },
    {
     "name": "stdout",
     "output_type": "stream",
     "text": [
      "Observations: 8,060\n",
      "Variables: 6\n",
      "$ LGA                \u001b[3m\u001b[90m<chr>\u001b[39m\u001b[23m \"albury\", \"albury\", \"albury\", \"albury\", \"albury\"...\n",
      "$ Offence            \u001b[3m\u001b[90m<fct>\u001b[39m\u001b[23m \"Murder *\", \"Attempted murder\", \"Murder accessor...\n",
      "$ Crim_Count         \u001b[3m\u001b[90m<int>\u001b[39m\u001b[23m 2, 1, 0, 0, 284, 296, 25, 47, 68, 2, 12, 3, 6, 0...\n",
      "$ crime_tot_per_lga  \u001b[3m\u001b[90m<int>\u001b[39m\u001b[23m 6233, 6233, 6233, 6233, 6233, 6233, 6233, 6233, ...\n",
      "$ crime_rate_per_lga \u001b[3m\u001b[90m<dbl>\u001b[39m\u001b[23m 0.1220219, 0.1220219, 0.1220219, 0.1220219, 0.12...\n",
      "$ pop_total          \u001b[3m\u001b[90m<int>\u001b[39m\u001b[23m 51081, 51081, 51081, 51081, 51081, 51081, 51081,...\n"
     ]
    }
   ],
   "source": [
    "input_data$crime %<>%\n",
    "    group_by(LGA) %>%\n",
    "    mutate(crime_tot_per_lga = sum(Crim_Count)) %>% \n",
    "    ungroup %>%\n",
    "    select(-pop_total) %>%\n",
    "    left_join(pop_agg, by = \"LGA\") %>%\n",
    "    mutate(crime_rate_per_lga = crime_tot_per_lga / pop_total)\n",
    "\n",
    "head(input_data$crime)\n",
    "glimpse(input_data$crime)"
   ]
  },
  {
   "cell_type": "markdown",
   "metadata": {},
   "source": [
    "# Joining `crime` and `country_of_birth`"
   ]
  },
  {
   "cell_type": "code",
   "execution_count": 52,
   "metadata": {},
   "outputs": [
    {
     "data": {
      "text/html": [
       "<table>\n",
       "<thead><tr><th scope=col>LGA</th><th scope=col>Offence</th><th scope=col>Crim_Count</th><th scope=col>crime_tot_per_lga</th><th scope=col>crime_rate_per_lga</th><th scope=col>pop_total</th></tr></thead>\n",
       "<tbody>\n",
       "\t<tr><td>albury                               </td><td>Murder *                             </td><td>  2                                  </td><td>6233                                 </td><td>0.1220219                            </td><td>51081                                </td></tr>\n",
       "\t<tr><td>albury                               </td><td>Attempted murder                     </td><td>  1                                  </td><td>6233                                 </td><td>0.1220219                            </td><td>51081                                </td></tr>\n",
       "\t<tr><td>albury                               </td><td>Murder accessory, conspiracy         </td><td>  0                                  </td><td>6233                                 </td><td>0.1220219                            </td><td>51081                                </td></tr>\n",
       "\t<tr><td>albury                               </td><td>Manslaughter *                       </td><td>  0                                  </td><td>6233                                 </td><td>0.1220219                            </td><td>51081                                </td></tr>\n",
       "\t<tr><td>albury                               </td><td>Domestic violence related assault    </td><td>284                                  </td><td>6233                                 </td><td>0.1220219                            </td><td>51081                                </td></tr>\n",
       "\t<tr><td>albury                               </td><td>Non-domestic violence related assault</td><td>296                                  </td><td>6233                                 </td><td>0.1220219                            </td><td>51081                                </td></tr>\n",
       "</tbody>\n",
       "</table>\n"
      ],
      "text/latex": [
       "\\begin{tabular}{r|llllll}\n",
       " LGA & Offence & Crim\\_Count & crime\\_tot\\_per\\_lga & crime\\_rate\\_per\\_lga & pop\\_total\\\\\n",
       "\\hline\n",
       "\t albury                                & Murder *                              &   2                                   & 6233                                  & 0.1220219                             & 51081                                \\\\\n",
       "\t albury                                & Attempted murder                      &   1                                   & 6233                                  & 0.1220219                             & 51081                                \\\\\n",
       "\t albury                                & Murder accessory, conspiracy          &   0                                   & 6233                                  & 0.1220219                             & 51081                                \\\\\n",
       "\t albury                                & Manslaughter *                        &   0                                   & 6233                                  & 0.1220219                             & 51081                                \\\\\n",
       "\t albury                                & Domestic violence related assault     & 284                                   & 6233                                  & 0.1220219                             & 51081                                \\\\\n",
       "\t albury                                & Non-domestic violence related assault & 296                                   & 6233                                  & 0.1220219                             & 51081                                \\\\\n",
       "\\end{tabular}\n"
      ],
      "text/markdown": [
       "\n",
       "| LGA | Offence | Crim_Count | crime_tot_per_lga | crime_rate_per_lga | pop_total |\n",
       "|---|---|---|---|---|---|\n",
       "| albury                                | Murder *                              |   2                                   | 6233                                  | 0.1220219                             | 51081                                 |\n",
       "| albury                                | Attempted murder                      |   1                                   | 6233                                  | 0.1220219                             | 51081                                 |\n",
       "| albury                                | Murder accessory, conspiracy          |   0                                   | 6233                                  | 0.1220219                             | 51081                                 |\n",
       "| albury                                | Manslaughter *                        |   0                                   | 6233                                  | 0.1220219                             | 51081                                 |\n",
       "| albury                                | Domestic violence related assault     | 284                                   | 6233                                  | 0.1220219                             | 51081                                 |\n",
       "| albury                                | Non-domestic violence related assault | 296                                   | 6233                                  | 0.1220219                             | 51081                                 |\n",
       "\n"
      ],
      "text/plain": [
       "  LGA    Offence                               Crim_Count crime_tot_per_lga\n",
       "1 albury Murder *                                2        6233             \n",
       "2 albury Attempted murder                        1        6233             \n",
       "3 albury Murder accessory, conspiracy            0        6233             \n",
       "4 albury Manslaughter *                          0        6233             \n",
       "5 albury Domestic violence related assault     284        6233             \n",
       "6 albury Non-domestic violence related assault 296        6233             \n",
       "  crime_rate_per_lga pop_total\n",
       "1 0.1220219          51081    \n",
       "2 0.1220219          51081    \n",
       "3 0.1220219          51081    \n",
       "4 0.1220219          51081    \n",
       "5 0.1220219          51081    \n",
       "6 0.1220219          51081    "
      ]
     },
     "metadata": {},
     "output_type": "display_data"
    },
    {
     "data": {
      "text/html": [
       "<table>\n",
       "<thead><tr><th scope=col>birthplace_of_person</th><th scope=col>census_year</th><th scope=col>lga_2016</th><th scope=col>LGA</th><th scope=col>value</th><th scope=col>yarrp_2016</th><th scope=col>year_of_arrival_in_australia</th></tr></thead>\n",
       "<tbody>\n",
       "\t<tr><td>New Zealand        </td><td>2016               </td><td>10050              </td><td>albury             </td><td>  7                </td><td>2                  </td><td>Arrived 1946 - 1955</td></tr>\n",
       "\t<tr><td>New Zealand        </td><td>2016               </td><td>10050              </td><td>albury             </td><td> 22                </td><td>3                  </td><td>Arrived 1956 - 1965</td></tr>\n",
       "\t<tr><td>New Zealand        </td><td>2016               </td><td>10050              </td><td>albury             </td><td> 63                </td><td>4                  </td><td>Arrived 1966 - 1975</td></tr>\n",
       "\t<tr><td>New Zealand        </td><td>2016               </td><td>10050              </td><td>albury             </td><td>113                </td><td>5                  </td><td>Arrived 1976 - 1985</td></tr>\n",
       "\t<tr><td>New Zealand        </td><td>2016               </td><td>10050              </td><td>albury             </td><td> 92                </td><td>6                  </td><td>Arrived 1986 - 1995</td></tr>\n",
       "\t<tr><td>New Zealand        </td><td>2016               </td><td>10050              </td><td>albury             </td><td> 87                </td><td>7                  </td><td>Arrived 1996 - 2005</td></tr>\n",
       "</tbody>\n",
       "</table>\n"
      ],
      "text/latex": [
       "\\begin{tabular}{r|lllllll}\n",
       " birthplace\\_of\\_person & census\\_year & lga\\_2016 & LGA & value & yarrp\\_2016 & year\\_of\\_arrival\\_in\\_australia\\\\\n",
       "\\hline\n",
       "\t New Zealand         & 2016                & 10050               & albury              &   7                 & 2                   & Arrived 1946 - 1955\\\\\n",
       "\t New Zealand         & 2016                & 10050               & albury              &  22                 & 3                   & Arrived 1956 - 1965\\\\\n",
       "\t New Zealand         & 2016                & 10050               & albury              &  63                 & 4                   & Arrived 1966 - 1975\\\\\n",
       "\t New Zealand         & 2016                & 10050               & albury              & 113                 & 5                   & Arrived 1976 - 1985\\\\\n",
       "\t New Zealand         & 2016                & 10050               & albury              &  92                 & 6                   & Arrived 1986 - 1995\\\\\n",
       "\t New Zealand         & 2016                & 10050               & albury              &  87                 & 7                   & Arrived 1996 - 2005\\\\\n",
       "\\end{tabular}\n"
      ],
      "text/markdown": [
       "\n",
       "| birthplace_of_person | census_year | lga_2016 | LGA | value | yarrp_2016 | year_of_arrival_in_australia |\n",
       "|---|---|---|---|---|---|---|\n",
       "| New Zealand         | 2016                | 10050               | albury              |   7                 | 2                   | Arrived 1946 - 1955 |\n",
       "| New Zealand         | 2016                | 10050               | albury              |  22                 | 3                   | Arrived 1956 - 1965 |\n",
       "| New Zealand         | 2016                | 10050               | albury              |  63                 | 4                   | Arrived 1966 - 1975 |\n",
       "| New Zealand         | 2016                | 10050               | albury              | 113                 | 5                   | Arrived 1976 - 1985 |\n",
       "| New Zealand         | 2016                | 10050               | albury              |  92                 | 6                   | Arrived 1986 - 1995 |\n",
       "| New Zealand         | 2016                | 10050               | albury              |  87                 | 7                   | Arrived 1996 - 2005 |\n",
       "\n"
      ],
      "text/plain": [
       "  birthplace_of_person census_year lga_2016 LGA    value yarrp_2016\n",
       "1 New Zealand          2016        10050    albury   7   2         \n",
       "2 New Zealand          2016        10050    albury  22   3         \n",
       "3 New Zealand          2016        10050    albury  63   4         \n",
       "4 New Zealand          2016        10050    albury 113   5         \n",
       "5 New Zealand          2016        10050    albury  92   6         \n",
       "6 New Zealand          2016        10050    albury  87   7         \n",
       "  year_of_arrival_in_australia\n",
       "1 Arrived 1946 - 1955         \n",
       "2 Arrived 1956 - 1965         \n",
       "3 Arrived 1966 - 1975         \n",
       "4 Arrived 1976 - 1985         \n",
       "5 Arrived 1986 - 1995         \n",
       "6 Arrived 1996 - 2005         "
      ]
     },
     "metadata": {},
     "output_type": "display_data"
    }
   ],
   "source": [
    "head(input_data$crime)\n",
    "head(input_data$country_of_birth)"
   ]
  },
  {
   "cell_type": "code",
   "execution_count": 53,
   "metadata": {},
   "outputs": [
    {
     "name": "stderr",
     "output_type": "stream",
     "text": [
      "Joining, by = \"LGA\"\n"
     ]
    },
    {
     "data": {
      "text/html": [
       "<table>\n",
       "<thead><tr><th scope=col>LGA</th><th scope=col>Offence</th><th scope=col>Crim_Count</th><th scope=col>crime_tot_per_lga</th><th scope=col>crime_rate_per_lga</th><th scope=col>pop_total</th><th scope=col>birthplace_of_person</th><th scope=col>pop_count</th><th scope=col>year_of_arrival_in_australia</th></tr></thead>\n",
       "<tbody>\n",
       "\t<tr><td>albury             </td><td>Murder *           </td><td>2                  </td><td>6233               </td><td>0.1220219          </td><td>51081              </td><td>New Zealand        </td><td>  7                </td><td>Arrived 1946 - 1955</td></tr>\n",
       "\t<tr><td>albury             </td><td>Murder *           </td><td>2                  </td><td>6233               </td><td>0.1220219          </td><td>51081              </td><td>New Zealand        </td><td> 22                </td><td>Arrived 1956 - 1965</td></tr>\n",
       "\t<tr><td>albury             </td><td>Murder *           </td><td>2                  </td><td>6233               </td><td>0.1220219          </td><td>51081              </td><td>New Zealand        </td><td> 63                </td><td>Arrived 1966 - 1975</td></tr>\n",
       "\t<tr><td>albury             </td><td>Murder *           </td><td>2                  </td><td>6233               </td><td>0.1220219          </td><td>51081              </td><td>New Zealand        </td><td>113                </td><td>Arrived 1976 - 1985</td></tr>\n",
       "\t<tr><td>albury             </td><td>Murder *           </td><td>2                  </td><td>6233               </td><td>0.1220219          </td><td>51081              </td><td>New Zealand        </td><td> 92                </td><td>Arrived 1986 - 1995</td></tr>\n",
       "\t<tr><td>albury             </td><td>Murder *           </td><td>2                  </td><td>6233               </td><td>0.1220219          </td><td>51081              </td><td>New Zealand        </td><td> 87                </td><td>Arrived 1996 - 2005</td></tr>\n",
       "</tbody>\n",
       "</table>\n"
      ],
      "text/latex": [
       "\\begin{tabular}{r|lllllllll}\n",
       " LGA & Offence & Crim\\_Count & crime\\_tot\\_per\\_lga & crime\\_rate\\_per\\_lga & pop\\_total & birthplace\\_of\\_person & pop\\_count & year\\_of\\_arrival\\_in\\_australia\\\\\n",
       "\\hline\n",
       "\t albury              & Murder *            & 2                   & 6233                & 0.1220219           & 51081               & New Zealand         &   7                 & Arrived 1946 - 1955\\\\\n",
       "\t albury              & Murder *            & 2                   & 6233                & 0.1220219           & 51081               & New Zealand         &  22                 & Arrived 1956 - 1965\\\\\n",
       "\t albury              & Murder *            & 2                   & 6233                & 0.1220219           & 51081               & New Zealand         &  63                 & Arrived 1966 - 1975\\\\\n",
       "\t albury              & Murder *            & 2                   & 6233                & 0.1220219           & 51081               & New Zealand         & 113                 & Arrived 1976 - 1985\\\\\n",
       "\t albury              & Murder *            & 2                   & 6233                & 0.1220219           & 51081               & New Zealand         &  92                 & Arrived 1986 - 1995\\\\\n",
       "\t albury              & Murder *            & 2                   & 6233                & 0.1220219           & 51081               & New Zealand         &  87                 & Arrived 1996 - 2005\\\\\n",
       "\\end{tabular}\n"
      ],
      "text/markdown": [
       "\n",
       "| LGA | Offence | Crim_Count | crime_tot_per_lga | crime_rate_per_lga | pop_total | birthplace_of_person | pop_count | year_of_arrival_in_australia |\n",
       "|---|---|---|---|---|---|---|---|---|\n",
       "| albury              | Murder *            | 2                   | 6233                | 0.1220219           | 51081               | New Zealand         |   7                 | Arrived 1946 - 1955 |\n",
       "| albury              | Murder *            | 2                   | 6233                | 0.1220219           | 51081               | New Zealand         |  22                 | Arrived 1956 - 1965 |\n",
       "| albury              | Murder *            | 2                   | 6233                | 0.1220219           | 51081               | New Zealand         |  63                 | Arrived 1966 - 1975 |\n",
       "| albury              | Murder *            | 2                   | 6233                | 0.1220219           | 51081               | New Zealand         | 113                 | Arrived 1976 - 1985 |\n",
       "| albury              | Murder *            | 2                   | 6233                | 0.1220219           | 51081               | New Zealand         |  92                 | Arrived 1986 - 1995 |\n",
       "| albury              | Murder *            | 2                   | 6233                | 0.1220219           | 51081               | New Zealand         |  87                 | Arrived 1996 - 2005 |\n",
       "\n"
      ],
      "text/plain": [
       "  LGA    Offence  Crim_Count crime_tot_per_lga crime_rate_per_lga pop_total\n",
       "1 albury Murder * 2          6233              0.1220219          51081    \n",
       "2 albury Murder * 2          6233              0.1220219          51081    \n",
       "3 albury Murder * 2          6233              0.1220219          51081    \n",
       "4 albury Murder * 2          6233              0.1220219          51081    \n",
       "5 albury Murder * 2          6233              0.1220219          51081    \n",
       "6 albury Murder * 2          6233              0.1220219          51081    \n",
       "  birthplace_of_person pop_count year_of_arrival_in_australia\n",
       "1 New Zealand            7       Arrived 1946 - 1955         \n",
       "2 New Zealand           22       Arrived 1956 - 1965         \n",
       "3 New Zealand           63       Arrived 1966 - 1975         \n",
       "4 New Zealand          113       Arrived 1976 - 1985         \n",
       "5 New Zealand           92       Arrived 1986 - 1995         \n",
       "6 New Zealand           87       Arrived 1996 - 2005         "
      ]
     },
     "metadata": {},
     "output_type": "display_data"
    },
    {
     "name": "stdout",
     "output_type": "stream",
     "text": [
      "Observations: 6,382,714\n",
      "Variables: 9\n",
      "$ LGA                          \u001b[3m\u001b[90m<chr>\u001b[39m\u001b[23m \"albury\", \"albury\", \"albury\", \"albury\"...\n",
      "$ Offence                      \u001b[3m\u001b[90m<fct>\u001b[39m\u001b[23m Murder *, Murder *, Murder *, Murder *...\n",
      "$ Crim_Count                   \u001b[3m\u001b[90m<int>\u001b[39m\u001b[23m 2, 2, 2, 2, 2, 2, 2, 2, 2, 2, 2, 2, 2,...\n",
      "$ crime_tot_per_lga            \u001b[3m\u001b[90m<int>\u001b[39m\u001b[23m 6233, 6233, 6233, 6233, 6233, 6233, 62...\n",
      "$ crime_rate_per_lga           \u001b[3m\u001b[90m<dbl>\u001b[39m\u001b[23m 0.1220219, 0.1220219, 0.1220219, 0.122...\n",
      "$ pop_total                    \u001b[3m\u001b[90m<int>\u001b[39m\u001b[23m 51081, 51081, 51081, 51081, 51081, 510...\n",
      "$ birthplace_of_person         \u001b[3m\u001b[90m<fct>\u001b[39m\u001b[23m New Zealand, New Zealand, New Zealand,...\n",
      "$ pop_count                    \u001b[3m\u001b[90m<dbl>\u001b[39m\u001b[23m 7, 22, 63, 113, 92, 87, 6, 24, 3, 9, 6...\n",
      "$ year_of_arrival_in_australia \u001b[3m\u001b[90m<fct>\u001b[39m\u001b[23m Arrived 1946 - 1955, Arrived 1956 - 19...\n"
     ]
    }
   ],
   "source": [
    "joined <- input_data$crime %>%\n",
    "    left_join(input_data$country_of_birth %>% select(-lga_2016, -census_year, -yarrp_2016)) %>%\n",
    "    rename(pop_count = value)\n",
    "\n",
    "head(joined)\n",
    "glimpse(joined)"
   ]
  },
  {
   "cell_type": "code",
   "execution_count": 54,
   "metadata": {},
   "outputs": [],
   "source": [
    "out_filename = \"joined_crime_countryofbirth.csv\"\n",
    "write.csv(joined, paste(output_path, out_filename, sep = \"/\"), row.names = FALSE)"
   ]
  },
  {
   "cell_type": "markdown",
   "metadata": {},
   "source": [
    "# Joining `crime` and `industry_employment`"
   ]
  },
  {
   "cell_type": "code",
   "execution_count": 55,
   "metadata": {},
   "outputs": [
    {
     "data": {
      "text/html": [
       "<table>\n",
       "<thead><tr><th scope=col>LGA</th><th scope=col>Offence</th><th scope=col>Crim_Count</th><th scope=col>crime_tot_per_lga</th><th scope=col>crime_rate_per_lga</th><th scope=col>pop_total</th></tr></thead>\n",
       "<tbody>\n",
       "\t<tr><td>albury                               </td><td>Murder *                             </td><td>  2                                  </td><td>6233                                 </td><td>0.1220219                            </td><td>51081                                </td></tr>\n",
       "\t<tr><td>albury                               </td><td>Attempted murder                     </td><td>  1                                  </td><td>6233                                 </td><td>0.1220219                            </td><td>51081                                </td></tr>\n",
       "\t<tr><td>albury                               </td><td>Murder accessory, conspiracy         </td><td>  0                                  </td><td>6233                                 </td><td>0.1220219                            </td><td>51081                                </td></tr>\n",
       "\t<tr><td>albury                               </td><td>Manslaughter *                       </td><td>  0                                  </td><td>6233                                 </td><td>0.1220219                            </td><td>51081                                </td></tr>\n",
       "\t<tr><td>albury                               </td><td>Domestic violence related assault    </td><td>284                                  </td><td>6233                                 </td><td>0.1220219                            </td><td>51081                                </td></tr>\n",
       "\t<tr><td>albury                               </td><td>Non-domestic violence related assault</td><td>296                                  </td><td>6233                                 </td><td>0.1220219                            </td><td>51081                                </td></tr>\n",
       "</tbody>\n",
       "</table>\n"
      ],
      "text/latex": [
       "\\begin{tabular}{r|llllll}\n",
       " LGA & Offence & Crim\\_Count & crime\\_tot\\_per\\_lga & crime\\_rate\\_per\\_lga & pop\\_total\\\\\n",
       "\\hline\n",
       "\t albury                                & Murder *                              &   2                                   & 6233                                  & 0.1220219                             & 51081                                \\\\\n",
       "\t albury                                & Attempted murder                      &   1                                   & 6233                                  & 0.1220219                             & 51081                                \\\\\n",
       "\t albury                                & Murder accessory, conspiracy          &   0                                   & 6233                                  & 0.1220219                             & 51081                                \\\\\n",
       "\t albury                                & Manslaughter *                        &   0                                   & 6233                                  & 0.1220219                             & 51081                                \\\\\n",
       "\t albury                                & Domestic violence related assault     & 284                                   & 6233                                  & 0.1220219                             & 51081                                \\\\\n",
       "\t albury                                & Non-domestic violence related assault & 296                                   & 6233                                  & 0.1220219                             & 51081                                \\\\\n",
       "\\end{tabular}\n"
      ],
      "text/markdown": [
       "\n",
       "| LGA | Offence | Crim_Count | crime_tot_per_lga | crime_rate_per_lga | pop_total |\n",
       "|---|---|---|---|---|---|\n",
       "| albury                                | Murder *                              |   2                                   | 6233                                  | 0.1220219                             | 51081                                 |\n",
       "| albury                                | Attempted murder                      |   1                                   | 6233                                  | 0.1220219                             | 51081                                 |\n",
       "| albury                                | Murder accessory, conspiracy          |   0                                   | 6233                                  | 0.1220219                             | 51081                                 |\n",
       "| albury                                | Manslaughter *                        |   0                                   | 6233                                  | 0.1220219                             | 51081                                 |\n",
       "| albury                                | Domestic violence related assault     | 284                                   | 6233                                  | 0.1220219                             | 51081                                 |\n",
       "| albury                                | Non-domestic violence related assault | 296                                   | 6233                                  | 0.1220219                             | 51081                                 |\n",
       "\n"
      ],
      "text/plain": [
       "  LGA    Offence                               Crim_Count crime_tot_per_lga\n",
       "1 albury Murder *                                2        6233             \n",
       "2 albury Attempted murder                        1        6233             \n",
       "3 albury Murder accessory, conspiracy            0        6233             \n",
       "4 albury Manslaughter *                          0        6233             \n",
       "5 albury Domestic violence related assault     284        6233             \n",
       "6 albury Non-domestic violence related assault 296        6233             \n",
       "  crime_rate_per_lga pop_total\n",
       "1 0.1220219          51081    \n",
       "2 0.1220219          51081    \n",
       "3 0.1220219          51081    \n",
       "4 0.1220219          51081    \n",
       "5 0.1220219          51081    \n",
       "6 0.1220219          51081    "
      ]
     },
     "metadata": {},
     "output_type": "display_data"
    },
    {
     "data": {
      "text/html": [
       "<table>\n",
       "<thead><tr><th scope=col>Age</th><th scope=col>Sex</th><th scope=col>Industry of Employment</th><th scope=col>LGA_2016</th><th scope=col>LGA</th><th scope=col>Census year</th><th scope=col>Value</th></tr></thead>\n",
       "<tbody>\n",
       "\t<tr><td>15 - 19                          </td><td>Males                            </td><td>Agriculture, Forestry and Fishing</td><td>10050                            </td><td>albury                           </td><td>2016                             </td><td> 6                               </td></tr>\n",
       "\t<tr><td>15 - 19                          </td><td>Females                          </td><td>Agriculture, Forestry and Fishing</td><td>10050                            </td><td>albury                           </td><td>2016                             </td><td> 4                               </td></tr>\n",
       "\t<tr><td>15 - 19                          </td><td>Persons                          </td><td>Agriculture, Forestry and Fishing</td><td>10050                            </td><td>albury                           </td><td>2016                             </td><td> 6                               </td></tr>\n",
       "\t<tr><td>15 - 19                          </td><td>Males                            </td><td>Agriculture, Forestry and Fishing</td><td>10130                            </td><td>armidale regional                </td><td>2016                             </td><td>34                               </td></tr>\n",
       "\t<tr><td>15 - 19                          </td><td>Females                          </td><td>Agriculture, Forestry and Fishing</td><td>10130                            </td><td>armidale regional                </td><td>2016                             </td><td> 9                               </td></tr>\n",
       "\t<tr><td>15 - 19                          </td><td>Persons                          </td><td>Agriculture, Forestry and Fishing</td><td>10130                            </td><td>armidale regional                </td><td>2016                             </td><td>43                               </td></tr>\n",
       "</tbody>\n",
       "</table>\n"
      ],
      "text/latex": [
       "\\begin{tabular}{r|lllllll}\n",
       " Age & Sex & Industry of Employment & LGA\\_2016 & LGA & Census year & Value\\\\\n",
       "\\hline\n",
       "\t 15 - 19                           & Males                             & Agriculture, Forestry and Fishing & 10050                             & albury                            & 2016                              &  6                               \\\\\n",
       "\t 15 - 19                           & Females                           & Agriculture, Forestry and Fishing & 10050                             & albury                            & 2016                              &  4                               \\\\\n",
       "\t 15 - 19                           & Persons                           & Agriculture, Forestry and Fishing & 10050                             & albury                            & 2016                              &  6                               \\\\\n",
       "\t 15 - 19                           & Males                             & Agriculture, Forestry and Fishing & 10130                             & armidale regional                 & 2016                              & 34                               \\\\\n",
       "\t 15 - 19                           & Females                           & Agriculture, Forestry and Fishing & 10130                             & armidale regional                 & 2016                              &  9                               \\\\\n",
       "\t 15 - 19                           & Persons                           & Agriculture, Forestry and Fishing & 10130                             & armidale regional                 & 2016                              & 43                               \\\\\n",
       "\\end{tabular}\n"
      ],
      "text/markdown": [
       "\n",
       "| Age | Sex | Industry of Employment | LGA_2016 | LGA | Census year | Value |\n",
       "|---|---|---|---|---|---|---|\n",
       "| 15 - 19                           | Males                             | Agriculture, Forestry and Fishing | 10050                             | albury                            | 2016                              |  6                                |\n",
       "| 15 - 19                           | Females                           | Agriculture, Forestry and Fishing | 10050                             | albury                            | 2016                              |  4                                |\n",
       "| 15 - 19                           | Persons                           | Agriculture, Forestry and Fishing | 10050                             | albury                            | 2016                              |  6                                |\n",
       "| 15 - 19                           | Males                             | Agriculture, Forestry and Fishing | 10130                             | armidale regional                 | 2016                              | 34                                |\n",
       "| 15 - 19                           | Females                           | Agriculture, Forestry and Fishing | 10130                             | armidale regional                 | 2016                              |  9                                |\n",
       "| 15 - 19                           | Persons                           | Agriculture, Forestry and Fishing | 10130                             | armidale regional                 | 2016                              | 43                                |\n",
       "\n"
      ],
      "text/plain": [
       "  Age     Sex     Industry of Employment            LGA_2016 LGA              \n",
       "1 15 - 19 Males   Agriculture, Forestry and Fishing 10050    albury           \n",
       "2 15 - 19 Females Agriculture, Forestry and Fishing 10050    albury           \n",
       "3 15 - 19 Persons Agriculture, Forestry and Fishing 10050    albury           \n",
       "4 15 - 19 Males   Agriculture, Forestry and Fishing 10130    armidale regional\n",
       "5 15 - 19 Females Agriculture, Forestry and Fishing 10130    armidale regional\n",
       "6 15 - 19 Persons Agriculture, Forestry and Fishing 10130    armidale regional\n",
       "  Census year Value\n",
       "1 2016         6   \n",
       "2 2016         4   \n",
       "3 2016         6   \n",
       "4 2016        34   \n",
       "5 2016         9   \n",
       "6 2016        43   "
      ]
     },
     "metadata": {},
     "output_type": "display_data"
    }
   ],
   "source": [
    "head(input_data$crime)\n",
    "head(input_data$industry_employment)"
   ]
  },
  {
   "cell_type": "code",
   "execution_count": 56,
   "metadata": {},
   "outputs": [
    {
     "name": "stderr",
     "output_type": "stream",
     "text": [
      "Joining, by = \"LGA\"\n"
     ]
    },
    {
     "data": {
      "text/html": [
       "<table>\n",
       "<thead><tr><th scope=col>LGA</th><th scope=col>Offence</th><th scope=col>Crim_Count</th><th scope=col>crime_tot_per_lga</th><th scope=col>crime_rate_per_lga</th><th scope=col>pop_total</th><th scope=col>Age</th><th scope=col>Sex</th><th scope=col>Industry of Employment</th><th scope=col>pop_count</th></tr></thead>\n",
       "<tbody>\n",
       "\t<tr><td>albury                           </td><td>Murder *                         </td><td>2                                </td><td>6233                             </td><td>0.1220219                        </td><td>51081                            </td><td>15 - 19                          </td><td>Males                            </td><td>Agriculture, Forestry and Fishing</td><td>6                                </td></tr>\n",
       "\t<tr><td>albury                           </td><td>Murder *                         </td><td>2                                </td><td>6233                             </td><td>0.1220219                        </td><td>51081                            </td><td>15 - 19                          </td><td>Females                          </td><td>Agriculture, Forestry and Fishing</td><td>4                                </td></tr>\n",
       "\t<tr><td>albury                           </td><td>Murder *                         </td><td>2                                </td><td>6233                             </td><td>0.1220219                        </td><td>51081                            </td><td>15 - 19                          </td><td>Persons                          </td><td>Agriculture, Forestry and Fishing</td><td>6                                </td></tr>\n",
       "\t<tr><td>albury                           </td><td>Murder *                         </td><td>2                                </td><td>6233                             </td><td>0.1220219                        </td><td>51081                            </td><td>15 - 19                          </td><td>Males                            </td><td>Mining                           </td><td>0                                </td></tr>\n",
       "\t<tr><td>albury                           </td><td>Murder *                         </td><td>2                                </td><td>6233                             </td><td>0.1220219                        </td><td>51081                            </td><td>15 - 19                          </td><td>Females                          </td><td>Mining                           </td><td>0                                </td></tr>\n",
       "\t<tr><td>albury                           </td><td>Murder *                         </td><td>2                                </td><td>6233                             </td><td>0.1220219                        </td><td>51081                            </td><td>15 - 19                          </td><td>Persons                          </td><td>Mining                           </td><td>0                                </td></tr>\n",
       "</tbody>\n",
       "</table>\n"
      ],
      "text/latex": [
       "\\begin{tabular}{r|llllllllll}\n",
       " LGA & Offence & Crim\\_Count & crime\\_tot\\_per\\_lga & crime\\_rate\\_per\\_lga & pop\\_total & Age & Sex & Industry of Employment & pop\\_count\\\\\n",
       "\\hline\n",
       "\t albury                            & Murder *                          & 2                                 & 6233                              & 0.1220219                         & 51081                             & 15 - 19                           & Males                             & Agriculture, Forestry and Fishing & 6                                \\\\\n",
       "\t albury                            & Murder *                          & 2                                 & 6233                              & 0.1220219                         & 51081                             & 15 - 19                           & Females                           & Agriculture, Forestry and Fishing & 4                                \\\\\n",
       "\t albury                            & Murder *                          & 2                                 & 6233                              & 0.1220219                         & 51081                             & 15 - 19                           & Persons                           & Agriculture, Forestry and Fishing & 6                                \\\\\n",
       "\t albury                            & Murder *                          & 2                                 & 6233                              & 0.1220219                         & 51081                             & 15 - 19                           & Males                             & Mining                            & 0                                \\\\\n",
       "\t albury                            & Murder *                          & 2                                 & 6233                              & 0.1220219                         & 51081                             & 15 - 19                           & Females                           & Mining                            & 0                                \\\\\n",
       "\t albury                            & Murder *                          & 2                                 & 6233                              & 0.1220219                         & 51081                             & 15 - 19                           & Persons                           & Mining                            & 0                                \\\\\n",
       "\\end{tabular}\n"
      ],
      "text/markdown": [
       "\n",
       "| LGA | Offence | Crim_Count | crime_tot_per_lga | crime_rate_per_lga | pop_total | Age | Sex | Industry of Employment | pop_count |\n",
       "|---|---|---|---|---|---|---|---|---|---|\n",
       "| albury                            | Murder *                          | 2                                 | 6233                              | 0.1220219                         | 51081                             | 15 - 19                           | Males                             | Agriculture, Forestry and Fishing | 6                                 |\n",
       "| albury                            | Murder *                          | 2                                 | 6233                              | 0.1220219                         | 51081                             | 15 - 19                           | Females                           | Agriculture, Forestry and Fishing | 4                                 |\n",
       "| albury                            | Murder *                          | 2                                 | 6233                              | 0.1220219                         | 51081                             | 15 - 19                           | Persons                           | Agriculture, Forestry and Fishing | 6                                 |\n",
       "| albury                            | Murder *                          | 2                                 | 6233                              | 0.1220219                         | 51081                             | 15 - 19                           | Males                             | Mining                            | 0                                 |\n",
       "| albury                            | Murder *                          | 2                                 | 6233                              | 0.1220219                         | 51081                             | 15 - 19                           | Females                           | Mining                            | 0                                 |\n",
       "| albury                            | Murder *                          | 2                                 | 6233                              | 0.1220219                         | 51081                             | 15 - 19                           | Persons                           | Mining                            | 0                                 |\n",
       "\n"
      ],
      "text/plain": [
       "  LGA    Offence  Crim_Count crime_tot_per_lga crime_rate_per_lga pop_total\n",
       "1 albury Murder * 2          6233              0.1220219          51081    \n",
       "2 albury Murder * 2          6233              0.1220219          51081    \n",
       "3 albury Murder * 2          6233              0.1220219          51081    \n",
       "4 albury Murder * 2          6233              0.1220219          51081    \n",
       "5 albury Murder * 2          6233              0.1220219          51081    \n",
       "6 albury Murder * 2          6233              0.1220219          51081    \n",
       "  Age     Sex     Industry of Employment            pop_count\n",
       "1 15 - 19 Males   Agriculture, Forestry and Fishing 6        \n",
       "2 15 - 19 Females Agriculture, Forestry and Fishing 4        \n",
       "3 15 - 19 Persons Agriculture, Forestry and Fishing 6        \n",
       "4 15 - 19 Males   Mining                            0        \n",
       "5 15 - 19 Females Mining                            0        \n",
       "6 15 - 19 Persons Mining                            0        "
      ]
     },
     "metadata": {},
     "output_type": "display_data"
    },
    {
     "name": "stdout",
     "output_type": "stream",
     "text": [
      "Observations: 4,650,310\n",
      "Variables: 10\n",
      "$ LGA                      \u001b[3m\u001b[90m<chr>\u001b[39m\u001b[23m \"albury\", \"albury\", \"albury\", \"albury\", \"a...\n",
      "$ Offence                  \u001b[3m\u001b[90m<fct>\u001b[39m\u001b[23m Murder *, Murder *, Murder *, Murder *, Mu...\n",
      "$ Crim_Count               \u001b[3m\u001b[90m<int>\u001b[39m\u001b[23m 2, 2, 2, 2, 2, 2, 2, 2, 2, 2, 2, 2, 2, 2, ...\n",
      "$ crime_tot_per_lga        \u001b[3m\u001b[90m<int>\u001b[39m\u001b[23m 6233, 6233, 6233, 6233, 6233, 6233, 6233, ...\n",
      "$ crime_rate_per_lga       \u001b[3m\u001b[90m<dbl>\u001b[39m\u001b[23m 0.1220219, 0.1220219, 0.1220219, 0.1220219...\n",
      "$ pop_total                \u001b[3m\u001b[90m<int>\u001b[39m\u001b[23m 51081, 51081, 51081, 51081, 51081, 51081, ...\n",
      "$ Age                      \u001b[3m\u001b[90m<fct>\u001b[39m\u001b[23m 15 - 19, 15 - 19, 15 - 19, 15 - 19, 15 - 1...\n",
      "$ Sex                      \u001b[3m\u001b[90m<fct>\u001b[39m\u001b[23m Males, Females, Persons, Males, Females, P...\n",
      "$ `Industry of Employment` \u001b[3m\u001b[90m<fct>\u001b[39m\u001b[23m \"Agriculture, Forestry and Fishing\", \"Agri...\n",
      "$ pop_count                \u001b[3m\u001b[90m<int>\u001b[39m\u001b[23m 6, 4, 6, 0, 0, 0, 49, 44, 90, 0, 0, 0, 121...\n"
     ]
    }
   ],
   "source": [
    "joined <- input_data$crime %>%\n",
    "    left_join(input_data$industry_employment %>% select(-LGA_2016, -`Census year`)) %>%\n",
    "    rename(pop_count = Value)\n",
    "\n",
    "head(joined)\n",
    "glimpse(joined)"
   ]
  },
  {
   "cell_type": "code",
   "execution_count": 57,
   "metadata": {},
   "outputs": [],
   "source": [
    "out_filename = \"joined_crime_employment.csv\"\n",
    "write.csv(joined, paste(output_path, out_filename, sep = \"/\"), row.names = FALSE)"
   ]
  },
  {
   "cell_type": "markdown",
   "metadata": {},
   "source": [
    "# Joining `crime` and `labour`"
   ]
  },
  {
   "cell_type": "code",
   "execution_count": 58,
   "metadata": {},
   "outputs": [
    {
     "data": {
      "text/html": [
       "<table>\n",
       "<thead><tr><th scope=col>LGA</th><th scope=col>Offence</th><th scope=col>Crim_Count</th><th scope=col>crime_tot_per_lga</th><th scope=col>crime_rate_per_lga</th><th scope=col>pop_total</th></tr></thead>\n",
       "<tbody>\n",
       "\t<tr><td>albury                               </td><td>Murder *                             </td><td>  2                                  </td><td>6233                                 </td><td>0.1220219                            </td><td>51081                                </td></tr>\n",
       "\t<tr><td>albury                               </td><td>Attempted murder                     </td><td>  1                                  </td><td>6233                                 </td><td>0.1220219                            </td><td>51081                                </td></tr>\n",
       "\t<tr><td>albury                               </td><td>Murder accessory, conspiracy         </td><td>  0                                  </td><td>6233                                 </td><td>0.1220219                            </td><td>51081                                </td></tr>\n",
       "\t<tr><td>albury                               </td><td>Manslaughter *                       </td><td>  0                                  </td><td>6233                                 </td><td>0.1220219                            </td><td>51081                                </td></tr>\n",
       "\t<tr><td>albury                               </td><td>Domestic violence related assault    </td><td>284                                  </td><td>6233                                 </td><td>0.1220219                            </td><td>51081                                </td></tr>\n",
       "\t<tr><td>albury                               </td><td>Non-domestic violence related assault</td><td>296                                  </td><td>6233                                 </td><td>0.1220219                            </td><td>51081                                </td></tr>\n",
       "</tbody>\n",
       "</table>\n"
      ],
      "text/latex": [
       "\\begin{tabular}{r|llllll}\n",
       " LGA & Offence & Crim\\_Count & crime\\_tot\\_per\\_lga & crime\\_rate\\_per\\_lga & pop\\_total\\\\\n",
       "\\hline\n",
       "\t albury                                & Murder *                              &   2                                   & 6233                                  & 0.1220219                             & 51081                                \\\\\n",
       "\t albury                                & Attempted murder                      &   1                                   & 6233                                  & 0.1220219                             & 51081                                \\\\\n",
       "\t albury                                & Murder accessory, conspiracy          &   0                                   & 6233                                  & 0.1220219                             & 51081                                \\\\\n",
       "\t albury                                & Manslaughter *                        &   0                                   & 6233                                  & 0.1220219                             & 51081                                \\\\\n",
       "\t albury                                & Domestic violence related assault     & 284                                   & 6233                                  & 0.1220219                             & 51081                                \\\\\n",
       "\t albury                                & Non-domestic violence related assault & 296                                   & 6233                                  & 0.1220219                             & 51081                                \\\\\n",
       "\\end{tabular}\n"
      ],
      "text/markdown": [
       "\n",
       "| LGA | Offence | Crim_Count | crime_tot_per_lga | crime_rate_per_lga | pop_total |\n",
       "|---|---|---|---|---|---|\n",
       "| albury                                | Murder *                              |   2                                   | 6233                                  | 0.1220219                             | 51081                                 |\n",
       "| albury                                | Attempted murder                      |   1                                   | 6233                                  | 0.1220219                             | 51081                                 |\n",
       "| albury                                | Murder accessory, conspiracy          |   0                                   | 6233                                  | 0.1220219                             | 51081                                 |\n",
       "| albury                                | Manslaughter *                        |   0                                   | 6233                                  | 0.1220219                             | 51081                                 |\n",
       "| albury                                | Domestic violence related assault     | 284                                   | 6233                                  | 0.1220219                             | 51081                                 |\n",
       "| albury                                | Non-domestic violence related assault | 296                                   | 6233                                  | 0.1220219                             | 51081                                 |\n",
       "\n"
      ],
      "text/plain": [
       "  LGA    Offence                               Crim_Count crime_tot_per_lga\n",
       "1 albury Murder *                                2        6233             \n",
       "2 albury Attempted murder                        1        6233             \n",
       "3 albury Murder accessory, conspiracy            0        6233             \n",
       "4 albury Manslaughter *                          0        6233             \n",
       "5 albury Domestic violence related assault     284        6233             \n",
       "6 albury Non-domestic violence related assault 296        6233             \n",
       "  crime_rate_per_lga pop_total\n",
       "1 0.1220219          51081    \n",
       "2 0.1220219          51081    \n",
       "3 0.1220219          51081    \n",
       "4 0.1220219          51081    \n",
       "5 0.1220219          51081    \n",
       "6 0.1220219          51081    "
      ]
     },
     "metadata": {},
     "output_type": "display_data"
    },
    {
     "data": {
      "text/html": [
       "<table>\n",
       "<thead><tr><th scope=col>Age</th><th scope=col>Sex</th><th scope=col>Labour force status</th><th scope=col>LGA_2016</th><th scope=col>LGA</th><th scope=col>Census year</th><th scope=col>Value</th></tr></thead>\n",
       "<tbody>\n",
       "\t<tr><td>15 - 19                   </td><td>Males                     </td><td>Employed, worked full-time</td><td>10050                     </td><td>albury                    </td><td>2016                      </td><td>236                       </td></tr>\n",
       "\t<tr><td>15 - 19                   </td><td>Females                   </td><td>Employed, worked full-time</td><td>10050                     </td><td>albury                    </td><td>2016                      </td><td>113                       </td></tr>\n",
       "\t<tr><td>15 - 19                   </td><td>Persons                   </td><td>Employed, worked full-time</td><td>10050                     </td><td>albury                    </td><td>2016                      </td><td>348                       </td></tr>\n",
       "\t<tr><td>15 - 19                   </td><td>Males                     </td><td>Employed, worked full-time</td><td>10130                     </td><td>armidale regional         </td><td>2016                      </td><td>105                       </td></tr>\n",
       "\t<tr><td>15 - 19                   </td><td>Females                   </td><td>Employed, worked full-time</td><td>10130                     </td><td>armidale regional         </td><td>2016                      </td><td> 58                       </td></tr>\n",
       "\t<tr><td>15 - 19                   </td><td>Persons                   </td><td>Employed, worked full-time</td><td>10130                     </td><td>armidale regional         </td><td>2016                      </td><td>160                       </td></tr>\n",
       "</tbody>\n",
       "</table>\n"
      ],
      "text/latex": [
       "\\begin{tabular}{r|lllllll}\n",
       " Age & Sex & Labour force status & LGA\\_2016 & LGA & Census year & Value\\\\\n",
       "\\hline\n",
       "\t 15 - 19                    & Males                      & Employed, worked full-time & 10050                      & albury                     & 2016                       & 236                       \\\\\n",
       "\t 15 - 19                    & Females                    & Employed, worked full-time & 10050                      & albury                     & 2016                       & 113                       \\\\\n",
       "\t 15 - 19                    & Persons                    & Employed, worked full-time & 10050                      & albury                     & 2016                       & 348                       \\\\\n",
       "\t 15 - 19                    & Males                      & Employed, worked full-time & 10130                      & armidale regional          & 2016                       & 105                       \\\\\n",
       "\t 15 - 19                    & Females                    & Employed, worked full-time & 10130                      & armidale regional          & 2016                       &  58                       \\\\\n",
       "\t 15 - 19                    & Persons                    & Employed, worked full-time & 10130                      & armidale regional          & 2016                       & 160                       \\\\\n",
       "\\end{tabular}\n"
      ],
      "text/markdown": [
       "\n",
       "| Age | Sex | Labour force status | LGA_2016 | LGA | Census year | Value |\n",
       "|---|---|---|---|---|---|---|\n",
       "| 15 - 19                    | Males                      | Employed, worked full-time | 10050                      | albury                     | 2016                       | 236                        |\n",
       "| 15 - 19                    | Females                    | Employed, worked full-time | 10050                      | albury                     | 2016                       | 113                        |\n",
       "| 15 - 19                    | Persons                    | Employed, worked full-time | 10050                      | albury                     | 2016                       | 348                        |\n",
       "| 15 - 19                    | Males                      | Employed, worked full-time | 10130                      | armidale regional          | 2016                       | 105                        |\n",
       "| 15 - 19                    | Females                    | Employed, worked full-time | 10130                      | armidale regional          | 2016                       |  58                        |\n",
       "| 15 - 19                    | Persons                    | Employed, worked full-time | 10130                      | armidale regional          | 2016                       | 160                        |\n",
       "\n"
      ],
      "text/plain": [
       "  Age     Sex     Labour force status        LGA_2016 LGA              \n",
       "1 15 - 19 Males   Employed, worked full-time 10050    albury           \n",
       "2 15 - 19 Females Employed, worked full-time 10050    albury           \n",
       "3 15 - 19 Persons Employed, worked full-time 10050    albury           \n",
       "4 15 - 19 Males   Employed, worked full-time 10130    armidale regional\n",
       "5 15 - 19 Females Employed, worked full-time 10130    armidale regional\n",
       "6 15 - 19 Persons Employed, worked full-time 10130    armidale regional\n",
       "  Census year Value\n",
       "1 2016        236  \n",
       "2 2016        113  \n",
       "3 2016        348  \n",
       "4 2016        105  \n",
       "5 2016         58  \n",
       "6 2016        160  "
      ]
     },
     "metadata": {},
     "output_type": "display_data"
    }
   ],
   "source": [
    "head(input_data$crime)\n",
    "head(input_data$labour)"
   ]
  },
  {
   "cell_type": "code",
   "execution_count": 59,
   "metadata": {},
   "outputs": [
    {
     "name": "stderr",
     "output_type": "stream",
     "text": [
      "Joining, by = \"LGA\"\n"
     ]
    },
    {
     "data": {
      "text/html": [
       "<table>\n",
       "<thead><tr><th scope=col>LGA</th><th scope=col>Offence</th><th scope=col>Crim_Count</th><th scope=col>crime_tot_per_lga</th><th scope=col>crime_rate_per_lga</th><th scope=col>pop_total</th><th scope=col>Age</th><th scope=col>Sex</th><th scope=col>Labour force status</th><th scope=col>pop_count</th></tr></thead>\n",
       "<tbody>\n",
       "\t<tr><td>albury                    </td><td>Murder *                  </td><td>2                         </td><td>6233                      </td><td>0.1220219                 </td><td>51081                     </td><td>15 - 19                   </td><td>Males                     </td><td>Employed, worked full-time</td><td> 236                      </td></tr>\n",
       "\t<tr><td>albury                    </td><td>Murder *                  </td><td>2                         </td><td>6233                      </td><td>0.1220219                 </td><td>51081                     </td><td>15 - 19                   </td><td>Females                   </td><td>Employed, worked full-time</td><td> 113                      </td></tr>\n",
       "\t<tr><td>albury                    </td><td>Murder *                  </td><td>2                         </td><td>6233                      </td><td>0.1220219                 </td><td>51081                     </td><td>15 - 19                   </td><td>Persons                   </td><td>Employed, worked full-time</td><td> 348                      </td></tr>\n",
       "\t<tr><td>albury                    </td><td>Murder *                  </td><td>2                         </td><td>6233                      </td><td>0.1220219                 </td><td>51081                     </td><td>15 - 19                   </td><td>Males                     </td><td>Employed, worked part-time</td><td> 431                      </td></tr>\n",
       "\t<tr><td>albury                    </td><td>Murder *                  </td><td>2                         </td><td>6233                      </td><td>0.1220219                 </td><td>51081                     </td><td>15 - 19                   </td><td>Females                   </td><td>Employed, worked part-time</td><td> 641                      </td></tr>\n",
       "\t<tr><td>albury                    </td><td>Murder *                  </td><td>2                         </td><td>6233                      </td><td>0.1220219                 </td><td>51081                     </td><td>15 - 19                   </td><td>Persons                   </td><td>Employed, worked part-time</td><td>1074                      </td></tr>\n",
       "</tbody>\n",
       "</table>\n"
      ],
      "text/latex": [
       "\\begin{tabular}{r|llllllllll}\n",
       " LGA & Offence & Crim\\_Count & crime\\_tot\\_per\\_lga & crime\\_rate\\_per\\_lga & pop\\_total & Age & Sex & Labour force status & pop\\_count\\\\\n",
       "\\hline\n",
       "\t albury                     & Murder *                   & 2                          & 6233                       & 0.1220219                  & 51081                      & 15 - 19                    & Males                      & Employed, worked full-time &  236                      \\\\\n",
       "\t albury                     & Murder *                   & 2                          & 6233                       & 0.1220219                  & 51081                      & 15 - 19                    & Females                    & Employed, worked full-time &  113                      \\\\\n",
       "\t albury                     & Murder *                   & 2                          & 6233                       & 0.1220219                  & 51081                      & 15 - 19                    & Persons                    & Employed, worked full-time &  348                      \\\\\n",
       "\t albury                     & Murder *                   & 2                          & 6233                       & 0.1220219                  & 51081                      & 15 - 19                    & Males                      & Employed, worked part-time &  431                      \\\\\n",
       "\t albury                     & Murder *                   & 2                          & 6233                       & 0.1220219                  & 51081                      & 15 - 19                    & Females                    & Employed, worked part-time &  641                      \\\\\n",
       "\t albury                     & Murder *                   & 2                          & 6233                       & 0.1220219                  & 51081                      & 15 - 19                    & Persons                    & Employed, worked part-time & 1074                      \\\\\n",
       "\\end{tabular}\n"
      ],
      "text/markdown": [
       "\n",
       "| LGA | Offence | Crim_Count | crime_tot_per_lga | crime_rate_per_lga | pop_total | Age | Sex | Labour force status | pop_count |\n",
       "|---|---|---|---|---|---|---|---|---|---|\n",
       "| albury                     | Murder *                   | 2                          | 6233                       | 0.1220219                  | 51081                      | 15 - 19                    | Males                      | Employed, worked full-time |  236                       |\n",
       "| albury                     | Murder *                   | 2                          | 6233                       | 0.1220219                  | 51081                      | 15 - 19                    | Females                    | Employed, worked full-time |  113                       |\n",
       "| albury                     | Murder *                   | 2                          | 6233                       | 0.1220219                  | 51081                      | 15 - 19                    | Persons                    | Employed, worked full-time |  348                       |\n",
       "| albury                     | Murder *                   | 2                          | 6233                       | 0.1220219                  | 51081                      | 15 - 19                    | Males                      | Employed, worked part-time |  431                       |\n",
       "| albury                     | Murder *                   | 2                          | 6233                       | 0.1220219                  | 51081                      | 15 - 19                    | Females                    | Employed, worked part-time |  641                       |\n",
       "| albury                     | Murder *                   | 2                          | 6233                       | 0.1220219                  | 51081                      | 15 - 19                    | Persons                    | Employed, worked part-time | 1074                       |\n",
       "\n"
      ],
      "text/plain": [
       "  LGA    Offence  Crim_Count crime_tot_per_lga crime_rate_per_lga pop_total\n",
       "1 albury Murder * 2          6233              0.1220219          51081    \n",
       "2 albury Murder * 2          6233              0.1220219          51081    \n",
       "3 albury Murder * 2          6233              0.1220219          51081    \n",
       "4 albury Murder * 2          6233              0.1220219          51081    \n",
       "5 albury Murder * 2          6233              0.1220219          51081    \n",
       "6 albury Murder * 2          6233              0.1220219          51081    \n",
       "  Age     Sex     Labour force status        pop_count\n",
       "1 15 - 19 Males   Employed, worked full-time  236     \n",
       "2 15 - 19 Females Employed, worked full-time  113     \n",
       "3 15 - 19 Persons Employed, worked full-time  348     \n",
       "4 15 - 19 Males   Employed, worked part-time  431     \n",
       "5 15 - 19 Females Employed, worked part-time  641     \n",
       "6 15 - 19 Persons Employed, worked part-time 1074     "
      ]
     },
     "metadata": {},
     "output_type": "display_data"
    },
    {
     "name": "stdout",
     "output_type": "stream",
     "text": [
      "Observations: 2,511,310\n",
      "Variables: 10\n",
      "$ LGA                   \u001b[3m\u001b[90m<chr>\u001b[39m\u001b[23m \"albury\", \"albury\", \"albury\", \"albury\", \"albu...\n",
      "$ Offence               \u001b[3m\u001b[90m<fct>\u001b[39m\u001b[23m Murder *, Murder *, Murder *, Murder *, Murde...\n",
      "$ Crim_Count            \u001b[3m\u001b[90m<int>\u001b[39m\u001b[23m 2, 2, 2, 2, 2, 2, 2, 2, 2, 2, 2, 2, 2, 2, 2, ...\n",
      "$ crime_tot_per_lga     \u001b[3m\u001b[90m<int>\u001b[39m\u001b[23m 6233, 6233, 6233, 6233, 6233, 6233, 6233, 623...\n",
      "$ crime_rate_per_lga    \u001b[3m\u001b[90m<dbl>\u001b[39m\u001b[23m 0.1220219, 0.1220219, 0.1220219, 0.1220219, 0...\n",
      "$ pop_total             \u001b[3m\u001b[90m<int>\u001b[39m\u001b[23m 51081, 51081, 51081, 51081, 51081, 51081, 510...\n",
      "$ Age                   \u001b[3m\u001b[90m<fct>\u001b[39m\u001b[23m 15 - 19, 15 - 19, 15 - 19, 15 - 19, 15 - 19, ...\n",
      "$ Sex                   \u001b[3m\u001b[90m<fct>\u001b[39m\u001b[23m Males, Females, Persons, Males, Females, Pers...\n",
      "$ `Labour force status` \u001b[3m\u001b[90m<fct>\u001b[39m\u001b[23m \"Employed, worked full-time\", \"Employed, work...\n",
      "$ pop_count             \u001b[3m\u001b[90m<int>\u001b[39m\u001b[23m 236, 113, 348, 431, 641, 1074, 27, 26, 59, 22...\n"
     ]
    }
   ],
   "source": [
    "joined <- input_data$crime %>%\n",
    "    left_join(input_data$labour %>% select(-LGA_2016, -`Census year`)) %>%\n",
    "    rename(pop_count = Value)\n",
    "\n",
    "head(joined)\n",
    "glimpse(joined)"
   ]
  },
  {
   "cell_type": "code",
   "execution_count": 60,
   "metadata": {},
   "outputs": [],
   "source": [
    "out_filename = \"joined_crime_labour.csv\"\n",
    "write.csv(joined, paste(output_path, out_filename, sep = \"/\"), row.names = FALSE)"
   ]
  },
  {
   "cell_type": "markdown",
   "metadata": {},
   "source": [
    "# Joining `crime` and `industry_employment`"
   ]
  },
  {
   "cell_type": "code",
   "execution_count": 61,
   "metadata": {},
   "outputs": [
    {
     "data": {
      "text/html": [
       "<table>\n",
       "<thead><tr><th scope=col>LGA</th><th scope=col>Offence</th><th scope=col>Crim_Count</th><th scope=col>crime_tot_per_lga</th><th scope=col>crime_rate_per_lga</th><th scope=col>pop_total</th></tr></thead>\n",
       "<tbody>\n",
       "\t<tr><td>albury                               </td><td>Murder *                             </td><td>  2                                  </td><td>6233                                 </td><td>0.1220219                            </td><td>51081                                </td></tr>\n",
       "\t<tr><td>albury                               </td><td>Attempted murder                     </td><td>  1                                  </td><td>6233                                 </td><td>0.1220219                            </td><td>51081                                </td></tr>\n",
       "\t<tr><td>albury                               </td><td>Murder accessory, conspiracy         </td><td>  0                                  </td><td>6233                                 </td><td>0.1220219                            </td><td>51081                                </td></tr>\n",
       "\t<tr><td>albury                               </td><td>Manslaughter *                       </td><td>  0                                  </td><td>6233                                 </td><td>0.1220219                            </td><td>51081                                </td></tr>\n",
       "\t<tr><td>albury                               </td><td>Domestic violence related assault    </td><td>284                                  </td><td>6233                                 </td><td>0.1220219                            </td><td>51081                                </td></tr>\n",
       "\t<tr><td>albury                               </td><td>Non-domestic violence related assault</td><td>296                                  </td><td>6233                                 </td><td>0.1220219                            </td><td>51081                                </td></tr>\n",
       "</tbody>\n",
       "</table>\n"
      ],
      "text/latex": [
       "\\begin{tabular}{r|llllll}\n",
       " LGA & Offence & Crim\\_Count & crime\\_tot\\_per\\_lga & crime\\_rate\\_per\\_lga & pop\\_total\\\\\n",
       "\\hline\n",
       "\t albury                                & Murder *                              &   2                                   & 6233                                  & 0.1220219                             & 51081                                \\\\\n",
       "\t albury                                & Attempted murder                      &   1                                   & 6233                                  & 0.1220219                             & 51081                                \\\\\n",
       "\t albury                                & Murder accessory, conspiracy          &   0                                   & 6233                                  & 0.1220219                             & 51081                                \\\\\n",
       "\t albury                                & Manslaughter *                        &   0                                   & 6233                                  & 0.1220219                             & 51081                                \\\\\n",
       "\t albury                                & Domestic violence related assault     & 284                                   & 6233                                  & 0.1220219                             & 51081                                \\\\\n",
       "\t albury                                & Non-domestic violence related assault & 296                                   & 6233                                  & 0.1220219                             & 51081                                \\\\\n",
       "\\end{tabular}\n"
      ],
      "text/markdown": [
       "\n",
       "| LGA | Offence | Crim_Count | crime_tot_per_lga | crime_rate_per_lga | pop_total |\n",
       "|---|---|---|---|---|---|\n",
       "| albury                                | Murder *                              |   2                                   | 6233                                  | 0.1220219                             | 51081                                 |\n",
       "| albury                                | Attempted murder                      |   1                                   | 6233                                  | 0.1220219                             | 51081                                 |\n",
       "| albury                                | Murder accessory, conspiracy          |   0                                   | 6233                                  | 0.1220219                             | 51081                                 |\n",
       "| albury                                | Manslaughter *                        |   0                                   | 6233                                  | 0.1220219                             | 51081                                 |\n",
       "| albury                                | Domestic violence related assault     | 284                                   | 6233                                  | 0.1220219                             | 51081                                 |\n",
       "| albury                                | Non-domestic violence related assault | 296                                   | 6233                                  | 0.1220219                             | 51081                                 |\n",
       "\n"
      ],
      "text/plain": [
       "  LGA    Offence                               Crim_Count crime_tot_per_lga\n",
       "1 albury Murder *                                2        6233             \n",
       "2 albury Attempted murder                        1        6233             \n",
       "3 albury Murder accessory, conspiracy            0        6233             \n",
       "4 albury Manslaughter *                          0        6233             \n",
       "5 albury Domestic violence related assault     284        6233             \n",
       "6 albury Non-domestic violence related assault 296        6233             \n",
       "  crime_rate_per_lga pop_total\n",
       "1 0.1220219          51081    \n",
       "2 0.1220219          51081    \n",
       "3 0.1220219          51081    \n",
       "4 0.1220219          51081    \n",
       "5 0.1220219          51081    \n",
       "6 0.1220219          51081    "
      ]
     },
     "metadata": {},
     "output_type": "display_data"
    },
    {
     "data": {
      "text/html": [
       "<table>\n",
       "<thead><tr><th scope=col>X1</th><th scope=col>LGA</th><th scope=col>Pop_Dens_km2</th></tr></thead>\n",
       "<tbody>\n",
       "\t<tr><td>1                </td><td>albury           </td><td>170.5            </td></tr>\n",
       "\t<tr><td>2                </td><td>armidale regional</td><td>  3.5            </td></tr>\n",
       "\t<tr><td>3                </td><td>ballina          </td><td> 88.7            </td></tr>\n",
       "\t<tr><td>4                </td><td>balranald        </td><td>  0.1            </td></tr>\n",
       "\t<tr><td>5                </td><td>bathurst regional</td><td> 11.1            </td></tr>\n",
       "\t<tr><td>6                </td><td>bega valley      </td><td>  5.4            </td></tr>\n",
       "</tbody>\n",
       "</table>\n"
      ],
      "text/latex": [
       "\\begin{tabular}{r|lll}\n",
       " X1 & LGA & Pop\\_Dens\\_km2\\\\\n",
       "\\hline\n",
       "\t 1                 & albury            & 170.5            \\\\\n",
       "\t 2                 & armidale regional &   3.5            \\\\\n",
       "\t 3                 & ballina           &  88.7            \\\\\n",
       "\t 4                 & balranald         &   0.1            \\\\\n",
       "\t 5                 & bathurst regional &  11.1            \\\\\n",
       "\t 6                 & bega valley       &   5.4            \\\\\n",
       "\\end{tabular}\n"
      ],
      "text/markdown": [
       "\n",
       "| X1 | LGA | Pop_Dens_km2 |\n",
       "|---|---|---|\n",
       "| 1                 | albury            | 170.5             |\n",
       "| 2                 | armidale regional |   3.5             |\n",
       "| 3                 | ballina           |  88.7             |\n",
       "| 4                 | balranald         |   0.1             |\n",
       "| 5                 | bathurst regional |  11.1             |\n",
       "| 6                 | bega valley       |   5.4             |\n",
       "\n"
      ],
      "text/plain": [
       "  X1 LGA               Pop_Dens_km2\n",
       "1 1  albury            170.5       \n",
       "2 2  armidale regional   3.5       \n",
       "3 3  ballina            88.7       \n",
       "4 4  balranald           0.1       \n",
       "5 5  bathurst regional  11.1       \n",
       "6 6  bega valley         5.4       "
      ]
     },
     "metadata": {},
     "output_type": "display_data"
    }
   ],
   "source": [
    "head(input_data$crime)\n",
    "head(input_data$pop_dens)"
   ]
  },
  {
   "cell_type": "code",
   "execution_count": 62,
   "metadata": {},
   "outputs": [
    {
     "name": "stderr",
     "output_type": "stream",
     "text": [
      "Joining, by = \"LGA\"\n"
     ]
    },
    {
     "data": {
      "text/html": [
       "<table>\n",
       "<thead><tr><th scope=col>LGA</th><th scope=col>Offence</th><th scope=col>Crim_Count</th><th scope=col>crime_tot_per_lga</th><th scope=col>crime_rate_per_lga</th><th scope=col>pop_total</th><th scope=col>Pop_Dens_km2</th></tr></thead>\n",
       "<tbody>\n",
       "\t<tr><td>albury                               </td><td>Murder *                             </td><td>  2                                  </td><td>6233                                 </td><td>0.1220219                            </td><td>51081                                </td><td>170.5                                </td></tr>\n",
       "\t<tr><td>albury                               </td><td>Attempted murder                     </td><td>  1                                  </td><td>6233                                 </td><td>0.1220219                            </td><td>51081                                </td><td>170.5                                </td></tr>\n",
       "\t<tr><td>albury                               </td><td>Murder accessory, conspiracy         </td><td>  0                                  </td><td>6233                                 </td><td>0.1220219                            </td><td>51081                                </td><td>170.5                                </td></tr>\n",
       "\t<tr><td>albury                               </td><td>Manslaughter *                       </td><td>  0                                  </td><td>6233                                 </td><td>0.1220219                            </td><td>51081                                </td><td>170.5                                </td></tr>\n",
       "\t<tr><td>albury                               </td><td>Domestic violence related assault    </td><td>284                                  </td><td>6233                                 </td><td>0.1220219                            </td><td>51081                                </td><td>170.5                                </td></tr>\n",
       "\t<tr><td>albury                               </td><td>Non-domestic violence related assault</td><td>296                                  </td><td>6233                                 </td><td>0.1220219                            </td><td>51081                                </td><td>170.5                                </td></tr>\n",
       "</tbody>\n",
       "</table>\n"
      ],
      "text/latex": [
       "\\begin{tabular}{r|lllllll}\n",
       " LGA & Offence & Crim\\_Count & crime\\_tot\\_per\\_lga & crime\\_rate\\_per\\_lga & pop\\_total & Pop\\_Dens\\_km2\\\\\n",
       "\\hline\n",
       "\t albury                                & Murder *                              &   2                                   & 6233                                  & 0.1220219                             & 51081                                 & 170.5                                \\\\\n",
       "\t albury                                & Attempted murder                      &   1                                   & 6233                                  & 0.1220219                             & 51081                                 & 170.5                                \\\\\n",
       "\t albury                                & Murder accessory, conspiracy          &   0                                   & 6233                                  & 0.1220219                             & 51081                                 & 170.5                                \\\\\n",
       "\t albury                                & Manslaughter *                        &   0                                   & 6233                                  & 0.1220219                             & 51081                                 & 170.5                                \\\\\n",
       "\t albury                                & Domestic violence related assault     & 284                                   & 6233                                  & 0.1220219                             & 51081                                 & 170.5                                \\\\\n",
       "\t albury                                & Non-domestic violence related assault & 296                                   & 6233                                  & 0.1220219                             & 51081                                 & 170.5                                \\\\\n",
       "\\end{tabular}\n"
      ],
      "text/markdown": [
       "\n",
       "| LGA | Offence | Crim_Count | crime_tot_per_lga | crime_rate_per_lga | pop_total | Pop_Dens_km2 |\n",
       "|---|---|---|---|---|---|---|\n",
       "| albury                                | Murder *                              |   2                                   | 6233                                  | 0.1220219                             | 51081                                 | 170.5                                 |\n",
       "| albury                                | Attempted murder                      |   1                                   | 6233                                  | 0.1220219                             | 51081                                 | 170.5                                 |\n",
       "| albury                                | Murder accessory, conspiracy          |   0                                   | 6233                                  | 0.1220219                             | 51081                                 | 170.5                                 |\n",
       "| albury                                | Manslaughter *                        |   0                                   | 6233                                  | 0.1220219                             | 51081                                 | 170.5                                 |\n",
       "| albury                                | Domestic violence related assault     | 284                                   | 6233                                  | 0.1220219                             | 51081                                 | 170.5                                 |\n",
       "| albury                                | Non-domestic violence related assault | 296                                   | 6233                                  | 0.1220219                             | 51081                                 | 170.5                                 |\n",
       "\n"
      ],
      "text/plain": [
       "  LGA    Offence                               Crim_Count crime_tot_per_lga\n",
       "1 albury Murder *                                2        6233             \n",
       "2 albury Attempted murder                        1        6233             \n",
       "3 albury Murder accessory, conspiracy            0        6233             \n",
       "4 albury Manslaughter *                          0        6233             \n",
       "5 albury Domestic violence related assault     284        6233             \n",
       "6 albury Non-domestic violence related assault 296        6233             \n",
       "  crime_rate_per_lga pop_total Pop_Dens_km2\n",
       "1 0.1220219          51081     170.5       \n",
       "2 0.1220219          51081     170.5       \n",
       "3 0.1220219          51081     170.5       \n",
       "4 0.1220219          51081     170.5       \n",
       "5 0.1220219          51081     170.5       \n",
       "6 0.1220219          51081     170.5       "
      ]
     },
     "metadata": {},
     "output_type": "display_data"
    },
    {
     "name": "stdout",
     "output_type": "stream",
     "text": [
      "Observations: 8,060\n",
      "Variables: 7\n",
      "$ LGA                \u001b[3m\u001b[90m<chr>\u001b[39m\u001b[23m \"albury\", \"albury\", \"albury\", \"albury\", \"albury\"...\n",
      "$ Offence            \u001b[3m\u001b[90m<fct>\u001b[39m\u001b[23m \"Murder *\", \"Attempted murder\", \"Murder accessor...\n",
      "$ Crim_Count         \u001b[3m\u001b[90m<int>\u001b[39m\u001b[23m 2, 1, 0, 0, 284, 296, 25, 47, 68, 2, 12, 3, 6, 0...\n",
      "$ crime_tot_per_lga  \u001b[3m\u001b[90m<int>\u001b[39m\u001b[23m 6233, 6233, 6233, 6233, 6233, 6233, 6233, 6233, ...\n",
      "$ crime_rate_per_lga \u001b[3m\u001b[90m<dbl>\u001b[39m\u001b[23m 0.1220219, 0.1220219, 0.1220219, 0.1220219, 0.12...\n",
      "$ pop_total          \u001b[3m\u001b[90m<int>\u001b[39m\u001b[23m 51081, 51081, 51081, 51081, 51081, 51081, 51081,...\n",
      "$ Pop_Dens_km2       \u001b[3m\u001b[90m<dbl>\u001b[39m\u001b[23m 170.5, 170.5, 170.5, 170.5, 170.5, 170.5, 170.5,...\n"
     ]
    }
   ],
   "source": [
    "joined <- input_data$crime %>%\n",
    "    left_join(input_data$pop_dens %>% select(-X1))\n",
    "\n",
    "head(joined)\n",
    "glimpse(joined)"
   ]
  },
  {
   "cell_type": "code",
   "execution_count": 63,
   "metadata": {},
   "outputs": [],
   "source": [
    "out_filename = \"joined_crime_popdensity.csv\"\n",
    "write.csv(joined, paste(output_path, out_filename, sep = \"/\"), row.names = FALSE)"
   ]
  },
  {
   "cell_type": "markdown",
   "metadata": {},
   "source": [
    "# Joining `crime` and `seifa`"
   ]
  },
  {
   "cell_type": "code",
   "execution_count": 64,
   "metadata": {},
   "outputs": [
    {
     "data": {
      "text/html": [
       "<table>\n",
       "<thead><tr><th scope=col>LGA</th><th scope=col>Offence</th><th scope=col>Crim_Count</th><th scope=col>crime_tot_per_lga</th><th scope=col>crime_rate_per_lga</th><th scope=col>pop_total</th></tr></thead>\n",
       "<tbody>\n",
       "\t<tr><td>albury                               </td><td>Murder *                             </td><td>  2                                  </td><td>6233                                 </td><td>0.1220219                            </td><td>51081                                </td></tr>\n",
       "\t<tr><td>albury                               </td><td>Attempted murder                     </td><td>  1                                  </td><td>6233                                 </td><td>0.1220219                            </td><td>51081                                </td></tr>\n",
       "\t<tr><td>albury                               </td><td>Murder accessory, conspiracy         </td><td>  0                                  </td><td>6233                                 </td><td>0.1220219                            </td><td>51081                                </td></tr>\n",
       "\t<tr><td>albury                               </td><td>Manslaughter *                       </td><td>  0                                  </td><td>6233                                 </td><td>0.1220219                            </td><td>51081                                </td></tr>\n",
       "\t<tr><td>albury                               </td><td>Domestic violence related assault    </td><td>284                                  </td><td>6233                                 </td><td>0.1220219                            </td><td>51081                                </td></tr>\n",
       "\t<tr><td>albury                               </td><td>Non-domestic violence related assault</td><td>296                                  </td><td>6233                                 </td><td>0.1220219                            </td><td>51081                                </td></tr>\n",
       "</tbody>\n",
       "</table>\n"
      ],
      "text/latex": [
       "\\begin{tabular}{r|llllll}\n",
       " LGA & Offence & Crim\\_Count & crime\\_tot\\_per\\_lga & crime\\_rate\\_per\\_lga & pop\\_total\\\\\n",
       "\\hline\n",
       "\t albury                                & Murder *                              &   2                                   & 6233                                  & 0.1220219                             & 51081                                \\\\\n",
       "\t albury                                & Attempted murder                      &   1                                   & 6233                                  & 0.1220219                             & 51081                                \\\\\n",
       "\t albury                                & Murder accessory, conspiracy          &   0                                   & 6233                                  & 0.1220219                             & 51081                                \\\\\n",
       "\t albury                                & Manslaughter *                        &   0                                   & 6233                                  & 0.1220219                             & 51081                                \\\\\n",
       "\t albury                                & Domestic violence related assault     & 284                                   & 6233                                  & 0.1220219                             & 51081                                \\\\\n",
       "\t albury                                & Non-domestic violence related assault & 296                                   & 6233                                  & 0.1220219                             & 51081                                \\\\\n",
       "\\end{tabular}\n"
      ],
      "text/markdown": [
       "\n",
       "| LGA | Offence | Crim_Count | crime_tot_per_lga | crime_rate_per_lga | pop_total |\n",
       "|---|---|---|---|---|---|\n",
       "| albury                                | Murder *                              |   2                                   | 6233                                  | 0.1220219                             | 51081                                 |\n",
       "| albury                                | Attempted murder                      |   1                                   | 6233                                  | 0.1220219                             | 51081                                 |\n",
       "| albury                                | Murder accessory, conspiracy          |   0                                   | 6233                                  | 0.1220219                             | 51081                                 |\n",
       "| albury                                | Manslaughter *                        |   0                                   | 6233                                  | 0.1220219                             | 51081                                 |\n",
       "| albury                                | Domestic violence related assault     | 284                                   | 6233                                  | 0.1220219                             | 51081                                 |\n",
       "| albury                                | Non-domestic violence related assault | 296                                   | 6233                                  | 0.1220219                             | 51081                                 |\n",
       "\n"
      ],
      "text/plain": [
       "  LGA    Offence                               Crim_Count crime_tot_per_lga\n",
       "1 albury Murder *                                2        6233             \n",
       "2 albury Attempted murder                        1        6233             \n",
       "3 albury Murder accessory, conspiracy            0        6233             \n",
       "4 albury Manslaughter *                          0        6233             \n",
       "5 albury Domestic violence related assault     284        6233             \n",
       "6 albury Non-domestic violence related assault 296        6233             \n",
       "  crime_rate_per_lga pop_total\n",
       "1 0.1220219          51081    \n",
       "2 0.1220219          51081    \n",
       "3 0.1220219          51081    \n",
       "4 0.1220219          51081    \n",
       "5 0.1220219          51081    \n",
       "6 0.1220219          51081    "
      ]
     },
     "metadata": {},
     "output_type": "display_data"
    },
    {
     "data": {
      "text/html": [
       "<table>\n",
       "<thead><tr><th scope=col>X1</th><th scope=col>LGA</th><th scope=col>Value</th></tr></thead>\n",
       "<tbody>\n",
       "\t<tr><td>1                </td><td>albury           </td><td>964              </td></tr>\n",
       "\t<tr><td>2                </td><td>armidale dumaresq</td><td>954              </td></tr>\n",
       "\t<tr><td>3                </td><td>ashfield         </td><td>962              </td></tr>\n",
       "\t<tr><td>4                </td><td>auburn           </td><td>931              </td></tr>\n",
       "\t<tr><td>5                </td><td>ballina          </td><td>986              </td></tr>\n",
       "\t<tr><td>6                </td><td>balranald        </td><td>969              </td></tr>\n",
       "</tbody>\n",
       "</table>\n"
      ],
      "text/latex": [
       "\\begin{tabular}{r|lll}\n",
       " X1 & LGA & Value\\\\\n",
       "\\hline\n",
       "\t 1                 & albury            & 964              \\\\\n",
       "\t 2                 & armidale dumaresq & 954              \\\\\n",
       "\t 3                 & ashfield          & 962              \\\\\n",
       "\t 4                 & auburn            & 931              \\\\\n",
       "\t 5                 & ballina           & 986              \\\\\n",
       "\t 6                 & balranald         & 969              \\\\\n",
       "\\end{tabular}\n"
      ],
      "text/markdown": [
       "\n",
       "| X1 | LGA | Value |\n",
       "|---|---|---|\n",
       "| 1                 | albury            | 964               |\n",
       "| 2                 | armidale dumaresq | 954               |\n",
       "| 3                 | ashfield          | 962               |\n",
       "| 4                 | auburn            | 931               |\n",
       "| 5                 | ballina           | 986               |\n",
       "| 6                 | balranald         | 969               |\n",
       "\n"
      ],
      "text/plain": [
       "  X1 LGA               Value\n",
       "1 1  albury            964  \n",
       "2 2  armidale dumaresq 954  \n",
       "3 3  ashfield          962  \n",
       "4 4  auburn            931  \n",
       "5 5  ballina           986  \n",
       "6 6  balranald         969  "
      ]
     },
     "metadata": {},
     "output_type": "display_data"
    }
   ],
   "source": [
    "head(input_data$crime)\n",
    "head(input_data$seifa)"
   ]
  },
  {
   "cell_type": "code",
   "execution_count": 65,
   "metadata": {},
   "outputs": [
    {
     "name": "stderr",
     "output_type": "stream",
     "text": [
      "Joining, by = \"LGA\"\n"
     ]
    },
    {
     "data": {
      "text/html": [
       "<table>\n",
       "<thead><tr><th scope=col>LGA</th><th scope=col>Offence</th><th scope=col>Crim_Count</th><th scope=col>crime_tot_per_lga</th><th scope=col>crime_rate_per_lga</th><th scope=col>pop_total</th><th scope=col>seifa</th></tr></thead>\n",
       "<tbody>\n",
       "\t<tr><td>albury                               </td><td>Murder *                             </td><td>  2                                  </td><td>6233                                 </td><td>0.1220219                            </td><td>51081                                </td><td>964                                  </td></tr>\n",
       "\t<tr><td>albury                               </td><td>Attempted murder                     </td><td>  1                                  </td><td>6233                                 </td><td>0.1220219                            </td><td>51081                                </td><td>964                                  </td></tr>\n",
       "\t<tr><td>albury                               </td><td>Murder accessory, conspiracy         </td><td>  0                                  </td><td>6233                                 </td><td>0.1220219                            </td><td>51081                                </td><td>964                                  </td></tr>\n",
       "\t<tr><td>albury                               </td><td>Manslaughter *                       </td><td>  0                                  </td><td>6233                                 </td><td>0.1220219                            </td><td>51081                                </td><td>964                                  </td></tr>\n",
       "\t<tr><td>albury                               </td><td>Domestic violence related assault    </td><td>284                                  </td><td>6233                                 </td><td>0.1220219                            </td><td>51081                                </td><td>964                                  </td></tr>\n",
       "\t<tr><td>albury                               </td><td>Non-domestic violence related assault</td><td>296                                  </td><td>6233                                 </td><td>0.1220219                            </td><td>51081                                </td><td>964                                  </td></tr>\n",
       "</tbody>\n",
       "</table>\n"
      ],
      "text/latex": [
       "\\begin{tabular}{r|lllllll}\n",
       " LGA & Offence & Crim\\_Count & crime\\_tot\\_per\\_lga & crime\\_rate\\_per\\_lga & pop\\_total & seifa\\\\\n",
       "\\hline\n",
       "\t albury                                & Murder *                              &   2                                   & 6233                                  & 0.1220219                             & 51081                                 & 964                                  \\\\\n",
       "\t albury                                & Attempted murder                      &   1                                   & 6233                                  & 0.1220219                             & 51081                                 & 964                                  \\\\\n",
       "\t albury                                & Murder accessory, conspiracy          &   0                                   & 6233                                  & 0.1220219                             & 51081                                 & 964                                  \\\\\n",
       "\t albury                                & Manslaughter *                        &   0                                   & 6233                                  & 0.1220219                             & 51081                                 & 964                                  \\\\\n",
       "\t albury                                & Domestic violence related assault     & 284                                   & 6233                                  & 0.1220219                             & 51081                                 & 964                                  \\\\\n",
       "\t albury                                & Non-domestic violence related assault & 296                                   & 6233                                  & 0.1220219                             & 51081                                 & 964                                  \\\\\n",
       "\\end{tabular}\n"
      ],
      "text/markdown": [
       "\n",
       "| LGA | Offence | Crim_Count | crime_tot_per_lga | crime_rate_per_lga | pop_total | seifa |\n",
       "|---|---|---|---|---|---|---|\n",
       "| albury                                | Murder *                              |   2                                   | 6233                                  | 0.1220219                             | 51081                                 | 964                                   |\n",
       "| albury                                | Attempted murder                      |   1                                   | 6233                                  | 0.1220219                             | 51081                                 | 964                                   |\n",
       "| albury                                | Murder accessory, conspiracy          |   0                                   | 6233                                  | 0.1220219                             | 51081                                 | 964                                   |\n",
       "| albury                                | Manslaughter *                        |   0                                   | 6233                                  | 0.1220219                             | 51081                                 | 964                                   |\n",
       "| albury                                | Domestic violence related assault     | 284                                   | 6233                                  | 0.1220219                             | 51081                                 | 964                                   |\n",
       "| albury                                | Non-domestic violence related assault | 296                                   | 6233                                  | 0.1220219                             | 51081                                 | 964                                   |\n",
       "\n"
      ],
      "text/plain": [
       "  LGA    Offence                               Crim_Count crime_tot_per_lga\n",
       "1 albury Murder *                                2        6233             \n",
       "2 albury Attempted murder                        1        6233             \n",
       "3 albury Murder accessory, conspiracy            0        6233             \n",
       "4 albury Manslaughter *                          0        6233             \n",
       "5 albury Domestic violence related assault     284        6233             \n",
       "6 albury Non-domestic violence related assault 296        6233             \n",
       "  crime_rate_per_lga pop_total seifa\n",
       "1 0.1220219          51081     964  \n",
       "2 0.1220219          51081     964  \n",
       "3 0.1220219          51081     964  \n",
       "4 0.1220219          51081     964  \n",
       "5 0.1220219          51081     964  \n",
       "6 0.1220219          51081     964  "
      ]
     },
     "metadata": {},
     "output_type": "display_data"
    },
    {
     "name": "stdout",
     "output_type": "stream",
     "text": [
      "Observations: 8,122\n",
      "Variables: 7\n",
      "$ LGA                \u001b[3m\u001b[90m<chr>\u001b[39m\u001b[23m \"albury\", \"albury\", \"albury\", \"albury\", \"albury\"...\n",
      "$ Offence            \u001b[3m\u001b[90m<fct>\u001b[39m\u001b[23m \"Murder *\", \"Attempted murder\", \"Murder accessor...\n",
      "$ Crim_Count         \u001b[3m\u001b[90m<int>\u001b[39m\u001b[23m 2, 1, 0, 0, 284, 296, 25, 47, 68, 2, 12, 3, 6, 0...\n",
      "$ crime_tot_per_lga  \u001b[3m\u001b[90m<int>\u001b[39m\u001b[23m 6233, 6233, 6233, 6233, 6233, 6233, 6233, 6233, ...\n",
      "$ crime_rate_per_lga \u001b[3m\u001b[90m<dbl>\u001b[39m\u001b[23m 0.1220219, 0.1220219, 0.1220219, 0.1220219, 0.12...\n",
      "$ pop_total          \u001b[3m\u001b[90m<int>\u001b[39m\u001b[23m 51081, 51081, 51081, 51081, 51081, 51081, 51081,...\n",
      "$ seifa              \u001b[3m\u001b[90m<int>\u001b[39m\u001b[23m 964, 964, 964, 964, 964, 964, 964, 964, 964, 964...\n"
     ]
    }
   ],
   "source": [
    "joined <- input_data$crime %>%\n",
    "    left_join(input_data$seifa %>% select(-X1)) %>%\n",
    "    rename(seifa = Value)\n",
    "\n",
    "head(joined)\n",
    "glimpse(joined)"
   ]
  },
  {
   "cell_type": "code",
   "execution_count": 66,
   "metadata": {},
   "outputs": [],
   "source": [
    "out_filename = \"joined_crime_seifa.csv\"\n",
    "write.csv(joined, paste(output_path, out_filename, sep = \"/\"), row.names = FALSE)"
   ]
  },
  {
   "cell_type": "markdown",
   "metadata": {},
   "source": [
    "# Joining `crime` and `transport`"
   ]
  },
  {
   "cell_type": "code",
   "execution_count": 67,
   "metadata": {},
   "outputs": [
    {
     "data": {
      "text/html": [
       "<table>\n",
       "<thead><tr><th scope=col>LGA</th><th scope=col>Offence</th><th scope=col>Crim_Count</th><th scope=col>crime_tot_per_lga</th><th scope=col>crime_rate_per_lga</th><th scope=col>pop_total</th></tr></thead>\n",
       "<tbody>\n",
       "\t<tr><td>albury                               </td><td>Murder *                             </td><td>  2                                  </td><td>6233                                 </td><td>0.1220219                            </td><td>51081                                </td></tr>\n",
       "\t<tr><td>albury                               </td><td>Attempted murder                     </td><td>  1                                  </td><td>6233                                 </td><td>0.1220219                            </td><td>51081                                </td></tr>\n",
       "\t<tr><td>albury                               </td><td>Murder accessory, conspiracy         </td><td>  0                                  </td><td>6233                                 </td><td>0.1220219                            </td><td>51081                                </td></tr>\n",
       "\t<tr><td>albury                               </td><td>Manslaughter *                       </td><td>  0                                  </td><td>6233                                 </td><td>0.1220219                            </td><td>51081                                </td></tr>\n",
       "\t<tr><td>albury                               </td><td>Domestic violence related assault    </td><td>284                                  </td><td>6233                                 </td><td>0.1220219                            </td><td>51081                                </td></tr>\n",
       "\t<tr><td>albury                               </td><td>Non-domestic violence related assault</td><td>296                                  </td><td>6233                                 </td><td>0.1220219                            </td><td>51081                                </td></tr>\n",
       "</tbody>\n",
       "</table>\n"
      ],
      "text/latex": [
       "\\begin{tabular}{r|llllll}\n",
       " LGA & Offence & Crim\\_Count & crime\\_tot\\_per\\_lga & crime\\_rate\\_per\\_lga & pop\\_total\\\\\n",
       "\\hline\n",
       "\t albury                                & Murder *                              &   2                                   & 6233                                  & 0.1220219                             & 51081                                \\\\\n",
       "\t albury                                & Attempted murder                      &   1                                   & 6233                                  & 0.1220219                             & 51081                                \\\\\n",
       "\t albury                                & Murder accessory, conspiracy          &   0                                   & 6233                                  & 0.1220219                             & 51081                                \\\\\n",
       "\t albury                                & Manslaughter *                        &   0                                   & 6233                                  & 0.1220219                             & 51081                                \\\\\n",
       "\t albury                                & Domestic violence related assault     & 284                                   & 6233                                  & 0.1220219                             & 51081                                \\\\\n",
       "\t albury                                & Non-domestic violence related assault & 296                                   & 6233                                  & 0.1220219                             & 51081                                \\\\\n",
       "\\end{tabular}\n"
      ],
      "text/markdown": [
       "\n",
       "| LGA | Offence | Crim_Count | crime_tot_per_lga | crime_rate_per_lga | pop_total |\n",
       "|---|---|---|---|---|---|\n",
       "| albury                                | Murder *                              |   2                                   | 6233                                  | 0.1220219                             | 51081                                 |\n",
       "| albury                                | Attempted murder                      |   1                                   | 6233                                  | 0.1220219                             | 51081                                 |\n",
       "| albury                                | Murder accessory, conspiracy          |   0                                   | 6233                                  | 0.1220219                             | 51081                                 |\n",
       "| albury                                | Manslaughter *                        |   0                                   | 6233                                  | 0.1220219                             | 51081                                 |\n",
       "| albury                                | Domestic violence related assault     | 284                                   | 6233                                  | 0.1220219                             | 51081                                 |\n",
       "| albury                                | Non-domestic violence related assault | 296                                   | 6233                                  | 0.1220219                             | 51081                                 |\n",
       "\n"
      ],
      "text/plain": [
       "  LGA    Offence                               Crim_Count crime_tot_per_lga\n",
       "1 albury Murder *                                2        6233             \n",
       "2 albury Attempted murder                        1        6233             \n",
       "3 albury Murder accessory, conspiracy            0        6233             \n",
       "4 albury Manslaughter *                          0        6233             \n",
       "5 albury Domestic violence related assault     284        6233             \n",
       "6 albury Non-domestic violence related assault 296        6233             \n",
       "  crime_rate_per_lga pop_total\n",
       "1 0.1220219          51081    \n",
       "2 0.1220219          51081    \n",
       "3 0.1220219          51081    \n",
       "4 0.1220219          51081    \n",
       "5 0.1220219          51081    \n",
       "6 0.1220219          51081    "
      ]
     },
     "metadata": {},
     "output_type": "display_data"
    },
    {
     "data": {
      "text/html": [
       "<table>\n",
       "<thead><tr><th scope=col>LGA</th><th scope=col>route_type</th><th scope=col>num_service</th></tr></thead>\n",
       "<tbody>\n",
       "\t<tr><td>albury           </td><td>106              </td><td> 131             </td></tr>\n",
       "\t<tr><td>albury           </td><td>204              </td><td>  14             </td></tr>\n",
       "\t<tr><td>albury           </td><td>700              </td><td>1624             </td></tr>\n",
       "\t<tr><td>armidale regional</td><td>106              </td><td>  62             </td></tr>\n",
       "\t<tr><td>armidale regional</td><td>204              </td><td>  10             </td></tr>\n",
       "\t<tr><td>armidale regional</td><td>700              </td><td> 113             </td></tr>\n",
       "</tbody>\n",
       "</table>\n"
      ],
      "text/latex": [
       "\\begin{tabular}{r|lll}\n",
       " LGA & route\\_type & num\\_service\\\\\n",
       "\\hline\n",
       "\t albury            & 106               &  131             \\\\\n",
       "\t albury            & 204               &   14             \\\\\n",
       "\t albury            & 700               & 1624             \\\\\n",
       "\t armidale regional & 106               &   62             \\\\\n",
       "\t armidale regional & 204               &   10             \\\\\n",
       "\t armidale regional & 700               &  113             \\\\\n",
       "\\end{tabular}\n"
      ],
      "text/markdown": [
       "\n",
       "| LGA | route_type | num_service |\n",
       "|---|---|---|\n",
       "| albury            | 106               |  131              |\n",
       "| albury            | 204               |   14              |\n",
       "| albury            | 700               | 1624              |\n",
       "| armidale regional | 106               |   62              |\n",
       "| armidale regional | 204               |   10              |\n",
       "| armidale regional | 700               |  113              |\n",
       "\n"
      ],
      "text/plain": [
       "  LGA               route_type num_service\n",
       "1 albury            106         131       \n",
       "2 albury            204          14       \n",
       "3 albury            700        1624       \n",
       "4 armidale regional 106          62       \n",
       "5 armidale regional 204          10       \n",
       "6 armidale regional 700         113       "
      ]
     },
     "metadata": {},
     "output_type": "display_data"
    }
   ],
   "source": [
    "head(input_data$crime)\n",
    "head(input_data$transport)"
   ]
  },
  {
   "cell_type": "code",
   "execution_count": 68,
   "metadata": {},
   "outputs": [
    {
     "name": "stderr",
     "output_type": "stream",
     "text": [
      "Joining, by = \"LGA\"\n"
     ]
    },
    {
     "data": {
      "text/html": [
       "<table>\n",
       "<thead><tr><th scope=col>LGA</th><th scope=col>Offence</th><th scope=col>Crim_Count</th><th scope=col>crime_tot_per_lga</th><th scope=col>crime_rate_per_lga</th><th scope=col>pop_total</th><th scope=col>route_type</th><th scope=col>num_service</th></tr></thead>\n",
       "<tbody>\n",
       "\t<tr><td>albury          </td><td>Murder *        </td><td>2               </td><td>6233            </td><td>0.1220219       </td><td>51081           </td><td>106             </td><td> 131            </td></tr>\n",
       "\t<tr><td>albury          </td><td>Murder *        </td><td>2               </td><td>6233            </td><td>0.1220219       </td><td>51081           </td><td>204             </td><td>  14            </td></tr>\n",
       "\t<tr><td>albury          </td><td>Murder *        </td><td>2               </td><td>6233            </td><td>0.1220219       </td><td>51081           </td><td>700             </td><td>1624            </td></tr>\n",
       "\t<tr><td>albury          </td><td>Attempted murder</td><td>1               </td><td>6233            </td><td>0.1220219       </td><td>51081           </td><td>106             </td><td> 131            </td></tr>\n",
       "\t<tr><td>albury          </td><td>Attempted murder</td><td>1               </td><td>6233            </td><td>0.1220219       </td><td>51081           </td><td>204             </td><td>  14            </td></tr>\n",
       "\t<tr><td>albury          </td><td>Attempted murder</td><td>1               </td><td>6233            </td><td>0.1220219       </td><td>51081           </td><td>700             </td><td>1624            </td></tr>\n",
       "</tbody>\n",
       "</table>\n"
      ],
      "text/latex": [
       "\\begin{tabular}{r|llllllll}\n",
       " LGA & Offence & Crim\\_Count & crime\\_tot\\_per\\_lga & crime\\_rate\\_per\\_lga & pop\\_total & route\\_type & num\\_service\\\\\n",
       "\\hline\n",
       "\t albury           & Murder *         & 2                & 6233             & 0.1220219        & 51081            & 106              &  131            \\\\\n",
       "\t albury           & Murder *         & 2                & 6233             & 0.1220219        & 51081            & 204              &   14            \\\\\n",
       "\t albury           & Murder *         & 2                & 6233             & 0.1220219        & 51081            & 700              & 1624            \\\\\n",
       "\t albury           & Attempted murder & 1                & 6233             & 0.1220219        & 51081            & 106              &  131            \\\\\n",
       "\t albury           & Attempted murder & 1                & 6233             & 0.1220219        & 51081            & 204              &   14            \\\\\n",
       "\t albury           & Attempted murder & 1                & 6233             & 0.1220219        & 51081            & 700              & 1624            \\\\\n",
       "\\end{tabular}\n"
      ],
      "text/markdown": [
       "\n",
       "| LGA | Offence | Crim_Count | crime_tot_per_lga | crime_rate_per_lga | pop_total | route_type | num_service |\n",
       "|---|---|---|---|---|---|---|---|\n",
       "| albury           | Murder *         | 2                | 6233             | 0.1220219        | 51081            | 106              |  131             |\n",
       "| albury           | Murder *         | 2                | 6233             | 0.1220219        | 51081            | 204              |   14             |\n",
       "| albury           | Murder *         | 2                | 6233             | 0.1220219        | 51081            | 700              | 1624             |\n",
       "| albury           | Attempted murder | 1                | 6233             | 0.1220219        | 51081            | 106              |  131             |\n",
       "| albury           | Attempted murder | 1                | 6233             | 0.1220219        | 51081            | 204              |   14             |\n",
       "| albury           | Attempted murder | 1                | 6233             | 0.1220219        | 51081            | 700              | 1624             |\n",
       "\n"
      ],
      "text/plain": [
       "  LGA    Offence          Crim_Count crime_tot_per_lga crime_rate_per_lga\n",
       "1 albury Murder *         2          6233              0.1220219         \n",
       "2 albury Murder *         2          6233              0.1220219         \n",
       "3 albury Murder *         2          6233              0.1220219         \n",
       "4 albury Attempted murder 1          6233              0.1220219         \n",
       "5 albury Attempted murder 1          6233              0.1220219         \n",
       "6 albury Attempted murder 1          6233              0.1220219         \n",
       "  pop_total route_type num_service\n",
       "1 51081     106         131       \n",
       "2 51081     204          14       \n",
       "3 51081     700        1624       \n",
       "4 51081     106         131       \n",
       "5 51081     204          14       \n",
       "6 51081     700        1624       "
      ]
     },
     "metadata": {},
     "output_type": "display_data"
    },
    {
     "name": "stdout",
     "output_type": "stream",
     "text": [
      "Observations: 22,134\n",
      "Variables: 8\n",
      "$ LGA                \u001b[3m\u001b[90m<chr>\u001b[39m\u001b[23m \"albury\", \"albury\", \"albury\", \"albury\", \"albury\"...\n",
      "$ Offence            \u001b[3m\u001b[90m<fct>\u001b[39m\u001b[23m \"Murder *\", \"Murder *\", \"Murder *\", \"Attempted m...\n",
      "$ Crim_Count         \u001b[3m\u001b[90m<int>\u001b[39m\u001b[23m 2, 2, 2, 1, 1, 1, 0, 0, 0, 0, 0, 0, 284, 284, 28...\n",
      "$ crime_tot_per_lga  \u001b[3m\u001b[90m<int>\u001b[39m\u001b[23m 6233, 6233, 6233, 6233, 6233, 6233, 6233, 6233, ...\n",
      "$ crime_rate_per_lga \u001b[3m\u001b[90m<dbl>\u001b[39m\u001b[23m 0.1220219, 0.1220219, 0.1220219, 0.1220219, 0.12...\n",
      "$ pop_total          \u001b[3m\u001b[90m<int>\u001b[39m\u001b[23m 51081, 51081, 51081, 51081, 51081, 51081, 51081,...\n",
      "$ route_type         \u001b[3m\u001b[90m<fct>\u001b[39m\u001b[23m 106, 204, 700, 106, 204, 700, 106, 204, 700, 106...\n",
      "$ num_service        \u001b[3m\u001b[90m<dbl>\u001b[39m\u001b[23m 131, 14, 1624, 131, 14, 1624, 131, 14, 1624, 131...\n"
     ]
    }
   ],
   "source": [
    "joined <- input_data$crime %>%\n",
    "    left_join(input_data$transport)\n",
    "\n",
    "head(joined)\n",
    "glimpse(joined)"
   ]
  },
  {
   "cell_type": "code",
   "execution_count": 69,
   "metadata": {},
   "outputs": [],
   "source": [
    "out_filename = \"joined_crime_transport.csv\"\n",
    "write.csv(joined, paste(output_path, out_filename, sep = \"/\"), row.names = FALSE)"
   ]
  },
  {
   "cell_type": "markdown",
   "metadata": {},
   "source": [
    "# Create Aggregated Data Set"
   ]
  },
  {
   "cell_type": "markdown",
   "metadata": {},
   "source": [
    "In order to have all the variables in one data set, eat data set has to be aggregated at the LGA level. This means losing information on `age` and `sex` etc."
   ]
  },
  {
   "cell_type": "code",
   "execution_count": 70,
   "metadata": {},
   "outputs": [
    {
     "data": {
      "text/html": [
       "<dl>\n",
       "\t<dt>$age</dt>\n",
       "\t\t<dd><table>\n",
       "<thead><tr><th scope=col>Sex</th><th scope=col>Age</th><th scope=col>LGA</th><th scope=col>Value</th><th scope=col>pop_total</th></tr></thead>\n",
       "<tbody>\n",
       "\t<tr><td>Females                     </td><td>95 - 99                     </td><td>lismore                     </td><td> 65                         </td><td>43140                       </td></tr>\n",
       "\t<tr><td>Females                     </td><td>95 - 99                     </td><td>queanbeyan-palerang regional</td><td> 33                         </td><td>56023                       </td></tr>\n",
       "\t<tr><td>Females                     </td><td>95 - 99                     </td><td>mid-coast                   </td><td>173                         </td><td>90301                       </td></tr>\n",
       "\t<tr><td>Females                     </td><td>95 - 99                     </td><td>glen innes severn           </td><td> 16                         </td><td> 8828                       </td></tr>\n",
       "\t<tr><td>Females                     </td><td>95 - 99                     </td><td>lockhart                    </td><td> 11                         </td><td> 3135                       </td></tr>\n",
       "\t<tr><td>Females                     </td><td>95 - 99                     </td><td>lane cove                   </td><td> 49                         </td><td>36053                       </td></tr>\n",
       "</tbody>\n",
       "</table>\n",
       "</dd>\n",
       "\t<dt>$country_of_birth</dt>\n",
       "\t\t<dd><table>\n",
       "<thead><tr><th scope=col>birthplace_of_person</th><th scope=col>census_year</th><th scope=col>lga_2016</th><th scope=col>LGA</th><th scope=col>value</th><th scope=col>yarrp_2016</th><th scope=col>year_of_arrival_in_australia</th></tr></thead>\n",
       "<tbody>\n",
       "\t<tr><td>New Zealand        </td><td>2016               </td><td>10050              </td><td>albury             </td><td>  7                </td><td>2                  </td><td>Arrived 1946 - 1955</td></tr>\n",
       "\t<tr><td>New Zealand        </td><td>2016               </td><td>10050              </td><td>albury             </td><td> 22                </td><td>3                  </td><td>Arrived 1956 - 1965</td></tr>\n",
       "\t<tr><td>New Zealand        </td><td>2016               </td><td>10050              </td><td>albury             </td><td> 63                </td><td>4                  </td><td>Arrived 1966 - 1975</td></tr>\n",
       "\t<tr><td>New Zealand        </td><td>2016               </td><td>10050              </td><td>albury             </td><td>113                </td><td>5                  </td><td>Arrived 1976 - 1985</td></tr>\n",
       "\t<tr><td>New Zealand        </td><td>2016               </td><td>10050              </td><td>albury             </td><td> 92                </td><td>6                  </td><td>Arrived 1986 - 1995</td></tr>\n",
       "\t<tr><td>New Zealand        </td><td>2016               </td><td>10050              </td><td>albury             </td><td> 87                </td><td>7                  </td><td>Arrived 1996 - 2005</td></tr>\n",
       "</tbody>\n",
       "</table>\n",
       "</dd>\n",
       "\t<dt>$crime</dt>\n",
       "\t\t<dd><table>\n",
       "<thead><tr><th scope=col>LGA</th><th scope=col>Offence</th><th scope=col>Crim_Count</th><th scope=col>crime_tot_per_lga</th><th scope=col>crime_rate_per_lga</th><th scope=col>pop_total</th></tr></thead>\n",
       "<tbody>\n",
       "\t<tr><td>albury                               </td><td>Murder *                             </td><td>  2                                  </td><td>6233                                 </td><td>0.1220219                            </td><td>51081                                </td></tr>\n",
       "\t<tr><td>albury                               </td><td>Attempted murder                     </td><td>  1                                  </td><td>6233                                 </td><td>0.1220219                            </td><td>51081                                </td></tr>\n",
       "\t<tr><td>albury                               </td><td>Murder accessory, conspiracy         </td><td>  0                                  </td><td>6233                                 </td><td>0.1220219                            </td><td>51081                                </td></tr>\n",
       "\t<tr><td>albury                               </td><td>Manslaughter *                       </td><td>  0                                  </td><td>6233                                 </td><td>0.1220219                            </td><td>51081                                </td></tr>\n",
       "\t<tr><td>albury                               </td><td>Domestic violence related assault    </td><td>284                                  </td><td>6233                                 </td><td>0.1220219                            </td><td>51081                                </td></tr>\n",
       "\t<tr><td>albury                               </td><td>Non-domestic violence related assault</td><td>296                                  </td><td>6233                                 </td><td>0.1220219                            </td><td>51081                                </td></tr>\n",
       "</tbody>\n",
       "</table>\n",
       "</dd>\n",
       "\t<dt>$industry_employment</dt>\n",
       "\t\t<dd><table>\n",
       "<thead><tr><th scope=col>Age</th><th scope=col>Sex</th><th scope=col>Industry of Employment</th><th scope=col>LGA_2016</th><th scope=col>LGA</th><th scope=col>Census year</th><th scope=col>Value</th></tr></thead>\n",
       "<tbody>\n",
       "\t<tr><td>15 - 19                          </td><td>Males                            </td><td>Agriculture, Forestry and Fishing</td><td>10050                            </td><td>albury                           </td><td>2016                             </td><td> 6                               </td></tr>\n",
       "\t<tr><td>15 - 19                          </td><td>Females                          </td><td>Agriculture, Forestry and Fishing</td><td>10050                            </td><td>albury                           </td><td>2016                             </td><td> 4                               </td></tr>\n",
       "\t<tr><td>15 - 19                          </td><td>Persons                          </td><td>Agriculture, Forestry and Fishing</td><td>10050                            </td><td>albury                           </td><td>2016                             </td><td> 6                               </td></tr>\n",
       "\t<tr><td>15 - 19                          </td><td>Males                            </td><td>Agriculture, Forestry and Fishing</td><td>10130                            </td><td>armidale regional                </td><td>2016                             </td><td>34                               </td></tr>\n",
       "\t<tr><td>15 - 19                          </td><td>Females                          </td><td>Agriculture, Forestry and Fishing</td><td>10130                            </td><td>armidale regional                </td><td>2016                             </td><td> 9                               </td></tr>\n",
       "\t<tr><td>15 - 19                          </td><td>Persons                          </td><td>Agriculture, Forestry and Fishing</td><td>10130                            </td><td>armidale regional                </td><td>2016                             </td><td>43                               </td></tr>\n",
       "</tbody>\n",
       "</table>\n",
       "</dd>\n",
       "\t<dt>$labour</dt>\n",
       "\t\t<dd><table>\n",
       "<thead><tr><th scope=col>Age</th><th scope=col>Sex</th><th scope=col>Labour force status</th><th scope=col>LGA_2016</th><th scope=col>LGA</th><th scope=col>Census year</th><th scope=col>Value</th></tr></thead>\n",
       "<tbody>\n",
       "\t<tr><td>15 - 19                   </td><td>Males                     </td><td>Employed, worked full-time</td><td>10050                     </td><td>albury                    </td><td>2016                      </td><td>236                       </td></tr>\n",
       "\t<tr><td>15 - 19                   </td><td>Females                   </td><td>Employed, worked full-time</td><td>10050                     </td><td>albury                    </td><td>2016                      </td><td>113                       </td></tr>\n",
       "\t<tr><td>15 - 19                   </td><td>Persons                   </td><td>Employed, worked full-time</td><td>10050                     </td><td>albury                    </td><td>2016                      </td><td>348                       </td></tr>\n",
       "\t<tr><td>15 - 19                   </td><td>Males                     </td><td>Employed, worked full-time</td><td>10130                     </td><td>armidale regional         </td><td>2016                      </td><td>105                       </td></tr>\n",
       "\t<tr><td>15 - 19                   </td><td>Females                   </td><td>Employed, worked full-time</td><td>10130                     </td><td>armidale regional         </td><td>2016                      </td><td> 58                       </td></tr>\n",
       "\t<tr><td>15 - 19                   </td><td>Persons                   </td><td>Employed, worked full-time</td><td>10130                     </td><td>armidale regional         </td><td>2016                      </td><td>160                       </td></tr>\n",
       "</tbody>\n",
       "</table>\n",
       "</dd>\n",
       "\t<dt>$pop_dens</dt>\n",
       "\t\t<dd><table>\n",
       "<thead><tr><th scope=col>X1</th><th scope=col>LGA</th><th scope=col>Pop_Dens_km2</th></tr></thead>\n",
       "<tbody>\n",
       "\t<tr><td>1                </td><td>albury           </td><td>170.5            </td></tr>\n",
       "\t<tr><td>2                </td><td>armidale regional</td><td>  3.5            </td></tr>\n",
       "\t<tr><td>3                </td><td>ballina          </td><td> 88.7            </td></tr>\n",
       "\t<tr><td>4                </td><td>balranald        </td><td>  0.1            </td></tr>\n",
       "\t<tr><td>5                </td><td>bathurst regional</td><td> 11.1            </td></tr>\n",
       "\t<tr><td>6                </td><td>bega valley      </td><td>  5.4            </td></tr>\n",
       "</tbody>\n",
       "</table>\n",
       "</dd>\n",
       "\t<dt>$seifa</dt>\n",
       "\t\t<dd><table>\n",
       "<thead><tr><th scope=col>X1</th><th scope=col>LGA</th><th scope=col>Value</th></tr></thead>\n",
       "<tbody>\n",
       "\t<tr><td>1                </td><td>albury           </td><td>964              </td></tr>\n",
       "\t<tr><td>2                </td><td>armidale dumaresq</td><td>954              </td></tr>\n",
       "\t<tr><td>3                </td><td>ashfield         </td><td>962              </td></tr>\n",
       "\t<tr><td>4                </td><td>auburn           </td><td>931              </td></tr>\n",
       "\t<tr><td>5                </td><td>ballina          </td><td>986              </td></tr>\n",
       "\t<tr><td>6                </td><td>balranald        </td><td>969              </td></tr>\n",
       "</tbody>\n",
       "</table>\n",
       "</dd>\n",
       "\t<dt>$transport</dt>\n",
       "\t\t<dd><table>\n",
       "<thead><tr><th scope=col>LGA</th><th scope=col>route_type</th><th scope=col>num_service</th></tr></thead>\n",
       "<tbody>\n",
       "\t<tr><td>albury           </td><td>106              </td><td> 131             </td></tr>\n",
       "\t<tr><td>albury           </td><td>204              </td><td>  14             </td></tr>\n",
       "\t<tr><td>albury           </td><td>700              </td><td>1624             </td></tr>\n",
       "\t<tr><td>armidale regional</td><td>106              </td><td>  62             </td></tr>\n",
       "\t<tr><td>armidale regional</td><td>204              </td><td>  10             </td></tr>\n",
       "\t<tr><td>armidale regional</td><td>700              </td><td> 113             </td></tr>\n",
       "</tbody>\n",
       "</table>\n",
       "</dd>\n",
       "</dl>\n"
      ],
      "text/latex": [
       "\\begin{description}\n",
       "\\item[\\$age] \\begin{tabular}{r|lllll}\n",
       " Sex & Age & LGA & Value & pop\\_total\\\\\n",
       "\\hline\n",
       "\t Females                      & 95 - 99                      & lismore                      &  65                          & 43140                       \\\\\n",
       "\t Females                      & 95 - 99                      & queanbeyan-palerang regional &  33                          & 56023                       \\\\\n",
       "\t Females                      & 95 - 99                      & mid-coast                    & 173                          & 90301                       \\\\\n",
       "\t Females                      & 95 - 99                      & glen innes severn            &  16                          &  8828                       \\\\\n",
       "\t Females                      & 95 - 99                      & lockhart                     &  11                          &  3135                       \\\\\n",
       "\t Females                      & 95 - 99                      & lane cove                    &  49                          & 36053                       \\\\\n",
       "\\end{tabular}\n",
       "\n",
       "\\item[\\$country\\_of\\_birth] \\begin{tabular}{r|lllllll}\n",
       " birthplace\\_of\\_person & census\\_year & lga\\_2016 & LGA & value & yarrp\\_2016 & year\\_of\\_arrival\\_in\\_australia\\\\\n",
       "\\hline\n",
       "\t New Zealand         & 2016                & 10050               & albury              &   7                 & 2                   & Arrived 1946 - 1955\\\\\n",
       "\t New Zealand         & 2016                & 10050               & albury              &  22                 & 3                   & Arrived 1956 - 1965\\\\\n",
       "\t New Zealand         & 2016                & 10050               & albury              &  63                 & 4                   & Arrived 1966 - 1975\\\\\n",
       "\t New Zealand         & 2016                & 10050               & albury              & 113                 & 5                   & Arrived 1976 - 1985\\\\\n",
       "\t New Zealand         & 2016                & 10050               & albury              &  92                 & 6                   & Arrived 1986 - 1995\\\\\n",
       "\t New Zealand         & 2016                & 10050               & albury              &  87                 & 7                   & Arrived 1996 - 2005\\\\\n",
       "\\end{tabular}\n",
       "\n",
       "\\item[\\$crime] \\begin{tabular}{r|llllll}\n",
       " LGA & Offence & Crim\\_Count & crime\\_tot\\_per\\_lga & crime\\_rate\\_per\\_lga & pop\\_total\\\\\n",
       "\\hline\n",
       "\t albury                                & Murder *                              &   2                                   & 6233                                  & 0.1220219                             & 51081                                \\\\\n",
       "\t albury                                & Attempted murder                      &   1                                   & 6233                                  & 0.1220219                             & 51081                                \\\\\n",
       "\t albury                                & Murder accessory, conspiracy          &   0                                   & 6233                                  & 0.1220219                             & 51081                                \\\\\n",
       "\t albury                                & Manslaughter *                        &   0                                   & 6233                                  & 0.1220219                             & 51081                                \\\\\n",
       "\t albury                                & Domestic violence related assault     & 284                                   & 6233                                  & 0.1220219                             & 51081                                \\\\\n",
       "\t albury                                & Non-domestic violence related assault & 296                                   & 6233                                  & 0.1220219                             & 51081                                \\\\\n",
       "\\end{tabular}\n",
       "\n",
       "\\item[\\$industry\\_employment] \\begin{tabular}{r|lllllll}\n",
       " Age & Sex & Industry of Employment & LGA\\_2016 & LGA & Census year & Value\\\\\n",
       "\\hline\n",
       "\t 15 - 19                           & Males                             & Agriculture, Forestry and Fishing & 10050                             & albury                            & 2016                              &  6                               \\\\\n",
       "\t 15 - 19                           & Females                           & Agriculture, Forestry and Fishing & 10050                             & albury                            & 2016                              &  4                               \\\\\n",
       "\t 15 - 19                           & Persons                           & Agriculture, Forestry and Fishing & 10050                             & albury                            & 2016                              &  6                               \\\\\n",
       "\t 15 - 19                           & Males                             & Agriculture, Forestry and Fishing & 10130                             & armidale regional                 & 2016                              & 34                               \\\\\n",
       "\t 15 - 19                           & Females                           & Agriculture, Forestry and Fishing & 10130                             & armidale regional                 & 2016                              &  9                               \\\\\n",
       "\t 15 - 19                           & Persons                           & Agriculture, Forestry and Fishing & 10130                             & armidale regional                 & 2016                              & 43                               \\\\\n",
       "\\end{tabular}\n",
       "\n",
       "\\item[\\$labour] \\begin{tabular}{r|lllllll}\n",
       " Age & Sex & Labour force status & LGA\\_2016 & LGA & Census year & Value\\\\\n",
       "\\hline\n",
       "\t 15 - 19                    & Males                      & Employed, worked full-time & 10050                      & albury                     & 2016                       & 236                       \\\\\n",
       "\t 15 - 19                    & Females                    & Employed, worked full-time & 10050                      & albury                     & 2016                       & 113                       \\\\\n",
       "\t 15 - 19                    & Persons                    & Employed, worked full-time & 10050                      & albury                     & 2016                       & 348                       \\\\\n",
       "\t 15 - 19                    & Males                      & Employed, worked full-time & 10130                      & armidale regional          & 2016                       & 105                       \\\\\n",
       "\t 15 - 19                    & Females                    & Employed, worked full-time & 10130                      & armidale regional          & 2016                       &  58                       \\\\\n",
       "\t 15 - 19                    & Persons                    & Employed, worked full-time & 10130                      & armidale regional          & 2016                       & 160                       \\\\\n",
       "\\end{tabular}\n",
       "\n",
       "\\item[\\$pop\\_dens] \\begin{tabular}{r|lll}\n",
       " X1 & LGA & Pop\\_Dens\\_km2\\\\\n",
       "\\hline\n",
       "\t 1                 & albury            & 170.5            \\\\\n",
       "\t 2                 & armidale regional &   3.5            \\\\\n",
       "\t 3                 & ballina           &  88.7            \\\\\n",
       "\t 4                 & balranald         &   0.1            \\\\\n",
       "\t 5                 & bathurst regional &  11.1            \\\\\n",
       "\t 6                 & bega valley       &   5.4            \\\\\n",
       "\\end{tabular}\n",
       "\n",
       "\\item[\\$seifa] \\begin{tabular}{r|lll}\n",
       " X1 & LGA & Value\\\\\n",
       "\\hline\n",
       "\t 1                 & albury            & 964              \\\\\n",
       "\t 2                 & armidale dumaresq & 954              \\\\\n",
       "\t 3                 & ashfield          & 962              \\\\\n",
       "\t 4                 & auburn            & 931              \\\\\n",
       "\t 5                 & ballina           & 986              \\\\\n",
       "\t 6                 & balranald         & 969              \\\\\n",
       "\\end{tabular}\n",
       "\n",
       "\\item[\\$transport] \\begin{tabular}{r|lll}\n",
       " LGA & route\\_type & num\\_service\\\\\n",
       "\\hline\n",
       "\t albury            & 106               &  131             \\\\\n",
       "\t albury            & 204               &   14             \\\\\n",
       "\t albury            & 700               & 1624             \\\\\n",
       "\t armidale regional & 106               &   62             \\\\\n",
       "\t armidale regional & 204               &   10             \\\\\n",
       "\t armidale regional & 700               &  113             \\\\\n",
       "\\end{tabular}\n",
       "\n",
       "\\end{description}\n"
      ],
      "text/markdown": [
       "$age\n",
       ":   \n",
       "| Sex | Age | LGA | Value | pop_total |\n",
       "|---|---|---|---|---|\n",
       "| Females                      | 95 - 99                      | lismore                      |  65                          | 43140                        |\n",
       "| Females                      | 95 - 99                      | queanbeyan-palerang regional |  33                          | 56023                        |\n",
       "| Females                      | 95 - 99                      | mid-coast                    | 173                          | 90301                        |\n",
       "| Females                      | 95 - 99                      | glen innes severn            |  16                          |  8828                        |\n",
       "| Females                      | 95 - 99                      | lockhart                     |  11                          |  3135                        |\n",
       "| Females                      | 95 - 99                      | lane cove                    |  49                          | 36053                        |\n",
       "\n",
       "\n",
       "$country_of_birth\n",
       ":   \n",
       "| birthplace_of_person | census_year | lga_2016 | LGA | value | yarrp_2016 | year_of_arrival_in_australia |\n",
       "|---|---|---|---|---|---|---|\n",
       "| New Zealand         | 2016                | 10050               | albury              |   7                 | 2                   | Arrived 1946 - 1955 |\n",
       "| New Zealand         | 2016                | 10050               | albury              |  22                 | 3                   | Arrived 1956 - 1965 |\n",
       "| New Zealand         | 2016                | 10050               | albury              |  63                 | 4                   | Arrived 1966 - 1975 |\n",
       "| New Zealand         | 2016                | 10050               | albury              | 113                 | 5                   | Arrived 1976 - 1985 |\n",
       "| New Zealand         | 2016                | 10050               | albury              |  92                 | 6                   | Arrived 1986 - 1995 |\n",
       "| New Zealand         | 2016                | 10050               | albury              |  87                 | 7                   | Arrived 1996 - 2005 |\n",
       "\n",
       "\n",
       "$crime\n",
       ":   \n",
       "| LGA | Offence | Crim_Count | crime_tot_per_lga | crime_rate_per_lga | pop_total |\n",
       "|---|---|---|---|---|---|\n",
       "| albury                                | Murder *                              |   2                                   | 6233                                  | 0.1220219                             | 51081                                 |\n",
       "| albury                                | Attempted murder                      |   1                                   | 6233                                  | 0.1220219                             | 51081                                 |\n",
       "| albury                                | Murder accessory, conspiracy          |   0                                   | 6233                                  | 0.1220219                             | 51081                                 |\n",
       "| albury                                | Manslaughter *                        |   0                                   | 6233                                  | 0.1220219                             | 51081                                 |\n",
       "| albury                                | Domestic violence related assault     | 284                                   | 6233                                  | 0.1220219                             | 51081                                 |\n",
       "| albury                                | Non-domestic violence related assault | 296                                   | 6233                                  | 0.1220219                             | 51081                                 |\n",
       "\n",
       "\n",
       "$industry_employment\n",
       ":   \n",
       "| Age | Sex | Industry of Employment | LGA_2016 | LGA | Census year | Value |\n",
       "|---|---|---|---|---|---|---|\n",
       "| 15 - 19                           | Males                             | Agriculture, Forestry and Fishing | 10050                             | albury                            | 2016                              |  6                                |\n",
       "| 15 - 19                           | Females                           | Agriculture, Forestry and Fishing | 10050                             | albury                            | 2016                              |  4                                |\n",
       "| 15 - 19                           | Persons                           | Agriculture, Forestry and Fishing | 10050                             | albury                            | 2016                              |  6                                |\n",
       "| 15 - 19                           | Males                             | Agriculture, Forestry and Fishing | 10130                             | armidale regional                 | 2016                              | 34                                |\n",
       "| 15 - 19                           | Females                           | Agriculture, Forestry and Fishing | 10130                             | armidale regional                 | 2016                              |  9                                |\n",
       "| 15 - 19                           | Persons                           | Agriculture, Forestry and Fishing | 10130                             | armidale regional                 | 2016                              | 43                                |\n",
       "\n",
       "\n",
       "$labour\n",
       ":   \n",
       "| Age | Sex | Labour force status | LGA_2016 | LGA | Census year | Value |\n",
       "|---|---|---|---|---|---|---|\n",
       "| 15 - 19                    | Males                      | Employed, worked full-time | 10050                      | albury                     | 2016                       | 236                        |\n",
       "| 15 - 19                    | Females                    | Employed, worked full-time | 10050                      | albury                     | 2016                       | 113                        |\n",
       "| 15 - 19                    | Persons                    | Employed, worked full-time | 10050                      | albury                     | 2016                       | 348                        |\n",
       "| 15 - 19                    | Males                      | Employed, worked full-time | 10130                      | armidale regional          | 2016                       | 105                        |\n",
       "| 15 - 19                    | Females                    | Employed, worked full-time | 10130                      | armidale regional          | 2016                       |  58                        |\n",
       "| 15 - 19                    | Persons                    | Employed, worked full-time | 10130                      | armidale regional          | 2016                       | 160                        |\n",
       "\n",
       "\n",
       "$pop_dens\n",
       ":   \n",
       "| X1 | LGA | Pop_Dens_km2 |\n",
       "|---|---|---|\n",
       "| 1                 | albury            | 170.5             |\n",
       "| 2                 | armidale regional |   3.5             |\n",
       "| 3                 | ballina           |  88.7             |\n",
       "| 4                 | balranald         |   0.1             |\n",
       "| 5                 | bathurst regional |  11.1             |\n",
       "| 6                 | bega valley       |   5.4             |\n",
       "\n",
       "\n",
       "$seifa\n",
       ":   \n",
       "| X1 | LGA | Value |\n",
       "|---|---|---|\n",
       "| 1                 | albury            | 964               |\n",
       "| 2                 | armidale dumaresq | 954               |\n",
       "| 3                 | ashfield          | 962               |\n",
       "| 4                 | auburn            | 931               |\n",
       "| 5                 | ballina           | 986               |\n",
       "| 6                 | balranald         | 969               |\n",
       "\n",
       "\n",
       "$transport\n",
       ":   \n",
       "| LGA | route_type | num_service |\n",
       "|---|---|---|\n",
       "| albury            | 106               |  131              |\n",
       "| albury            | 204               |   14              |\n",
       "| albury            | 700               | 1624              |\n",
       "| armidale regional | 106               |   62              |\n",
       "| armidale regional | 204               |   10              |\n",
       "| armidale regional | 700               |  113              |\n",
       "\n",
       "\n",
       "\n",
       "\n"
      ],
      "text/plain": [
       "$age\n",
       "\u001b[90m# A tibble: 6 x 5\u001b[39m\n",
       "\u001b[90m# Groups:   LGA [6]\u001b[39m\n",
       "  Sex     Age     LGA                          Value pop_total\n",
       "  \u001b[3m\u001b[90m<fct>\u001b[39m\u001b[23m   \u001b[3m\u001b[90m<fct>\u001b[39m\u001b[23m   \u001b[3m\u001b[90m<chr>\u001b[39m\u001b[23m                        \u001b[3m\u001b[90m<int>\u001b[39m\u001b[23m     \u001b[3m\u001b[90m<int>\u001b[39m\u001b[23m\n",
       "\u001b[90m1\u001b[39m Females 95 - 99 lismore                         65     \u001b[4m4\u001b[24m\u001b[4m3\u001b[24m140\n",
       "\u001b[90m2\u001b[39m Females 95 - 99 queanbeyan-palerang regional    33     \u001b[4m5\u001b[24m\u001b[4m6\u001b[24m023\n",
       "\u001b[90m3\u001b[39m Females 95 - 99 mid-coast                      173     \u001b[4m9\u001b[24m\u001b[4m0\u001b[24m301\n",
       "\u001b[90m4\u001b[39m Females 95 - 99 glen innes severn               16      \u001b[4m8\u001b[24m828\n",
       "\u001b[90m5\u001b[39m Females 95 - 99 lockhart                        11      \u001b[4m3\u001b[24m135\n",
       "\u001b[90m6\u001b[39m Females 95 - 99 lane cove                       49     \u001b[4m3\u001b[24m\u001b[4m6\u001b[24m053\n",
       "\n",
       "$country_of_birth\n",
       "\u001b[90m# A tibble: 6 x 7\u001b[39m\n",
       "  birthplace_of_pe~ census_year lga_2016 LGA   value yarrp_2016 year_of_arrival~\n",
       "  \u001b[3m\u001b[90m<fct>\u001b[39m\u001b[23m                   \u001b[3m\u001b[90m<dbl>\u001b[39m\u001b[23m    \u001b[3m\u001b[90m<dbl>\u001b[39m\u001b[23m \u001b[3m\u001b[90m<chr>\u001b[39m\u001b[23m \u001b[3m\u001b[90m<dbl>\u001b[39m\u001b[23m \u001b[3m\u001b[90m<chr>\u001b[39m\u001b[23m      \u001b[3m\u001b[90m<fct>\u001b[39m\u001b[23m           \n",
       "\u001b[90m1\u001b[39m New Zealand              \u001b[4m2\u001b[24m016    \u001b[4m1\u001b[24m\u001b[4m0\u001b[24m050 albu~     7 2          Arrived 1946 - ~\n",
       "\u001b[90m2\u001b[39m New Zealand              \u001b[4m2\u001b[24m016    \u001b[4m1\u001b[24m\u001b[4m0\u001b[24m050 albu~    22 3          Arrived 1956 - ~\n",
       "\u001b[90m3\u001b[39m New Zealand              \u001b[4m2\u001b[24m016    \u001b[4m1\u001b[24m\u001b[4m0\u001b[24m050 albu~    63 4          Arrived 1966 - ~\n",
       "\u001b[90m4\u001b[39m New Zealand              \u001b[4m2\u001b[24m016    \u001b[4m1\u001b[24m\u001b[4m0\u001b[24m050 albu~   113 5          Arrived 1976 - ~\n",
       "\u001b[90m5\u001b[39m New Zealand              \u001b[4m2\u001b[24m016    \u001b[4m1\u001b[24m\u001b[4m0\u001b[24m050 albu~    92 6          Arrived 1986 - ~\n",
       "\u001b[90m6\u001b[39m New Zealand              \u001b[4m2\u001b[24m016    \u001b[4m1\u001b[24m\u001b[4m0\u001b[24m050 albu~    87 7          Arrived 1996 - ~\n",
       "\n",
       "$crime\n",
       "\u001b[90m# A tibble: 6 x 6\u001b[39m\n",
       "  LGA    Offence          Crim_Count crime_tot_per_l~ crime_rate_per_~ pop_total\n",
       "  \u001b[3m\u001b[90m<chr>\u001b[39m\u001b[23m  \u001b[3m\u001b[90m<fct>\u001b[39m\u001b[23m                 \u001b[3m\u001b[90m<int>\u001b[39m\u001b[23m            \u001b[3m\u001b[90m<int>\u001b[39m\u001b[23m            \u001b[3m\u001b[90m<dbl>\u001b[39m\u001b[23m     \u001b[3m\u001b[90m<int>\u001b[39m\u001b[23m\n",
       "\u001b[90m1\u001b[39m albury Murder *                  2             \u001b[4m6\u001b[24m233            0.122     \u001b[4m5\u001b[24m\u001b[4m1\u001b[24m081\n",
       "\u001b[90m2\u001b[39m albury Attempted murder          1             \u001b[4m6\u001b[24m233            0.122     \u001b[4m5\u001b[24m\u001b[4m1\u001b[24m081\n",
       "\u001b[90m3\u001b[39m albury Murder accessor~          0             \u001b[4m6\u001b[24m233            0.122     \u001b[4m5\u001b[24m\u001b[4m1\u001b[24m081\n",
       "\u001b[90m4\u001b[39m albury Manslaughter *            0             \u001b[4m6\u001b[24m233            0.122     \u001b[4m5\u001b[24m\u001b[4m1\u001b[24m081\n",
       "\u001b[90m5\u001b[39m albury Domestic violen~        284             \u001b[4m6\u001b[24m233            0.122     \u001b[4m5\u001b[24m\u001b[4m1\u001b[24m081\n",
       "\u001b[90m6\u001b[39m albury Non-domestic vi~        296             \u001b[4m6\u001b[24m233            0.122     \u001b[4m5\u001b[24m\u001b[4m1\u001b[24m081\n",
       "\n",
       "$industry_employment\n",
       "\u001b[90m# A tibble: 6 x 7\u001b[39m\n",
       "  Age    Sex    `Industry of Employment` LGA_2016 LGA        `Census year` Value\n",
       "  \u001b[3m\u001b[90m<fct>\u001b[39m\u001b[23m  \u001b[3m\u001b[90m<fct>\u001b[39m\u001b[23m  \u001b[3m\u001b[90m<fct>\u001b[39m\u001b[23m                       \u001b[3m\u001b[90m<dbl>\u001b[39m\u001b[23m \u001b[3m\u001b[90m<chr>\u001b[39m\u001b[23m              \u001b[3m\u001b[90m<dbl>\u001b[39m\u001b[23m \u001b[3m\u001b[90m<int>\u001b[39m\u001b[23m\n",
       "\u001b[90m1\u001b[39m 15 - ~ Males  Agriculture, Forestry a~    \u001b[4m1\u001b[24m\u001b[4m0\u001b[24m050 albury              \u001b[4m2\u001b[24m016     6\n",
       "\u001b[90m2\u001b[39m 15 - ~ Femal~ Agriculture, Forestry a~    \u001b[4m1\u001b[24m\u001b[4m0\u001b[24m050 albury              \u001b[4m2\u001b[24m016     4\n",
       "\u001b[90m3\u001b[39m 15 - ~ Perso~ Agriculture, Forestry a~    \u001b[4m1\u001b[24m\u001b[4m0\u001b[24m050 albury              \u001b[4m2\u001b[24m016     6\n",
       "\u001b[90m4\u001b[39m 15 - ~ Males  Agriculture, Forestry a~    \u001b[4m1\u001b[24m\u001b[4m0\u001b[24m130 armidale ~          \u001b[4m2\u001b[24m016    34\n",
       "\u001b[90m5\u001b[39m 15 - ~ Femal~ Agriculture, Forestry a~    \u001b[4m1\u001b[24m\u001b[4m0\u001b[24m130 armidale ~          \u001b[4m2\u001b[24m016     9\n",
       "\u001b[90m6\u001b[39m 15 - ~ Perso~ Agriculture, Forestry a~    \u001b[4m1\u001b[24m\u001b[4m0\u001b[24m130 armidale ~          \u001b[4m2\u001b[24m016    43\n",
       "\n",
       "$labour\n",
       "\u001b[90m# A tibble: 6 x 7\u001b[39m\n",
       "  Age     Sex     `Labour force status` LGA_2016 LGA         `Census year` Value\n",
       "  \u001b[3m\u001b[90m<fct>\u001b[39m\u001b[23m   \u001b[3m\u001b[90m<fct>\u001b[39m\u001b[23m   \u001b[3m\u001b[90m<fct>\u001b[39m\u001b[23m                    \u001b[3m\u001b[90m<dbl>\u001b[39m\u001b[23m \u001b[3m\u001b[90m<chr>\u001b[39m\u001b[23m               \u001b[3m\u001b[90m<dbl>\u001b[39m\u001b[23m \u001b[3m\u001b[90m<int>\u001b[39m\u001b[23m\n",
       "\u001b[90m1\u001b[39m 15 - 19 Males   Employed, worked ful~    \u001b[4m1\u001b[24m\u001b[4m0\u001b[24m050 albury               \u001b[4m2\u001b[24m016   236\n",
       "\u001b[90m2\u001b[39m 15 - 19 Females Employed, worked ful~    \u001b[4m1\u001b[24m\u001b[4m0\u001b[24m050 albury               \u001b[4m2\u001b[24m016   113\n",
       "\u001b[90m3\u001b[39m 15 - 19 Persons Employed, worked ful~    \u001b[4m1\u001b[24m\u001b[4m0\u001b[24m050 albury               \u001b[4m2\u001b[24m016   348\n",
       "\u001b[90m4\u001b[39m 15 - 19 Males   Employed, worked ful~    \u001b[4m1\u001b[24m\u001b[4m0\u001b[24m130 armidale r~          \u001b[4m2\u001b[24m016   105\n",
       "\u001b[90m5\u001b[39m 15 - 19 Females Employed, worked ful~    \u001b[4m1\u001b[24m\u001b[4m0\u001b[24m130 armidale r~          \u001b[4m2\u001b[24m016    58\n",
       "\u001b[90m6\u001b[39m 15 - 19 Persons Employed, worked ful~    \u001b[4m1\u001b[24m\u001b[4m0\u001b[24m130 armidale r~          \u001b[4m2\u001b[24m016   160\n",
       "\n",
       "$pop_dens\n",
       "\u001b[90m# A tibble: 6 x 3\u001b[39m\n",
       "     X1 LGA               Pop_Dens_km2\n",
       "  \u001b[3m\u001b[90m<dbl>\u001b[39m\u001b[23m \u001b[3m\u001b[90m<chr>\u001b[39m\u001b[23m                    \u001b[3m\u001b[90m<dbl>\u001b[39m\u001b[23m\n",
       "\u001b[90m1\u001b[39m     1 albury                   170. \n",
       "\u001b[90m2\u001b[39m     2 armidale regional          3.5\n",
       "\u001b[90m3\u001b[39m     3 ballina                   88.7\n",
       "\u001b[90m4\u001b[39m     4 balranald                  0.1\n",
       "\u001b[90m5\u001b[39m     5 bathurst regional         11.1\n",
       "\u001b[90m6\u001b[39m     6 bega valley                5.4\n",
       "\n",
       "$seifa\n",
       "\u001b[90m# A tibble: 6 x 3\u001b[39m\n",
       "     X1 LGA               Value\n",
       "  \u001b[3m\u001b[90m<dbl>\u001b[39m\u001b[23m \u001b[3m\u001b[90m<chr>\u001b[39m\u001b[23m             \u001b[3m\u001b[90m<int>\u001b[39m\u001b[23m\n",
       "\u001b[90m1\u001b[39m     1 albury              964\n",
       "\u001b[90m2\u001b[39m     2 armidale dumaresq   954\n",
       "\u001b[90m3\u001b[39m     3 ashfield            962\n",
       "\u001b[90m4\u001b[39m     4 auburn              931\n",
       "\u001b[90m5\u001b[39m     5 ballina             986\n",
       "\u001b[90m6\u001b[39m     6 balranald           969\n",
       "\n",
       "$transport\n",
       "\u001b[90m# A tibble: 6 x 3\u001b[39m\n",
       "  LGA               route_type num_service\n",
       "  \u001b[3m\u001b[90m<chr>\u001b[39m\u001b[23m             \u001b[3m\u001b[90m<fct>\u001b[39m\u001b[23m            \u001b[3m\u001b[90m<dbl>\u001b[39m\u001b[23m\n",
       "\u001b[90m1\u001b[39m albury            106                131\n",
       "\u001b[90m2\u001b[39m albury            204                 14\n",
       "\u001b[90m3\u001b[39m albury            700               \u001b[4m1\u001b[24m624\n",
       "\u001b[90m4\u001b[39m armidale regional 106                 62\n",
       "\u001b[90m5\u001b[39m armidale regional 204                 10\n",
       "\u001b[90m6\u001b[39m armidale regional 700                113\n"
      ]
     },
     "metadata": {},
     "output_type": "display_data"
    }
   ],
   "source": [
    "map(input_data, head)"
   ]
  },
  {
   "cell_type": "code",
   "execution_count": 71,
   "metadata": {},
   "outputs": [],
   "source": [
    "value_cols <- list(\"Value\", \"value\", \"Crim_Count\", \"Value\", \"Value\", \"Pop_Dens_km2\", \"Value\", \"num_service\")"
   ]
  },
  {
   "cell_type": "code",
   "execution_count": 72,
   "metadata": {},
   "outputs": [
    {
     "data": {
      "text/html": [
       "<ol class=list-inline>\n",
       "\t<li>'age'</li>\n",
       "\t<li>'country_of_birth'</li>\n",
       "\t<li>'crime'</li>\n",
       "\t<li>'industry_employment'</li>\n",
       "\t<li>'labour'</li>\n",
       "\t<li>'pop_dens'</li>\n",
       "\t<li>'seifa'</li>\n",
       "\t<li>'transport'</li>\n",
       "</ol>\n"
      ],
      "text/latex": [
       "\\begin{enumerate*}\n",
       "\\item 'age'\n",
       "\\item 'country\\_of\\_birth'\n",
       "\\item 'crime'\n",
       "\\item 'industry\\_employment'\n",
       "\\item 'labour'\n",
       "\\item 'pop\\_dens'\n",
       "\\item 'seifa'\n",
       "\\item 'transport'\n",
       "\\end{enumerate*}\n"
      ],
      "text/markdown": [
       "1. 'age'\n",
       "2. 'country_of_birth'\n",
       "3. 'crime'\n",
       "4. 'industry_employment'\n",
       "5. 'labour'\n",
       "6. 'pop_dens'\n",
       "7. 'seifa'\n",
       "8. 'transport'\n",
       "\n",
       "\n"
      ],
      "text/plain": [
       "[1] \"age\"                 \"country_of_birth\"    \"crime\"              \n",
       "[4] \"industry_employment\" \"labour\"              \"pop_dens\"           \n",
       "[7] \"seifa\"               \"transport\"          "
      ]
     },
     "metadata": {},
     "output_type": "display_data"
    }
   ],
   "source": [
    "names(value_cols) <- tbl_names\n",
    "names(value_cols)"
   ]
  },
  {
   "cell_type": "markdown",
   "metadata": {},
   "source": [
    "# Rename Columns and Aggregate"
   ]
  },
  {
   "cell_type": "code",
   "execution_count": 73,
   "metadata": {},
   "outputs": [
    {
     "data": {
      "text/html": [
       "<table>\n",
       "<thead><tr><th scope=col>Sex</th><th scope=col>Age</th><th scope=col>LGA</th><th scope=col>Value</th><th scope=col>pop_total</th></tr></thead>\n",
       "<tbody>\n",
       "\t<tr><td>Females                     </td><td>95 - 99                     </td><td>lismore                     </td><td> 65                         </td><td>43140                       </td></tr>\n",
       "\t<tr><td>Females                     </td><td>95 - 99                     </td><td>queanbeyan-palerang regional</td><td> 33                         </td><td>56023                       </td></tr>\n",
       "\t<tr><td>Females                     </td><td>95 - 99                     </td><td>mid-coast                   </td><td>173                         </td><td>90301                       </td></tr>\n",
       "\t<tr><td>Females                     </td><td>95 - 99                     </td><td>glen innes severn           </td><td> 16                         </td><td> 8828                       </td></tr>\n",
       "\t<tr><td>Females                     </td><td>95 - 99                     </td><td>lockhart                    </td><td> 11                         </td><td> 3135                       </td></tr>\n",
       "\t<tr><td>Females                     </td><td>95 - 99                     </td><td>lane cove                   </td><td> 49                         </td><td>36053                       </td></tr>\n",
       "</tbody>\n",
       "</table>\n"
      ],
      "text/latex": [
       "\\begin{tabular}{r|lllll}\n",
       " Sex & Age & LGA & Value & pop\\_total\\\\\n",
       "\\hline\n",
       "\t Females                      & 95 - 99                      & lismore                      &  65                          & 43140                       \\\\\n",
       "\t Females                      & 95 - 99                      & queanbeyan-palerang regional &  33                          & 56023                       \\\\\n",
       "\t Females                      & 95 - 99                      & mid-coast                    & 173                          & 90301                       \\\\\n",
       "\t Females                      & 95 - 99                      & glen innes severn            &  16                          &  8828                       \\\\\n",
       "\t Females                      & 95 - 99                      & lockhart                     &  11                          &  3135                       \\\\\n",
       "\t Females                      & 95 - 99                      & lane cove                    &  49                          & 36053                       \\\\\n",
       "\\end{tabular}\n"
      ],
      "text/markdown": [
       "\n",
       "| Sex | Age | LGA | Value | pop_total |\n",
       "|---|---|---|---|---|\n",
       "| Females                      | 95 - 99                      | lismore                      |  65                          | 43140                        |\n",
       "| Females                      | 95 - 99                      | queanbeyan-palerang regional |  33                          | 56023                        |\n",
       "| Females                      | 95 - 99                      | mid-coast                    | 173                          | 90301                        |\n",
       "| Females                      | 95 - 99                      | glen innes severn            |  16                          |  8828                        |\n",
       "| Females                      | 95 - 99                      | lockhart                     |  11                          |  3135                        |\n",
       "| Females                      | 95 - 99                      | lane cove                    |  49                          | 36053                        |\n",
       "\n"
      ],
      "text/plain": [
       "  Sex     Age     LGA                          Value pop_total\n",
       "1 Females 95 - 99 lismore                       65   43140    \n",
       "2 Females 95 - 99 queanbeyan-palerang regional  33   56023    \n",
       "3 Females 95 - 99 mid-coast                    173   90301    \n",
       "4 Females 95 - 99 glen innes severn             16    8828    \n",
       "5 Females 95 - 99 lockhart                      11    3135    \n",
       "6 Females 95 - 99 lane cove                     49   36053    "
      ]
     },
     "metadata": {},
     "output_type": "display_data"
    }
   ],
   "source": [
    "head(input_data$age)"
   ]
  },
  {
   "cell_type": "code",
   "execution_count": 74,
   "metadata": {},
   "outputs": [
    {
     "data": {
      "text/html": [
       "<table>\n",
       "<thead><tr><th scope=col>Sex</th><th scope=col>Age</th><th scope=col>LGA</th><th scope=col>pop</th><th scope=col>pop_total</th></tr></thead>\n",
       "<tbody>\n",
       "\t<tr><td>Females                     </td><td>95 - 99                     </td><td>lismore                     </td><td> 65                         </td><td>43140                       </td></tr>\n",
       "\t<tr><td>Females                     </td><td>95 - 99                     </td><td>queanbeyan-palerang regional</td><td> 33                         </td><td>56023                       </td></tr>\n",
       "\t<tr><td>Females                     </td><td>95 - 99                     </td><td>mid-coast                   </td><td>173                         </td><td>90301                       </td></tr>\n",
       "\t<tr><td>Females                     </td><td>95 - 99                     </td><td>glen innes severn           </td><td> 16                         </td><td> 8828                       </td></tr>\n",
       "\t<tr><td>Females                     </td><td>95 - 99                     </td><td>lockhart                    </td><td> 11                         </td><td> 3135                       </td></tr>\n",
       "\t<tr><td>Females                     </td><td>95 - 99                     </td><td>lane cove                   </td><td> 49                         </td><td>36053                       </td></tr>\n",
       "</tbody>\n",
       "</table>\n"
      ],
      "text/latex": [
       "\\begin{tabular}{r|lllll}\n",
       " Sex & Age & LGA & pop & pop\\_total\\\\\n",
       "\\hline\n",
       "\t Females                      & 95 - 99                      & lismore                      &  65                          & 43140                       \\\\\n",
       "\t Females                      & 95 - 99                      & queanbeyan-palerang regional &  33                          & 56023                       \\\\\n",
       "\t Females                      & 95 - 99                      & mid-coast                    & 173                          & 90301                       \\\\\n",
       "\t Females                      & 95 - 99                      & glen innes severn            &  16                          &  8828                       \\\\\n",
       "\t Females                      & 95 - 99                      & lockhart                     &  11                          &  3135                       \\\\\n",
       "\t Females                      & 95 - 99                      & lane cove                    &  49                          & 36053                       \\\\\n",
       "\\end{tabular}\n"
      ],
      "text/markdown": [
       "\n",
       "| Sex | Age | LGA | pop | pop_total |\n",
       "|---|---|---|---|---|\n",
       "| Females                      | 95 - 99                      | lismore                      |  65                          | 43140                        |\n",
       "| Females                      | 95 - 99                      | queanbeyan-palerang regional |  33                          | 56023                        |\n",
       "| Females                      | 95 - 99                      | mid-coast                    | 173                          | 90301                        |\n",
       "| Females                      | 95 - 99                      | glen innes severn            |  16                          |  8828                        |\n",
       "| Females                      | 95 - 99                      | lockhart                     |  11                          |  3135                        |\n",
       "| Females                      | 95 - 99                      | lane cove                    |  49                          | 36053                        |\n",
       "\n"
      ],
      "text/plain": [
       "  Sex     Age     LGA                          pop pop_total\n",
       "1 Females 95 - 99 lismore                       65 43140    \n",
       "2 Females 95 - 99 queanbeyan-palerang regional  33 56023    \n",
       "3 Females 95 - 99 mid-coast                    173 90301    \n",
       "4 Females 95 - 99 glen innes severn             16  8828    \n",
       "5 Females 95 - 99 lockhart                      11  3135    \n",
       "6 Females 95 - 99 lane cove                     49 36053    "
      ]
     },
     "metadata": {},
     "output_type": "display_data"
    },
    {
     "name": "stdout",
     "output_type": "stream",
     "text": [
      "Observations: 5,808\n",
      "Variables: 5\n",
      "Groups: LGA [132]\n",
      "$ Sex       \u001b[3m\u001b[90m<fct>\u001b[39m\u001b[23m Females, Females, Females, Females, Females, Females, Fem...\n",
      "$ Age       \u001b[3m\u001b[90m<fct>\u001b[39m\u001b[23m 95 - 99, 95 - 99, 95 - 99, 95 - 99, 95 - 99, 95 - 99, 95 ...\n",
      "$ LGA       \u001b[3m\u001b[90m<chr>\u001b[39m\u001b[23m \"lismore\", \"queanbeyan-palerang regional\", \"mid-coast\", \"...\n",
      "$ pop       \u001b[3m\u001b[90m<int>\u001b[39m\u001b[23m 65, 33, 173, 16, 11, 49, 26, 451, 24, 0, 4, 39, 72, 29, 9...\n",
      "$ pop_total \u001b[3m\u001b[90m<int>\u001b[39m\u001b[23m 43140, 56023, 90301, 8828, 3135, 36053, 19195, 252898, 16...\n"
     ]
    }
   ],
   "source": [
    "age_agg <- input_data$age %>%\n",
    "    rename(pop = Value)\n",
    "\n",
    "head(age_agg)\n",
    "glimpse(age_agg)"
   ]
  },
  {
   "cell_type": "markdown",
   "metadata": {},
   "source": [
    "## Country of Birth"
   ]
  },
  {
   "cell_type": "code",
   "execution_count": 75,
   "metadata": {},
   "outputs": [
    {
     "data": {
      "text/html": [
       "<table>\n",
       "<thead><tr><th scope=col>birthplace_of_person</th><th scope=col>census_year</th><th scope=col>lga_2016</th><th scope=col>LGA</th><th scope=col>value</th><th scope=col>yarrp_2016</th><th scope=col>year_of_arrival_in_australia</th></tr></thead>\n",
       "<tbody>\n",
       "\t<tr><td>New Zealand        </td><td>2016               </td><td>10050              </td><td>albury             </td><td>  7                </td><td>2                  </td><td>Arrived 1946 - 1955</td></tr>\n",
       "\t<tr><td>New Zealand        </td><td>2016               </td><td>10050              </td><td>albury             </td><td> 22                </td><td>3                  </td><td>Arrived 1956 - 1965</td></tr>\n",
       "\t<tr><td>New Zealand        </td><td>2016               </td><td>10050              </td><td>albury             </td><td> 63                </td><td>4                  </td><td>Arrived 1966 - 1975</td></tr>\n",
       "\t<tr><td>New Zealand        </td><td>2016               </td><td>10050              </td><td>albury             </td><td>113                </td><td>5                  </td><td>Arrived 1976 - 1985</td></tr>\n",
       "\t<tr><td>New Zealand        </td><td>2016               </td><td>10050              </td><td>albury             </td><td> 92                </td><td>6                  </td><td>Arrived 1986 - 1995</td></tr>\n",
       "\t<tr><td>New Zealand        </td><td>2016               </td><td>10050              </td><td>albury             </td><td> 87                </td><td>7                  </td><td>Arrived 1996 - 2005</td></tr>\n",
       "</tbody>\n",
       "</table>\n"
      ],
      "text/latex": [
       "\\begin{tabular}{r|lllllll}\n",
       " birthplace\\_of\\_person & census\\_year & lga\\_2016 & LGA & value & yarrp\\_2016 & year\\_of\\_arrival\\_in\\_australia\\\\\n",
       "\\hline\n",
       "\t New Zealand         & 2016                & 10050               & albury              &   7                 & 2                   & Arrived 1946 - 1955\\\\\n",
       "\t New Zealand         & 2016                & 10050               & albury              &  22                 & 3                   & Arrived 1956 - 1965\\\\\n",
       "\t New Zealand         & 2016                & 10050               & albury              &  63                 & 4                   & Arrived 1966 - 1975\\\\\n",
       "\t New Zealand         & 2016                & 10050               & albury              & 113                 & 5                   & Arrived 1976 - 1985\\\\\n",
       "\t New Zealand         & 2016                & 10050               & albury              &  92                 & 6                   & Arrived 1986 - 1995\\\\\n",
       "\t New Zealand         & 2016                & 10050               & albury              &  87                 & 7                   & Arrived 1996 - 2005\\\\\n",
       "\\end{tabular}\n"
      ],
      "text/markdown": [
       "\n",
       "| birthplace_of_person | census_year | lga_2016 | LGA | value | yarrp_2016 | year_of_arrival_in_australia |\n",
       "|---|---|---|---|---|---|---|\n",
       "| New Zealand         | 2016                | 10050               | albury              |   7                 | 2                   | Arrived 1946 - 1955 |\n",
       "| New Zealand         | 2016                | 10050               | albury              |  22                 | 3                   | Arrived 1956 - 1965 |\n",
       "| New Zealand         | 2016                | 10050               | albury              |  63                 | 4                   | Arrived 1966 - 1975 |\n",
       "| New Zealand         | 2016                | 10050               | albury              | 113                 | 5                   | Arrived 1976 - 1985 |\n",
       "| New Zealand         | 2016                | 10050               | albury              |  92                 | 6                   | Arrived 1986 - 1995 |\n",
       "| New Zealand         | 2016                | 10050               | albury              |  87                 | 7                   | Arrived 1996 - 2005 |\n",
       "\n"
      ],
      "text/plain": [
       "  birthplace_of_person census_year lga_2016 LGA    value yarrp_2016\n",
       "1 New Zealand          2016        10050    albury   7   2         \n",
       "2 New Zealand          2016        10050    albury  22   3         \n",
       "3 New Zealand          2016        10050    albury  63   4         \n",
       "4 New Zealand          2016        10050    albury 113   5         \n",
       "5 New Zealand          2016        10050    albury  92   6         \n",
       "6 New Zealand          2016        10050    albury  87   7         \n",
       "  year_of_arrival_in_australia\n",
       "1 Arrived 1946 - 1955         \n",
       "2 Arrived 1956 - 1965         \n",
       "3 Arrived 1966 - 1975         \n",
       "4 Arrived 1976 - 1985         \n",
       "5 Arrived 1986 - 1995         \n",
       "6 Arrived 1996 - 2005         "
      ]
     },
     "metadata": {},
     "output_type": "display_data"
    }
   ],
   "source": [
    "head(input_data$country_of_birth)"
   ]
  },
  {
   "cell_type": "code",
   "execution_count": 76,
   "metadata": {},
   "outputs": [
    {
     "data": {
      "text/html": [
       "<table>\n",
       "<thead><tr><th scope=col>LGA</th><th scope=col>birthplace_of_person</th><th scope=col>birth_value</th></tr></thead>\n",
       "<tbody>\n",
       "\t<tr><td>albury          </td><td>New Zealand     </td><td>2510            </td></tr>\n",
       "\t<tr><td>albury          </td><td>Papua New Guinea</td><td>  99            </td></tr>\n",
       "\t<tr><td>albury          </td><td>Fiji            </td><td> 218            </td></tr>\n",
       "\t<tr><td>albury          </td><td>Tonga           </td><td>  24            </td></tr>\n",
       "\t<tr><td>albury          </td><td>England         </td><td>4254            </td></tr>\n",
       "\t<tr><td>albury          </td><td>Northern Ireland</td><td>  64            </td></tr>\n",
       "</tbody>\n",
       "</table>\n"
      ],
      "text/latex": [
       "\\begin{tabular}{r|lll}\n",
       " LGA & birthplace\\_of\\_person & birth\\_value\\\\\n",
       "\\hline\n",
       "\t albury           & New Zealand      & 2510            \\\\\n",
       "\t albury           & Papua New Guinea &   99            \\\\\n",
       "\t albury           & Fiji             &  218            \\\\\n",
       "\t albury           & Tonga            &   24            \\\\\n",
       "\t albury           & England          & 4254            \\\\\n",
       "\t albury           & Northern Ireland &   64            \\\\\n",
       "\\end{tabular}\n"
      ],
      "text/markdown": [
       "\n",
       "| LGA | birthplace_of_person | birth_value |\n",
       "|---|---|---|\n",
       "| albury           | New Zealand      | 2510             |\n",
       "| albury           | Papua New Guinea |   99             |\n",
       "| albury           | Fiji             |  218             |\n",
       "| albury           | Tonga            |   24             |\n",
       "| albury           | England          | 4254             |\n",
       "| albury           | Northern Ireland |   64             |\n",
       "\n"
      ],
      "text/plain": [
       "  LGA    birthplace_of_person birth_value\n",
       "1 albury New Zealand          2510       \n",
       "2 albury Papua New Guinea       99       \n",
       "3 albury Fiji                  218       \n",
       "4 albury Tonga                  24       \n",
       "5 albury England              4254       \n",
       "6 albury Northern Ireland       64       "
      ]
     },
     "metadata": {},
     "output_type": "display_data"
    },
    {
     "name": "stdout",
     "output_type": "stream",
     "text": [
      "Observations: 8,508\n",
      "Variables: 3\n",
      "Groups: LGA [132]\n",
      "$ LGA                  \u001b[3m\u001b[90m<chr>\u001b[39m\u001b[23m \"albury\", \"albury\", \"albury\", \"albury\", \"albur...\n",
      "$ birthplace_of_person \u001b[3m\u001b[90m<fct>\u001b[39m\u001b[23m \"New Zealand\", \"Papua New Guinea\", \"Fiji\", \"To...\n",
      "$ birth_value          \u001b[3m\u001b[90m<dbl>\u001b[39m\u001b[23m 2510, 99, 218, 24, 4254, 64, 800, 213, 325, 25...\n"
     ]
    }
   ],
   "source": [
    "country_agg <- input_data$country_of_birth %>%\n",
    "    group_by(LGA, birthplace_of_person) %>%\n",
    "    summarise(birth_value = sum(value))\n",
    "\n",
    "head(country_agg)\n",
    "glimpse(country_agg)"
   ]
  },
  {
   "cell_type": "markdown",
   "metadata": {},
   "source": [
    "## Industry Employment"
   ]
  },
  {
   "cell_type": "code",
   "execution_count": 77,
   "metadata": {},
   "outputs": [
    {
     "data": {
      "text/html": [
       "<table>\n",
       "<thead><tr><th scope=col>Age</th><th scope=col>Sex</th><th scope=col>Industry of Employment</th><th scope=col>LGA_2016</th><th scope=col>LGA</th><th scope=col>Census year</th><th scope=col>Value</th></tr></thead>\n",
       "<tbody>\n",
       "\t<tr><td>15 - 19                          </td><td>Males                            </td><td>Agriculture, Forestry and Fishing</td><td>10050                            </td><td>albury                           </td><td>2016                             </td><td> 6                               </td></tr>\n",
       "\t<tr><td>15 - 19                          </td><td>Females                          </td><td>Agriculture, Forestry and Fishing</td><td>10050                            </td><td>albury                           </td><td>2016                             </td><td> 4                               </td></tr>\n",
       "\t<tr><td>15 - 19                          </td><td>Persons                          </td><td>Agriculture, Forestry and Fishing</td><td>10050                            </td><td>albury                           </td><td>2016                             </td><td> 6                               </td></tr>\n",
       "\t<tr><td>15 - 19                          </td><td>Males                            </td><td>Agriculture, Forestry and Fishing</td><td>10130                            </td><td>armidale regional                </td><td>2016                             </td><td>34                               </td></tr>\n",
       "\t<tr><td>15 - 19                          </td><td>Females                          </td><td>Agriculture, Forestry and Fishing</td><td>10130                            </td><td>armidale regional                </td><td>2016                             </td><td> 9                               </td></tr>\n",
       "\t<tr><td>15 - 19                          </td><td>Persons                          </td><td>Agriculture, Forestry and Fishing</td><td>10130                            </td><td>armidale regional                </td><td>2016                             </td><td>43                               </td></tr>\n",
       "</tbody>\n",
       "</table>\n"
      ],
      "text/latex": [
       "\\begin{tabular}{r|lllllll}\n",
       " Age & Sex & Industry of Employment & LGA\\_2016 & LGA & Census year & Value\\\\\n",
       "\\hline\n",
       "\t 15 - 19                           & Males                             & Agriculture, Forestry and Fishing & 10050                             & albury                            & 2016                              &  6                               \\\\\n",
       "\t 15 - 19                           & Females                           & Agriculture, Forestry and Fishing & 10050                             & albury                            & 2016                              &  4                               \\\\\n",
       "\t 15 - 19                           & Persons                           & Agriculture, Forestry and Fishing & 10050                             & albury                            & 2016                              &  6                               \\\\\n",
       "\t 15 - 19                           & Males                             & Agriculture, Forestry and Fishing & 10130                             & armidale regional                 & 2016                              & 34                               \\\\\n",
       "\t 15 - 19                           & Females                           & Agriculture, Forestry and Fishing & 10130                             & armidale regional                 & 2016                              &  9                               \\\\\n",
       "\t 15 - 19                           & Persons                           & Agriculture, Forestry and Fishing & 10130                             & armidale regional                 & 2016                              & 43                               \\\\\n",
       "\\end{tabular}\n"
      ],
      "text/markdown": [
       "\n",
       "| Age | Sex | Industry of Employment | LGA_2016 | LGA | Census year | Value |\n",
       "|---|---|---|---|---|---|---|\n",
       "| 15 - 19                           | Males                             | Agriculture, Forestry and Fishing | 10050                             | albury                            | 2016                              |  6                                |\n",
       "| 15 - 19                           | Females                           | Agriculture, Forestry and Fishing | 10050                             | albury                            | 2016                              |  4                                |\n",
       "| 15 - 19                           | Persons                           | Agriculture, Forestry and Fishing | 10050                             | albury                            | 2016                              |  6                                |\n",
       "| 15 - 19                           | Males                             | Agriculture, Forestry and Fishing | 10130                             | armidale regional                 | 2016                              | 34                                |\n",
       "| 15 - 19                           | Females                           | Agriculture, Forestry and Fishing | 10130                             | armidale regional                 | 2016                              |  9                                |\n",
       "| 15 - 19                           | Persons                           | Agriculture, Forestry and Fishing | 10130                             | armidale regional                 | 2016                              | 43                                |\n",
       "\n"
      ],
      "text/plain": [
       "  Age     Sex     Industry of Employment            LGA_2016 LGA              \n",
       "1 15 - 19 Males   Agriculture, Forestry and Fishing 10050    albury           \n",
       "2 15 - 19 Females Agriculture, Forestry and Fishing 10050    albury           \n",
       "3 15 - 19 Persons Agriculture, Forestry and Fishing 10050    albury           \n",
       "4 15 - 19 Males   Agriculture, Forestry and Fishing 10130    armidale regional\n",
       "5 15 - 19 Females Agriculture, Forestry and Fishing 10130    armidale regional\n",
       "6 15 - 19 Persons Agriculture, Forestry and Fishing 10130    armidale regional\n",
       "  Census year Value\n",
       "1 2016         6   \n",
       "2 2016         4   \n",
       "3 2016         6   \n",
       "4 2016        34   \n",
       "5 2016         9   \n",
       "6 2016        43   "
      ]
     },
     "metadata": {},
     "output_type": "display_data"
    }
   ],
   "source": [
    "head(input_data$industry_employment)"
   ]
  },
  {
   "cell_type": "code",
   "execution_count": 78,
   "metadata": {},
   "outputs": [
    {
     "data": {
      "text/html": [
       "<table>\n",
       "<thead><tr><th scope=col>Age</th><th scope=col>Sex</th><th scope=col>Industry of Employment</th><th scope=col>LGA</th><th scope=col>emp_value</th></tr></thead>\n",
       "<tbody>\n",
       "\t<tr><td>15 - 19                          </td><td>Males                            </td><td>Agriculture, Forestry and Fishing</td><td>albury                           </td><td> 6                               </td></tr>\n",
       "\t<tr><td>15 - 19                          </td><td>Females                          </td><td>Agriculture, Forestry and Fishing</td><td>albury                           </td><td> 4                               </td></tr>\n",
       "\t<tr><td>15 - 19                          </td><td>Persons                          </td><td>Agriculture, Forestry and Fishing</td><td>albury                           </td><td> 6                               </td></tr>\n",
       "\t<tr><td>15 - 19                          </td><td>Males                            </td><td>Agriculture, Forestry and Fishing</td><td>armidale regional                </td><td>34                               </td></tr>\n",
       "\t<tr><td>15 - 19                          </td><td>Females                          </td><td>Agriculture, Forestry and Fishing</td><td>armidale regional                </td><td> 9                               </td></tr>\n",
       "\t<tr><td>15 - 19                          </td><td>Persons                          </td><td>Agriculture, Forestry and Fishing</td><td>armidale regional                </td><td>43                               </td></tr>\n",
       "</tbody>\n",
       "</table>\n"
      ],
      "text/latex": [
       "\\begin{tabular}{r|lllll}\n",
       " Age & Sex & Industry of Employment & LGA & emp\\_value\\\\\n",
       "\\hline\n",
       "\t 15 - 19                           & Males                             & Agriculture, Forestry and Fishing & albury                            &  6                               \\\\\n",
       "\t 15 - 19                           & Females                           & Agriculture, Forestry and Fishing & albury                            &  4                               \\\\\n",
       "\t 15 - 19                           & Persons                           & Agriculture, Forestry and Fishing & albury                            &  6                               \\\\\n",
       "\t 15 - 19                           & Males                             & Agriculture, Forestry and Fishing & armidale regional                 & 34                               \\\\\n",
       "\t 15 - 19                           & Females                           & Agriculture, Forestry and Fishing & armidale regional                 &  9                               \\\\\n",
       "\t 15 - 19                           & Persons                           & Agriculture, Forestry and Fishing & armidale regional                 & 43                               \\\\\n",
       "\\end{tabular}\n"
      ],
      "text/markdown": [
       "\n",
       "| Age | Sex | Industry of Employment | LGA | emp_value |\n",
       "|---|---|---|---|---|\n",
       "| 15 - 19                           | Males                             | Agriculture, Forestry and Fishing | albury                            |  6                                |\n",
       "| 15 - 19                           | Females                           | Agriculture, Forestry and Fishing | albury                            |  4                                |\n",
       "| 15 - 19                           | Persons                           | Agriculture, Forestry and Fishing | albury                            |  6                                |\n",
       "| 15 - 19                           | Males                             | Agriculture, Forestry and Fishing | armidale regional                 | 34                                |\n",
       "| 15 - 19                           | Females                           | Agriculture, Forestry and Fishing | armidale regional                 |  9                                |\n",
       "| 15 - 19                           | Persons                           | Agriculture, Forestry and Fishing | armidale regional                 | 43                                |\n",
       "\n"
      ],
      "text/plain": [
       "  Age     Sex     Industry of Employment            LGA               emp_value\n",
       "1 15 - 19 Males   Agriculture, Forestry and Fishing albury             6       \n",
       "2 15 - 19 Females Agriculture, Forestry and Fishing albury             4       \n",
       "3 15 - 19 Persons Agriculture, Forestry and Fishing albury             6       \n",
       "4 15 - 19 Males   Agriculture, Forestry and Fishing armidale regional 34       \n",
       "5 15 - 19 Females Agriculture, Forestry and Fishing armidale regional  9       \n",
       "6 15 - 19 Persons Agriculture, Forestry and Fishing armidale regional 43       "
      ]
     },
     "metadata": {},
     "output_type": "display_data"
    },
    {
     "name": "stdout",
     "output_type": "stream",
     "text": [
      "Observations: 79,200\n",
      "Variables: 5\n",
      "$ Age                      \u001b[3m\u001b[90m<fct>\u001b[39m\u001b[23m 15 - 19, 15 - 19, 15 - 19, 15 - 19, 15 - 1...\n",
      "$ Sex                      \u001b[3m\u001b[90m<fct>\u001b[39m\u001b[23m Males, Females, Persons, Males, Females, P...\n",
      "$ `Industry of Employment` \u001b[3m\u001b[90m<fct>\u001b[39m\u001b[23m \"Agriculture, Forestry and Fishing\", \"Agri...\n",
      "$ LGA                      \u001b[3m\u001b[90m<chr>\u001b[39m\u001b[23m \"albury\", \"albury\", \"albury\", \"armidale re...\n",
      "$ emp_value                \u001b[3m\u001b[90m<int>\u001b[39m\u001b[23m 6, 4, 6, 34, 9, 43, 27, 10, 39, 0, 0, 6, 1...\n"
     ]
    }
   ],
   "source": [
    "employment_agg <- input_data$industry_employment %>%\n",
    "    select(-LGA_2016, -`Census year`) %>%\n",
    "    rename(emp_value = Value)\n",
    "\n",
    "head(employment_agg)\n",
    "glimpse(employment_agg)"
   ]
  },
  {
   "cell_type": "markdown",
   "metadata": {},
   "source": [
    "## Labour"
   ]
  },
  {
   "cell_type": "code",
   "execution_count": 79,
   "metadata": {},
   "outputs": [
    {
     "data": {
      "text/html": [
       "<table>\n",
       "<thead><tr><th scope=col>Age</th><th scope=col>Sex</th><th scope=col>Labour force status</th><th scope=col>LGA_2016</th><th scope=col>LGA</th><th scope=col>Census year</th><th scope=col>Value</th></tr></thead>\n",
       "<tbody>\n",
       "\t<tr><td>15 - 19                   </td><td>Males                     </td><td>Employed, worked full-time</td><td>10050                     </td><td>albury                    </td><td>2016                      </td><td>236                       </td></tr>\n",
       "\t<tr><td>15 - 19                   </td><td>Females                   </td><td>Employed, worked full-time</td><td>10050                     </td><td>albury                    </td><td>2016                      </td><td>113                       </td></tr>\n",
       "\t<tr><td>15 - 19                   </td><td>Persons                   </td><td>Employed, worked full-time</td><td>10050                     </td><td>albury                    </td><td>2016                      </td><td>348                       </td></tr>\n",
       "\t<tr><td>15 - 19                   </td><td>Males                     </td><td>Employed, worked full-time</td><td>10130                     </td><td>armidale regional         </td><td>2016                      </td><td>105                       </td></tr>\n",
       "\t<tr><td>15 - 19                   </td><td>Females                   </td><td>Employed, worked full-time</td><td>10130                     </td><td>armidale regional         </td><td>2016                      </td><td> 58                       </td></tr>\n",
       "\t<tr><td>15 - 19                   </td><td>Persons                   </td><td>Employed, worked full-time</td><td>10130                     </td><td>armidale regional         </td><td>2016                      </td><td>160                       </td></tr>\n",
       "</tbody>\n",
       "</table>\n"
      ],
      "text/latex": [
       "\\begin{tabular}{r|lllllll}\n",
       " Age & Sex & Labour force status & LGA\\_2016 & LGA & Census year & Value\\\\\n",
       "\\hline\n",
       "\t 15 - 19                    & Males                      & Employed, worked full-time & 10050                      & albury                     & 2016                       & 236                       \\\\\n",
       "\t 15 - 19                    & Females                    & Employed, worked full-time & 10050                      & albury                     & 2016                       & 113                       \\\\\n",
       "\t 15 - 19                    & Persons                    & Employed, worked full-time & 10050                      & albury                     & 2016                       & 348                       \\\\\n",
       "\t 15 - 19                    & Males                      & Employed, worked full-time & 10130                      & armidale regional          & 2016                       & 105                       \\\\\n",
       "\t 15 - 19                    & Females                    & Employed, worked full-time & 10130                      & armidale regional          & 2016                       &  58                       \\\\\n",
       "\t 15 - 19                    & Persons                    & Employed, worked full-time & 10130                      & armidale regional          & 2016                       & 160                       \\\\\n",
       "\\end{tabular}\n"
      ],
      "text/markdown": [
       "\n",
       "| Age | Sex | Labour force status | LGA_2016 | LGA | Census year | Value |\n",
       "|---|---|---|---|---|---|---|\n",
       "| 15 - 19                    | Males                      | Employed, worked full-time | 10050                      | albury                     | 2016                       | 236                        |\n",
       "| 15 - 19                    | Females                    | Employed, worked full-time | 10050                      | albury                     | 2016                       | 113                        |\n",
       "| 15 - 19                    | Persons                    | Employed, worked full-time | 10050                      | albury                     | 2016                       | 348                        |\n",
       "| 15 - 19                    | Males                      | Employed, worked full-time | 10130                      | armidale regional          | 2016                       | 105                        |\n",
       "| 15 - 19                    | Females                    | Employed, worked full-time | 10130                      | armidale regional          | 2016                       |  58                        |\n",
       "| 15 - 19                    | Persons                    | Employed, worked full-time | 10130                      | armidale regional          | 2016                       | 160                        |\n",
       "\n"
      ],
      "text/plain": [
       "  Age     Sex     Labour force status        LGA_2016 LGA              \n",
       "1 15 - 19 Males   Employed, worked full-time 10050    albury           \n",
       "2 15 - 19 Females Employed, worked full-time 10050    albury           \n",
       "3 15 - 19 Persons Employed, worked full-time 10050    albury           \n",
       "4 15 - 19 Males   Employed, worked full-time 10130    armidale regional\n",
       "5 15 - 19 Females Employed, worked full-time 10130    armidale regional\n",
       "6 15 - 19 Persons Employed, worked full-time 10130    armidale regional\n",
       "  Census year Value\n",
       "1 2016        236  \n",
       "2 2016        113  \n",
       "3 2016        348  \n",
       "4 2016        105  \n",
       "5 2016         58  \n",
       "6 2016        160  "
      ]
     },
     "metadata": {},
     "output_type": "display_data"
    }
   ],
   "source": [
    "head(input_data$labour)"
   ]
  },
  {
   "cell_type": "code",
   "execution_count": 80,
   "metadata": {},
   "outputs": [
    {
     "data": {
      "text/html": [
       "<table>\n",
       "<thead><tr><th scope=col>Age</th><th scope=col>Sex</th><th scope=col>Labour force status</th><th scope=col>LGA</th><th scope=col>labour_value</th></tr></thead>\n",
       "<tbody>\n",
       "\t<tr><td>15 - 19                   </td><td>Males                     </td><td>Employed, worked full-time</td><td>albury                    </td><td>236                       </td></tr>\n",
       "\t<tr><td>15 - 19                   </td><td>Females                   </td><td>Employed, worked full-time</td><td>albury                    </td><td>113                       </td></tr>\n",
       "\t<tr><td>15 - 19                   </td><td>Persons                   </td><td>Employed, worked full-time</td><td>albury                    </td><td>348                       </td></tr>\n",
       "\t<tr><td>15 - 19                   </td><td>Males                     </td><td>Employed, worked full-time</td><td>armidale regional         </td><td>105                       </td></tr>\n",
       "\t<tr><td>15 - 19                   </td><td>Females                   </td><td>Employed, worked full-time</td><td>armidale regional         </td><td> 58                       </td></tr>\n",
       "\t<tr><td>15 - 19                   </td><td>Persons                   </td><td>Employed, worked full-time</td><td>armidale regional         </td><td>160                       </td></tr>\n",
       "</tbody>\n",
       "</table>\n"
      ],
      "text/latex": [
       "\\begin{tabular}{r|lllll}\n",
       " Age & Sex & Labour force status & LGA & labour\\_value\\\\\n",
       "\\hline\n",
       "\t 15 - 19                    & Males                      & Employed, worked full-time & albury                     & 236                       \\\\\n",
       "\t 15 - 19                    & Females                    & Employed, worked full-time & albury                     & 113                       \\\\\n",
       "\t 15 - 19                    & Persons                    & Employed, worked full-time & albury                     & 348                       \\\\\n",
       "\t 15 - 19                    & Males                      & Employed, worked full-time & armidale regional          & 105                       \\\\\n",
       "\t 15 - 19                    & Females                    & Employed, worked full-time & armidale regional          &  58                       \\\\\n",
       "\t 15 - 19                    & Persons                    & Employed, worked full-time & armidale regional          & 160                       \\\\\n",
       "\\end{tabular}\n"
      ],
      "text/markdown": [
       "\n",
       "| Age | Sex | Labour force status | LGA | labour_value |\n",
       "|---|---|---|---|---|\n",
       "| 15 - 19                    | Males                      | Employed, worked full-time | albury                     | 236                        |\n",
       "| 15 - 19                    | Females                    | Employed, worked full-time | albury                     | 113                        |\n",
       "| 15 - 19                    | Persons                    | Employed, worked full-time | albury                     | 348                        |\n",
       "| 15 - 19                    | Males                      | Employed, worked full-time | armidale regional          | 105                        |\n",
       "| 15 - 19                    | Females                    | Employed, worked full-time | armidale regional          |  58                        |\n",
       "| 15 - 19                    | Persons                    | Employed, worked full-time | armidale regional          | 160                        |\n",
       "\n"
      ],
      "text/plain": [
       "  Age     Sex     Labour force status        LGA               labour_value\n",
       "1 15 - 19 Males   Employed, worked full-time albury            236         \n",
       "2 15 - 19 Females Employed, worked full-time albury            113         \n",
       "3 15 - 19 Persons Employed, worked full-time albury            348         \n",
       "4 15 - 19 Males   Employed, worked full-time armidale regional 105         \n",
       "5 15 - 19 Females Employed, worked full-time armidale regional  58         \n",
       "6 15 - 19 Persons Employed, worked full-time armidale regional 160         "
      ]
     },
     "metadata": {},
     "output_type": "display_data"
    },
    {
     "name": "stdout",
     "output_type": "stream",
     "text": [
      "Observations: 28,512\n",
      "Variables: 5\n",
      "$ Age                   \u001b[3m\u001b[90m<fct>\u001b[39m\u001b[23m 15 - 19, 15 - 19, 15 - 19, 15 - 19, 15 - 19, ...\n",
      "$ Sex                   \u001b[3m\u001b[90m<fct>\u001b[39m\u001b[23m Males, Females, Persons, Males, Females, Pers...\n",
      "$ `Labour force status` \u001b[3m\u001b[90m<fct>\u001b[39m\u001b[23m \"Employed, worked full-time\", \"Employed, work...\n",
      "$ LGA                   \u001b[3m\u001b[90m<chr>\u001b[39m\u001b[23m \"albury\", \"albury\", \"albury\", \"armidale regio...\n",
      "$ labour_value          \u001b[3m\u001b[90m<int>\u001b[39m\u001b[23m 236, 113, 348, 105, 58, 160, 115, 53, 168, 11...\n"
     ]
    }
   ],
   "source": [
    "labour_agg <- input_data$labour %>%\n",
    "    select(-LGA_2016, -`Census year`) %>%\n",
    "    filter(!grepl(\"Total\", `Labour force status`)) %>%\n",
    "    rename(labour_value = Value)\n",
    "\n",
    "head(labour_agg)\n",
    "glimpse(labour_agg)"
   ]
  },
  {
   "cell_type": "code",
   "execution_count": 81,
   "metadata": {},
   "outputs": [
    {
     "data": {
      "text/html": [
       "<table>\n",
       "<thead><tr><th scope=col>LGA</th><th scope=col>num_service</th></tr></thead>\n",
       "<tbody>\n",
       "\t<tr><td>albury           </td><td>  1769           </td></tr>\n",
       "\t<tr><td>armidale regional</td><td>   185           </td></tr>\n",
       "\t<tr><td>ballina          </td><td>  1353           </td></tr>\n",
       "\t<tr><td>balranald        </td><td>     4           </td></tr>\n",
       "\t<tr><td>bathurst regional</td><td>  2882           </td></tr>\n",
       "\t<tr><td>bayside          </td><td>143697           </td></tr>\n",
       "</tbody>\n",
       "</table>\n"
      ],
      "text/latex": [
       "\\begin{tabular}{r|ll}\n",
       " LGA & num\\_service\\\\\n",
       "\\hline\n",
       "\t albury            &   1769           \\\\\n",
       "\t armidale regional &    185           \\\\\n",
       "\t ballina           &   1353           \\\\\n",
       "\t balranald         &      4           \\\\\n",
       "\t bathurst regional &   2882           \\\\\n",
       "\t bayside           & 143697           \\\\\n",
       "\\end{tabular}\n"
      ],
      "text/markdown": [
       "\n",
       "| LGA | num_service |\n",
       "|---|---|\n",
       "| albury            |   1769            |\n",
       "| armidale regional |    185            |\n",
       "| ballina           |   1353            |\n",
       "| balranald         |      4            |\n",
       "| bathurst regional |   2882            |\n",
       "| bayside           | 143697            |\n",
       "\n"
      ],
      "text/plain": [
       "  LGA               num_service\n",
       "1 albury              1769     \n",
       "2 armidale regional    185     \n",
       "3 ballina             1353     \n",
       "4 balranald              4     \n",
       "5 bathurst regional   2882     \n",
       "6 bayside           143697     "
      ]
     },
     "metadata": {},
     "output_type": "display_data"
    },
    {
     "name": "stdout",
     "output_type": "stream",
     "text": [
      "Observations: 128\n",
      "Variables: 2\n",
      "$ LGA         \u001b[3m\u001b[90m<chr>\u001b[39m\u001b[23m \"albury\", \"armidale regional\", \"ballina\", \"balranald\", ...\n",
      "$ num_service \u001b[3m\u001b[90m<dbl>\u001b[39m\u001b[23m 1769, 185, 1353, 4, 2882, 143697, 771, 422, 10, 248915,...\n"
     ]
    }
   ],
   "source": [
    "transport_agg <- input_data$transport %>%\n",
    "    group_by(LGA) %>%\n",
    "    summarise(num_service = sum(num_service))\n",
    "\n",
    "head(transport_agg)\n",
    "glimpse(transport_agg)"
   ]
  },
  {
   "cell_type": "markdown",
   "metadata": {},
   "source": [
    "# Joining the Aggregated Data"
   ]
  },
  {
   "cell_type": "markdown",
   "metadata": {},
   "source": [
    "Aggregate the crime per LGA."
   ]
  },
  {
   "cell_type": "code",
   "execution_count": 82,
   "metadata": {},
   "outputs": [
    {
     "data": {
      "text/html": [
       "<table>\n",
       "<thead><tr><th scope=col>LGA</th><th scope=col>Offence</th><th scope=col>Crim_Count</th><th scope=col>crime_tot_per_lga</th><th scope=col>crime_rate_per_lga</th><th scope=col>pop_total</th></tr></thead>\n",
       "<tbody>\n",
       "\t<tr><td>albury                               </td><td>Murder *                             </td><td>  2                                  </td><td>6233                                 </td><td>0.1220219                            </td><td>51081                                </td></tr>\n",
       "\t<tr><td>albury                               </td><td>Attempted murder                     </td><td>  1                                  </td><td>6233                                 </td><td>0.1220219                            </td><td>51081                                </td></tr>\n",
       "\t<tr><td>albury                               </td><td>Murder accessory, conspiracy         </td><td>  0                                  </td><td>6233                                 </td><td>0.1220219                            </td><td>51081                                </td></tr>\n",
       "\t<tr><td>albury                               </td><td>Manslaughter *                       </td><td>  0                                  </td><td>6233                                 </td><td>0.1220219                            </td><td>51081                                </td></tr>\n",
       "\t<tr><td>albury                               </td><td>Domestic violence related assault    </td><td>284                                  </td><td>6233                                 </td><td>0.1220219                            </td><td>51081                                </td></tr>\n",
       "\t<tr><td>albury                               </td><td>Non-domestic violence related assault</td><td>296                                  </td><td>6233                                 </td><td>0.1220219                            </td><td>51081                                </td></tr>\n",
       "</tbody>\n",
       "</table>\n"
      ],
      "text/latex": [
       "\\begin{tabular}{r|llllll}\n",
       " LGA & Offence & Crim\\_Count & crime\\_tot\\_per\\_lga & crime\\_rate\\_per\\_lga & pop\\_total\\\\\n",
       "\\hline\n",
       "\t albury                                & Murder *                              &   2                                   & 6233                                  & 0.1220219                             & 51081                                \\\\\n",
       "\t albury                                & Attempted murder                      &   1                                   & 6233                                  & 0.1220219                             & 51081                                \\\\\n",
       "\t albury                                & Murder accessory, conspiracy          &   0                                   & 6233                                  & 0.1220219                             & 51081                                \\\\\n",
       "\t albury                                & Manslaughter *                        &   0                                   & 6233                                  & 0.1220219                             & 51081                                \\\\\n",
       "\t albury                                & Domestic violence related assault     & 284                                   & 6233                                  & 0.1220219                             & 51081                                \\\\\n",
       "\t albury                                & Non-domestic violence related assault & 296                                   & 6233                                  & 0.1220219                             & 51081                                \\\\\n",
       "\\end{tabular}\n"
      ],
      "text/markdown": [
       "\n",
       "| LGA | Offence | Crim_Count | crime_tot_per_lga | crime_rate_per_lga | pop_total |\n",
       "|---|---|---|---|---|---|\n",
       "| albury                                | Murder *                              |   2                                   | 6233                                  | 0.1220219                             | 51081                                 |\n",
       "| albury                                | Attempted murder                      |   1                                   | 6233                                  | 0.1220219                             | 51081                                 |\n",
       "| albury                                | Murder accessory, conspiracy          |   0                                   | 6233                                  | 0.1220219                             | 51081                                 |\n",
       "| albury                                | Manslaughter *                        |   0                                   | 6233                                  | 0.1220219                             | 51081                                 |\n",
       "| albury                                | Domestic violence related assault     | 284                                   | 6233                                  | 0.1220219                             | 51081                                 |\n",
       "| albury                                | Non-domestic violence related assault | 296                                   | 6233                                  | 0.1220219                             | 51081                                 |\n",
       "\n"
      ],
      "text/plain": [
       "  LGA    Offence                               Crim_Count crime_tot_per_lga\n",
       "1 albury Murder *                                2        6233             \n",
       "2 albury Attempted murder                        1        6233             \n",
       "3 albury Murder accessory, conspiracy            0        6233             \n",
       "4 albury Manslaughter *                          0        6233             \n",
       "5 albury Domestic violence related assault     284        6233             \n",
       "6 albury Non-domestic violence related assault 296        6233             \n",
       "  crime_rate_per_lga pop_total\n",
       "1 0.1220219          51081    \n",
       "2 0.1220219          51081    \n",
       "3 0.1220219          51081    \n",
       "4 0.1220219          51081    \n",
       "5 0.1220219          51081    \n",
       "6 0.1220219          51081    "
      ]
     },
     "metadata": {},
     "output_type": "display_data"
    }
   ],
   "source": [
    "head(input_data$crime)"
   ]
  },
  {
   "cell_type": "code",
   "execution_count": 83,
   "metadata": {},
   "outputs": [
    {
     "data": {
      "text/html": [
       "<table>\n",
       "<thead><tr><th scope=col>LGA</th><th scope=col>crime_tot_per_lga</th><th scope=col>pop_total</th><th scope=col>crime_rate_per_lga</th></tr></thead>\n",
       "<tbody>\n",
       "\t<tr><td>albury           </td><td> 6233            </td><td>51081            </td><td>0.12202189       </td></tr>\n",
       "\t<tr><td>armidale regional</td><td> 4028            </td><td>29429            </td><td>0.13687179       </td></tr>\n",
       "\t<tr><td>ballina          </td><td> 2690            </td><td>41774            </td><td>0.06439412       </td></tr>\n",
       "\t<tr><td>balranald        </td><td>  192            </td><td> 2292            </td><td>0.08376963       </td></tr>\n",
       "\t<tr><td>bathurst regional</td><td> 4027            </td><td>41297            </td><td>0.09751314       </td></tr>\n",
       "\t<tr><td>bayside          </td><td>13024            </td><td>   NA            </td><td>        NA       </td></tr>\n",
       "</tbody>\n",
       "</table>\n"
      ],
      "text/latex": [
       "\\begin{tabular}{r|llll}\n",
       " LGA & crime\\_tot\\_per\\_lga & pop\\_total & crime\\_rate\\_per\\_lga\\\\\n",
       "\\hline\n",
       "\t albury            &  6233             & 51081             & 0.12202189       \\\\\n",
       "\t armidale regional &  4028             & 29429             & 0.13687179       \\\\\n",
       "\t ballina           &  2690             & 41774             & 0.06439412       \\\\\n",
       "\t balranald         &   192             &  2292             & 0.08376963       \\\\\n",
       "\t bathurst regional &  4027             & 41297             & 0.09751314       \\\\\n",
       "\t bayside           & 13024             &    NA             &         NA       \\\\\n",
       "\\end{tabular}\n"
      ],
      "text/markdown": [
       "\n",
       "| LGA | crime_tot_per_lga | pop_total | crime_rate_per_lga |\n",
       "|---|---|---|---|\n",
       "| albury            |  6233             | 51081             | 0.12202189        |\n",
       "| armidale regional |  4028             | 29429             | 0.13687179        |\n",
       "| ballina           |  2690             | 41774             | 0.06439412        |\n",
       "| balranald         |   192             |  2292             | 0.08376963        |\n",
       "| bathurst regional |  4027             | 41297             | 0.09751314        |\n",
       "| bayside           | 13024             |    NA             |         NA        |\n",
       "\n"
      ],
      "text/plain": [
       "  LGA               crime_tot_per_lga pop_total crime_rate_per_lga\n",
       "1 albury             6233             51081     0.12202189        \n",
       "2 armidale regional  4028             29429     0.13687179        \n",
       "3 ballina            2690             41774     0.06439412        \n",
       "4 balranald           192              2292     0.08376963        \n",
       "5 bathurst regional  4027             41297     0.09751314        \n",
       "6 bayside           13024                NA             NA        "
      ]
     },
     "metadata": {},
     "output_type": "display_data"
    },
    {
     "name": "stdout",
     "output_type": "stream",
     "text": [
      "Observations: 130\n",
      "Variables: 4\n",
      "$ LGA                \u001b[3m\u001b[90m<chr>\u001b[39m\u001b[23m \"albury\", \"armidale regional\", \"ballina\", \"balra...\n",
      "$ crime_tot_per_lga  \u001b[3m\u001b[90m<int>\u001b[39m\u001b[23m 6233, 4028, 2690, 192, 4027, 13024, 2119, 798, 4...\n",
      "$ pop_total          \u001b[3m\u001b[90m<dbl>\u001b[39m\u001b[23m 51081, 29429, 41774, 2292, 41297, NA, 33229, 126...\n",
      "$ crime_rate_per_lga \u001b[3m\u001b[90m<dbl>\u001b[39m\u001b[23m 0.12202189, 0.13687179, 0.06439412, 0.08376963, ...\n"
     ]
    }
   ],
   "source": [
    "joined_agg <- input_data$crime %>%\n",
    "    group_by(LGA) %>%\n",
    "    summarise(crime_tot_per_lga = sum(Crim_Count), pop_total = mean(pop_total), crime_rate_per_lga = mean(crime_rate_per_lga))\n",
    "\n",
    "head(joined_agg)\n",
    "glimpse(joined_agg)"
   ]
  },
  {
   "cell_type": "markdown",
   "metadata": {},
   "source": [
    "## Joining `age`"
   ]
  },
  {
   "cell_type": "code",
   "execution_count": 84,
   "metadata": {},
   "outputs": [
    {
     "data": {
      "text/html": [
       "<table>\n",
       "<thead><tr><th scope=col>LGA</th><th scope=col>crime_tot_per_lga</th><th scope=col>crime_rate_per_lga</th><th scope=col>Sex</th><th scope=col>Age</th><th scope=col>pop</th><th scope=col>pop_total</th></tr></thead>\n",
       "<tbody>\n",
       "\t<tr><td>albury   </td><td>6233     </td><td>0.1220219</td><td>Females  </td><td>95 - 99  </td><td> 78      </td><td>51081    </td></tr>\n",
       "\t<tr><td>albury   </td><td>6233     </td><td>0.1220219</td><td>Males    </td><td>95 - 99  </td><td> 21      </td><td>51081    </td></tr>\n",
       "\t<tr><td>albury   </td><td>6233     </td><td>0.1220219</td><td>Females  </td><td>90 - 94  </td><td>271      </td><td>51081    </td></tr>\n",
       "\t<tr><td>albury   </td><td>6233     </td><td>0.1220219</td><td>Males    </td><td>90 - 94  </td><td>117      </td><td>51081    </td></tr>\n",
       "\t<tr><td>albury   </td><td>6233     </td><td>0.1220219</td><td>Females  </td><td>85 - 89  </td><td>484      </td><td>51081    </td></tr>\n",
       "\t<tr><td>albury   </td><td>6233     </td><td>0.1220219</td><td>Males    </td><td>85 - 89  </td><td>351      </td><td>51081    </td></tr>\n",
       "</tbody>\n",
       "</table>\n"
      ],
      "text/latex": [
       "\\begin{tabular}{r|lllllll}\n",
       " LGA & crime\\_tot\\_per\\_lga & crime\\_rate\\_per\\_lga & Sex & Age & pop & pop\\_total\\\\\n",
       "\\hline\n",
       "\t albury    & 6233      & 0.1220219 & Females   & 95 - 99   &  78       & 51081    \\\\\n",
       "\t albury    & 6233      & 0.1220219 & Males     & 95 - 99   &  21       & 51081    \\\\\n",
       "\t albury    & 6233      & 0.1220219 & Females   & 90 - 94   & 271       & 51081    \\\\\n",
       "\t albury    & 6233      & 0.1220219 & Males     & 90 - 94   & 117       & 51081    \\\\\n",
       "\t albury    & 6233      & 0.1220219 & Females   & 85 - 89   & 484       & 51081    \\\\\n",
       "\t albury    & 6233      & 0.1220219 & Males     & 85 - 89   & 351       & 51081    \\\\\n",
       "\\end{tabular}\n"
      ],
      "text/markdown": [
       "\n",
       "| LGA | crime_tot_per_lga | crime_rate_per_lga | Sex | Age | pop | pop_total |\n",
       "|---|---|---|---|---|---|---|\n",
       "| albury    | 6233      | 0.1220219 | Females   | 95 - 99   |  78       | 51081     |\n",
       "| albury    | 6233      | 0.1220219 | Males     | 95 - 99   |  21       | 51081     |\n",
       "| albury    | 6233      | 0.1220219 | Females   | 90 - 94   | 271       | 51081     |\n",
       "| albury    | 6233      | 0.1220219 | Males     | 90 - 94   | 117       | 51081     |\n",
       "| albury    | 6233      | 0.1220219 | Females   | 85 - 89   | 484       | 51081     |\n",
       "| albury    | 6233      | 0.1220219 | Males     | 85 - 89   | 351       | 51081     |\n",
       "\n"
      ],
      "text/plain": [
       "  LGA    crime_tot_per_lga crime_rate_per_lga Sex     Age     pop pop_total\n",
       "1 albury 6233              0.1220219          Females 95 - 99  78 51081    \n",
       "2 albury 6233              0.1220219          Males   95 - 99  21 51081    \n",
       "3 albury 6233              0.1220219          Females 90 - 94 271 51081    \n",
       "4 albury 6233              0.1220219          Males   90 - 94 117 51081    \n",
       "5 albury 6233              0.1220219          Females 85 - 89 484 51081    \n",
       "6 albury 6233              0.1220219          Males   85 - 89 351 51081    "
      ]
     },
     "metadata": {},
     "output_type": "display_data"
    },
    {
     "name": "stdout",
     "output_type": "stream",
     "text": [
      "Observations: 5,505\n",
      "Variables: 7\n",
      "$ LGA                \u001b[3m\u001b[90m<chr>\u001b[39m\u001b[23m \"albury\", \"albury\", \"albury\", \"albury\", \"albury\"...\n",
      "$ crime_tot_per_lga  \u001b[3m\u001b[90m<int>\u001b[39m\u001b[23m 6233, 6233, 6233, 6233, 6233, 6233, 6233, 6233, ...\n",
      "$ crime_rate_per_lga \u001b[3m\u001b[90m<dbl>\u001b[39m\u001b[23m 0.1220219, 0.1220219, 0.1220219, 0.1220219, 0.12...\n",
      "$ Sex                \u001b[3m\u001b[90m<fct>\u001b[39m\u001b[23m Females, Males, Females, Males, Females, Males, ...\n",
      "$ Age                \u001b[3m\u001b[90m<fct>\u001b[39m\u001b[23m 95 - 99, 95 - 99, 90 - 94, 90 - 94, 85 - 89, 85 ...\n",
      "$ pop                \u001b[3m\u001b[90m<int>\u001b[39m\u001b[23m 78, 21, 271, 117, 484, 351, 734, 501, 924, 746, ...\n",
      "$ pop_total          \u001b[3m\u001b[90m<int>\u001b[39m\u001b[23m 51081, 51081, 51081, 51081, 51081, 51081, 51081,...\n"
     ]
    }
   ],
   "source": [
    "joined_agg %<>%\n",
    "    select(-pop_total) %>%\n",
    "    left_join(age_agg, by = \"LGA\")\n",
    "\n",
    "head(joined_agg)\n",
    "glimpse(joined_agg)"
   ]
  },
  {
   "cell_type": "markdown",
   "metadata": {},
   "source": [
    "## Add Country of Birth"
   ]
  },
  {
   "cell_type": "code",
   "execution_count": 85,
   "metadata": {},
   "outputs": [
    {
     "data": {
      "text/html": [
       "<table>\n",
       "<thead><tr><th scope=col>LGA</th><th scope=col>birthplace_of_person</th><th scope=col>birth_value</th></tr></thead>\n",
       "<tbody>\n",
       "\t<tr><td>albury          </td><td>New Zealand     </td><td>2510            </td></tr>\n",
       "\t<tr><td>albury          </td><td>Papua New Guinea</td><td>  99            </td></tr>\n",
       "\t<tr><td>albury          </td><td>Fiji            </td><td> 218            </td></tr>\n",
       "\t<tr><td>albury          </td><td>Tonga           </td><td>  24            </td></tr>\n",
       "\t<tr><td>albury          </td><td>England         </td><td>4254            </td></tr>\n",
       "\t<tr><td>albury          </td><td>Northern Ireland</td><td>  64            </td></tr>\n",
       "</tbody>\n",
       "</table>\n"
      ],
      "text/latex": [
       "\\begin{tabular}{r|lll}\n",
       " LGA & birthplace\\_of\\_person & birth\\_value\\\\\n",
       "\\hline\n",
       "\t albury           & New Zealand      & 2510            \\\\\n",
       "\t albury           & Papua New Guinea &   99            \\\\\n",
       "\t albury           & Fiji             &  218            \\\\\n",
       "\t albury           & Tonga            &   24            \\\\\n",
       "\t albury           & England          & 4254            \\\\\n",
       "\t albury           & Northern Ireland &   64            \\\\\n",
       "\\end{tabular}\n"
      ],
      "text/markdown": [
       "\n",
       "| LGA | birthplace_of_person | birth_value |\n",
       "|---|---|---|\n",
       "| albury           | New Zealand      | 2510             |\n",
       "| albury           | Papua New Guinea |   99             |\n",
       "| albury           | Fiji             |  218             |\n",
       "| albury           | Tonga            |   24             |\n",
       "| albury           | England          | 4254             |\n",
       "| albury           | Northern Ireland |   64             |\n",
       "\n"
      ],
      "text/plain": [
       "  LGA    birthplace_of_person birth_value\n",
       "1 albury New Zealand          2510       \n",
       "2 albury Papua New Guinea       99       \n",
       "3 albury Fiji                  218       \n",
       "4 albury Tonga                  24       \n",
       "5 albury England              4254       \n",
       "6 albury Northern Ireland       64       "
      ]
     },
     "metadata": {},
     "output_type": "display_data"
    }
   ],
   "source": [
    "head(country_agg)"
   ]
  },
  {
   "cell_type": "code",
   "execution_count": 86,
   "metadata": {},
   "outputs": [
    {
     "data": {
      "text/html": [
       "<table>\n",
       "<thead><tr><th scope=col>LGA</th><th scope=col>crime_tot_per_lga</th><th scope=col>crime_rate_per_lga</th><th scope=col>Sex</th><th scope=col>Age</th><th scope=col>pop</th><th scope=col>pop_total</th><th scope=col>birthplace_of_person</th><th scope=col>birth_value</th></tr></thead>\n",
       "<tbody>\n",
       "\t<tr><td>albury          </td><td>6233            </td><td>0.1220219       </td><td>Females         </td><td>95 - 99         </td><td>78              </td><td>51081           </td><td>New Zealand     </td><td>2510            </td></tr>\n",
       "\t<tr><td>albury          </td><td>6233            </td><td>0.1220219       </td><td>Females         </td><td>95 - 99         </td><td>78              </td><td>51081           </td><td>Papua New Guinea</td><td>  99            </td></tr>\n",
       "\t<tr><td>albury          </td><td>6233            </td><td>0.1220219       </td><td>Females         </td><td>95 - 99         </td><td>78              </td><td>51081           </td><td>Fiji            </td><td> 218            </td></tr>\n",
       "\t<tr><td>albury          </td><td>6233            </td><td>0.1220219       </td><td>Females         </td><td>95 - 99         </td><td>78              </td><td>51081           </td><td>Tonga           </td><td>  24            </td></tr>\n",
       "\t<tr><td>albury          </td><td>6233            </td><td>0.1220219       </td><td>Females         </td><td>95 - 99         </td><td>78              </td><td>51081           </td><td>England         </td><td>4254            </td></tr>\n",
       "\t<tr><td>albury          </td><td>6233            </td><td>0.1220219       </td><td>Females         </td><td>95 - 99         </td><td>78              </td><td>51081           </td><td>Northern Ireland</td><td>  64            </td></tr>\n",
       "</tbody>\n",
       "</table>\n"
      ],
      "text/latex": [
       "\\begin{tabular}{r|lllllllll}\n",
       " LGA & crime\\_tot\\_per\\_lga & crime\\_rate\\_per\\_lga & Sex & Age & pop & pop\\_total & birthplace\\_of\\_person & birth\\_value\\\\\n",
       "\\hline\n",
       "\t albury           & 6233             & 0.1220219        & Females          & 95 - 99          & 78               & 51081            & New Zealand      & 2510            \\\\\n",
       "\t albury           & 6233             & 0.1220219        & Females          & 95 - 99          & 78               & 51081            & Papua New Guinea &   99            \\\\\n",
       "\t albury           & 6233             & 0.1220219        & Females          & 95 - 99          & 78               & 51081            & Fiji             &  218            \\\\\n",
       "\t albury           & 6233             & 0.1220219        & Females          & 95 - 99          & 78               & 51081            & Tonga            &   24            \\\\\n",
       "\t albury           & 6233             & 0.1220219        & Females          & 95 - 99          & 78               & 51081            & England          & 4254            \\\\\n",
       "\t albury           & 6233             & 0.1220219        & Females          & 95 - 99          & 78               & 51081            & Northern Ireland &   64            \\\\\n",
       "\\end{tabular}\n"
      ],
      "text/markdown": [
       "\n",
       "| LGA | crime_tot_per_lga | crime_rate_per_lga | Sex | Age | pop | pop_total | birthplace_of_person | birth_value |\n",
       "|---|---|---|---|---|---|---|---|---|\n",
       "| albury           | 6233             | 0.1220219        | Females          | 95 - 99          | 78               | 51081            | New Zealand      | 2510             |\n",
       "| albury           | 6233             | 0.1220219        | Females          | 95 - 99          | 78               | 51081            | Papua New Guinea |   99             |\n",
       "| albury           | 6233             | 0.1220219        | Females          | 95 - 99          | 78               | 51081            | Fiji             |  218             |\n",
       "| albury           | 6233             | 0.1220219        | Females          | 95 - 99          | 78               | 51081            | Tonga            |   24             |\n",
       "| albury           | 6233             | 0.1220219        | Females          | 95 - 99          | 78               | 51081            | England          | 4254             |\n",
       "| albury           | 6233             | 0.1220219        | Females          | 95 - 99          | 78               | 51081            | Northern Ireland |   64             |\n",
       "\n"
      ],
      "text/plain": [
       "  LGA    crime_tot_per_lga crime_rate_per_lga Sex     Age     pop pop_total\n",
       "1 albury 6233              0.1220219          Females 95 - 99 78  51081    \n",
       "2 albury 6233              0.1220219          Females 95 - 99 78  51081    \n",
       "3 albury 6233              0.1220219          Females 95 - 99 78  51081    \n",
       "4 albury 6233              0.1220219          Females 95 - 99 78  51081    \n",
       "5 albury 6233              0.1220219          Females 95 - 99 78  51081    \n",
       "6 albury 6233              0.1220219          Females 95 - 99 78  51081    \n",
       "  birthplace_of_person birth_value\n",
       "1 New Zealand          2510       \n",
       "2 Papua New Guinea       99       \n",
       "3 Fiji                  218       \n",
       "4 Tonga                  24       \n",
       "5 England              4254       \n",
       "6 Northern Ireland       64       "
      ]
     },
     "metadata": {},
     "output_type": "display_data"
    },
    {
     "name": "stdout",
     "output_type": "stream",
     "text": [
      "Observations: 354,953\n",
      "Variables: 9\n",
      "$ LGA                  \u001b[3m\u001b[90m<chr>\u001b[39m\u001b[23m \"albury\", \"albury\", \"albury\", \"albury\", \"albur...\n",
      "$ crime_tot_per_lga    \u001b[3m\u001b[90m<int>\u001b[39m\u001b[23m 6233, 6233, 6233, 6233, 6233, 6233, 6233, 6233...\n",
      "$ crime_rate_per_lga   \u001b[3m\u001b[90m<dbl>\u001b[39m\u001b[23m 0.1220219, 0.1220219, 0.1220219, 0.1220219, 0....\n",
      "$ Sex                  \u001b[3m\u001b[90m<fct>\u001b[39m\u001b[23m Females, Females, Females, Females, Females, F...\n",
      "$ Age                  \u001b[3m\u001b[90m<fct>\u001b[39m\u001b[23m 95 - 99, 95 - 99, 95 - 99, 95 - 99, 95 - 99, 9...\n",
      "$ pop                  \u001b[3m\u001b[90m<int>\u001b[39m\u001b[23m 78, 78, 78, 78, 78, 78, 78, 78, 78, 78, 78, 78...\n",
      "$ pop_total            \u001b[3m\u001b[90m<int>\u001b[39m\u001b[23m 51081, 51081, 51081, 51081, 51081, 51081, 5108...\n",
      "$ birthplace_of_person \u001b[3m\u001b[90m<fct>\u001b[39m\u001b[23m \"New Zealand\", \"Papua New Guinea\", \"Fiji\", \"To...\n",
      "$ birth_value          \u001b[3m\u001b[90m<dbl>\u001b[39m\u001b[23m 2510, 99, 218, 24, 4254, 64, 800, 213, 325, 25...\n"
     ]
    }
   ],
   "source": [
    "joined_agg %<>%\n",
    "    left_join(country_agg, by = \"LGA\")\n",
    "\n",
    "head(joined_agg)\n",
    "glimpse(joined_agg)"
   ]
  },
  {
   "cell_type": "markdown",
   "metadata": {},
   "source": [
    "## Add Industry Employment"
   ]
  },
  {
   "cell_type": "code",
   "execution_count": 87,
   "metadata": {},
   "outputs": [
    {
     "data": {
      "text/html": [
       "<table>\n",
       "<thead><tr><th scope=col>Age</th><th scope=col>Sex</th><th scope=col>Industry of Employment</th><th scope=col>LGA</th><th scope=col>emp_value</th></tr></thead>\n",
       "<tbody>\n",
       "\t<tr><td>15 - 19                          </td><td>Males                            </td><td>Agriculture, Forestry and Fishing</td><td>albury                           </td><td> 6                               </td></tr>\n",
       "\t<tr><td>15 - 19                          </td><td>Females                          </td><td>Agriculture, Forestry and Fishing</td><td>albury                           </td><td> 4                               </td></tr>\n",
       "\t<tr><td>15 - 19                          </td><td>Persons                          </td><td>Agriculture, Forestry and Fishing</td><td>albury                           </td><td> 6                               </td></tr>\n",
       "\t<tr><td>15 - 19                          </td><td>Males                            </td><td>Agriculture, Forestry and Fishing</td><td>armidale regional                </td><td>34                               </td></tr>\n",
       "\t<tr><td>15 - 19                          </td><td>Females                          </td><td>Agriculture, Forestry and Fishing</td><td>armidale regional                </td><td> 9                               </td></tr>\n",
       "\t<tr><td>15 - 19                          </td><td>Persons                          </td><td>Agriculture, Forestry and Fishing</td><td>armidale regional                </td><td>43                               </td></tr>\n",
       "</tbody>\n",
       "</table>\n"
      ],
      "text/latex": [
       "\\begin{tabular}{r|lllll}\n",
       " Age & Sex & Industry of Employment & LGA & emp\\_value\\\\\n",
       "\\hline\n",
       "\t 15 - 19                           & Males                             & Agriculture, Forestry and Fishing & albury                            &  6                               \\\\\n",
       "\t 15 - 19                           & Females                           & Agriculture, Forestry and Fishing & albury                            &  4                               \\\\\n",
       "\t 15 - 19                           & Persons                           & Agriculture, Forestry and Fishing & albury                            &  6                               \\\\\n",
       "\t 15 - 19                           & Males                             & Agriculture, Forestry and Fishing & armidale regional                 & 34                               \\\\\n",
       "\t 15 - 19                           & Females                           & Agriculture, Forestry and Fishing & armidale regional                 &  9                               \\\\\n",
       "\t 15 - 19                           & Persons                           & Agriculture, Forestry and Fishing & armidale regional                 & 43                               \\\\\n",
       "\\end{tabular}\n"
      ],
      "text/markdown": [
       "\n",
       "| Age | Sex | Industry of Employment | LGA | emp_value |\n",
       "|---|---|---|---|---|\n",
       "| 15 - 19                           | Males                             | Agriculture, Forestry and Fishing | albury                            |  6                                |\n",
       "| 15 - 19                           | Females                           | Agriculture, Forestry and Fishing | albury                            |  4                                |\n",
       "| 15 - 19                           | Persons                           | Agriculture, Forestry and Fishing | albury                            |  6                                |\n",
       "| 15 - 19                           | Males                             | Agriculture, Forestry and Fishing | armidale regional                 | 34                                |\n",
       "| 15 - 19                           | Females                           | Agriculture, Forestry and Fishing | armidale regional                 |  9                                |\n",
       "| 15 - 19                           | Persons                           | Agriculture, Forestry and Fishing | armidale regional                 | 43                                |\n",
       "\n"
      ],
      "text/plain": [
       "  Age     Sex     Industry of Employment            LGA               emp_value\n",
       "1 15 - 19 Males   Agriculture, Forestry and Fishing albury             6       \n",
       "2 15 - 19 Females Agriculture, Forestry and Fishing albury             4       \n",
       "3 15 - 19 Persons Agriculture, Forestry and Fishing albury             6       \n",
       "4 15 - 19 Males   Agriculture, Forestry and Fishing armidale regional 34       \n",
       "5 15 - 19 Females Agriculture, Forestry and Fishing armidale regional  9       \n",
       "6 15 - 19 Persons Agriculture, Forestry and Fishing armidale regional 43       "
      ]
     },
     "metadata": {},
     "output_type": "display_data"
    }
   ],
   "source": [
    "head(employment_agg)"
   ]
  },
  {
   "cell_type": "code",
   "execution_count": 88,
   "metadata": {},
   "outputs": [
    {
     "name": "stderr",
     "output_type": "stream",
     "text": [
      "Warning message:\n",
      "\"Column `Age` joining factors with different levels, coercing to character vector\"Warning message:\n",
      "\"Column `Sex` joining factors with different levels, coercing to character vector\""
     ]
    },
    {
     "data": {
      "text/html": [
       "<table>\n",
       "<thead><tr><th scope=col>LGA</th><th scope=col>crime_tot_per_lga</th><th scope=col>crime_rate_per_lga</th><th scope=col>Sex</th><th scope=col>Age</th><th scope=col>pop</th><th scope=col>pop_total</th><th scope=col>birthplace_of_person</th><th scope=col>birth_value</th><th scope=col>Industry of Employment</th><th scope=col>emp_value</th></tr></thead>\n",
       "<tbody>\n",
       "\t<tr><td>albury          </td><td>6233            </td><td>0.1220219       </td><td>Females         </td><td>95 - 99         </td><td>78              </td><td>51081           </td><td>New Zealand     </td><td>2510            </td><td>NA              </td><td>NA              </td></tr>\n",
       "\t<tr><td>albury          </td><td>6233            </td><td>0.1220219       </td><td>Females         </td><td>95 - 99         </td><td>78              </td><td>51081           </td><td>Papua New Guinea</td><td>  99            </td><td>NA              </td><td>NA              </td></tr>\n",
       "\t<tr><td>albury          </td><td>6233            </td><td>0.1220219       </td><td>Females         </td><td>95 - 99         </td><td>78              </td><td>51081           </td><td>Fiji            </td><td> 218            </td><td>NA              </td><td>NA              </td></tr>\n",
       "\t<tr><td>albury          </td><td>6233            </td><td>0.1220219       </td><td>Females         </td><td>95 - 99         </td><td>78              </td><td>51081           </td><td>Tonga           </td><td>  24            </td><td>NA              </td><td>NA              </td></tr>\n",
       "\t<tr><td>albury          </td><td>6233            </td><td>0.1220219       </td><td>Females         </td><td>95 - 99         </td><td>78              </td><td>51081           </td><td>England         </td><td>4254            </td><td>NA              </td><td>NA              </td></tr>\n",
       "\t<tr><td>albury          </td><td>6233            </td><td>0.1220219       </td><td>Females         </td><td>95 - 99         </td><td>78              </td><td>51081           </td><td>Northern Ireland</td><td>  64            </td><td>NA              </td><td>NA              </td></tr>\n",
       "</tbody>\n",
       "</table>\n"
      ],
      "text/latex": [
       "\\begin{tabular}{r|lllllllllll}\n",
       " LGA & crime\\_tot\\_per\\_lga & crime\\_rate\\_per\\_lga & Sex & Age & pop & pop\\_total & birthplace\\_of\\_person & birth\\_value & Industry of Employment & emp\\_value\\\\\n",
       "\\hline\n",
       "\t albury           & 6233             & 0.1220219        & Females          & 95 - 99          & 78               & 51081            & New Zealand      & 2510             & NA               & NA              \\\\\n",
       "\t albury           & 6233             & 0.1220219        & Females          & 95 - 99          & 78               & 51081            & Papua New Guinea &   99             & NA               & NA              \\\\\n",
       "\t albury           & 6233             & 0.1220219        & Females          & 95 - 99          & 78               & 51081            & Fiji             &  218             & NA               & NA              \\\\\n",
       "\t albury           & 6233             & 0.1220219        & Females          & 95 - 99          & 78               & 51081            & Tonga            &   24             & NA               & NA              \\\\\n",
       "\t albury           & 6233             & 0.1220219        & Females          & 95 - 99          & 78               & 51081            & England          & 4254             & NA               & NA              \\\\\n",
       "\t albury           & 6233             & 0.1220219        & Females          & 95 - 99          & 78               & 51081            & Northern Ireland &   64             & NA               & NA              \\\\\n",
       "\\end{tabular}\n"
      ],
      "text/markdown": [
       "\n",
       "| LGA | crime_tot_per_lga | crime_rate_per_lga | Sex | Age | pop | pop_total | birthplace_of_person | birth_value | Industry of Employment | emp_value |\n",
       "|---|---|---|---|---|---|---|---|---|---|---|\n",
       "| albury           | 6233             | 0.1220219        | Females          | 95 - 99          | 78               | 51081            | New Zealand      | 2510             | NA               | NA               |\n",
       "| albury           | 6233             | 0.1220219        | Females          | 95 - 99          | 78               | 51081            | Papua New Guinea |   99             | NA               | NA               |\n",
       "| albury           | 6233             | 0.1220219        | Females          | 95 - 99          | 78               | 51081            | Fiji             |  218             | NA               | NA               |\n",
       "| albury           | 6233             | 0.1220219        | Females          | 95 - 99          | 78               | 51081            | Tonga            |   24             | NA               | NA               |\n",
       "| albury           | 6233             | 0.1220219        | Females          | 95 - 99          | 78               | 51081            | England          | 4254             | NA               | NA               |\n",
       "| albury           | 6233             | 0.1220219        | Females          | 95 - 99          | 78               | 51081            | Northern Ireland |   64             | NA               | NA               |\n",
       "\n"
      ],
      "text/plain": [
       "  LGA    crime_tot_per_lga crime_rate_per_lga Sex     Age     pop pop_total\n",
       "1 albury 6233              0.1220219          Females 95 - 99 78  51081    \n",
       "2 albury 6233              0.1220219          Females 95 - 99 78  51081    \n",
       "3 albury 6233              0.1220219          Females 95 - 99 78  51081    \n",
       "4 albury 6233              0.1220219          Females 95 - 99 78  51081    \n",
       "5 albury 6233              0.1220219          Females 95 - 99 78  51081    \n",
       "6 albury 6233              0.1220219          Females 95 - 99 78  51081    \n",
       "  birthplace_of_person birth_value Industry of Employment emp_value\n",
       "1 New Zealand          2510        NA                     NA       \n",
       "2 Papua New Guinea       99        NA                     NA       \n",
       "3 Fiji                  218        NA                     NA       \n",
       "4 Tonga                  24        NA                     NA       \n",
       "5 England              4254        NA                     NA       \n",
       "6 Northern Ireland       64        NA                     NA       "
      ]
     },
     "metadata": {},
     "output_type": "display_data"
    },
    {
     "name": "stdout",
     "output_type": "stream",
     "text": [
      "Observations: 968,045\n",
      "Variables: 11\n",
      "$ LGA                      \u001b[3m\u001b[90m<chr>\u001b[39m\u001b[23m \"albury\", \"albury\", \"albury\", \"albury\", \"a...\n",
      "$ crime_tot_per_lga        \u001b[3m\u001b[90m<int>\u001b[39m\u001b[23m 6233, 6233, 6233, 6233, 6233, 6233, 6233, ...\n",
      "$ crime_rate_per_lga       \u001b[3m\u001b[90m<dbl>\u001b[39m\u001b[23m 0.1220219, 0.1220219, 0.1220219, 0.1220219...\n",
      "$ Sex                      \u001b[3m\u001b[90m<chr>\u001b[39m\u001b[23m \"Females\", \"Females\", \"Females\", \"Females\"...\n",
      "$ Age                      \u001b[3m\u001b[90m<chr>\u001b[39m\u001b[23m \"95 - 99\", \"95 - 99\", \"95 - 99\", \"95 - 99\"...\n",
      "$ pop                      \u001b[3m\u001b[90m<int>\u001b[39m\u001b[23m 78, 78, 78, 78, 78, 78, 78, 78, 78, 78, 78...\n",
      "$ pop_total                \u001b[3m\u001b[90m<int>\u001b[39m\u001b[23m 51081, 51081, 51081, 51081, 51081, 51081, ...\n",
      "$ birthplace_of_person     \u001b[3m\u001b[90m<fct>\u001b[39m\u001b[23m \"New Zealand\", \"Papua New Guinea\", \"Fiji\",...\n",
      "$ birth_value              \u001b[3m\u001b[90m<dbl>\u001b[39m\u001b[23m 2510, 99, 218, 24, 4254, 64, 800, 213, 325...\n",
      "$ `Industry of Employment` \u001b[3m\u001b[90m<fct>\u001b[39m\u001b[23m NA, NA, NA, NA, NA, NA, NA, NA, NA, NA, NA...\n",
      "$ emp_value                \u001b[3m\u001b[90m<int>\u001b[39m\u001b[23m NA, NA, NA, NA, NA, NA, NA, NA, NA, NA, NA...\n"
     ]
    }
   ],
   "source": [
    "joined_agg %<>%\n",
    "    left_join(employment_agg, by = c(\"LGA\", \"Age\", \"Sex\"))\n",
    "\n",
    "head(joined_agg)\n",
    "glimpse(joined_agg)"
   ]
  },
  {
   "cell_type": "markdown",
   "metadata": {},
   "source": [
    "## Add Labour"
   ]
  },
  {
   "cell_type": "code",
   "execution_count": 89,
   "metadata": {},
   "outputs": [
    {
     "data": {
      "text/html": [
       "<table>\n",
       "<thead><tr><th scope=col>Age</th><th scope=col>Sex</th><th scope=col>Labour force status</th><th scope=col>LGA</th><th scope=col>labour_value</th></tr></thead>\n",
       "<tbody>\n",
       "\t<tr><td>15 - 19                   </td><td>Males                     </td><td>Employed, worked full-time</td><td>albury                    </td><td>236                       </td></tr>\n",
       "\t<tr><td>15 - 19                   </td><td>Females                   </td><td>Employed, worked full-time</td><td>albury                    </td><td>113                       </td></tr>\n",
       "\t<tr><td>15 - 19                   </td><td>Persons                   </td><td>Employed, worked full-time</td><td>albury                    </td><td>348                       </td></tr>\n",
       "\t<tr><td>15 - 19                   </td><td>Males                     </td><td>Employed, worked full-time</td><td>armidale regional         </td><td>105                       </td></tr>\n",
       "\t<tr><td>15 - 19                   </td><td>Females                   </td><td>Employed, worked full-time</td><td>armidale regional         </td><td> 58                       </td></tr>\n",
       "\t<tr><td>15 - 19                   </td><td>Persons                   </td><td>Employed, worked full-time</td><td>armidale regional         </td><td>160                       </td></tr>\n",
       "</tbody>\n",
       "</table>\n"
      ],
      "text/latex": [
       "\\begin{tabular}{r|lllll}\n",
       " Age & Sex & Labour force status & LGA & labour\\_value\\\\\n",
       "\\hline\n",
       "\t 15 - 19                    & Males                      & Employed, worked full-time & albury                     & 236                       \\\\\n",
       "\t 15 - 19                    & Females                    & Employed, worked full-time & albury                     & 113                       \\\\\n",
       "\t 15 - 19                    & Persons                    & Employed, worked full-time & albury                     & 348                       \\\\\n",
       "\t 15 - 19                    & Males                      & Employed, worked full-time & armidale regional          & 105                       \\\\\n",
       "\t 15 - 19                    & Females                    & Employed, worked full-time & armidale regional          &  58                       \\\\\n",
       "\t 15 - 19                    & Persons                    & Employed, worked full-time & armidale regional          & 160                       \\\\\n",
       "\\end{tabular}\n"
      ],
      "text/markdown": [
       "\n",
       "| Age | Sex | Labour force status | LGA | labour_value |\n",
       "|---|---|---|---|---|\n",
       "| 15 - 19                    | Males                      | Employed, worked full-time | albury                     | 236                        |\n",
       "| 15 - 19                    | Females                    | Employed, worked full-time | albury                     | 113                        |\n",
       "| 15 - 19                    | Persons                    | Employed, worked full-time | albury                     | 348                        |\n",
       "| 15 - 19                    | Males                      | Employed, worked full-time | armidale regional          | 105                        |\n",
       "| 15 - 19                    | Females                    | Employed, worked full-time | armidale regional          |  58                        |\n",
       "| 15 - 19                    | Persons                    | Employed, worked full-time | armidale regional          | 160                        |\n",
       "\n"
      ],
      "text/plain": [
       "  Age     Sex     Labour force status        LGA               labour_value\n",
       "1 15 - 19 Males   Employed, worked full-time albury            236         \n",
       "2 15 - 19 Females Employed, worked full-time albury            113         \n",
       "3 15 - 19 Persons Employed, worked full-time albury            348         \n",
       "4 15 - 19 Males   Employed, worked full-time armidale regional 105         \n",
       "5 15 - 19 Females Employed, worked full-time armidale regional  58         \n",
       "6 15 - 19 Persons Employed, worked full-time armidale regional 160         "
      ]
     },
     "metadata": {},
     "output_type": "display_data"
    }
   ],
   "source": [
    "head(labour_agg)"
   ]
  },
  {
   "cell_type": "code",
   "execution_count": 90,
   "metadata": {},
   "outputs": [
    {
     "name": "stderr",
     "output_type": "stream",
     "text": [
      "Warning message:\n",
      "\"Column `Age` joining character vector and factor, coercing into character vector\"Warning message:\n",
      "\"Column `Sex` joining character vector and factor, coercing into character vector\""
     ]
    },
    {
     "data": {
      "text/html": [
       "<table>\n",
       "<thead><tr><th scope=col>LGA</th><th scope=col>crime_tot_per_lga</th><th scope=col>crime_rate_per_lga</th><th scope=col>Sex</th><th scope=col>Age</th><th scope=col>pop</th><th scope=col>pop_total</th><th scope=col>birthplace_of_person</th><th scope=col>birth_value</th><th scope=col>Industry of Employment</th><th scope=col>emp_value</th><th scope=col>Labour force status</th><th scope=col>labour_value</th></tr></thead>\n",
       "<tbody>\n",
       "\t<tr><td>albury          </td><td>6233            </td><td>0.1220219       </td><td>Females         </td><td>95 - 99         </td><td>78              </td><td>51081           </td><td>New Zealand     </td><td>2510            </td><td>NA              </td><td>NA              </td><td>NA              </td><td>NA              </td></tr>\n",
       "\t<tr><td>albury          </td><td>6233            </td><td>0.1220219       </td><td>Females         </td><td>95 - 99         </td><td>78              </td><td>51081           </td><td>Papua New Guinea</td><td>  99            </td><td>NA              </td><td>NA              </td><td>NA              </td><td>NA              </td></tr>\n",
       "\t<tr><td>albury          </td><td>6233            </td><td>0.1220219       </td><td>Females         </td><td>95 - 99         </td><td>78              </td><td>51081           </td><td>Fiji            </td><td> 218            </td><td>NA              </td><td>NA              </td><td>NA              </td><td>NA              </td></tr>\n",
       "\t<tr><td>albury          </td><td>6233            </td><td>0.1220219       </td><td>Females         </td><td>95 - 99         </td><td>78              </td><td>51081           </td><td>Tonga           </td><td>  24            </td><td>NA              </td><td>NA              </td><td>NA              </td><td>NA              </td></tr>\n",
       "\t<tr><td>albury          </td><td>6233            </td><td>0.1220219       </td><td>Females         </td><td>95 - 99         </td><td>78              </td><td>51081           </td><td>England         </td><td>4254            </td><td>NA              </td><td>NA              </td><td>NA              </td><td>NA              </td></tr>\n",
       "\t<tr><td>albury          </td><td>6233            </td><td>0.1220219       </td><td>Females         </td><td>95 - 99         </td><td>78              </td><td>51081           </td><td>Northern Ireland</td><td>  64            </td><td>NA              </td><td>NA              </td><td>NA              </td><td>NA              </td></tr>\n",
       "</tbody>\n",
       "</table>\n"
      ],
      "text/latex": [
       "\\begin{tabular}{r|lllllllllllll}\n",
       " LGA & crime\\_tot\\_per\\_lga & crime\\_rate\\_per\\_lga & Sex & Age & pop & pop\\_total & birthplace\\_of\\_person & birth\\_value & Industry of Employment & emp\\_value & Labour force status & labour\\_value\\\\\n",
       "\\hline\n",
       "\t albury           & 6233             & 0.1220219        & Females          & 95 - 99          & 78               & 51081            & New Zealand      & 2510             & NA               & NA               & NA               & NA              \\\\\n",
       "\t albury           & 6233             & 0.1220219        & Females          & 95 - 99          & 78               & 51081            & Papua New Guinea &   99             & NA               & NA               & NA               & NA              \\\\\n",
       "\t albury           & 6233             & 0.1220219        & Females          & 95 - 99          & 78               & 51081            & Fiji             &  218             & NA               & NA               & NA               & NA              \\\\\n",
       "\t albury           & 6233             & 0.1220219        & Females          & 95 - 99          & 78               & 51081            & Tonga            &   24             & NA               & NA               & NA               & NA              \\\\\n",
       "\t albury           & 6233             & 0.1220219        & Females          & 95 - 99          & 78               & 51081            & England          & 4254             & NA               & NA               & NA               & NA              \\\\\n",
       "\t albury           & 6233             & 0.1220219        & Females          & 95 - 99          & 78               & 51081            & Northern Ireland &   64             & NA               & NA               & NA               & NA              \\\\\n",
       "\\end{tabular}\n"
      ],
      "text/markdown": [
       "\n",
       "| LGA | crime_tot_per_lga | crime_rate_per_lga | Sex | Age | pop | pop_total | birthplace_of_person | birth_value | Industry of Employment | emp_value | Labour force status | labour_value |\n",
       "|---|---|---|---|---|---|---|---|---|---|---|---|---|\n",
       "| albury           | 6233             | 0.1220219        | Females          | 95 - 99          | 78               | 51081            | New Zealand      | 2510             | NA               | NA               | NA               | NA               |\n",
       "| albury           | 6233             | 0.1220219        | Females          | 95 - 99          | 78               | 51081            | Papua New Guinea |   99             | NA               | NA               | NA               | NA               |\n",
       "| albury           | 6233             | 0.1220219        | Females          | 95 - 99          | 78               | 51081            | Fiji             |  218             | NA               | NA               | NA               | NA               |\n",
       "| albury           | 6233             | 0.1220219        | Females          | 95 - 99          | 78               | 51081            | Tonga            |   24             | NA               | NA               | NA               | NA               |\n",
       "| albury           | 6233             | 0.1220219        | Females          | 95 - 99          | 78               | 51081            | England          | 4254             | NA               | NA               | NA               | NA               |\n",
       "| albury           | 6233             | 0.1220219        | Females          | 95 - 99          | 78               | 51081            | Northern Ireland |   64             | NA               | NA               | NA               | NA               |\n",
       "\n"
      ],
      "text/plain": [
       "  LGA    crime_tot_per_lga crime_rate_per_lga Sex     Age     pop pop_total\n",
       "1 albury 6233              0.1220219          Females 95 - 99 78  51081    \n",
       "2 albury 6233              0.1220219          Females 95 - 99 78  51081    \n",
       "3 albury 6233              0.1220219          Females 95 - 99 78  51081    \n",
       "4 albury 6233              0.1220219          Females 95 - 99 78  51081    \n",
       "5 albury 6233              0.1220219          Females 95 - 99 78  51081    \n",
       "6 albury 6233              0.1220219          Females 95 - 99 78  51081    \n",
       "  birthplace_of_person birth_value Industry of Employment emp_value\n",
       "1 New Zealand          2510        NA                     NA       \n",
       "2 Papua New Guinea       99        NA                     NA       \n",
       "3 Fiji                  218        NA                     NA       \n",
       "4 Tonga                  24        NA                     NA       \n",
       "5 England              4254        NA                     NA       \n",
       "6 Northern Ireland       64        NA                     NA       \n",
       "  Labour force status labour_value\n",
       "1 NA                  NA          \n",
       "2 NA                  NA          \n",
       "3 NA                  NA          \n",
       "4 NA                  NA          \n",
       "5 NA                  NA          \n",
       "6 NA                  NA          "
      ]
     },
     "metadata": {},
     "output_type": "display_data"
    },
    {
     "name": "stdout",
     "output_type": "stream",
     "text": [
      "Observations: 5,485,565\n",
      "Variables: 13\n",
      "$ LGA                      \u001b[3m\u001b[90m<chr>\u001b[39m\u001b[23m \"albury\", \"albury\", \"albury\", \"albury\", \"a...\n",
      "$ crime_tot_per_lga        \u001b[3m\u001b[90m<int>\u001b[39m\u001b[23m 6233, 6233, 6233, 6233, 6233, 6233, 6233, ...\n",
      "$ crime_rate_per_lga       \u001b[3m\u001b[90m<dbl>\u001b[39m\u001b[23m 0.1220219, 0.1220219, 0.1220219, 0.1220219...\n",
      "$ Sex                      \u001b[3m\u001b[90m<chr>\u001b[39m\u001b[23m \"Females\", \"Females\", \"Females\", \"Females\"...\n",
      "$ Age                      \u001b[3m\u001b[90m<chr>\u001b[39m\u001b[23m \"95 - 99\", \"95 - 99\", \"95 - 99\", \"95 - 99\"...\n",
      "$ pop                      \u001b[3m\u001b[90m<int>\u001b[39m\u001b[23m 78, 78, 78, 78, 78, 78, 78, 78, 78, 78, 78...\n",
      "$ pop_total                \u001b[3m\u001b[90m<int>\u001b[39m\u001b[23m 51081, 51081, 51081, 51081, 51081, 51081, ...\n",
      "$ birthplace_of_person     \u001b[3m\u001b[90m<fct>\u001b[39m\u001b[23m \"New Zealand\", \"Papua New Guinea\", \"Fiji\",...\n",
      "$ birth_value              \u001b[3m\u001b[90m<dbl>\u001b[39m\u001b[23m 2510, 99, 218, 24, 4254, 64, 800, 213, 325...\n",
      "$ `Industry of Employment` \u001b[3m\u001b[90m<fct>\u001b[39m\u001b[23m NA, NA, NA, NA, NA, NA, NA, NA, NA, NA, NA...\n",
      "$ emp_value                \u001b[3m\u001b[90m<int>\u001b[39m\u001b[23m NA, NA, NA, NA, NA, NA, NA, NA, NA, NA, NA...\n",
      "$ `Labour force status`    \u001b[3m\u001b[90m<fct>\u001b[39m\u001b[23m NA, NA, NA, NA, NA, NA, NA, NA, NA, NA, NA...\n",
      "$ labour_value             \u001b[3m\u001b[90m<int>\u001b[39m\u001b[23m NA, NA, NA, NA, NA, NA, NA, NA, NA, NA, NA...\n"
     ]
    }
   ],
   "source": [
    "joined_agg %<>%\n",
    "    left_join(labour_agg, by = c(\"LGA\", \"Age\", \"Sex\"))\n",
    "\n",
    "head(joined_agg)\n",
    "glimpse(joined_agg)"
   ]
  },
  {
   "cell_type": "markdown",
   "metadata": {},
   "source": [
    "## Add Population Density"
   ]
  },
  {
   "cell_type": "code",
   "execution_count": 91,
   "metadata": {},
   "outputs": [
    {
     "data": {
      "text/html": [
       "<table>\n",
       "<thead><tr><th scope=col>X1</th><th scope=col>LGA</th><th scope=col>Pop_Dens_km2</th></tr></thead>\n",
       "<tbody>\n",
       "\t<tr><td>1                </td><td>albury           </td><td>170.5            </td></tr>\n",
       "\t<tr><td>2                </td><td>armidale regional</td><td>  3.5            </td></tr>\n",
       "\t<tr><td>3                </td><td>ballina          </td><td> 88.7            </td></tr>\n",
       "\t<tr><td>4                </td><td>balranald        </td><td>  0.1            </td></tr>\n",
       "\t<tr><td>5                </td><td>bathurst regional</td><td> 11.1            </td></tr>\n",
       "\t<tr><td>6                </td><td>bega valley      </td><td>  5.4            </td></tr>\n",
       "</tbody>\n",
       "</table>\n"
      ],
      "text/latex": [
       "\\begin{tabular}{r|lll}\n",
       " X1 & LGA & Pop\\_Dens\\_km2\\\\\n",
       "\\hline\n",
       "\t 1                 & albury            & 170.5            \\\\\n",
       "\t 2                 & armidale regional &   3.5            \\\\\n",
       "\t 3                 & ballina           &  88.7            \\\\\n",
       "\t 4                 & balranald         &   0.1            \\\\\n",
       "\t 5                 & bathurst regional &  11.1            \\\\\n",
       "\t 6                 & bega valley       &   5.4            \\\\\n",
       "\\end{tabular}\n"
      ],
      "text/markdown": [
       "\n",
       "| X1 | LGA | Pop_Dens_km2 |\n",
       "|---|---|---|\n",
       "| 1                 | albury            | 170.5             |\n",
       "| 2                 | armidale regional |   3.5             |\n",
       "| 3                 | ballina           |  88.7             |\n",
       "| 4                 | balranald         |   0.1             |\n",
       "| 5                 | bathurst regional |  11.1             |\n",
       "| 6                 | bega valley       |   5.4             |\n",
       "\n"
      ],
      "text/plain": [
       "  X1 LGA               Pop_Dens_km2\n",
       "1 1  albury            170.5       \n",
       "2 2  armidale regional   3.5       \n",
       "3 3  ballina            88.7       \n",
       "4 4  balranald           0.1       \n",
       "5 5  bathurst regional  11.1       \n",
       "6 6  bega valley         5.4       "
      ]
     },
     "metadata": {},
     "output_type": "display_data"
    }
   ],
   "source": [
    "head(input_data$pop_dens)"
   ]
  },
  {
   "cell_type": "code",
   "execution_count": 92,
   "metadata": {},
   "outputs": [
    {
     "data": {
      "text/html": [
       "<table>\n",
       "<thead><tr><th scope=col>LGA</th><th scope=col>crime_tot_per_lga</th><th scope=col>crime_rate_per_lga</th><th scope=col>Sex</th><th scope=col>Age</th><th scope=col>pop</th><th scope=col>pop_total</th><th scope=col>birthplace_of_person</th><th scope=col>birth_value</th><th scope=col>Industry of Employment</th><th scope=col>emp_value</th><th scope=col>Labour force status</th><th scope=col>labour_value</th><th scope=col>Pop_Dens_km2</th></tr></thead>\n",
       "<tbody>\n",
       "\t<tr><td>albury          </td><td>6233            </td><td>0.1220219       </td><td>Females         </td><td>95 - 99         </td><td>78              </td><td>51081           </td><td>New Zealand     </td><td>2510            </td><td>NA              </td><td>NA              </td><td>NA              </td><td>NA              </td><td>170.5           </td></tr>\n",
       "\t<tr><td>albury          </td><td>6233            </td><td>0.1220219       </td><td>Females         </td><td>95 - 99         </td><td>78              </td><td>51081           </td><td>Papua New Guinea</td><td>  99            </td><td>NA              </td><td>NA              </td><td>NA              </td><td>NA              </td><td>170.5           </td></tr>\n",
       "\t<tr><td>albury          </td><td>6233            </td><td>0.1220219       </td><td>Females         </td><td>95 - 99         </td><td>78              </td><td>51081           </td><td>Fiji            </td><td> 218            </td><td>NA              </td><td>NA              </td><td>NA              </td><td>NA              </td><td>170.5           </td></tr>\n",
       "\t<tr><td>albury          </td><td>6233            </td><td>0.1220219       </td><td>Females         </td><td>95 - 99         </td><td>78              </td><td>51081           </td><td>Tonga           </td><td>  24            </td><td>NA              </td><td>NA              </td><td>NA              </td><td>NA              </td><td>170.5           </td></tr>\n",
       "\t<tr><td>albury          </td><td>6233            </td><td>0.1220219       </td><td>Females         </td><td>95 - 99         </td><td>78              </td><td>51081           </td><td>England         </td><td>4254            </td><td>NA              </td><td>NA              </td><td>NA              </td><td>NA              </td><td>170.5           </td></tr>\n",
       "\t<tr><td>albury          </td><td>6233            </td><td>0.1220219       </td><td>Females         </td><td>95 - 99         </td><td>78              </td><td>51081           </td><td>Northern Ireland</td><td>  64            </td><td>NA              </td><td>NA              </td><td>NA              </td><td>NA              </td><td>170.5           </td></tr>\n",
       "</tbody>\n",
       "</table>\n"
      ],
      "text/latex": [
       "\\begin{tabular}{r|llllllllllllll}\n",
       " LGA & crime\\_tot\\_per\\_lga & crime\\_rate\\_per\\_lga & Sex & Age & pop & pop\\_total & birthplace\\_of\\_person & birth\\_value & Industry of Employment & emp\\_value & Labour force status & labour\\_value & Pop\\_Dens\\_km2\\\\\n",
       "\\hline\n",
       "\t albury           & 6233             & 0.1220219        & Females          & 95 - 99          & 78               & 51081            & New Zealand      & 2510             & NA               & NA               & NA               & NA               & 170.5           \\\\\n",
       "\t albury           & 6233             & 0.1220219        & Females          & 95 - 99          & 78               & 51081            & Papua New Guinea &   99             & NA               & NA               & NA               & NA               & 170.5           \\\\\n",
       "\t albury           & 6233             & 0.1220219        & Females          & 95 - 99          & 78               & 51081            & Fiji             &  218             & NA               & NA               & NA               & NA               & 170.5           \\\\\n",
       "\t albury           & 6233             & 0.1220219        & Females          & 95 - 99          & 78               & 51081            & Tonga            &   24             & NA               & NA               & NA               & NA               & 170.5           \\\\\n",
       "\t albury           & 6233             & 0.1220219        & Females          & 95 - 99          & 78               & 51081            & England          & 4254             & NA               & NA               & NA               & NA               & 170.5           \\\\\n",
       "\t albury           & 6233             & 0.1220219        & Females          & 95 - 99          & 78               & 51081            & Northern Ireland &   64             & NA               & NA               & NA               & NA               & 170.5           \\\\\n",
       "\\end{tabular}\n"
      ],
      "text/markdown": [
       "\n",
       "| LGA | crime_tot_per_lga | crime_rate_per_lga | Sex | Age | pop | pop_total | birthplace_of_person | birth_value | Industry of Employment | emp_value | Labour force status | labour_value | Pop_Dens_km2 |\n",
       "|---|---|---|---|---|---|---|---|---|---|---|---|---|---|\n",
       "| albury           | 6233             | 0.1220219        | Females          | 95 - 99          | 78               | 51081            | New Zealand      | 2510             | NA               | NA               | NA               | NA               | 170.5            |\n",
       "| albury           | 6233             | 0.1220219        | Females          | 95 - 99          | 78               | 51081            | Papua New Guinea |   99             | NA               | NA               | NA               | NA               | 170.5            |\n",
       "| albury           | 6233             | 0.1220219        | Females          | 95 - 99          | 78               | 51081            | Fiji             |  218             | NA               | NA               | NA               | NA               | 170.5            |\n",
       "| albury           | 6233             | 0.1220219        | Females          | 95 - 99          | 78               | 51081            | Tonga            |   24             | NA               | NA               | NA               | NA               | 170.5            |\n",
       "| albury           | 6233             | 0.1220219        | Females          | 95 - 99          | 78               | 51081            | England          | 4254             | NA               | NA               | NA               | NA               | 170.5            |\n",
       "| albury           | 6233             | 0.1220219        | Females          | 95 - 99          | 78               | 51081            | Northern Ireland |   64             | NA               | NA               | NA               | NA               | 170.5            |\n",
       "\n"
      ],
      "text/plain": [
       "  LGA    crime_tot_per_lga crime_rate_per_lga Sex     Age     pop pop_total\n",
       "1 albury 6233              0.1220219          Females 95 - 99 78  51081    \n",
       "2 albury 6233              0.1220219          Females 95 - 99 78  51081    \n",
       "3 albury 6233              0.1220219          Females 95 - 99 78  51081    \n",
       "4 albury 6233              0.1220219          Females 95 - 99 78  51081    \n",
       "5 albury 6233              0.1220219          Females 95 - 99 78  51081    \n",
       "6 albury 6233              0.1220219          Females 95 - 99 78  51081    \n",
       "  birthplace_of_person birth_value Industry of Employment emp_value\n",
       "1 New Zealand          2510        NA                     NA       \n",
       "2 Papua New Guinea       99        NA                     NA       \n",
       "3 Fiji                  218        NA                     NA       \n",
       "4 Tonga                  24        NA                     NA       \n",
       "5 England              4254        NA                     NA       \n",
       "6 Northern Ireland       64        NA                     NA       \n",
       "  Labour force status labour_value Pop_Dens_km2\n",
       "1 NA                  NA           170.5       \n",
       "2 NA                  NA           170.5       \n",
       "3 NA                  NA           170.5       \n",
       "4 NA                  NA           170.5       \n",
       "5 NA                  NA           170.5       \n",
       "6 NA                  NA           170.5       "
      ]
     },
     "metadata": {},
     "output_type": "display_data"
    },
    {
     "name": "stdout",
     "output_type": "stream",
     "text": [
      "Observations: 5,485,565\n",
      "Variables: 14\n",
      "$ LGA                      \u001b[3m\u001b[90m<chr>\u001b[39m\u001b[23m \"albury\", \"albury\", \"albury\", \"albury\", \"a...\n",
      "$ crime_tot_per_lga        \u001b[3m\u001b[90m<int>\u001b[39m\u001b[23m 6233, 6233, 6233, 6233, 6233, 6233, 6233, ...\n",
      "$ crime_rate_per_lga       \u001b[3m\u001b[90m<dbl>\u001b[39m\u001b[23m 0.1220219, 0.1220219, 0.1220219, 0.1220219...\n",
      "$ Sex                      \u001b[3m\u001b[90m<chr>\u001b[39m\u001b[23m \"Females\", \"Females\", \"Females\", \"Females\"...\n",
      "$ Age                      \u001b[3m\u001b[90m<chr>\u001b[39m\u001b[23m \"95 - 99\", \"95 - 99\", \"95 - 99\", \"95 - 99\"...\n",
      "$ pop                      \u001b[3m\u001b[90m<int>\u001b[39m\u001b[23m 78, 78, 78, 78, 78, 78, 78, 78, 78, 78, 78...\n",
      "$ pop_total                \u001b[3m\u001b[90m<int>\u001b[39m\u001b[23m 51081, 51081, 51081, 51081, 51081, 51081, ...\n",
      "$ birthplace_of_person     \u001b[3m\u001b[90m<fct>\u001b[39m\u001b[23m \"New Zealand\", \"Papua New Guinea\", \"Fiji\",...\n",
      "$ birth_value              \u001b[3m\u001b[90m<dbl>\u001b[39m\u001b[23m 2510, 99, 218, 24, 4254, 64, 800, 213, 325...\n",
      "$ `Industry of Employment` \u001b[3m\u001b[90m<fct>\u001b[39m\u001b[23m NA, NA, NA, NA, NA, NA, NA, NA, NA, NA, NA...\n",
      "$ emp_value                \u001b[3m\u001b[90m<int>\u001b[39m\u001b[23m NA, NA, NA, NA, NA, NA, NA, NA, NA, NA, NA...\n",
      "$ `Labour force status`    \u001b[3m\u001b[90m<fct>\u001b[39m\u001b[23m NA, NA, NA, NA, NA, NA, NA, NA, NA, NA, NA...\n",
      "$ labour_value             \u001b[3m\u001b[90m<int>\u001b[39m\u001b[23m NA, NA, NA, NA, NA, NA, NA, NA, NA, NA, NA...\n",
      "$ Pop_Dens_km2             \u001b[3m\u001b[90m<dbl>\u001b[39m\u001b[23m 170.5, 170.5, 170.5, 170.5, 170.5, 170.5, ...\n"
     ]
    }
   ],
   "source": [
    "joined_agg %<>%\n",
    "    left_join(input_data$pop_dens %>% select(-X1), by = \"LGA\")\n",
    "\n",
    "head(joined_agg)\n",
    "glimpse(joined_agg)"
   ]
  },
  {
   "cell_type": "markdown",
   "metadata": {},
   "source": [
    "## Add SEIFA"
   ]
  },
  {
   "cell_type": "code",
   "execution_count": 93,
   "metadata": {},
   "outputs": [
    {
     "data": {
      "text/html": [
       "<table>\n",
       "<thead><tr><th scope=col>X1</th><th scope=col>LGA</th><th scope=col>Value</th></tr></thead>\n",
       "<tbody>\n",
       "\t<tr><td>1                </td><td>albury           </td><td>964              </td></tr>\n",
       "\t<tr><td>2                </td><td>armidale dumaresq</td><td>954              </td></tr>\n",
       "\t<tr><td>3                </td><td>ashfield         </td><td>962              </td></tr>\n",
       "\t<tr><td>4                </td><td>auburn           </td><td>931              </td></tr>\n",
       "\t<tr><td>5                </td><td>ballina          </td><td>986              </td></tr>\n",
       "\t<tr><td>6                </td><td>balranald        </td><td>969              </td></tr>\n",
       "</tbody>\n",
       "</table>\n"
      ],
      "text/latex": [
       "\\begin{tabular}{r|lll}\n",
       " X1 & LGA & Value\\\\\n",
       "\\hline\n",
       "\t 1                 & albury            & 964              \\\\\n",
       "\t 2                 & armidale dumaresq & 954              \\\\\n",
       "\t 3                 & ashfield          & 962              \\\\\n",
       "\t 4                 & auburn            & 931              \\\\\n",
       "\t 5                 & ballina           & 986              \\\\\n",
       "\t 6                 & balranald         & 969              \\\\\n",
       "\\end{tabular}\n"
      ],
      "text/markdown": [
       "\n",
       "| X1 | LGA | Value |\n",
       "|---|---|---|\n",
       "| 1                 | albury            | 964               |\n",
       "| 2                 | armidale dumaresq | 954               |\n",
       "| 3                 | ashfield          | 962               |\n",
       "| 4                 | auburn            | 931               |\n",
       "| 5                 | ballina           | 986               |\n",
       "| 6                 | balranald         | 969               |\n",
       "\n"
      ],
      "text/plain": [
       "  X1 LGA               Value\n",
       "1 1  albury            964  \n",
       "2 2  armidale dumaresq 954  \n",
       "3 3  ashfield          962  \n",
       "4 4  auburn            931  \n",
       "5 5  ballina           986  \n",
       "6 6  balranald         969  "
      ]
     },
     "metadata": {},
     "output_type": "display_data"
    }
   ],
   "source": [
    "head(input_data$seifa)"
   ]
  },
  {
   "cell_type": "code",
   "execution_count": 94,
   "metadata": {},
   "outputs": [
    {
     "data": {
      "text/html": [
       "<table>\n",
       "<thead><tr><th scope=col>LGA</th><th scope=col>crime_tot_per_lga</th><th scope=col>crime_rate_per_lga</th><th scope=col>Sex</th><th scope=col>Age</th><th scope=col>pop</th><th scope=col>pop_total</th><th scope=col>birthplace_of_person</th><th scope=col>birth_value</th><th scope=col>Industry of Employment</th><th scope=col>emp_value</th><th scope=col>Labour force status</th><th scope=col>labour_value</th><th scope=col>Pop_Dens_km2</th><th scope=col>seifa_value</th></tr></thead>\n",
       "<tbody>\n",
       "\t<tr><td>albury          </td><td>6233            </td><td>0.1220219       </td><td>Females         </td><td>95 - 99         </td><td>78              </td><td>51081           </td><td>New Zealand     </td><td>2510            </td><td>NA              </td><td>NA              </td><td>NA              </td><td>NA              </td><td>170.5           </td><td>964             </td></tr>\n",
       "\t<tr><td>albury          </td><td>6233            </td><td>0.1220219       </td><td>Females         </td><td>95 - 99         </td><td>78              </td><td>51081           </td><td>Papua New Guinea</td><td>  99            </td><td>NA              </td><td>NA              </td><td>NA              </td><td>NA              </td><td>170.5           </td><td>964             </td></tr>\n",
       "\t<tr><td>albury          </td><td>6233            </td><td>0.1220219       </td><td>Females         </td><td>95 - 99         </td><td>78              </td><td>51081           </td><td>Fiji            </td><td> 218            </td><td>NA              </td><td>NA              </td><td>NA              </td><td>NA              </td><td>170.5           </td><td>964             </td></tr>\n",
       "\t<tr><td>albury          </td><td>6233            </td><td>0.1220219       </td><td>Females         </td><td>95 - 99         </td><td>78              </td><td>51081           </td><td>Tonga           </td><td>  24            </td><td>NA              </td><td>NA              </td><td>NA              </td><td>NA              </td><td>170.5           </td><td>964             </td></tr>\n",
       "\t<tr><td>albury          </td><td>6233            </td><td>0.1220219       </td><td>Females         </td><td>95 - 99         </td><td>78              </td><td>51081           </td><td>England         </td><td>4254            </td><td>NA              </td><td>NA              </td><td>NA              </td><td>NA              </td><td>170.5           </td><td>964             </td></tr>\n",
       "\t<tr><td>albury          </td><td>6233            </td><td>0.1220219       </td><td>Females         </td><td>95 - 99         </td><td>78              </td><td>51081           </td><td>Northern Ireland</td><td>  64            </td><td>NA              </td><td>NA              </td><td>NA              </td><td>NA              </td><td>170.5           </td><td>964             </td></tr>\n",
       "</tbody>\n",
       "</table>\n"
      ],
      "text/latex": [
       "\\begin{tabular}{r|lllllllllllllll}\n",
       " LGA & crime\\_tot\\_per\\_lga & crime\\_rate\\_per\\_lga & Sex & Age & pop & pop\\_total & birthplace\\_of\\_person & birth\\_value & Industry of Employment & emp\\_value & Labour force status & labour\\_value & Pop\\_Dens\\_km2 & seifa\\_value\\\\\n",
       "\\hline\n",
       "\t albury           & 6233             & 0.1220219        & Females          & 95 - 99          & 78               & 51081            & New Zealand      & 2510             & NA               & NA               & NA               & NA               & 170.5            & 964             \\\\\n",
       "\t albury           & 6233             & 0.1220219        & Females          & 95 - 99          & 78               & 51081            & Papua New Guinea &   99             & NA               & NA               & NA               & NA               & 170.5            & 964             \\\\\n",
       "\t albury           & 6233             & 0.1220219        & Females          & 95 - 99          & 78               & 51081            & Fiji             &  218             & NA               & NA               & NA               & NA               & 170.5            & 964             \\\\\n",
       "\t albury           & 6233             & 0.1220219        & Females          & 95 - 99          & 78               & 51081            & Tonga            &   24             & NA               & NA               & NA               & NA               & 170.5            & 964             \\\\\n",
       "\t albury           & 6233             & 0.1220219        & Females          & 95 - 99          & 78               & 51081            & England          & 4254             & NA               & NA               & NA               & NA               & 170.5            & 964             \\\\\n",
       "\t albury           & 6233             & 0.1220219        & Females          & 95 - 99          & 78               & 51081            & Northern Ireland &   64             & NA               & NA               & NA               & NA               & 170.5            & 964             \\\\\n",
       "\\end{tabular}\n"
      ],
      "text/markdown": [
       "\n",
       "| LGA | crime_tot_per_lga | crime_rate_per_lga | Sex | Age | pop | pop_total | birthplace_of_person | birth_value | Industry of Employment | emp_value | Labour force status | labour_value | Pop_Dens_km2 | seifa_value |\n",
       "|---|---|---|---|---|---|---|---|---|---|---|---|---|---|---|\n",
       "| albury           | 6233             | 0.1220219        | Females          | 95 - 99          | 78               | 51081            | New Zealand      | 2510             | NA               | NA               | NA               | NA               | 170.5            | 964              |\n",
       "| albury           | 6233             | 0.1220219        | Females          | 95 - 99          | 78               | 51081            | Papua New Guinea |   99             | NA               | NA               | NA               | NA               | 170.5            | 964              |\n",
       "| albury           | 6233             | 0.1220219        | Females          | 95 - 99          | 78               | 51081            | Fiji             |  218             | NA               | NA               | NA               | NA               | 170.5            | 964              |\n",
       "| albury           | 6233             | 0.1220219        | Females          | 95 - 99          | 78               | 51081            | Tonga            |   24             | NA               | NA               | NA               | NA               | 170.5            | 964              |\n",
       "| albury           | 6233             | 0.1220219        | Females          | 95 - 99          | 78               | 51081            | England          | 4254             | NA               | NA               | NA               | NA               | 170.5            | 964              |\n",
       "| albury           | 6233             | 0.1220219        | Females          | 95 - 99          | 78               | 51081            | Northern Ireland |   64             | NA               | NA               | NA               | NA               | 170.5            | 964              |\n",
       "\n"
      ],
      "text/plain": [
       "  LGA    crime_tot_per_lga crime_rate_per_lga Sex     Age     pop pop_total\n",
       "1 albury 6233              0.1220219          Females 95 - 99 78  51081    \n",
       "2 albury 6233              0.1220219          Females 95 - 99 78  51081    \n",
       "3 albury 6233              0.1220219          Females 95 - 99 78  51081    \n",
       "4 albury 6233              0.1220219          Females 95 - 99 78  51081    \n",
       "5 albury 6233              0.1220219          Females 95 - 99 78  51081    \n",
       "6 albury 6233              0.1220219          Females 95 - 99 78  51081    \n",
       "  birthplace_of_person birth_value Industry of Employment emp_value\n",
       "1 New Zealand          2510        NA                     NA       \n",
       "2 Papua New Guinea       99        NA                     NA       \n",
       "3 Fiji                  218        NA                     NA       \n",
       "4 Tonga                  24        NA                     NA       \n",
       "5 England              4254        NA                     NA       \n",
       "6 Northern Ireland       64        NA                     NA       \n",
       "  Labour force status labour_value Pop_Dens_km2 seifa_value\n",
       "1 NA                  NA           170.5        964        \n",
       "2 NA                  NA           170.5        964        \n",
       "3 NA                  NA           170.5        964        \n",
       "4 NA                  NA           170.5        964        \n",
       "5 NA                  NA           170.5        964        \n",
       "6 NA                  NA           170.5        964        "
      ]
     },
     "metadata": {},
     "output_type": "display_data"
    },
    {
     "name": "stdout",
     "output_type": "stream",
     "text": [
      "Observations: 5,588,245\n",
      "Variables: 15\n",
      "$ LGA                      \u001b[3m\u001b[90m<chr>\u001b[39m\u001b[23m \"albury\", \"albury\", \"albury\", \"albury\", \"a...\n",
      "$ crime_tot_per_lga        \u001b[3m\u001b[90m<int>\u001b[39m\u001b[23m 6233, 6233, 6233, 6233, 6233, 6233, 6233, ...\n",
      "$ crime_rate_per_lga       \u001b[3m\u001b[90m<dbl>\u001b[39m\u001b[23m 0.1220219, 0.1220219, 0.1220219, 0.1220219...\n",
      "$ Sex                      \u001b[3m\u001b[90m<chr>\u001b[39m\u001b[23m \"Females\", \"Females\", \"Females\", \"Females\"...\n",
      "$ Age                      \u001b[3m\u001b[90m<chr>\u001b[39m\u001b[23m \"95 - 99\", \"95 - 99\", \"95 - 99\", \"95 - 99\"...\n",
      "$ pop                      \u001b[3m\u001b[90m<int>\u001b[39m\u001b[23m 78, 78, 78, 78, 78, 78, 78, 78, 78, 78, 78...\n",
      "$ pop_total                \u001b[3m\u001b[90m<int>\u001b[39m\u001b[23m 51081, 51081, 51081, 51081, 51081, 51081, ...\n",
      "$ birthplace_of_person     \u001b[3m\u001b[90m<fct>\u001b[39m\u001b[23m \"New Zealand\", \"Papua New Guinea\", \"Fiji\",...\n",
      "$ birth_value              \u001b[3m\u001b[90m<dbl>\u001b[39m\u001b[23m 2510, 99, 218, 24, 4254, 64, 800, 213, 325...\n",
      "$ `Industry of Employment` \u001b[3m\u001b[90m<fct>\u001b[39m\u001b[23m NA, NA, NA, NA, NA, NA, NA, NA, NA, NA, NA...\n",
      "$ emp_value                \u001b[3m\u001b[90m<int>\u001b[39m\u001b[23m NA, NA, NA, NA, NA, NA, NA, NA, NA, NA, NA...\n",
      "$ `Labour force status`    \u001b[3m\u001b[90m<fct>\u001b[39m\u001b[23m NA, NA, NA, NA, NA, NA, NA, NA, NA, NA, NA...\n",
      "$ labour_value             \u001b[3m\u001b[90m<int>\u001b[39m\u001b[23m NA, NA, NA, NA, NA, NA, NA, NA, NA, NA, NA...\n",
      "$ Pop_Dens_km2             \u001b[3m\u001b[90m<dbl>\u001b[39m\u001b[23m 170.5, 170.5, 170.5, 170.5, 170.5, 170.5, ...\n",
      "$ seifa_value              \u001b[3m\u001b[90m<int>\u001b[39m\u001b[23m 964, 964, 964, 964, 964, 964, 964, 964, 96...\n"
     ]
    }
   ],
   "source": [
    "joined_agg %<>%\n",
    "    left_join(input_data$seifa %>% select(-X1) %>% rename(seifa_value = Value), by = \"LGA\")\n",
    "\n",
    "head(joined_agg)\n",
    "glimpse(joined_agg)"
   ]
  },
  {
   "cell_type": "markdown",
   "metadata": {},
   "source": [
    "## Add Transport"
   ]
  },
  {
   "cell_type": "code",
   "execution_count": 95,
   "metadata": {},
   "outputs": [
    {
     "data": {
      "text/html": [
       "<table>\n",
       "<thead><tr><th scope=col>LGA</th><th scope=col>num_service</th></tr></thead>\n",
       "<tbody>\n",
       "\t<tr><td>albury           </td><td>  1769           </td></tr>\n",
       "\t<tr><td>armidale regional</td><td>   185           </td></tr>\n",
       "\t<tr><td>ballina          </td><td>  1353           </td></tr>\n",
       "\t<tr><td>balranald        </td><td>     4           </td></tr>\n",
       "\t<tr><td>bathurst regional</td><td>  2882           </td></tr>\n",
       "\t<tr><td>bayside          </td><td>143697           </td></tr>\n",
       "</tbody>\n",
       "</table>\n"
      ],
      "text/latex": [
       "\\begin{tabular}{r|ll}\n",
       " LGA & num\\_service\\\\\n",
       "\\hline\n",
       "\t albury            &   1769           \\\\\n",
       "\t armidale regional &    185           \\\\\n",
       "\t ballina           &   1353           \\\\\n",
       "\t balranald         &      4           \\\\\n",
       "\t bathurst regional &   2882           \\\\\n",
       "\t bayside           & 143697           \\\\\n",
       "\\end{tabular}\n"
      ],
      "text/markdown": [
       "\n",
       "| LGA | num_service |\n",
       "|---|---|\n",
       "| albury            |   1769            |\n",
       "| armidale regional |    185            |\n",
       "| ballina           |   1353            |\n",
       "| balranald         |      4            |\n",
       "| bathurst regional |   2882            |\n",
       "| bayside           | 143697            |\n",
       "\n"
      ],
      "text/plain": [
       "  LGA               num_service\n",
       "1 albury              1769     \n",
       "2 armidale regional    185     \n",
       "3 ballina             1353     \n",
       "4 balranald              4     \n",
       "5 bathurst regional   2882     \n",
       "6 bayside           143697     "
      ]
     },
     "metadata": {},
     "output_type": "display_data"
    }
   ],
   "source": [
    "head(transport_agg)"
   ]
  },
  {
   "cell_type": "code",
   "execution_count": 96,
   "metadata": {},
   "outputs": [
    {
     "data": {
      "text/html": [
       "<table>\n",
       "<thead><tr><th scope=col>LGA</th><th scope=col>crime_tot_per_lga</th><th scope=col>crime_rate_per_lga</th><th scope=col>Sex</th><th scope=col>Age</th><th scope=col>pop</th><th scope=col>pop_total</th><th scope=col>birthplace_of_person</th><th scope=col>birth_value</th><th scope=col>Industry of Employment</th><th scope=col>emp_value</th><th scope=col>Labour force status</th><th scope=col>labour_value</th><th scope=col>Pop_Dens_km2</th><th scope=col>seifa_value</th><th scope=col>num_service</th></tr></thead>\n",
       "<tbody>\n",
       "\t<tr><td>albury          </td><td>6233            </td><td>0.1220219       </td><td>Females         </td><td>95 - 99         </td><td>78              </td><td>51081           </td><td>New Zealand     </td><td>2510            </td><td>NA              </td><td>NA              </td><td>NA              </td><td>NA              </td><td>170.5           </td><td>964             </td><td>1769            </td></tr>\n",
       "\t<tr><td>albury          </td><td>6233            </td><td>0.1220219       </td><td>Females         </td><td>95 - 99         </td><td>78              </td><td>51081           </td><td>Papua New Guinea</td><td>  99            </td><td>NA              </td><td>NA              </td><td>NA              </td><td>NA              </td><td>170.5           </td><td>964             </td><td>1769            </td></tr>\n",
       "\t<tr><td>albury          </td><td>6233            </td><td>0.1220219       </td><td>Females         </td><td>95 - 99         </td><td>78              </td><td>51081           </td><td>Fiji            </td><td> 218            </td><td>NA              </td><td>NA              </td><td>NA              </td><td>NA              </td><td>170.5           </td><td>964             </td><td>1769            </td></tr>\n",
       "\t<tr><td>albury          </td><td>6233            </td><td>0.1220219       </td><td>Females         </td><td>95 - 99         </td><td>78              </td><td>51081           </td><td>Tonga           </td><td>  24            </td><td>NA              </td><td>NA              </td><td>NA              </td><td>NA              </td><td>170.5           </td><td>964             </td><td>1769            </td></tr>\n",
       "\t<tr><td>albury          </td><td>6233            </td><td>0.1220219       </td><td>Females         </td><td>95 - 99         </td><td>78              </td><td>51081           </td><td>England         </td><td>4254            </td><td>NA              </td><td>NA              </td><td>NA              </td><td>NA              </td><td>170.5           </td><td>964             </td><td>1769            </td></tr>\n",
       "\t<tr><td>albury          </td><td>6233            </td><td>0.1220219       </td><td>Females         </td><td>95 - 99         </td><td>78              </td><td>51081           </td><td>Northern Ireland</td><td>  64            </td><td>NA              </td><td>NA              </td><td>NA              </td><td>NA              </td><td>170.5           </td><td>964             </td><td>1769            </td></tr>\n",
       "</tbody>\n",
       "</table>\n"
      ],
      "text/latex": [
       "\\begin{tabular}{r|llllllllllllllll}\n",
       " LGA & crime\\_tot\\_per\\_lga & crime\\_rate\\_per\\_lga & Sex & Age & pop & pop\\_total & birthplace\\_of\\_person & birth\\_value & Industry of Employment & emp\\_value & Labour force status & labour\\_value & Pop\\_Dens\\_km2 & seifa\\_value & num\\_service\\\\\n",
       "\\hline\n",
       "\t albury           & 6233             & 0.1220219        & Females          & 95 - 99          & 78               & 51081            & New Zealand      & 2510             & NA               & NA               & NA               & NA               & 170.5            & 964              & 1769            \\\\\n",
       "\t albury           & 6233             & 0.1220219        & Females          & 95 - 99          & 78               & 51081            & Papua New Guinea &   99             & NA               & NA               & NA               & NA               & 170.5            & 964              & 1769            \\\\\n",
       "\t albury           & 6233             & 0.1220219        & Females          & 95 - 99          & 78               & 51081            & Fiji             &  218             & NA               & NA               & NA               & NA               & 170.5            & 964              & 1769            \\\\\n",
       "\t albury           & 6233             & 0.1220219        & Females          & 95 - 99          & 78               & 51081            & Tonga            &   24             & NA               & NA               & NA               & NA               & 170.5            & 964              & 1769            \\\\\n",
       "\t albury           & 6233             & 0.1220219        & Females          & 95 - 99          & 78               & 51081            & England          & 4254             & NA               & NA               & NA               & NA               & 170.5            & 964              & 1769            \\\\\n",
       "\t albury           & 6233             & 0.1220219        & Females          & 95 - 99          & 78               & 51081            & Northern Ireland &   64             & NA               & NA               & NA               & NA               & 170.5            & 964              & 1769            \\\\\n",
       "\\end{tabular}\n"
      ],
      "text/markdown": [
       "\n",
       "| LGA | crime_tot_per_lga | crime_rate_per_lga | Sex | Age | pop | pop_total | birthplace_of_person | birth_value | Industry of Employment | emp_value | Labour force status | labour_value | Pop_Dens_km2 | seifa_value | num_service |\n",
       "|---|---|---|---|---|---|---|---|---|---|---|---|---|---|---|---|\n",
       "| albury           | 6233             | 0.1220219        | Females          | 95 - 99          | 78               | 51081            | New Zealand      | 2510             | NA               | NA               | NA               | NA               | 170.5            | 964              | 1769             |\n",
       "| albury           | 6233             | 0.1220219        | Females          | 95 - 99          | 78               | 51081            | Papua New Guinea |   99             | NA               | NA               | NA               | NA               | 170.5            | 964              | 1769             |\n",
       "| albury           | 6233             | 0.1220219        | Females          | 95 - 99          | 78               | 51081            | Fiji             |  218             | NA               | NA               | NA               | NA               | 170.5            | 964              | 1769             |\n",
       "| albury           | 6233             | 0.1220219        | Females          | 95 - 99          | 78               | 51081            | Tonga            |   24             | NA               | NA               | NA               | NA               | 170.5            | 964              | 1769             |\n",
       "| albury           | 6233             | 0.1220219        | Females          | 95 - 99          | 78               | 51081            | England          | 4254             | NA               | NA               | NA               | NA               | 170.5            | 964              | 1769             |\n",
       "| albury           | 6233             | 0.1220219        | Females          | 95 - 99          | 78               | 51081            | Northern Ireland |   64             | NA               | NA               | NA               | NA               | 170.5            | 964              | 1769             |\n",
       "\n"
      ],
      "text/plain": [
       "  LGA    crime_tot_per_lga crime_rate_per_lga Sex     Age     pop pop_total\n",
       "1 albury 6233              0.1220219          Females 95 - 99 78  51081    \n",
       "2 albury 6233              0.1220219          Females 95 - 99 78  51081    \n",
       "3 albury 6233              0.1220219          Females 95 - 99 78  51081    \n",
       "4 albury 6233              0.1220219          Females 95 - 99 78  51081    \n",
       "5 albury 6233              0.1220219          Females 95 - 99 78  51081    \n",
       "6 albury 6233              0.1220219          Females 95 - 99 78  51081    \n",
       "  birthplace_of_person birth_value Industry of Employment emp_value\n",
       "1 New Zealand          2510        NA                     NA       \n",
       "2 Papua New Guinea       99        NA                     NA       \n",
       "3 Fiji                  218        NA                     NA       \n",
       "4 Tonga                  24        NA                     NA       \n",
       "5 England              4254        NA                     NA       \n",
       "6 Northern Ireland       64        NA                     NA       \n",
       "  Labour force status labour_value Pop_Dens_km2 seifa_value num_service\n",
       "1 NA                  NA           170.5        964         1769       \n",
       "2 NA                  NA           170.5        964         1769       \n",
       "3 NA                  NA           170.5        964         1769       \n",
       "4 NA                  NA           170.5        964         1769       \n",
       "5 NA                  NA           170.5        964         1769       \n",
       "6 NA                  NA           170.5        964         1769       "
      ]
     },
     "metadata": {},
     "output_type": "display_data"
    },
    {
     "name": "stdout",
     "output_type": "stream",
     "text": [
      "Observations: 5,588,245\n",
      "Variables: 16\n",
      "$ LGA                      \u001b[3m\u001b[90m<chr>\u001b[39m\u001b[23m \"albury\", \"albury\", \"albury\", \"albury\", \"a...\n",
      "$ crime_tot_per_lga        \u001b[3m\u001b[90m<int>\u001b[39m\u001b[23m 6233, 6233, 6233, 6233, 6233, 6233, 6233, ...\n",
      "$ crime_rate_per_lga       \u001b[3m\u001b[90m<dbl>\u001b[39m\u001b[23m 0.1220219, 0.1220219, 0.1220219, 0.1220219...\n",
      "$ Sex                      \u001b[3m\u001b[90m<chr>\u001b[39m\u001b[23m \"Females\", \"Females\", \"Females\", \"Females\"...\n",
      "$ Age                      \u001b[3m\u001b[90m<chr>\u001b[39m\u001b[23m \"95 - 99\", \"95 - 99\", \"95 - 99\", \"95 - 99\"...\n",
      "$ pop                      \u001b[3m\u001b[90m<int>\u001b[39m\u001b[23m 78, 78, 78, 78, 78, 78, 78, 78, 78, 78, 78...\n",
      "$ pop_total                \u001b[3m\u001b[90m<int>\u001b[39m\u001b[23m 51081, 51081, 51081, 51081, 51081, 51081, ...\n",
      "$ birthplace_of_person     \u001b[3m\u001b[90m<fct>\u001b[39m\u001b[23m \"New Zealand\", \"Papua New Guinea\", \"Fiji\",...\n",
      "$ birth_value              \u001b[3m\u001b[90m<dbl>\u001b[39m\u001b[23m 2510, 99, 218, 24, 4254, 64, 800, 213, 325...\n",
      "$ `Industry of Employment` \u001b[3m\u001b[90m<fct>\u001b[39m\u001b[23m NA, NA, NA, NA, NA, NA, NA, NA, NA, NA, NA...\n",
      "$ emp_value                \u001b[3m\u001b[90m<int>\u001b[39m\u001b[23m NA, NA, NA, NA, NA, NA, NA, NA, NA, NA, NA...\n",
      "$ `Labour force status`    \u001b[3m\u001b[90m<fct>\u001b[39m\u001b[23m NA, NA, NA, NA, NA, NA, NA, NA, NA, NA, NA...\n",
      "$ labour_value             \u001b[3m\u001b[90m<int>\u001b[39m\u001b[23m NA, NA, NA, NA, NA, NA, NA, NA, NA, NA, NA...\n",
      "$ Pop_Dens_km2             \u001b[3m\u001b[90m<dbl>\u001b[39m\u001b[23m 170.5, 170.5, 170.5, 170.5, 170.5, 170.5, ...\n",
      "$ seifa_value              \u001b[3m\u001b[90m<int>\u001b[39m\u001b[23m 964, 964, 964, 964, 964, 964, 964, 964, 96...\n",
      "$ num_service              \u001b[3m\u001b[90m<dbl>\u001b[39m\u001b[23m 1769, 1769, 1769, 1769, 1769, 1769, 1769, ...\n"
     ]
    }
   ],
   "source": [
    "joined_agg %<>%\n",
    "    left_join(transport_agg, by = \"LGA\")\n",
    "\n",
    "head(joined_agg)\n",
    "glimpse(joined_agg)"
   ]
  },
  {
   "cell_type": "code",
   "execution_count": 98,
   "metadata": {},
   "outputs": [],
   "source": [
    "write.csv(joined_agg, paste(output_path, \"unified3.csv\", sep = \"/\"), row.names = FALSE)"
   ]
  },
  {
   "cell_type": "code",
   "execution_count": null,
   "metadata": {},
   "outputs": [],
   "source": []
  },
  {
   "cell_type": "code",
   "execution_count": 121,
   "metadata": {},
   "outputs": [],
   "source": [
    "save.image()"
   ]
  },
  {
   "cell_type": "code",
   "execution_count": null,
   "metadata": {},
   "outputs": [],
   "source": []
  },
  {
   "cell_type": "code",
   "execution_count": 1,
   "metadata": {},
   "outputs": [
    {
     "data": {
      "text/html": [
       "<table>\n",
       "<thead><tr><th scope=col>LGA</th><th scope=col>crime_tot_per_lga</th><th scope=col>crime_rate_per_lga</th><th scope=col>Sex</th><th scope=col>Age</th><th scope=col>pop</th><th scope=col>pop_total</th><th scope=col>birthplace_of_person</th><th scope=col>birth_value</th><th scope=col>Industry of Employment</th><th scope=col>emp_value</th><th scope=col>Labour force status</th><th scope=col>labour_value</th><th scope=col>Pop_Dens_km2</th><th scope=col>seifa_value</th><th scope=col>num_service</th></tr></thead>\n",
       "<tbody>\n",
       "\t<tr><td>Albury          </td><td>6233            </td><td>0.1220219       </td><td>Females         </td><td>95 - 99         </td><td>78              </td><td>51081           </td><td>New Zealand     </td><td>2510            </td><td>NA              </td><td>NA              </td><td>NA              </td><td>NA              </td><td>170.5           </td><td>964             </td><td>1769            </td></tr>\n",
       "\t<tr><td>Albury          </td><td>6233            </td><td>0.1220219       </td><td>Females         </td><td>95 - 99         </td><td>78              </td><td>51081           </td><td>Papua New Guinea</td><td>  99            </td><td>NA              </td><td>NA              </td><td>NA              </td><td>NA              </td><td>170.5           </td><td>964             </td><td>1769            </td></tr>\n",
       "\t<tr><td>Albury          </td><td>6233            </td><td>0.1220219       </td><td>Females         </td><td>95 - 99         </td><td>78              </td><td>51081           </td><td>Fiji            </td><td> 218            </td><td>NA              </td><td>NA              </td><td>NA              </td><td>NA              </td><td>170.5           </td><td>964             </td><td>1769            </td></tr>\n",
       "\t<tr><td>Albury          </td><td>6233            </td><td>0.1220219       </td><td>Females         </td><td>95 - 99         </td><td>78              </td><td>51081           </td><td>Tonga           </td><td>  24            </td><td>NA              </td><td>NA              </td><td>NA              </td><td>NA              </td><td>170.5           </td><td>964             </td><td>1769            </td></tr>\n",
       "\t<tr><td>Albury          </td><td>6233            </td><td>0.1220219       </td><td>Females         </td><td>95 - 99         </td><td>78              </td><td>51081           </td><td>England         </td><td>4254            </td><td>NA              </td><td>NA              </td><td>NA              </td><td>NA              </td><td>170.5           </td><td>964             </td><td>1769            </td></tr>\n",
       "\t<tr><td>Albury          </td><td>6233            </td><td>0.1220219       </td><td>Females         </td><td>95 - 99         </td><td>78              </td><td>51081           </td><td>Northern Ireland</td><td>  64            </td><td>NA              </td><td>NA              </td><td>NA              </td><td>NA              </td><td>170.5           </td><td>964             </td><td>1769            </td></tr>\n",
       "</tbody>\n",
       "</table>\n"
      ],
      "text/latex": [
       "\\begin{tabular}{r|llllllllllllllll}\n",
       " LGA & crime\\_tot\\_per\\_lga & crime\\_rate\\_per\\_lga & Sex & Age & pop & pop\\_total & birthplace\\_of\\_person & birth\\_value & Industry of Employment & emp\\_value & Labour force status & labour\\_value & Pop\\_Dens\\_km2 & seifa\\_value & num\\_service\\\\\n",
       "\\hline\n",
       "\t Albury           & 6233             & 0.1220219        & Females          & 95 - 99          & 78               & 51081            & New Zealand      & 2510             & NA               & NA               & NA               & NA               & 170.5            & 964              & 1769            \\\\\n",
       "\t Albury           & 6233             & 0.1220219        & Females          & 95 - 99          & 78               & 51081            & Papua New Guinea &   99             & NA               & NA               & NA               & NA               & 170.5            & 964              & 1769            \\\\\n",
       "\t Albury           & 6233             & 0.1220219        & Females          & 95 - 99          & 78               & 51081            & Fiji             &  218             & NA               & NA               & NA               & NA               & 170.5            & 964              & 1769            \\\\\n",
       "\t Albury           & 6233             & 0.1220219        & Females          & 95 - 99          & 78               & 51081            & Tonga            &   24             & NA               & NA               & NA               & NA               & 170.5            & 964              & 1769            \\\\\n",
       "\t Albury           & 6233             & 0.1220219        & Females          & 95 - 99          & 78               & 51081            & England          & 4254             & NA               & NA               & NA               & NA               & 170.5            & 964              & 1769            \\\\\n",
       "\t Albury           & 6233             & 0.1220219        & Females          & 95 - 99          & 78               & 51081            & Northern Ireland &   64             & NA               & NA               & NA               & NA               & 170.5            & 964              & 1769            \\\\\n",
       "\\end{tabular}\n"
      ],
      "text/markdown": [
       "\n",
       "| LGA | crime_tot_per_lga | crime_rate_per_lga | Sex | Age | pop | pop_total | birthplace_of_person | birth_value | Industry of Employment | emp_value | Labour force status | labour_value | Pop_Dens_km2 | seifa_value | num_service |\n",
       "|---|---|---|---|---|---|---|---|---|---|---|---|---|---|---|---|\n",
       "| Albury           | 6233             | 0.1220219        | Females          | 95 - 99          | 78               | 51081            | New Zealand      | 2510             | NA               | NA               | NA               | NA               | 170.5            | 964              | 1769             |\n",
       "| Albury           | 6233             | 0.1220219        | Females          | 95 - 99          | 78               | 51081            | Papua New Guinea |   99             | NA               | NA               | NA               | NA               | 170.5            | 964              | 1769             |\n",
       "| Albury           | 6233             | 0.1220219        | Females          | 95 - 99          | 78               | 51081            | Fiji             |  218             | NA               | NA               | NA               | NA               | 170.5            | 964              | 1769             |\n",
       "| Albury           | 6233             | 0.1220219        | Females          | 95 - 99          | 78               | 51081            | Tonga            |   24             | NA               | NA               | NA               | NA               | 170.5            | 964              | 1769             |\n",
       "| Albury           | 6233             | 0.1220219        | Females          | 95 - 99          | 78               | 51081            | England          | 4254             | NA               | NA               | NA               | NA               | 170.5            | 964              | 1769             |\n",
       "| Albury           | 6233             | 0.1220219        | Females          | 95 - 99          | 78               | 51081            | Northern Ireland |   64             | NA               | NA               | NA               | NA               | 170.5            | 964              | 1769             |\n",
       "\n"
      ],
      "text/plain": [
       "  LGA    crime_tot_per_lga crime_rate_per_lga Sex     Age     pop pop_total\n",
       "1 Albury 6233              0.1220219          Females 95 - 99 78  51081    \n",
       "2 Albury 6233              0.1220219          Females 95 - 99 78  51081    \n",
       "3 Albury 6233              0.1220219          Females 95 - 99 78  51081    \n",
       "4 Albury 6233              0.1220219          Females 95 - 99 78  51081    \n",
       "5 Albury 6233              0.1220219          Females 95 - 99 78  51081    \n",
       "6 Albury 6233              0.1220219          Females 95 - 99 78  51081    \n",
       "  birthplace_of_person birth_value Industry of Employment emp_value\n",
       "1 New Zealand          2510        NA                     NA       \n",
       "2 Papua New Guinea       99        NA                     NA       \n",
       "3 Fiji                  218        NA                     NA       \n",
       "4 Tonga                  24        NA                     NA       \n",
       "5 England              4254        NA                     NA       \n",
       "6 Northern Ireland       64        NA                     NA       \n",
       "  Labour force status labour_value Pop_Dens_km2 seifa_value num_service\n",
       "1 NA                  NA           170.5        964         1769       \n",
       "2 NA                  NA           170.5        964         1769       \n",
       "3 NA                  NA           170.5        964         1769       \n",
       "4 NA                  NA           170.5        964         1769       \n",
       "5 NA                  NA           170.5        964         1769       \n",
       "6 NA                  NA           170.5        964         1769       "
      ]
     },
     "metadata": {},
     "output_type": "display_data"
    }
   ],
   "source": [
    "head(joined_agg)"
   ]
  },
  {
   "cell_type": "code",
   "execution_count": 97,
   "metadata": {},
   "outputs": [
    {
     "data": {
      "text/html": [
       "<table>\n",
       "<thead><tr><th scope=col>LGA</th></tr></thead>\n",
       "<tbody>\n",
       "\t<tr><td>broken hill            </td></tr>\n",
       "\t<tr><td>carrathool             </td></tr>\n",
       "\t<tr><td>cootamundra-gundagai   </td></tr>\n",
       "\t<tr><td>glen innes severn      </td></tr>\n",
       "\t<tr><td>greater hume shire     </td></tr>\n",
       "\t<tr><td>lord howe island       </td></tr>\n",
       "\t<tr><td>unincorporated far west</td></tr>\n",
       "\t<tr><td>upper hunter shire     </td></tr>\n",
       "\t<tr><td>warrumbungle shire     </td></tr>\n",
       "</tbody>\n",
       "</table>\n"
      ],
      "text/latex": [
       "\\begin{tabular}{r|l}\n",
       " LGA\\\\\n",
       "\\hline\n",
       "\t broken hill            \\\\\n",
       "\t carrathool             \\\\\n",
       "\t cootamundra-gundagai   \\\\\n",
       "\t glen innes severn      \\\\\n",
       "\t greater hume shire     \\\\\n",
       "\t lord howe island       \\\\\n",
       "\t unincorporated far west\\\\\n",
       "\t upper hunter shire     \\\\\n",
       "\t warrumbungle shire     \\\\\n",
       "\\end{tabular}\n"
      ],
      "text/markdown": [
       "\n",
       "| LGA |\n",
       "|---|\n",
       "| broken hill             |\n",
       "| carrathool              |\n",
       "| cootamundra-gundagai    |\n",
       "| glen innes severn       |\n",
       "| greater hume shire      |\n",
       "| lord howe island        |\n",
       "| unincorporated far west |\n",
       "| upper hunter shire      |\n",
       "| warrumbungle shire      |\n",
       "\n"
      ],
      "text/plain": [
       "  LGA                    \n",
       "1 broken hill            \n",
       "2 carrathool             \n",
       "3 cootamundra-gundagai   \n",
       "4 glen innes severn      \n",
       "5 greater hume shire     \n",
       "6 lord howe island       \n",
       "7 unincorporated far west\n",
       "8 upper hunter shire     \n",
       "9 warrumbungle shire     "
      ]
     },
     "metadata": {},
     "output_type": "display_data"
    }
   ],
   "source": [
    "joined_agg %>%\n",
    "    filter(is.na(num_service)) %>%\n",
    "    select(LGA) %>%\n",
    "    unique"
   ]
  },
  {
   "cell_type": "code",
   "execution_count": 10,
   "metadata": {},
   "outputs": [
    {
     "data": {
      "text/html": [
       "<table>\n",
       "<thead><tr><th scope=col>LGA</th></tr></thead>\n",
       "<tbody>\n",
       "\t<tr><td>Armidale Regional            </td></tr>\n",
       "\t<tr><td>Bathurst Regional            </td></tr>\n",
       "\t<tr><td>Bega Valley                  </td></tr>\n",
       "\t<tr><td>Blue Mountains               </td></tr>\n",
       "\t<tr><td>Canada Bay                   </td></tr>\n",
       "\t<tr><td>Central Coast                </td></tr>\n",
       "\t<tr><td>Central Darling              </td></tr>\n",
       "\t<tr><td>Clarence Valley              </td></tr>\n",
       "\t<tr><td>Coffs Harbour                </td></tr>\n",
       "\t<tr><td>Cootamundra-Gundagai Regional</td></tr>\n",
       "\t<tr><td>Dubbo Regional               </td></tr>\n",
       "\t<tr><td>Edward River                 </td></tr>\n",
       "\t<tr><td>Georges River                </td></tr>\n",
       "\t<tr><td>Glen Innes Severn Shire      </td></tr>\n",
       "\t<tr><td>Goulburn Mulwaree            </td></tr>\n",
       "\t<tr><td>Greater Hume                 </td></tr>\n",
       "\t<tr><td>Hunters Hill                 </td></tr>\n",
       "\t<tr><td>Inner West                   </td></tr>\n",
       "\t<tr><td>Lake Macquarie               </td></tr>\n",
       "\t<tr><td>Lane Cove                    </td></tr>\n",
       "\t<tr><td>Liverpool Plains             </td></tr>\n",
       "\t<tr><td>Mid-Western Regional         </td></tr>\n",
       "\t<tr><td>Moree Plains                 </td></tr>\n",
       "\t<tr><td>Murray River                 </td></tr>\n",
       "\t<tr><td>North Sydney                 </td></tr>\n",
       "\t<tr><td>Northern Beaches             </td></tr>\n",
       "\t<tr><td>Port Macquarie-Hastings      </td></tr>\n",
       "\t<tr><td>Port Stephens                </td></tr>\n",
       "\t<tr><td>Queanbeyan-Palerang Regional </td></tr>\n",
       "\t<tr><td>Richmond Valley              </td></tr>\n",
       "\t<tr><td>Snowy Monaro Regional        </td></tr>\n",
       "\t<tr><td>Snowy Valleys                </td></tr>\n",
       "\t<tr><td>Sutherland Shire             </td></tr>\n",
       "\t<tr><td>Tamworth Regional            </td></tr>\n",
       "\t<tr><td>The Hills Shire              </td></tr>\n",
       "\t<tr><td>Upper Hunter                 </td></tr>\n",
       "\t<tr><td>Upper Lachlan Shire          </td></tr>\n",
       "\t<tr><td>Wagga Wagga                  </td></tr>\n",
       "\t<tr><td>Yass Valley                  </td></tr>\n",
       "</tbody>\n",
       "</table>\n"
      ],
      "text/latex": [
       "\\begin{tabular}{r|l}\n",
       " LGA\\\\\n",
       "\\hline\n",
       "\t Armidale Regional            \\\\\n",
       "\t Bathurst Regional            \\\\\n",
       "\t Bega Valley                  \\\\\n",
       "\t Blue Mountains               \\\\\n",
       "\t Canada Bay                   \\\\\n",
       "\t Central Coast                \\\\\n",
       "\t Central Darling              \\\\\n",
       "\t Clarence Valley              \\\\\n",
       "\t Coffs Harbour                \\\\\n",
       "\t Cootamundra-Gundagai Regional\\\\\n",
       "\t Dubbo Regional               \\\\\n",
       "\t Edward River                 \\\\\n",
       "\t Georges River                \\\\\n",
       "\t Glen Innes Severn Shire      \\\\\n",
       "\t Goulburn Mulwaree            \\\\\n",
       "\t Greater Hume                 \\\\\n",
       "\t Hunters Hill                 \\\\\n",
       "\t Inner West                   \\\\\n",
       "\t Lake Macquarie               \\\\\n",
       "\t Lane Cove                    \\\\\n",
       "\t Liverpool Plains             \\\\\n",
       "\t Mid-Western Regional         \\\\\n",
       "\t Moree Plains                 \\\\\n",
       "\t Murray River                 \\\\\n",
       "\t North Sydney                 \\\\\n",
       "\t Northern Beaches             \\\\\n",
       "\t Port Macquarie-Hastings      \\\\\n",
       "\t Port Stephens                \\\\\n",
       "\t Queanbeyan-Palerang Regional \\\\\n",
       "\t Richmond Valley              \\\\\n",
       "\t Snowy Monaro Regional        \\\\\n",
       "\t Snowy Valleys                \\\\\n",
       "\t Sutherland Shire             \\\\\n",
       "\t Tamworth Regional            \\\\\n",
       "\t The Hills Shire              \\\\\n",
       "\t Upper Hunter                 \\\\\n",
       "\t Upper Lachlan Shire          \\\\\n",
       "\t Wagga Wagga                  \\\\\n",
       "\t Yass Valley                  \\\\\n",
       "\\end{tabular}\n"
      ],
      "text/markdown": [
       "\n",
       "| LGA |\n",
       "|---|\n",
       "| Armidale Regional             |\n",
       "| Bathurst Regional             |\n",
       "| Bega Valley                   |\n",
       "| Blue Mountains                |\n",
       "| Canada Bay                    |\n",
       "| Central Coast                 |\n",
       "| Central Darling               |\n",
       "| Clarence Valley               |\n",
       "| Coffs Harbour                 |\n",
       "| Cootamundra-Gundagai Regional |\n",
       "| Dubbo Regional                |\n",
       "| Edward River                  |\n",
       "| Georges River                 |\n",
       "| Glen Innes Severn Shire       |\n",
       "| Goulburn Mulwaree             |\n",
       "| Greater Hume                  |\n",
       "| Hunters Hill                  |\n",
       "| Inner West                    |\n",
       "| Lake Macquarie                |\n",
       "| Lane Cove                     |\n",
       "| Liverpool Plains              |\n",
       "| Mid-Western Regional          |\n",
       "| Moree Plains                  |\n",
       "| Murray River                  |\n",
       "| North Sydney                  |\n",
       "| Northern Beaches              |\n",
       "| Port Macquarie-Hastings       |\n",
       "| Port Stephens                 |\n",
       "| Queanbeyan-Palerang Regional  |\n",
       "| Richmond Valley               |\n",
       "| Snowy Monaro Regional         |\n",
       "| Snowy Valleys                 |\n",
       "| Sutherland Shire              |\n",
       "| Tamworth Regional             |\n",
       "| The Hills Shire               |\n",
       "| Upper Hunter                  |\n",
       "| Upper Lachlan Shire           |\n",
       "| Wagga Wagga                   |\n",
       "| Yass Valley                   |\n",
       "\n"
      ],
      "text/plain": [
       "   LGA                          \n",
       "1  Armidale Regional            \n",
       "2  Bathurst Regional            \n",
       "3  Bega Valley                  \n",
       "4  Blue Mountains               \n",
       "5  Canada Bay                   \n",
       "6  Central Coast                \n",
       "7  Central Darling              \n",
       "8  Clarence Valley              \n",
       "9  Coffs Harbour                \n",
       "10 Cootamundra-Gundagai Regional\n",
       "11 Dubbo Regional               \n",
       "12 Edward River                 \n",
       "13 Georges River                \n",
       "14 Glen Innes Severn Shire      \n",
       "15 Goulburn Mulwaree            \n",
       "16 Greater Hume                 \n",
       "17 Hunters Hill                 \n",
       "18 Inner West                   \n",
       "19 Lake Macquarie               \n",
       "20 Lane Cove                    \n",
       "21 Liverpool Plains             \n",
       "22 Mid-Western Regional         \n",
       "23 Moree Plains                 \n",
       "24 Murray River                 \n",
       "25 North Sydney                 \n",
       "26 Northern Beaches             \n",
       "27 Port Macquarie-Hastings      \n",
       "28 Port Stephens                \n",
       "29 Queanbeyan-Palerang Regional \n",
       "30 Richmond Valley              \n",
       "31 Snowy Monaro Regional        \n",
       "32 Snowy Valleys                \n",
       "33 Sutherland Shire             \n",
       "34 Tamworth Regional            \n",
       "35 The Hills Shire              \n",
       "36 Upper Hunter                 \n",
       "37 Upper Lachlan Shire          \n",
       "38 Wagga Wagga                  \n",
       "39 Yass Valley                  "
      ]
     },
     "metadata": {},
     "output_type": "display_data"
    }
   ],
   "source": [
    "transport_agg %>%\n",
    "    select(LGA) %>%\n",
    "    filter(grepl(\" \", LGA))"
   ]
  },
  {
   "cell_type": "code",
   "execution_count": 40,
   "metadata": {},
   "outputs": [
    {
     "data": {
      "text/html": [
       "<table>\n",
       "<thead><tr><th scope=col>LGA</th><th scope=col>Offence</th><th scope=col>Crim_Count</th><th scope=col>crime_tot_per_lga</th><th scope=col>pop_total</th><th scope=col>crime_rate_per_lga</th></tr></thead>\n",
       "<tbody>\n",
       "\t<tr><td>albury                               </td><td>Murder *                             </td><td>  2                                  </td><td>6233                                 </td><td>51081                                </td><td>0.1220219                            </td></tr>\n",
       "\t<tr><td>albury                               </td><td>Attempted murder                     </td><td>  1                                  </td><td>6233                                 </td><td>51081                                </td><td>0.1220219                            </td></tr>\n",
       "\t<tr><td>albury                               </td><td>Murder accessory, conspiracy         </td><td>  0                                  </td><td>6233                                 </td><td>51081                                </td><td>0.1220219                            </td></tr>\n",
       "\t<tr><td>albury                               </td><td>Manslaughter *                       </td><td>  0                                  </td><td>6233                                 </td><td>51081                                </td><td>0.1220219                            </td></tr>\n",
       "\t<tr><td>albury                               </td><td>Domestic violence related assault    </td><td>284                                  </td><td>6233                                 </td><td>51081                                </td><td>0.1220219                            </td></tr>\n",
       "\t<tr><td>albury                               </td><td>Non-domestic violence related assault</td><td>296                                  </td><td>6233                                 </td><td>51081                                </td><td>0.1220219                            </td></tr>\n",
       "</tbody>\n",
       "</table>\n"
      ],
      "text/latex": [
       "\\begin{tabular}{r|llllll}\n",
       " LGA & Offence & Crim\\_Count & crime\\_tot\\_per\\_lga & pop\\_total & crime\\_rate\\_per\\_lga\\\\\n",
       "\\hline\n",
       "\t albury                                & Murder *                              &   2                                   & 6233                                  & 51081                                 & 0.1220219                            \\\\\n",
       "\t albury                                & Attempted murder                      &   1                                   & 6233                                  & 51081                                 & 0.1220219                            \\\\\n",
       "\t albury                                & Murder accessory, conspiracy          &   0                                   & 6233                                  & 51081                                 & 0.1220219                            \\\\\n",
       "\t albury                                & Manslaughter *                        &   0                                   & 6233                                  & 51081                                 & 0.1220219                            \\\\\n",
       "\t albury                                & Domestic violence related assault     & 284                                   & 6233                                  & 51081                                 & 0.1220219                            \\\\\n",
       "\t albury                                & Non-domestic violence related assault & 296                                   & 6233                                  & 51081                                 & 0.1220219                            \\\\\n",
       "\\end{tabular}\n"
      ],
      "text/markdown": [
       "\n",
       "| LGA | Offence | Crim_Count | crime_tot_per_lga | pop_total | crime_rate_per_lga |\n",
       "|---|---|---|---|---|---|\n",
       "| albury                                | Murder *                              |   2                                   | 6233                                  | 51081                                 | 0.1220219                             |\n",
       "| albury                                | Attempted murder                      |   1                                   | 6233                                  | 51081                                 | 0.1220219                             |\n",
       "| albury                                | Murder accessory, conspiracy          |   0                                   | 6233                                  | 51081                                 | 0.1220219                             |\n",
       "| albury                                | Manslaughter *                        |   0                                   | 6233                                  | 51081                                 | 0.1220219                             |\n",
       "| albury                                | Domestic violence related assault     | 284                                   | 6233                                  | 51081                                 | 0.1220219                             |\n",
       "| albury                                | Non-domestic violence related assault | 296                                   | 6233                                  | 51081                                 | 0.1220219                             |\n",
       "\n"
      ],
      "text/plain": [
       "  LGA    Offence                               Crim_Count crime_tot_per_lga\n",
       "1 albury Murder *                                2        6233             \n",
       "2 albury Attempted murder                        1        6233             \n",
       "3 albury Murder accessory, conspiracy            0        6233             \n",
       "4 albury Manslaughter *                          0        6233             \n",
       "5 albury Domestic violence related assault     284        6233             \n",
       "6 albury Non-domestic violence related assault 296        6233             \n",
       "  pop_total crime_rate_per_lga\n",
       "1 51081     0.1220219         \n",
       "2 51081     0.1220219         \n",
       "3 51081     0.1220219         \n",
       "4 51081     0.1220219         \n",
       "5 51081     0.1220219         \n",
       "6 51081     0.1220219         "
      ]
     },
     "metadata": {},
     "output_type": "display_data"
    }
   ],
   "source": [
    "head(input_data$crime)"
   ]
  }
 ],
 "metadata": {
  "kernelspec": {
   "display_name": "R",
   "language": "R",
   "name": "ir"
  },
  "language_info": {
   "codemirror_mode": "r",
   "file_extension": ".r",
   "mimetype": "text/x-r-source",
   "name": "R",
   "pygments_lexer": "r",
   "version": "3.5.3"
  }
 },
 "nbformat": 4,
 "nbformat_minor": 2
}
